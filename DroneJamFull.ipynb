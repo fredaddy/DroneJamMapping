{
 "cells": [
  {
   "cell_type": "code",
   "execution_count": null,
   "id": "cf1b332f-f144-4c6a-a3f5-81fd4b218b07",
   "metadata": {},
   "outputs": [],
   "source": [
    "from stable_baselines3 import PPO\n",
    "from DroneJammingEnv import DroneJammingEnv\n",
    "import numpy as np\n",
    "\n",
    "# Create the environment\n",
    "env = DroneJammingEnv()\n",
    "\n",
    "# Initialize the PPO agent\n",
    "model = PPO(\"MlpPolicy\", env, verbose=1)\n",
    "\n",
    "# Train the model\n",
    "total_timesteps = 1000\n",
    "model.learn(total_timesteps=total_timesteps)\n",
    "\n",
    "# Save the model\n",
    "model.save(\"ppo_drone\")\n",
    "\n",
    "# Load the model\n",
    "model = PPO.load(\"ppo_drone\")\n",
    "\n",
    "# Evaluate the model\n",
    "num_episodes = 10\n",
    "for episode in range(num_episodes):\n",
    "    obs = env.reset()\n",
    "    done = False\n",
    "    ep_reward = 0\n",
    "    ep_length = 0\n",
    "    while not done:\n",
    "        action, _ = model.predict(obs, deterministic=True)\n",
    "        obs, reward, done, info = env.step(action)\n",
    "        ep_reward += reward\n",
    "        ep_length += 1\n",
    "        env.render()\n",
    "    \n",
    "    print(f\"Episode {episode + 1}: Reward = {ep_reward}, Length = {ep_length}\")\n",
    "\n",
    "env.close()"
   ]
  },
  {
   "cell_type": "code",
   "execution_count": 1,
   "id": "5fd39658-6ee9-48ad-bbcf-41d1fa65c9cf",
   "metadata": {},
   "outputs": [],
   "source": [
    "import numpy as np"
   ]
  },
  {
   "cell_type": "code",
   "execution_count": 10,
   "id": "d64b1b0e-9d94-45f0-8410-f50a0e28b74a",
   "metadata": {},
   "outputs": [
    {
     "data": {
      "text/plain": [
       "array([14.29711091, 11.03475983,  8.24526661])"
      ]
     },
     "execution_count": 10,
     "metadata": {},
     "output_type": "execute_result"
    }
   ],
   "source": [
    "np.random.rand(3) * 10 + 5"
   ]
  },
  {
   "cell_type": "code",
   "execution_count": null,
   "id": "3dd07446-fe5d-4002-9fc7-269f7e02642e",
   "metadata": {},
   "outputs": [],
   "source": []
  }
 ],
 "metadata": {
  "kernelspec": {
   "display_name": "Python 3 (ipykernel)",
   "language": "python",
   "name": "python3"
  },
  "language_info": {
   "codemirror_mode": {
    "name": "ipython",
    "version": 3
   },
   "file_extension": ".py",
   "mimetype": "text/x-python",
   "name": "python",
   "nbconvert_exporter": "python",
   "pygments_lexer": "ipython3",
   "version": "3.10.8"
  }
 },
 "nbformat": 4,
 "nbformat_minor": 5
}
