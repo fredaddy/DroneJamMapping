{
 "cells": [
  {
   "cell_type": "code",
   "execution_count": null,
   "id": "cf1b332f-f144-4c6a-a3f5-81fd4b218b07",
   "metadata": {},
   "outputs": [],
   "source": [
    "from stable_baselines3 import PPO\n",
    "from DroneJamEnvFull import DroneJammingEnv\n",
    "import numpy as np\n",
    "import tqdm\n",
    "\n",
    "# Create the environment\n",
    "env = DroneJammingEnv()\n",
    "\n",
    "# Initialize the PPO agent\n",
    "model = PPO(\"MlpPolicy\", env, verbose=1, n_steps=256)\n",
    "\n",
    "# Train the model\n",
    "total_timesteps = 1e5\n",
    "model.learn(total_timesteps=total_timesteps, progress_bar=True)\n",
    "\n",
    "# Save the model\n",
    "model.save(\"ppo_drone\")\n",
    "\n",
    "# Load the model\n",
    "model = PPO.load(\"ppo_drone\")\n",
    "\n",
    "print(\"done training\")\n",
    "# Evaluate the model\n",
    "num_episodes = 10\n",
    "for episode in range(num_episodes):\n",
    "    obs = env.reset()\n",
    "    done = False\n",
    "    ep_reward = 0\n",
    "    ep_length = 0\n",
    "    while not done:\n",
    "        action, _ = model.predict(obs, deterministic=True)\n",
    "        obs, reward, done, info = env.step(action)\n",
    "        ep_reward += reward\n",
    "        ep_length += 1\n",
    "        env.render()\n",
    "    \n",
    "    print(f\"Episode {episode + 1}: Reward = {ep_reward}, Length = {ep_length}\")\n",
    "\n",
    "env.close()"
   ]
  },
  {
   "cell_type": "code",
   "execution_count": null,
   "id": "d27423bf-9c7a-415a-8226-af6c9f758006",
   "metadata": {},
   "outputs": [],
   "source": []
  }
 ],
 "metadata": {
  "kernelspec": {
   "display_name": "Python 3 (ipykernel)",
   "language": "python",
   "name": "python3"
  },
  "language_info": {
   "codemirror_mode": {
    "name": "ipython",
    "version": 3
   },
   "file_extension": ".py",
   "mimetype": "text/x-python",
   "name": "python",
   "nbconvert_exporter": "python",
   "pygments_lexer": "ipython3",
   "version": "3.10.8"
  }
 },
 "nbformat": 4,
 "nbformat_minor": 5
}
