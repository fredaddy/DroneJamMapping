{
 "cells": [
  {
   "cell_type": "code",
   "execution_count": null,
   "id": "cf1b332f-f144-4c6a-a3f5-81fd4b218b07",
   "metadata": {},
   "outputs": [
    {
     "name": "stdout",
     "output_type": "stream",
     "text": [
      "Using cpu device\n",
      "Wrapping the env with a `Monitor` wrapper\n",
      "Wrapping the env in a DummyVecEnv.\n"
     ]
    },
    {
     "name": "stderr",
     "output_type": "stream",
     "text": [
      "C:\\Users\\Samuel Chian\\AppData\\Local\\Programs\\Python\\Python310\\lib\\site-packages\\stable_baselines3\\common\\vec_env\\patch_gym.py:49: UserWarning: You provided an OpenAI Gym environment. We strongly recommend transitioning to Gymnasium environments. Stable-Baselines3 is automatically wrapping your environments in a compatibility layer, which could potentially cause issues.\n",
      "  warnings.warn(\n"
     ]
    },
    {
     "data": {
      "application/vnd.jupyter.widget-view+json": {
       "model_id": "d2135e48e0e048088b1042e4a16ce576",
       "version_major": 2,
       "version_minor": 0
      },
      "text/plain": [
       "Output()"
      ]
     },
     "metadata": {},
     "output_type": "display_data"
    },
    {
     "data": {
      "text/html": [
       "<pre style=\"white-space:pre;overflow-x:auto;line-height:normal;font-family:Menlo,'DejaVu Sans Mono',consolas,'Courier New',monospace\">action:  [-0.19737074  0.81013376  1.          1.        ]\n",
       "</pre>\n"
      ],
      "text/plain": [
       "action:  [-0.19737074  0.81013376  1.          1.        ]\n"
      ]
     },
     "metadata": {},
     "output_type": "display_data"
    },
    {
     "data": {
      "text/html": [
       "<pre style=\"white-space:pre;overflow-x:auto;line-height:normal;font-family:Menlo,'DejaVu Sans Mono',consolas,'Courier New',monospace\">position:  (0.2305262241219807, 0.3459754144453454, 0.2920321243768479)\n",
       "</pre>\n"
      ],
      "text/plain": [
       "position:  (0.2305262241219807, 0.3459754144453454, 0.2920321243768479)\n"
      ]
     },
     "metadata": {},
     "output_type": "display_data"
    },
    {
     "data": {
      "text/html": [
       "<pre style=\"white-space:pre;overflow-x:auto;line-height:normal;font-family:Menlo,'DejaVu Sans Mono',consolas,'Courier New',monospace\">jammer pos:  [10.2299043  12.30450941  5.76251045]\n",
       "</pre>\n"
      ],
      "text/plain": [
       "jammer pos:  [10.2299043  12.30450941  5.76251045]\n"
      ]
     },
     "metadata": {},
     "output_type": "display_data"
    },
    {
     "data": {
      "text/html": [
       "<pre style=\"white-space:pre;overflow-x:auto;line-height:normal;font-family:Menlo,'DejaVu Sans Mono',consolas,'Courier New',monospace\">dist:  16.520297523157545\n",
       "</pre>\n"
      ],
      "text/plain": [
       "dist:  16.520297523157545\n"
      ]
     },
     "metadata": {},
     "output_type": "display_data"
    },
    {
     "data": {
      "text/html": [
       "<pre style=\"white-space:pre;overflow-x:auto;line-height:normal;font-family:Menlo,'DejaVu Sans Mono',consolas,'Courier New',monospace\">action:  [ 0.90188146  0.36254635 -1.          1.        ]\n",
       "</pre>\n"
      ],
      "text/plain": [
       "action:  [ 0.90188146  0.36254635 -1.          1.        ]\n"
      ]
     },
     "metadata": {},
     "output_type": "display_data"
    },
    {
     "data": {
      "text/html": [
       "<pre style=\"white-space:pre;overflow-x:auto;line-height:normal;font-family:Menlo,'DejaVu Sans Mono',consolas,'Courier New',monospace\">position:  (0.06672576162129354, 0.06761658163135303, 0.11242668135583528)\n",
       "</pre>\n"
      ],
      "text/plain": [
       "position:  (0.06672576162129354, 0.06761658163135303, 0.11242668135583528)\n"
      ]
     },
     "metadata": {},
     "output_type": "display_data"
    },
    {
     "data": {
      "text/html": [
       "<pre style=\"white-space:pre;overflow-x:auto;line-height:normal;font-family:Menlo,'DejaVu Sans Mono',consolas,'Courier New',monospace\">jammer pos:  [10.2299043  12.30450941  5.76251045]\n",
       "</pre>\n"
      ],
      "text/plain": [
       "jammer pos:  [10.2299043  12.30450941  5.76251045]\n"
      ]
     },
     "metadata": {},
     "output_type": "display_data"
    },
    {
     "data": {
      "text/html": [
       "<pre style=\"white-space:pre;overflow-x:auto;line-height:normal;font-family:Menlo,'DejaVu Sans Mono',consolas,'Courier New',monospace\">dist:  16.880615824143366\n",
       "</pre>\n"
      ],
      "text/plain": [
       "dist:  16.880615824143366\n"
      ]
     },
     "metadata": {},
     "output_type": "display_data"
    },
    {
     "name": "stdout",
     "output_type": "stream",
     "text": [
      "----------------------------------\n",
      "| rollout/           |           |\n",
      "|    ep_len_mean     | 32        |\n",
      "|    ep_rew_mean     | -1.02e+06 |\n",
      "| time/              |           |\n",
      "|    fps             | 93        |\n",
      "|    iterations      | 1         |\n",
      "|    time_elapsed    | 0         |\n",
      "|    total_timesteps | 64        |\n",
      "----------------------------------\n"
     ]
    },
    {
     "data": {
      "text/html": [
       "<pre style=\"white-space:pre;overflow-x:auto;line-height:normal;font-family:Menlo,'DejaVu Sans Mono',consolas,'Courier New',monospace\">action:  [-0.33755532  0.01373661 -0.12796235  1.        ]\n",
       "</pre>\n"
      ],
      "text/plain": [
       "action:  [-0.33755532  0.01373661 -0.12796235  1.        ]\n"
      ]
     },
     "metadata": {},
     "output_type": "display_data"
    },
    {
     "data": {
      "text/html": [
       "<pre style=\"white-space:pre;overflow-x:auto;line-height:normal;font-family:Menlo,'DejaVu Sans Mono',consolas,'Courier New',monospace\">position:  (0.13632508021878878, 0.1467100326951803, 0.18568194338565028)\n",
       "</pre>\n"
      ],
      "text/plain": [
       "position:  (0.13632508021878878, 0.1467100326951803, 0.18568194338565028)\n"
      ]
     },
     "metadata": {},
     "output_type": "display_data"
    },
    {
     "data": {
      "text/html": [
       "<pre style=\"white-space:pre;overflow-x:auto;line-height:normal;font-family:Menlo,'DejaVu Sans Mono',consolas,'Courier New',monospace\">jammer pos:  [10.2299043  12.30450941  5.76251045]\n",
       "</pre>\n"
      ],
      "text/plain": [
       "jammer pos:  [10.2299043  12.30450941  5.76251045]\n"
      ]
     },
     "metadata": {},
     "output_type": "display_data"
    },
    {
     "data": {
      "text/html": [
       "<pre style=\"white-space:pre;overflow-x:auto;line-height:normal;font-family:Menlo,'DejaVu Sans Mono',consolas,'Courier New',monospace\">dist:  16.75689241091559\n",
       "</pre>\n"
      ],
      "text/plain": [
       "dist:  16.75689241091559\n"
      ]
     },
     "metadata": {},
     "output_type": "display_data"
    },
    {
     "data": {
      "text/html": [
       "<pre style=\"white-space:pre;overflow-x:auto;line-height:normal;font-family:Menlo,'DejaVu Sans Mono',consolas,'Courier New',monospace\">action:  [-0.507285   -0.05696841  0.2504585   1.        ]\n",
       "</pre>\n"
      ],
      "text/plain": [
       "action:  [-0.507285   -0.05696841  0.2504585   1.        ]\n"
      ]
     },
     "metadata": {},
     "output_type": "display_data"
    },
    {
     "data": {
      "text/html": [
       "<pre style=\"white-space:pre;overflow-x:auto;line-height:normal;font-family:Menlo,'DejaVu Sans Mono',consolas,'Courier New',monospace\">position:  (0.08600698656741634, 0.07968641698817752, 0.14061386267229084)\n",
       "</pre>\n"
      ],
      "text/plain": [
       "position:  (0.08600698656741634, 0.07968641698817752, 0.14061386267229084)\n"
      ]
     },
     "metadata": {},
     "output_type": "display_data"
    },
    {
     "data": {
      "text/html": [
       "<pre style=\"white-space:pre;overflow-x:auto;line-height:normal;font-family:Menlo,'DejaVu Sans Mono',consolas,'Courier New',monospace\">jammer pos:  [10.2299043  12.30450941  5.76251045]\n",
       "</pre>\n"
      ],
      "text/plain": [
       "jammer pos:  [10.2299043  12.30450941  5.76251045]\n"
      ]
     },
     "metadata": {},
     "output_type": "display_data"
    },
    {
     "data": {
      "text/html": [
       "<pre style=\"white-space:pre;overflow-x:auto;line-height:normal;font-family:Menlo,'DejaVu Sans Mono',consolas,'Courier New',monospace\">dist:  16.850835916006492\n",
       "</pre>\n"
      ],
      "text/plain": [
       "dist:  16.850835916006492\n"
      ]
     },
     "metadata": {},
     "output_type": "display_data"
    },
    {
     "name": "stdout",
     "output_type": "stream",
     "text": [
      "-------------------------------------------\n",
      "| rollout/                |               |\n",
      "|    ep_len_mean          | 30.8          |\n",
      "|    ep_rew_mean          | -1.02e+06     |\n",
      "| time/                   |               |\n",
      "|    fps                  | 85            |\n",
      "|    iterations           | 2             |\n",
      "|    time_elapsed         | 1             |\n",
      "|    total_timesteps      | 128           |\n",
      "| train/                  |               |\n",
      "|    approx_kl            | 1.0244548e-08 |\n",
      "|    clip_fraction        | 0             |\n",
      "|    clip_range           | 0.2           |\n",
      "|    entropy_loss         | -5.68         |\n",
      "|    explained_variance   | 0             |\n",
      "|    learning_rate        | 0.0003        |\n",
      "|    loss                 | 1.32e+11      |\n",
      "|    n_updates            | 10            |\n",
      "|    policy_gradient_loss | -2.2e-05      |\n",
      "|    std                  | 1             |\n",
      "|    value_loss           | 2.64e+11      |\n",
      "-------------------------------------------\n"
     ]
    },
    {
     "data": {
      "text/html": [
       "<pre style=\"white-space:pre;overflow-x:auto;line-height:normal;font-family:Menlo,'DejaVu Sans Mono',consolas,'Courier New',monospace\">action:  [-1.  1.  1.  1.]\n",
       "</pre>\n"
      ],
      "text/plain": [
       "action:  [-1.  1.  1.  1.]\n"
      ]
     },
     "metadata": {},
     "output_type": "display_data"
    },
    {
     "data": {
      "text/html": [
       "<pre style=\"white-space:pre;overflow-x:auto;line-height:normal;font-family:Menlo,'DejaVu Sans Mono',consolas,'Courier New',monospace\">position:  (0.09596890015675204, 0.06649370001577132, 0.12744975545508816)\n",
       "</pre>\n"
      ],
      "text/plain": [
       "position:  (0.09596890015675204, 0.06649370001577132, 0.12744975545508816)\n"
      ]
     },
     "metadata": {},
     "output_type": "display_data"
    },
    {
     "data": {
      "text/html": [
       "<pre style=\"white-space:pre;overflow-x:auto;line-height:normal;font-family:Menlo,'DejaVu Sans Mono',consolas,'Courier New',monospace\">jammer pos:  [10.2299043  12.30450941  5.76251045]\n",
       "</pre>\n"
      ],
      "text/plain": [
       "jammer pos:  [10.2299043  12.30450941  5.76251045]\n"
      ]
     },
     "metadata": {},
     "output_type": "display_data"
    },
    {
     "data": {
      "text/html": [
       "<pre style=\"white-space:pre;overflow-x:auto;line-height:normal;font-family:Menlo,'DejaVu Sans Mono',consolas,'Courier New',monospace\">dist:  16.858813248589048\n",
       "</pre>\n"
      ],
      "text/plain": [
       "dist:  16.858813248589048\n"
      ]
     },
     "metadata": {},
     "output_type": "display_data"
    },
    {
     "data": {
      "text/html": [
       "<pre style=\"white-space:pre;overflow-x:auto;line-height:normal;font-family:Menlo,'DejaVu Sans Mono',consolas,'Courier New',monospace\">action:  [0.5174273  0.40636247 1.         1.        ]\n",
       "</pre>\n"
      ],
      "text/plain": [
       "action:  [0.5174273  0.40636247 1.         1.        ]\n"
      ]
     },
     "metadata": {},
     "output_type": "display_data"
    },
    {
     "data": {
      "text/html": [
       "<pre style=\"white-space:pre;overflow-x:auto;line-height:normal;font-family:Menlo,'DejaVu Sans Mono',consolas,'Courier New',monospace\">position:  (0.1003259223107342, 0.13606065466023154, 0.14176018664979356)\n",
       "</pre>\n"
      ],
      "text/plain": [
       "position:  (0.1003259223107342, 0.13606065466023154, 0.14176018664979356)\n"
      ]
     },
     "metadata": {},
     "output_type": "display_data"
    },
    {
     "data": {
      "text/html": [
       "<pre style=\"white-space:pre;overflow-x:auto;line-height:normal;font-family:Menlo,'DejaVu Sans Mono',consolas,'Courier New',monospace\">jammer pos:  [10.2299043  12.30450941  5.76251045]\n",
       "</pre>\n"
      ],
      "text/plain": [
       "jammer pos:  [10.2299043  12.30450941  5.76251045]\n"
      ]
     },
     "metadata": {},
     "output_type": "display_data"
    },
    {
     "data": {
      "text/html": [
       "<pre style=\"white-space:pre;overflow-x:auto;line-height:normal;font-family:Menlo,'DejaVu Sans Mono',consolas,'Courier New',monospace\">dist:  16.80096237297764\n",
       "</pre>\n"
      ],
      "text/plain": [
       "dist:  16.80096237297764\n"
      ]
     },
     "metadata": {},
     "output_type": "display_data"
    },
    {
     "name": "stdout",
     "output_type": "stream",
     "text": [
      "---------------------------------------\n",
      "| rollout/                |           |\n",
      "|    ep_len_mean          | 29.5      |\n",
      "|    ep_rew_mean          | -1.02e+06 |\n",
      "| time/                   |           |\n",
      "|    fps                  | 97        |\n",
      "|    iterations           | 3         |\n",
      "|    time_elapsed         | 1         |\n",
      "|    total_timesteps      | 192       |\n",
      "| train/                  |           |\n",
      "|    approx_kl            | 0.0       |\n",
      "|    clip_fraction        | 0         |\n",
      "|    clip_range           | 0.2       |\n",
      "|    entropy_loss         | -5.68     |\n",
      "|    explained_variance   | 2.38e-07  |\n",
      "|    learning_rate        | 0.0003    |\n",
      "|    loss                 | 1.33e+11  |\n",
      "|    n_updates            | 20        |\n",
      "|    policy_gradient_loss | -4.52e-06 |\n",
      "|    std                  | 1         |\n",
      "|    value_loss           | 2.65e+11  |\n",
      "---------------------------------------\n"
     ]
    },
    {
     "data": {
      "text/html": [
       "<pre style=\"white-space:pre;overflow-x:auto;line-height:normal;font-family:Menlo,'DejaVu Sans Mono',consolas,'Courier New',monospace\">action:  [-1.         -0.8903775  -0.36917835  1.        ]\n",
       "</pre>\n"
      ],
      "text/plain": [
       "action:  [-1.         -0.8903775  -0.36917835  1.        ]\n"
      ]
     },
     "metadata": {},
     "output_type": "display_data"
    },
    {
     "data": {
      "text/html": [
       "<pre style=\"white-space:pre;overflow-x:auto;line-height:normal;font-family:Menlo,'DejaVu Sans Mono',consolas,'Courier New',monospace\">position:  (0.06331344288467516, 0.03622476112895804, 0.11191051832109203)\n",
       "</pre>\n"
      ],
      "text/plain": [
       "position:  (0.06331344288467516, 0.03622476112895804, 0.11191051832109203)\n"
      ]
     },
     "metadata": {},
     "output_type": "display_data"
    },
    {
     "data": {
      "text/html": [
       "<pre style=\"white-space:pre;overflow-x:auto;line-height:normal;font-family:Menlo,'DejaVu Sans Mono',consolas,'Courier New',monospace\">jammer pos:  [10.2299043  12.30450941  5.76251045]\n",
       "</pre>\n"
      ],
      "text/plain": [
       "jammer pos:  [10.2299043  12.30450941  5.76251045]\n"
      ]
     },
     "metadata": {},
     "output_type": "display_data"
    },
    {
     "data": {
      "text/html": [
       "<pre style=\"white-space:pre;overflow-x:auto;line-height:normal;font-family:Menlo,'DejaVu Sans Mono',consolas,'Courier New',monospace\">dist:  16.90561023397178\n",
       "</pre>\n"
      ],
      "text/plain": [
       "dist:  16.90561023397178\n"
      ]
     },
     "metadata": {},
     "output_type": "display_data"
    },
    {
     "data": {
      "text/html": [
       "<pre style=\"white-space:pre;overflow-x:auto;line-height:normal;font-family:Menlo,'DejaVu Sans Mono',consolas,'Courier New',monospace\">action:  [-0.5622066  -0.5216444  -0.37995717  1.        ]\n",
       "</pre>\n"
      ],
      "text/plain": [
       "action:  [-0.5622066  -0.5216444  -0.37995717  1.        ]\n"
      ]
     },
     "metadata": {},
     "output_type": "display_data"
    },
    {
     "data": {
      "text/html": [
       "<pre style=\"white-space:pre;overflow-x:auto;line-height:normal;font-family:Menlo,'DejaVu Sans Mono',consolas,'Courier New',monospace\">position:  (0.12408916891651385, 0.09872426547662232, 0.16285590173015854)\n",
       "</pre>\n"
      ],
      "text/plain": [
       "position:  (0.12408916891651385, 0.09872426547662232, 0.16285590173015854)\n"
      ]
     },
     "metadata": {},
     "output_type": "display_data"
    },
    {
     "data": {
      "text/html": [
       "<pre style=\"white-space:pre;overflow-x:auto;line-height:normal;font-family:Menlo,'DejaVu Sans Mono',consolas,'Courier New',monospace\">jammer pos:  [10.2299043  12.30450941  5.76251045]\n",
       "</pre>\n"
      ],
      "text/plain": [
       "jammer pos:  [10.2299043  12.30450941  5.76251045]\n"
      ]
     },
     "metadata": {},
     "output_type": "display_data"
    },
    {
     "data": {
      "text/html": [
       "<pre style=\"white-space:pre;overflow-x:auto;line-height:normal;font-family:Menlo,'DejaVu Sans Mono',consolas,'Courier New',monospace\">dist:  16.80668978209415\n",
       "</pre>\n"
      ],
      "text/plain": [
       "dist:  16.80668978209415\n"
      ]
     },
     "metadata": {},
     "output_type": "display_data"
    },
    {
     "name": "stdout",
     "output_type": "stream",
     "text": [
      "------------------------------------------\n",
      "| rollout/                |              |\n",
      "|    ep_len_mean          | 28.4         |\n",
      "|    ep_rew_mean          | -1.02e+06    |\n",
      "| time/                   |              |\n",
      "|    fps                  | 104          |\n",
      "|    iterations           | 4            |\n",
      "|    time_elapsed         | 2            |\n",
      "|    total_timesteps      | 256          |\n",
      "| train/                  |              |\n",
      "|    approx_kl            | 9.313226e-10 |\n",
      "|    clip_fraction        | 0            |\n",
      "|    clip_range           | 0.2          |\n",
      "|    entropy_loss         | -5.68        |\n",
      "|    explained_variance   | 1.19e-07     |\n",
      "|    learning_rate        | 0.0003       |\n",
      "|    loss                 | 1.29e+11     |\n",
      "|    n_updates            | 30           |\n",
      "|    policy_gradient_loss | -6.79e-06    |\n",
      "|    std                  | 1            |\n",
      "|    value_loss           | 2.59e+11     |\n",
      "------------------------------------------\n"
     ]
    },
    {
     "data": {
      "text/html": [
       "<pre style=\"white-space:pre;overflow-x:auto;line-height:normal;font-family:Menlo,'DejaVu Sans Mono',consolas,'Courier New',monospace\">action:  [0.75041556 1.         0.47087598 1.        ]\n",
       "</pre>\n"
      ],
      "text/plain": [
       "action:  [0.75041556 1.         0.47087598 1.        ]\n"
      ]
     },
     "metadata": {},
     "output_type": "display_data"
    },
    {
     "data": {
      "text/html": [
       "<pre style=\"white-space:pre;overflow-x:auto;line-height:normal;font-family:Menlo,'DejaVu Sans Mono',consolas,'Courier New',monospace\">position:  (0.1702139549641352, 0.14634455811480562, 0.19842821996539892)\n",
       "</pre>\n"
      ],
      "text/plain": [
       "position:  (0.1702139549641352, 0.14634455811480562, 0.19842821996539892)\n"
      ]
     },
     "metadata": {},
     "output_type": "display_data"
    },
    {
     "data": {
      "text/html": [
       "<pre style=\"white-space:pre;overflow-x:auto;line-height:normal;font-family:Menlo,'DejaVu Sans Mono',consolas,'Courier New',monospace\">jammer pos:  [10.2299043  12.30450941  5.76251045]\n",
       "</pre>\n"
      ],
      "text/plain": [
       "jammer pos:  [10.2299043  12.30450941  5.76251045]\n"
      ]
     },
     "metadata": {},
     "output_type": "display_data"
    },
    {
     "data": {
      "text/html": [
       "<pre style=\"white-space:pre;overflow-x:auto;line-height:normal;font-family:Menlo,'DejaVu Sans Mono',consolas,'Courier New',monospace\">dist:  16.732523819799315\n",
       "</pre>\n"
      ],
      "text/plain": [
       "dist:  16.732523819799315\n"
      ]
     },
     "metadata": {},
     "output_type": "display_data"
    },
    {
     "data": {
      "text/html": [
       "<pre style=\"white-space:pre;overflow-x:auto;line-height:normal;font-family:Menlo,'DejaVu Sans Mono',consolas,'Courier New',monospace\">action:  [ 0.6513325   0.11757944 -1.          1.        ]\n",
       "</pre>\n"
      ],
      "text/plain": [
       "action:  [ 0.6513325   0.11757944 -1.          1.        ]\n"
      ]
     },
     "metadata": {},
     "output_type": "display_data"
    },
    {
     "data": {
      "text/html": [
       "<pre style=\"white-space:pre;overflow-x:auto;line-height:normal;font-family:Menlo,'DejaVu Sans Mono',consolas,'Courier New',monospace\">position:  (0.36129594120304553, 0.29260353141197415, 0.29499577748302847)\n",
       "</pre>\n"
      ],
      "text/plain": [
       "position:  (0.36129594120304553, 0.29260353141197415, 0.29499577748302847)\n"
      ]
     },
     "metadata": {},
     "output_type": "display_data"
    },
    {
     "data": {
      "text/html": [
       "<pre style=\"white-space:pre;overflow-x:auto;line-height:normal;font-family:Menlo,'DejaVu Sans Mono',consolas,'Courier New',monospace\">jammer pos:  [10.2299043  12.30450941  5.76251045]\n",
       "</pre>\n"
      ],
      "text/plain": [
       "jammer pos:  [10.2299043  12.30450941  5.76251045]\n"
      ]
     },
     "metadata": {},
     "output_type": "display_data"
    },
    {
     "data": {
      "text/html": [
       "<pre style=\"white-space:pre;overflow-x:auto;line-height:normal;font-family:Menlo,'DejaVu Sans Mono',consolas,'Courier New',monospace\">dist:  16.47935163725681\n",
       "</pre>\n"
      ],
      "text/plain": [
       "dist:  16.47935163725681\n"
      ]
     },
     "metadata": {},
     "output_type": "display_data"
    },
    {
     "name": "stdout",
     "output_type": "stream",
     "text": [
      "---------------------------------------\n",
      "| rollout/                |           |\n",
      "|    ep_len_mean          | 30.8      |\n",
      "|    ep_rew_mean          | -1.02e+06 |\n",
      "| time/                   |           |\n",
      "|    fps                  | 110       |\n",
      "|    iterations           | 5         |\n",
      "|    time_elapsed         | 2         |\n",
      "|    total_timesteps      | 320       |\n",
      "| train/                  |           |\n",
      "|    approx_kl            | 0.0       |\n",
      "|    clip_fraction        | 0         |\n",
      "|    clip_range           | 0.2       |\n",
      "|    entropy_loss         | -5.68     |\n",
      "|    explained_variance   | 1.19e-07  |\n",
      "|    learning_rate        | 0.0003    |\n",
      "|    loss                 | 1.05e+11  |\n",
      "|    n_updates            | 40        |\n",
      "|    policy_gradient_loss | -1.08e-06 |\n",
      "|    std                  | 1         |\n",
      "|    value_loss           | 2.1e+11   |\n",
      "---------------------------------------\n"
     ]
    },
    {
     "data": {
      "text/html": [
       "<pre style=\"white-space:pre;overflow-x:auto;line-height:normal;font-family:Menlo,'DejaVu Sans Mono',consolas,'Courier New',monospace\">action:  [ 0.16643347 -0.09531356 -0.35709494  1.        ]\n",
       "</pre>\n"
      ],
      "text/plain": [
       "action:  [ 0.16643347 -0.09531356 -0.35709494  1.        ]\n"
      ]
     },
     "metadata": {},
     "output_type": "display_data"
    },
    {
     "data": {
      "text/html": [
       "<pre style=\"white-space:pre;overflow-x:auto;line-height:normal;font-family:Menlo,'DejaVu Sans Mono',consolas,'Courier New',monospace\">position:  (0.1513410854469907, 0.12683799070461863, 0.15832351454138133)\n",
       "</pre>\n"
      ],
      "text/plain": [
       "position:  (0.1513410854469907, 0.12683799070461863, 0.15832351454138133)\n"
      ]
     },
     "metadata": {},
     "output_type": "display_data"
    },
    {
     "data": {
      "text/html": [
       "<pre style=\"white-space:pre;overflow-x:auto;line-height:normal;font-family:Menlo,'DejaVu Sans Mono',consolas,'Courier New',monospace\">jammer pos:  [10.2299043  12.30450941  5.76251045]\n",
       "</pre>\n"
      ],
      "text/plain": [
       "jammer pos:  [10.2299043  12.30450941  5.76251045]\n"
      ]
     },
     "metadata": {},
     "output_type": "display_data"
    },
    {
     "data": {
      "text/html": [
       "<pre style=\"white-space:pre;overflow-x:auto;line-height:normal;font-family:Menlo,'DejaVu Sans Mono',consolas,'Courier New',monospace\">dist:  16.771405092824423\n",
       "</pre>\n"
      ],
      "text/plain": [
       "dist:  16.771405092824423\n"
      ]
     },
     "metadata": {},
     "output_type": "display_data"
    },
    {
     "data": {
      "text/html": [
       "<pre style=\"white-space:pre;overflow-x:auto;line-height:normal;font-family:Menlo,'DejaVu Sans Mono',consolas,'Courier New',monospace\">action:  [-0.24983263  0.4280071   1.          1.        ]\n",
       "</pre>\n"
      ],
      "text/plain": [
       "action:  [-0.24983263  0.4280071   1.          1.        ]\n"
      ]
     },
     "metadata": {},
     "output_type": "display_data"
    },
    {
     "data": {
      "text/html": [
       "<pre style=\"white-space:pre;overflow-x:auto;line-height:normal;font-family:Menlo,'DejaVu Sans Mono',consolas,'Courier New',monospace\">position:  (0.1191064603179918, 0.08518614638253491, 0.11806643408171616)\n",
       "</pre>\n"
      ],
      "text/plain": [
       "position:  (0.1191064603179918, 0.08518614638253491, 0.11806643408171616)\n"
      ]
     },
     "metadata": {},
     "output_type": "display_data"
    },
    {
     "data": {
      "text/html": [
       "<pre style=\"white-space:pre;overflow-x:auto;line-height:normal;font-family:Menlo,'DejaVu Sans Mono',consolas,'Courier New',monospace\">jammer pos:  [10.2299043  12.30450941  5.76251045]\n",
       "</pre>\n"
      ],
      "text/plain": [
       "jammer pos:  [10.2299043  12.30450941  5.76251045]\n"
      ]
     },
     "metadata": {},
     "output_type": "display_data"
    },
    {
     "data": {
      "text/html": [
       "<pre style=\"white-space:pre;overflow-x:auto;line-height:normal;font-family:Menlo,'DejaVu Sans Mono',consolas,'Courier New',monospace\">dist:  16.834483720576497\n",
       "</pre>\n"
      ],
      "text/plain": [
       "dist:  16.834483720576497\n"
      ]
     },
     "metadata": {},
     "output_type": "display_data"
    },
    {
     "name": "stdout",
     "output_type": "stream",
     "text": [
      "------------------------------------------\n",
      "| rollout/                |              |\n",
      "|    ep_len_mean          | 30.7         |\n",
      "|    ep_rew_mean          | -1.02e+06    |\n",
      "| time/                   |              |\n",
      "|    fps                  | 113          |\n",
      "|    iterations           | 6            |\n",
      "|    time_elapsed         | 3            |\n",
      "|    total_timesteps      | 384          |\n",
      "| train/                  |              |\n",
      "|    approx_kl            | 4.656613e-09 |\n",
      "|    clip_fraction        | 0            |\n",
      "|    clip_range           | 0.2          |\n",
      "|    entropy_loss         | -5.68        |\n",
      "|    explained_variance   | 4.17e-07     |\n",
      "|    learning_rate        | 0.0003       |\n",
      "|    loss                 | 1.03e+11     |\n",
      "|    n_updates            | 50           |\n",
      "|    policy_gradient_loss | -1.71e-05    |\n",
      "|    std                  | 1            |\n",
      "|    value_loss           | 2.06e+11     |\n",
      "------------------------------------------\n"
     ]
    },
    {
     "data": {
      "text/html": [
       "<pre style=\"white-space:pre;overflow-x:auto;line-height:normal;font-family:Menlo,'DejaVu Sans Mono',consolas,'Courier New',monospace\">action:  [ 0.3795334   1.         -0.02075275  1.        ]\n",
       "</pre>\n"
      ],
      "text/plain": [
       "action:  [ 0.3795334   1.         -0.02075275  1.        ]\n"
      ]
     },
     "metadata": {},
     "output_type": "display_data"
    },
    {
     "data": {
      "text/html": [
       "<pre style=\"white-space:pre;overflow-x:auto;line-height:normal;font-family:Menlo,'DejaVu Sans Mono',consolas,'Courier New',monospace\">position:  (0.05168539239809698, 0.10100864066306411, 0.13620002461322775)\n",
       "</pre>\n"
      ],
      "text/plain": [
       "position:  (0.05168539239809698, 0.10100864066306411, 0.13620002461322775)\n"
      ]
     },
     "metadata": {},
     "output_type": "display_data"
    },
    {
     "data": {
      "text/html": [
       "<pre style=\"white-space:pre;overflow-x:auto;line-height:normal;font-family:Menlo,'DejaVu Sans Mono',consolas,'Courier New',monospace\">jammer pos:  [10.2299043  12.30450941  5.76251045]\n",
       "</pre>\n"
      ],
      "text/plain": [
       "jammer pos:  [10.2299043  12.30450941  5.76251045]\n"
      ]
     },
     "metadata": {},
     "output_type": "display_data"
    },
    {
     "data": {
      "text/html": [
       "<pre style=\"white-space:pre;overflow-x:auto;line-height:normal;font-family:Menlo,'DejaVu Sans Mono',consolas,'Courier New',monospace\">dist:  16.85754845981343\n",
       "</pre>\n"
      ],
      "text/plain": [
       "dist:  16.85754845981343\n"
      ]
     },
     "metadata": {},
     "output_type": "display_data"
    },
    {
     "data": {
      "text/html": [
       "<pre style=\"white-space:pre;overflow-x:auto;line-height:normal;font-family:Menlo,'DejaVu Sans Mono',consolas,'Courier New',monospace\">action:  [-0.27933183 -0.4233369   1.          1.        ]\n",
       "</pre>\n"
      ],
      "text/plain": [
       "action:  [-0.27933183 -0.4233369   1.          1.        ]\n"
      ]
     },
     "metadata": {},
     "output_type": "display_data"
    },
    {
     "data": {
      "text/html": [
       "<pre style=\"white-space:pre;overflow-x:auto;line-height:normal;font-family:Menlo,'DejaVu Sans Mono',consolas,'Courier New',monospace\">position:  (0.08527439294085312, 0.051022166277503264, 0.10356269267479294)\n",
       "</pre>\n"
      ],
      "text/plain": [
       "position:  (0.08527439294085312, 0.051022166277503264, 0.10356269267479294)\n"
      ]
     },
     "metadata": {},
     "output_type": "display_data"
    },
    {
     "data": {
      "text/html": [
       "<pre style=\"white-space:pre;overflow-x:auto;line-height:normal;font-family:Menlo,'DejaVu Sans Mono',consolas,'Courier New',monospace\">jammer pos:  [10.2299043  12.30450941  5.76251045]\n",
       "</pre>\n"
      ],
      "text/plain": [
       "jammer pos:  [10.2299043  12.30450941  5.76251045]\n"
      ]
     },
     "metadata": {},
     "output_type": "display_data"
    },
    {
     "data": {
      "text/html": [
       "<pre style=\"white-space:pre;overflow-x:auto;line-height:normal;font-family:Menlo,'DejaVu Sans Mono',consolas,'Courier New',monospace\">dist:  16.884464907629575\n",
       "</pre>\n"
      ],
      "text/plain": [
       "dist:  16.884464907629575\n"
      ]
     },
     "metadata": {},
     "output_type": "display_data"
    },
    {
     "data": {
      "text/html": [
       "<pre style=\"white-space:pre;overflow-x:auto;line-height:normal;font-family:Menlo,'DejaVu Sans Mono',consolas,'Courier New',monospace\">action:  [-0.38160703 -0.75660855  1.          1.        ]\n",
       "</pre>\n"
      ],
      "text/plain": [
       "action:  [-0.38160703 -0.75660855  1.          1.        ]\n"
      ]
     },
     "metadata": {},
     "output_type": "display_data"
    },
    {
     "data": {
      "text/html": [
       "<pre style=\"white-space:pre;overflow-x:auto;line-height:normal;font-family:Menlo,'DejaVu Sans Mono',consolas,'Courier New',monospace\">position:  (0.07673831103743119, 0.07937292852226907, 0.13225539424496138)\n",
       "</pre>\n"
      ],
      "text/plain": [
       "position:  (0.07673831103743119, 0.07937292852226907, 0.13225539424496138)\n"
      ]
     },
     "metadata": {},
     "output_type": "display_data"
    },
    {
     "data": {
      "text/html": [
       "<pre style=\"white-space:pre;overflow-x:auto;line-height:normal;font-family:Menlo,'DejaVu Sans Mono',consolas,'Courier New',monospace\">jammer pos:  [10.2299043  12.30450941  5.76251045]\n",
       "</pre>\n"
      ],
      "text/plain": [
       "jammer pos:  [10.2299043  12.30450941  5.76251045]\n"
      ]
     },
     "metadata": {},
     "output_type": "display_data"
    },
    {
     "data": {
      "text/html": [
       "<pre style=\"white-space:pre;overflow-x:auto;line-height:normal;font-family:Menlo,'DejaVu Sans Mono',consolas,'Courier New',monospace\">dist:  16.859433961338034\n",
       "</pre>\n"
      ],
      "text/plain": [
       "dist:  16.859433961338034\n"
      ]
     },
     "metadata": {},
     "output_type": "display_data"
    },
    {
     "name": "stdout",
     "output_type": "stream",
     "text": [
      "------------------------------------------\n",
      "| rollout/                |              |\n",
      "|    ep_len_mean          | 29.5         |\n",
      "|    ep_rew_mean          | -1.02e+06    |\n",
      "| time/                   |              |\n",
      "|    fps                  | 112          |\n",
      "|    iterations           | 7            |\n",
      "|    time_elapsed         | 3            |\n",
      "|    total_timesteps      | 448          |\n",
      "| train/                  |              |\n",
      "|    approx_kl            | 4.656613e-09 |\n",
      "|    clip_fraction        | 0            |\n",
      "|    clip_range           | 0.2          |\n",
      "|    entropy_loss         | -5.68        |\n",
      "|    explained_variance   | 3.58e-07     |\n",
      "|    learning_rate        | 0.0003       |\n",
      "|    loss                 | 1.29e+11     |\n",
      "|    n_updates            | 60           |\n",
      "|    policy_gradient_loss | -6.47e-06    |\n",
      "|    std                  | 1            |\n",
      "|    value_loss           | 2.58e+11     |\n",
      "------------------------------------------\n"
     ]
    },
    {
     "data": {
      "text/html": [
       "<pre style=\"white-space:pre;overflow-x:auto;line-height:normal;font-family:Menlo,'DejaVu Sans Mono',consolas,'Courier New',monospace\">action:  [ 1.          1.         -0.14254765  1.        ]\n",
       "</pre>\n"
      ],
      "text/plain": [
       "action:  [ 1.          1.         -0.14254765  1.        ]\n"
      ]
     },
     "metadata": {},
     "output_type": "display_data"
    },
    {
     "data": {
      "text/html": [
       "<pre style=\"white-space:pre;overflow-x:auto;line-height:normal;font-family:Menlo,'DejaVu Sans Mono',consolas,'Courier New',monospace\">position:  (0.20145752760923671, 0.23049223499221122, 0.23248347866294658)\n",
       "</pre>\n"
      ],
      "text/plain": [
       "position:  (0.20145752760923671, 0.23049223499221122, 0.23248347866294658)\n"
      ]
     },
     "metadata": {},
     "output_type": "display_data"
    },
    {
     "data": {
      "text/html": [
       "<pre style=\"white-space:pre;overflow-x:auto;line-height:normal;font-family:Menlo,'DejaVu Sans Mono',consolas,'Courier New',monospace\">jammer pos:  [10.2299043  12.30450941  5.76251045]\n",
       "</pre>\n"
      ],
      "text/plain": [
       "jammer pos:  [10.2299043  12.30450941  5.76251045]\n"
      ]
     },
     "metadata": {},
     "output_type": "display_data"
    },
    {
     "data": {
      "text/html": [
       "<pre style=\"white-space:pre;overflow-x:auto;line-height:normal;font-family:Menlo,'DejaVu Sans Mono',consolas,'Courier New',monospace\">dist:  16.641299036653887\n",
       "</pre>\n"
      ],
      "text/plain": [
       "dist:  16.641299036653887\n"
      ]
     },
     "metadata": {},
     "output_type": "display_data"
    },
    {
     "data": {
      "text/html": [
       "<pre style=\"white-space:pre;overflow-x:auto;line-height:normal;font-family:Menlo,'DejaVu Sans Mono',consolas,'Courier New',monospace\">action:  [0.9807728  0.5475756  0.12158913 1.        ]\n",
       "</pre>\n"
      ],
      "text/plain": [
       "action:  [0.9807728  0.5475756  0.12158913 1.        ]\n"
      ]
     },
     "metadata": {},
     "output_type": "display_data"
    },
    {
     "data": {
      "text/html": [
       "<pre style=\"white-space:pre;overflow-x:auto;line-height:normal;font-family:Menlo,'DejaVu Sans Mono',consolas,'Courier New',monospace\">position:  (0.14060750923260687, 0.08016763773082286, 0.13510808331598284)\n",
       "</pre>\n"
      ],
      "text/plain": [
       "position:  (0.14060750923260687, 0.08016763773082286, 0.13510808331598284)\n"
      ]
     },
     "metadata": {},
     "output_type": "display_data"
    },
    {
     "data": {
      "text/html": [
       "<pre style=\"white-space:pre;overflow-x:auto;line-height:normal;font-family:Menlo,'DejaVu Sans Mono',consolas,'Courier New',monospace\">jammer pos:  [10.2299043  12.30450941  5.76251045]\n",
       "</pre>\n"
      ],
      "text/plain": [
       "jammer pos:  [10.2299043  12.30450941  5.76251045]\n"
      ]
     },
     "metadata": {},
     "output_type": "display_data"
    },
    {
     "data": {
      "text/html": [
       "<pre style=\"white-space:pre;overflow-x:auto;line-height:normal;font-family:Menlo,'DejaVu Sans Mono',consolas,'Courier New',monospace\">dist:  16.819515415363828\n",
       "</pre>\n"
      ],
      "text/plain": [
       "dist:  16.819515415363828\n"
      ]
     },
     "metadata": {},
     "output_type": "display_data"
    },
    {
     "name": "stdout",
     "output_type": "stream",
     "text": [
      "------------------------------------------\n",
      "| rollout/                |              |\n",
      "|    ep_len_mean          | 29.9         |\n",
      "|    ep_rew_mean          | -1.02e+06    |\n",
      "| time/                   |              |\n",
      "|    fps                  | 114          |\n",
      "|    iterations           | 8            |\n",
      "|    time_elapsed         | 4            |\n",
      "|    total_timesteps      | 512          |\n",
      "| train/                  |              |\n",
      "|    approx_kl            | 9.313226e-09 |\n",
      "|    clip_fraction        | 0            |\n",
      "|    clip_range           | 0.2          |\n",
      "|    entropy_loss         | -5.68        |\n",
      "|    explained_variance   | 2.38e-07     |\n",
      "|    learning_rate        | 0.0003       |\n",
      "|    loss                 | 1.73e+11     |\n",
      "|    n_updates            | 70           |\n",
      "|    policy_gradient_loss | -2.31e-05    |\n",
      "|    std                  | 1            |\n",
      "|    value_loss           | 3.47e+11     |\n",
      "------------------------------------------\n"
     ]
    },
    {
     "data": {
      "text/html": [
       "<pre style=\"white-space:pre;overflow-x:auto;line-height:normal;font-family:Menlo,'DejaVu Sans Mono',consolas,'Courier New',monospace\">action:  [-0.05072087 -0.39414367 -0.30301532  1.        ]\n",
       "</pre>\n"
      ],
      "text/plain": [
       "action:  [-0.05072087 -0.39414367 -0.30301532  1.        ]\n"
      ]
     },
     "metadata": {},
     "output_type": "display_data"
    },
    {
     "data": {
      "text/html": [
       "<pre style=\"white-space:pre;overflow-x:auto;line-height:normal;font-family:Menlo,'DejaVu Sans Mono',consolas,'Courier New',monospace\">position:  (0.059534643337235904, 0.06856347847270432, 0.11749901702721044)\n",
       "</pre>\n"
      ],
      "text/plain": [
       "position:  (0.059534643337235904, 0.06856347847270432, 0.11749901702721044)\n"
      ]
     },
     "metadata": {},
     "output_type": "display_data"
    },
    {
     "data": {
      "text/html": [
       "<pre style=\"white-space:pre;overflow-x:auto;line-height:normal;font-family:Menlo,'DejaVu Sans Mono',consolas,'Courier New',monospace\">jammer pos:  [10.2299043  12.30450941  5.76251045]\n",
       "</pre>\n"
      ],
      "text/plain": [
       "jammer pos:  [10.2299043  12.30450941  5.76251045]\n"
      ]
     },
     "metadata": {},
     "output_type": "display_data"
    },
    {
     "data": {
      "text/html": [
       "<pre style=\"white-space:pre;overflow-x:auto;line-height:normal;font-family:Menlo,'DejaVu Sans Mono',consolas,'Courier New',monospace\">dist:  16.88256336533291\n",
       "</pre>\n"
      ],
      "text/plain": [
       "dist:  16.88256336533291\n"
      ]
     },
     "metadata": {},
     "output_type": "display_data"
    },
    {
     "data": {
      "text/html": [
       "<pre style=\"white-space:pre;overflow-x:auto;line-height:normal;font-family:Menlo,'DejaVu Sans Mono',consolas,'Courier New',monospace\">action:  [0.4851931  0.32915682 0.7114421  1.        ]\n",
       "</pre>\n"
      ],
      "text/plain": [
       "action:  [0.4851931  0.32915682 0.7114421  1.        ]\n"
      ]
     },
     "metadata": {},
     "output_type": "display_data"
    },
    {
     "data": {
      "text/html": [
       "<pre style=\"white-space:pre;overflow-x:auto;line-height:normal;font-family:Menlo,'DejaVu Sans Mono',consolas,'Courier New',monospace\">position:  (0.13183605887422423, 0.10910043077113106, 0.20200300788364892)\n",
       "</pre>\n"
      ],
      "text/plain": [
       "position:  (0.13183605887422423, 0.10910043077113106, 0.20200300788364892)\n"
      ]
     },
     "metadata": {},
     "output_type": "display_data"
    },
    {
     "data": {
      "text/html": [
       "<pre style=\"white-space:pre;overflow-x:auto;line-height:normal;font-family:Menlo,'DejaVu Sans Mono',consolas,'Courier New',monospace\">jammer pos:  [10.2299043  12.30450941  5.76251045]\n",
       "</pre>\n"
      ],
      "text/plain": [
       "jammer pos:  [10.2299043  12.30450941  5.76251045]\n"
      ]
     },
     "metadata": {},
     "output_type": "display_data"
    },
    {
     "data": {
      "text/html": [
       "<pre style=\"white-space:pre;overflow-x:auto;line-height:normal;font-family:Menlo,'DejaVu Sans Mono',consolas,'Courier New',monospace\">dist:  16.781484597629476\n",
       "</pre>\n"
      ],
      "text/plain": [
       "dist:  16.781484597629476\n"
      ]
     },
     "metadata": {},
     "output_type": "display_data"
    },
    {
     "name": "stdout",
     "output_type": "stream",
     "text": [
      "------------------------------------------\n",
      "| rollout/                |              |\n",
      "|    ep_len_mean          | 29.6         |\n",
      "|    ep_rew_mean          | -1.02e+06    |\n",
      "| time/                   |              |\n",
      "|    fps                  | 116          |\n",
      "|    iterations           | 9            |\n",
      "|    time_elapsed         | 4            |\n",
      "|    total_timesteps      | 576          |\n",
      "| train/                  |              |\n",
      "|    approx_kl            | 9.313226e-10 |\n",
      "|    clip_fraction        | 0            |\n",
      "|    clip_range           | 0.2          |\n",
      "|    entropy_loss         | -5.68        |\n",
      "|    explained_variance   | 2.98e-07     |\n",
      "|    learning_rate        | 0.0003       |\n",
      "|    loss                 | 1.33e+11     |\n",
      "|    n_updates            | 80           |\n",
      "|    policy_gradient_loss | 2.75e-07     |\n",
      "|    std                  | 1            |\n",
      "|    value_loss           | 2.65e+11     |\n",
      "------------------------------------------\n"
     ]
    },
    {
     "data": {
      "text/html": [
       "<pre style=\"white-space:pre;overflow-x:auto;line-height:normal;font-family:Menlo,'DejaVu Sans Mono',consolas,'Courier New',monospace\">action:  [-1.         -0.26649424  0.7328285   1.        ]\n",
       "</pre>\n"
      ],
      "text/plain": [
       "action:  [-1.         -0.26649424  0.7328285   1.        ]\n"
      ]
     },
     "metadata": {},
     "output_type": "display_data"
    },
    {
     "data": {
      "text/html": [
       "<pre style=\"white-space:pre;overflow-x:auto;line-height:normal;font-family:Menlo,'DejaVu Sans Mono',consolas,'Courier New',monospace\">position:  (0.0975365043196964, 0.07482065836609599, 0.14538521038879298)\n",
       "</pre>\n"
      ],
      "text/plain": [
       "position:  (0.0975365043196964, 0.07482065836609599, 0.14538521038879298)\n"
      ]
     },
     "metadata": {},
     "output_type": "display_data"
    },
    {
     "data": {
      "text/html": [
       "<pre style=\"white-space:pre;overflow-x:auto;line-height:normal;font-family:Menlo,'DejaVu Sans Mono',consolas,'Courier New',monospace\">jammer pos:  [10.2299043  12.30450941  5.76251045]\n",
       "</pre>\n"
      ],
      "text/plain": [
       "jammer pos:  [10.2299043  12.30450941  5.76251045]\n"
      ]
     },
     "metadata": {},
     "output_type": "display_data"
    },
    {
     "data": {
      "text/html": [
       "<pre style=\"white-space:pre;overflow-x:auto;line-height:normal;font-family:Menlo,'DejaVu Sans Mono',consolas,'Courier New',monospace\">dist:  16.845838061070534\n",
       "</pre>\n"
      ],
      "text/plain": [
       "dist:  16.845838061070534\n"
      ]
     },
     "metadata": {},
     "output_type": "display_data"
    },
    {
     "data": {
      "text/html": [
       "<pre style=\"white-space:pre;overflow-x:auto;line-height:normal;font-family:Menlo,'DejaVu Sans Mono',consolas,'Courier New',monospace\">action:  [-0.24596842  0.8077256   1.          1.        ]\n",
       "</pre>\n"
      ],
      "text/plain": [
       "action:  [-0.24596842  0.8077256   1.          1.        ]\n"
      ]
     },
     "metadata": {},
     "output_type": "display_data"
    },
    {
     "data": {
      "text/html": [
       "<pre style=\"white-space:pre;overflow-x:auto;line-height:normal;font-family:Menlo,'DejaVu Sans Mono',consolas,'Courier New',monospace\">position:  (0.06276637646154153, 0.055150669762211814, 0.10064735510087151)\n",
       "</pre>\n"
      ],
      "text/plain": [
       "position:  (0.06276637646154153, 0.055150669762211814, 0.10064735510087151)\n"
      ]
     },
     "metadata": {},
     "output_type": "display_data"
    },
    {
     "data": {
      "text/html": [
       "<pre style=\"white-space:pre;overflow-x:auto;line-height:normal;font-family:Menlo,'DejaVu Sans Mono',consolas,'Courier New',monospace\">jammer pos:  [10.2299043  12.30450941  5.76251045]\n",
       "</pre>\n"
      ],
      "text/plain": [
       "jammer pos:  [10.2299043  12.30450941  5.76251045]\n"
      ]
     },
     "metadata": {},
     "output_type": "display_data"
    },
    {
     "data": {
      "text/html": [
       "<pre style=\"white-space:pre;overflow-x:auto;line-height:normal;font-family:Menlo,'DejaVu Sans Mono',consolas,'Courier New',monospace\">dist:  16.895981081970458\n",
       "</pre>\n"
      ],
      "text/plain": [
       "dist:  16.895981081970458\n"
      ]
     },
     "metadata": {},
     "output_type": "display_data"
    },
    {
     "name": "stdout",
     "output_type": "stream",
     "text": [
      "---------------------------------------\n",
      "| rollout/                |           |\n",
      "|    ep_len_mean          | 29.2      |\n",
      "|    ep_rew_mean          | -1.02e+06 |\n",
      "| time/                   |           |\n",
      "|    fps                  | 116       |\n",
      "|    iterations           | 10        |\n",
      "|    time_elapsed         | 5         |\n",
      "|    total_timesteps      | 640       |\n",
      "| train/                  |           |\n",
      "|    approx_kl            | 0.0       |\n",
      "|    clip_fraction        | 0         |\n",
      "|    clip_range           | 0.2       |\n",
      "|    entropy_loss         | -5.68     |\n",
      "|    explained_variance   | 2.98e-07  |\n",
      "|    learning_rate        | 0.0003    |\n",
      "|    loss                 | 1.29e+11  |\n",
      "|    n_updates            | 90        |\n",
      "|    policy_gradient_loss | -1.79e-06 |\n",
      "|    std                  | 1         |\n",
      "|    value_loss           | 2.58e+11  |\n",
      "---------------------------------------\n"
     ]
    },
    {
     "data": {
      "text/html": [
       "<pre style=\"white-space:pre;overflow-x:auto;line-height:normal;font-family:Menlo,'DejaVu Sans Mono',consolas,'Courier New',monospace\">action:  [-0.744588   0.6582277  1.         1.       ]\n",
       "</pre>\n"
      ],
      "text/plain": [
       "action:  [-0.744588   0.6582277  1.         1.       ]\n"
      ]
     },
     "metadata": {},
     "output_type": "display_data"
    },
    {
     "data": {
      "text/html": [
       "<pre style=\"white-space:pre;overflow-x:auto;line-height:normal;font-family:Menlo,'DejaVu Sans Mono',consolas,'Courier New',monospace\">position:  (0.16304693771368767, 0.1597418640403154, 0.22777235572698076)\n",
       "</pre>\n"
      ],
      "text/plain": [
       "position:  (0.16304693771368767, 0.1597418640403154, 0.22777235572698076)\n"
      ]
     },
     "metadata": {},
     "output_type": "display_data"
    },
    {
     "data": {
      "text/html": [
       "<pre style=\"white-space:pre;overflow-x:auto;line-height:normal;font-family:Menlo,'DejaVu Sans Mono',consolas,'Courier New',monospace\">action:  [0.76200944 1.         0.37033343 1.        ]\n",
       "</pre>\n"
      ],
      "text/plain": [
       "action:  [0.76200944 1.         0.37033343 1.        ]\n"
      ]
     },
     "metadata": {},
     "output_type": "display_data"
    },
    {
     "data": {
      "text/html": [
       "<pre style=\"white-space:pre;overflow-x:auto;line-height:normal;font-family:Menlo,'DejaVu Sans Mono',consolas,'Courier New',monospace\">position:  (0.16530185327655583, 0.1423798192239756, 0.1752708853045025)\n",
       "</pre>\n"
      ],
      "text/plain": [
       "position:  (0.16530185327655583, 0.1423798192239756, 0.1752708853045025)\n"
      ]
     },
     "metadata": {},
     "output_type": "display_data"
    },
    {
     "data": {
      "text/html": [
       "<pre style=\"white-space:pre;overflow-x:auto;line-height:normal;font-family:Menlo,'DejaVu Sans Mono',consolas,'Courier New',monospace\">jammer pos:  [10.2299043  12.30450941  5.76251045]\n",
       "</pre>\n"
      ],
      "text/plain": [
       "jammer pos:  [10.2299043  12.30450941  5.76251045]\n"
      ]
     },
     "metadata": {},
     "output_type": "display_data"
    },
    {
     "data": {
      "text/html": [
       "<pre style=\"white-space:pre;overflow-x:auto;line-height:normal;font-family:Menlo,'DejaVu Sans Mono',consolas,'Courier New',monospace\">dist:  16.74607011990452\n",
       "</pre>\n"
      ],
      "text/plain": [
       "dist:  16.74607011990452\n"
      ]
     },
     "metadata": {},
     "output_type": "display_data"
    },
    {
     "name": "stdout",
     "output_type": "stream",
     "text": [
      "--------------------------------------------\n",
      "| rollout/                |                |\n",
      "|    ep_len_mean          | 29.7           |\n",
      "|    ep_rew_mean          | -1.02e+06      |\n",
      "| time/                   |                |\n",
      "|    fps                  | 118            |\n",
      "|    iterations           | 11             |\n",
      "|    time_elapsed         | 5              |\n",
      "|    total_timesteps      | 704            |\n",
      "| train/                  |                |\n",
      "|    approx_kl            | 1.21071935e-08 |\n",
      "|    clip_fraction        | 0              |\n",
      "|    clip_range           | 0.2            |\n",
      "|    entropy_loss         | -5.68          |\n",
      "|    explained_variance   | 5.96e-08       |\n",
      "|    learning_rate        | 0.0003         |\n",
      "|    loss                 | 1.22e+11       |\n",
      "|    n_updates            | 100            |\n",
      "|    policy_gradient_loss | -1.97e-05      |\n",
      "|    std                  | 1              |\n",
      "|    value_loss           | 2.44e+11       |\n",
      "--------------------------------------------\n"
     ]
    },
    {
     "data": {
      "text/html": [
       "<pre style=\"white-space:pre;overflow-x:auto;line-height:normal;font-family:Menlo,'DejaVu Sans Mono',consolas,'Courier New',monospace\">action:  [-0.41201937 -1.          0.73366666  1.        ]\n",
       "</pre>\n"
      ],
      "text/plain": [
       "action:  [-0.41201937 -1.          0.73366666  1.        ]\n"
      ]
     },
     "metadata": {},
     "output_type": "display_data"
    },
    {
     "data": {
      "text/html": [
       "<pre style=\"white-space:pre;overflow-x:auto;line-height:normal;font-family:Menlo,'DejaVu Sans Mono',consolas,'Courier New',monospace\">position:  (0.08557076975836472, 0.10564622295656946, 0.16923258391395202)\n",
       "</pre>\n"
      ],
      "text/plain": [
       "position:  (0.08557076975836472, 0.10564622295656946, 0.16923258391395202)\n"
      ]
     },
     "metadata": {},
     "output_type": "display_data"
    },
    {
     "data": {
      "text/html": [
       "<pre style=\"white-space:pre;overflow-x:auto;line-height:normal;font-family:Menlo,'DejaVu Sans Mono',consolas,'Courier New',monospace\">jammer pos:  [10.2299043  12.30450941  5.76251045]\n",
       "</pre>\n"
      ],
      "text/plain": [
       "jammer pos:  [10.2299043  12.30450941  5.76251045]\n"
      ]
     },
     "metadata": {},
     "output_type": "display_data"
    },
    {
     "data": {
      "text/html": [
       "<pre style=\"white-space:pre;overflow-x:auto;line-height:normal;font-family:Menlo,'DejaVu Sans Mono',consolas,'Courier New',monospace\">dist:  16.822738273835036\n",
       "</pre>\n"
      ],
      "text/plain": [
       "dist:  16.822738273835036\n"
      ]
     },
     "metadata": {},
     "output_type": "display_data"
    },
    {
     "data": {
      "text/html": [
       "<pre style=\"white-space:pre;overflow-x:auto;line-height:normal;font-family:Menlo,'DejaVu Sans Mono',consolas,'Courier New',monospace\">action:  [-0.8262005  1.         0.3632825  1.       ]\n",
       "</pre>\n"
      ],
      "text/plain": [
       "action:  [-0.8262005  1.         0.3632825  1.       ]\n"
      ]
     },
     "metadata": {},
     "output_type": "display_data"
    },
    {
     "data": {
      "text/html": [
       "<pre style=\"white-space:pre;overflow-x:auto;line-height:normal;font-family:Menlo,'DejaVu Sans Mono',consolas,'Courier New',monospace\">position:  (0.09264712773234743, 0.09441231001294834, 0.14011080707282414)\n",
       "</pre>\n"
      ],
      "text/plain": [
       "position:  (0.09264712773234743, 0.09441231001294834, 0.14011080707282414)\n"
      ]
     },
     "metadata": {},
     "output_type": "display_data"
    },
    {
     "data": {
      "text/html": [
       "<pre style=\"white-space:pre;overflow-x:auto;line-height:normal;font-family:Menlo,'DejaVu Sans Mono',consolas,'Courier New',monospace\">jammer pos:  [10.2299043  12.30450941  5.76251045]\n",
       "</pre>\n"
      ],
      "text/plain": [
       "jammer pos:  [10.2299043  12.30450941  5.76251045]\n"
      ]
     },
     "metadata": {},
     "output_type": "display_data"
    },
    {
     "data": {
      "text/html": [
       "<pre style=\"white-space:pre;overflow-x:auto;line-height:normal;font-family:Menlo,'DejaVu Sans Mono',consolas,'Courier New',monospace\">dist:  16.836324771943886\n",
       "</pre>\n"
      ],
      "text/plain": [
       "dist:  16.836324771943886\n"
      ]
     },
     "metadata": {},
     "output_type": "display_data"
    },
    {
     "data": {
      "text/html": [
       "<pre style=\"white-space:pre;overflow-x:auto;line-height:normal;font-family:Menlo,'DejaVu Sans Mono',consolas,'Courier New',monospace\">action:  [ 1.         -0.68633026 -0.9001662   1.        ]\n",
       "</pre>\n"
      ],
      "text/plain": [
       "action:  [ 1.         -0.68633026 -0.9001662   1.        ]\n"
      ]
     },
     "metadata": {},
     "output_type": "display_data"
    },
    {
     "data": {
      "text/html": [
       "<pre style=\"white-space:pre;overflow-x:auto;line-height:normal;font-family:Menlo,'DejaVu Sans Mono',consolas,'Courier New',monospace\">position:  (0.06953430095667909, 0.07257850199870565, 0.11872653244119226)\n",
       "</pre>\n"
      ],
      "text/plain": [
       "position:  (0.06953430095667909, 0.07257850199870565, 0.11872653244119226)\n"
      ]
     },
     "metadata": {},
     "output_type": "display_data"
    },
    {
     "data": {
      "text/html": [
       "<pre style=\"white-space:pre;overflow-x:auto;line-height:normal;font-family:Menlo,'DejaVu Sans Mono',consolas,'Courier New',monospace\">jammer pos:  [10.2299043  12.30450941  5.76251045]\n",
       "</pre>\n"
      ],
      "text/plain": [
       "jammer pos:  [10.2299043  12.30450941  5.76251045]\n"
      ]
     },
     "metadata": {},
     "output_type": "display_data"
    },
    {
     "data": {
      "text/html": [
       "<pre style=\"white-space:pre;overflow-x:auto;line-height:normal;font-family:Menlo,'DejaVu Sans Mono',consolas,'Courier New',monospace\">dist:  16.87321987877137\n",
       "</pre>\n"
      ],
      "text/plain": [
       "dist:  16.87321987877137\n"
      ]
     },
     "metadata": {},
     "output_type": "display_data"
    },
    {
     "name": "stdout",
     "output_type": "stream",
     "text": [
      "-------------------------------------------\n",
      "| rollout/                |               |\n",
      "|    ep_len_mean          | 29.2          |\n",
      "|    ep_rew_mean          | -1.02e+06     |\n",
      "| time/                   |               |\n",
      "|    fps                  | 116           |\n",
      "|    iterations           | 12            |\n",
      "|    time_elapsed         | 6             |\n",
      "|    total_timesteps      | 768           |\n",
      "| train/                  |               |\n",
      "|    approx_kl            | 2.7939677e-09 |\n",
      "|    clip_fraction        | 0             |\n",
      "|    clip_range           | 0.2           |\n",
      "|    entropy_loss         | -5.68         |\n",
      "|    explained_variance   | 5.96e-08      |\n",
      "|    learning_rate        | 0.0003        |\n",
      "|    loss                 | 1.15e+11      |\n",
      "|    n_updates            | 110           |\n",
      "|    policy_gradient_loss | 5.73e-07      |\n",
      "|    std                  | 1             |\n",
      "|    value_loss           | 2.29e+11      |\n",
      "-------------------------------------------\n"
     ]
    },
    {
     "data": {
      "text/html": [
       "<pre style=\"white-space:pre;overflow-x:auto;line-height:normal;font-family:Menlo,'DejaVu Sans Mono',consolas,'Courier New',monospace\">action:  [-1.         0.6826144  1.         1.       ]\n",
       "</pre>\n"
      ],
      "text/plain": [
       "action:  [-1.         0.6826144  1.         1.       ]\n"
      ]
     },
     "metadata": {},
     "output_type": "display_data"
    },
    {
     "data": {
      "text/html": [
       "<pre style=\"white-space:pre;overflow-x:auto;line-height:normal;font-family:Menlo,'DejaVu Sans Mono',consolas,'Courier New',monospace\">position:  (0.08661554601646182, 0.108734552073422, 0.13977057160723305)\n",
       "</pre>\n"
      ],
      "text/plain": [
       "position:  (0.08661554601646182, 0.108734552073422, 0.13977057160723305)\n"
      ]
     },
     "metadata": {},
     "output_type": "display_data"
    },
    {
     "data": {
      "text/html": [
       "<pre style=\"white-space:pre;overflow-x:auto;line-height:normal;font-family:Menlo,'DejaVu Sans Mono',consolas,'Courier New',monospace\">jammer pos:  [10.2299043  12.30450941  5.76251045]\n",
       "</pre>\n"
      ],
      "text/plain": [
       "jammer pos:  [10.2299043  12.30450941  5.76251045]\n"
      ]
     },
     "metadata": {},
     "output_type": "display_data"
    },
    {
     "data": {
      "text/html": [
       "<pre style=\"white-space:pre;overflow-x:auto;line-height:normal;font-family:Menlo,'DejaVu Sans Mono',consolas,'Courier New',monospace\">dist:  16.829689087618767\n",
       "</pre>\n"
      ],
      "text/plain": [
       "dist:  16.829689087618767\n"
      ]
     },
     "metadata": {},
     "output_type": "display_data"
    },
    {
     "data": {
      "text/html": [
       "<pre style=\"white-space:pre;overflow-x:auto;line-height:normal;font-family:Menlo,'DejaVu Sans Mono',consolas,'Courier New',monospace\">action:  [-0.6442191 -0.6393214  1.         1.       ]\n",
       "</pre>\n"
      ],
      "text/plain": [
       "action:  [-0.6442191 -0.6393214  1.         1.       ]\n"
      ]
     },
     "metadata": {},
     "output_type": "display_data"
    },
    {
     "data": {
      "text/html": [
       "<pre style=\"white-space:pre;overflow-x:auto;line-height:normal;font-family:Menlo,'DejaVu Sans Mono',consolas,'Courier New',monospace\">position:  (0.2082812507923546, 0.19473368118604287, 0.24877893021930916)\n",
       "</pre>\n"
      ],
      "text/plain": [
       "position:  (0.2082812507923546, 0.19473368118604287, 0.24877893021930916)\n"
      ]
     },
     "metadata": {},
     "output_type": "display_data"
    },
    {
     "data": {
      "text/html": [
       "<pre style=\"white-space:pre;overflow-x:auto;line-height:normal;font-family:Menlo,'DejaVu Sans Mono',consolas,'Courier New',monospace\">jammer pos:  [10.2299043  12.30450941  5.76251045]\n",
       "</pre>\n"
      ],
      "text/plain": [
       "jammer pos:  [10.2299043  12.30450941  5.76251045]\n"
      ]
     },
     "metadata": {},
     "output_type": "display_data"
    },
    {
     "data": {
      "text/html": [
       "<pre style=\"white-space:pre;overflow-x:auto;line-height:normal;font-family:Menlo,'DejaVu Sans Mono',consolas,'Courier New',monospace\">dist:  16.65775590915296\n",
       "</pre>\n"
      ],
      "text/plain": [
       "dist:  16.65775590915296\n"
      ]
     },
     "metadata": {},
     "output_type": "display_data"
    },
    {
     "name": "stdout",
     "output_type": "stream",
     "text": [
      "-------------------------------------------\n",
      "| rollout/                |               |\n",
      "|    ep_len_mean          | 29.4          |\n",
      "|    ep_rew_mean          | -1.02e+06     |\n",
      "| time/                   |               |\n",
      "|    fps                  | 116           |\n",
      "|    iterations           | 13            |\n",
      "|    time_elapsed         | 7             |\n",
      "|    total_timesteps      | 832           |\n",
      "| train/                  |               |\n",
      "|    approx_kl            | 1.3969839e-08 |\n",
      "|    clip_fraction        | 0             |\n",
      "|    clip_range           | 0.2           |\n",
      "|    entropy_loss         | -5.68         |\n",
      "|    explained_variance   | 1.19e-07      |\n",
      "|    learning_rate        | 0.0003        |\n",
      "|    loss                 | 1.66e+11      |\n",
      "|    n_updates            | 120           |\n",
      "|    policy_gradient_loss | -2.54e-05     |\n",
      "|    std                  | 1             |\n",
      "|    value_loss           | 3.31e+11      |\n",
      "-------------------------------------------\n"
     ]
    },
    {
     "data": {
      "text/html": [
       "<pre style=\"white-space:pre;overflow-x:auto;line-height:normal;font-family:Menlo,'DejaVu Sans Mono',consolas,'Courier New',monospace\">action:  [-1.         -0.79597527 -0.14962782  1.        ]\n",
       "</pre>\n"
      ],
      "text/plain": [
       "action:  [-1.         -0.79597527 -0.14962782  1.        ]\n"
      ]
     },
     "metadata": {},
     "output_type": "display_data"
    },
    {
     "data": {
      "text/html": [
       "<pre style=\"white-space:pre;overflow-x:auto;line-height:normal;font-family:Menlo,'DejaVu Sans Mono',consolas,'Courier New',monospace\">position:  (0.06797842017605102, 0.08960162828830817, 0.11741000048918286)\n",
       "</pre>\n"
      ],
      "text/plain": [
       "position:  (0.06797842017605102, 0.08960162828830817, 0.11741000048918286)\n"
      ]
     },
     "metadata": {},
     "output_type": "display_data"
    },
    {
     "data": {
      "text/html": [
       "<pre style=\"white-space:pre;overflow-x:auto;line-height:normal;font-family:Menlo,'DejaVu Sans Mono',consolas,'Courier New',monospace\">jammer pos:  [10.2299043  12.30450941  5.76251045]\n",
       "</pre>\n"
      ],
      "text/plain": [
       "jammer pos:  [10.2299043  12.30450941  5.76251045]\n"
      ]
     },
     "metadata": {},
     "output_type": "display_data"
    },
    {
     "data": {
      "text/html": [
       "<pre style=\"white-space:pre;overflow-x:auto;line-height:normal;font-family:Menlo,'DejaVu Sans Mono',consolas,'Courier New',monospace\">dist:  16.86226167219843\n",
       "</pre>\n"
      ],
      "text/plain": [
       "dist:  16.86226167219843\n"
      ]
     },
     "metadata": {},
     "output_type": "display_data"
    },
    {
     "data": {
      "text/html": [
       "<pre style=\"white-space:pre;overflow-x:auto;line-height:normal;font-family:Menlo,'DejaVu Sans Mono',consolas,'Courier New',monospace\">action:  [ 0.5277785   0.6089613  -0.42050114  1.        ]\n",
       "</pre>\n"
      ],
      "text/plain": [
       "action:  [ 0.5277785   0.6089613  -0.42050114  1.        ]\n"
      ]
     },
     "metadata": {},
     "output_type": "display_data"
    },
    {
     "data": {
      "text/html": [
       "<pre style=\"white-space:pre;overflow-x:auto;line-height:normal;font-family:Menlo,'DejaVu Sans Mono',consolas,'Courier New',monospace\">position:  (0.058674421245511435, 0.04734357930902728, 0.10731916070817929)\n",
       "</pre>\n"
      ],
      "text/plain": [
       "position:  (0.058674421245511435, 0.04734357930902728, 0.10731916070817929)\n"
      ]
     },
     "metadata": {},
     "output_type": "display_data"
    },
    {
     "data": {
      "text/html": [
       "<pre style=\"white-space:pre;overflow-x:auto;line-height:normal;font-family:Menlo,'DejaVu Sans Mono',consolas,'Courier New',monospace\">jammer pos:  [10.2299043  12.30450941  5.76251045]\n",
       "</pre>\n"
      ],
      "text/plain": [
       "jammer pos:  [10.2299043  12.30450941  5.76251045]\n"
      ]
     },
     "metadata": {},
     "output_type": "display_data"
    },
    {
     "data": {
      "text/html": [
       "<pre style=\"white-space:pre;overflow-x:auto;line-height:normal;font-family:Menlo,'DejaVu Sans Mono',consolas,'Courier New',monospace\">dist:  16.901870307144158\n",
       "</pre>\n"
      ],
      "text/plain": [
       "dist:  16.901870307144158\n"
      ]
     },
     "metadata": {},
     "output_type": "display_data"
    },
    {
     "data": {
      "text/html": [
       "<pre style=\"white-space:pre;overflow-x:auto;line-height:normal;font-family:Menlo,'DejaVu Sans Mono',consolas,'Courier New',monospace\">action:  [-0.72995925 -0.54876107  1.          1.        ]\n",
       "</pre>\n"
      ],
      "text/plain": [
       "action:  [-0.72995925 -0.54876107  1.          1.        ]\n"
      ]
     },
     "metadata": {},
     "output_type": "display_data"
    },
    {
     "data": {
      "text/html": [
       "<pre style=\"white-space:pre;overflow-x:auto;line-height:normal;font-family:Menlo,'DejaVu Sans Mono',consolas,'Courier New',monospace\">position:  (0.07046325659840451, 0.09180393099732702, 0.10957243839882186)\n",
       "</pre>\n"
      ],
      "text/plain": [
       "position:  (0.07046325659840451, 0.09180393099732702, 0.10957243839882186)\n"
      ]
     },
     "metadata": {},
     "output_type": "display_data"
    },
    {
     "data": {
      "text/html": [
       "<pre style=\"white-space:pre;overflow-x:auto;line-height:normal;font-family:Menlo,'DejaVu Sans Mono',consolas,'Courier New',monospace\">jammer pos:  [10.2299043  12.30450941  5.76251045]\n",
       "</pre>\n"
      ],
      "text/plain": [
       "jammer pos:  [10.2299043  12.30450941  5.76251045]\n"
      ]
     },
     "metadata": {},
     "output_type": "display_data"
    },
    {
     "data": {
      "text/html": [
       "<pre style=\"white-space:pre;overflow-x:auto;line-height:normal;font-family:Menlo,'DejaVu Sans Mono',consolas,'Courier New',monospace\">dist:  16.86179484835931\n",
       "</pre>\n"
      ],
      "text/plain": [
       "dist:  16.86179484835931\n"
      ]
     },
     "metadata": {},
     "output_type": "display_data"
    },
    {
     "name": "stdout",
     "output_type": "stream",
     "text": [
      "-------------------------------------------\n",
      "| rollout/                |               |\n",
      "|    ep_len_mean          | 28.9          |\n",
      "|    ep_rew_mean          | -1.02e+06     |\n",
      "| time/                   |               |\n",
      "|    fps                  | 115           |\n",
      "|    iterations           | 14            |\n",
      "|    time_elapsed         | 7             |\n",
      "|    total_timesteps      | 896           |\n",
      "| train/                  |               |\n",
      "|    approx_kl            | 2.7939677e-09 |\n",
      "|    clip_fraction        | 0             |\n",
      "|    clip_range           | 0.2           |\n",
      "|    entropy_loss         | -5.68         |\n",
      "|    explained_variance   | 1.79e-07      |\n",
      "|    learning_rate        | 0.0003        |\n",
      "|    loss                 | 1.27e+11      |\n",
      "|    n_updates            | 130           |\n",
      "|    policy_gradient_loss | 6.2e-06       |\n",
      "|    std                  | 1             |\n",
      "|    value_loss           | 2.54e+11      |\n",
      "-------------------------------------------\n"
     ]
    },
    {
     "data": {
      "text/html": [
       "<pre style=\"white-space:pre;overflow-x:auto;line-height:normal;font-family:Menlo,'DejaVu Sans Mono',consolas,'Courier New',monospace\">action:  [-0.5551     -0.34123513 -0.653142    1.        ]\n",
       "</pre>\n"
      ],
      "text/plain": [
       "action:  [-0.5551     -0.34123513 -0.653142    1.        ]\n"
      ]
     },
     "metadata": {},
     "output_type": "display_data"
    },
    {
     "data": {
      "text/html": [
       "<pre style=\"white-space:pre;overflow-x:auto;line-height:normal;font-family:Menlo,'DejaVu Sans Mono',consolas,'Courier New',monospace\">position:  (0.1506327022016149, 0.14613043744529156, 0.21759183761411144)\n",
       "</pre>\n"
      ],
      "text/plain": [
       "position:  (0.1506327022016149, 0.14613043744529156, 0.21759183761411144)\n"
      ]
     },
     "metadata": {},
     "output_type": "display_data"
    },
    {
     "data": {
      "text/html": [
       "<pre style=\"white-space:pre;overflow-x:auto;line-height:normal;font-family:Menlo,'DejaVu Sans Mono',consolas,'Courier New',monospace\">jammer pos:  [10.2299043  12.30450941  5.76251045]\n",
       "</pre>\n"
      ],
      "text/plain": [
       "jammer pos:  [10.2299043  12.30450941  5.76251045]\n"
      ]
     },
     "metadata": {},
     "output_type": "display_data"
    },
    {
     "data": {
      "text/html": [
       "<pre style=\"white-space:pre;overflow-x:auto;line-height:normal;font-family:Menlo,'DejaVu Sans Mono',consolas,'Courier New',monospace\">dist:  16.738100773811073\n",
       "</pre>\n"
      ],
      "text/plain": [
       "dist:  16.738100773811073\n"
      ]
     },
     "metadata": {},
     "output_type": "display_data"
    },
    {
     "data": {
      "text/html": [
       "<pre style=\"white-space:pre;overflow-x:auto;line-height:normal;font-family:Menlo,'DejaVu Sans Mono',consolas,'Courier New',monospace\">action:  [ 1.         -0.16366105  1.          1.        ]\n",
       "</pre>\n"
      ],
      "text/plain": [
       "action:  [ 1.         -0.16366105  1.          1.        ]\n"
      ]
     },
     "metadata": {},
     "output_type": "display_data"
    },
    {
     "data": {
      "text/html": [
       "<pre style=\"white-space:pre;overflow-x:auto;line-height:normal;font-family:Menlo,'DejaVu Sans Mono',consolas,'Courier New',monospace\">position:  (0.12913753414212395, 0.0971308016395518, 0.19258774291653855)\n",
       "</pre>\n"
      ],
      "text/plain": [
       "position:  (0.12913753414212395, 0.0971308016395518, 0.19258774291653855)\n"
      ]
     },
     "metadata": {},
     "output_type": "display_data"
    },
    {
     "data": {
      "text/html": [
       "<pre style=\"white-space:pre;overflow-x:auto;line-height:normal;font-family:Menlo,'DejaVu Sans Mono',consolas,'Courier New',monospace\">jammer pos:  [10.2299043  12.30450941  5.76251045]\n",
       "</pre>\n"
      ],
      "text/plain": [
       "jammer pos:  [10.2299043  12.30450941  5.76251045]\n"
      ]
     },
     "metadata": {},
     "output_type": "display_data"
    },
    {
     "data": {
      "text/html": [
       "<pre style=\"white-space:pre;overflow-x:auto;line-height:normal;font-family:Menlo,'DejaVu Sans Mono',consolas,'Courier New',monospace\">dist:  16.794928419689445\n",
       "</pre>\n"
      ],
      "text/plain": [
       "dist:  16.794928419689445\n"
      ]
     },
     "metadata": {},
     "output_type": "display_data"
    },
    {
     "name": "stdout",
     "output_type": "stream",
     "text": [
      "-------------------------------------------\n",
      "| rollout/                |               |\n",
      "|    ep_len_mean          | 29            |\n",
      "|    ep_rew_mean          | -1.02e+06     |\n",
      "| time/                   |               |\n",
      "|    fps                  | 116           |\n",
      "|    iterations           | 15            |\n",
      "|    time_elapsed         | 8             |\n",
      "|    total_timesteps      | 960           |\n",
      "| train/                  |               |\n",
      "|    approx_kl            | 1.0244548e-08 |\n",
      "|    clip_fraction        | 0             |\n",
      "|    clip_range           | 0.2           |\n",
      "|    entropy_loss         | -5.68         |\n",
      "|    explained_variance   | 1.79e-07      |\n",
      "|    learning_rate        | 0.0003        |\n",
      "|    loss                 | 1.89e+11      |\n",
      "|    n_updates            | 140           |\n",
      "|    policy_gradient_loss | -2.07e-05     |\n",
      "|    std                  | 1             |\n",
      "|    value_loss           | 3.78e+11      |\n",
      "-------------------------------------------\n"
     ]
    },
    {
     "data": {
      "text/html": [
       "<pre style=\"white-space:pre;overflow-x:auto;line-height:normal;font-family:Menlo,'DejaVu Sans Mono',consolas,'Courier New',monospace\">action:  [-1.          0.09350619 -0.16660734  1.        ]\n",
       "</pre>\n"
      ],
      "text/plain": [
       "action:  [-1.          0.09350619 -0.16660734  1.        ]\n"
      ]
     },
     "metadata": {},
     "output_type": "display_data"
    },
    {
     "data": {
      "text/html": [
       "<pre style=\"white-space:pre;overflow-x:auto;line-height:normal;font-family:Menlo,'DejaVu Sans Mono',consolas,'Courier New',monospace\">position:  (0.11118756322686538, 0.16266933625605123, 0.17225153468769866)\n",
       "</pre>\n"
      ],
      "text/plain": [
       "position:  (0.11118756322686538, 0.16266933625605123, 0.17225153468769866)\n"
      ]
     },
     "metadata": {},
     "output_type": "display_data"
    },
    {
     "data": {
      "text/html": [
       "<pre style=\"white-space:pre;overflow-x:auto;line-height:normal;font-family:Menlo,'DejaVu Sans Mono',consolas,'Courier New',monospace\">jammer pos:  [10.2299043  12.30450941  5.76251045]\n",
       "</pre>\n"
      ],
      "text/plain": [
       "jammer pos:  [10.2299043  12.30450941  5.76251045]\n"
      ]
     },
     "metadata": {},
     "output_type": "display_data"
    },
    {
     "data": {
      "text/html": [
       "<pre style=\"white-space:pre;overflow-x:auto;line-height:normal;font-family:Menlo,'DejaVu Sans Mono',consolas,'Courier New',monospace\">dist:  16.764954620574297\n",
       "</pre>\n"
      ],
      "text/plain": [
       "dist:  16.764954620574297\n"
      ]
     },
     "metadata": {},
     "output_type": "display_data"
    },
    {
     "data": {
      "text/html": [
       "<pre style=\"white-space:pre;overflow-x:auto;line-height:normal;font-family:Menlo,'DejaVu Sans Mono',consolas,'Courier New',monospace\">action:  [ 1. -1. -1.  1.]\n",
       "</pre>\n"
      ],
      "text/plain": [
       "action:  [ 1. -1. -1.  1.]\n"
      ]
     },
     "metadata": {},
     "output_type": "display_data"
    },
    {
     "data": {
      "text/html": [
       "<pre style=\"white-space:pre;overflow-x:auto;line-height:normal;font-family:Menlo,'DejaVu Sans Mono',consolas,'Courier New',monospace\">position:  (0.07635342018076628, 0.07784432242802992, 0.13448174190173537)\n",
       "</pre>\n"
      ],
      "text/plain": [
       "position:  (0.07635342018076628, 0.07784432242802992, 0.13448174190173537)\n"
      ]
     },
     "metadata": {},
     "output_type": "display_data"
    },
    {
     "data": {
      "text/html": [
       "<pre style=\"white-space:pre;overflow-x:auto;line-height:normal;font-family:Menlo,'DejaVu Sans Mono',consolas,'Courier New',monospace\">jammer pos:  [10.2299043  12.30450941  5.76251045]\n",
       "</pre>\n"
      ],
      "text/plain": [
       "jammer pos:  [10.2299043  12.30450941  5.76251045]\n"
      ]
     },
     "metadata": {},
     "output_type": "display_data"
    },
    {
     "data": {
      "text/html": [
       "<pre style=\"white-space:pre;overflow-x:auto;line-height:normal;font-family:Menlo,'DejaVu Sans Mono',consolas,'Courier New',monospace\">dist:  16.860030892188732\n",
       "</pre>\n"
      ],
      "text/plain": [
       "dist:  16.860030892188732\n"
      ]
     },
     "metadata": {},
     "output_type": "display_data"
    },
    {
     "name": "stdout",
     "output_type": "stream",
     "text": [
      "---------------------------------------\n",
      "| rollout/                |           |\n",
      "|    ep_len_mean          | 28.9      |\n",
      "|    ep_rew_mean          | -1.02e+06 |\n",
      "| time/                   |           |\n",
      "|    fps                  | 115       |\n",
      "|    iterations           | 16        |\n",
      "|    time_elapsed         | 8         |\n",
      "|    total_timesteps      | 1024      |\n",
      "| train/                  |           |\n",
      "|    approx_kl            | 0.0       |\n",
      "|    clip_fraction        | 0         |\n",
      "|    clip_range           | 0.2       |\n",
      "|    entropy_loss         | -5.68     |\n",
      "|    explained_variance   | 5.96e-08  |\n",
      "|    learning_rate        | 0.0003    |\n",
      "|    loss                 | 1.33e+11  |\n",
      "|    n_updates            | 150       |\n",
      "|    policy_gradient_loss | 2.23e-06  |\n",
      "|    std                  | 1         |\n",
      "|    value_loss           | 2.66e+11  |\n",
      "---------------------------------------\n"
     ]
    },
    {
     "data": {
      "text/html": [
       "<pre style=\"white-space:pre;overflow-x:auto;line-height:normal;font-family:Menlo,'DejaVu Sans Mono',consolas,'Courier New',monospace\">action:  [-0.11800694  0.18995965  0.36612082  1.        ]\n",
       "</pre>\n"
      ],
      "text/plain": [
       "action:  [-0.11800694  0.18995965  0.36612082  1.        ]\n"
      ]
     },
     "metadata": {},
     "output_type": "display_data"
    },
    {
     "data": {
      "text/html": [
       "<pre style=\"white-space:pre;overflow-x:auto;line-height:normal;font-family:Menlo,'DejaVu Sans Mono',consolas,'Courier New',monospace\">position:  (0.09080251462226355, 0.080845785153367, 0.13690303686487737)\n",
       "</pre>\n"
      ],
      "text/plain": [
       "position:  (0.09080251462226355, 0.080845785153367, 0.13690303686487737)\n"
      ]
     },
     "metadata": {},
     "output_type": "display_data"
    },
    {
     "data": {
      "text/html": [
       "<pre style=\"white-space:pre;overflow-x:auto;line-height:normal;font-family:Menlo,'DejaVu Sans Mono',consolas,'Courier New',monospace\">jammer pos:  [10.2299043  12.30450941  5.76251045]\n",
       "</pre>\n"
      ],
      "text/plain": [
       "jammer pos:  [10.2299043  12.30450941  5.76251045]\n"
      ]
     },
     "metadata": {},
     "output_type": "display_data"
    },
    {
     "data": {
      "text/html": [
       "<pre style=\"white-space:pre;overflow-x:auto;line-height:normal;font-family:Menlo,'DejaVu Sans Mono',consolas,'Courier New',monospace\">dist:  16.84834698443841\n",
       "</pre>\n"
      ],
      "text/plain": [
       "dist:  16.84834698443841\n"
      ]
     },
     "metadata": {},
     "output_type": "display_data"
    },
    {
     "data": {
      "text/html": [
       "<pre style=\"white-space:pre;overflow-x:auto;line-height:normal;font-family:Menlo,'DejaVu Sans Mono',consolas,'Courier New',monospace\">action:  [1.         0.17510015 0.0471952  1.        ]\n",
       "</pre>\n"
      ],
      "text/plain": [
       "action:  [1.         0.17510015 0.0471952  1.        ]\n"
      ]
     },
     "metadata": {},
     "output_type": "display_data"
    },
    {
     "data": {
      "text/html": [
       "<pre style=\"white-space:pre;overflow-x:auto;line-height:normal;font-family:Menlo,'DejaVu Sans Mono',consolas,'Courier New',monospace\">position:  (0.14404640963953888, 0.12380640057998361, 0.18192000137313982)\n",
       "</pre>\n"
      ],
      "text/plain": [
       "position:  (0.14404640963953888, 0.12380640057998361, 0.18192000137313982)\n"
      ]
     },
     "metadata": {},
     "output_type": "display_data"
    },
    {
     "data": {
      "text/html": [
       "<pre style=\"white-space:pre;overflow-x:auto;line-height:normal;font-family:Menlo,'DejaVu Sans Mono',consolas,'Courier New',monospace\">jammer pos:  [10.2299043  12.30450941  5.76251045]\n",
       "</pre>\n"
      ],
      "text/plain": [
       "jammer pos:  [10.2299043  12.30450941  5.76251045]\n"
      ]
     },
     "metadata": {},
     "output_type": "display_data"
    },
    {
     "data": {
      "text/html": [
       "<pre style=\"white-space:pre;overflow-x:auto;line-height:normal;font-family:Menlo,'DejaVu Sans Mono',consolas,'Courier New',monospace\">dist:  16.7701235790725\n",
       "</pre>\n"
      ],
      "text/plain": [
       "dist:  16.7701235790725\n"
      ]
     },
     "metadata": {},
     "output_type": "display_data"
    },
    {
     "name": "stdout",
     "output_type": "stream",
     "text": [
      "-------------------------------------------\n",
      "| rollout/                |               |\n",
      "|    ep_len_mean          | 28.9          |\n",
      "|    ep_rew_mean          | -1.02e+06     |\n",
      "| time/                   |               |\n",
      "|    fps                  | 116           |\n",
      "|    iterations           | 17            |\n",
      "|    time_elapsed         | 9             |\n",
      "|    total_timesteps      | 1088          |\n",
      "| train/                  |               |\n",
      "|    approx_kl            | 3.1664968e-08 |\n",
      "|    clip_fraction        | 0             |\n",
      "|    clip_range           | 0.2           |\n",
      "|    entropy_loss         | -5.68         |\n",
      "|    explained_variance   | 0             |\n",
      "|    learning_rate        | 0.0003        |\n",
      "|    loss                 | 1.31e+11      |\n",
      "|    n_updates            | 160           |\n",
      "|    policy_gradient_loss | -3.05e-05     |\n",
      "|    std                  | 1             |\n",
      "|    value_loss           | 2.62e+11      |\n",
      "-------------------------------------------\n"
     ]
    },
    {
     "data": {
      "text/html": [
       "<pre style=\"white-space:pre;overflow-x:auto;line-height:normal;font-family:Menlo,'DejaVu Sans Mono',consolas,'Courier New',monospace\">action:  [ 0.77564365  0.9127408  -1.          1.        ]\n",
       "</pre>\n"
      ],
      "text/plain": [
       "action:  [ 0.77564365  0.9127408  -1.          1.        ]\n"
      ]
     },
     "metadata": {},
     "output_type": "display_data"
    },
    {
     "data": {
      "text/html": [
       "<pre style=\"white-space:pre;overflow-x:auto;line-height:normal;font-family:Menlo,'DejaVu Sans Mono',consolas,'Courier New',monospace\">position:  (0.10329554973299133, 0.10228642518363296, 0.16429040428853856)\n",
       "</pre>\n"
      ],
      "text/plain": [
       "position:  (0.10329554973299133, 0.10228642518363296, 0.16429040428853856)\n"
      ]
     },
     "metadata": {},
     "output_type": "display_data"
    },
    {
     "data": {
      "text/html": [
       "<pre style=\"white-space:pre;overflow-x:auto;line-height:normal;font-family:Menlo,'DejaVu Sans Mono',consolas,'Courier New',monospace\">jammer pos:  [10.2299043  12.30450941  5.76251045]\n",
       "</pre>\n"
      ],
      "text/plain": [
       "jammer pos:  [10.2299043  12.30450941  5.76251045]\n"
      ]
     },
     "metadata": {},
     "output_type": "display_data"
    },
    {
     "data": {
      "text/html": [
       "<pre style=\"white-space:pre;overflow-x:auto;line-height:normal;font-family:Menlo,'DejaVu Sans Mono',consolas,'Courier New',monospace\">dist:  16.816138621755112\n",
       "</pre>\n"
      ],
      "text/plain": [
       "dist:  16.816138621755112\n"
      ]
     },
     "metadata": {},
     "output_type": "display_data"
    },
    {
     "data": {
      "text/html": [
       "<pre style=\"white-space:pre;overflow-x:auto;line-height:normal;font-family:Menlo,'DejaVu Sans Mono',consolas,'Courier New',monospace\">action:  [ 0.6701697   1.         -0.56035703  1.        ]\n",
       "</pre>\n"
      ],
      "text/plain": [
       "action:  [ 0.6701697   1.         -0.56035703  1.        ]\n"
      ]
     },
     "metadata": {},
     "output_type": "display_data"
    },
    {
     "data": {
      "text/html": [
       "<pre style=\"white-space:pre;overflow-x:auto;line-height:normal;font-family:Menlo,'DejaVu Sans Mono',consolas,'Courier New',monospace\">position:  (0.06141319461301935, 0.06327146904088696, 0.12751071822959573)\n",
       "</pre>\n"
      ],
      "text/plain": [
       "position:  (0.06141319461301935, 0.06327146904088696, 0.12751071822959573)\n"
      ]
     },
     "metadata": {},
     "output_type": "display_data"
    },
    {
     "data": {
      "text/html": [
       "<pre style=\"white-space:pre;overflow-x:auto;line-height:normal;font-family:Menlo,'DejaVu Sans Mono',consolas,'Courier New',monospace\">jammer pos:  [10.2299043  12.30450941  5.76251045]\n",
       "</pre>\n"
      ],
      "text/plain": [
       "jammer pos:  [10.2299043  12.30450941  5.76251045]\n"
      ]
     },
     "metadata": {},
     "output_type": "display_data"
    },
    {
     "data": {
      "text/html": [
       "<pre style=\"white-space:pre;overflow-x:auto;line-height:normal;font-family:Menlo,'DejaVu Sans Mono',consolas,'Courier New',monospace\">dist:  16.881923456114627\n",
       "</pre>\n"
      ],
      "text/plain": [
       "dist:  16.881923456114627\n"
      ]
     },
     "metadata": {},
     "output_type": "display_data"
    },
    {
     "data": {
      "text/html": [
       "<pre style=\"white-space:pre;overflow-x:auto;line-height:normal;font-family:Menlo,'DejaVu Sans Mono',consolas,'Courier New',monospace\">action:  [-1.         -0.4483473   0.36749765  1.        ]\n",
       "</pre>\n"
      ],
      "text/plain": [
       "action:  [-1.         -0.4483473   0.36749765  1.        ]\n"
      ]
     },
     "metadata": {},
     "output_type": "display_data"
    },
    {
     "data": {
      "text/html": [
       "<pre style=\"white-space:pre;overflow-x:auto;line-height:normal;font-family:Menlo,'DejaVu Sans Mono',consolas,'Courier New',monospace\">position:  (0.06141009136840404, 0.0771749129276653, 0.14207397591933088)\n",
       "</pre>\n"
      ],
      "text/plain": [
       "position:  (0.06141009136840404, 0.0771749129276653, 0.14207397591933088)\n"
      ]
     },
     "metadata": {},
     "output_type": "display_data"
    },
    {
     "data": {
      "text/html": [
       "<pre style=\"white-space:pre;overflow-x:auto;line-height:normal;font-family:Menlo,'DejaVu Sans Mono',consolas,'Courier New',monospace\">jammer pos:  [10.2299043  12.30450941  5.76251045]\n",
       "</pre>\n"
      ],
      "text/plain": [
       "jammer pos:  [10.2299043  12.30450941  5.76251045]\n"
      ]
     },
     "metadata": {},
     "output_type": "display_data"
    },
    {
     "data": {
      "text/html": [
       "<pre style=\"white-space:pre;overflow-x:auto;line-height:normal;font-family:Menlo,'DejaVu Sans Mono',consolas,'Courier New',monospace\">dist:  16.86698815577476\n",
       "</pre>\n"
      ],
      "text/plain": [
       "dist:  16.86698815577476\n"
      ]
     },
     "metadata": {},
     "output_type": "display_data"
    },
    {
     "name": "stdout",
     "output_type": "stream",
     "text": [
      "-------------------------------------------\n",
      "| rollout/                |               |\n",
      "|    ep_len_mean          | 28.6          |\n",
      "|    ep_rew_mean          | -1.02e+06     |\n",
      "| time/                   |               |\n",
      "|    fps                  | 115           |\n",
      "|    iterations           | 18            |\n",
      "|    time_elapsed         | 9             |\n",
      "|    total_timesteps      | 1152          |\n",
      "| train/                  |               |\n",
      "|    approx_kl            | 3.0733645e-08 |\n",
      "|    clip_fraction        | 0             |\n",
      "|    clip_range           | 0.2           |\n",
      "|    entropy_loss         | -5.68         |\n",
      "|    explained_variance   | 5.96e-08      |\n",
      "|    learning_rate        | 0.0003        |\n",
      "|    loss                 | 1.22e+11      |\n",
      "|    n_updates            | 170           |\n",
      "|    policy_gradient_loss | -2.5e-05      |\n",
      "|    std                  | 1             |\n",
      "|    value_loss           | 2.45e+11      |\n",
      "-------------------------------------------\n"
     ]
    },
    {
     "data": {
      "text/html": [
       "<pre style=\"white-space:pre;overflow-x:auto;line-height:normal;font-family:Menlo,'DejaVu Sans Mono',consolas,'Courier New',monospace\">action:  [ 1.          0.53336924 -0.0471322   1.        ]\n",
       "</pre>\n"
      ],
      "text/plain": [
       "action:  [ 1.          0.53336924 -0.0471322   1.        ]\n"
      ]
     },
     "metadata": {},
     "output_type": "display_data"
    },
    {
     "data": {
      "text/html": [
       "<pre style=\"white-space:pre;overflow-x:auto;line-height:normal;font-family:Menlo,'DejaVu Sans Mono',consolas,'Courier New',monospace\">position:  (0.08200655610852599, 0.09569549276079409, 0.14510567091420606)\n",
       "</pre>\n"
      ],
      "text/plain": [
       "position:  (0.08200655610852599, 0.09569549276079409, 0.14510567091420606)\n"
      ]
     },
     "metadata": {},
     "output_type": "display_data"
    },
    {
     "data": {
      "text/html": [
       "<pre style=\"white-space:pre;overflow-x:auto;line-height:normal;font-family:Menlo,'DejaVu Sans Mono',consolas,'Courier New',monospace\">jammer pos:  [10.2299043  12.30450941  5.76251045]\n",
       "</pre>\n"
      ],
      "text/plain": [
       "jammer pos:  [10.2299043  12.30450941  5.76251045]\n"
      ]
     },
     "metadata": {},
     "output_type": "display_data"
    },
    {
     "data": {
      "text/html": [
       "<pre style=\"white-space:pre;overflow-x:auto;line-height:normal;font-family:Menlo,'DejaVu Sans Mono',consolas,'Courier New',monospace\">dist:  16.840136645885938\n",
       "</pre>\n"
      ],
      "text/plain": [
       "dist:  16.840136645885938\n"
      ]
     },
     "metadata": {},
     "output_type": "display_data"
    },
    {
     "data": {
      "text/html": [
       "<pre style=\"white-space:pre;overflow-x:auto;line-height:normal;font-family:Menlo,'DejaVu Sans Mono',consolas,'Courier New',monospace\">action:  [-0.04871478  0.05730949  0.06116439  1.        ]\n",
       "</pre>\n"
      ],
      "text/plain": [
       "action:  [-0.04871478  0.05730949  0.06116439  1.        ]\n"
      ]
     },
     "metadata": {},
     "output_type": "display_data"
    },
    {
     "data": {
      "text/html": [
       "<pre style=\"white-space:pre;overflow-x:auto;line-height:normal;font-family:Menlo,'DejaVu Sans Mono',consolas,'Courier New',monospace\">position:  (0.1134520287517634, 0.11295291168328457, 0.15414502017037232)\n",
       "</pre>\n"
      ],
      "text/plain": [
       "position:  (0.1134520287517634, 0.11295291168328457, 0.15414502017037232)\n"
      ]
     },
     "metadata": {},
     "output_type": "display_data"
    },
    {
     "data": {
      "text/html": [
       "<pre style=\"white-space:pre;overflow-x:auto;line-height:normal;font-family:Menlo,'DejaVu Sans Mono',consolas,'Courier New',monospace\">jammer pos:  [10.2299043  12.30450941  5.76251045]\n",
       "</pre>\n"
      ],
      "text/plain": [
       "jammer pos:  [10.2299043  12.30450941  5.76251045]\n"
      ]
     },
     "metadata": {},
     "output_type": "display_data"
    },
    {
     "data": {
      "text/html": [
       "<pre style=\"white-space:pre;overflow-x:auto;line-height:normal;font-family:Menlo,'DejaVu Sans Mono',consolas,'Courier New',monospace\">dist:  16.805666280052026\n",
       "</pre>\n"
      ],
      "text/plain": [
       "dist:  16.805666280052026\n"
      ]
     },
     "metadata": {},
     "output_type": "display_data"
    },
    {
     "name": "stdout",
     "output_type": "stream",
     "text": [
      "------------------------------------------\n",
      "| rollout/                |              |\n",
      "|    ep_len_mean          | 28.6         |\n",
      "|    ep_rew_mean          | -1.02e+06    |\n",
      "| time/                   |              |\n",
      "|    fps                  | 116          |\n",
      "|    iterations           | 19           |\n",
      "|    time_elapsed         | 10           |\n",
      "|    total_timesteps      | 1216         |\n",
      "| train/                  |              |\n",
      "|    approx_kl            | 6.519258e-09 |\n",
      "|    clip_fraction        | 0            |\n",
      "|    clip_range           | 0.2          |\n",
      "|    entropy_loss         | -5.68        |\n",
      "|    explained_variance   | 0            |\n",
      "|    learning_rate        | 0.0003       |\n",
      "|    loss                 | 1.75e+11     |\n",
      "|    n_updates            | 180          |\n",
      "|    policy_gradient_loss | -1.37e-06    |\n",
      "|    std                  | 1            |\n",
      "|    value_loss           | 3.5e+11      |\n",
      "------------------------------------------\n"
     ]
    },
    {
     "data": {
      "text/html": [
       "<pre style=\"white-space:pre;overflow-x:auto;line-height:normal;font-family:Menlo,'DejaVu Sans Mono',consolas,'Courier New',monospace\">action:  [-1.          0.5957797  -0.23181976  1.        ]\n",
       "</pre>\n"
      ],
      "text/plain": [
       "action:  [-1.          0.5957797  -0.23181976  1.        ]\n"
      ]
     },
     "metadata": {},
     "output_type": "display_data"
    },
    {
     "data": {
      "text/html": [
       "<pre style=\"white-space:pre;overflow-x:auto;line-height:normal;font-family:Menlo,'DejaVu Sans Mono',consolas,'Courier New',monospace\">position:  (0.05048250367446154, 0.10407215115244121, 0.12468310872333734)\n",
       "</pre>\n"
      ],
      "text/plain": [
       "position:  (0.05048250367446154, 0.10407215115244121, 0.12468310872333734)\n"
      ]
     },
     "metadata": {},
     "output_type": "display_data"
    },
    {
     "data": {
      "text/html": [
       "<pre style=\"white-space:pre;overflow-x:auto;line-height:normal;font-family:Menlo,'DejaVu Sans Mono',consolas,'Courier New',monospace\">jammer pos:  [10.2299043  12.30450941  5.76251045]\n",
       "</pre>\n"
      ],
      "text/plain": [
       "jammer pos:  [10.2299043  12.30450941  5.76251045]\n"
      ]
     },
     "metadata": {},
     "output_type": "display_data"
    },
    {
     "data": {
      "text/html": [
       "<pre style=\"white-space:pre;overflow-x:auto;line-height:normal;font-family:Menlo,'DejaVu Sans Mono',consolas,'Courier New',monospace\">dist:  16.859904936226613\n",
       "</pre>\n"
      ],
      "text/plain": [
       "dist:  16.859904936226613\n"
      ]
     },
     "metadata": {},
     "output_type": "display_data"
    },
    {
     "data": {
      "text/html": [
       "<pre style=\"white-space:pre;overflow-x:auto;line-height:normal;font-family:Menlo,'DejaVu Sans Mono',consolas,'Courier New',monospace\">action:  [-1.         -0.53908604  0.39376208  1.        ]\n",
       "</pre>\n"
      ],
      "text/plain": [
       "action:  [-1.         -0.53908604  0.39376208  1.        ]\n"
      ]
     },
     "metadata": {},
     "output_type": "display_data"
    },
    {
     "data": {
      "text/html": [
       "<pre style=\"white-space:pre;overflow-x:auto;line-height:normal;font-family:Menlo,'DejaVu Sans Mono',consolas,'Courier New',monospace\">position:  (0.11774380866468112, 0.10113042899052883, 0.15186201852290065)\n",
       "</pre>\n"
      ],
      "text/plain": [
       "position:  (0.11774380866468112, 0.10113042899052883, 0.15186201852290065)\n"
      ]
     },
     "metadata": {},
     "output_type": "display_data"
    },
    {
     "data": {
      "text/html": [
       "<pre style=\"white-space:pre;overflow-x:auto;line-height:normal;font-family:Menlo,'DejaVu Sans Mono',consolas,'Courier New',monospace\">jammer pos:  [10.2299043  12.30450941  5.76251045]\n",
       "</pre>\n"
      ],
      "text/plain": [
       "jammer pos:  [10.2299043  12.30450941  5.76251045]\n"
      ]
     },
     "metadata": {},
     "output_type": "display_data"
    },
    {
     "data": {
      "text/html": [
       "<pre style=\"white-space:pre;overflow-x:auto;line-height:normal;font-family:Menlo,'DejaVu Sans Mono',consolas,'Courier New',monospace\">dist:  16.81242469401953\n",
       "</pre>\n"
      ],
      "text/plain": [
       "dist:  16.81242469401953\n"
      ]
     },
     "metadata": {},
     "output_type": "display_data"
    },
    {
     "data": {
      "text/html": [
       "<pre style=\"white-space:pre;overflow-x:auto;line-height:normal;font-family:Menlo,'DejaVu Sans Mono',consolas,'Courier New',monospace\">action:  [ 0.6615621  1.        -0.6240441  1.       ]\n",
       "</pre>\n"
      ],
      "text/plain": [
       "action:  [ 0.6615621  1.        -0.6240441  1.       ]\n"
      ]
     },
     "metadata": {},
     "output_type": "display_data"
    },
    {
     "data": {
      "text/html": [
       "<pre style=\"white-space:pre;overflow-x:auto;line-height:normal;font-family:Menlo,'DejaVu Sans Mono',consolas,'Courier New',monospace\">position:  (0.09169172218371459, 0.05623795873070653, 0.11391794870186404)\n",
       "</pre>\n"
      ],
      "text/plain": [
       "position:  (0.09169172218371459, 0.05623795873070653, 0.11391794870186404)\n"
      ]
     },
     "metadata": {},
     "output_type": "display_data"
    },
    {
     "data": {
      "text/html": [
       "<pre style=\"white-space:pre;overflow-x:auto;line-height:normal;font-family:Menlo,'DejaVu Sans Mono',consolas,'Courier New',monospace\">jammer pos:  [10.2299043  12.30450941  5.76251045]\n",
       "</pre>\n"
      ],
      "text/plain": [
       "jammer pos:  [10.2299043  12.30450941  5.76251045]\n"
      ]
     },
     "metadata": {},
     "output_type": "display_data"
    },
    {
     "data": {
      "text/html": [
       "<pre style=\"white-space:pre;overflow-x:auto;line-height:normal;font-family:Menlo,'DejaVu Sans Mono',consolas,'Courier New',monospace\">dist:  16.87335488206929\n",
       "</pre>\n"
      ],
      "text/plain": [
       "dist:  16.87335488206929\n"
      ]
     },
     "metadata": {},
     "output_type": "display_data"
    },
    {
     "name": "stdout",
     "output_type": "stream",
     "text": [
      "-------------------------------------------\n",
      "| rollout/                |               |\n",
      "|    ep_len_mean          | 28.4          |\n",
      "|    ep_rew_mean          | -1.02e+06     |\n",
      "| time/                   |               |\n",
      "|    fps                  | 115           |\n",
      "|    iterations           | 20            |\n",
      "|    time_elapsed         | 11            |\n",
      "|    total_timesteps      | 1280          |\n",
      "| train/                  |               |\n",
      "|    approx_kl            | 1.3038516e-08 |\n",
      "|    clip_fraction        | 0             |\n",
      "|    clip_range           | 0.2           |\n",
      "|    entropy_loss         | -5.68         |\n",
      "|    explained_variance   | 1.19e-07      |\n",
      "|    learning_rate        | 0.0003        |\n",
      "|    loss                 | 1.28e+11      |\n",
      "|    n_updates            | 190           |\n",
      "|    policy_gradient_loss | -2.93e-05     |\n",
      "|    std                  | 1             |\n",
      "|    value_loss           | 2.56e+11      |\n",
      "-------------------------------------------\n"
     ]
    },
    {
     "data": {
      "text/html": [
       "<pre style=\"white-space:pre;overflow-x:auto;line-height:normal;font-family:Menlo,'DejaVu Sans Mono',consolas,'Courier New',monospace\">action:  [-0.95541835 -0.4971033   0.5752177   1.        ]\n",
       "</pre>\n"
      ],
      "text/plain": [
       "action:  [-0.95541835 -0.4971033   0.5752177   1.        ]\n"
      ]
     },
     "metadata": {},
     "output_type": "display_data"
    },
    {
     "data": {
      "text/html": [
       "<pre style=\"white-space:pre;overflow-x:auto;line-height:normal;font-family:Menlo,'DejaVu Sans Mono',consolas,'Courier New',monospace\">position:  (0.1471590296650747, 0.09129739687270046, 0.18808740219712947)\n",
       "</pre>\n"
      ],
      "text/plain": [
       "position:  (0.1471590296650747, 0.09129739687270046, 0.18808740219712947)\n"
      ]
     },
     "metadata": {},
     "output_type": "display_data"
    },
    {
     "data": {
      "text/html": [
       "<pre style=\"white-space:pre;overflow-x:auto;line-height:normal;font-family:Menlo,'DejaVu Sans Mono',consolas,'Courier New',monospace\">jammer pos:  [10.2299043  12.30450941  5.76251045]\n",
       "</pre>\n"
      ],
      "text/plain": [
       "jammer pos:  [10.2299043  12.30450941  5.76251045]\n"
      ]
     },
     "metadata": {},
     "output_type": "display_data"
    },
    {
     "data": {
      "text/html": [
       "<pre style=\"white-space:pre;overflow-x:auto;line-height:normal;font-family:Menlo,'DejaVu Sans Mono',consolas,'Courier New',monospace\">dist:  16.789832997781584\n",
       "</pre>\n"
      ],
      "text/plain": [
       "dist:  16.789832997781584\n"
      ]
     },
     "metadata": {},
     "output_type": "display_data"
    },
    {
     "data": {
      "text/html": [
       "<pre style=\"white-space:pre;overflow-x:auto;line-height:normal;font-family:Menlo,'DejaVu Sans Mono',consolas,'Courier New',monospace\">action:  [-0.14661045 -1.          0.29286498  1.        ]\n",
       "</pre>\n"
      ],
      "text/plain": [
       "action:  [-0.14661045 -1.          0.29286498  1.        ]\n"
      ]
     },
     "metadata": {},
     "output_type": "display_data"
    },
    {
     "data": {
      "text/html": [
       "<pre style=\"white-space:pre;overflow-x:auto;line-height:normal;font-family:Menlo,'DejaVu Sans Mono',consolas,'Courier New',monospace\">position:  (0.075633798715211, 0.12687204109545658, 0.15204967097610014)\n",
       "</pre>\n"
      ],
      "text/plain": [
       "position:  (0.075633798715211, 0.12687204109545658, 0.15204967097610014)\n"
      ]
     },
     "metadata": {},
     "output_type": "display_data"
    },
    {
     "data": {
      "text/html": [
       "<pre style=\"white-space:pre;overflow-x:auto;line-height:normal;font-family:Menlo,'DejaVu Sans Mono',consolas,'Courier New',monospace\">jammer pos:  [10.2299043  12.30450941  5.76251045]\n",
       "</pre>\n"
      ],
      "text/plain": [
       "jammer pos:  [10.2299043  12.30450941  5.76251045]\n"
      ]
     },
     "metadata": {},
     "output_type": "display_data"
    },
    {
     "data": {
      "text/html": [
       "<pre style=\"white-space:pre;overflow-x:auto;line-height:normal;font-family:Menlo,'DejaVu Sans Mono',consolas,'Courier New',monospace\">dist:  16.819076412478704\n",
       "</pre>\n"
      ],
      "text/plain": [
       "dist:  16.819076412478704\n"
      ]
     },
     "metadata": {},
     "output_type": "display_data"
    },
    {
     "name": "stdout",
     "output_type": "stream",
     "text": [
      "-------------------------------------------\n",
      "| rollout/                |               |\n",
      "|    ep_len_mean          | 28.4          |\n",
      "|    ep_rew_mean          | -1.02e+06     |\n",
      "| time/                   |               |\n",
      "|    fps                  | 116           |\n",
      "|    iterations           | 21            |\n",
      "|    time_elapsed         | 11            |\n",
      "|    total_timesteps      | 1344          |\n",
      "| train/                  |               |\n",
      "|    approx_kl            | 2.7939677e-09 |\n",
      "|    clip_fraction        | 0             |\n",
      "|    clip_range           | 0.2           |\n",
      "|    entropy_loss         | -5.68         |\n",
      "|    explained_variance   | 0             |\n",
      "|    learning_rate        | 0.0003        |\n",
      "|    loss                 | 1.79e+11      |\n",
      "|    n_updates            | 200           |\n",
      "|    policy_gradient_loss | 1.3e-05       |\n",
      "|    std                  | 1             |\n",
      "|    value_loss           | 3.58e+11      |\n",
      "-------------------------------------------\n"
     ]
    },
    {
     "data": {
      "text/html": [
       "<pre style=\"white-space:pre;overflow-x:auto;line-height:normal;font-family:Menlo,'DejaVu Sans Mono',consolas,'Courier New',monospace\">action:  [ 0.8287669  -0.46368182 -0.58017087  1.        ]\n",
       "</pre>\n"
      ],
      "text/plain": [
       "action:  [ 0.8287669  -0.46368182 -0.58017087  1.        ]\n"
      ]
     },
     "metadata": {},
     "output_type": "display_data"
    },
    {
     "data": {
      "text/html": [
       "<pre style=\"white-space:pre;overflow-x:auto;line-height:normal;font-family:Menlo,'DejaVu Sans Mono',consolas,'Courier New',monospace\">position:  (0.058040028561632664, 0.09978703101585018, 0.11144188824230818)\n",
       "</pre>\n"
      ],
      "text/plain": [
       "position:  (0.058040028561632664, 0.09978703101585018, 0.11144188824230818)\n"
      ]
     },
     "metadata": {},
     "output_type": "display_data"
    },
    {
     "data": {
      "text/html": [
       "<pre style=\"white-space:pre;overflow-x:auto;line-height:normal;font-family:Menlo,'DejaVu Sans Mono',consolas,'Courier New',monospace\">jammer pos:  [10.2299043  12.30450941  5.76251045]\n",
       "</pre>\n"
      ],
      "text/plain": [
       "jammer pos:  [10.2299043  12.30450941  5.76251045]\n"
      ]
     },
     "metadata": {},
     "output_type": "display_data"
    },
    {
     "data": {
      "text/html": [
       "<pre style=\"white-space:pre;overflow-x:auto;line-height:normal;font-family:Menlo,'DejaVu Sans Mono',consolas,'Courier New',monospace\">dist:  16.862877776593518\n",
       "</pre>\n"
      ],
      "text/plain": [
       "dist:  16.862877776593518\n"
      ]
     },
     "metadata": {},
     "output_type": "display_data"
    },
    {
     "data": {
      "text/html": [
       "<pre style=\"white-space:pre;overflow-x:auto;line-height:normal;font-family:Menlo,'DejaVu Sans Mono',consolas,'Courier New',monospace\">action:  [ 1.          1.         -0.33024797  1.        ]\n",
       "</pre>\n"
      ],
      "text/plain": [
       "action:  [ 1.          1.         -0.33024797  1.        ]\n"
      ]
     },
     "metadata": {},
     "output_type": "display_data"
    },
    {
     "data": {
      "text/html": [
       "<pre style=\"white-space:pre;overflow-x:auto;line-height:normal;font-family:Menlo,'DejaVu Sans Mono',consolas,'Courier New',monospace\">position:  (0.07158143396040767, 0.09980396367859318, 0.09407915782641522)\n",
       "</pre>\n"
      ],
      "text/plain": [
       "position:  (0.07158143396040767, 0.09980396367859318, 0.09407915782641522)\n"
      ]
     },
     "metadata": {},
     "output_type": "display_data"
    },
    {
     "data": {
      "text/html": [
       "<pre style=\"white-space:pre;overflow-x:auto;line-height:normal;font-family:Menlo,'DejaVu Sans Mono',consolas,'Courier New',monospace\">jammer pos:  [10.2299043  12.30450941  5.76251045]\n",
       "</pre>\n"
      ],
      "text/plain": [
       "jammer pos:  [10.2299043  12.30450941  5.76251045]\n"
      ]
     },
     "metadata": {},
     "output_type": "display_data"
    },
    {
     "data": {
      "text/html": [
       "<pre style=\"white-space:pre;overflow-x:auto;line-height:normal;font-family:Menlo,'DejaVu Sans Mono',consolas,'Courier New',monospace\">dist:  16.86052999494292\n",
       "</pre>\n"
      ],
      "text/plain": [
       "dist:  16.86052999494292\n"
      ]
     },
     "metadata": {},
     "output_type": "display_data"
    },
    {
     "data": {
      "text/html": [
       "<pre style=\"white-space:pre;overflow-x:auto;line-height:normal;font-family:Menlo,'DejaVu Sans Mono',consolas,'Courier New',monospace\">action:  [-0.05705243  0.6515591   1.          1.        ]\n",
       "</pre>\n"
      ],
      "text/plain": [
       "action:  [-0.05705243  0.6515591   1.          1.        ]\n"
      ]
     },
     "metadata": {},
     "output_type": "display_data"
    },
    {
     "data": {
      "text/html": [
       "<pre style=\"white-space:pre;overflow-x:auto;line-height:normal;font-family:Menlo,'DejaVu Sans Mono',consolas,'Courier New',monospace\">position:  (0.05296155212218337, 0.06508265204828222, 0.10596445211019902)\n",
       "</pre>\n"
      ],
      "text/plain": [
       "position:  (0.05296155212218337, 0.06508265204828222, 0.10596445211019902)\n"
      ]
     },
     "metadata": {},
     "output_type": "display_data"
    },
    {
     "data": {
      "text/html": [
       "<pre style=\"white-space:pre;overflow-x:auto;line-height:normal;font-family:Menlo,'DejaVu Sans Mono',consolas,'Courier New',monospace\">jammer pos:  [10.2299043  12.30450941  5.76251045]\n",
       "</pre>\n"
      ],
      "text/plain": [
       "jammer pos:  [10.2299043  12.30450941  5.76251045]\n"
      ]
     },
     "metadata": {},
     "output_type": "display_data"
    },
    {
     "data": {
      "text/html": [
       "<pre style=\"white-space:pre;overflow-x:auto;line-height:normal;font-family:Menlo,'DejaVu Sans Mono',consolas,'Courier New',monospace\">dist:  16.892905126022175\n",
       "</pre>\n"
      ],
      "text/plain": [
       "dist:  16.892905126022175\n"
      ]
     },
     "metadata": {},
     "output_type": "display_data"
    },
    {
     "name": "stdout",
     "output_type": "stream",
     "text": [
      "-------------------------------------------\n",
      "| rollout/                |               |\n",
      "|    ep_len_mean          | 28.1          |\n",
      "|    ep_rew_mean          | -1.02e+06     |\n",
      "| time/                   |               |\n",
      "|    fps                  | 116           |\n",
      "|    iterations           | 22            |\n",
      "|    time_elapsed         | 12            |\n",
      "|    total_timesteps      | 1408          |\n",
      "| train/                  |               |\n",
      "|    approx_kl            | 1.8626451e-08 |\n",
      "|    clip_fraction        | 0             |\n",
      "|    clip_range           | 0.2           |\n",
      "|    entropy_loss         | -5.68         |\n",
      "|    explained_variance   | 0             |\n",
      "|    learning_rate        | 0.0003        |\n",
      "|    loss                 | 1.32e+11      |\n",
      "|    n_updates            | 210           |\n",
      "|    policy_gradient_loss | -2.89e-05     |\n",
      "|    std                  | 1             |\n",
      "|    value_loss           | 2.63e+11      |\n",
      "-------------------------------------------\n"
     ]
    },
    {
     "data": {
      "text/html": [
       "<pre style=\"white-space:pre;overflow-x:auto;line-height:normal;font-family:Menlo,'DejaVu Sans Mono',consolas,'Courier New',monospace\">action:  [-0.3965805  0.9841158  0.5670389  1.       ]\n",
       "</pre>\n"
      ],
      "text/plain": [
       "action:  [-0.3965805  0.9841158  0.5670389  1.       ]\n"
      ]
     },
     "metadata": {},
     "output_type": "display_data"
    },
    {
     "data": {
      "text/html": [
       "<pre style=\"white-space:pre;overflow-x:auto;line-height:normal;font-family:Menlo,'DejaVu Sans Mono',consolas,'Courier New',monospace\">position:  (0.06421026577941233, 0.08411360059885625, 0.1490884541415382)\n",
       "</pre>\n"
      ],
      "text/plain": [
       "position:  (0.06421026577941233, 0.08411360059885625, 0.1490884541415382)\n"
      ]
     },
     "metadata": {},
     "output_type": "display_data"
    },
    {
     "data": {
      "text/html": [
       "<pre style=\"white-space:pre;overflow-x:auto;line-height:normal;font-family:Menlo,'DejaVu Sans Mono',consolas,'Courier New',monospace\">jammer pos:  [10.2299043  12.30450941  5.76251045]\n",
       "</pre>\n"
      ],
      "text/plain": [
       "jammer pos:  [10.2299043  12.30450941  5.76251045]\n"
      ]
     },
     "metadata": {},
     "output_type": "display_data"
    },
    {
     "data": {
      "text/html": [
       "<pre style=\"white-space:pre;overflow-x:auto;line-height:normal;font-family:Menlo,'DejaVu Sans Mono',consolas,'Courier New',monospace\">dist:  16.857933306103433\n",
       "</pre>\n"
      ],
      "text/plain": [
       "dist:  16.857933306103433\n"
      ]
     },
     "metadata": {},
     "output_type": "display_data"
    },
    {
     "data": {
      "text/html": [
       "<pre style=\"white-space:pre;overflow-x:auto;line-height:normal;font-family:Menlo,'DejaVu Sans Mono',consolas,'Courier New',monospace\">action:  [-1.        1.        0.866832  1.      ]\n",
       "</pre>\n"
      ],
      "text/plain": [
       "action:  [-1.        1.        0.866832  1.      ]\n"
      ]
     },
     "metadata": {},
     "output_type": "display_data"
    },
    {
     "data": {
      "text/html": [
       "<pre style=\"white-space:pre;overflow-x:auto;line-height:normal;font-family:Menlo,'DejaVu Sans Mono',consolas,'Courier New',monospace\">position:  (0.08513020639649413, 0.08105863725555254, 0.13257532999109425)\n",
       "</pre>\n"
      ],
      "text/plain": [
       "position:  (0.08513020639649413, 0.08105863725555254, 0.13257532999109425)\n"
      ]
     },
     "metadata": {},
     "output_type": "display_data"
    },
    {
     "data": {
      "text/html": [
       "<pre style=\"white-space:pre;overflow-x:auto;line-height:normal;font-family:Menlo,'DejaVu Sans Mono',consolas,'Courier New',monospace\">jammer pos:  [10.2299043  12.30450941  5.76251045]\n",
       "</pre>\n"
      ],
      "text/plain": [
       "jammer pos:  [10.2299043  12.30450941  5.76251045]\n"
      ]
     },
     "metadata": {},
     "output_type": "display_data"
    },
    {
     "data": {
      "text/html": [
       "<pre style=\"white-space:pre;overflow-x:auto;line-height:normal;font-family:Menlo,'DejaVu Sans Mono',consolas,'Courier New',monospace\">dist:  16.85305193646417\n",
       "</pre>\n"
      ],
      "text/plain": [
       "dist:  16.85305193646417\n"
      ]
     },
     "metadata": {},
     "output_type": "display_data"
    },
    {
     "name": "stdout",
     "output_type": "stream",
     "text": [
      "-------------------------------------------\n",
      "| rollout/                |               |\n",
      "|    ep_len_mean          | 28            |\n",
      "|    ep_rew_mean          | -1.02e+06     |\n",
      "| time/                   |               |\n",
      "|    fps                  | 116           |\n",
      "|    iterations           | 23            |\n",
      "|    time_elapsed         | 12            |\n",
      "|    total_timesteps      | 1472          |\n",
      "| train/                  |               |\n",
      "|    approx_kl            | 5.5879354e-09 |\n",
      "|    clip_fraction        | 0             |\n",
      "|    clip_range           | 0.2           |\n",
      "|    entropy_loss         | -5.68         |\n",
      "|    explained_variance   | 1.19e-07      |\n",
      "|    learning_rate        | 0.0003        |\n",
      "|    loss                 | 1.84e+11      |\n",
      "|    n_updates            | 220           |\n",
      "|    policy_gradient_loss | -1.68e-06     |\n",
      "|    std                  | 1             |\n",
      "|    value_loss           | 3.69e+11      |\n",
      "-------------------------------------------\n"
     ]
    },
    {
     "data": {
      "text/html": [
       "<pre style=\"white-space:pre;overflow-x:auto;line-height:normal;font-family:Menlo,'DejaVu Sans Mono',consolas,'Courier New',monospace\">action:  [ 0.15556566  0.23431113 -0.13615048  1.        ]\n",
       "</pre>\n"
      ],
      "text/plain": [
       "action:  [ 0.15556566  0.23431113 -0.13615048  1.        ]\n"
      ]
     },
     "metadata": {},
     "output_type": "display_data"
    },
    {
     "data": {
      "text/html": [
       "<pre style=\"white-space:pre;overflow-x:auto;line-height:normal;font-family:Menlo,'DejaVu Sans Mono',consolas,'Courier New',monospace\">position:  (0.20241965485477764, 0.15568633280923194, 0.21933179051013035)\n",
       "</pre>\n"
      ],
      "text/plain": [
       "position:  (0.20241965485477764, 0.15568633280923194, 0.21933179051013035)\n"
      ]
     },
     "metadata": {},
     "output_type": "display_data"
    },
    {
     "data": {
      "text/html": [
       "<pre style=\"white-space:pre;overflow-x:auto;line-height:normal;font-family:Menlo,'DejaVu Sans Mono',consolas,'Courier New',monospace\">jammer pos:  [10.2299043  12.30450941  5.76251045]\n",
       "</pre>\n"
      ],
      "text/plain": [
       "jammer pos:  [10.2299043  12.30450941  5.76251045]\n"
      ]
     },
     "metadata": {},
     "output_type": "display_data"
    },
    {
     "data": {
      "text/html": [
       "<pre style=\"white-space:pre;overflow-x:auto;line-height:normal;font-family:Menlo,'DejaVu Sans Mono',consolas,'Courier New',monospace\">dist:  16.699436518470808\n",
       "</pre>\n"
      ],
      "text/plain": [
       "dist:  16.699436518470808\n"
      ]
     },
     "metadata": {},
     "output_type": "display_data"
    },
    {
     "data": {
      "text/html": [
       "<pre style=\"white-space:pre;overflow-x:auto;line-height:normal;font-family:Menlo,'DejaVu Sans Mono',consolas,'Courier New',monospace\">action:  [-0.48591104 -1.          0.76438475  1.        ]\n",
       "</pre>\n"
      ],
      "text/plain": [
       "action:  [-0.48591104 -1.          0.76438475  1.        ]\n"
      ]
     },
     "metadata": {},
     "output_type": "display_data"
    },
    {
     "data": {
      "text/html": [
       "<pre style=\"white-space:pre;overflow-x:auto;line-height:normal;font-family:Menlo,'DejaVu Sans Mono',consolas,'Courier New',monospace\">position:  (0.0952136697462227, 0.07729171332189946, 0.11435703615351923)\n",
       "</pre>\n"
      ],
      "text/plain": [
       "position:  (0.0952136697462227, 0.07729171332189946, 0.11435703615351923)\n"
      ]
     },
     "metadata": {},
     "output_type": "display_data"
    },
    {
     "data": {
      "text/html": [
       "<pre style=\"white-space:pre;overflow-x:auto;line-height:normal;font-family:Menlo,'DejaVu Sans Mono',consolas,'Courier New',monospace\">jammer pos:  [10.2299043  12.30450941  5.76251045]\n",
       "</pre>\n"
      ],
      "text/plain": [
       "jammer pos:  [10.2299043  12.30450941  5.76251045]\n"
      ]
     },
     "metadata": {},
     "output_type": "display_data"
    },
    {
     "data": {
      "text/html": [
       "<pre style=\"white-space:pre;overflow-x:auto;line-height:normal;font-family:Menlo,'DejaVu Sans Mono',consolas,'Courier New',monospace\">dist:  16.855813349495218\n",
       "</pre>\n"
      ],
      "text/plain": [
       "dist:  16.855813349495218\n"
      ]
     },
     "metadata": {},
     "output_type": "display_data"
    },
    {
     "name": "stdout",
     "output_type": "stream",
     "text": [
      "------------------------------------------\n",
      "| rollout/                |              |\n",
      "|    ep_len_mean          | 28.1         |\n",
      "|    ep_rew_mean          | -1.02e+06    |\n",
      "| time/                   |              |\n",
      "|    fps                  | 117          |\n",
      "|    iterations           | 24           |\n",
      "|    time_elapsed         | 13           |\n",
      "|    total_timesteps      | 1536         |\n",
      "| train/                  |              |\n",
      "|    approx_kl            | 9.313226e-09 |\n",
      "|    clip_fraction        | 0            |\n",
      "|    clip_range           | 0.2          |\n",
      "|    entropy_loss         | -5.68        |\n",
      "|    explained_variance   | 0            |\n",
      "|    learning_rate        | 0.0003       |\n",
      "|    loss                 | 1.29e+11     |\n",
      "|    n_updates            | 230          |\n",
      "|    policy_gradient_loss | -1.44e-05    |\n",
      "|    std                  | 1            |\n",
      "|    value_loss           | 2.58e+11     |\n",
      "------------------------------------------\n"
     ]
    },
    {
     "data": {
      "text/html": [
       "<pre style=\"white-space:pre;overflow-x:auto;line-height:normal;font-family:Menlo,'DejaVu Sans Mono',consolas,'Courier New',monospace\">action:  [-0.851444   -0.08115515 -1.          1.        ]\n",
       "</pre>\n"
      ],
      "text/plain": [
       "action:  [-0.851444   -0.08115515 -1.          1.        ]\n"
      ]
     },
     "metadata": {},
     "output_type": "display_data"
    },
    {
     "data": {
      "text/html": [
       "<pre style=\"white-space:pre;overflow-x:auto;line-height:normal;font-family:Menlo,'DejaVu Sans Mono',consolas,'Courier New',monospace\">position:  (0.05023685980582951, 0.05120421182329238, 0.10268471315457679)\n",
       "</pre>\n"
      ],
      "text/plain": [
       "position:  (0.05023685980582951, 0.05120421182329238, 0.10268471315457679)\n"
      ]
     },
     "metadata": {},
     "output_type": "display_data"
    },
    {
     "data": {
      "text/html": [
       "<pre style=\"white-space:pre;overflow-x:auto;line-height:normal;font-family:Menlo,'DejaVu Sans Mono',consolas,'Courier New',monospace\">jammer pos:  [10.2299043  12.30450941  5.76251045]\n",
       "</pre>\n"
      ],
      "text/plain": [
       "jammer pos:  [10.2299043  12.30450941  5.76251045]\n"
      ]
     },
     "metadata": {},
     "output_type": "display_data"
    },
    {
     "data": {
      "text/html": [
       "<pre style=\"white-space:pre;overflow-x:auto;line-height:normal;font-family:Menlo,'DejaVu Sans Mono',consolas,'Courier New',monospace\">dist:  16.905701545858733\n",
       "</pre>\n"
      ],
      "text/plain": [
       "dist:  16.905701545858733\n"
      ]
     },
     "metadata": {},
     "output_type": "display_data"
    },
    {
     "data": {
      "text/html": [
       "<pre style=\"white-space:pre;overflow-x:auto;line-height:normal;font-family:Menlo,'DejaVu Sans Mono',consolas,'Courier New',monospace\">action:  [ 0.31373873 -0.58671314 -0.07490231  1.        ]\n",
       "</pre>\n"
      ],
      "text/plain": [
       "action:  [ 0.31373873 -0.58671314 -0.07490231  1.        ]\n"
      ]
     },
     "metadata": {},
     "output_type": "display_data"
    },
    {
     "data": {
      "text/html": [
       "<pre style=\"white-space:pre;overflow-x:auto;line-height:normal;font-family:Menlo,'DejaVu Sans Mono',consolas,'Courier New',monospace\">position:  (0.09043297970569127, 0.07878908124794094, 0.13090723494400214)\n",
       "</pre>\n"
      ],
      "text/plain": [
       "position:  (0.09043297970569127, 0.07878908124794094, 0.13090723494400214)\n"
      ]
     },
     "metadata": {},
     "output_type": "display_data"
    },
    {
     "data": {
      "text/html": [
       "<pre style=\"white-space:pre;overflow-x:auto;line-height:normal;font-family:Menlo,'DejaVu Sans Mono',consolas,'Courier New',monospace\">jammer pos:  [10.2299043  12.30450941  5.76251045]\n",
       "</pre>\n"
      ],
      "text/plain": [
       "jammer pos:  [10.2299043  12.30450941  5.76251045]\n"
      ]
     },
     "metadata": {},
     "output_type": "display_data"
    },
    {
     "data": {
      "text/html": [
       "<pre style=\"white-space:pre;overflow-x:auto;line-height:normal;font-family:Menlo,'DejaVu Sans Mono',consolas,'Courier New',monospace\">dist:  16.852064291873617\n",
       "</pre>\n"
      ],
      "text/plain": [
       "dist:  16.852064291873617\n"
      ]
     },
     "metadata": {},
     "output_type": "display_data"
    },
    {
     "name": "stdout",
     "output_type": "stream",
     "text": [
      "-------------------------------------------\n",
      "| rollout/                |               |\n",
      "|    ep_len_mean          | 27.9          |\n",
      "|    ep_rew_mean          | -1.02e+06     |\n",
      "| time/                   |               |\n",
      "|    fps                  | 117           |\n",
      "|    iterations           | 25            |\n",
      "|    time_elapsed         | 13            |\n",
      "|    total_timesteps      | 1600          |\n",
      "| train/                  |               |\n",
      "|    approx_kl            | 1.6763806e-08 |\n",
      "|    clip_fraction        | 0             |\n",
      "|    clip_range           | 0.2           |\n",
      "|    entropy_loss         | -5.68         |\n",
      "|    explained_variance   | 0             |\n",
      "|    learning_rate        | 0.0003        |\n",
      "|    loss                 | 1.26e+11      |\n",
      "|    n_updates            | 240           |\n",
      "|    policy_gradient_loss | -1.11e-05     |\n",
      "|    std                  | 1             |\n",
      "|    value_loss           | 2.52e+11      |\n",
      "-------------------------------------------\n"
     ]
    },
    {
     "data": {
      "text/html": [
       "<pre style=\"white-space:pre;overflow-x:auto;line-height:normal;font-family:Menlo,'DejaVu Sans Mono',consolas,'Courier New',monospace\">action:  [-0.4850992   0.61209774  1.          1.        ]\n",
       "</pre>\n"
      ],
      "text/plain": [
       "action:  [-0.4850992   0.61209774  1.          1.        ]\n"
      ]
     },
     "metadata": {},
     "output_type": "display_data"
    },
    {
     "data": {
      "text/html": [
       "<pre style=\"white-space:pre;overflow-x:auto;line-height:normal;font-family:Menlo,'DejaVu Sans Mono',consolas,'Courier New',monospace\">position:  (0.2888535026990988, 0.2708328508081004, 0.2906085501256851)\n",
       "</pre>\n"
      ],
      "text/plain": [
       "position:  (0.2888535026990988, 0.2708328508081004, 0.2906085501256851)\n"
      ]
     },
     "metadata": {},
     "output_type": "display_data"
    },
    {
     "data": {
      "text/html": [
       "<pre style=\"white-space:pre;overflow-x:auto;line-height:normal;font-family:Menlo,'DejaVu Sans Mono',consolas,'Courier New',monospace\">jammer pos:  [10.2299043  12.30450941  5.76251045]\n",
       "</pre>\n"
      ],
      "text/plain": [
       "jammer pos:  [10.2299043  12.30450941  5.76251045]\n"
      ]
     },
     "metadata": {},
     "output_type": "display_data"
    },
    {
     "data": {
      "text/html": [
       "<pre style=\"white-space:pre;overflow-x:auto;line-height:normal;font-family:Menlo,'DejaVu Sans Mono',consolas,'Courier New',monospace\">dist:  16.54012009636633\n",
       "</pre>\n"
      ],
      "text/plain": [
       "dist:  16.54012009636633\n"
      ]
     },
     "metadata": {},
     "output_type": "display_data"
    },
    {
     "data": {
      "text/html": [
       "<pre style=\"white-space:pre;overflow-x:auto;line-height:normal;font-family:Menlo,'DejaVu Sans Mono',consolas,'Courier New',monospace\">action:  [1.         1.         0.66232085 1.        ]\n",
       "</pre>\n"
      ],
      "text/plain": [
       "action:  [1.         1.         0.66232085 1.        ]\n"
      ]
     },
     "metadata": {},
     "output_type": "display_data"
    },
    {
     "data": {
      "text/html": [
       "<pre style=\"white-space:pre;overflow-x:auto;line-height:normal;font-family:Menlo,'DejaVu Sans Mono',consolas,'Courier New',monospace\">position:  (0.0601100623425853, 0.06245370065654904, 0.09305478293651885)\n",
       "</pre>\n"
      ],
      "text/plain": [
       "position:  (0.0601100623425853, 0.06245370065654904, 0.09305478293651885)\n"
      ]
     },
     "metadata": {},
     "output_type": "display_data"
    },
    {
     "data": {
      "text/html": [
       "<pre style=\"white-space:pre;overflow-x:auto;line-height:normal;font-family:Menlo,'DejaVu Sans Mono',consolas,'Courier New',monospace\">jammer pos:  [10.2299043  12.30450941  5.76251045]\n",
       "</pre>\n"
      ],
      "text/plain": [
       "jammer pos:  [10.2299043  12.30450941  5.76251045]\n"
      ]
     },
     "metadata": {},
     "output_type": "display_data"
    },
    {
     "data": {
      "text/html": [
       "<pre style=\"white-space:pre;overflow-x:auto;line-height:normal;font-family:Menlo,'DejaVu Sans Mono',consolas,'Courier New',monospace\">dist:  16.89483265088775\n",
       "</pre>\n"
      ],
      "text/plain": [
       "dist:  16.89483265088775\n"
      ]
     },
     "metadata": {},
     "output_type": "display_data"
    },
    {
     "data": {
      "text/html": [
       "<pre style=\"white-space:pre;overflow-x:auto;line-height:normal;font-family:Menlo,'DejaVu Sans Mono',consolas,'Courier New',monospace\">action:  [ 0.39932048 -0.14847778 -0.8733961   1.        ]\n",
       "</pre>\n"
      ],
      "text/plain": [
       "action:  [ 0.39932048 -0.14847778 -0.8733961   1.        ]\n"
      ]
     },
     "metadata": {},
     "output_type": "display_data"
    },
    {
     "data": {
      "text/html": [
       "<pre style=\"white-space:pre;overflow-x:auto;line-height:normal;font-family:Menlo,'DejaVu Sans Mono',consolas,'Courier New',monospace\">position:  (0.05917455058222171, 0.06031305895993727, 0.11550439939415308)\n",
       "</pre>\n"
      ],
      "text/plain": [
       "position:  (0.05917455058222171, 0.06031305895993727, 0.11550439939415308)\n"
      ]
     },
     "metadata": {},
     "output_type": "display_data"
    },
    {
     "data": {
      "text/html": [
       "<pre style=\"white-space:pre;overflow-x:auto;line-height:normal;font-family:Menlo,'DejaVu Sans Mono',consolas,'Courier New',monospace\">jammer pos:  [10.2299043  12.30450941  5.76251045]\n",
       "</pre>\n"
      ],
      "text/plain": [
       "jammer pos:  [10.2299043  12.30450941  5.76251045]\n"
      ]
     },
     "metadata": {},
     "output_type": "display_data"
    },
    {
     "data": {
      "text/html": [
       "<pre style=\"white-space:pre;overflow-x:auto;line-height:normal;font-family:Menlo,'DejaVu Sans Mono',consolas,'Courier New',monospace\">dist:  16.889427615158706\n",
       "</pre>\n"
      ],
      "text/plain": [
       "dist:  16.889427615158706\n"
      ]
     },
     "metadata": {},
     "output_type": "display_data"
    },
    {
     "name": "stdout",
     "output_type": "stream",
     "text": [
      "-------------------------------------------\n",
      "| rollout/                |               |\n",
      "|    ep_len_mean          | 28            |\n",
      "|    ep_rew_mean          | -1.02e+06     |\n",
      "| time/                   |               |\n",
      "|    fps                  | 117           |\n",
      "|    iterations           | 26            |\n",
      "|    time_elapsed         | 14            |\n",
      "|    total_timesteps      | 1664          |\n",
      "| train/                  |               |\n",
      "|    approx_kl            | 9.9651515e-08 |\n",
      "|    clip_fraction        | 0             |\n",
      "|    clip_range           | 0.2           |\n",
      "|    entropy_loss         | -5.68         |\n",
      "|    explained_variance   | 0             |\n",
      "|    learning_rate        | 0.0003        |\n",
      "|    loss                 | 7.27e+10      |\n",
      "|    n_updates            | 250           |\n",
      "|    policy_gradient_loss | -7.56e-05     |\n",
      "|    std                  | 1             |\n",
      "|    value_loss           | 1.45e+11      |\n",
      "-------------------------------------------\n"
     ]
    },
    {
     "data": {
      "text/html": [
       "<pre style=\"white-space:pre;overflow-x:auto;line-height:normal;font-family:Menlo,'DejaVu Sans Mono',consolas,'Courier New',monospace\">action:  [ 0.40768632 -0.3314322   0.34978253  1.        ]\n",
       "</pre>\n"
      ],
      "text/plain": [
       "action:  [ 0.40768632 -0.3314322   0.34978253  1.        ]\n"
      ]
     },
     "metadata": {},
     "output_type": "display_data"
    },
    {
     "data": {
      "text/html": [
       "<pre style=\"white-space:pre;overflow-x:auto;line-height:normal;font-family:Menlo,'DejaVu Sans Mono',consolas,'Courier New',monospace\">position:  (0.11677966653130568, 0.1385529084556761, 0.17609747146803065)\n",
       "</pre>\n"
      ],
      "text/plain": [
       "position:  (0.11677966653130568, 0.1385529084556761, 0.17609747146803065)\n"
      ]
     },
     "metadata": {},
     "output_type": "display_data"
    },
    {
     "data": {
      "text/html": [
       "<pre style=\"white-space:pre;overflow-x:auto;line-height:normal;font-family:Menlo,'DejaVu Sans Mono',consolas,'Courier New',monospace\">jammer pos:  [10.2299043  12.30450941  5.76251045]\n",
       "</pre>\n"
      ],
      "text/plain": [
       "jammer pos:  [10.2299043  12.30450941  5.76251045]\n"
      ]
     },
     "metadata": {},
     "output_type": "display_data"
    },
    {
     "data": {
      "text/html": [
       "<pre style=\"white-space:pre;overflow-x:auto;line-height:normal;font-family:Menlo,'DejaVu Sans Mono',consolas,'Courier New',monospace\">dist:  16.777776888796964\n",
       "</pre>\n"
      ],
      "text/plain": [
       "dist:  16.777776888796964\n"
      ]
     },
     "metadata": {},
     "output_type": "display_data"
    },
    {
     "data": {
      "text/html": [
       "<pre style=\"white-space:pre;overflow-x:auto;line-height:normal;font-family:Menlo,'DejaVu Sans Mono',consolas,'Courier New',monospace\">action:  [-1.          0.02691083 -1.          1.        ]\n",
       "</pre>\n"
      ],
      "text/plain": [
       "action:  [-1.          0.02691083 -1.          1.        ]\n"
      ]
     },
     "metadata": {},
     "output_type": "display_data"
    },
    {
     "data": {
      "text/html": [
       "<pre style=\"white-space:pre;overflow-x:auto;line-height:normal;font-family:Menlo,'DejaVu Sans Mono',consolas,'Courier New',monospace\">position:  (0.16093407596395298, 0.16757126213845455, 0.22547995508468027)\n",
       "</pre>\n"
      ],
      "text/plain": [
       "position:  (0.16093407596395298, 0.16757126213845455, 0.22547995508468027)\n"
      ]
     },
     "metadata": {},
     "output_type": "display_data"
    },
    {
     "data": {
      "text/html": [
       "<pre style=\"white-space:pre;overflow-x:auto;line-height:normal;font-family:Menlo,'DejaVu Sans Mono',consolas,'Courier New',monospace\">jammer pos:  [10.2299043  12.30450941  5.76251045]\n",
       "</pre>\n"
      ],
      "text/plain": [
       "jammer pos:  [10.2299043  12.30450941  5.76251045]\n"
      ]
     },
     "metadata": {},
     "output_type": "display_data"
    },
    {
     "data": {
      "text/html": [
       "<pre style=\"white-space:pre;overflow-x:auto;line-height:normal;font-family:Menlo,'DejaVu Sans Mono',consolas,'Courier New',monospace\">dist:  16.713711006031932\n",
       "</pre>\n"
      ],
      "text/plain": [
       "dist:  16.713711006031932\n"
      ]
     },
     "metadata": {},
     "output_type": "display_data"
    },
    {
     "name": "stdout",
     "output_type": "stream",
     "text": [
      "-------------------------------------------\n",
      "| rollout/                |               |\n",
      "|    ep_len_mean          | 28.1          |\n",
      "|    ep_rew_mean          | -1.02e+06     |\n",
      "| time/                   |               |\n",
      "|    fps                  | 115           |\n",
      "|    iterations           | 27            |\n",
      "|    time_elapsed         | 14            |\n",
      "|    total_timesteps      | 1728          |\n",
      "| train/                  |               |\n",
      "|    approx_kl            | 7.8231096e-08 |\n",
      "|    clip_fraction        | 0             |\n",
      "|    clip_range           | 0.2           |\n",
      "|    entropy_loss         | -5.68         |\n",
      "|    explained_variance   | 5.96e-08      |\n",
      "|    learning_rate        | 0.0003        |\n",
      "|    loss                 | 1.67e+11      |\n",
      "|    n_updates            | 260           |\n",
      "|    policy_gradient_loss | -1.06e-05     |\n",
      "|    std                  | 1             |\n",
      "|    value_loss           | 3.34e+11      |\n",
      "-------------------------------------------\n"
     ]
    },
    {
     "data": {
      "text/html": [
       "<pre style=\"white-space:pre;overflow-x:auto;line-height:normal;font-family:Menlo,'DejaVu Sans Mono',consolas,'Courier New',monospace\">action:  [ 0.12390601 -0.5101453  -1.          1.        ]\n",
       "</pre>\n"
      ],
      "text/plain": [
       "action:  [ 0.12390601 -0.5101453  -1.          1.        ]\n"
      ]
     },
     "metadata": {},
     "output_type": "display_data"
    },
    {
     "data": {
      "text/html": [
       "<pre style=\"white-space:pre;overflow-x:auto;line-height:normal;font-family:Menlo,'DejaVu Sans Mono',consolas,'Courier New',monospace\">position:  (0.11299440829896967, 0.06454902195073826, 0.13800345435416064)\n",
       "</pre>\n"
      ],
      "text/plain": [
       "position:  (0.11299440829896967, 0.06454902195073826, 0.13800345435416064)\n"
      ]
     },
     "metadata": {},
     "output_type": "display_data"
    },
    {
     "data": {
      "text/html": [
       "<pre style=\"white-space:pre;overflow-x:auto;line-height:normal;font-family:Menlo,'DejaVu Sans Mono',consolas,'Courier New',monospace\">jammer pos:  [10.2299043  12.30450941  5.76251045]\n",
       "</pre>\n"
      ],
      "text/plain": [
       "jammer pos:  [10.2299043  12.30450941  5.76251045]\n"
      ]
     },
     "metadata": {},
     "output_type": "display_data"
    },
    {
     "data": {
      "text/html": [
       "<pre style=\"white-space:pre;overflow-x:auto;line-height:normal;font-family:Menlo,'DejaVu Sans Mono',consolas,'Courier New',monospace\">dist:  16.84647069612443\n",
       "</pre>\n"
      ],
      "text/plain": [
       "dist:  16.84647069612443\n"
      ]
     },
     "metadata": {},
     "output_type": "display_data"
    },
    {
     "data": {
      "text/html": [
       "<pre style=\"white-space:pre;overflow-x:auto;line-height:normal;font-family:Menlo,'DejaVu Sans Mono',consolas,'Courier New',monospace\">action:  [-1.          0.92789507 -0.15892893  1.        ]\n",
       "</pre>\n"
      ],
      "text/plain": [
       "action:  [-1.          0.92789507 -0.15892893  1.        ]\n"
      ]
     },
     "metadata": {},
     "output_type": "display_data"
    },
    {
     "data": {
      "text/html": [
       "<pre style=\"white-space:pre;overflow-x:auto;line-height:normal;font-family:Menlo,'DejaVu Sans Mono',consolas,'Courier New',monospace\">position:  (0.11781312241506128, 0.11821945568816317, 0.13144071975617605)\n",
       "</pre>\n"
      ],
      "text/plain": [
       "position:  (0.11781312241506128, 0.11821945568816317, 0.13144071975617605)\n"
      ]
     },
     "metadata": {},
     "output_type": "display_data"
    },
    {
     "data": {
      "text/html": [
       "<pre style=\"white-space:pre;overflow-x:auto;line-height:normal;font-family:Menlo,'DejaVu Sans Mono',consolas,'Courier New',monospace\">jammer pos:  [10.2299043  12.30450941  5.76251045]\n",
       "</pre>\n"
      ],
      "text/plain": [
       "jammer pos:  [10.2299043  12.30450941  5.76251045]\n"
      ]
     },
     "metadata": {},
     "output_type": "display_data"
    },
    {
     "data": {
      "text/html": [
       "<pre style=\"white-space:pre;overflow-x:auto;line-height:normal;font-family:Menlo,'DejaVu Sans Mono',consolas,'Courier New',monospace\">dist:  16.806814006684455\n",
       "</pre>\n"
      ],
      "text/plain": [
       "dist:  16.806814006684455\n"
      ]
     },
     "metadata": {},
     "output_type": "display_data"
    },
    {
     "data": {
      "text/html": [
       "<pre style=\"white-space:pre;overflow-x:auto;line-height:normal;font-family:Menlo,'DejaVu Sans Mono',consolas,'Courier New',monospace\">action:  [-0.8195504  -1.          0.05927661  1.        ]\n",
       "</pre>\n"
      ],
      "text/plain": [
       "action:  [-0.8195504  -1.          0.05927661  1.        ]\n"
      ]
     },
     "metadata": {},
     "output_type": "display_data"
    },
    {
     "data": {
      "text/html": [
       "<pre style=\"white-space:pre;overflow-x:auto;line-height:normal;font-family:Menlo,'DejaVu Sans Mono',consolas,'Courier New',monospace\">position:  (0.0642251711520211, 0.0823672669293932, 0.12214292299430216)\n",
       "</pre>\n"
      ],
      "text/plain": [
       "position:  (0.0642251711520211, 0.0823672669293932, 0.12214292299430216)\n"
      ]
     },
     "metadata": {},
     "output_type": "display_data"
    },
    {
     "data": {
      "text/html": [
       "<pre style=\"white-space:pre;overflow-x:auto;line-height:normal;font-family:Menlo,'DejaVu Sans Mono',consolas,'Courier New',monospace\">jammer pos:  [10.2299043  12.30450941  5.76251045]\n",
       "</pre>\n"
      ],
      "text/plain": [
       "jammer pos:  [10.2299043  12.30450941  5.76251045]\n"
      ]
     },
     "metadata": {},
     "output_type": "display_data"
    },
    {
     "data": {
      "text/html": [
       "<pre style=\"white-space:pre;overflow-x:auto;line-height:normal;font-family:Menlo,'DejaVu Sans Mono',consolas,'Courier New',monospace\">dist:  16.8681811843953\n",
       "</pre>\n"
      ],
      "text/plain": [
       "dist:  16.8681811843953\n"
      ]
     },
     "metadata": {},
     "output_type": "display_data"
    },
    {
     "name": "stdout",
     "output_type": "stream",
     "text": [
      "------------------------------------------\n",
      "| rollout/                |              |\n",
      "|    ep_len_mean          | 28           |\n",
      "|    ep_rew_mean          | -1.02e+06    |\n",
      "| time/                   |              |\n",
      "|    fps                  | 115          |\n",
      "|    iterations           | 28           |\n",
      "|    time_elapsed         | 15           |\n",
      "|    total_timesteps      | 1792         |\n",
      "| train/                  |              |\n",
      "|    approx_kl            | 9.313226e-10 |\n",
      "|    clip_fraction        | 0            |\n",
      "|    clip_range           | 0.2          |\n",
      "|    entropy_loss         | -5.68        |\n",
      "|    explained_variance   | 0            |\n",
      "|    learning_rate        | 0.0003       |\n",
      "|    loss                 | 1.24e+11     |\n",
      "|    n_updates            | 270          |\n",
      "|    policy_gradient_loss | 5.58e-06     |\n",
      "|    std                  | 1            |\n",
      "|    value_loss           | 2.48e+11     |\n",
      "------------------------------------------\n"
     ]
    },
    {
     "data": {
      "text/html": [
       "<pre style=\"white-space:pre;overflow-x:auto;line-height:normal;font-family:Menlo,'DejaVu Sans Mono',consolas,'Courier New',monospace\">action:  [ 0.10624889 -0.13620806  0.47003043  1.        ]\n",
       "</pre>\n"
      ],
      "text/plain": [
       "action:  [ 0.10624889 -0.13620806  0.47003043  1.        ]\n"
      ]
     },
     "metadata": {},
     "output_type": "display_data"
    },
    {
     "data": {
      "text/html": [
       "<pre style=\"white-space:pre;overflow-x:auto;line-height:normal;font-family:Menlo,'DejaVu Sans Mono',consolas,'Courier New',monospace\">position:  (0.05427771515473793, 0.08459941495519142, 0.12518922861251638)\n",
       "</pre>\n"
      ],
      "text/plain": [
       "position:  (0.05427771515473793, 0.08459941495519142, 0.12518922861251638)\n"
      ]
     },
     "metadata": {},
     "output_type": "display_data"
    },
    {
     "data": {
      "text/html": [
       "<pre style=\"white-space:pre;overflow-x:auto;line-height:normal;font-family:Menlo,'DejaVu Sans Mono',consolas,'Courier New',monospace\">jammer pos:  [10.2299043  12.30450941  5.76251045]\n",
       "</pre>\n"
      ],
      "text/plain": [
       "jammer pos:  [10.2299043  12.30450941  5.76251045]\n"
      ]
     },
     "metadata": {},
     "output_type": "display_data"
    },
    {
     "data": {
      "text/html": [
       "<pre style=\"white-space:pre;overflow-x:auto;line-height:normal;font-family:Menlo,'DejaVu Sans Mono',consolas,'Courier New',monospace\">dist:  16.871543116979108\n",
       "</pre>\n"
      ],
      "text/plain": [
       "dist:  16.871543116979108\n"
      ]
     },
     "metadata": {},
     "output_type": "display_data"
    },
    {
     "data": {
      "text/html": [
       "<pre style=\"white-space:pre;overflow-x:auto;line-height:normal;font-family:Menlo,'DejaVu Sans Mono',consolas,'Courier New',monospace\">action:  [ 0.00502461 -1.         -0.40901446  1.        ]\n",
       "</pre>\n"
      ],
      "text/plain": [
       "action:  [ 0.00502461 -1.         -0.40901446  1.        ]\n"
      ]
     },
     "metadata": {},
     "output_type": "display_data"
    },
    {
     "data": {
      "text/html": [
       "<pre style=\"white-space:pre;overflow-x:auto;line-height:normal;font-family:Menlo,'DejaVu Sans Mono',consolas,'Courier New',monospace\">position:  (0.06756578433782397, 0.06584085812600948, 0.11081173276843281)\n",
       "</pre>\n"
      ],
      "text/plain": [
       "position:  (0.06756578433782397, 0.06584085812600948, 0.11081173276843281)\n"
      ]
     },
     "metadata": {},
     "output_type": "display_data"
    },
    {
     "data": {
      "text/html": [
       "<pre style=\"white-space:pre;overflow-x:auto;line-height:normal;font-family:Menlo,'DejaVu Sans Mono',consolas,'Courier New',monospace\">jammer pos:  [10.2299043  12.30450941  5.76251045]\n",
       "</pre>\n"
      ],
      "text/plain": [
       "jammer pos:  [10.2299043  12.30450941  5.76251045]\n"
      ]
     },
     "metadata": {},
     "output_type": "display_data"
    },
    {
     "data": {
      "text/html": [
       "<pre style=\"white-space:pre;overflow-x:auto;line-height:normal;font-family:Menlo,'DejaVu Sans Mono',consolas,'Courier New',monospace\">dist:  16.881937991047444\n",
       "</pre>\n"
      ],
      "text/plain": [
       "dist:  16.881937991047444\n"
      ]
     },
     "metadata": {},
     "output_type": "display_data"
    },
    {
     "name": "stdout",
     "output_type": "stream",
     "text": [
      "-------------------------------------------\n",
      "| rollout/                |               |\n",
      "|    ep_len_mean          | 27.8          |\n",
      "|    ep_rew_mean          | -1.02e+06     |\n",
      "| time/                   |               |\n",
      "|    fps                  | 116           |\n",
      "|    iterations           | 29            |\n",
      "|    time_elapsed         | 15            |\n",
      "|    total_timesteps      | 1856          |\n",
      "| train/                  |               |\n",
      "|    approx_kl            | 2.4214387e-08 |\n",
      "|    clip_fraction        | 0             |\n",
      "|    clip_range           | 0.2           |\n",
      "|    entropy_loss         | -5.68         |\n",
      "|    explained_variance   | 0             |\n",
      "|    learning_rate        | 0.0003        |\n",
      "|    loss                 | 1.83e+11      |\n",
      "|    n_updates            | 280           |\n",
      "|    policy_gradient_loss | -3.31e-05     |\n",
      "|    std                  | 1             |\n",
      "|    value_loss           | 3.66e+11      |\n",
      "-------------------------------------------\n"
     ]
    },
    {
     "data": {
      "text/html": [
       "<pre style=\"white-space:pre;overflow-x:auto;line-height:normal;font-family:Menlo,'DejaVu Sans Mono',consolas,'Courier New',monospace\">action:  [-1.         -0.07393929  0.28939098  1.        ]\n",
       "</pre>\n"
      ],
      "text/plain": [
       "action:  [-1.         -0.07393929  0.28939098  1.        ]\n"
      ]
     },
     "metadata": {},
     "output_type": "display_data"
    },
    {
     "data": {
      "text/html": [
       "<pre style=\"white-space:pre;overflow-x:auto;line-height:normal;font-family:Menlo,'DejaVu Sans Mono',consolas,'Courier New',monospace\">position:  (0.11666509414502041, 0.0813351950866191, 0.17323688425841208)\n",
       "</pre>\n"
      ],
      "text/plain": [
       "position:  (0.11666509414502041, 0.0813351950866191, 0.17323688425841208)\n"
      ]
     },
     "metadata": {},
     "output_type": "display_data"
    },
    {
     "data": {
      "text/html": [
       "<pre style=\"white-space:pre;overflow-x:auto;line-height:normal;font-family:Menlo,'DejaVu Sans Mono',consolas,'Courier New',monospace\">jammer pos:  [10.2299043  12.30450941  5.76251045]\n",
       "</pre>\n"
      ],
      "text/plain": [
       "jammer pos:  [10.2299043  12.30450941  5.76251045]\n"
      ]
     },
     "metadata": {},
     "output_type": "display_data"
    },
    {
     "data": {
      "text/html": [
       "<pre style=\"white-space:pre;overflow-x:auto;line-height:normal;font-family:Menlo,'DejaVu Sans Mono',consolas,'Courier New',monospace\">dist:  16.82033216167613\n",
       "</pre>\n"
      ],
      "text/plain": [
       "dist:  16.82033216167613\n"
      ]
     },
     "metadata": {},
     "output_type": "display_data"
    },
    {
     "data": {
      "text/html": [
       "<pre style=\"white-space:pre;overflow-x:auto;line-height:normal;font-family:Menlo,'DejaVu Sans Mono',consolas,'Courier New',monospace\">action:  [-0.74446666 -0.58354086  0.25623798  1.        ]\n",
       "</pre>\n"
      ],
      "text/plain": [
       "action:  [-0.74446666 -0.58354086  0.25623798  1.        ]\n"
      ]
     },
     "metadata": {},
     "output_type": "display_data"
    },
    {
     "data": {
      "text/html": [
       "<pre style=\"white-space:pre;overflow-x:auto;line-height:normal;font-family:Menlo,'DejaVu Sans Mono',consolas,'Courier New',monospace\">position:  (0.0819427484292542, 0.06280827001326932, 0.11348427273252205)\n",
       "</pre>\n"
      ],
      "text/plain": [
       "position:  (0.0819427484292542, 0.06280827001326932, 0.11348427273252205)\n"
      ]
     },
     "metadata": {},
     "output_type": "display_data"
    },
    {
     "data": {
      "text/html": [
       "<pre style=\"white-space:pre;overflow-x:auto;line-height:normal;font-family:Menlo,'DejaVu Sans Mono',consolas,'Courier New',monospace\">jammer pos:  [10.2299043  12.30450941  5.76251045]\n",
       "</pre>\n"
      ],
      "text/plain": [
       "jammer pos:  [10.2299043  12.30450941  5.76251045]\n"
      ]
     },
     "metadata": {},
     "output_type": "display_data"
    },
    {
     "data": {
      "text/html": [
       "<pre style=\"white-space:pre;overflow-x:auto;line-height:normal;font-family:Menlo,'DejaVu Sans Mono',consolas,'Courier New',monospace\">dist:  16.874592354127874\n",
       "</pre>\n"
      ],
      "text/plain": [
       "dist:  16.874592354127874\n"
      ]
     },
     "metadata": {},
     "output_type": "display_data"
    },
    {
     "data": {
      "text/html": [
       "<pre style=\"white-space:pre;overflow-x:auto;line-height:normal;font-family:Menlo,'DejaVu Sans Mono',consolas,'Courier New',monospace\">action:  [ 0.66001827 -1.         -0.5081873   1.        ]\n",
       "</pre>\n"
      ],
      "text/plain": [
       "action:  [ 0.66001827 -1.         -0.5081873   1.        ]\n"
      ]
     },
     "metadata": {},
     "output_type": "display_data"
    },
    {
     "data": {
      "text/html": [
       "<pre style=\"white-space:pre;overflow-x:auto;line-height:normal;font-family:Menlo,'DejaVu Sans Mono',consolas,'Courier New',monospace\">position:  (0.09019646633789982, 0.09556637897333801, 0.11468843315351433)\n",
       "</pre>\n"
      ],
      "text/plain": [
       "position:  (0.09019646633789982, 0.09556637897333801, 0.11468843315351433)\n"
      ]
     },
     "metadata": {},
     "output_type": "display_data"
    },
    {
     "data": {
      "text/html": [
       "<pre style=\"white-space:pre;overflow-x:auto;line-height:normal;font-family:Menlo,'DejaVu Sans Mono',consolas,'Courier New',monospace\">jammer pos:  [10.2299043  12.30450941  5.76251045]\n",
       "</pre>\n"
      ],
      "text/plain": [
       "jammer pos:  [10.2299043  12.30450941  5.76251045]\n"
      ]
     },
     "metadata": {},
     "output_type": "display_data"
    },
    {
     "data": {
      "text/html": [
       "<pre style=\"white-space:pre;overflow-x:auto;line-height:normal;font-family:Menlo,'DejaVu Sans Mono',consolas,'Courier New',monospace\">dist:  16.845469964794713\n",
       "</pre>\n"
      ],
      "text/plain": [
       "dist:  16.845469964794713\n"
      ]
     },
     "metadata": {},
     "output_type": "display_data"
    },
    {
     "name": "stdout",
     "output_type": "stream",
     "text": [
      "-------------------------------------------\n",
      "| rollout/                |               |\n",
      "|    ep_len_mean          | 27.8          |\n",
      "|    ep_rew_mean          | -1.02e+06     |\n",
      "| time/                   |               |\n",
      "|    fps                  | 115           |\n",
      "|    iterations           | 30            |\n",
      "|    time_elapsed         | 16            |\n",
      "|    total_timesteps      | 1920          |\n",
      "| train/                  |               |\n",
      "|    approx_kl            | 1.9557774e-08 |\n",
      "|    clip_fraction        | 0             |\n",
      "|    clip_range           | 0.2           |\n",
      "|    entropy_loss         | -5.68         |\n",
      "|    explained_variance   | 0             |\n",
      "|    learning_rate        | 0.0003        |\n",
      "|    loss                 | 1.29e+11      |\n",
      "|    n_updates            | 290           |\n",
      "|    policy_gradient_loss | -1.44e-05     |\n",
      "|    std                  | 1             |\n",
      "|    value_loss           | 2.58e+11      |\n",
      "-------------------------------------------\n"
     ]
    },
    {
     "data": {
      "text/html": [
       "<pre style=\"white-space:pre;overflow-x:auto;line-height:normal;font-family:Menlo,'DejaVu Sans Mono',consolas,'Courier New',monospace\">action:  [-1.         0.8544377 -0.9671647  1.       ]\n",
       "</pre>\n"
      ],
      "text/plain": [
       "action:  [-1.         0.8544377 -0.9671647  1.       ]\n"
      ]
     },
     "metadata": {},
     "output_type": "display_data"
    },
    {
     "data": {
      "text/html": [
       "<pre style=\"white-space:pre;overflow-x:auto;line-height:normal;font-family:Menlo,'DejaVu Sans Mono',consolas,'Courier New',monospace\">position:  (0.11829717868858704, 0.09546340566373851, 0.14378220048953289)\n",
       "</pre>\n"
      ],
      "text/plain": [
       "position:  (0.11829717868858704, 0.09546340566373851, 0.14378220048953289)\n"
      ]
     },
     "metadata": {},
     "output_type": "display_data"
    },
    {
     "data": {
      "text/html": [
       "<pre style=\"white-space:pre;overflow-x:auto;line-height:normal;font-family:Menlo,'DejaVu Sans Mono',consolas,'Courier New',monospace\">jammer pos:  [10.2299043  12.30450941  5.76251045]\n",
       "</pre>\n"
      ],
      "text/plain": [
       "jammer pos:  [10.2299043  12.30450941  5.76251045]\n"
      ]
     },
     "metadata": {},
     "output_type": "display_data"
    },
    {
     "data": {
      "text/html": [
       "<pre style=\"white-space:pre;overflow-x:auto;line-height:normal;font-family:Menlo,'DejaVu Sans Mono',consolas,'Courier New',monospace\">dist:  16.818903352102613\n",
       "</pre>\n"
      ],
      "text/plain": [
       "dist:  16.818903352102613\n"
      ]
     },
     "metadata": {},
     "output_type": "display_data"
    },
    {
     "data": {
      "text/html": [
       "<pre style=\"white-space:pre;overflow-x:auto;line-height:normal;font-family:Menlo,'DejaVu Sans Mono',consolas,'Courier New',monospace\">action:  [-0.08797074 -0.70217085  0.8695218   1.        ]\n",
       "</pre>\n"
      ],
      "text/plain": [
       "action:  [-0.08797074 -0.70217085  0.8695218   1.        ]\n"
      ]
     },
     "metadata": {},
     "output_type": "display_data"
    },
    {
     "data": {
      "text/html": [
       "<pre style=\"white-space:pre;overflow-x:auto;line-height:normal;font-family:Menlo,'DejaVu Sans Mono',consolas,'Courier New',monospace\">position:  (0.08952083285196524, 0.08494639170681227, 0.12735306524461448)\n",
       "</pre>\n"
      ],
      "text/plain": [
       "position:  (0.08952083285196524, 0.08494639170681227, 0.12735306524461448)\n"
      ]
     },
     "metadata": {},
     "output_type": "display_data"
    },
    {
     "data": {
      "text/html": [
       "<pre style=\"white-space:pre;overflow-x:auto;line-height:normal;font-family:Menlo,'DejaVu Sans Mono',consolas,'Courier New',monospace\">jammer pos:  [10.2299043  12.30450941  5.76251045]\n",
       "</pre>\n"
      ],
      "text/plain": [
       "jammer pos:  [10.2299043  12.30450941  5.76251045]\n"
      ]
     },
     "metadata": {},
     "output_type": "display_data"
    },
    {
     "data": {
      "text/html": [
       "<pre style=\"white-space:pre;overflow-x:auto;line-height:normal;font-family:Menlo,'DejaVu Sans Mono',consolas,'Courier New',monospace\">dist:  16.849335176308088\n",
       "</pre>\n"
      ],
      "text/plain": [
       "dist:  16.849335176308088\n"
      ]
     },
     "metadata": {},
     "output_type": "display_data"
    },
    {
     "name": "stdout",
     "output_type": "stream",
     "text": [
      "-------------------------------------------\n",
      "| rollout/                |               |\n",
      "|    ep_len_mean          | 27.7          |\n",
      "|    ep_rew_mean          | -1.02e+06     |\n",
      "| time/                   |               |\n",
      "|    fps                  | 115           |\n",
      "|    iterations           | 31            |\n",
      "|    time_elapsed         | 17            |\n",
      "|    total_timesteps      | 1984          |\n",
      "| train/                  |               |\n",
      "|    approx_kl            | 1.1175871e-08 |\n",
      "|    clip_fraction        | 0             |\n",
      "|    clip_range           | 0.2           |\n",
      "|    entropy_loss         | -5.68         |\n",
      "|    explained_variance   | -1.19e-07     |\n",
      "|    learning_rate        | 0.0003        |\n",
      "|    loss                 | 1.81e+11      |\n",
      "|    n_updates            | 300           |\n",
      "|    policy_gradient_loss | -2.54e-05     |\n",
      "|    std                  | 1             |\n",
      "|    value_loss           | 3.61e+11      |\n",
      "-------------------------------------------\n"
     ]
    },
    {
     "data": {
      "text/html": [
       "<pre style=\"white-space:pre;overflow-x:auto;line-height:normal;font-family:Menlo,'DejaVu Sans Mono',consolas,'Courier New',monospace\">action:  [-1.          1.         -0.79603446  1.        ]\n",
       "</pre>\n"
      ],
      "text/plain": [
       "action:  [-1.          1.         -0.79603446  1.        ]\n"
      ]
     },
     "metadata": {},
     "output_type": "display_data"
    },
    {
     "data": {
      "text/html": [
       "<pre style=\"white-space:pre;overflow-x:auto;line-height:normal;font-family:Menlo,'DejaVu Sans Mono',consolas,'Courier New',monospace\">position:  (0.08618633836191247, 0.061186086448338665, 0.10779656335004352)\n",
       "</pre>\n"
      ],
      "text/plain": [
       "position:  (0.08618633836191247, 0.061186086448338665, 0.10779656335004352)\n"
      ]
     },
     "metadata": {},
     "output_type": "display_data"
    },
    {
     "data": {
      "text/html": [
       "<pre style=\"white-space:pre;overflow-x:auto;line-height:normal;font-family:Menlo,'DejaVu Sans Mono',consolas,'Courier New',monospace\">jammer pos:  [10.2299043  12.30450941  5.76251045]\n",
       "</pre>\n"
      ],
      "text/plain": [
       "jammer pos:  [10.2299043  12.30450941  5.76251045]\n"
      ]
     },
     "metadata": {},
     "output_type": "display_data"
    },
    {
     "data": {
      "text/html": [
       "<pre style=\"white-space:pre;overflow-x:auto;line-height:normal;font-family:Menlo,'DejaVu Sans Mono',consolas,'Courier New',monospace\">dist:  16.875122788999185\n",
       "</pre>\n"
      ],
      "text/plain": [
       "dist:  16.875122788999185\n"
      ]
     },
     "metadata": {},
     "output_type": "display_data"
    },
    {
     "data": {
      "text/html": [
       "<pre style=\"white-space:pre;overflow-x:auto;line-height:normal;font-family:Menlo,'DejaVu Sans Mono',consolas,'Courier New',monospace\">action:  [ 0.30805615 -0.03394367 -1.          1.        ]\n",
       "</pre>\n"
      ],
      "text/plain": [
       "action:  [ 0.30805615 -0.03394367 -1.          1.        ]\n"
      ]
     },
     "metadata": {},
     "output_type": "display_data"
    },
    {
     "data": {
      "text/html": [
       "<pre style=\"white-space:pre;overflow-x:auto;line-height:normal;font-family:Menlo,'DejaVu Sans Mono',consolas,'Courier New',monospace\">position:  (0.14149498938297225, 0.16554815325873481, 0.2247213139540201)\n",
       "</pre>\n"
      ],
      "text/plain": [
       "position:  (0.14149498938297225, 0.16554815325873481, 0.2247213139540201)\n"
      ]
     },
     "metadata": {},
     "output_type": "display_data"
    },
    {
     "data": {
      "text/html": [
       "<pre style=\"white-space:pre;overflow-x:auto;line-height:normal;font-family:Menlo,'DejaVu Sans Mono',consolas,'Courier New',monospace\">jammer pos:  [10.2299043  12.30450941  5.76251045]\n",
       "</pre>\n"
      ],
      "text/plain": [
       "jammer pos:  [10.2299043  12.30450941  5.76251045]\n"
      ]
     },
     "metadata": {},
     "output_type": "display_data"
    },
    {
     "data": {
      "text/html": [
       "<pre style=\"white-space:pre;overflow-x:auto;line-height:normal;font-family:Menlo,'DejaVu Sans Mono',consolas,'Courier New',monospace\">dist:  16.727148329601604\n",
       "</pre>\n"
      ],
      "text/plain": [
       "dist:  16.727148329601604\n"
      ]
     },
     "metadata": {},
     "output_type": "display_data"
    },
    {
     "name": "stdout",
     "output_type": "stream",
     "text": [
      "-------------------------------------------\n",
      "| rollout/                |               |\n",
      "|    ep_len_mean          | 27.7          |\n",
      "|    ep_rew_mean          | -1.02e+06     |\n",
      "| time/                   |               |\n",
      "|    fps                  | 115           |\n",
      "|    iterations           | 32            |\n",
      "|    time_elapsed         | 17            |\n",
      "|    total_timesteps      | 2048          |\n",
      "| train/                  |               |\n",
      "|    approx_kl            | 1.5832484e-08 |\n",
      "|    clip_fraction        | 0             |\n",
      "|    clip_range           | 0.2           |\n",
      "|    entropy_loss         | -5.68         |\n",
      "|    explained_variance   | 0             |\n",
      "|    learning_rate        | 0.0003        |\n",
      "|    loss                 | 1.29e+11      |\n",
      "|    n_updates            | 310           |\n",
      "|    policy_gradient_loss | -9.01e-06     |\n",
      "|    std                  | 1             |\n",
      "|    value_loss           | 2.58e+11      |\n",
      "-------------------------------------------\n"
     ]
    },
    {
     "data": {
      "text/html": [
       "<pre style=\"white-space:pre;overflow-x:auto;line-height:normal;font-family:Menlo,'DejaVu Sans Mono',consolas,'Courier New',monospace\">action:  [0.02179718 0.24554273 0.02792049 1.        ]\n",
       "</pre>\n"
      ],
      "text/plain": [
       "action:  [0.02179718 0.24554273 0.02792049 1.        ]\n"
      ]
     },
     "metadata": {},
     "output_type": "display_data"
    },
    {
     "data": {
      "text/html": [
       "<pre style=\"white-space:pre;overflow-x:auto;line-height:normal;font-family:Menlo,'DejaVu Sans Mono',consolas,'Courier New',monospace\">position:  (0.1347039371342601, 0.17776809337997976, 0.2553713056592384)\n",
       "</pre>\n"
      ],
      "text/plain": [
       "position:  (0.1347039371342601, 0.17776809337997976, 0.2553713056592384)\n"
      ]
     },
     "metadata": {},
     "output_type": "display_data"
    },
    {
     "data": {
      "text/html": [
       "<pre style=\"white-space:pre;overflow-x:auto;line-height:normal;font-family:Menlo,'DejaVu Sans Mono',consolas,'Courier New',monospace\">jammer pos:  [10.2299043  12.30450941  5.76251045]\n",
       "</pre>\n"
      ],
      "text/plain": [
       "jammer pos:  [10.2299043  12.30450941  5.76251045]\n"
      ]
     },
     "metadata": {},
     "output_type": "display_data"
    },
    {
     "data": {
      "text/html": [
       "<pre style=\"white-space:pre;overflow-x:auto;line-height:normal;font-family:Menlo,'DejaVu Sans Mono',consolas,'Courier New',monospace\">dist:  16.712256185077702\n",
       "</pre>\n"
      ],
      "text/plain": [
       "dist:  16.712256185077702\n"
      ]
     },
     "metadata": {},
     "output_type": "display_data"
    },
    {
     "data": {
      "text/html": [
       "<pre style=\"white-space:pre;overflow-x:auto;line-height:normal;font-family:Menlo,'DejaVu Sans Mono',consolas,'Courier New',monospace\">action:  [ 1.         -0.40540606 -0.01148437  1.        ]\n",
       "</pre>\n"
      ],
      "text/plain": [
       "action:  [ 1.         -0.40540606 -0.01148437  1.        ]\n"
      ]
     },
     "metadata": {},
     "output_type": "display_data"
    },
    {
     "data": {
      "text/html": [
       "<pre style=\"white-space:pre;overflow-x:auto;line-height:normal;font-family:Menlo,'DejaVu Sans Mono',consolas,'Courier New',monospace\">position:  (0.1187736230937409, 0.09838246598682036, 0.15742628474906065)\n",
       "</pre>\n"
      ],
      "text/plain": [
       "position:  (0.1187736230937409, 0.09838246598682036, 0.15742628474906065)\n"
      ]
     },
     "metadata": {},
     "output_type": "display_data"
    },
    {
     "data": {
      "text/html": [
       "<pre style=\"white-space:pre;overflow-x:auto;line-height:normal;font-family:Menlo,'DejaVu Sans Mono',consolas,'Courier New',monospace\">jammer pos:  [10.2299043  12.30450941  5.76251045]\n",
       "</pre>\n"
      ],
      "text/plain": [
       "jammer pos:  [10.2299043  12.30450941  5.76251045]\n"
      ]
     },
     "metadata": {},
     "output_type": "display_data"
    },
    {
     "data": {
      "text/html": [
       "<pre style=\"white-space:pre;overflow-x:auto;line-height:normal;font-family:Menlo,'DejaVu Sans Mono',consolas,'Courier New',monospace\">dist:  16.811944175261246\n",
       "</pre>\n"
      ],
      "text/plain": [
       "dist:  16.811944175261246\n"
      ]
     },
     "metadata": {},
     "output_type": "display_data"
    },
    {
     "name": "stdout",
     "output_type": "stream",
     "text": [
      "------------------------------------------\n",
      "| rollout/                |              |\n",
      "|    ep_len_mean          | 27.8         |\n",
      "|    ep_rew_mean          | -1.02e+06    |\n",
      "| time/                   |              |\n",
      "|    fps                  | 116          |\n",
      "|    iterations           | 33           |\n",
      "|    time_elapsed         | 18           |\n",
      "|    total_timesteps      | 2112         |\n",
      "| train/                  |              |\n",
      "|    approx_kl            | 9.313226e-10 |\n",
      "|    clip_fraction        | 0            |\n",
      "|    clip_range           | 0.2          |\n",
      "|    entropy_loss         | -5.68        |\n",
      "|    explained_variance   | 0            |\n",
      "|    learning_rate        | 0.0003       |\n",
      "|    loss                 | 1.02e+11     |\n",
      "|    n_updates            | 320          |\n",
      "|    policy_gradient_loss | -9.53e-06    |\n",
      "|    std                  | 1            |\n",
      "|    value_loss           | 2.04e+11     |\n",
      "------------------------------------------\n"
     ]
    },
    {
     "data": {
      "text/html": [
       "<pre style=\"white-space:pre;overflow-x:auto;line-height:normal;font-family:Menlo,'DejaVu Sans Mono',consolas,'Courier New',monospace\">action:  [-1.          1.          0.61011994  1.        ]\n",
       "</pre>\n"
      ],
      "text/plain": [
       "action:  [-1.          1.          0.61011994  1.        ]\n"
      ]
     },
     "metadata": {},
     "output_type": "display_data"
    },
    {
     "data": {
      "text/html": [
       "<pre style=\"white-space:pre;overflow-x:auto;line-height:normal;font-family:Menlo,'DejaVu Sans Mono',consolas,'Courier New',monospace\">position:  (0.09519863734279763, 0.11495340372094227, 0.1465983954223819)\n",
       "</pre>\n"
      ],
      "text/plain": [
       "position:  (0.09519863734279763, 0.11495340372094227, 0.1465983954223819)\n"
      ]
     },
     "metadata": {},
     "output_type": "display_data"
    },
    {
     "data": {
      "text/html": [
       "<pre style=\"white-space:pre;overflow-x:auto;line-height:normal;font-family:Menlo,'DejaVu Sans Mono',consolas,'Courier New',monospace\">jammer pos:  [10.2299043  12.30450941  5.76251045]\n",
       "</pre>\n"
      ],
      "text/plain": [
       "jammer pos:  [10.2299043  12.30450941  5.76251045]\n"
      ]
     },
     "metadata": {},
     "output_type": "display_data"
    },
    {
     "data": {
      "text/html": [
       "<pre style=\"white-space:pre;overflow-x:auto;line-height:normal;font-family:Menlo,'DejaVu Sans Mono',consolas,'Courier New',monospace\">dist:  16.817728818648586\n",
       "</pre>\n"
      ],
      "text/plain": [
       "dist:  16.817728818648586\n"
      ]
     },
     "metadata": {},
     "output_type": "display_data"
    },
    {
     "data": {
      "text/html": [
       "<pre style=\"white-space:pre;overflow-x:auto;line-height:normal;font-family:Menlo,'DejaVu Sans Mono',consolas,'Courier New',monospace\">action:  [-1.          0.80259645  0.89098215  1.        ]\n",
       "</pre>\n"
      ],
      "text/plain": [
       "action:  [-1.          0.80259645  0.89098215  1.        ]\n"
      ]
     },
     "metadata": {},
     "output_type": "display_data"
    },
    {
     "data": {
      "text/html": [
       "<pre style=\"white-space:pre;overflow-x:auto;line-height:normal;font-family:Menlo,'DejaVu Sans Mono',consolas,'Courier New',monospace\">position:  (0.072072485440957, 0.07001053459160589, 0.09754734087579486)\n",
       "</pre>\n"
      ],
      "text/plain": [
       "position:  (0.072072485440957, 0.07001053459160589, 0.09754734087579486)\n"
      ]
     },
     "metadata": {},
     "output_type": "display_data"
    },
    {
     "data": {
      "text/html": [
       "<pre style=\"white-space:pre;overflow-x:auto;line-height:normal;font-family:Menlo,'DejaVu Sans Mono',consolas,'Courier New',monospace\">jammer pos:  [10.2299043  12.30450941  5.76251045]\n",
       "</pre>\n"
      ],
      "text/plain": [
       "jammer pos:  [10.2299043  12.30450941  5.76251045]\n"
      ]
     },
     "metadata": {},
     "output_type": "display_data"
    },
    {
     "data": {
      "text/html": [
       "<pre style=\"white-space:pre;overflow-x:auto;line-height:normal;font-family:Menlo,'DejaVu Sans Mono',consolas,'Courier New',monospace\">dist:  16.880649183214736\n",
       "</pre>\n"
      ],
      "text/plain": [
       "dist:  16.880649183214736\n"
      ]
     },
     "metadata": {},
     "output_type": "display_data"
    },
    {
     "data": {
      "text/html": [
       "<pre style=\"white-space:pre;overflow-x:auto;line-height:normal;font-family:Menlo,'DejaVu Sans Mono',consolas,'Courier New',monospace\">action:  [-0.47844756  1.          0.3001034   1.        ]\n",
       "</pre>\n"
      ],
      "text/plain": [
       "action:  [-0.47844756  1.          0.3001034   1.        ]\n"
      ]
     },
     "metadata": {},
     "output_type": "display_data"
    },
    {
     "data": {
      "text/html": [
       "<pre style=\"white-space:pre;overflow-x:auto;line-height:normal;font-family:Menlo,'DejaVu Sans Mono',consolas,'Courier New',monospace\">position:  (0.11977623226057357, 0.1642761403458344, 0.19829527809523279)\n",
       "</pre>\n"
      ],
      "text/plain": [
       "position:  (0.11977623226057357, 0.1642761403458344, 0.19829527809523279)\n"
      ]
     },
     "metadata": {},
     "output_type": "display_data"
    },
    {
     "data": {
      "text/html": [
       "<pre style=\"white-space:pre;overflow-x:auto;line-height:normal;font-family:Menlo,'DejaVu Sans Mono',consolas,'Courier New',monospace\">jammer pos:  [10.2299043  12.30450941  5.76251045]\n",
       "</pre>\n"
      ],
      "text/plain": [
       "jammer pos:  [10.2299043  12.30450941  5.76251045]\n"
      ]
     },
     "metadata": {},
     "output_type": "display_data"
    },
    {
     "data": {
      "text/html": [
       "<pre style=\"white-space:pre;overflow-x:auto;line-height:normal;font-family:Menlo,'DejaVu Sans Mono',consolas,'Courier New',monospace\">dist:  16.74993862021847\n",
       "</pre>\n"
      ],
      "text/plain": [
       "dist:  16.74993862021847\n"
      ]
     },
     "metadata": {},
     "output_type": "display_data"
    },
    {
     "name": "stdout",
     "output_type": "stream",
     "text": [
      "-------------------------------------------\n",
      "| rollout/                |               |\n",
      "|    ep_len_mean          | 27.8          |\n",
      "|    ep_rew_mean          | -1.02e+06     |\n",
      "| time/                   |               |\n",
      "|    fps                  | 115           |\n",
      "|    iterations           | 34            |\n",
      "|    time_elapsed         | 18            |\n",
      "|    total_timesteps      | 2176          |\n",
      "| train/                  |               |\n",
      "|    approx_kl            | 1.0244548e-08 |\n",
      "|    clip_fraction        | 0             |\n",
      "|    clip_range           | 0.2           |\n",
      "|    entropy_loss         | -5.68         |\n",
      "|    explained_variance   | 0             |\n",
      "|    learning_rate        | 0.0003        |\n",
      "|    loss                 | 1.14e+11      |\n",
      "|    n_updates            | 330           |\n",
      "|    policy_gradient_loss | -1.87e-05     |\n",
      "|    std                  | 1             |\n",
      "|    value_loss           | 2.28e+11      |\n",
      "-------------------------------------------\n"
     ]
    },
    {
     "data": {
      "text/html": [
       "<pre style=\"white-space:pre;overflow-x:auto;line-height:normal;font-family:Menlo,'DejaVu Sans Mono',consolas,'Courier New',monospace\">action:  [ 1. -1. -1.  1.]\n",
       "</pre>\n"
      ],
      "text/plain": [
       "action:  [ 1. -1. -1.  1.]\n"
      ]
     },
     "metadata": {},
     "output_type": "display_data"
    },
    {
     "data": {
      "text/html": [
       "<pre style=\"white-space:pre;overflow-x:auto;line-height:normal;font-family:Menlo,'DejaVu Sans Mono',consolas,'Courier New',monospace\">position:  (0.13283438782596377, 0.16439022747641951, 0.14405501658631595)\n",
       "</pre>\n"
      ],
      "text/plain": [
       "position:  (0.13283438782596377, 0.16439022747641951, 0.14405501658631595)\n"
      ]
     },
     "metadata": {},
     "output_type": "display_data"
    },
    {
     "data": {
      "text/html": [
       "<pre style=\"white-space:pre;overflow-x:auto;line-height:normal;font-family:Menlo,'DejaVu Sans Mono',consolas,'Courier New',monospace\">jammer pos:  [10.2299043  12.30450941  5.76251045]\n",
       "</pre>\n"
      ],
      "text/plain": [
       "jammer pos:  [10.2299043  12.30450941  5.76251045]\n"
      ]
     },
     "metadata": {},
     "output_type": "display_data"
    },
    {
     "data": {
      "text/html": [
       "<pre style=\"white-space:pre;overflow-x:auto;line-height:normal;font-family:Menlo,'DejaVu Sans Mono',consolas,'Courier New',monospace\">dist:  16.76008221784444\n",
       "</pre>\n"
      ],
      "text/plain": [
       "dist:  16.76008221784444\n"
      ]
     },
     "metadata": {},
     "output_type": "display_data"
    },
    {
     "data": {
      "text/html": [
       "<pre style=\"white-space:pre;overflow-x:auto;line-height:normal;font-family:Menlo,'DejaVu Sans Mono',consolas,'Courier New',monospace\">action:  [ 0.69390696 -0.96934617  1.          1.        ]\n",
       "</pre>\n"
      ],
      "text/plain": [
       "action:  [ 0.69390696 -0.96934617  1.          1.        ]\n"
      ]
     },
     "metadata": {},
     "output_type": "display_data"
    },
    {
     "data": {
      "text/html": [
       "<pre style=\"white-space:pre;overflow-x:auto;line-height:normal;font-family:Menlo,'DejaVu Sans Mono',consolas,'Courier New',monospace\">position:  (0.07399915159144727, 0.09369860490538226, 0.15426362877448013)\n",
       "</pre>\n"
      ],
      "text/plain": [
       "position:  (0.07399915159144727, 0.09369860490538226, 0.15426362877448013)\n"
      ]
     },
     "metadata": {},
     "output_type": "display_data"
    },
    {
     "data": {
      "text/html": [
       "<pre style=\"white-space:pre;overflow-x:auto;line-height:normal;font-family:Menlo,'DejaVu Sans Mono',consolas,'Courier New',monospace\">jammer pos:  [10.2299043  12.30450941  5.76251045]\n",
       "</pre>\n"
      ],
      "text/plain": [
       "jammer pos:  [10.2299043  12.30450941  5.76251045]\n"
      ]
     },
     "metadata": {},
     "output_type": "display_data"
    },
    {
     "data": {
      "text/html": [
       "<pre style=\"white-space:pre;overflow-x:auto;line-height:normal;font-family:Menlo,'DejaVu Sans Mono',consolas,'Courier New',monospace\">dist:  16.843358994653137\n",
       "</pre>\n"
      ],
      "text/plain": [
       "dist:  16.843358994653137\n"
      ]
     },
     "metadata": {},
     "output_type": "display_data"
    },
    {
     "name": "stdout",
     "output_type": "stream",
     "text": [
      "-------------------------------------------\n",
      "| rollout/                |               |\n",
      "|    ep_len_mean          | 27.8          |\n",
      "|    ep_rew_mean          | -1.02e+06     |\n",
      "| time/                   |               |\n",
      "|    fps                  | 116           |\n",
      "|    iterations           | 35            |\n",
      "|    time_elapsed         | 19            |\n",
      "|    total_timesteps      | 2240          |\n",
      "| train/                  |               |\n",
      "|    approx_kl            | 1.5832484e-08 |\n",
      "|    clip_fraction        | 0             |\n",
      "|    clip_range           | 0.2           |\n",
      "|    entropy_loss         | -5.68         |\n",
      "|    explained_variance   | 0             |\n",
      "|    learning_rate        | 0.0003        |\n",
      "|    loss                 | 1.4e+11       |\n",
      "|    n_updates            | 340           |\n",
      "|    policy_gradient_loss | -1.42e-05     |\n",
      "|    std                  | 1             |\n",
      "|    value_loss           | 2.8e+11       |\n",
      "-------------------------------------------\n"
     ]
    },
    {
     "data": {
      "text/html": [
       "<pre style=\"white-space:pre;overflow-x:auto;line-height:normal;font-family:Menlo,'DejaVu Sans Mono',consolas,'Courier New',monospace\">action:  [-1.         -0.4209514  -0.49531037  1.        ]\n",
       "</pre>\n"
      ],
      "text/plain": [
       "action:  [-1.         -0.4209514  -0.49531037  1.        ]\n"
      ]
     },
     "metadata": {},
     "output_type": "display_data"
    },
    {
     "data": {
      "text/html": [
       "<pre style=\"white-space:pre;overflow-x:auto;line-height:normal;font-family:Menlo,'DejaVu Sans Mono',consolas,'Courier New',monospace\">position:  (0.08511571210677135, 0.0841325131104086, 0.1345368507887883)\n",
       "</pre>\n"
      ],
      "text/plain": [
       "position:  (0.08511571210677135, 0.0841325131104086, 0.1345368507887883)\n"
      ]
     },
     "metadata": {},
     "output_type": "display_data"
    },
    {
     "data": {
      "text/html": [
       "<pre style=\"white-space:pre;overflow-x:auto;line-height:normal;font-family:Menlo,'DejaVu Sans Mono',consolas,'Courier New',monospace\">jammer pos:  [10.2299043  12.30450941  5.76251045]\n",
       "</pre>\n"
      ],
      "text/plain": [
       "jammer pos:  [10.2299043  12.30450941  5.76251045]\n"
      ]
     },
     "metadata": {},
     "output_type": "display_data"
    },
    {
     "data": {
      "text/html": [
       "<pre style=\"white-space:pre;overflow-x:auto;line-height:normal;font-family:Menlo,'DejaVu Sans Mono',consolas,'Courier New',monospace\">dist:  16.850176074516607\n",
       "</pre>\n"
      ],
      "text/plain": [
       "dist:  16.850176074516607\n"
      ]
     },
     "metadata": {},
     "output_type": "display_data"
    },
    {
     "data": {
      "text/html": [
       "<pre style=\"white-space:pre;overflow-x:auto;line-height:normal;font-family:Menlo,'DejaVu Sans Mono',consolas,'Courier New',monospace\">action:  [-0.44210652 -1.         -0.9701873   1.        ]\n",
       "</pre>\n"
      ],
      "text/plain": [
       "action:  [-0.44210652 -1.         -0.9701873   1.        ]\n"
      ]
     },
     "metadata": {},
     "output_type": "display_data"
    },
    {
     "data": {
      "text/html": [
       "<pre style=\"white-space:pre;overflow-x:auto;line-height:normal;font-family:Menlo,'DejaVu Sans Mono',consolas,'Courier New',monospace\">position:  (0.1515846051060943, 0.1364020724537564, 0.18727056630002967)\n",
       "</pre>\n"
      ],
      "text/plain": [
       "position:  (0.1515846051060943, 0.1364020724537564, 0.18727056630002967)\n"
      ]
     },
     "metadata": {},
     "output_type": "display_data"
    },
    {
     "data": {
      "text/html": [
       "<pre style=\"white-space:pre;overflow-x:auto;line-height:normal;font-family:Menlo,'DejaVu Sans Mono',consolas,'Courier New',monospace\">jammer pos:  [10.2299043  12.30450941  5.76251045]\n",
       "</pre>\n"
      ],
      "text/plain": [
       "jammer pos:  [10.2299043  12.30450941  5.76251045]\n"
      ]
     },
     "metadata": {},
     "output_type": "display_data"
    },
    {
     "data": {
      "text/html": [
       "<pre style=\"white-space:pre;overflow-x:auto;line-height:normal;font-family:Menlo,'DejaVu Sans Mono',consolas,'Courier New',monospace\">dist:  16.754660955245907\n",
       "</pre>\n"
      ],
      "text/plain": [
       "dist:  16.754660955245907\n"
      ]
     },
     "metadata": {},
     "output_type": "display_data"
    },
    {
     "name": "stdout",
     "output_type": "stream",
     "text": [
      "------------------------------------------\n",
      "| rollout/                |              |\n",
      "|    ep_len_mean          | 27.9         |\n",
      "|    ep_rew_mean          | -1.02e+06    |\n",
      "| time/                   |              |\n",
      "|    fps                  | 116          |\n",
      "|    iterations           | 36           |\n",
      "|    time_elapsed         | 19           |\n",
      "|    total_timesteps      | 2304         |\n",
      "| train/                  |              |\n",
      "|    approx_kl            | 7.450581e-09 |\n",
      "|    clip_fraction        | 0            |\n",
      "|    clip_range           | 0.2          |\n",
      "|    entropy_loss         | -5.68        |\n",
      "|    explained_variance   | -1.19e-07    |\n",
      "|    learning_rate        | 0.0003       |\n",
      "|    loss                 | 1.3e+11      |\n",
      "|    n_updates            | 350          |\n",
      "|    policy_gradient_loss | -3.99e-07    |\n",
      "|    std                  | 1            |\n",
      "|    value_loss           | 2.61e+11     |\n",
      "------------------------------------------\n"
     ]
    },
    {
     "data": {
      "text/html": [
       "<pre style=\"white-space:pre;overflow-x:auto;line-height:normal;font-family:Menlo,'DejaVu Sans Mono',consolas,'Courier New',monospace\">action:  [-0.20825796 -0.02833433  0.2584013   1.        ]\n",
       "</pre>\n"
      ],
      "text/plain": [
       "action:  [-0.20825796 -0.02833433  0.2584013   1.        ]\n"
      ]
     },
     "metadata": {},
     "output_type": "display_data"
    },
    {
     "data": {
      "text/html": [
       "<pre style=\"white-space:pre;overflow-x:auto;line-height:normal;font-family:Menlo,'DejaVu Sans Mono',consolas,'Courier New',monospace\">position:  (0.07428718441980695, 0.08731257681195304, 0.11457235663152417)\n",
       "</pre>\n"
      ],
      "text/plain": [
       "position:  (0.07428718441980695, 0.08731257681195304, 0.11457235663152417)\n"
      ]
     },
     "metadata": {},
     "output_type": "display_data"
    },
    {
     "data": {
      "text/html": [
       "<pre style=\"white-space:pre;overflow-x:auto;line-height:normal;font-family:Menlo,'DejaVu Sans Mono',consolas,'Courier New',monospace\">jammer pos:  [10.2299043  12.30450941  5.76251045]\n",
       "</pre>\n"
      ],
      "text/plain": [
       "jammer pos:  [10.2299043  12.30450941  5.76251045]\n"
      ]
     },
     "metadata": {},
     "output_type": "display_data"
    },
    {
     "data": {
      "text/html": [
       "<pre style=\"white-space:pre;overflow-x:auto;line-height:normal;font-family:Menlo,'DejaVu Sans Mono',consolas,'Courier New',monospace\">dist:  16.861069422771216\n",
       "</pre>\n"
      ],
      "text/plain": [
       "dist:  16.861069422771216\n"
      ]
     },
     "metadata": {},
     "output_type": "display_data"
    },
    {
     "data": {
      "text/html": [
       "<pre style=\"white-space:pre;overflow-x:auto;line-height:normal;font-family:Menlo,'DejaVu Sans Mono',consolas,'Courier New',monospace\">action:  [ 0.49122933  1.         -0.8859016   1.        ]\n",
       "</pre>\n"
      ],
      "text/plain": [
       "action:  [ 0.49122933  1.         -0.8859016   1.        ]\n"
      ]
     },
     "metadata": {},
     "output_type": "display_data"
    },
    {
     "data": {
      "text/html": [
       "<pre style=\"white-space:pre;overflow-x:auto;line-height:normal;font-family:Menlo,'DejaVu Sans Mono',consolas,'Courier New',monospace\">position:  (0.06112026245958064, 0.0521563660648936, 0.12430613503402543)\n",
       "</pre>\n"
      ],
      "text/plain": [
       "position:  (0.06112026245958064, 0.0521563660648936, 0.12430613503402543)\n"
      ]
     },
     "metadata": {},
     "output_type": "display_data"
    },
    {
     "data": {
      "text/html": [
       "<pre style=\"white-space:pre;overflow-x:auto;line-height:normal;font-family:Menlo,'DejaVu Sans Mono',consolas,'Courier New',monospace\">jammer pos:  [10.2299043  12.30450941  5.76251045]\n",
       "</pre>\n"
      ],
      "text/plain": [
       "jammer pos:  [10.2299043  12.30450941  5.76251045]\n"
      ]
     },
     "metadata": {},
     "output_type": "display_data"
    },
    {
     "data": {
      "text/html": [
       "<pre style=\"white-space:pre;overflow-x:auto;line-height:normal;font-family:Menlo,'DejaVu Sans Mono',consolas,'Courier New',monospace\">dist:  16.89123061609553\n",
       "</pre>\n"
      ],
      "text/plain": [
       "dist:  16.89123061609553\n"
      ]
     },
     "metadata": {},
     "output_type": "display_data"
    },
    {
     "data": {
      "text/html": [
       "<pre style=\"white-space:pre;overflow-x:auto;line-height:normal;font-family:Menlo,'DejaVu Sans Mono',consolas,'Courier New',monospace\">action:  [-0.43985477 -1.          0.50905126  1.        ]\n",
       "</pre>\n"
      ],
      "text/plain": [
       "action:  [-0.43985477 -1.          0.50905126  1.        ]\n"
      ]
     },
     "metadata": {},
     "output_type": "display_data"
    },
    {
     "data": {
      "text/html": [
       "<pre style=\"white-space:pre;overflow-x:auto;line-height:normal;font-family:Menlo,'DejaVu Sans Mono',consolas,'Courier New',monospace\">position:  (0.15030153076211555, 0.07501229430764811, 0.20775271570880044)\n",
       "</pre>\n"
      ],
      "text/plain": [
       "position:  (0.15030153076211555, 0.07501229430764811, 0.20775271570880044)\n"
      ]
     },
     "metadata": {},
     "output_type": "display_data"
    },
    {
     "data": {
      "text/html": [
       "<pre style=\"white-space:pre;overflow-x:auto;line-height:normal;font-family:Menlo,'DejaVu Sans Mono',consolas,'Courier New',monospace\">jammer pos:  [10.2299043  12.30450941  5.76251045]\n",
       "</pre>\n"
      ],
      "text/plain": [
       "jammer pos:  [10.2299043  12.30450941  5.76251045]\n"
      ]
     },
     "metadata": {},
     "output_type": "display_data"
    },
    {
     "data": {
      "text/html": [
       "<pre style=\"white-space:pre;overflow-x:auto;line-height:normal;font-family:Menlo,'DejaVu Sans Mono',consolas,'Courier New',monospace\">dist:  16.793282141624598\n",
       "</pre>\n"
      ],
      "text/plain": [
       "dist:  16.793282141624598\n"
      ]
     },
     "metadata": {},
     "output_type": "display_data"
    },
    {
     "name": "stdout",
     "output_type": "stream",
     "text": [
      "-------------------------------------------\n",
      "| rollout/                |               |\n",
      "|    ep_len_mean          | 27.8          |\n",
      "|    ep_rew_mean          | -1.02e+06     |\n",
      "| time/                   |               |\n",
      "|    fps                  | 116           |\n",
      "|    iterations           | 37            |\n",
      "|    time_elapsed         | 20            |\n",
      "|    total_timesteps      | 2368          |\n",
      "| train/                  |               |\n",
      "|    approx_kl            | 5.3085387e-08 |\n",
      "|    clip_fraction        | 0             |\n",
      "|    clip_range           | 0.2           |\n",
      "|    entropy_loss         | -5.68         |\n",
      "|    explained_variance   | 0             |\n",
      "|    learning_rate        | 0.0003        |\n",
      "|    loss                 | 1.21e+11      |\n",
      "|    n_updates            | 360           |\n",
      "|    policy_gradient_loss | -4.79e-05     |\n",
      "|    std                  | 1             |\n",
      "|    value_loss           | 2.42e+11      |\n",
      "-------------------------------------------\n"
     ]
    },
    {
     "data": {
      "text/html": [
       "<pre style=\"white-space:pre;overflow-x:auto;line-height:normal;font-family:Menlo,'DejaVu Sans Mono',consolas,'Courier New',monospace\">action:  [ 1. -1.  1.  1.]\n",
       "</pre>\n"
      ],
      "text/plain": [
       "action:  [ 1. -1.  1.  1.]\n"
      ]
     },
     "metadata": {},
     "output_type": "display_data"
    },
    {
     "data": {
      "text/html": [
       "<pre style=\"white-space:pre;overflow-x:auto;line-height:normal;font-family:Menlo,'DejaVu Sans Mono',consolas,'Courier New',monospace\">position:  (0.06496362664396235, 0.07391433390751942, 0.10539401596947609)\n",
       "</pre>\n"
      ],
      "text/plain": [
       "position:  (0.06496362664396235, 0.07391433390751942, 0.10539401596947609)\n"
      ]
     },
     "metadata": {},
     "output_type": "display_data"
    },
    {
     "data": {
      "text/html": [
       "<pre style=\"white-space:pre;overflow-x:auto;line-height:normal;font-family:Menlo,'DejaVu Sans Mono',consolas,'Courier New',monospace\">jammer pos:  [10.2299043  12.30450941  5.76251045]\n",
       "</pre>\n"
      ],
      "text/plain": [
       "jammer pos:  [10.2299043  12.30450941  5.76251045]\n"
      ]
     },
     "metadata": {},
     "output_type": "display_data"
    },
    {
     "data": {
      "text/html": [
       "<pre style=\"white-space:pre;overflow-x:auto;line-height:normal;font-family:Menlo,'DejaVu Sans Mono',consolas,'Courier New',monospace\">dist:  16.879468032795025\n",
       "</pre>\n"
      ],
      "text/plain": [
       "dist:  16.879468032795025\n"
      ]
     },
     "metadata": {},
     "output_type": "display_data"
    },
    {
     "data": {
      "text/html": [
       "<pre style=\"white-space:pre;overflow-x:auto;line-height:normal;font-family:Menlo,'DejaVu Sans Mono',consolas,'Courier New',monospace\">action:  [ 1.         -0.03746524  0.28875273  1.        ]\n",
       "</pre>\n"
      ],
      "text/plain": [
       "action:  [ 1.         -0.03746524  0.28875273  1.        ]\n"
      ]
     },
     "metadata": {},
     "output_type": "display_data"
    },
    {
     "data": {
      "text/html": [
       "<pre style=\"white-space:pre;overflow-x:auto;line-height:normal;font-family:Menlo,'DejaVu Sans Mono',consolas,'Courier New',monospace\">position:  (0.07782354407125484, 0.05663833764515799, 0.11919565428107545)\n",
       "</pre>\n"
      ],
      "text/plain": [
       "position:  (0.07782354407125484, 0.05663833764515799, 0.11919565428107545)\n"
      ]
     },
     "metadata": {},
     "output_type": "display_data"
    },
    {
     "data": {
      "text/html": [
       "<pre style=\"white-space:pre;overflow-x:auto;line-height:normal;font-family:Menlo,'DejaVu Sans Mono',consolas,'Courier New',monospace\">jammer pos:  [10.2299043  12.30450941  5.76251045]\n",
       "</pre>\n"
      ],
      "text/plain": [
       "jammer pos:  [10.2299043  12.30450941  5.76251045]\n"
      ]
     },
     "metadata": {},
     "output_type": "display_data"
    },
    {
     "data": {
      "text/html": [
       "<pre style=\"white-space:pre;overflow-x:auto;line-height:normal;font-family:Menlo,'DejaVu Sans Mono',consolas,'Courier New',monospace\">dist:  16.879635401187972\n",
       "</pre>\n"
      ],
      "text/plain": [
       "dist:  16.879635401187972\n"
      ]
     },
     "metadata": {},
     "output_type": "display_data"
    },
    {
     "name": "stdout",
     "output_type": "stream",
     "text": [
      "-------------------------------------------\n",
      "| rollout/                |               |\n",
      "|    ep_len_mean          | 27.7          |\n",
      "|    ep_rew_mean          | -1.02e+06     |\n",
      "| time/                   |               |\n",
      "|    fps                  | 116           |\n",
      "|    iterations           | 38            |\n",
      "|    time_elapsed         | 20            |\n",
      "|    total_timesteps      | 2432          |\n",
      "| train/                  |               |\n",
      "|    approx_kl            | 4.1909516e-08 |\n",
      "|    clip_fraction        | 0             |\n",
      "|    clip_range           | 0.2           |\n",
      "|    entropy_loss         | -5.68         |\n",
      "|    explained_variance   | 0             |\n",
      "|    learning_rate        | 0.0003        |\n",
      "|    loss                 | 1.62e+11      |\n",
      "|    n_updates            | 370           |\n",
      "|    policy_gradient_loss | -8.37e-06     |\n",
      "|    std                  | 1             |\n",
      "|    value_loss           | 3.24e+11      |\n",
      "-------------------------------------------\n"
     ]
    },
    {
     "data": {
      "text/html": [
       "<pre style=\"white-space:pre;overflow-x:auto;line-height:normal;font-family:Menlo,'DejaVu Sans Mono',consolas,'Courier New',monospace\">action:  [-0.9295113  -0.37133294  0.02348259  1.        ]\n",
       "</pre>\n"
      ],
      "text/plain": [
       "action:  [-0.9295113  -0.37133294  0.02348259  1.        ]\n"
      ]
     },
     "metadata": {},
     "output_type": "display_data"
    },
    {
     "data": {
      "text/html": [
       "<pre style=\"white-space:pre;overflow-x:auto;line-height:normal;font-family:Menlo,'DejaVu Sans Mono',consolas,'Courier New',monospace\">position:  (0.06600386524779958, 0.06178561340278586, 0.119646416334287)\n",
       "</pre>\n"
      ],
      "text/plain": [
       "position:  (0.06600386524779958, 0.06178561340278586, 0.119646416334287)\n"
      ]
     },
     "metadata": {},
     "output_type": "display_data"
    },
    {
     "data": {
      "text/html": [
       "<pre style=\"white-space:pre;overflow-x:auto;line-height:normal;font-family:Menlo,'DejaVu Sans Mono',consolas,'Courier New',monospace\">jammer pos:  [10.2299043  12.30450941  5.76251045]\n",
       "</pre>\n"
      ],
      "text/plain": [
       "jammer pos:  [10.2299043  12.30450941  5.76251045]\n"
      ]
     },
     "metadata": {},
     "output_type": "display_data"
    },
    {
     "data": {
      "text/html": [
       "<pre style=\"white-space:pre;overflow-x:auto;line-height:normal;font-family:Menlo,'DejaVu Sans Mono',consolas,'Courier New',monospace\">dist:  16.88286327680655\n",
       "</pre>\n"
      ],
      "text/plain": [
       "dist:  16.88286327680655\n"
      ]
     },
     "metadata": {},
     "output_type": "display_data"
    },
    {
     "data": {
      "text/html": [
       "<pre style=\"white-space:pre;overflow-x:auto;line-height:normal;font-family:Menlo,'DejaVu Sans Mono',consolas,'Courier New',monospace\">action:  [ 0.5039841  0.4618902 -1.         1.       ]\n",
       "</pre>\n"
      ],
      "text/plain": [
       "action:  [ 0.5039841  0.4618902 -1.         1.       ]\n"
      ]
     },
     "metadata": {},
     "output_type": "display_data"
    },
    {
     "data": {
      "text/html": [
       "<pre style=\"white-space:pre;overflow-x:auto;line-height:normal;font-family:Menlo,'DejaVu Sans Mono',consolas,'Courier New',monospace\">position:  (0.1524434925793652, 0.2150039882932521, 0.2044736561791501)\n",
       "</pre>\n"
      ],
      "text/plain": [
       "position:  (0.1524434925793652, 0.2150039882932521, 0.2044736561791501)\n"
      ]
     },
     "metadata": {},
     "output_type": "display_data"
    },
    {
     "data": {
      "text/html": [
       "<pre style=\"white-space:pre;overflow-x:auto;line-height:normal;font-family:Menlo,'DejaVu Sans Mono',consolas,'Courier New',monospace\">jammer pos:  [10.2299043  12.30450941  5.76251045]\n",
       "</pre>\n"
      ],
      "text/plain": [
       "jammer pos:  [10.2299043  12.30450941  5.76251045]\n"
      ]
     },
     "metadata": {},
     "output_type": "display_data"
    },
    {
     "data": {
      "text/html": [
       "<pre style=\"white-space:pre;overflow-x:auto;line-height:normal;font-family:Menlo,'DejaVu Sans Mono',consolas,'Courier New',monospace\">dist:  16.69140888549026\n",
       "</pre>\n"
      ],
      "text/plain": [
       "dist:  16.69140888549026\n"
      ]
     },
     "metadata": {},
     "output_type": "display_data"
    },
    {
     "name": "stdout",
     "output_type": "stream",
     "text": [
      "-------------------------------------------\n",
      "| rollout/                |               |\n",
      "|    ep_len_mean          | 27.8          |\n",
      "|    ep_rew_mean          | -1.02e+06     |\n",
      "| time/                   |               |\n",
      "|    fps                  | 117           |\n",
      "|    iterations           | 39            |\n",
      "|    time_elapsed         | 21            |\n",
      "|    total_timesteps      | 2496          |\n",
      "| train/                  |               |\n",
      "|    approx_kl            | 4.4703484e-08 |\n",
      "|    clip_fraction        | 0             |\n",
      "|    clip_range           | 0.2           |\n",
      "|    entropy_loss         | -5.68         |\n",
      "|    explained_variance   | 0             |\n",
      "|    learning_rate        | 0.0003        |\n",
      "|    loss                 | 1.27e+11      |\n",
      "|    n_updates            | 380           |\n",
      "|    policy_gradient_loss | -3.41e-05     |\n",
      "|    std                  | 1             |\n",
      "|    value_loss           | 2.54e+11      |\n",
      "-------------------------------------------\n"
     ]
    },
    {
     "data": {
      "text/html": [
       "<pre style=\"white-space:pre;overflow-x:auto;line-height:normal;font-family:Menlo,'DejaVu Sans Mono',consolas,'Courier New',monospace\">action:  [1.        1.        0.5923638 1.       ]\n",
       "</pre>\n"
      ],
      "text/plain": [
       "action:  [1.        1.        0.5923638 1.       ]\n"
      ]
     },
     "metadata": {},
     "output_type": "display_data"
    },
    {
     "data": {
      "text/html": [
       "<pre style=\"white-space:pre;overflow-x:auto;line-height:normal;font-family:Menlo,'DejaVu Sans Mono',consolas,'Courier New',monospace\">position:  (0.08778402433470993, 0.06578565050728727, 0.1175925052920994)\n",
       "</pre>\n"
      ],
      "text/plain": [
       "position:  (0.08778402433470993, 0.06578565050728727, 0.1175925052920994)\n"
      ]
     },
     "metadata": {},
     "output_type": "display_data"
    },
    {
     "data": {
      "text/html": [
       "<pre style=\"white-space:pre;overflow-x:auto;line-height:normal;font-family:Menlo,'DejaVu Sans Mono',consolas,'Courier New',monospace\">jammer pos:  [10.2299043  12.30450941  5.76251045]\n",
       "</pre>\n"
      ],
      "text/plain": [
       "jammer pos:  [10.2299043  12.30450941  5.76251045]\n"
      ]
     },
     "metadata": {},
     "output_type": "display_data"
    },
    {
     "data": {
      "text/html": [
       "<pre style=\"white-space:pre;overflow-x:auto;line-height:normal;font-family:Menlo,'DejaVu Sans Mono',consolas,'Courier New',monospace\">dist:  16.867544618685596\n",
       "</pre>\n"
      ],
      "text/plain": [
       "dist:  16.867544618685596\n"
      ]
     },
     "metadata": {},
     "output_type": "display_data"
    },
    {
     "data": {
      "text/html": [
       "<pre style=\"white-space:pre;overflow-x:auto;line-height:normal;font-family:Menlo,'DejaVu Sans Mono',consolas,'Courier New',monospace\">action:  [ 1.         -0.3383486   0.40583134  1.        ]\n",
       "</pre>\n"
      ],
      "text/plain": [
       "action:  [ 1.         -0.3383486   0.40583134  1.        ]\n"
      ]
     },
     "metadata": {},
     "output_type": "display_data"
    },
    {
     "data": {
      "text/html": [
       "<pre style=\"white-space:pre;overflow-x:auto;line-height:normal;font-family:Menlo,'DejaVu Sans Mono',consolas,'Courier New',monospace\">position:  (0.11793000078870707, 0.11446052848551247, 0.1677747760207958)\n",
       "</pre>\n"
      ],
      "text/plain": [
       "position:  (0.11793000078870707, 0.11446052848551247, 0.1677747760207958)\n"
      ]
     },
     "metadata": {},
     "output_type": "display_data"
    },
    {
     "data": {
      "text/html": [
       "<pre style=\"white-space:pre;overflow-x:auto;line-height:normal;font-family:Menlo,'DejaVu Sans Mono',consolas,'Courier New',monospace\">jammer pos:  [10.2299043  12.30450941  5.76251045]\n",
       "</pre>\n"
      ],
      "text/plain": [
       "jammer pos:  [10.2299043  12.30450941  5.76251045]\n"
      ]
     },
     "metadata": {},
     "output_type": "display_data"
    },
    {
     "data": {
      "text/html": [
       "<pre style=\"white-space:pre;overflow-x:auto;line-height:normal;font-family:Menlo,'DejaVu Sans Mono',consolas,'Courier New',monospace\">dist:  16.79733261970868\n",
       "</pre>\n"
      ],
      "text/plain": [
       "dist:  16.79733261970868\n"
      ]
     },
     "metadata": {},
     "output_type": "display_data"
    },
    {
     "data": {
      "text/html": [
       "<pre style=\"white-space:pre;overflow-x:auto;line-height:normal;font-family:Menlo,'DejaVu Sans Mono',consolas,'Courier New',monospace\">action:  [1.         0.91486204 0.6827788  1.        ]\n",
       "</pre>\n"
      ],
      "text/plain": [
       "action:  [1.         0.91486204 0.6827788  1.        ]\n"
      ]
     },
     "metadata": {},
     "output_type": "display_data"
    },
    {
     "data": {
      "text/html": [
       "<pre style=\"white-space:pre;overflow-x:auto;line-height:normal;font-family:Menlo,'DejaVu Sans Mono',consolas,'Courier New',monospace\">position:  (0.095403746292312, 0.08488738546152333, 0.11950747170005026)\n",
       "</pre>\n"
      ],
      "text/plain": [
       "position:  (0.095403746292312, 0.08488738546152333, 0.11950747170005026)\n"
      ]
     },
     "metadata": {},
     "output_type": "display_data"
    },
    {
     "data": {
      "text/html": [
       "<pre style=\"white-space:pre;overflow-x:auto;line-height:normal;font-family:Menlo,'DejaVu Sans Mono',consolas,'Courier New',monospace\">jammer pos:  [10.2299043  12.30450941  5.76251045]\n",
       "</pre>\n"
      ],
      "text/plain": [
       "jammer pos:  [10.2299043  12.30450941  5.76251045]\n"
      ]
     },
     "metadata": {},
     "output_type": "display_data"
    },
    {
     "data": {
      "text/html": [
       "<pre style=\"white-space:pre;overflow-x:auto;line-height:normal;font-family:Menlo,'DejaVu Sans Mono',consolas,'Courier New',monospace\">dist:  16.848464215547875\n",
       "</pre>\n"
      ],
      "text/plain": [
       "dist:  16.848464215547875\n"
      ]
     },
     "metadata": {},
     "output_type": "display_data"
    },
    {
     "name": "stdout",
     "output_type": "stream",
     "text": [
      "----------------------------------------\n",
      "| rollout/                |            |\n",
      "|    ep_len_mean          | 27.7       |\n",
      "|    ep_rew_mean          | -1.02e+06  |\n",
      "| time/                   |            |\n",
      "|    fps                  | 116        |\n",
      "|    iterations           | 40         |\n",
      "|    time_elapsed         | 21         |\n",
      "|    total_timesteps      | 2560       |\n",
      "| train/                  |            |\n",
      "|    approx_kl            | 2.8871e-08 |\n",
      "|    clip_fraction        | 0          |\n",
      "|    clip_range           | 0.2        |\n",
      "|    entropy_loss         | -5.68      |\n",
      "|    explained_variance   | 0          |\n",
      "|    learning_rate        | 0.0003     |\n",
      "|    loss                 | 8.82e+10   |\n",
      "|    n_updates            | 390        |\n",
      "|    policy_gradient_loss | -1.32e-05  |\n",
      "|    std                  | 1          |\n",
      "|    value_loss           | 1.76e+11   |\n",
      "----------------------------------------\n"
     ]
    },
    {
     "data": {
      "text/html": [
       "<pre style=\"white-space:pre;overflow-x:auto;line-height:normal;font-family:Menlo,'DejaVu Sans Mono',consolas,'Courier New',monospace\">action:  [ 0.37373722 -1.         -1.          1.        ]\n",
       "</pre>\n"
      ],
      "text/plain": [
       "action:  [ 0.37373722 -1.         -1.          1.        ]\n"
      ]
     },
     "metadata": {},
     "output_type": "display_data"
    },
    {
     "data": {
      "text/html": [
       "<pre style=\"white-space:pre;overflow-x:auto;line-height:normal;font-family:Menlo,'DejaVu Sans Mono',consolas,'Courier New',monospace\">position:  (0.137893033050574, 0.09400812933420755, 0.1778940763916572)\n",
       "</pre>\n"
      ],
      "text/plain": [
       "position:  (0.137893033050574, 0.09400812933420755, 0.1778940763916572)\n"
      ]
     },
     "metadata": {},
     "output_type": "display_data"
    },
    {
     "data": {
      "text/html": [
       "<pre style=\"white-space:pre;overflow-x:auto;line-height:normal;font-family:Menlo,'DejaVu Sans Mono',consolas,'Courier New',monospace\">jammer pos:  [10.2299043  12.30450941  5.76251045]\n",
       "</pre>\n"
      ],
      "text/plain": [
       "jammer pos:  [10.2299043  12.30450941  5.76251045]\n"
      ]
     },
     "metadata": {},
     "output_type": "display_data"
    },
    {
     "data": {
      "text/html": [
       "<pre style=\"white-space:pre;overflow-x:auto;line-height:normal;font-family:Menlo,'DejaVu Sans Mono',consolas,'Courier New',monospace\">dist:  16.79681436735247\n",
       "</pre>\n"
      ],
      "text/plain": [
       "dist:  16.79681436735247\n"
      ]
     },
     "metadata": {},
     "output_type": "display_data"
    },
    {
     "data": {
      "text/html": [
       "<pre style=\"white-space:pre;overflow-x:auto;line-height:normal;font-family:Menlo,'DejaVu Sans Mono',consolas,'Courier New',monospace\">action:  [ 0.9311073 -0.0043809  1.         1.       ]\n",
       "</pre>\n"
      ],
      "text/plain": [
       "action:  [ 0.9311073 -0.0043809  1.         1.       ]\n"
      ]
     },
     "metadata": {},
     "output_type": "display_data"
    },
    {
     "data": {
      "text/html": [
       "<pre style=\"white-space:pre;overflow-x:auto;line-height:normal;font-family:Menlo,'DejaVu Sans Mono',consolas,'Courier New',monospace\">position:  (0.12507331109035, 0.11416925396570163, 0.1507322766272095)\n",
       "</pre>\n"
      ],
      "text/plain": [
       "position:  (0.12507331109035, 0.11416925396570163, 0.1507322766272095)\n"
      ]
     },
     "metadata": {},
     "output_type": "display_data"
    },
    {
     "data": {
      "text/html": [
       "<pre style=\"white-space:pre;overflow-x:auto;line-height:normal;font-family:Menlo,'DejaVu Sans Mono',consolas,'Courier New',monospace\">jammer pos:  [10.2299043  12.30450941  5.76251045]\n",
       "</pre>\n"
      ],
      "text/plain": [
       "jammer pos:  [10.2299043  12.30450941  5.76251045]\n"
      ]
     },
     "metadata": {},
     "output_type": "display_data"
    },
    {
     "data": {
      "text/html": [
       "<pre style=\"white-space:pre;overflow-x:auto;line-height:normal;font-family:Menlo,'DejaVu Sans Mono',consolas,'Courier New',monospace\">dist:  16.798930222347597\n",
       "</pre>\n"
      ],
      "text/plain": [
       "dist:  16.798930222347597\n"
      ]
     },
     "metadata": {},
     "output_type": "display_data"
    },
    {
     "name": "stdout",
     "output_type": "stream",
     "text": [
      "------------------------------------------\n",
      "| rollout/                |              |\n",
      "|    ep_len_mean          | 27.8         |\n",
      "|    ep_rew_mean          | -1.02e+06    |\n",
      "| time/                   |              |\n",
      "|    fps                  | 116          |\n",
      "|    iterations           | 41           |\n",
      "|    time_elapsed         | 22           |\n",
      "|    total_timesteps      | 2624         |\n",
      "| train/                  |              |\n",
      "|    approx_kl            | 8.381903e-09 |\n",
      "|    clip_fraction        | 0            |\n",
      "|    clip_range           | 0.2          |\n",
      "|    entropy_loss         | -5.68        |\n",
      "|    explained_variance   | 1.19e-07     |\n",
      "|    learning_rate        | 0.0003       |\n",
      "|    loss                 | 1.4e+11      |\n",
      "|    n_updates            | 400          |\n",
      "|    policy_gradient_loss | -9.14e-06    |\n",
      "|    std                  | 1            |\n",
      "|    value_loss           | 2.79e+11     |\n",
      "------------------------------------------\n"
     ]
    },
    {
     "data": {
      "text/html": [
       "<pre style=\"white-space:pre;overflow-x:auto;line-height:normal;font-family:Menlo,'DejaVu Sans Mono',consolas,'Courier New',monospace\">action:  [-0.42174676 -0.18127301 -0.12415593  1.        ]\n",
       "</pre>\n"
      ],
      "text/plain": [
       "action:  [-0.42174676 -0.18127301 -0.12415593  1.        ]\n"
      ]
     },
     "metadata": {},
     "output_type": "display_data"
    },
    {
     "data": {
      "text/html": [
       "<pre style=\"white-space:pre;overflow-x:auto;line-height:normal;font-family:Menlo,'DejaVu Sans Mono',consolas,'Courier New',monospace\">position:  (0.1269269148690283, 0.07184042686814127, 0.14548263869484582)\n",
       "</pre>\n"
      ],
      "text/plain": [
       "position:  (0.1269269148690283, 0.07184042686814127, 0.14548263869484582)\n"
      ]
     },
     "metadata": {},
     "output_type": "display_data"
    },
    {
     "data": {
      "text/html": [
       "<pre style=\"white-space:pre;overflow-x:auto;line-height:normal;font-family:Menlo,'DejaVu Sans Mono',consolas,'Courier New',monospace\">jammer pos:  [10.2299043  12.30450941  5.76251045]\n",
       "</pre>\n"
      ],
      "text/plain": [
       "jammer pos:  [10.2299043  12.30450941  5.76251045]\n"
      ]
     },
     "metadata": {},
     "output_type": "display_data"
    },
    {
     "data": {
      "text/html": [
       "<pre style=\"white-space:pre;overflow-x:auto;line-height:normal;font-family:Menlo,'DejaVu Sans Mono',consolas,'Courier New',monospace\">dist:  16.830310271704537\n",
       "</pre>\n"
      ],
      "text/plain": [
       "dist:  16.830310271704537\n"
      ]
     },
     "metadata": {},
     "output_type": "display_data"
    },
    {
     "data": {
      "text/html": [
       "<pre style=\"white-space:pre;overflow-x:auto;line-height:normal;font-family:Menlo,'DejaVu Sans Mono',consolas,'Courier New',monospace\">action:  [ 0.46519998 -1.          0.6857939   1.        ]\n",
       "</pre>\n"
      ],
      "text/plain": [
       "action:  [ 0.46519998 -1.          0.6857939   1.        ]\n"
      ]
     },
     "metadata": {},
     "output_type": "display_data"
    },
    {
     "data": {
      "text/html": [
       "<pre style=\"white-space:pre;overflow-x:auto;line-height:normal;font-family:Menlo,'DejaVu Sans Mono',consolas,'Courier New',monospace\">position:  (0.07764561093651062, 0.10531288954267222, 0.1283961182481198)\n",
       "</pre>\n"
      ],
      "text/plain": [
       "position:  (0.07764561093651062, 0.10531288954267222, 0.1283961182481198)\n"
      ]
     },
     "metadata": {},
     "output_type": "display_data"
    },
    {
     "data": {
      "text/html": [
       "<pre style=\"white-space:pre;overflow-x:auto;line-height:normal;font-family:Menlo,'DejaVu Sans Mono',consolas,'Courier New',monospace\">jammer pos:  [10.2299043  12.30450941  5.76251045]\n",
       "</pre>\n"
      ],
      "text/plain": [
       "jammer pos:  [10.2299043  12.30450941  5.76251045]\n"
      ]
     },
     "metadata": {},
     "output_type": "display_data"
    },
    {
     "data": {
      "text/html": [
       "<pre style=\"white-space:pre;overflow-x:auto;line-height:normal;font-family:Menlo,'DejaVu Sans Mono',consolas,'Courier New',monospace\">dist:  16.84137751051298\n",
       "</pre>\n"
      ],
      "text/plain": [
       "dist:  16.84137751051298\n"
      ]
     },
     "metadata": {},
     "output_type": "display_data"
    },
    {
     "name": "stdout",
     "output_type": "stream",
     "text": [
      "-------------------------------------------\n",
      "| rollout/                |               |\n",
      "|    ep_len_mean          | 27.8          |\n",
      "|    ep_rew_mean          | -1.02e+06     |\n",
      "| time/                   |               |\n",
      "|    fps                  | 117           |\n",
      "|    iterations           | 42            |\n",
      "|    time_elapsed         | 22            |\n",
      "|    total_timesteps      | 2688          |\n",
      "| train/                  |               |\n",
      "|    approx_kl            | 2.4214387e-08 |\n",
      "|    clip_fraction        | 0             |\n",
      "|    clip_range           | 0.2           |\n",
      "|    entropy_loss         | -5.68         |\n",
      "|    explained_variance   | 0             |\n",
      "|    learning_rate        | 0.0003        |\n",
      "|    loss                 | 1.29e+11      |\n",
      "|    n_updates            | 410           |\n",
      "|    policy_gradient_loss | -2.53e-05     |\n",
      "|    std                  | 1             |\n",
      "|    value_loss           | 2.58e+11      |\n",
      "-------------------------------------------\n"
     ]
    },
    {
     "data": {
      "text/html": [
       "<pre style=\"white-space:pre;overflow-x:auto;line-height:normal;font-family:Menlo,'DejaVu Sans Mono',consolas,'Courier New',monospace\">action:  [-0.18089353  0.7186349   1.          1.        ]\n",
       "</pre>\n"
      ],
      "text/plain": [
       "action:  [-0.18089353  0.7186349   1.          1.        ]\n"
      ]
     },
     "metadata": {},
     "output_type": "display_data"
    },
    {
     "data": {
      "text/html": [
       "<pre style=\"white-space:pre;overflow-x:auto;line-height:normal;font-family:Menlo,'DejaVu Sans Mono',consolas,'Courier New',monospace\">position:  (0.1841016413229887, 0.16221086417108607, 0.23160453811917542)\n",
       "</pre>\n"
      ],
      "text/plain": [
       "position:  (0.1841016413229887, 0.16221086417108607, 0.23160453811917542)\n"
      ]
     },
     "metadata": {},
     "output_type": "display_data"
    },
    {
     "data": {
      "text/html": [
       "<pre style=\"white-space:pre;overflow-x:auto;line-height:normal;font-family:Menlo,'DejaVu Sans Mono',consolas,'Courier New',monospace\">jammer pos:  [10.2299043  12.30450941  5.76251045]\n",
       "</pre>\n"
      ],
      "text/plain": [
       "jammer pos:  [10.2299043  12.30450941  5.76251045]\n"
      ]
     },
     "metadata": {},
     "output_type": "display_data"
    },
    {
     "data": {
      "text/html": [
       "<pre style=\"white-space:pre;overflow-x:auto;line-height:normal;font-family:Menlo,'DejaVu Sans Mono',consolas,'Courier New',monospace\">dist:  16.701631212342647\n",
       "</pre>\n"
      ],
      "text/plain": [
       "dist:  16.701631212342647\n"
      ]
     },
     "metadata": {},
     "output_type": "display_data"
    },
    {
     "data": {
      "text/html": [
       "<pre style=\"white-space:pre;overflow-x:auto;line-height:normal;font-family:Menlo,'DejaVu Sans Mono',consolas,'Courier New',monospace\">action:  [-0.6776803 -1.        -0.4906336  1.       ]\n",
       "</pre>\n"
      ],
      "text/plain": [
       "action:  [-0.6776803 -1.        -0.4906336  1.       ]\n"
      ]
     },
     "metadata": {},
     "output_type": "display_data"
    },
    {
     "data": {
      "text/html": [
       "<pre style=\"white-space:pre;overflow-x:auto;line-height:normal;font-family:Menlo,'DejaVu Sans Mono',consolas,'Courier New',monospace\">position:  (0.0560604142806604, 0.05525787656469358, 0.11816598405116897)\n",
       "</pre>\n"
      ],
      "text/plain": [
       "position:  (0.0560604142806604, 0.05525787656469358, 0.11816598405116897)\n"
      ]
     },
     "metadata": {},
     "output_type": "display_data"
    },
    {
     "data": {
      "text/html": [
       "<pre style=\"white-space:pre;overflow-x:auto;line-height:normal;font-family:Menlo,'DejaVu Sans Mono',consolas,'Courier New',monospace\">jammer pos:  [10.2299043  12.30450941  5.76251045]\n",
       "</pre>\n"
      ],
      "text/plain": [
       "jammer pos:  [10.2299043  12.30450941  5.76251045]\n"
      ]
     },
     "metadata": {},
     "output_type": "display_data"
    },
    {
     "data": {
      "text/html": [
       "<pre style=\"white-space:pre;overflow-x:auto;line-height:normal;font-family:Menlo,'DejaVu Sans Mono',consolas,'Courier New',monospace\">dist:  16.894078456789817\n",
       "</pre>\n"
      ],
      "text/plain": [
       "dist:  16.894078456789817\n"
      ]
     },
     "metadata": {},
     "output_type": "display_data"
    },
    {
     "data": {
      "text/html": [
       "<pre style=\"white-space:pre;overflow-x:auto;line-height:normal;font-family:Menlo,'DejaVu Sans Mono',consolas,'Courier New',monospace\">action:  [-0.01442887  0.66188145 -1.          1.        ]\n",
       "</pre>\n"
      ],
      "text/plain": [
       "action:  [-0.01442887  0.66188145 -1.          1.        ]\n"
      ]
     },
     "metadata": {},
     "output_type": "display_data"
    },
    {
     "data": {
      "text/html": [
       "<pre style=\"white-space:pre;overflow-x:auto;line-height:normal;font-family:Menlo,'DejaVu Sans Mono',consolas,'Courier New',monospace\">position:  (0.04536614023844213, 0.05909038979221559, 0.09386235439564718)\n",
       "</pre>\n"
      ],
      "text/plain": [
       "position:  (0.04536614023844213, 0.05909038979221559, 0.09386235439564718)\n"
      ]
     },
     "metadata": {},
     "output_type": "display_data"
    },
    {
     "data": {
      "text/html": [
       "<pre style=\"white-space:pre;overflow-x:auto;line-height:normal;font-family:Menlo,'DejaVu Sans Mono',consolas,'Courier New',monospace\">jammer pos:  [10.2299043  12.30450941  5.76251045]\n",
       "</pre>\n"
      ],
      "text/plain": [
       "jammer pos:  [10.2299043  12.30450941  5.76251045]\n"
      ]
     },
     "metadata": {},
     "output_type": "display_data"
    },
    {
     "data": {
      "text/html": [
       "<pre style=\"white-space:pre;overflow-x:auto;line-height:normal;font-family:Menlo,'DejaVu Sans Mono',consolas,'Courier New',monospace\">dist:  16.905876956065125\n",
       "</pre>\n"
      ],
      "text/plain": [
       "dist:  16.905876956065125\n"
      ]
     },
     "metadata": {},
     "output_type": "display_data"
    },
    {
     "name": "stdout",
     "output_type": "stream",
     "text": [
      "-------------------------------------------\n",
      "| rollout/                |               |\n",
      "|    ep_len_mean          | 27.7          |\n",
      "|    ep_rew_mean          | -1.02e+06     |\n",
      "| time/                   |               |\n",
      "|    fps                  | 117           |\n",
      "|    iterations           | 43            |\n",
      "|    time_elapsed         | 23            |\n",
      "|    total_timesteps      | 2752          |\n",
      "| train/                  |               |\n",
      "|    approx_kl            | 1.6763806e-08 |\n",
      "|    clip_fraction        | 0             |\n",
      "|    clip_range           | 0.2           |\n",
      "|    entropy_loss         | -5.68         |\n",
      "|    explained_variance   | 0             |\n",
      "|    learning_rate        | 0.0003        |\n",
      "|    loss                 | 1.23e+11      |\n",
      "|    n_updates            | 420           |\n",
      "|    policy_gradient_loss | -8.13e-06     |\n",
      "|    std                  | 1             |\n",
      "|    value_loss           | 2.47e+11      |\n",
      "-------------------------------------------\n"
     ]
    },
    {
     "data": {
      "text/html": [
       "<pre style=\"white-space:pre;overflow-x:auto;line-height:normal;font-family:Menlo,'DejaVu Sans Mono',consolas,'Courier New',monospace\">action:  [1.         0.14355521 0.15423536 1.        ]\n",
       "</pre>\n"
      ],
      "text/plain": [
       "action:  [1.         0.14355521 0.15423536 1.        ]\n"
      ]
     },
     "metadata": {},
     "output_type": "display_data"
    },
    {
     "data": {
      "text/html": [
       "<pre style=\"white-space:pre;overflow-x:auto;line-height:normal;font-family:Menlo,'DejaVu Sans Mono',consolas,'Courier New',monospace\">position:  (0.10468649088296722, 0.06897612319643888, 0.13260454791920198)\n",
       "</pre>\n"
      ],
      "text/plain": [
       "position:  (0.10468649088296722, 0.06897612319643888, 0.13260454791920198)\n"
      ]
     },
     "metadata": {},
     "output_type": "display_data"
    },
    {
     "data": {
      "text/html": [
       "<pre style=\"white-space:pre;overflow-x:auto;line-height:normal;font-family:Menlo,'DejaVu Sans Mono',consolas,'Courier New',monospace\">jammer pos:  [10.2299043  12.30450941  5.76251045]\n",
       "</pre>\n"
      ],
      "text/plain": [
       "jammer pos:  [10.2299043  12.30450941  5.76251045]\n"
      ]
     },
     "metadata": {},
     "output_type": "display_data"
    },
    {
     "data": {
      "text/html": [
       "<pre style=\"white-space:pre;overflow-x:auto;line-height:normal;font-family:Menlo,'DejaVu Sans Mono',consolas,'Courier New',monospace\">dist:  16.85004898729959\n",
       "</pre>\n"
      ],
      "text/plain": [
       "dist:  16.85004898729959\n"
      ]
     },
     "metadata": {},
     "output_type": "display_data"
    },
    {
     "data": {
      "text/html": [
       "<pre style=\"white-space:pre;overflow-x:auto;line-height:normal;font-family:Menlo,'DejaVu Sans Mono',consolas,'Courier New',monospace\">action:  [ 0.93407804 -1.          1.          1.        ]\n",
       "</pre>\n"
      ],
      "text/plain": [
       "action:  [ 0.93407804 -1.          1.          1.        ]\n"
      ]
     },
     "metadata": {},
     "output_type": "display_data"
    },
    {
     "data": {
      "text/html": [
       "<pre style=\"white-space:pre;overflow-x:auto;line-height:normal;font-family:Menlo,'DejaVu Sans Mono',consolas,'Courier New',monospace\">position:  (0.07526101574193621, 0.062046463223107556, 0.11698612864633609)\n",
       "</pre>\n"
      ],
      "text/plain": [
       "position:  (0.07526101574193621, 0.062046463223107556, 0.11698612864633609)\n"
      ]
     },
     "metadata": {},
     "output_type": "display_data"
    },
    {
     "data": {
      "text/html": [
       "<pre style=\"white-space:pre;overflow-x:auto;line-height:normal;font-family:Menlo,'DejaVu Sans Mono',consolas,'Courier New',monospace\">jammer pos:  [10.2299043  12.30450941  5.76251045]\n",
       "</pre>\n"
      ],
      "text/plain": [
       "jammer pos:  [10.2299043  12.30450941  5.76251045]\n"
      ]
     },
     "metadata": {},
     "output_type": "display_data"
    },
    {
     "data": {
      "text/html": [
       "<pre style=\"white-space:pre;overflow-x:auto;line-height:normal;font-family:Menlo,'DejaVu Sans Mono',consolas,'Courier New',monospace\">dist:  16.877992297969787\n",
       "</pre>\n"
      ],
      "text/plain": [
       "dist:  16.877992297969787\n"
      ]
     },
     "metadata": {},
     "output_type": "display_data"
    },
    {
     "name": "stdout",
     "output_type": "stream",
     "text": [
      "-------------------------------------------\n",
      "| rollout/                |               |\n",
      "|    ep_len_mean          | 27.6          |\n",
      "|    ep_rew_mean          | -1.02e+06     |\n",
      "| time/                   |               |\n",
      "|    fps                  | 117           |\n",
      "|    iterations           | 44            |\n",
      "|    time_elapsed         | 23            |\n",
      "|    total_timesteps      | 2816          |\n",
      "| train/                  |               |\n",
      "|    approx_kl            | 1.1175871e-08 |\n",
      "|    clip_fraction        | 0             |\n",
      "|    clip_range           | 0.2           |\n",
      "|    entropy_loss         | -5.68         |\n",
      "|    explained_variance   | 0             |\n",
      "|    learning_rate        | 0.0003        |\n",
      "|    loss                 | 1.84e+11      |\n",
      "|    n_updates            | 430           |\n",
      "|    policy_gradient_loss | -1.84e-05     |\n",
      "|    std                  | 1             |\n",
      "|    value_loss           | 3.68e+11      |\n",
      "-------------------------------------------\n"
     ]
    },
    {
     "data": {
      "text/html": [
       "<pre style=\"white-space:pre;overflow-x:auto;line-height:normal;font-family:Menlo,'DejaVu Sans Mono',consolas,'Courier New',monospace\">action:  [-0.7354604  0.5986549 -1.         1.       ]\n",
       "</pre>\n"
      ],
      "text/plain": [
       "action:  [-0.7354604  0.5986549 -1.         1.       ]\n"
      ]
     },
     "metadata": {},
     "output_type": "display_data"
    },
    {
     "data": {
      "text/html": [
       "<pre style=\"white-space:pre;overflow-x:auto;line-height:normal;font-family:Menlo,'DejaVu Sans Mono',consolas,'Courier New',monospace\">position:  (0.0671318198418549, 0.06505946322970256, 0.10008653690544639)\n",
       "</pre>\n"
      ],
      "text/plain": [
       "position:  (0.0671318198418549, 0.06505946322970256, 0.10008653690544639)\n"
      ]
     },
     "metadata": {},
     "output_type": "display_data"
    },
    {
     "data": {
      "text/html": [
       "<pre style=\"white-space:pre;overflow-x:auto;line-height:normal;font-family:Menlo,'DejaVu Sans Mono',consolas,'Courier New',monospace\">jammer pos:  [10.2299043  12.30450941  5.76251045]\n",
       "</pre>\n"
      ],
      "text/plain": [
       "jammer pos:  [10.2299043  12.30450941  5.76251045]\n"
      ]
     },
     "metadata": {},
     "output_type": "display_data"
    },
    {
     "data": {
      "text/html": [
       "<pre style=\"white-space:pre;overflow-x:auto;line-height:normal;font-family:Menlo,'DejaVu Sans Mono',consolas,'Courier New',monospace\">dist:  16.88635910930091\n",
       "</pre>\n"
      ],
      "text/plain": [
       "dist:  16.88635910930091\n"
      ]
     },
     "metadata": {},
     "output_type": "display_data"
    },
    {
     "data": {
      "text/html": [
       "<pre style=\"white-space:pre;overflow-x:auto;line-height:normal;font-family:Menlo,'DejaVu Sans Mono',consolas,'Courier New',monospace\">action:  [ 0.6223633 -0.0973956 -0.6319418  1.       ]\n",
       "</pre>\n"
      ],
      "text/plain": [
       "action:  [ 0.6223633 -0.0973956 -0.6319418  1.       ]\n"
      ]
     },
     "metadata": {},
     "output_type": "display_data"
    },
    {
     "data": {
      "text/html": [
       "<pre style=\"white-space:pre;overflow-x:auto;line-height:normal;font-family:Menlo,'DejaVu Sans Mono',consolas,'Courier New',monospace\">position:  (0.04702526894445244, 0.04824129247080533, 0.09698802359394243)\n",
       "</pre>\n"
      ],
      "text/plain": [
       "position:  (0.04702526894445244, 0.04824129247080533, 0.09698802359394243)\n"
      ]
     },
     "metadata": {},
     "output_type": "display_data"
    },
    {
     "data": {
      "text/html": [
       "<pre style=\"white-space:pre;overflow-x:auto;line-height:normal;font-family:Menlo,'DejaVu Sans Mono',consolas,'Courier New',monospace\">jammer pos:  [10.2299043  12.30450941  5.76251045]\n",
       "</pre>\n"
      ],
      "text/plain": [
       "jammer pos:  [10.2299043  12.30450941  5.76251045]\n"
      ]
     },
     "metadata": {},
     "output_type": "display_data"
    },
    {
     "data": {
      "text/html": [
       "<pre style=\"white-space:pre;overflow-x:auto;line-height:normal;font-family:Menlo,'DejaVu Sans Mono',consolas,'Courier New',monospace\">dist:  16.91169056621978\n",
       "</pre>\n"
      ],
      "text/plain": [
       "dist:  16.91169056621978\n"
      ]
     },
     "metadata": {},
     "output_type": "display_data"
    },
    {
     "data": {
      "text/html": [
       "<pre style=\"white-space:pre;overflow-x:auto;line-height:normal;font-family:Menlo,'DejaVu Sans Mono',consolas,'Courier New',monospace\">action:  [ 0.23753396  0.21942848 -0.5018349   1.        ]\n",
       "</pre>\n"
      ],
      "text/plain": [
       "action:  [ 0.23753396  0.21942848 -0.5018349   1.        ]\n"
      ]
     },
     "metadata": {},
     "output_type": "display_data"
    },
    {
     "data": {
      "text/html": [
       "<pre style=\"white-space:pre;overflow-x:auto;line-height:normal;font-family:Menlo,'DejaVu Sans Mono',consolas,'Courier New',monospace\">position:  (0.090124265280213, 0.07425598945821489, 0.12044573805544741)\n",
       "</pre>\n"
      ],
      "text/plain": [
       "position:  (0.090124265280213, 0.07425598945821489, 0.12044573805544741)\n"
      ]
     },
     "metadata": {},
     "output_type": "display_data"
    },
    {
     "data": {
      "text/html": [
       "<pre style=\"white-space:pre;overflow-x:auto;line-height:normal;font-family:Menlo,'DejaVu Sans Mono',consolas,'Courier New',monospace\">jammer pos:  [10.2299043  12.30450941  5.76251045]\n",
       "</pre>\n"
      ],
      "text/plain": [
       "jammer pos:  [10.2299043  12.30450941  5.76251045]\n"
      ]
     },
     "metadata": {},
     "output_type": "display_data"
    },
    {
     "data": {
      "text/html": [
       "<pre style=\"white-space:pre;overflow-x:auto;line-height:normal;font-family:Menlo,'DejaVu Sans Mono',consolas,'Courier New',monospace\">dist:  16.85903710211956\n",
       "</pre>\n"
      ],
      "text/plain": [
       "dist:  16.85903710211956\n"
      ]
     },
     "metadata": {},
     "output_type": "display_data"
    },
    {
     "name": "stdout",
     "output_type": "stream",
     "text": [
      "--------------------------------------------\n",
      "| rollout/                |                |\n",
      "|    ep_len_mean          | 27.4           |\n",
      "|    ep_rew_mean          | -1.02e+06      |\n",
      "| time/                   |                |\n",
      "|    fps                  | 116            |\n",
      "|    iterations           | 45             |\n",
      "|    time_elapsed         | 24             |\n",
      "|    total_timesteps      | 2880           |\n",
      "| train/                  |                |\n",
      "|    approx_kl            | 1.21071935e-08 |\n",
      "|    clip_fraction        | 0              |\n",
      "|    clip_range           | 0.2            |\n",
      "|    entropy_loss         | -5.68          |\n",
      "|    explained_variance   | 0              |\n",
      "|    learning_rate        | 0.0003         |\n",
      "|    loss                 | 1.28e+11       |\n",
      "|    n_updates            | 440            |\n",
      "|    policy_gradient_loss | -1.23e-05      |\n",
      "|    std                  | 1              |\n",
      "|    value_loss           | 2.56e+11       |\n",
      "--------------------------------------------\n"
     ]
    },
    {
     "data": {
      "text/html": [
       "<pre style=\"white-space:pre;overflow-x:auto;line-height:normal;font-family:Menlo,'DejaVu Sans Mono',consolas,'Courier New',monospace\">action:  [ 0.5126063  -1.          0.05840728  1.        ]\n",
       "</pre>\n"
      ],
      "text/plain": [
       "action:  [ 0.5126063  -1.          0.05840728  1.        ]\n"
      ]
     },
     "metadata": {},
     "output_type": "display_data"
    },
    {
     "data": {
      "text/html": [
       "<pre style=\"white-space:pre;overflow-x:auto;line-height:normal;font-family:Menlo,'DejaVu Sans Mono',consolas,'Courier New',monospace\">position:  (0.07906510298615664, 0.09511598394294903, 0.17331179483552533)\n",
       "</pre>\n"
      ],
      "text/plain": [
       "position:  (0.07906510298615664, 0.09511598394294903, 0.17331179483552533)\n"
      ]
     },
     "metadata": {},
     "output_type": "display_data"
    },
    {
     "data": {
      "text/html": [
       "<pre style=\"white-space:pre;overflow-x:auto;line-height:normal;font-family:Menlo,'DejaVu Sans Mono',consolas,'Courier New',monospace\">jammer pos:  [10.2299043  12.30450941  5.76251045]\n",
       "</pre>\n"
      ],
      "text/plain": [
       "jammer pos:  [10.2299043  12.30450941  5.76251045]\n"
      ]
     },
     "metadata": {},
     "output_type": "display_data"
    },
    {
     "data": {
      "text/html": [
       "<pre style=\"white-space:pre;overflow-x:auto;line-height:normal;font-family:Menlo,'DejaVu Sans Mono',consolas,'Courier New',monospace\">dist:  16.832942872723137\n",
       "</pre>\n"
      ],
      "text/plain": [
       "dist:  16.832942872723137\n"
      ]
     },
     "metadata": {},
     "output_type": "display_data"
    },
    {
     "data": {
      "text/html": [
       "<pre style=\"white-space:pre;overflow-x:auto;line-height:normal;font-family:Menlo,'DejaVu Sans Mono',consolas,'Courier New',monospace\">action:  [-0.5057943  -0.8853597  -0.30565685  1.        ]\n",
       "</pre>\n"
      ],
      "text/plain": [
       "action:  [-0.5057943  -0.8853597  -0.30565685  1.        ]\n"
      ]
     },
     "metadata": {},
     "output_type": "display_data"
    },
    {
     "data": {
      "text/html": [
       "<pre style=\"white-space:pre;overflow-x:auto;line-height:normal;font-family:Menlo,'DejaVu Sans Mono',consolas,'Courier New',monospace\">position:  (0.10709926476998616, 0.1283843719326625, 0.15814676004177375)\n",
       "</pre>\n"
      ],
      "text/plain": [
       "position:  (0.10709926476998616, 0.1283843719326625, 0.15814676004177375)\n"
      ]
     },
     "metadata": {},
     "output_type": "display_data"
    },
    {
     "data": {
      "text/html": [
       "<pre style=\"white-space:pre;overflow-x:auto;line-height:normal;font-family:Menlo,'DejaVu Sans Mono',consolas,'Courier New',monospace\">jammer pos:  [10.2299043  12.30450941  5.76251045]\n",
       "</pre>\n"
      ],
      "text/plain": [
       "jammer pos:  [10.2299043  12.30450941  5.76251045]\n"
      ]
     },
     "metadata": {},
     "output_type": "display_data"
    },
    {
     "data": {
      "text/html": [
       "<pre style=\"white-space:pre;overflow-x:auto;line-height:normal;font-family:Menlo,'DejaVu Sans Mono',consolas,'Courier New',monospace\">dist:  16.796966839499827\n",
       "</pre>\n"
      ],
      "text/plain": [
       "dist:  16.796966839499827\n"
      ]
     },
     "metadata": {},
     "output_type": "display_data"
    },
    {
     "name": "stdout",
     "output_type": "stream",
     "text": [
      "-------------------------------------------\n",
      "| rollout/                |               |\n",
      "|    ep_len_mean          | 27.5          |\n",
      "|    ep_rew_mean          | -1.02e+06     |\n",
      "| time/                   |               |\n",
      "|    fps                  | 116           |\n",
      "|    iterations           | 46            |\n",
      "|    time_elapsed         | 25            |\n",
      "|    total_timesteps      | 2944          |\n",
      "| train/                  |               |\n",
      "|    approx_kl            | 3.4458935e-08 |\n",
      "|    clip_fraction        | 0             |\n",
      "|    clip_range           | 0.2           |\n",
      "|    entropy_loss         | -5.68         |\n",
      "|    explained_variance   | 0             |\n",
      "|    learning_rate        | 0.0003        |\n",
      "|    loss                 | 1.56e+11      |\n",
      "|    n_updates            | 450           |\n",
      "|    policy_gradient_loss | -4.4e-05      |\n",
      "|    std                  | 1             |\n",
      "|    value_loss           | 3.12e+11      |\n",
      "-------------------------------------------\n"
     ]
    },
    {
     "data": {
      "text/html": [
       "<pre style=\"white-space:pre;overflow-x:auto;line-height:normal;font-family:Menlo,'DejaVu Sans Mono',consolas,'Courier New',monospace\">action:  [ 1.          1.         -0.50178695  1.        ]\n",
       "</pre>\n"
      ],
      "text/plain": [
       "action:  [ 1.          1.         -0.50178695  1.        ]\n"
      ]
     },
     "metadata": {},
     "output_type": "display_data"
    },
    {
     "data": {
      "text/html": [
       "<pre style=\"white-space:pre;overflow-x:auto;line-height:normal;font-family:Menlo,'DejaVu Sans Mono',consolas,'Courier New',monospace\">position:  (0.09638332121548251, 0.11882034633811597, 0.14356575894784465)\n",
       "</pre>\n"
      ],
      "text/plain": [
       "position:  (0.09638332121548251, 0.11882034633811597, 0.14356575894784465)\n"
      ]
     },
     "metadata": {},
     "output_type": "display_data"
    },
    {
     "data": {
      "text/html": [
       "<pre style=\"white-space:pre;overflow-x:auto;line-height:normal;font-family:Menlo,'DejaVu Sans Mono',consolas,'Courier New',monospace\">jammer pos:  [10.2299043  12.30450941  5.76251045]\n",
       "</pre>\n"
      ],
      "text/plain": [
       "jammer pos:  [10.2299043  12.30450941  5.76251045]\n"
      ]
     },
     "metadata": {},
     "output_type": "display_data"
    },
    {
     "data": {
      "text/html": [
       "<pre style=\"white-space:pre;overflow-x:auto;line-height:normal;font-family:Menlo,'DejaVu Sans Mono',consolas,'Courier New',monospace\">dist:  16.815225384716584\n",
       "</pre>\n"
      ],
      "text/plain": [
       "dist:  16.815225384716584\n"
      ]
     },
     "metadata": {},
     "output_type": "display_data"
    },
    {
     "data": {
      "text/html": [
       "<pre style=\"white-space:pre;overflow-x:auto;line-height:normal;font-family:Menlo,'DejaVu Sans Mono',consolas,'Courier New',monospace\">action:  [ 0.20577021  1.         -0.33792388  1.        ]\n",
       "</pre>\n"
      ],
      "text/plain": [
       "action:  [ 0.20577021  1.         -0.33792388  1.        ]\n"
      ]
     },
     "metadata": {},
     "output_type": "display_data"
    },
    {
     "data": {
      "text/html": [
       "<pre style=\"white-space:pre;overflow-x:auto;line-height:normal;font-family:Menlo,'DejaVu Sans Mono',consolas,'Courier New',monospace\">position:  (0.09810542657567373, 0.09288032952737033, 0.14372572178904)\n",
       "</pre>\n"
      ],
      "text/plain": [
       "position:  (0.09810542657567373, 0.09288032952737033, 0.14372572178904)\n"
      ]
     },
     "metadata": {},
     "output_type": "display_data"
    },
    {
     "data": {
      "text/html": [
       "<pre style=\"white-space:pre;overflow-x:auto;line-height:normal;font-family:Menlo,'DejaVu Sans Mono',consolas,'Courier New',monospace\">jammer pos:  [10.2299043  12.30450941  5.76251045]\n",
       "</pre>\n"
      ],
      "text/plain": [
       "jammer pos:  [10.2299043  12.30450941  5.76251045]\n"
      ]
     },
     "metadata": {},
     "output_type": "display_data"
    },
    {
     "data": {
      "text/html": [
       "<pre style=\"white-space:pre;overflow-x:auto;line-height:normal;font-family:Menlo,'DejaVu Sans Mono',consolas,'Courier New',monospace\">dist:  16.83294314569757\n",
       "</pre>\n"
      ],
      "text/plain": [
       "dist:  16.83294314569757\n"
      ]
     },
     "metadata": {},
     "output_type": "display_data"
    },
    {
     "data": {
      "text/html": [
       "<pre style=\"white-space:pre;overflow-x:auto;line-height:normal;font-family:Menlo,'DejaVu Sans Mono',consolas,'Courier New',monospace\">action:  [ 1.        -1.         0.6793116  1.       ]\n",
       "</pre>\n"
      ],
      "text/plain": [
       "action:  [ 1.        -1.         0.6793116  1.       ]\n"
      ]
     },
     "metadata": {},
     "output_type": "display_data"
    },
    {
     "data": {
      "text/html": [
       "<pre style=\"white-space:pre;overflow-x:auto;line-height:normal;font-family:Menlo,'DejaVu Sans Mono',consolas,'Courier New',monospace\">position:  (0.05742444208599927, 0.07699340941386842, 0.10821002385250422)\n",
       "</pre>\n"
      ],
      "text/plain": [
       "position:  (0.05742444208599927, 0.07699340941386842, 0.10821002385250422)\n"
      ]
     },
     "metadata": {},
     "output_type": "display_data"
    },
    {
     "data": {
      "text/html": [
       "<pre style=\"white-space:pre;overflow-x:auto;line-height:normal;font-family:Menlo,'DejaVu Sans Mono',consolas,'Courier New',monospace\">jammer pos:  [10.2299043  12.30450941  5.76251045]\n",
       "</pre>\n"
      ],
      "text/plain": [
       "jammer pos:  [10.2299043  12.30450941  5.76251045]\n"
      ]
     },
     "metadata": {},
     "output_type": "display_data"
    },
    {
     "data": {
      "text/html": [
       "<pre style=\"white-space:pre;overflow-x:auto;line-height:normal;font-family:Menlo,'DejaVu Sans Mono',consolas,'Courier New',monospace\">dist:  16.880835501455106\n",
       "</pre>\n"
      ],
      "text/plain": [
       "dist:  16.880835501455106\n"
      ]
     },
     "metadata": {},
     "output_type": "display_data"
    },
    {
     "name": "stdout",
     "output_type": "stream",
     "text": [
      "-------------------------------------------\n",
      "| rollout/                |               |\n",
      "|    ep_len_mean          | 27.4          |\n",
      "|    ep_rew_mean          | -1.02e+06     |\n",
      "| time/                   |               |\n",
      "|    fps                  | 115           |\n",
      "|    iterations           | 47            |\n",
      "|    time_elapsed         | 26            |\n",
      "|    total_timesteps      | 3008          |\n",
      "| train/                  |               |\n",
      "|    approx_kl            | 2.0489097e-08 |\n",
      "|    clip_fraction        | 0             |\n",
      "|    clip_range           | 0.2           |\n",
      "|    entropy_loss         | -5.68         |\n",
      "|    explained_variance   | 0             |\n",
      "|    learning_rate        | 0.0003        |\n",
      "|    loss                 | 1.24e+11      |\n",
      "|    n_updates            | 460           |\n",
      "|    policy_gradient_loss | -1.07e-05     |\n",
      "|    std                  | 1             |\n",
      "|    value_loss           | 2.47e+11      |\n",
      "-------------------------------------------\n"
     ]
    },
    {
     "data": {
      "text/html": [
       "<pre style=\"white-space:pre;overflow-x:auto;line-height:normal;font-family:Menlo,'DejaVu Sans Mono',consolas,'Courier New',monospace\">action:  [1.         0.13450839 1.         1.        ]\n",
       "</pre>\n"
      ],
      "text/plain": [
       "action:  [1.         0.13450839 1.         1.        ]\n"
      ]
     },
     "metadata": {},
     "output_type": "display_data"
    },
    {
     "data": {
      "text/html": [
       "<pre style=\"white-space:pre;overflow-x:auto;line-height:normal;font-family:Menlo,'DejaVu Sans Mono',consolas,'Courier New',monospace\">position:  (0.08478715043983187, 0.0648481980579301, 0.1150489757768895)\n",
       "</pre>\n"
      ],
      "text/plain": [
       "position:  (0.08478715043983187, 0.0648481980579301, 0.1150489757768895)\n"
      ]
     },
     "metadata": {},
     "output_type": "display_data"
    },
    {
     "data": {
      "text/html": [
       "<pre style=\"white-space:pre;overflow-x:auto;line-height:normal;font-family:Menlo,'DejaVu Sans Mono',consolas,'Courier New',monospace\">jammer pos:  [10.2299043  12.30450941  5.76251045]\n",
       "</pre>\n"
      ],
      "text/plain": [
       "jammer pos:  [10.2299043  12.30450941  5.76251045]\n"
      ]
     },
     "metadata": {},
     "output_type": "display_data"
    },
    {
     "data": {
      "text/html": [
       "<pre style=\"white-space:pre;overflow-x:auto;line-height:normal;font-family:Menlo,'DejaVu Sans Mono',consolas,'Courier New',monospace\">dist:  16.870878150762962\n",
       "</pre>\n"
      ],
      "text/plain": [
       "dist:  16.870878150762962\n"
      ]
     },
     "metadata": {},
     "output_type": "display_data"
    },
    {
     "data": {
      "text/html": [
       "<pre style=\"white-space:pre;overflow-x:auto;line-height:normal;font-family:Menlo,'DejaVu Sans Mono',consolas,'Courier New',monospace\">action:  [-1.         -0.7510914   0.00715639  1.        ]\n",
       "</pre>\n"
      ],
      "text/plain": [
       "action:  [-1.         -0.7510914   0.00715639  1.        ]\n"
      ]
     },
     "metadata": {},
     "output_type": "display_data"
    },
    {
     "data": {
      "text/html": [
       "<pre style=\"white-space:pre;overflow-x:auto;line-height:normal;font-family:Menlo,'DejaVu Sans Mono',consolas,'Courier New',monospace\">position:  (0.11207000543039902, 0.1179999971292284, 0.1467444718044775)\n",
       "</pre>\n"
      ],
      "text/plain": [
       "position:  (0.11207000543039902, 0.1179999971292284, 0.1467444718044775)\n"
      ]
     },
     "metadata": {},
     "output_type": "display_data"
    },
    {
     "data": {
      "text/html": [
       "<pre style=\"white-space:pre;overflow-x:auto;line-height:normal;font-family:Menlo,'DejaVu Sans Mono',consolas,'Courier New',monospace\">jammer pos:  [10.2299043  12.30450941  5.76251045]\n",
       "</pre>\n"
      ],
      "text/plain": [
       "jammer pos:  [10.2299043  12.30450941  5.76251045]\n"
      ]
     },
     "metadata": {},
     "output_type": "display_data"
    },
    {
     "data": {
      "text/html": [
       "<pre style=\"white-space:pre;overflow-x:auto;line-height:normal;font-family:Menlo,'DejaVu Sans Mono',consolas,'Courier New',monospace\">dist:  16.80530898014631\n",
       "</pre>\n"
      ],
      "text/plain": [
       "dist:  16.80530898014631\n"
      ]
     },
     "metadata": {},
     "output_type": "display_data"
    },
    {
     "name": "stdout",
     "output_type": "stream",
     "text": [
      "-------------------------------------------\n",
      "| rollout/                |               |\n",
      "|    ep_len_mean          | 27.1          |\n",
      "|    ep_rew_mean          | -1.02e+06     |\n",
      "| time/                   |               |\n",
      "|    fps                  | 115           |\n",
      "|    iterations           | 48            |\n",
      "|    time_elapsed         | 26            |\n",
      "|    total_timesteps      | 3072          |\n",
      "| train/                  |               |\n",
      "|    approx_kl            | 2.7939677e-09 |\n",
      "|    clip_fraction        | 0             |\n",
      "|    clip_range           | 0.2           |\n",
      "|    entropy_loss         | -5.68         |\n",
      "|    explained_variance   | -1.19e-07     |\n",
      "|    learning_rate        | 0.0003        |\n",
      "|    loss                 | 1.74e+11      |\n",
      "|    n_updates            | 470           |\n",
      "|    policy_gradient_loss | -2.03e-06     |\n",
      "|    std                  | 1             |\n",
      "|    value_loss           | 3.49e+11      |\n",
      "-------------------------------------------\n"
     ]
    },
    {
     "data": {
      "text/html": [
       "<pre style=\"white-space:pre;overflow-x:auto;line-height:normal;font-family:Menlo,'DejaVu Sans Mono',consolas,'Courier New',monospace\">action:  [-1.         -0.06134839  0.24642532  1.        ]\n",
       "</pre>\n"
      ],
      "text/plain": [
       "action:  [-1.         -0.06134839  0.24642532  1.        ]\n"
      ]
     },
     "metadata": {},
     "output_type": "display_data"
    },
    {
     "data": {
      "text/html": [
       "<pre style=\"white-space:pre;overflow-x:auto;line-height:normal;font-family:Menlo,'DejaVu Sans Mono',consolas,'Courier New',monospace\">position:  (0.0811002909082226, 0.06754291544781263, 0.14395424200018292)\n",
       "</pre>\n"
      ],
      "text/plain": [
       "position:  (0.0811002909082226, 0.06754291544781263, 0.14395424200018292)\n"
      ]
     },
     "metadata": {},
     "output_type": "display_data"
    },
    {
     "data": {
      "text/html": [
       "<pre style=\"white-space:pre;overflow-x:auto;line-height:normal;font-family:Menlo,'DejaVu Sans Mono',consolas,'Courier New',monospace\">jammer pos:  [10.2299043  12.30450941  5.76251045]\n",
       "</pre>\n"
      ],
      "text/plain": [
       "jammer pos:  [10.2299043  12.30450941  5.76251045]\n"
      ]
     },
     "metadata": {},
     "output_type": "display_data"
    },
    {
     "data": {
      "text/html": [
       "<pre style=\"white-space:pre;overflow-x:auto;line-height:normal;font-family:Menlo,'DejaVu Sans Mono',consolas,'Courier New',monospace\">dist:  16.861487051256674\n",
       "</pre>\n"
      ],
      "text/plain": [
       "dist:  16.861487051256674\n"
      ]
     },
     "metadata": {},
     "output_type": "display_data"
    },
    {
     "data": {
      "text/html": [
       "<pre style=\"white-space:pre;overflow-x:auto;line-height:normal;font-family:Menlo,'DejaVu Sans Mono',consolas,'Courier New',monospace\">action:  [0.07067531 0.5352328  0.6836163  1.        ]\n",
       "</pre>\n"
      ],
      "text/plain": [
       "action:  [0.07067531 0.5352328  0.6836163  1.        ]\n"
      ]
     },
     "metadata": {},
     "output_type": "display_data"
    },
    {
     "data": {
      "text/html": [
       "<pre style=\"white-space:pre;overflow-x:auto;line-height:normal;font-family:Menlo,'DejaVu Sans Mono',consolas,'Courier New',monospace\">position:  (0.08081858423615482, 0.07862211527873413, 0.11150176684709007)\n",
       "</pre>\n"
      ],
      "text/plain": [
       "position:  (0.08081858423615482, 0.07862211527873413, 0.11150176684709007)\n"
      ]
     },
     "metadata": {},
     "output_type": "display_data"
    },
    {
     "data": {
      "text/html": [
       "<pre style=\"white-space:pre;overflow-x:auto;line-height:normal;font-family:Menlo,'DejaVu Sans Mono',consolas,'Courier New',monospace\">jammer pos:  [10.2299043  12.30450941  5.76251045]\n",
       "</pre>\n"
      ],
      "text/plain": [
       "jammer pos:  [10.2299043  12.30450941  5.76251045]\n"
      ]
     },
     "metadata": {},
     "output_type": "display_data"
    },
    {
     "data": {
      "text/html": [
       "<pre style=\"white-space:pre;overflow-x:auto;line-height:normal;font-family:Menlo,'DejaVu Sans Mono',consolas,'Courier New',monospace\">dist:  16.864464416636917\n",
       "</pre>\n"
      ],
      "text/plain": [
       "dist:  16.864464416636917\n"
      ]
     },
     "metadata": {},
     "output_type": "display_data"
    },
    {
     "data": {
      "text/html": [
       "<pre style=\"white-space:pre;overflow-x:auto;line-height:normal;font-family:Menlo,'DejaVu Sans Mono',consolas,'Courier New',monospace\">action:  [-0.7133812  1.        -0.6151388  1.       ]\n",
       "</pre>\n"
      ],
      "text/plain": [
       "action:  [-0.7133812  1.        -0.6151388  1.       ]\n"
      ]
     },
     "metadata": {},
     "output_type": "display_data"
    },
    {
     "data": {
      "text/html": [
       "<pre style=\"white-space:pre;overflow-x:auto;line-height:normal;font-family:Menlo,'DejaVu Sans Mono',consolas,'Courier New',monospace\">position:  (0.08689068217804084, 0.04030654951501943, 0.0914688218232811)\n",
       "</pre>\n"
      ],
      "text/plain": [
       "position:  (0.08689068217804084, 0.04030654951501943, 0.0914688218232811)\n"
      ]
     },
     "metadata": {},
     "output_type": "display_data"
    },
    {
     "data": {
      "text/html": [
       "<pre style=\"white-space:pre;overflow-x:auto;line-height:normal;font-family:Menlo,'DejaVu Sans Mono',consolas,'Courier New',monospace\">jammer pos:  [10.2299043  12.30450941  5.76251045]\n",
       "</pre>\n"
      ],
      "text/plain": [
       "jammer pos:  [10.2299043  12.30450941  5.76251045]\n"
      ]
     },
     "metadata": {},
     "output_type": "display_data"
    },
    {
     "data": {
      "text/html": [
       "<pre style=\"white-space:pre;overflow-x:auto;line-height:normal;font-family:Menlo,'DejaVu Sans Mono',consolas,'Courier New',monospace\">dist:  16.895328055900507\n",
       "</pre>\n"
      ],
      "text/plain": [
       "dist:  16.895328055900507\n"
      ]
     },
     "metadata": {},
     "output_type": "display_data"
    },
    {
     "name": "stdout",
     "output_type": "stream",
     "text": [
      "------------------------------------------\n",
      "| rollout/                |              |\n",
      "|    ep_len_mean          | 27.1         |\n",
      "|    ep_rew_mean          | -1.02e+06    |\n",
      "| time/                   |              |\n",
      "|    fps                  | 115          |\n",
      "|    iterations           | 49           |\n",
      "|    time_elapsed         | 27           |\n",
      "|    total_timesteps      | 3136         |\n",
      "| train/                  |              |\n",
      "|    approx_kl            | 4.656613e-09 |\n",
      "|    clip_fraction        | 0            |\n",
      "|    clip_range           | 0.2          |\n",
      "|    entropy_loss         | -5.68        |\n",
      "|    explained_variance   | 0            |\n",
      "|    learning_rate        | 0.0003       |\n",
      "|    loss                 | 1.24e+11     |\n",
      "|    n_updates            | 480          |\n",
      "|    policy_gradient_loss | -8.16e-06    |\n",
      "|    std                  | 1            |\n",
      "|    value_loss           | 2.48e+11     |\n",
      "------------------------------------------\n"
     ]
    },
    {
     "data": {
      "text/html": [
       "<pre style=\"white-space:pre;overflow-x:auto;line-height:normal;font-family:Menlo,'DejaVu Sans Mono',consolas,'Courier New',monospace\">action:  [ 0.44325125 -0.49463817 -1.          1.        ]\n",
       "</pre>\n"
      ],
      "text/plain": [
       "action:  [ 0.44325125 -0.49463817 -1.          1.        ]\n"
      ]
     },
     "metadata": {},
     "output_type": "display_data"
    },
    {
     "data": {
      "text/html": [
       "<pre style=\"white-space:pre;overflow-x:auto;line-height:normal;font-family:Menlo,'DejaVu Sans Mono',consolas,'Courier New',monospace\">position:  (0.07924085632979364, 0.08489586057452798, 0.1270381589783615)\n",
       "</pre>\n"
      ],
      "text/plain": [
       "position:  (0.07924085632979364, 0.08489586057452798, 0.1270381589783615)\n"
      ]
     },
     "metadata": {},
     "output_type": "display_data"
    },
    {
     "data": {
      "text/html": [
       "<pre style=\"white-space:pre;overflow-x:auto;line-height:normal;font-family:Menlo,'DejaVu Sans Mono',consolas,'Courier New',monospace\">jammer pos:  [10.2299043  12.30450941  5.76251045]\n",
       "</pre>\n"
      ],
      "text/plain": [
       "jammer pos:  [10.2299043  12.30450941  5.76251045]\n"
      ]
     },
     "metadata": {},
     "output_type": "display_data"
    },
    {
     "data": {
      "text/html": [
       "<pre style=\"white-space:pre;overflow-x:auto;line-height:normal;font-family:Menlo,'DejaVu Sans Mono',consolas,'Courier New',monospace\">dist:  16.855665857527022\n",
       "</pre>\n"
      ],
      "text/plain": [
       "dist:  16.855665857527022\n"
      ]
     },
     "metadata": {},
     "output_type": "display_data"
    },
    {
     "data": {
      "text/html": [
       "<pre style=\"white-space:pre;overflow-x:auto;line-height:normal;font-family:Menlo,'DejaVu Sans Mono',consolas,'Courier New',monospace\">action:  [-0.87193835 -0.11492192  1.          1.        ]\n",
       "</pre>\n"
      ],
      "text/plain": [
       "action:  [-0.87193835 -0.11492192  1.          1.        ]\n"
      ]
     },
     "metadata": {},
     "output_type": "display_data"
    },
    {
     "data": {
      "text/html": [
       "<pre style=\"white-space:pre;overflow-x:auto;line-height:normal;font-family:Menlo,'DejaVu Sans Mono',consolas,'Courier New',monospace\">position:  (0.11897066089251794, 0.15644647970790776, 0.23907618281935786)\n",
       "</pre>\n"
      ],
      "text/plain": [
       "position:  (0.11897066089251794, 0.15644647970790776, 0.23907618281935786)\n"
      ]
     },
     "metadata": {},
     "output_type": "display_data"
    },
    {
     "data": {
      "text/html": [
       "<pre style=\"white-space:pre;overflow-x:auto;line-height:normal;font-family:Menlo,'DejaVu Sans Mono',consolas,'Courier New',monospace\">jammer pos:  [10.2299043  12.30450941  5.76251045]\n",
       "</pre>\n"
      ],
      "text/plain": [
       "jammer pos:  [10.2299043  12.30450941  5.76251045]\n"
      ]
     },
     "metadata": {},
     "output_type": "display_data"
    },
    {
     "data": {
      "text/html": [
       "<pre style=\"white-space:pre;overflow-x:auto;line-height:normal;font-family:Menlo,'DejaVu Sans Mono',consolas,'Courier New',monospace\">dist:  16.742602486783206\n",
       "</pre>\n"
      ],
      "text/plain": [
       "dist:  16.742602486783206\n"
      ]
     },
     "metadata": {},
     "output_type": "display_data"
    },
    {
     "name": "stdout",
     "output_type": "stream",
     "text": [
      "------------------------------------------\n",
      "| rollout/                |              |\n",
      "|    ep_len_mean          | 27           |\n",
      "|    ep_rew_mean          | -1.02e+06    |\n",
      "| time/                   |              |\n",
      "|    fps                  | 115          |\n",
      "|    iterations           | 50           |\n",
      "|    time_elapsed         | 27           |\n",
      "|    total_timesteps      | 3200         |\n",
      "| train/                  |              |\n",
      "|    approx_kl            | 8.381903e-09 |\n",
      "|    clip_fraction        | 0            |\n",
      "|    clip_range           | 0.2          |\n",
      "|    entropy_loss         | -5.68        |\n",
      "|    explained_variance   | 0            |\n",
      "|    learning_rate        | 0.0003       |\n",
      "|    loss                 | 1.6e+11      |\n",
      "|    n_updates            | 490          |\n",
      "|    policy_gradient_loss | -1.37e-05    |\n",
      "|    std                  | 1            |\n",
      "|    value_loss           | 3.2e+11      |\n",
      "------------------------------------------\n"
     ]
    },
    {
     "data": {
      "text/html": [
       "<pre style=\"white-space:pre;overflow-x:auto;line-height:normal;font-family:Menlo,'DejaVu Sans Mono',consolas,'Courier New',monospace\">action:  [ 0.29181135  0.90723675 -0.75804067  1.        ]\n",
       "</pre>\n"
      ],
      "text/plain": [
       "action:  [ 0.29181135  0.90723675 -0.75804067  1.        ]\n"
      ]
     },
     "metadata": {},
     "output_type": "display_data"
    },
    {
     "data": {
      "text/html": [
       "<pre style=\"white-space:pre;overflow-x:auto;line-height:normal;font-family:Menlo,'DejaVu Sans Mono',consolas,'Courier New',monospace\">position:  (0.08811736685741019, 0.07197266059591885, 0.1152964034372644)\n",
       "</pre>\n"
      ],
      "text/plain": [
       "position:  (0.08811736685741019, 0.07197266059591885, 0.1152964034372644)\n"
      ]
     },
     "metadata": {},
     "output_type": "display_data"
    },
    {
     "data": {
      "text/html": [
       "<pre style=\"white-space:pre;overflow-x:auto;line-height:normal;font-family:Menlo,'DejaVu Sans Mono',consolas,'Courier New',monospace\">jammer pos:  [10.2299043  12.30450941  5.76251045]\n",
       "</pre>\n"
      ],
      "text/plain": [
       "jammer pos:  [10.2299043  12.30450941  5.76251045]\n"
      ]
     },
     "metadata": {},
     "output_type": "display_data"
    },
    {
     "data": {
      "text/html": [
       "<pre style=\"white-space:pre;overflow-x:auto;line-height:normal;font-family:Menlo,'DejaVu Sans Mono',consolas,'Courier New',monospace\">dist:  16.86362428199184\n",
       "</pre>\n"
      ],
      "text/plain": [
       "dist:  16.86362428199184\n"
      ]
     },
     "metadata": {},
     "output_type": "display_data"
    },
    {
     "data": {
      "text/html": [
       "<pre style=\"white-space:pre;overflow-x:auto;line-height:normal;font-family:Menlo,'DejaVu Sans Mono',consolas,'Courier New',monospace\">action:  [-0.1784274   0.44799116  1.          1.        ]\n",
       "</pre>\n"
      ],
      "text/plain": [
       "action:  [-0.1784274   0.44799116  1.          1.        ]\n"
      ]
     },
     "metadata": {},
     "output_type": "display_data"
    },
    {
     "data": {
      "text/html": [
       "<pre style=\"white-space:pre;overflow-x:auto;line-height:normal;font-family:Menlo,'DejaVu Sans Mono',consolas,'Courier New',monospace\">position:  (0.06001868401806065, 0.08078947591532532, 0.08667918268397116)\n",
       "</pre>\n"
      ],
      "text/plain": [
       "position:  (0.06001868401806065, 0.08078947591532532, 0.08667918268397116)\n"
      ]
     },
     "metadata": {},
     "output_type": "display_data"
    },
    {
     "data": {
      "text/html": [
       "<pre style=\"white-space:pre;overflow-x:auto;line-height:normal;font-family:Menlo,'DejaVu Sans Mono',consolas,'Courier New',monospace\">jammer pos:  [10.2299043  12.30450941  5.76251045]\n",
       "</pre>\n"
      ],
      "text/plain": [
       "jammer pos:  [10.2299043  12.30450941  5.76251045]\n"
      ]
     },
     "metadata": {},
     "output_type": "display_data"
    },
    {
     "data": {
      "text/html": [
       "<pre style=\"white-space:pre;overflow-x:auto;line-height:normal;font-family:Menlo,'DejaVu Sans Mono',consolas,'Courier New',monospace\">dist:  16.883748486580284\n",
       "</pre>\n"
      ],
      "text/plain": [
       "dist:  16.883748486580284\n"
      ]
     },
     "metadata": {},
     "output_type": "display_data"
    },
    {
     "data": {
      "text/html": [
       "<pre style=\"white-space:pre;overflow-x:auto;line-height:normal;font-family:Menlo,'DejaVu Sans Mono',consolas,'Courier New',monospace\">action:  [0.6359615  0.90596586 0.02038881 1.        ]\n",
       "</pre>\n"
      ],
      "text/plain": [
       "action:  [0.6359615  0.90596586 0.02038881 1.        ]\n"
      ]
     },
     "metadata": {},
     "output_type": "display_data"
    },
    {
     "data": {
      "text/html": [
       "<pre style=\"white-space:pre;overflow-x:auto;line-height:normal;font-family:Menlo,'DejaVu Sans Mono',consolas,'Courier New',monospace\">position:  (0.06162759887520364, 0.08418469133902702, 0.1358071691350645)\n",
       "</pre>\n"
      ],
      "text/plain": [
       "position:  (0.06162759887520364, 0.08418469133902702, 0.1358071691350645)\n"
      ]
     },
     "metadata": {},
     "output_type": "display_data"
    },
    {
     "data": {
      "text/html": [
       "<pre style=\"white-space:pre;overflow-x:auto;line-height:normal;font-family:Menlo,'DejaVu Sans Mono',consolas,'Courier New',monospace\">jammer pos:  [10.2299043  12.30450941  5.76251045]\n",
       "</pre>\n"
      ],
      "text/plain": [
       "jammer pos:  [10.2299043  12.30450941  5.76251045]\n"
      ]
     },
     "metadata": {},
     "output_type": "display_data"
    },
    {
     "data": {
      "text/html": [
       "<pre style=\"white-space:pre;overflow-x:auto;line-height:normal;font-family:Menlo,'DejaVu Sans Mono',consolas,'Courier New',monospace\">dist:  16.863866016567975\n",
       "</pre>\n"
      ],
      "text/plain": [
       "dist:  16.863866016567975\n"
      ]
     },
     "metadata": {},
     "output_type": "display_data"
    },
    {
     "name": "stdout",
     "output_type": "stream",
     "text": [
      "---------------------------------------\n",
      "| rollout/                |           |\n",
      "|    ep_len_mean          | 26.9      |\n",
      "|    ep_rew_mean          | -1.02e+06 |\n",
      "| time/                   |           |\n",
      "|    fps                  | 115       |\n",
      "|    iterations           | 51        |\n",
      "|    time_elapsed         | 28        |\n",
      "|    total_timesteps      | 3264      |\n",
      "| train/                  |           |\n",
      "|    approx_kl            | 0.0       |\n",
      "|    clip_fraction        | 0         |\n",
      "|    clip_range           | 0.2       |\n",
      "|    entropy_loss         | -5.68     |\n",
      "|    explained_variance   | 0         |\n",
      "|    learning_rate        | 0.0003    |\n",
      "|    loss                 | 1.15e+11  |\n",
      "|    n_updates            | 500       |\n",
      "|    policy_gradient_loss | -3.15e-06 |\n",
      "|    std                  | 1         |\n",
      "|    value_loss           | 2.3e+11   |\n",
      "---------------------------------------\n"
     ]
    },
    {
     "data": {
      "text/html": [
       "<pre style=\"white-space:pre;overflow-x:auto;line-height:normal;font-family:Menlo,'DejaVu Sans Mono',consolas,'Courier New',monospace\">action:  [-1.         -0.22736762  0.94744164  1.        ]\n",
       "</pre>\n"
      ],
      "text/plain": [
       "action:  [-1.         -0.22736762  0.94744164  1.        ]\n"
      ]
     },
     "metadata": {},
     "output_type": "display_data"
    },
    {
     "data": {
      "text/html": [
       "<pre style=\"white-space:pre;overflow-x:auto;line-height:normal;font-family:Menlo,'DejaVu Sans Mono',consolas,'Courier New',monospace\">position:  (0.06410019166973817, 0.08893354637934038, 0.14815564965514852)\n",
       "</pre>\n"
      ],
      "text/plain": [
       "position:  (0.06410019166973817, 0.08893354637934038, 0.14815564965514852)\n"
      ]
     },
     "metadata": {},
     "output_type": "display_data"
    },
    {
     "data": {
      "text/html": [
       "<pre style=\"white-space:pre;overflow-x:auto;line-height:normal;font-family:Menlo,'DejaVu Sans Mono',consolas,'Courier New',monospace\">jammer pos:  [10.2299043  12.30450941  5.76251045]\n",
       "</pre>\n"
      ],
      "text/plain": [
       "jammer pos:  [10.2299043  12.30450941  5.76251045]\n"
      ]
     },
     "metadata": {},
     "output_type": "display_data"
    },
    {
     "data": {
      "text/html": [
       "<pre style=\"white-space:pre;overflow-x:auto;line-height:normal;font-family:Menlo,'DejaVu Sans Mono',consolas,'Courier New',monospace\">dist:  16.854816717681953\n",
       "</pre>\n"
      ],
      "text/plain": [
       "dist:  16.854816717681953\n"
      ]
     },
     "metadata": {},
     "output_type": "display_data"
    },
    {
     "data": {
      "text/html": [
       "<pre style=\"white-space:pre;overflow-x:auto;line-height:normal;font-family:Menlo,'DejaVu Sans Mono',consolas,'Courier New',monospace\">action:  [ 0.03442055 -0.3948027  -0.7118024   1.        ]\n",
       "</pre>\n"
      ],
      "text/plain": [
       "action:  [ 0.03442055 -0.3948027  -0.7118024   1.        ]\n"
      ]
     },
     "metadata": {},
     "output_type": "display_data"
    },
    {
     "data": {
      "text/html": [
       "<pre style=\"white-space:pre;overflow-x:auto;line-height:normal;font-family:Menlo,'DejaVu Sans Mono',consolas,'Courier New',monospace\">position:  (0.18335235170702877, 0.24132078174624697, 0.2889802512416638)\n",
       "</pre>\n"
      ],
      "text/plain": [
       "position:  (0.18335235170702877, 0.24132078174624697, 0.2889802512416638)\n"
      ]
     },
     "metadata": {},
     "output_type": "display_data"
    },
    {
     "data": {
      "text/html": [
       "<pre style=\"white-space:pre;overflow-x:auto;line-height:normal;font-family:Menlo,'DejaVu Sans Mono',consolas,'Courier New',monospace\">jammer pos:  [10.2299043  12.30450941  5.76251045]\n",
       "</pre>\n"
      ],
      "text/plain": [
       "jammer pos:  [10.2299043  12.30450941  5.76251045]\n"
      ]
     },
     "metadata": {},
     "output_type": "display_data"
    },
    {
     "data": {
      "text/html": [
       "<pre style=\"white-space:pre;overflow-x:auto;line-height:normal;font-family:Menlo,'DejaVu Sans Mono',consolas,'Courier New',monospace\">dist:  16.62568069829433\n",
       "</pre>\n"
      ],
      "text/plain": [
       "dist:  16.62568069829433\n"
      ]
     },
     "metadata": {},
     "output_type": "display_data"
    },
    {
     "name": "stdout",
     "output_type": "stream",
     "text": [
      "-------------------------------------------\n",
      "| rollout/                |               |\n",
      "|    ep_len_mean          | 27.1          |\n",
      "|    ep_rew_mean          | -1.02e+06     |\n",
      "| time/                   |               |\n",
      "|    fps                  | 115           |\n",
      "|    iterations           | 52            |\n",
      "|    time_elapsed         | 28            |\n",
      "|    total_timesteps      | 3328          |\n",
      "| train/                  |               |\n",
      "|    approx_kl            | 1.4901161e-08 |\n",
      "|    clip_fraction        | 0             |\n",
      "|    clip_range           | 0.2           |\n",
      "|    entropy_loss         | -5.68         |\n",
      "|    explained_variance   | 1.19e-07      |\n",
      "|    learning_rate        | 0.0003        |\n",
      "|    loss                 | 1.77e+11      |\n",
      "|    n_updates            | 510           |\n",
      "|    policy_gradient_loss | -2.64e-05     |\n",
      "|    std                  | 1             |\n",
      "|    value_loss           | 3.53e+11      |\n",
      "-------------------------------------------\n"
     ]
    },
    {
     "data": {
      "text/html": [
       "<pre style=\"white-space:pre;overflow-x:auto;line-height:normal;font-family:Menlo,'DejaVu Sans Mono',consolas,'Courier New',monospace\">action:  [-1.         -0.49971455  1.          1.        ]\n",
       "</pre>\n"
      ],
      "text/plain": [
       "action:  [-1.         -0.49971455  1.          1.        ]\n"
      ]
     },
     "metadata": {},
     "output_type": "display_data"
    },
    {
     "data": {
      "text/html": [
       "<pre style=\"white-space:pre;overflow-x:auto;line-height:normal;font-family:Menlo,'DejaVu Sans Mono',consolas,'Courier New',monospace\">position:  (0.09007717473549608, 0.08452507330472675, 0.10745799352406002)\n",
       "</pre>\n"
      ],
      "text/plain": [
       "position:  (0.09007717473549608, 0.08452507330472675, 0.10745799352406002)\n"
      ]
     },
     "metadata": {},
     "output_type": "display_data"
    },
    {
     "data": {
      "text/html": [
       "<pre style=\"white-space:pre;overflow-x:auto;line-height:normal;font-family:Menlo,'DejaVu Sans Mono',consolas,'Courier New',monospace\">jammer pos:  [10.2299043  12.30450941  5.76251045]\n",
       "</pre>\n"
      ],
      "text/plain": [
       "jammer pos:  [10.2299043  12.30450941  5.76251045]\n"
      ]
     },
     "metadata": {},
     "output_type": "display_data"
    },
    {
     "data": {
      "text/html": [
       "<pre style=\"white-space:pre;overflow-x:auto;line-height:normal;font-family:Menlo,'DejaVu Sans Mono',consolas,'Courier New',monospace\">dist:  16.855970144690524\n",
       "</pre>\n"
      ],
      "text/plain": [
       "dist:  16.855970144690524\n"
      ]
     },
     "metadata": {},
     "output_type": "display_data"
    },
    {
     "data": {
      "text/html": [
       "<pre style=\"white-space:pre;overflow-x:auto;line-height:normal;font-family:Menlo,'DejaVu Sans Mono',consolas,'Courier New',monospace\">action:  [-0.2787856  -1.         -0.89050734  1.        ]\n",
       "</pre>\n"
      ],
      "text/plain": [
       "action:  [-0.2787856  -1.         -0.89050734  1.        ]\n"
      ]
     },
     "metadata": {},
     "output_type": "display_data"
    },
    {
     "data": {
      "text/html": [
       "<pre style=\"white-space:pre;overflow-x:auto;line-height:normal;font-family:Menlo,'DejaVu Sans Mono',consolas,'Courier New',monospace\">position:  (0.1314983898885797, 0.14170065647228108, 0.14360308888805706)\n",
       "</pre>\n"
      ],
      "text/plain": [
       "position:  (0.1314983898885797, 0.14170065647228108, 0.14360308888805706)\n"
      ]
     },
     "metadata": {},
     "output_type": "display_data"
    },
    {
     "data": {
      "text/html": [
       "<pre style=\"white-space:pre;overflow-x:auto;line-height:normal;font-family:Menlo,'DejaVu Sans Mono',consolas,'Courier New',monospace\">jammer pos:  [10.2299043  12.30450941  5.76251045]\n",
       "</pre>\n"
      ],
      "text/plain": [
       "jammer pos:  [10.2299043  12.30450941  5.76251045]\n"
      ]
     },
     "metadata": {},
     "output_type": "display_data"
    },
    {
     "data": {
      "text/html": [
       "<pre style=\"white-space:pre;overflow-x:auto;line-height:normal;font-family:Menlo,'DejaVu Sans Mono',consolas,'Courier New',monospace\">dist:  16.77748010123224\n",
       "</pre>\n"
      ],
      "text/plain": [
       "dist:  16.77748010123224\n"
      ]
     },
     "metadata": {},
     "output_type": "display_data"
    },
    {
     "name": "stdout",
     "output_type": "stream",
     "text": [
      "-------------------------------------------\n",
      "| rollout/                |               |\n",
      "|    ep_len_mean          | 26.9          |\n",
      "|    ep_rew_mean          | -1.02e+06     |\n",
      "| time/                   |               |\n",
      "|    fps                  | 115           |\n",
      "|    iterations           | 53            |\n",
      "|    time_elapsed         | 29            |\n",
      "|    total_timesteps      | 3392          |\n",
      "| train/                  |               |\n",
      "|    approx_kl            | 2.0489097e-08 |\n",
      "|    clip_fraction        | 0             |\n",
      "|    clip_range           | 0.2           |\n",
      "|    entropy_loss         | -5.68         |\n",
      "|    explained_variance   | -1.19e-07     |\n",
      "|    learning_rate        | 0.0003        |\n",
      "|    loss                 | 1.27e+11      |\n",
      "|    n_updates            | 520           |\n",
      "|    policy_gradient_loss | -1.68e-05     |\n",
      "|    std                  | 1             |\n",
      "|    value_loss           | 2.54e+11      |\n",
      "-------------------------------------------\n"
     ]
    },
    {
     "data": {
      "text/html": [
       "<pre style=\"white-space:pre;overflow-x:auto;line-height:normal;font-family:Menlo,'DejaVu Sans Mono',consolas,'Courier New',monospace\">action:  [-1.         1.        -0.9127652  1.       ]\n",
       "</pre>\n"
      ],
      "text/plain": [
       "action:  [-1.         1.        -0.9127652  1.       ]\n"
      ]
     },
     "metadata": {},
     "output_type": "display_data"
    },
    {
     "data": {
      "text/html": [
       "<pre style=\"white-space:pre;overflow-x:auto;line-height:normal;font-family:Menlo,'DejaVu Sans Mono',consolas,'Courier New',monospace\">position:  (0.07079573198664348, 0.08035636495756884, 0.15189828742752987)\n",
       "</pre>\n"
      ],
      "text/plain": [
       "position:  (0.07079573198664348, 0.08035636495756884, 0.15189828742752987)\n"
      ]
     },
     "metadata": {},
     "output_type": "display_data"
    },
    {
     "data": {
      "text/html": [
       "<pre style=\"white-space:pre;overflow-x:auto;line-height:normal;font-family:Menlo,'DejaVu Sans Mono',consolas,'Courier New',monospace\">jammer pos:  [10.2299043  12.30450941  5.76251045]\n",
       "</pre>\n"
      ],
      "text/plain": [
       "jammer pos:  [10.2299043  12.30450941  5.76251045]\n"
      ]
     },
     "metadata": {},
     "output_type": "display_data"
    },
    {
     "data": {
      "text/html": [
       "<pre style=\"white-space:pre;overflow-x:auto;line-height:normal;font-family:Menlo,'DejaVu Sans Mono',consolas,'Courier New',monospace\">dist:  16.85575193569487\n",
       "</pre>\n"
      ],
      "text/plain": [
       "dist:  16.85575193569487\n"
      ]
     },
     "metadata": {},
     "output_type": "display_data"
    },
    {
     "data": {
      "text/html": [
       "<pre style=\"white-space:pre;overflow-x:auto;line-height:normal;font-family:Menlo,'DejaVu Sans Mono',consolas,'Courier New',monospace\">action:  [-1.         -1.          0.35163665  1.        ]\n",
       "</pre>\n"
      ],
      "text/plain": [
       "action:  [-1.         -1.          0.35163665  1.        ]\n"
      ]
     },
     "metadata": {},
     "output_type": "display_data"
    },
    {
     "data": {
      "text/html": [
       "<pre style=\"white-space:pre;overflow-x:auto;line-height:normal;font-family:Menlo,'DejaVu Sans Mono',consolas,'Courier New',monospace\">position:  (0.06506524780896582, 0.05555480810460469, 0.09767905086351106)\n",
       "</pre>\n"
      ],
      "text/plain": [
       "position:  (0.06506524780896582, 0.05555480810460469, 0.09767905086351106)\n"
      ]
     },
     "metadata": {},
     "output_type": "display_data"
    },
    {
     "data": {
      "text/html": [
       "<pre style=\"white-space:pre;overflow-x:auto;line-height:normal;font-family:Menlo,'DejaVu Sans Mono',consolas,'Courier New',monospace\">jammer pos:  [10.2299043  12.30450941  5.76251045]\n",
       "</pre>\n"
      ],
      "text/plain": [
       "jammer pos:  [10.2299043  12.30450941  5.76251045]\n"
      ]
     },
     "metadata": {},
     "output_type": "display_data"
    },
    {
     "data": {
      "text/html": [
       "<pre style=\"white-space:pre;overflow-x:auto;line-height:normal;font-family:Menlo,'DejaVu Sans Mono',consolas,'Courier New',monospace\">dist:  16.895299834289283\n",
       "</pre>\n"
      ],
      "text/plain": [
       "dist:  16.895299834289283\n"
      ]
     },
     "metadata": {},
     "output_type": "display_data"
    },
    {
     "data": {
      "text/html": [
       "<pre style=\"white-space:pre;overflow-x:auto;line-height:normal;font-family:Menlo,'DejaVu Sans Mono',consolas,'Courier New',monospace\">action:  [-0.12426198 -0.16181783  0.8117268   1.        ]\n",
       "</pre>\n"
      ],
      "text/plain": [
       "action:  [-0.12426198 -0.16181783  0.8117268   1.        ]\n"
      ]
     },
     "metadata": {},
     "output_type": "display_data"
    },
    {
     "data": {
      "text/html": [
       "<pre style=\"white-space:pre;overflow-x:auto;line-height:normal;font-family:Menlo,'DejaVu Sans Mono',consolas,'Courier New',monospace\">position:  (0.12259433458968871, 0.08181541111346419, 0.13545979674316092)\n",
       "</pre>\n"
      ],
      "text/plain": [
       "position:  (0.12259433458968871, 0.08181541111346419, 0.13545979674316092)\n"
      ]
     },
     "metadata": {},
     "output_type": "display_data"
    },
    {
     "data": {
      "text/html": [
       "<pre style=\"white-space:pre;overflow-x:auto;line-height:normal;font-family:Menlo,'DejaVu Sans Mono',consolas,'Courier New',monospace\">jammer pos:  [10.2299043  12.30450941  5.76251045]\n",
       "</pre>\n"
      ],
      "text/plain": [
       "jammer pos:  [10.2299043  12.30450941  5.76251045]\n"
      ]
     },
     "metadata": {},
     "output_type": "display_data"
    },
    {
     "data": {
      "text/html": [
       "<pre style=\"white-space:pre;overflow-x:auto;line-height:normal;font-family:Menlo,'DejaVu Sans Mono',consolas,'Courier New',monospace\">dist:  16.829012516939287\n",
       "</pre>\n"
      ],
      "text/plain": [
       "dist:  16.829012516939287\n"
      ]
     },
     "metadata": {},
     "output_type": "display_data"
    },
    {
     "name": "stdout",
     "output_type": "stream",
     "text": [
      "-------------------------------------------\n",
      "| rollout/                |               |\n",
      "|    ep_len_mean          | 26.9          |\n",
      "|    ep_rew_mean          | -1.02e+06     |\n",
      "| time/                   |               |\n",
      "|    fps                  | 115           |\n",
      "|    iterations           | 54            |\n",
      "|    time_elapsed         | 29            |\n",
      "|    total_timesteps      | 3456          |\n",
      "| train/                  |               |\n",
      "|    approx_kl            | 1.3038516e-08 |\n",
      "|    clip_fraction        | 0             |\n",
      "|    clip_range           | 0.2           |\n",
      "|    entropy_loss         | -5.68         |\n",
      "|    explained_variance   | 0             |\n",
      "|    learning_rate        | 0.0003        |\n",
      "|    loss                 | 1.24e+11      |\n",
      "|    n_updates            | 530           |\n",
      "|    policy_gradient_loss | -1.62e-05     |\n",
      "|    std                  | 1             |\n",
      "|    value_loss           | 2.48e+11      |\n",
      "-------------------------------------------\n"
     ]
    },
    {
     "data": {
      "text/html": [
       "<pre style=\"white-space:pre;overflow-x:auto;line-height:normal;font-family:Menlo,'DejaVu Sans Mono',consolas,'Courier New',monospace\">action:  [ 1.         -0.3991054   0.87400275  1.        ]\n",
       "</pre>\n"
      ],
      "text/plain": [
       "action:  [ 1.         -0.3991054   0.87400275  1.        ]\n"
      ]
     },
     "metadata": {},
     "output_type": "display_data"
    },
    {
     "data": {
      "text/html": [
       "<pre style=\"white-space:pre;overflow-x:auto;line-height:normal;font-family:Menlo,'DejaVu Sans Mono',consolas,'Courier New',monospace\">position:  (0.06587884025556752, 0.09902769796701615, 0.11893008224910465)\n",
       "</pre>\n"
      ],
      "text/plain": [
       "position:  (0.06587884025556752, 0.09902769796701615, 0.11893008224910465)\n"
      ]
     },
     "metadata": {},
     "output_type": "display_data"
    },
    {
     "data": {
      "text/html": [
       "<pre style=\"white-space:pre;overflow-x:auto;line-height:normal;font-family:Menlo,'DejaVu Sans Mono',consolas,'Courier New',monospace\">jammer pos:  [10.2299043  12.30450941  5.76251045]\n",
       "</pre>\n"
      ],
      "text/plain": [
       "jammer pos:  [10.2299043  12.30450941  5.76251045]\n"
      ]
     },
     "metadata": {},
     "output_type": "display_data"
    },
    {
     "data": {
      "text/html": [
       "<pre style=\"white-space:pre;overflow-x:auto;line-height:normal;font-family:Menlo,'DejaVu Sans Mono',consolas,'Courier New',monospace\">dist:  16.856191641361942\n",
       "</pre>\n"
      ],
      "text/plain": [
       "dist:  16.856191641361942\n"
      ]
     },
     "metadata": {},
     "output_type": "display_data"
    },
    {
     "data": {
      "text/html": [
       "<pre style=\"white-space:pre;overflow-x:auto;line-height:normal;font-family:Menlo,'DejaVu Sans Mono',consolas,'Courier New',monospace\">action:  [ 0.07476873  0.65225744 -1.          1.        ]\n",
       "</pre>\n"
      ],
      "text/plain": [
       "action:  [ 0.07476873  0.65225744 -1.          1.        ]\n"
      ]
     },
     "metadata": {},
     "output_type": "display_data"
    },
    {
     "data": {
      "text/html": [
       "<pre style=\"white-space:pre;overflow-x:auto;line-height:normal;font-family:Menlo,'DejaVu Sans Mono',consolas,'Courier New',monospace\">position:  (0.08107622515128868, 0.08251492807141826, 0.09242396473215489)\n",
       "</pre>\n"
      ],
      "text/plain": [
       "position:  (0.08107622515128868, 0.08251492807141826, 0.09242396473215489)\n"
      ]
     },
     "metadata": {},
     "output_type": "display_data"
    },
    {
     "data": {
      "text/html": [
       "<pre style=\"white-space:pre;overflow-x:auto;line-height:normal;font-family:Menlo,'DejaVu Sans Mono',consolas,'Courier New',monospace\">jammer pos:  [10.2299043  12.30450941  5.76251045]\n",
       "</pre>\n"
      ],
      "text/plain": [
       "jammer pos:  [10.2299043  12.30450941  5.76251045]\n"
      ]
     },
     "metadata": {},
     "output_type": "display_data"
    },
    {
     "data": {
      "text/html": [
       "<pre style=\"white-space:pre;overflow-x:auto;line-height:normal;font-family:Menlo,'DejaVu Sans Mono',consolas,'Courier New',monospace\">dist:  16.867890830613444\n",
       "</pre>\n"
      ],
      "text/plain": [
       "dist:  16.867890830613444\n"
      ]
     },
     "metadata": {},
     "output_type": "display_data"
    },
    {
     "name": "stdout",
     "output_type": "stream",
     "text": [
      "-------------------------------------------\n",
      "| rollout/                |               |\n",
      "|    ep_len_mean          | 26.7          |\n",
      "|    ep_rew_mean          | -1.02e+06     |\n",
      "| time/                   |               |\n",
      "|    fps                  | 115           |\n",
      "|    iterations           | 55            |\n",
      "|    time_elapsed         | 30            |\n",
      "|    total_timesteps      | 3520          |\n",
      "| train/                  |               |\n",
      "|    approx_kl            | 1.4901161e-08 |\n",
      "|    clip_fraction        | 0             |\n",
      "|    clip_range           | 0.2           |\n",
      "|    entropy_loss         | -5.68         |\n",
      "|    explained_variance   | 0             |\n",
      "|    learning_rate        | 0.0003        |\n",
      "|    loss                 | 1.66e+11      |\n",
      "|    n_updates            | 540           |\n",
      "|    policy_gradient_loss | -1.57e-05     |\n",
      "|    std                  | 1             |\n",
      "|    value_loss           | 3.31e+11      |\n",
      "-------------------------------------------\n"
     ]
    },
    {
     "data": {
      "text/html": [
       "<pre style=\"white-space:pre;overflow-x:auto;line-height:normal;font-family:Menlo,'DejaVu Sans Mono',consolas,'Courier New',monospace\">action:  [ 0.36934176 -0.372614   -0.8875363   1.        ]\n",
       "</pre>\n"
      ],
      "text/plain": [
       "action:  [ 0.36934176 -0.372614   -0.8875363   1.        ]\n"
      ]
     },
     "metadata": {},
     "output_type": "display_data"
    },
    {
     "data": {
      "text/html": [
       "<pre style=\"white-space:pre;overflow-x:auto;line-height:normal;font-family:Menlo,'DejaVu Sans Mono',consolas,'Courier New',monospace\">position:  (0.13027700544640977, 0.11059654309707717, 0.12972684847059154)\n",
       "</pre>\n"
      ],
      "text/plain": [
       "position:  (0.13027700544640977, 0.11059654309707717, 0.12972684847059154)\n"
      ]
     },
     "metadata": {},
     "output_type": "display_data"
    },
    {
     "data": {
      "text/html": [
       "<pre style=\"white-space:pre;overflow-x:auto;line-height:normal;font-family:Menlo,'DejaVu Sans Mono',consolas,'Courier New',monospace\">jammer pos:  [10.2299043  12.30450941  5.76251045]\n",
       "</pre>\n"
      ],
      "text/plain": [
       "jammer pos:  [10.2299043  12.30450941  5.76251045]\n"
      ]
     },
     "metadata": {},
     "output_type": "display_data"
    },
    {
     "data": {
      "text/html": [
       "<pre style=\"white-space:pre;overflow-x:auto;line-height:normal;font-family:Menlo,'DejaVu Sans Mono',consolas,'Courier New',monospace\">dist:  16.805422741191887\n",
       "</pre>\n"
      ],
      "text/plain": [
       "dist:  16.805422741191887\n"
      ]
     },
     "metadata": {},
     "output_type": "display_data"
    },
    {
     "data": {
      "text/html": [
       "<pre style=\"white-space:pre;overflow-x:auto;line-height:normal;font-family:Menlo,'DejaVu Sans Mono',consolas,'Courier New',monospace\">action:  [-0.03330015  0.9606204  -0.00154924  1.        ]\n",
       "</pre>\n"
      ],
      "text/plain": [
       "action:  [-0.03330015  0.9606204  -0.00154924  1.        ]\n"
      ]
     },
     "metadata": {},
     "output_type": "display_data"
    },
    {
     "data": {
      "text/html": [
       "<pre style=\"white-space:pre;overflow-x:auto;line-height:normal;font-family:Menlo,'DejaVu Sans Mono',consolas,'Courier New',monospace\">position:  (0.14832144544421358, 0.1339207152219189, 0.2413718510824157)\n",
       "</pre>\n"
      ],
      "text/plain": [
       "position:  (0.14832144544421358, 0.1339207152219189, 0.2413718510824157)\n"
      ]
     },
     "metadata": {},
     "output_type": "display_data"
    },
    {
     "data": {
      "text/html": [
       "<pre style=\"white-space:pre;overflow-x:auto;line-height:normal;font-family:Menlo,'DejaVu Sans Mono',consolas,'Courier New',monospace\">jammer pos:  [10.2299043  12.30450941  5.76251045]\n",
       "</pre>\n"
      ],
      "text/plain": [
       "jammer pos:  [10.2299043  12.30450941  5.76251045]\n"
      ]
     },
     "metadata": {},
     "output_type": "display_data"
    },
    {
     "data": {
      "text/html": [
       "<pre style=\"white-space:pre;overflow-x:auto;line-height:normal;font-family:Menlo,'DejaVu Sans Mono',consolas,'Courier New',monospace\">dist:  16.74050517077533\n",
       "</pre>\n"
      ],
      "text/plain": [
       "dist:  16.74050517077533\n"
      ]
     },
     "metadata": {},
     "output_type": "display_data"
    },
    {
     "data": {
      "text/html": [
       "<pre style=\"white-space:pre;overflow-x:auto;line-height:normal;font-family:Menlo,'DejaVu Sans Mono',consolas,'Courier New',monospace\">action:  [-0.34295943 -0.12898502  1.          1.        ]\n",
       "</pre>\n"
      ],
      "text/plain": [
       "action:  [-0.34295943 -0.12898502  1.          1.        ]\n"
      ]
     },
     "metadata": {},
     "output_type": "display_data"
    },
    {
     "data": {
      "text/html": [
       "<pre style=\"white-space:pre;overflow-x:auto;line-height:normal;font-family:Menlo,'DejaVu Sans Mono',consolas,'Courier New',monospace\">position:  (0.06471311476675765, 0.07212779592599813, 0.1137357982525381)\n",
       "</pre>\n"
      ],
      "text/plain": [
       "position:  (0.06471311476675765, 0.07212779592599813, 0.1137357982525381)\n"
      ]
     },
     "metadata": {},
     "output_type": "display_data"
    },
    {
     "data": {
      "text/html": [
       "<pre style=\"white-space:pre;overflow-x:auto;line-height:normal;font-family:Menlo,'DejaVu Sans Mono',consolas,'Courier New',monospace\">jammer pos:  [10.2299043  12.30450941  5.76251045]\n",
       "</pre>\n"
      ],
      "text/plain": [
       "jammer pos:  [10.2299043  12.30450941  5.76251045]\n"
      ]
     },
     "metadata": {},
     "output_type": "display_data"
    },
    {
     "data": {
      "text/html": [
       "<pre style=\"white-space:pre;overflow-x:auto;line-height:normal;font-family:Menlo,'DejaVu Sans Mono',consolas,'Courier New',monospace\">dist:  16.878119763902088\n",
       "</pre>\n"
      ],
      "text/plain": [
       "dist:  16.878119763902088\n"
      ]
     },
     "metadata": {},
     "output_type": "display_data"
    },
    {
     "name": "stdout",
     "output_type": "stream",
     "text": [
      "-------------------------------------------\n",
      "| rollout/                |               |\n",
      "|    ep_len_mean          | 26.8          |\n",
      "|    ep_rew_mean          | -1.02e+06     |\n",
      "| time/                   |               |\n",
      "|    fps                  | 114           |\n",
      "|    iterations           | 56            |\n",
      "|    time_elapsed         | 31            |\n",
      "|    total_timesteps      | 3584          |\n",
      "| train/                  |               |\n",
      "|    approx_kl            | 1.4901161e-08 |\n",
      "|    clip_fraction        | 0             |\n",
      "|    clip_range           | 0.2           |\n",
      "|    entropy_loss         | -5.68         |\n",
      "|    explained_variance   | 0             |\n",
      "|    learning_rate        | 0.0003        |\n",
      "|    loss                 | 1.23e+11      |\n",
      "|    n_updates            | 550           |\n",
      "|    policy_gradient_loss | -1.17e-05     |\n",
      "|    std                  | 1             |\n",
      "|    value_loss           | 2.47e+11      |\n",
      "-------------------------------------------\n"
     ]
    },
    {
     "data": {
      "text/html": [
       "<pre style=\"white-space:pre;overflow-x:auto;line-height:normal;font-family:Menlo,'DejaVu Sans Mono',consolas,'Courier New',monospace\">action:  [-1.         -0.90322983  0.29291138  1.        ]\n",
       "</pre>\n"
      ],
      "text/plain": [
       "action:  [-1.         -0.90322983  0.29291138  1.        ]\n"
      ]
     },
     "metadata": {},
     "output_type": "display_data"
    },
    {
     "data": {
      "text/html": [
       "<pre style=\"white-space:pre;overflow-x:auto;line-height:normal;font-family:Menlo,'DejaVu Sans Mono',consolas,'Courier New',monospace\">position:  (0.07749861157348538, 0.08650910855398049, 0.1281989671192215)\n",
       "</pre>\n"
      ],
      "text/plain": [
       "position:  (0.07749861157348538, 0.08650910855398049, 0.1281989671192215)\n"
      ]
     },
     "metadata": {},
     "output_type": "display_data"
    },
    {
     "data": {
      "text/html": [
       "<pre style=\"white-space:pre;overflow-x:auto;line-height:normal;font-family:Menlo,'DejaVu Sans Mono',consolas,'Courier New',monospace\">jammer pos:  [10.2299043  12.30450941  5.76251045]\n",
       "</pre>\n"
      ],
      "text/plain": [
       "jammer pos:  [10.2299043  12.30450941  5.76251045]\n"
      ]
     },
     "metadata": {},
     "output_type": "display_data"
    },
    {
     "data": {
      "text/html": [
       "<pre style=\"white-space:pre;overflow-x:auto;line-height:normal;font-family:Menlo,'DejaVu Sans Mono',consolas,'Courier New',monospace\">dist:  16.855157620990248\n",
       "</pre>\n"
      ],
      "text/plain": [
       "dist:  16.855157620990248\n"
      ]
     },
     "metadata": {},
     "output_type": "display_data"
    },
    {
     "data": {
      "text/html": [
       "<pre style=\"white-space:pre;overflow-x:auto;line-height:normal;font-family:Menlo,'DejaVu Sans Mono',consolas,'Courier New',monospace\">action:  [-0.45085105 -0.26229692 -0.63521135  1.        ]\n",
       "</pre>\n"
      ],
      "text/plain": [
       "action:  [-0.45085105 -0.26229692 -0.63521135  1.        ]\n"
      ]
     },
     "metadata": {},
     "output_type": "display_data"
    },
    {
     "data": {
      "text/html": [
       "<pre style=\"white-space:pre;overflow-x:auto;line-height:normal;font-family:Menlo,'DejaVu Sans Mono',consolas,'Courier New',monospace\">position:  (0.07505605974770702, 0.06261092638708576, 0.13007170972529594)\n",
       "</pre>\n"
      ],
      "text/plain": [
       "position:  (0.07505605974770702, 0.06261092638708576, 0.13007170972529594)\n"
      ]
     },
     "metadata": {},
     "output_type": "display_data"
    },
    {
     "data": {
      "text/html": [
       "<pre style=\"white-space:pre;overflow-x:auto;line-height:normal;font-family:Menlo,'DejaVu Sans Mono',consolas,'Courier New',monospace\">jammer pos:  [10.2299043  12.30450941  5.76251045]\n",
       "</pre>\n"
      ],
      "text/plain": [
       "jammer pos:  [10.2299043  12.30450941  5.76251045]\n"
      ]
     },
     "metadata": {},
     "output_type": "display_data"
    },
    {
     "data": {
      "text/html": [
       "<pre style=\"white-space:pre;overflow-x:auto;line-height:normal;font-family:Menlo,'DejaVu Sans Mono',consolas,'Courier New',monospace\">dist:  16.873333616749054\n",
       "</pre>\n"
      ],
      "text/plain": [
       "dist:  16.873333616749054\n"
      ]
     },
     "metadata": {},
     "output_type": "display_data"
    },
    {
     "name": "stdout",
     "output_type": "stream",
     "text": [
      "-------------------------------------------\n",
      "| rollout/                |               |\n",
      "|    ep_len_mean          | 26.7          |\n",
      "|    ep_rew_mean          | -1.02e+06     |\n",
      "| time/                   |               |\n",
      "|    fps                  | 114           |\n",
      "|    iterations           | 57            |\n",
      "|    time_elapsed         | 31            |\n",
      "|    total_timesteps      | 3648          |\n",
      "| train/                  |               |\n",
      "|    approx_kl            | 1.8626451e-09 |\n",
      "|    clip_fraction        | 0             |\n",
      "|    clip_range           | 0.2           |\n",
      "|    entropy_loss         | -5.68         |\n",
      "|    explained_variance   | 0             |\n",
      "|    learning_rate        | 0.0003        |\n",
      "|    loss                 | 1.46e+11      |\n",
      "|    n_updates            | 560           |\n",
      "|    policy_gradient_loss | -3.89e-06     |\n",
      "|    std                  | 1             |\n",
      "|    value_loss           | 2.92e+11      |\n",
      "-------------------------------------------\n"
     ]
    },
    {
     "data": {
      "text/html": [
       "<pre style=\"white-space:pre;overflow-x:auto;line-height:normal;font-family:Menlo,'DejaVu Sans Mono',consolas,'Courier New',monospace\">action:  [ 0.5045128   0.7723032  -0.81832534  1.        ]\n",
       "</pre>\n"
      ],
      "text/plain": [
       "action:  [ 0.5045128   0.7723032  -0.81832534  1.        ]\n"
      ]
     },
     "metadata": {},
     "output_type": "display_data"
    },
    {
     "data": {
      "text/html": [
       "<pre style=\"white-space:pre;overflow-x:auto;line-height:normal;font-family:Menlo,'DejaVu Sans Mono',consolas,'Courier New',monospace\">position:  (0.15565217750424182, 0.11847947209894838, 0.15877396640053407)\n",
       "</pre>\n"
      ],
      "text/plain": [
       "position:  (0.15565217750424182, 0.11847947209894838, 0.15877396640053407)\n"
      ]
     },
     "metadata": {},
     "output_type": "display_data"
    },
    {
     "data": {
      "text/html": [
       "<pre style=\"white-space:pre;overflow-x:auto;line-height:normal;font-family:Menlo,'DejaVu Sans Mono',consolas,'Courier New',monospace\">jammer pos:  [10.2299043  12.30450941  5.76251045]\n",
       "</pre>\n"
      ],
      "text/plain": [
       "jammer pos:  [10.2299043  12.30450941  5.76251045]\n"
      ]
     },
     "metadata": {},
     "output_type": "display_data"
    },
    {
     "data": {
      "text/html": [
       "<pre style=\"white-space:pre;overflow-x:auto;line-height:normal;font-family:Menlo,'DejaVu Sans Mono',consolas,'Courier New',monospace\">dist:  16.774735287525605\n",
       "</pre>\n"
      ],
      "text/plain": [
       "dist:  16.774735287525605\n"
      ]
     },
     "metadata": {},
     "output_type": "display_data"
    },
    {
     "data": {
      "text/html": [
       "<pre style=\"white-space:pre;overflow-x:auto;line-height:normal;font-family:Menlo,'DejaVu Sans Mono',consolas,'Courier New',monospace\">action:  [-0.3076451  1.        -1.         1.       ]\n",
       "</pre>\n"
      ],
      "text/plain": [
       "action:  [-0.3076451  1.        -1.         1.       ]\n"
      ]
     },
     "metadata": {},
     "output_type": "display_data"
    },
    {
     "data": {
      "text/html": [
       "<pre style=\"white-space:pre;overflow-x:auto;line-height:normal;font-family:Menlo,'DejaVu Sans Mono',consolas,'Courier New',monospace\">position:  (0.05523729879526953, 0.053837806073845085, 0.11225931623632249)\n",
       "</pre>\n"
      ],
      "text/plain": [
       "position:  (0.05523729879526953, 0.053837806073845085, 0.11225931623632249)\n"
      ]
     },
     "metadata": {},
     "output_type": "display_data"
    },
    {
     "data": {
      "text/html": [
       "<pre style=\"white-space:pre;overflow-x:auto;line-height:normal;font-family:Menlo,'DejaVu Sans Mono',consolas,'Courier New',monospace\">jammer pos:  [10.2299043  12.30450941  5.76251045]\n",
       "</pre>\n"
      ],
      "text/plain": [
       "jammer pos:  [10.2299043  12.30450941  5.76251045]\n"
      ]
     },
     "metadata": {},
     "output_type": "display_data"
    },
    {
     "data": {
      "text/html": [
       "<pre style=\"white-space:pre;overflow-x:auto;line-height:normal;font-family:Menlo,'DejaVu Sans Mono',consolas,'Courier New',monospace\">dist:  16.89757796611078\n",
       "</pre>\n"
      ],
      "text/plain": [
       "dist:  16.89757796611078\n"
      ]
     },
     "metadata": {},
     "output_type": "display_data"
    },
    {
     "data": {
      "text/html": [
       "<pre style=\"white-space:pre;overflow-x:auto;line-height:normal;font-family:Menlo,'DejaVu Sans Mono',consolas,'Courier New',monospace\">action:  [-1.         -0.5148187   0.43389452  1.        ]\n",
       "</pre>\n"
      ],
      "text/plain": [
       "action:  [-1.         -0.5148187   0.43389452  1.        ]\n"
      ]
     },
     "metadata": {},
     "output_type": "display_data"
    },
    {
     "data": {
      "text/html": [
       "<pre style=\"white-space:pre;overflow-x:auto;line-height:normal;font-family:Menlo,'DejaVu Sans Mono',consolas,'Courier New',monospace\">position:  (0.12644830765500759, 0.1083762813319579, 0.15785124816867172)\n",
       "</pre>\n"
      ],
      "text/plain": [
       "position:  (0.12644830765500759, 0.1083762813319579, 0.15785124816867172)\n"
      ]
     },
     "metadata": {},
     "output_type": "display_data"
    },
    {
     "data": {
      "text/html": [
       "<pre style=\"white-space:pre;overflow-x:auto;line-height:normal;font-family:Menlo,'DejaVu Sans Mono',consolas,'Courier New',monospace\">jammer pos:  [10.2299043  12.30450941  5.76251045]\n",
       "</pre>\n"
      ],
      "text/plain": [
       "jammer pos:  [10.2299043  12.30450941  5.76251045]\n"
      ]
     },
     "metadata": {},
     "output_type": "display_data"
    },
    {
     "data": {
      "text/html": [
       "<pre style=\"white-space:pre;overflow-x:auto;line-height:normal;font-family:Menlo,'DejaVu Sans Mono',consolas,'Courier New',monospace\">dist:  16.799931278547792\n",
       "</pre>\n"
      ],
      "text/plain": [
       "dist:  16.799931278547792\n"
      ]
     },
     "metadata": {},
     "output_type": "display_data"
    },
    {
     "name": "stdout",
     "output_type": "stream",
     "text": [
      "-------------------------------------------\n",
      "| rollout/                |               |\n",
      "|    ep_len_mean          | 26.7          |\n",
      "|    ep_rew_mean          | -1.02e+06     |\n",
      "| time/                   |               |\n",
      "|    fps                  | 113           |\n",
      "|    iterations           | 58            |\n",
      "|    time_elapsed         | 32            |\n",
      "|    total_timesteps      | 3712          |\n",
      "| train/                  |               |\n",
      "|    approx_kl            | 1.5832484e-08 |\n",
      "|    clip_fraction        | 0             |\n",
      "|    clip_range           | 0.2           |\n",
      "|    entropy_loss         | -5.68         |\n",
      "|    explained_variance   | 0             |\n",
      "|    learning_rate        | 0.0003        |\n",
      "|    loss                 | 1.27e+11      |\n",
      "|    n_updates            | 570           |\n",
      "|    policy_gradient_loss | -1.15e-05     |\n",
      "|    std                  | 1             |\n",
      "|    value_loss           | 2.55e+11      |\n",
      "-------------------------------------------\n"
     ]
    },
    {
     "data": {
      "text/html": [
       "<pre style=\"white-space:pre;overflow-x:auto;line-height:normal;font-family:Menlo,'DejaVu Sans Mono',consolas,'Courier New',monospace\">action:  [-0.66684675 -0.943953    1.          1.        ]\n",
       "</pre>\n"
      ],
      "text/plain": [
       "action:  [-0.66684675 -0.943953    1.          1.        ]\n"
      ]
     },
     "metadata": {},
     "output_type": "display_data"
    },
    {
     "data": {
      "text/html": [
       "<pre style=\"white-space:pre;overflow-x:auto;line-height:normal;font-family:Menlo,'DejaVu Sans Mono',consolas,'Courier New',monospace\">position:  (0.07077068033291987, 0.08760383885077486, 0.13349575258155444)\n",
       "</pre>\n"
      ],
      "text/plain": [
       "position:  (0.07077068033291987, 0.08760383885077486, 0.13349575258155444)\n"
      ]
     },
     "metadata": {},
     "output_type": "display_data"
    },
    {
     "data": {
      "text/html": [
       "<pre style=\"white-space:pre;overflow-x:auto;line-height:normal;font-family:Menlo,'DejaVu Sans Mono',consolas,'Courier New',monospace\">jammer pos:  [10.2299043  12.30450941  5.76251045]\n",
       "</pre>\n"
      ],
      "text/plain": [
       "jammer pos:  [10.2299043  12.30450941  5.76251045]\n"
      ]
     },
     "metadata": {},
     "output_type": "display_data"
    },
    {
     "data": {
      "text/html": [
       "<pre style=\"white-space:pre;overflow-x:auto;line-height:normal;font-family:Menlo,'DejaVu Sans Mono',consolas,'Courier New',monospace\">dist:  16.856648065796858\n",
       "</pre>\n"
      ],
      "text/plain": [
       "dist:  16.856648065796858\n"
      ]
     },
     "metadata": {},
     "output_type": "display_data"
    },
    {
     "data": {
      "text/html": [
       "<pre style=\"white-space:pre;overflow-x:auto;line-height:normal;font-family:Menlo,'DejaVu Sans Mono',consolas,'Courier New',monospace\">action:  [1.         0.76830333 0.5715957  1.        ]\n",
       "</pre>\n"
      ],
      "text/plain": [
       "action:  [1.         0.76830333 0.5715957  1.        ]\n"
      ]
     },
     "metadata": {},
     "output_type": "display_data"
    },
    {
     "data": {
      "text/html": [
       "<pre style=\"white-space:pre;overflow-x:auto;line-height:normal;font-family:Menlo,'DejaVu Sans Mono',consolas,'Courier New',monospace\">position:  (0.11426728123043076, 0.0975653036879197, 0.16272948721502495)\n",
       "</pre>\n"
      ],
      "text/plain": [
       "position:  (0.11426728123043076, 0.0975653036879197, 0.16272948721502495)\n"
      ]
     },
     "metadata": {},
     "output_type": "display_data"
    },
    {
     "data": {
      "text/html": [
       "<pre style=\"white-space:pre;overflow-x:auto;line-height:normal;font-family:Menlo,'DejaVu Sans Mono',consolas,'Courier New',monospace\">jammer pos:  [10.2299043  12.30450941  5.76251045]\n",
       "</pre>\n"
      ],
      "text/plain": [
       "jammer pos:  [10.2299043  12.30450941  5.76251045]\n"
      ]
     },
     "metadata": {},
     "output_type": "display_data"
    },
    {
     "data": {
      "text/html": [
       "<pre style=\"white-space:pre;overflow-x:auto;line-height:normal;font-family:Menlo,'DejaVu Sans Mono',consolas,'Courier New',monospace\">dist:  16.813481003497543\n",
       "</pre>\n"
      ],
      "text/plain": [
       "dist:  16.813481003497543\n"
      ]
     },
     "metadata": {},
     "output_type": "display_data"
    },
    {
     "name": "stdout",
     "output_type": "stream",
     "text": [
      "---------------------------------------\n",
      "| rollout/                |           |\n",
      "|    ep_len_mean          | 26.7      |\n",
      "|    ep_rew_mean          | -1.02e+06 |\n",
      "| time/                   |           |\n",
      "|    fps                  | 113       |\n",
      "|    iterations           | 59        |\n",
      "|    time_elapsed         | 33        |\n",
      "|    total_timesteps      | 3776      |\n",
      "| train/                  |           |\n",
      "|    approx_kl            | 0.0       |\n",
      "|    clip_fraction        | 0         |\n",
      "|    clip_range           | 0.2       |\n",
      "|    entropy_loss         | -5.68     |\n",
      "|    explained_variance   | 0         |\n",
      "|    learning_rate        | 0.0003    |\n",
      "|    loss                 | 1.79e+11  |\n",
      "|    n_updates            | 580       |\n",
      "|    policy_gradient_loss | -2.36e-06 |\n",
      "|    std                  | 1         |\n",
      "|    value_loss           | 3.57e+11  |\n",
      "---------------------------------------\n"
     ]
    },
    {
     "data": {
      "text/html": [
       "<pre style=\"white-space:pre;overflow-x:auto;line-height:normal;font-family:Menlo,'DejaVu Sans Mono',consolas,'Courier New',monospace\">action:  [-0.8326332  -0.27297673 -1.          1.        ]\n",
       "</pre>\n"
      ],
      "text/plain": [
       "action:  [-0.8326332  -0.27297673 -1.          1.        ]\n"
      ]
     },
     "metadata": {},
     "output_type": "display_data"
    },
    {
     "data": {
      "text/html": [
       "<pre style=\"white-space:pre;overflow-x:auto;line-height:normal;font-family:Menlo,'DejaVu Sans Mono',consolas,'Courier New',monospace\">position:  (0.0472210073520952, 0.05174388661602418, 0.12002057557816206)\n",
       "</pre>\n"
      ],
      "text/plain": [
       "position:  (0.0472210073520952, 0.05174388661602418, 0.12002057557816206)\n"
      ]
     },
     "metadata": {},
     "output_type": "display_data"
    },
    {
     "data": {
      "text/html": [
       "<pre style=\"white-space:pre;overflow-x:auto;line-height:normal;font-family:Menlo,'DejaVu Sans Mono',consolas,'Courier New',monospace\">jammer pos:  [10.2299043  12.30450941  5.76251045]\n",
       "</pre>\n"
      ],
      "text/plain": [
       "jammer pos:  [10.2299043  12.30450941  5.76251045]\n"
      ]
     },
     "metadata": {},
     "output_type": "display_data"
    },
    {
     "data": {
      "text/html": [
       "<pre style=\"white-space:pre;overflow-x:auto;line-height:normal;font-family:Menlo,'DejaVu Sans Mono',consolas,'Courier New',monospace\">dist:  16.90133112822278\n",
       "</pre>\n"
      ],
      "text/plain": [
       "dist:  16.90133112822278\n"
      ]
     },
     "metadata": {},
     "output_type": "display_data"
    },
    {
     "data": {
      "text/html": [
       "<pre style=\"white-space:pre;overflow-x:auto;line-height:normal;font-family:Menlo,'DejaVu Sans Mono',consolas,'Courier New',monospace\">action:  [0.05810523 0.5505598  0.37660044 1.        ]\n",
       "</pre>\n"
      ],
      "text/plain": [
       "action:  [0.05810523 0.5505598  0.37660044 1.        ]\n"
      ]
     },
     "metadata": {},
     "output_type": "display_data"
    },
    {
     "data": {
      "text/html": [
       "<pre style=\"white-space:pre;overflow-x:auto;line-height:normal;font-family:Menlo,'DejaVu Sans Mono',consolas,'Courier New',monospace\">position:  (0.0581865024317197, 0.07598405556097305, 0.13501317351258252)\n",
       "</pre>\n"
      ],
      "text/plain": [
       "position:  (0.0581865024317197, 0.07598405556097305, 0.13501317351258252)\n"
      ]
     },
     "metadata": {},
     "output_type": "display_data"
    },
    {
     "data": {
      "text/html": [
       "<pre style=\"white-space:pre;overflow-x:auto;line-height:normal;font-family:Menlo,'DejaVu Sans Mono',consolas,'Courier New',monospace\">jammer pos:  [10.2299043  12.30450941  5.76251045]\n",
       "</pre>\n"
      ],
      "text/plain": [
       "jammer pos:  [10.2299043  12.30450941  5.76251045]\n"
      ]
     },
     "metadata": {},
     "output_type": "display_data"
    },
    {
     "data": {
      "text/html": [
       "<pre style=\"white-space:pre;overflow-x:auto;line-height:normal;font-family:Menlo,'DejaVu Sans Mono',consolas,'Courier New',monospace\">dist:  16.87214867193948\n",
       "</pre>\n"
      ],
      "text/plain": [
       "dist:  16.87214867193948\n"
      ]
     },
     "metadata": {},
     "output_type": "display_data"
    },
    {
     "data": {
      "text/html": [
       "<pre style=\"white-space:pre;overflow-x:auto;line-height:normal;font-family:Menlo,'DejaVu Sans Mono',consolas,'Courier New',monospace\">action:  [-1.          0.35920557  0.2946962   1.        ]\n",
       "</pre>\n"
      ],
      "text/plain": [
       "action:  [-1.          0.35920557  0.2946962   1.        ]\n"
      ]
     },
     "metadata": {},
     "output_type": "display_data"
    },
    {
     "data": {
      "text/html": [
       "<pre style=\"white-space:pre;overflow-x:auto;line-height:normal;font-family:Menlo,'DejaVu Sans Mono',consolas,'Courier New',monospace\">position:  (0.04937648086804696, 0.044592870990527556, 0.1180317818545175)\n",
       "</pre>\n"
      ],
      "text/plain": [
       "position:  (0.04937648086804696, 0.044592870990527556, 0.1180317818545175)\n"
      ]
     },
     "metadata": {},
     "output_type": "display_data"
    },
    {
     "data": {
      "text/html": [
       "<pre style=\"white-space:pre;overflow-x:auto;line-height:normal;font-family:Menlo,'DejaVu Sans Mono',consolas,'Courier New',monospace\">jammer pos:  [10.2299043  12.30450941  5.76251045]\n",
       "</pre>\n"
      ],
      "text/plain": [
       "jammer pos:  [10.2299043  12.30450941  5.76251045]\n"
      ]
     },
     "metadata": {},
     "output_type": "display_data"
    },
    {
     "data": {
      "text/html": [
       "<pre style=\"white-space:pre;overflow-x:auto;line-height:normal;font-family:Menlo,'DejaVu Sans Mono',consolas,'Courier New',monospace\">dist:  16.90588180392167\n",
       "</pre>\n"
      ],
      "text/plain": [
       "dist:  16.90588180392167\n"
      ]
     },
     "metadata": {},
     "output_type": "display_data"
    },
    {
     "name": "stdout",
     "output_type": "stream",
     "text": [
      "-------------------------------------------\n",
      "| rollout/                |               |\n",
      "|    ep_len_mean          | 26.6          |\n",
      "|    ep_rew_mean          | -1.02e+06     |\n",
      "| time/                   |               |\n",
      "|    fps                  | 113           |\n",
      "|    iterations           | 60            |\n",
      "|    time_elapsed         | 33            |\n",
      "|    total_timesteps      | 3840          |\n",
      "| train/                  |               |\n",
      "|    approx_kl            | 1.0244548e-08 |\n",
      "|    clip_fraction        | 0             |\n",
      "|    clip_range           | 0.2           |\n",
      "|    entropy_loss         | -5.68         |\n",
      "|    explained_variance   | 0             |\n",
      "|    learning_rate        | 0.0003        |\n",
      "|    loss                 | 1.31e+11      |\n",
      "|    n_updates            | 590           |\n",
      "|    policy_gradient_loss | -1.92e-05     |\n",
      "|    std                  | 1             |\n",
      "|    value_loss           | 2.62e+11      |\n",
      "-------------------------------------------\n"
     ]
    },
    {
     "data": {
      "text/html": [
       "<pre style=\"white-space:pre;overflow-x:auto;line-height:normal;font-family:Menlo,'DejaVu Sans Mono',consolas,'Courier New',monospace\">action:  [-0.12517077 -1.         -1.          1.        ]\n",
       "</pre>\n"
      ],
      "text/plain": [
       "action:  [-0.12517077 -1.         -1.          1.        ]\n"
      ]
     },
     "metadata": {},
     "output_type": "display_data"
    },
    {
     "data": {
      "text/html": [
       "<pre style=\"white-space:pre;overflow-x:auto;line-height:normal;font-family:Menlo,'DejaVu Sans Mono',consolas,'Courier New',monospace\">position:  (0.06600547723401204, 0.07961697982214588, 0.11914342694138849)\n",
       "</pre>\n"
      ],
      "text/plain": [
       "position:  (0.06600547723401204, 0.07961697982214588, 0.11914342694138849)\n"
      ]
     },
     "metadata": {},
     "output_type": "display_data"
    },
    {
     "data": {
      "text/html": [
       "<pre style=\"white-space:pre;overflow-x:auto;line-height:normal;font-family:Menlo,'DejaVu Sans Mono',consolas,'Courier New',monospace\">jammer pos:  [10.2299043  12.30450941  5.76251045]\n",
       "</pre>\n"
      ],
      "text/plain": [
       "jammer pos:  [10.2299043  12.30450941  5.76251045]\n"
      ]
     },
     "metadata": {},
     "output_type": "display_data"
    },
    {
     "data": {
      "text/html": [
       "<pre style=\"white-space:pre;overflow-x:auto;line-height:normal;font-family:Menlo,'DejaVu Sans Mono',consolas,'Courier New',monospace\">dist:  16.870104489289595\n",
       "</pre>\n"
      ],
      "text/plain": [
       "dist:  16.870104489289595\n"
      ]
     },
     "metadata": {},
     "output_type": "display_data"
    },
    {
     "data": {
      "text/html": [
       "<pre style=\"white-space:pre;overflow-x:auto;line-height:normal;font-family:Menlo,'DejaVu Sans Mono',consolas,'Courier New',monospace\">action:  [ 0.63591015 -0.05001801  0.10496017  1.        ]\n",
       "</pre>\n"
      ],
      "text/plain": [
       "action:  [ 0.63591015 -0.05001801  0.10496017  1.        ]\n"
      ]
     },
     "metadata": {},
     "output_type": "display_data"
    },
    {
     "data": {
      "text/html": [
       "<pre style=\"white-space:pre;overflow-x:auto;line-height:normal;font-family:Menlo,'DejaVu Sans Mono',consolas,'Courier New',monospace\">position:  (0.08560409169191903, 0.08137282203289499, 0.1464540581439031)\n",
       "</pre>\n"
      ],
      "text/plain": [
       "position:  (0.08560409169191903, 0.08137282203289499, 0.1464540581439031)\n"
      ]
     },
     "metadata": {},
     "output_type": "display_data"
    },
    {
     "data": {
      "text/html": [
       "<pre style=\"white-space:pre;overflow-x:auto;line-height:normal;font-family:Menlo,'DejaVu Sans Mono',consolas,'Courier New',monospace\">jammer pos:  [10.2299043  12.30450941  5.76251045]\n",
       "</pre>\n"
      ],
      "text/plain": [
       "jammer pos:  [10.2299043  12.30450941  5.76251045]\n"
      ]
     },
     "metadata": {},
     "output_type": "display_data"
    },
    {
     "data": {
      "text/html": [
       "<pre style=\"white-space:pre;overflow-x:auto;line-height:normal;font-family:Menlo,'DejaVu Sans Mono',consolas,'Courier New',monospace\">dist:  16.84790740936397\n",
       "</pre>\n"
      ],
      "text/plain": [
       "dist:  16.84790740936397\n"
      ]
     },
     "metadata": {},
     "output_type": "display_data"
    },
    {
     "name": "stdout",
     "output_type": "stream",
     "text": [
      "-------------------------------------------\n",
      "| rollout/                |               |\n",
      "|    ep_len_mean          | 26.6          |\n",
      "|    ep_rew_mean          | -1.02e+06     |\n",
      "| time/                   |               |\n",
      "|    fps                  | 114           |\n",
      "|    iterations           | 61            |\n",
      "|    time_elapsed         | 34            |\n",
      "|    total_timesteps      | 3904          |\n",
      "| train/                  |               |\n",
      "|    approx_kl            | 1.7695129e-08 |\n",
      "|    clip_fraction        | 0             |\n",
      "|    clip_range           | 0.2           |\n",
      "|    entropy_loss         | -5.68         |\n",
      "|    explained_variance   | 1.19e-07      |\n",
      "|    learning_rate        | 0.0003        |\n",
      "|    loss                 | 1.79e+11      |\n",
      "|    n_updates            | 600           |\n",
      "|    policy_gradient_loss | -1.32e-05     |\n",
      "|    std                  | 1             |\n",
      "|    value_loss           | 3.59e+11      |\n",
      "-------------------------------------------\n"
     ]
    },
    {
     "data": {
      "text/html": [
       "<pre style=\"white-space:pre;overflow-x:auto;line-height:normal;font-family:Menlo,'DejaVu Sans Mono',consolas,'Courier New',monospace\">action:  [-1.          0.79684156  1.          1.        ]\n",
       "</pre>\n"
      ],
      "text/plain": [
       "action:  [-1.          0.79684156  1.          1.        ]\n"
      ]
     },
     "metadata": {},
     "output_type": "display_data"
    },
    {
     "data": {
      "text/html": [
       "<pre style=\"white-space:pre;overflow-x:auto;line-height:normal;font-family:Menlo,'DejaVu Sans Mono',consolas,'Courier New',monospace\">position:  (0.255783991814855, 0.20353371008523005, 0.2502305496680036)\n",
       "</pre>\n"
      ],
      "text/plain": [
       "position:  (0.255783991814855, 0.20353371008523005, 0.2502305496680036)\n"
      ]
     },
     "metadata": {},
     "output_type": "display_data"
    },
    {
     "data": {
      "text/html": [
       "<pre style=\"white-space:pre;overflow-x:auto;line-height:normal;font-family:Menlo,'DejaVu Sans Mono',consolas,'Courier New',monospace\">jammer pos:  [10.2299043  12.30450941  5.76251045]\n",
       "</pre>\n"
      ],
      "text/plain": [
       "jammer pos:  [10.2299043  12.30450941  5.76251045]\n"
      ]
     },
     "metadata": {},
     "output_type": "display_data"
    },
    {
     "data": {
      "text/html": [
       "<pre style=\"white-space:pre;overflow-x:auto;line-height:normal;font-family:Menlo,'DejaVu Sans Mono',consolas,'Courier New',monospace\">dist:  16.622331919014073\n",
       "</pre>\n"
      ],
      "text/plain": [
       "dist:  16.622331919014073\n"
      ]
     },
     "metadata": {},
     "output_type": "display_data"
    },
    {
     "data": {
      "text/html": [
       "<pre style=\"white-space:pre;overflow-x:auto;line-height:normal;font-family:Menlo,'DejaVu Sans Mono',consolas,'Courier New',monospace\">action:  [1.         0.4287186  0.19666937 1.        ]\n",
       "</pre>\n"
      ],
      "text/plain": [
       "action:  [1.         0.4287186  0.19666937 1.        ]\n"
      ]
     },
     "metadata": {},
     "output_type": "display_data"
    },
    {
     "data": {
      "text/html": [
       "<pre style=\"white-space:pre;overflow-x:auto;line-height:normal;font-family:Menlo,'DejaVu Sans Mono',consolas,'Courier New',monospace\">position:  (0.08145530017980847, 0.058402951131562124, 0.11469842905353284)\n",
       "</pre>\n"
      ],
      "text/plain": [
       "position:  (0.08145530017980847, 0.058402951131562124, 0.11469842905353284)\n"
      ]
     },
     "metadata": {},
     "output_type": "display_data"
    },
    {
     "data": {
      "text/html": [
       "<pre style=\"white-space:pre;overflow-x:auto;line-height:normal;font-family:Menlo,'DejaVu Sans Mono',consolas,'Courier New',monospace\">jammer pos:  [10.2299043  12.30450941  5.76251045]\n",
       "</pre>\n"
      ],
      "text/plain": [
       "jammer pos:  [10.2299043  12.30450941  5.76251045]\n"
      ]
     },
     "metadata": {},
     "output_type": "display_data"
    },
    {
     "data": {
      "text/html": [
       "<pre style=\"white-space:pre;overflow-x:auto;line-height:normal;font-family:Menlo,'DejaVu Sans Mono',consolas,'Courier New',monospace\">dist:  16.87767522620976\n",
       "</pre>\n"
      ],
      "text/plain": [
       "dist:  16.87767522620976\n"
      ]
     },
     "metadata": {},
     "output_type": "display_data"
    },
    {
     "name": "stdout",
     "output_type": "stream",
     "text": [
      "-------------------------------------------\n",
      "| rollout/                |               |\n",
      "|    ep_len_mean          | 26.7          |\n",
      "|    ep_rew_mean          | -1.02e+06     |\n",
      "| time/                   |               |\n",
      "|    fps                  | 114           |\n",
      "|    iterations           | 62            |\n",
      "|    time_elapsed         | 34            |\n",
      "|    total_timesteps      | 3968          |\n",
      "| train/                  |               |\n",
      "|    approx_kl            | 1.8626451e-09 |\n",
      "|    clip_fraction        | 0             |\n",
      "|    clip_range           | 0.2           |\n",
      "|    entropy_loss         | -5.68         |\n",
      "|    explained_variance   | 0             |\n",
      "|    learning_rate        | 0.0003        |\n",
      "|    loss                 | 1.26e+11      |\n",
      "|    n_updates            | 610           |\n",
      "|    policy_gradient_loss | -7.66e-06     |\n",
      "|    std                  | 1             |\n",
      "|    value_loss           | 2.53e+11      |\n",
      "-------------------------------------------\n"
     ]
    },
    {
     "data": {
      "text/html": [
       "<pre style=\"white-space:pre;overflow-x:auto;line-height:normal;font-family:Menlo,'DejaVu Sans Mono',consolas,'Courier New',monospace\">action:  [ 0.32447675 -1.         -0.01860721  1.        ]\n",
       "</pre>\n"
      ],
      "text/plain": [
       "action:  [ 0.32447675 -1.         -0.01860721  1.        ]\n"
      ]
     },
     "metadata": {},
     "output_type": "display_data"
    },
    {
     "data": {
      "text/html": [
       "<pre style=\"white-space:pre;overflow-x:auto;line-height:normal;font-family:Menlo,'DejaVu Sans Mono',consolas,'Courier New',monospace\">position:  (0.06750034164688876, 0.07439566951868509, 0.09283459072690346)\n",
       "</pre>\n"
      ],
      "text/plain": [
       "position:  (0.06750034164688876, 0.07439566951868509, 0.09283459072690346)\n"
      ]
     },
     "metadata": {},
     "output_type": "display_data"
    },
    {
     "data": {
      "text/html": [
       "<pre style=\"white-space:pre;overflow-x:auto;line-height:normal;font-family:Menlo,'DejaVu Sans Mono',consolas,'Courier New',monospace\">jammer pos:  [10.2299043  12.30450941  5.76251045]\n",
       "</pre>\n"
      ],
      "text/plain": [
       "jammer pos:  [10.2299043  12.30450941  5.76251045]\n"
      ]
     },
     "metadata": {},
     "output_type": "display_data"
    },
    {
     "data": {
      "text/html": [
       "<pre style=\"white-space:pre;overflow-x:auto;line-height:normal;font-family:Menlo,'DejaVu Sans Mono',consolas,'Courier New',monospace\">dist:  16.88180560784152\n",
       "</pre>\n"
      ],
      "text/plain": [
       "dist:  16.88180560784152\n"
      ]
     },
     "metadata": {},
     "output_type": "display_data"
    },
    {
     "data": {
      "text/html": [
       "<pre style=\"white-space:pre;overflow-x:auto;line-height:normal;font-family:Menlo,'DejaVu Sans Mono',consolas,'Courier New',monospace\">action:  [0.54197204 0.16953358 1.         1.        ]\n",
       "</pre>\n"
      ],
      "text/plain": [
       "action:  [0.54197204 0.16953358 1.         1.        ]\n"
      ]
     },
     "metadata": {},
     "output_type": "display_data"
    },
    {
     "data": {
      "text/html": [
       "<pre style=\"white-space:pre;overflow-x:auto;line-height:normal;font-family:Menlo,'DejaVu Sans Mono',consolas,'Courier New',monospace\">position:  (0.18651561841855396, 0.14870953589889532, 0.1896742842037459)\n",
       "</pre>\n"
      ],
      "text/plain": [
       "position:  (0.18651561841855396, 0.14870953589889532, 0.1896742842037459)\n"
      ]
     },
     "metadata": {},
     "output_type": "display_data"
    },
    {
     "data": {
      "text/html": [
       "<pre style=\"white-space:pre;overflow-x:auto;line-height:normal;font-family:Menlo,'DejaVu Sans Mono',consolas,'Courier New',monospace\">jammer pos:  [10.2299043  12.30450941  5.76251045]\n",
       "</pre>\n"
      ],
      "text/plain": [
       "jammer pos:  [10.2299043  12.30450941  5.76251045]\n"
      ]
     },
     "metadata": {},
     "output_type": "display_data"
    },
    {
     "data": {
      "text/html": [
       "<pre style=\"white-space:pre;overflow-x:auto;line-height:normal;font-family:Menlo,'DejaVu Sans Mono',consolas,'Courier New',monospace\">dist:  16.723923870710962\n",
       "</pre>\n"
      ],
      "text/plain": [
       "dist:  16.723923870710962\n"
      ]
     },
     "metadata": {},
     "output_type": "display_data"
    },
    {
     "name": "stdout",
     "output_type": "stream",
     "text": [
      "-------------------------------------------\n",
      "| rollout/                |               |\n",
      "|    ep_len_mean          | 26.7          |\n",
      "|    ep_rew_mean          | -1.02e+06     |\n",
      "| time/                   |               |\n",
      "|    fps                  | 114           |\n",
      "|    iterations           | 63            |\n",
      "|    time_elapsed         | 35            |\n",
      "|    total_timesteps      | 4032          |\n",
      "| train/                  |               |\n",
      "|    approx_kl            | 2.7939677e-09 |\n",
      "|    clip_fraction        | 0             |\n",
      "|    clip_range           | 0.2           |\n",
      "|    entropy_loss         | -5.68         |\n",
      "|    explained_variance   | 0             |\n",
      "|    learning_rate        | 0.0003        |\n",
      "|    loss                 | 1.26e+11      |\n",
      "|    n_updates            | 620           |\n",
      "|    policy_gradient_loss | -6.59e-06     |\n",
      "|    std                  | 1             |\n",
      "|    value_loss           | 2.51e+11      |\n",
      "-------------------------------------------\n"
     ]
    },
    {
     "data": {
      "text/html": [
       "<pre style=\"white-space:pre;overflow-x:auto;line-height:normal;font-family:Menlo,'DejaVu Sans Mono',consolas,'Courier New',monospace\">action:  [0.12675123 1.         1.         1.        ]\n",
       "</pre>\n"
      ],
      "text/plain": [
       "action:  [0.12675123 1.         1.         1.        ]\n"
      ]
     },
     "metadata": {},
     "output_type": "display_data"
    },
    {
     "data": {
      "text/html": [
       "<pre style=\"white-space:pre;overflow-x:auto;line-height:normal;font-family:Menlo,'DejaVu Sans Mono',consolas,'Courier New',monospace\">position:  (0.20281834661613124, 0.22651137515051334, 0.2639511842898439)\n",
       "</pre>\n"
      ],
      "text/plain": [
       "position:  (0.20281834661613124, 0.22651137515051334, 0.2639511842898439)\n"
      ]
     },
     "metadata": {},
     "output_type": "display_data"
    },
    {
     "data": {
      "text/html": [
       "<pre style=\"white-space:pre;overflow-x:auto;line-height:normal;font-family:Menlo,'DejaVu Sans Mono',consolas,'Courier New',monospace\">jammer pos:  [10.2299043  12.30450941  5.76251045]\n",
       "</pre>\n"
      ],
      "text/plain": [
       "jammer pos:  [10.2299043  12.30450941  5.76251045]\n"
      ]
     },
     "metadata": {},
     "output_type": "display_data"
    },
    {
     "data": {
      "text/html": [
       "<pre style=\"white-space:pre;overflow-x:auto;line-height:normal;font-family:Menlo,'DejaVu Sans Mono',consolas,'Courier New',monospace\">dist:  16.63293850043467\n",
       "</pre>\n"
      ],
      "text/plain": [
       "dist:  16.63293850043467\n"
      ]
     },
     "metadata": {},
     "output_type": "display_data"
    },
    {
     "data": {
      "text/html": [
       "<pre style=\"white-space:pre;overflow-x:auto;line-height:normal;font-family:Menlo,'DejaVu Sans Mono',consolas,'Courier New',monospace\">action:  [ 0.34604362  0.04522034 -0.47489724  1.        ]\n",
       "</pre>\n"
      ],
      "text/plain": [
       "action:  [ 0.34604362  0.04522034 -0.47489724  1.        ]\n"
      ]
     },
     "metadata": {},
     "output_type": "display_data"
    },
    {
     "data": {
      "text/html": [
       "<pre style=\"white-space:pre;overflow-x:auto;line-height:normal;font-family:Menlo,'DejaVu Sans Mono',consolas,'Courier New',monospace\">position:  (0.08593460320296444, 0.06326358620397697, 0.12139735385967745)\n",
       "</pre>\n"
      ],
      "text/plain": [
       "position:  (0.08593460320296444, 0.06326358620397697, 0.12139735385967745)\n"
      ]
     },
     "metadata": {},
     "output_type": "display_data"
    },
    {
     "data": {
      "text/html": [
       "<pre style=\"white-space:pre;overflow-x:auto;line-height:normal;font-family:Menlo,'DejaVu Sans Mono',consolas,'Courier New',monospace\">jammer pos:  [10.2299043  12.30450941  5.76251045]\n",
       "</pre>\n"
      ],
      "text/plain": [
       "jammer pos:  [10.2299043  12.30450941  5.76251045]\n"
      ]
     },
     "metadata": {},
     "output_type": "display_data"
    },
    {
     "data": {
      "text/html": [
       "<pre style=\"white-space:pre;overflow-x:auto;line-height:normal;font-family:Menlo,'DejaVu Sans Mono',consolas,'Courier New',monospace\">dist:  16.869213894108118\n",
       "</pre>\n"
      ],
      "text/plain": [
       "dist:  16.869213894108118\n"
      ]
     },
     "metadata": {},
     "output_type": "display_data"
    },
    {
     "data": {
      "text/html": [
       "<pre style=\"white-space:pre;overflow-x:auto;line-height:normal;font-family:Menlo,'DejaVu Sans Mono',consolas,'Courier New',monospace\">action:  [-1.  1.  1.  1.]\n",
       "</pre>\n"
      ],
      "text/plain": [
       "action:  [-1.  1.  1.  1.]\n"
      ]
     },
     "metadata": {},
     "output_type": "display_data"
    },
    {
     "data": {
      "text/html": [
       "<pre style=\"white-space:pre;overflow-x:auto;line-height:normal;font-family:Menlo,'DejaVu Sans Mono',consolas,'Courier New',monospace\">position:  (0.050555458296232085, 0.0636881434585864, 0.10753006461375339)\n",
       "</pre>\n"
      ],
      "text/plain": [
       "position:  (0.050555458296232085, 0.0636881434585864, 0.10753006461375339)\n"
      ]
     },
     "metadata": {},
     "output_type": "display_data"
    },
    {
     "data": {
      "text/html": [
       "<pre style=\"white-space:pre;overflow-x:auto;line-height:normal;font-family:Menlo,'DejaVu Sans Mono',consolas,'Courier New',monospace\">jammer pos:  [10.2299043  12.30450941  5.76251045]\n",
       "</pre>\n"
      ],
      "text/plain": [
       "jammer pos:  [10.2299043  12.30450941  5.76251045]\n"
      ]
     },
     "metadata": {},
     "output_type": "display_data"
    },
    {
     "data": {
      "text/html": [
       "<pre style=\"white-space:pre;overflow-x:auto;line-height:normal;font-family:Menlo,'DejaVu Sans Mono',consolas,'Courier New',monospace\">dist:  16.894840963835218\n",
       "</pre>\n"
      ],
      "text/plain": [
       "dist:  16.894840963835218\n"
      ]
     },
     "metadata": {},
     "output_type": "display_data"
    },
    {
     "name": "stdout",
     "output_type": "stream",
     "text": [
      "------------------------------------------\n",
      "| rollout/                |              |\n",
      "|    ep_len_mean          | 26.8         |\n",
      "|    ep_rew_mean          | -1.02e+06    |\n",
      "| time/                   |              |\n",
      "|    fps                  | 114          |\n",
      "|    iterations           | 64           |\n",
      "|    time_elapsed         | 35           |\n",
      "|    total_timesteps      | 4096         |\n",
      "| train/                  |              |\n",
      "|    approx_kl            | 6.239861e-08 |\n",
      "|    clip_fraction        | 0            |\n",
      "|    clip_range           | 0.2          |\n",
      "|    entropy_loss         | -5.68        |\n",
      "|    explained_variance   | 0            |\n",
      "|    learning_rate        | 0.0003       |\n",
      "|    loss                 | 7.47e+10     |\n",
      "|    n_updates            | 630          |\n",
      "|    policy_gradient_loss | -4.49e-05    |\n",
      "|    std                  | 1            |\n",
      "|    value_loss           | 1.49e+11     |\n",
      "------------------------------------------\n"
     ]
    },
    {
     "data": {
      "text/html": [
       "<pre style=\"white-space:pre;overflow-x:auto;line-height:normal;font-family:Menlo,'DejaVu Sans Mono',consolas,'Courier New',monospace\">action:  [-0.5559671   0.18259732 -1.          1.        ]\n",
       "</pre>\n"
      ],
      "text/plain": [
       "action:  [-0.5559671   0.18259732 -1.          1.        ]\n"
      ]
     },
     "metadata": {},
     "output_type": "display_data"
    },
    {
     "data": {
      "text/html": [
       "<pre style=\"white-space:pre;overflow-x:auto;line-height:normal;font-family:Menlo,'DejaVu Sans Mono',consolas,'Courier New',monospace\">position:  (0.06428314974981704, 0.08111349133348918, 0.1255984342722613)\n",
       "</pre>\n"
      ],
      "text/plain": [
       "position:  (0.06428314974981704, 0.08111349133348918, 0.1255984342722613)\n"
      ]
     },
     "metadata": {},
     "output_type": "display_data"
    },
    {
     "data": {
      "text/html": [
       "<pre style=\"white-space:pre;overflow-x:auto;line-height:normal;font-family:Menlo,'DejaVu Sans Mono',consolas,'Courier New',monospace\">jammer pos:  [10.2299043  12.30450941  5.76251045]\n",
       "</pre>\n"
      ],
      "text/plain": [
       "jammer pos:  [10.2299043  12.30450941  5.76251045]\n"
      ]
     },
     "metadata": {},
     "output_type": "display_data"
    },
    {
     "data": {
      "text/html": [
       "<pre style=\"white-space:pre;overflow-x:auto;line-height:normal;font-family:Menlo,'DejaVu Sans Mono',consolas,'Courier New',monospace\">dist:  16.86789963634119\n",
       "</pre>\n"
      ],
      "text/plain": [
       "dist:  16.86789963634119\n"
      ]
     },
     "metadata": {},
     "output_type": "display_data"
    },
    {
     "data": {
      "text/html": [
       "<pre style=\"white-space:pre;overflow-x:auto;line-height:normal;font-family:Menlo,'DejaVu Sans Mono',consolas,'Courier New',monospace\">action:  [-1.         -0.02368978 -0.9673533   1.        ]\n",
       "</pre>\n"
      ],
      "text/plain": [
       "action:  [-1.         -0.02368978 -0.9673533   1.        ]\n"
      ]
     },
     "metadata": {},
     "output_type": "display_data"
    },
    {
     "data": {
      "text/html": [
       "<pre style=\"white-space:pre;overflow-x:auto;line-height:normal;font-family:Menlo,'DejaVu Sans Mono',consolas,'Courier New',monospace\">position:  (0.07881595001374742, 0.12620736549149333, 0.14081231612340117)\n",
       "</pre>\n"
      ],
      "text/plain": [
       "position:  (0.07881595001374742, 0.12620736549149333, 0.14081231612340117)\n"
      ]
     },
     "metadata": {},
     "output_type": "display_data"
    },
    {
     "data": {
      "text/html": [
       "<pre style=\"white-space:pre;overflow-x:auto;line-height:normal;font-family:Menlo,'DejaVu Sans Mono',consolas,'Courier New',monospace\">jammer pos:  [10.2299043  12.30450941  5.76251045]\n",
       "</pre>\n"
      ],
      "text/plain": [
       "jammer pos:  [10.2299043  12.30450941  5.76251045]\n"
      ]
     },
     "metadata": {},
     "output_type": "display_data"
    },
    {
     "data": {
      "text/html": [
       "<pre style=\"white-space:pre;overflow-x:auto;line-height:normal;font-family:Menlo,'DejaVu Sans Mono',consolas,'Courier New',monospace\">dist:  16.82138892003355\n",
       "</pre>\n"
      ],
      "text/plain": [
       "dist:  16.82138892003355\n"
      ]
     },
     "metadata": {},
     "output_type": "display_data"
    },
    {
     "name": "stdout",
     "output_type": "stream",
     "text": [
      "----------------------------------------\n",
      "| rollout/                |            |\n",
      "|    ep_len_mean          | 26.8       |\n",
      "|    ep_rew_mean          | -1.02e+06  |\n",
      "| time/                   |            |\n",
      "|    fps                  | 115        |\n",
      "|    iterations           | 65         |\n",
      "|    time_elapsed         | 36         |\n",
      "|    total_timesteps      | 4160       |\n",
      "| train/                  |            |\n",
      "|    approx_kl            | 5.7742e-08 |\n",
      "|    clip_fraction        | 0          |\n",
      "|    clip_range           | 0.2        |\n",
      "|    entropy_loss         | -5.68      |\n",
      "|    explained_variance   | 0          |\n",
      "|    learning_rate        | 0.0003     |\n",
      "|    loss                 | 1.79e+11   |\n",
      "|    n_updates            | 640        |\n",
      "|    policy_gradient_loss | -4.13e-05  |\n",
      "|    std                  | 1          |\n",
      "|    value_loss           | 3.57e+11   |\n",
      "----------------------------------------\n"
     ]
    },
    {
     "data": {
      "text/html": [
       "<pre style=\"white-space:pre;overflow-x:auto;line-height:normal;font-family:Menlo,'DejaVu Sans Mono',consolas,'Courier New',monospace\">action:  [ 0.01347943 -0.66636693  0.77150524  1.        ]\n",
       "</pre>\n"
      ],
      "text/plain": [
       "action:  [ 0.01347943 -0.66636693  0.77150524  1.        ]\n"
      ]
     },
     "metadata": {},
     "output_type": "display_data"
    },
    {
     "data": {
      "text/html": [
       "<pre style=\"white-space:pre;overflow-x:auto;line-height:normal;font-family:Menlo,'DejaVu Sans Mono',consolas,'Courier New',monospace\">position:  (0.1501728418774577, 0.1692101956531693, 0.2519914092466943)\n",
       "</pre>\n"
      ],
      "text/plain": [
       "position:  (0.1501728418774577, 0.1692101956531693, 0.2519914092466943)\n"
      ]
     },
     "metadata": {},
     "output_type": "display_data"
    },
    {
     "data": {
      "text/html": [
       "<pre style=\"white-space:pre;overflow-x:auto;line-height:normal;font-family:Menlo,'DejaVu Sans Mono',consolas,'Courier New',monospace\">jammer pos:  [10.2299043  12.30450941  5.76251045]\n",
       "</pre>\n"
      ],
      "text/plain": [
       "jammer pos:  [10.2299043  12.30450941  5.76251045]\n"
      ]
     },
     "metadata": {},
     "output_type": "display_data"
    },
    {
     "data": {
      "text/html": [
       "<pre style=\"white-space:pre;overflow-x:auto;line-height:normal;font-family:Menlo,'DejaVu Sans Mono',consolas,'Courier New',monospace\">dist:  16.710245159839683\n",
       "</pre>\n"
      ],
      "text/plain": [
       "dist:  16.710245159839683\n"
      ]
     },
     "metadata": {},
     "output_type": "display_data"
    },
    {
     "data": {
      "text/html": [
       "<pre style=\"white-space:pre;overflow-x:auto;line-height:normal;font-family:Menlo,'DejaVu Sans Mono',consolas,'Courier New',monospace\">action:  [-0.47069788 -0.37582868 -0.74150115  1.        ]\n",
       "</pre>\n"
      ],
      "text/plain": [
       "action:  [-0.47069788 -0.37582868 -0.74150115  1.        ]\n"
      ]
     },
     "metadata": {},
     "output_type": "display_data"
    },
    {
     "data": {
      "text/html": [
       "<pre style=\"white-space:pre;overflow-x:auto;line-height:normal;font-family:Menlo,'DejaVu Sans Mono',consolas,'Courier New',monospace\">position:  (0.10900998072723127, 0.1047843600769127, 0.17658930088709515)\n",
       "</pre>\n"
      ],
      "text/plain": [
       "position:  (0.10900998072723127, 0.1047843600769127, 0.17658930088709515)\n"
      ]
     },
     "metadata": {},
     "output_type": "display_data"
    },
    {
     "data": {
      "text/html": [
       "<pre style=\"white-space:pre;overflow-x:auto;line-height:normal;font-family:Menlo,'DejaVu Sans Mono',consolas,'Courier New',monospace\">jammer pos:  [10.2299043  12.30450941  5.76251045]\n",
       "</pre>\n"
      ],
      "text/plain": [
       "jammer pos:  [10.2299043  12.30450941  5.76251045]\n"
      ]
     },
     "metadata": {},
     "output_type": "display_data"
    },
    {
     "data": {
      "text/html": [
       "<pre style=\"white-space:pre;overflow-x:auto;line-height:normal;font-family:Menlo,'DejaVu Sans Mono',consolas,'Courier New',monospace\">dist:  16.80679351076165\n",
       "</pre>\n"
      ],
      "text/plain": [
       "dist:  16.80679351076165\n"
      ]
     },
     "metadata": {},
     "output_type": "display_data"
    },
    {
     "name": "stdout",
     "output_type": "stream",
     "text": [
      "-------------------------------------------\n",
      "| rollout/                |               |\n",
      "|    ep_len_mean          | 26.9          |\n",
      "|    ep_rew_mean          | -1.02e+06     |\n",
      "| time/                   |               |\n",
      "|    fps                  | 115           |\n",
      "|    iterations           | 66            |\n",
      "|    time_elapsed         | 36            |\n",
      "|    total_timesteps      | 4224          |\n",
      "| train/                  |               |\n",
      "|    approx_kl            | 1.6763806e-08 |\n",
      "|    clip_fraction        | 0             |\n",
      "|    clip_range           | 0.2           |\n",
      "|    entropy_loss         | -5.68         |\n",
      "|    explained_variance   | 0             |\n",
      "|    learning_rate        | 0.0003        |\n",
      "|    loss                 | 1.22e+11      |\n",
      "|    n_updates            | 650           |\n",
      "|    policy_gradient_loss | -1.27e-05     |\n",
      "|    std                  | 1             |\n",
      "|    value_loss           | 2.43e+11      |\n",
      "-------------------------------------------\n"
     ]
    },
    {
     "data": {
      "text/html": [
       "<pre style=\"white-space:pre;overflow-x:auto;line-height:normal;font-family:Menlo,'DejaVu Sans Mono',consolas,'Courier New',monospace\">action:  [ 1.          0.7954405  -0.91443324  1.        ]\n",
       "</pre>\n"
      ],
      "text/plain": [
       "action:  [ 1.          0.7954405  -0.91443324  1.        ]\n"
      ]
     },
     "metadata": {},
     "output_type": "display_data"
    },
    {
     "data": {
      "text/html": [
       "<pre style=\"white-space:pre;overflow-x:auto;line-height:normal;font-family:Menlo,'DejaVu Sans Mono',consolas,'Courier New',monospace\">position:  (0.1836975268059119, 0.1910782144406291, 0.2549318505222963)\n",
       "</pre>\n"
      ],
      "text/plain": [
       "position:  (0.1836975268059119, 0.1910782144406291, 0.2549318505222963)\n"
      ]
     },
     "metadata": {},
     "output_type": "display_data"
    },
    {
     "data": {
      "text/html": [
       "<pre style=\"white-space:pre;overflow-x:auto;line-height:normal;font-family:Menlo,'DejaVu Sans Mono',consolas,'Courier New',monospace\">jammer pos:  [10.2299043  12.30450941  5.76251045]\n",
       "</pre>\n"
      ],
      "text/plain": [
       "jammer pos:  [10.2299043  12.30450941  5.76251045]\n"
      ]
     },
     "metadata": {},
     "output_type": "display_data"
    },
    {
     "data": {
      "text/html": [
       "<pre style=\"white-space:pre;overflow-x:auto;line-height:normal;font-family:Menlo,'DejaVu Sans Mono',consolas,'Courier New',monospace\">dist:  16.67317929498724\n",
       "</pre>\n"
      ],
      "text/plain": [
       "dist:  16.67317929498724\n"
      ]
     },
     "metadata": {},
     "output_type": "display_data"
    },
    {
     "data": {
      "text/html": [
       "<pre style=\"white-space:pre;overflow-x:auto;line-height:normal;font-family:Menlo,'DejaVu Sans Mono',consolas,'Courier New',monospace\">action:  [ 1.          0.6162604  -0.11649922  1.        ]\n",
       "</pre>\n"
      ],
      "text/plain": [
       "action:  [ 1.          0.6162604  -0.11649922  1.        ]\n"
      ]
     },
     "metadata": {},
     "output_type": "display_data"
    },
    {
     "data": {
      "text/html": [
       "<pre style=\"white-space:pre;overflow-x:auto;line-height:normal;font-family:Menlo,'DejaVu Sans Mono',consolas,'Courier New',monospace\">position:  (0.13734720159297567, 0.12983285826913338, 0.13697758242130278)\n",
       "</pre>\n"
      ],
      "text/plain": [
       "position:  (0.13734720159297567, 0.12983285826913338, 0.13697758242130278)\n"
      ]
     },
     "metadata": {},
     "output_type": "display_data"
    },
    {
     "data": {
      "text/html": [
       "<pre style=\"white-space:pre;overflow-x:auto;line-height:normal;font-family:Menlo,'DejaVu Sans Mono',consolas,'Courier New',monospace\">jammer pos:  [10.2299043  12.30450941  5.76251045]\n",
       "</pre>\n"
      ],
      "text/plain": [
       "jammer pos:  [10.2299043  12.30450941  5.76251045]\n"
      ]
     },
     "metadata": {},
     "output_type": "display_data"
    },
    {
     "data": {
      "text/html": [
       "<pre style=\"white-space:pre;overflow-x:auto;line-height:normal;font-family:Menlo,'DejaVu Sans Mono',consolas,'Courier New',monospace\">dist:  16.784787096720166\n",
       "</pre>\n"
      ],
      "text/plain": [
       "dist:  16.784787096720166\n"
      ]
     },
     "metadata": {},
     "output_type": "display_data"
    },
    {
     "name": "stdout",
     "output_type": "stream",
     "text": [
      "------------------------------------------\n",
      "| rollout/                |              |\n",
      "|    ep_len_mean          | 27.1         |\n",
      "|    ep_rew_mean          | -1.02e+06    |\n",
      "| time/                   |              |\n",
      "|    fps                  | 115          |\n",
      "|    iterations           | 67           |\n",
      "|    time_elapsed         | 37           |\n",
      "|    total_timesteps      | 4288         |\n",
      "| train/                  |              |\n",
      "|    approx_kl            | 7.450581e-09 |\n",
      "|    clip_fraction        | 0            |\n",
      "|    clip_range           | 0.2          |\n",
      "|    entropy_loss         | -5.68        |\n",
      "|    explained_variance   | -1.19e-07    |\n",
      "|    learning_rate        | 0.0003       |\n",
      "|    loss                 | 1.17e+11     |\n",
      "|    n_updates            | 660          |\n",
      "|    policy_gradient_loss | -1.55e-06    |\n",
      "|    std                  | 1            |\n",
      "|    value_loss           | 2.33e+11     |\n",
      "------------------------------------------\n"
     ]
    },
    {
     "data": {
      "text/html": [
       "<pre style=\"white-space:pre;overflow-x:auto;line-height:normal;font-family:Menlo,'DejaVu Sans Mono',consolas,'Courier New',monospace\">action:  [-0.4106322  -0.56454337  1.          1.        ]\n",
       "</pre>\n"
      ],
      "text/plain": [
       "action:  [-0.4106322  -0.56454337  1.          1.        ]\n"
      ]
     },
     "metadata": {},
     "output_type": "display_data"
    },
    {
     "data": {
      "text/html": [
       "<pre style=\"white-space:pre;overflow-x:auto;line-height:normal;font-family:Menlo,'DejaVu Sans Mono',consolas,'Courier New',monospace\">position:  (0.14225969066390173, 0.13323278759271084, 0.15011349813564978)\n",
       "</pre>\n"
      ],
      "text/plain": [
       "position:  (0.14225969066390173, 0.13323278759271084, 0.15011349813564978)\n"
      ]
     },
     "metadata": {},
     "output_type": "display_data"
    },
    {
     "data": {
      "text/html": [
       "<pre style=\"white-space:pre;overflow-x:auto;line-height:normal;font-family:Menlo,'DejaVu Sans Mono',consolas,'Courier New',monospace\">jammer pos:  [10.2299043  12.30450941  5.76251045]\n",
       "</pre>\n"
      ],
      "text/plain": [
       "jammer pos:  [10.2299043  12.30450941  5.76251045]\n"
      ]
     },
     "metadata": {},
     "output_type": "display_data"
    },
    {
     "data": {
      "text/html": [
       "<pre style=\"white-space:pre;overflow-x:auto;line-height:normal;font-family:Menlo,'DejaVu Sans Mono',consolas,'Courier New',monospace\">dist:  16.77496789394309\n",
       "</pre>\n"
      ],
      "text/plain": [
       "dist:  16.77496789394309\n"
      ]
     },
     "metadata": {},
     "output_type": "display_data"
    },
    {
     "data": {
      "text/html": [
       "<pre style=\"white-space:pre;overflow-x:auto;line-height:normal;font-family:Menlo,'DejaVu Sans Mono',consolas,'Courier New',monospace\">action:  [ 0.62854105 -0.03625983 -0.04119227  1.        ]\n",
       "</pre>\n"
      ],
      "text/plain": [
       "action:  [ 0.62854105 -0.03625983 -0.04119227  1.        ]\n"
      ]
     },
     "metadata": {},
     "output_type": "display_data"
    },
    {
     "data": {
      "text/html": [
       "<pre style=\"white-space:pre;overflow-x:auto;line-height:normal;font-family:Menlo,'DejaVu Sans Mono',consolas,'Courier New',monospace\">position:  (0.05165127296278622, 0.04636372065975254, 0.11408058565147751)\n",
       "</pre>\n"
      ],
      "text/plain": [
       "position:  (0.05165127296278622, 0.04636372065975254, 0.11408058565147751)\n"
      ]
     },
     "metadata": {},
     "output_type": "display_data"
    },
    {
     "data": {
      "text/html": [
       "<pre style=\"white-space:pre;overflow-x:auto;line-height:normal;font-family:Menlo,'DejaVu Sans Mono',consolas,'Courier New',monospace\">jammer pos:  [10.2299043  12.30450941  5.76251045]\n",
       "</pre>\n"
      ],
      "text/plain": [
       "jammer pos:  [10.2299043  12.30450941  5.76251045]\n"
      ]
     },
     "metadata": {},
     "output_type": "display_data"
    },
    {
     "data": {
      "text/html": [
       "<pre style=\"white-space:pre;overflow-x:auto;line-height:normal;font-family:Menlo,'DejaVu Sans Mono',consolas,'Courier New',monospace\">dist:  16.90454762096315\n",
       "</pre>\n"
      ],
      "text/plain": [
       "dist:  16.90454762096315\n"
      ]
     },
     "metadata": {},
     "output_type": "display_data"
    },
    {
     "data": {
      "text/html": [
       "<pre style=\"white-space:pre;overflow-x:auto;line-height:normal;font-family:Menlo,'DejaVu Sans Mono',consolas,'Courier New',monospace\">action:  [-0.36592054  0.17376661  1.          1.        ]\n",
       "</pre>\n"
      ],
      "text/plain": [
       "action:  [-0.36592054  0.17376661  1.          1.        ]\n"
      ]
     },
     "metadata": {},
     "output_type": "display_data"
    },
    {
     "data": {
      "text/html": [
       "<pre style=\"white-space:pre;overflow-x:auto;line-height:normal;font-family:Menlo,'DejaVu Sans Mono',consolas,'Courier New',monospace\">position:  (0.14673263736317693, 0.1629580323484462, 0.22501844634297832)\n",
       "</pre>\n"
      ],
      "text/plain": [
       "position:  (0.14673263736317693, 0.1629580323484462, 0.22501844634297832)\n"
      ]
     },
     "metadata": {},
     "output_type": "display_data"
    },
    {
     "data": {
      "text/html": [
       "<pre style=\"white-space:pre;overflow-x:auto;line-height:normal;font-family:Menlo,'DejaVu Sans Mono',consolas,'Courier New',monospace\">jammer pos:  [10.2299043  12.30450941  5.76251045]\n",
       "</pre>\n"
      ],
      "text/plain": [
       "jammer pos:  [10.2299043  12.30450941  5.76251045]\n"
      ]
     },
     "metadata": {},
     "output_type": "display_data"
    },
    {
     "data": {
      "text/html": [
       "<pre style=\"white-space:pre;overflow-x:auto;line-height:normal;font-family:Menlo,'DejaVu Sans Mono',consolas,'Courier New',monospace\">dist:  16.725771678426906\n",
       "</pre>\n"
      ],
      "text/plain": [
       "dist:  16.725771678426906\n"
      ]
     },
     "metadata": {},
     "output_type": "display_data"
    },
    {
     "name": "stdout",
     "output_type": "stream",
     "text": [
      "------------------------------------------\n",
      "| rollout/                |              |\n",
      "|    ep_len_mean          | 27           |\n",
      "|    ep_rew_mean          | -1.02e+06    |\n",
      "| time/                   |              |\n",
      "|    fps                  | 115          |\n",
      "|    iterations           | 68           |\n",
      "|    time_elapsed         | 37           |\n",
      "|    total_timesteps      | 4352         |\n",
      "| train/                  |              |\n",
      "|    approx_kl            | 9.313226e-10 |\n",
      "|    clip_fraction        | 0            |\n",
      "|    clip_range           | 0.2          |\n",
      "|    entropy_loss         | -5.68        |\n",
      "|    explained_variance   | 0            |\n",
      "|    learning_rate        | 0.0003       |\n",
      "|    loss                 | 1.19e+11     |\n",
      "|    n_updates            | 670          |\n",
      "|    policy_gradient_loss | -6.48e-06    |\n",
      "|    std                  | 1            |\n",
      "|    value_loss           | 2.38e+11     |\n",
      "------------------------------------------\n"
     ]
    },
    {
     "data": {
      "text/html": [
       "<pre style=\"white-space:pre;overflow-x:auto;line-height:normal;font-family:Menlo,'DejaVu Sans Mono',consolas,'Courier New',monospace\">action:  [-0.63444036 -0.01410631  0.37430438  1.        ]\n",
       "</pre>\n"
      ],
      "text/plain": [
       "action:  [-0.63444036 -0.01410631  0.37430438  1.        ]\n"
      ]
     },
     "metadata": {},
     "output_type": "display_data"
    },
    {
     "data": {
      "text/html": [
       "<pre style=\"white-space:pre;overflow-x:auto;line-height:normal;font-family:Menlo,'DejaVu Sans Mono',consolas,'Courier New',monospace\">position:  (0.1899237658946365, 0.11666860276324673, 0.19735273536477488)\n",
       "</pre>\n"
      ],
      "text/plain": [
       "position:  (0.1899237658946365, 0.11666860276324673, 0.19735273536477488)\n"
      ]
     },
     "metadata": {},
     "output_type": "display_data"
    },
    {
     "data": {
      "text/html": [
       "<pre style=\"white-space:pre;overflow-x:auto;line-height:normal;font-family:Menlo,'DejaVu Sans Mono',consolas,'Courier New',monospace\">jammer pos:  [10.2299043  12.30450941  5.76251045]\n",
       "</pre>\n"
      ],
      "text/plain": [
       "jammer pos:  [10.2299043  12.30450941  5.76251045]\n"
      ]
     },
     "metadata": {},
     "output_type": "display_data"
    },
    {
     "data": {
      "text/html": [
       "<pre style=\"white-space:pre;overflow-x:auto;line-height:normal;font-family:Menlo,'DejaVu Sans Mono',consolas,'Courier New',monospace\">dist:  16.742629810462198\n",
       "</pre>\n"
      ],
      "text/plain": [
       "dist:  16.742629810462198\n"
      ]
     },
     "metadata": {},
     "output_type": "display_data"
    },
    {
     "data": {
      "text/html": [
       "<pre style=\"white-space:pre;overflow-x:auto;line-height:normal;font-family:Menlo,'DejaVu Sans Mono',consolas,'Courier New',monospace\">action:  [ 0.31877625  0.34159446 -0.17577997  1.        ]\n",
       "</pre>\n"
      ],
      "text/plain": [
       "action:  [ 0.31877625  0.34159446 -0.17577997  1.        ]\n"
      ]
     },
     "metadata": {},
     "output_type": "display_data"
    },
    {
     "data": {
      "text/html": [
       "<pre style=\"white-space:pre;overflow-x:auto;line-height:normal;font-family:Menlo,'DejaVu Sans Mono',consolas,'Courier New',monospace\">position:  (0.10344809278980024, 0.09278006365440672, 0.16136239833589386)\n",
       "</pre>\n"
      ],
      "text/plain": [
       "position:  (0.10344809278980024, 0.09278006365440672, 0.16136239833589386)\n"
      ]
     },
     "metadata": {},
     "output_type": "display_data"
    },
    {
     "data": {
      "text/html": [
       "<pre style=\"white-space:pre;overflow-x:auto;line-height:normal;font-family:Menlo,'DejaVu Sans Mono',consolas,'Courier New',monospace\">jammer pos:  [10.2299043  12.30450941  5.76251045]\n",
       "</pre>\n"
      ],
      "text/plain": [
       "jammer pos:  [10.2299043  12.30450941  5.76251045]\n"
      ]
     },
     "metadata": {},
     "output_type": "display_data"
    },
    {
     "data": {
      "text/html": [
       "<pre style=\"white-space:pre;overflow-x:auto;line-height:normal;font-family:Menlo,'DejaVu Sans Mono',consolas,'Courier New',monospace\">dist:  16.823920718882434\n",
       "</pre>\n"
      ],
      "text/plain": [
       "dist:  16.823920718882434\n"
      ]
     },
     "metadata": {},
     "output_type": "display_data"
    },
    {
     "name": "stdout",
     "output_type": "stream",
     "text": [
      "-------------------------------------------\n",
      "| rollout/                |               |\n",
      "|    ep_len_mean          | 27            |\n",
      "|    ep_rew_mean          | -1.02e+06     |\n",
      "| time/                   |               |\n",
      "|    fps                  | 115           |\n",
      "|    iterations           | 69            |\n",
      "|    time_elapsed         | 38            |\n",
      "|    total_timesteps      | 4416          |\n",
      "| train/                  |               |\n",
      "|    approx_kl            | 5.5879354e-09 |\n",
      "|    clip_fraction        | 0             |\n",
      "|    clip_range           | 0.2           |\n",
      "|    entropy_loss         | -5.68         |\n",
      "|    explained_variance   | 0             |\n",
      "|    learning_rate        | 0.0003        |\n",
      "|    loss                 | 1.77e+11      |\n",
      "|    n_updates            | 680           |\n",
      "|    policy_gradient_loss | -1.34e-05     |\n",
      "|    std                  | 1             |\n",
      "|    value_loss           | 3.53e+11      |\n",
      "-------------------------------------------\n"
     ]
    },
    {
     "data": {
      "text/html": [
       "<pre style=\"white-space:pre;overflow-x:auto;line-height:normal;font-family:Menlo,'DejaVu Sans Mono',consolas,'Courier New',monospace\">action:  [-0.357223  -1.        -0.7972929  1.       ]\n",
       "</pre>\n"
      ],
      "text/plain": [
       "action:  [-0.357223  -1.        -0.7972929  1.       ]\n"
      ]
     },
     "metadata": {},
     "output_type": "display_data"
    },
    {
     "data": {
      "text/html": [
       "<pre style=\"white-space:pre;overflow-x:auto;line-height:normal;font-family:Menlo,'DejaVu Sans Mono',consolas,'Courier New',monospace\">position:  (0.1690740377118677, 0.0985852960245643, 0.21620073732638093)\n",
       "</pre>\n"
      ],
      "text/plain": [
       "position:  (0.1690740377118677, 0.0985852960245643, 0.21620073732638093)\n"
      ]
     },
     "metadata": {},
     "output_type": "display_data"
    },
    {
     "data": {
      "text/html": [
       "<pre style=\"white-space:pre;overflow-x:auto;line-height:normal;font-family:Menlo,'DejaVu Sans Mono',consolas,'Courier New',monospace\">jammer pos:  [10.2299043  12.30450941  5.76251045]\n",
       "</pre>\n"
      ],
      "text/plain": [
       "jammer pos:  [10.2299043  12.30450941  5.76251045]\n"
      ]
     },
     "metadata": {},
     "output_type": "display_data"
    },
    {
     "data": {
      "text/html": [
       "<pre style=\"white-space:pre;overflow-x:auto;line-height:normal;font-family:Menlo,'DejaVu Sans Mono',consolas,'Courier New',monospace\">dist:  16.762053584956778\n",
       "</pre>\n"
      ],
      "text/plain": [
       "dist:  16.762053584956778\n"
      ]
     },
     "metadata": {},
     "output_type": "display_data"
    },
    {
     "data": {
      "text/html": [
       "<pre style=\"white-space:pre;overflow-x:auto;line-height:normal;font-family:Menlo,'DejaVu Sans Mono',consolas,'Courier New',monospace\">action:  [-0.70530033  1.          0.11194401  1.        ]\n",
       "</pre>\n"
      ],
      "text/plain": [
       "action:  [-0.70530033  1.          0.11194401  1.        ]\n"
      ]
     },
     "metadata": {},
     "output_type": "display_data"
    },
    {
     "data": {
      "text/html": [
       "<pre style=\"white-space:pre;overflow-x:auto;line-height:normal;font-family:Menlo,'DejaVu Sans Mono',consolas,'Courier New',monospace\">position:  (0.05492646849173895, 0.0642174396809878, 0.11090113803087581)\n",
       "</pre>\n"
      ],
      "text/plain": [
       "position:  (0.05492646849173895, 0.0642174396809878, 0.11090113803087581)\n"
      ]
     },
     "metadata": {},
     "output_type": "display_data"
    },
    {
     "data": {
      "text/html": [
       "<pre style=\"white-space:pre;overflow-x:auto;line-height:normal;font-family:Menlo,'DejaVu Sans Mono',consolas,'Courier New',monospace\">jammer pos:  [10.2299043  12.30450941  5.76251045]\n",
       "</pre>\n"
      ],
      "text/plain": [
       "jammer pos:  [10.2299043  12.30450941  5.76251045]\n"
      ]
     },
     "metadata": {},
     "output_type": "display_data"
    },
    {
     "data": {
      "text/html": [
       "<pre style=\"white-space:pre;overflow-x:auto;line-height:normal;font-family:Menlo,'DejaVu Sans Mono',consolas,'Courier New',monospace\">dist:  16.890695933534968\n",
       "</pre>\n"
      ],
      "text/plain": [
       "dist:  16.890695933534968\n"
      ]
     },
     "metadata": {},
     "output_type": "display_data"
    },
    {
     "name": "stdout",
     "output_type": "stream",
     "text": [
      "------------------------------------------\n",
      "| rollout/                |              |\n",
      "|    ep_len_mean          | 27           |\n",
      "|    ep_rew_mean          | -1.02e+06    |\n",
      "| time/                   |              |\n",
      "|    fps                  | 115          |\n",
      "|    iterations           | 70           |\n",
      "|    time_elapsed         | 38           |\n",
      "|    total_timesteps      | 4480         |\n",
      "| train/                  |              |\n",
      "|    approx_kl            | 9.313226e-10 |\n",
      "|    clip_fraction        | 0            |\n",
      "|    clip_range           | 0.2          |\n",
      "|    entropy_loss         | -5.68        |\n",
      "|    explained_variance   | -1.19e-07    |\n",
      "|    learning_rate        | 0.0003       |\n",
      "|    loss                 | 1.33e+11     |\n",
      "|    n_updates            | 690          |\n",
      "|    policy_gradient_loss | 8.57e-09     |\n",
      "|    std                  | 1            |\n",
      "|    value_loss           | 2.66e+11     |\n",
      "------------------------------------------\n"
     ]
    },
    {
     "data": {
      "text/html": [
       "<pre style=\"white-space:pre;overflow-x:auto;line-height:normal;font-family:Menlo,'DejaVu Sans Mono',consolas,'Courier New',monospace\">action:  [-0.6798043  0.6607567  1.         1.       ]\n",
       "</pre>\n"
      ],
      "text/plain": [
       "action:  [-0.6798043  0.6607567  1.         1.       ]\n"
      ]
     },
     "metadata": {},
     "output_type": "display_data"
    },
    {
     "data": {
      "text/html": [
       "<pre style=\"white-space:pre;overflow-x:auto;line-height:normal;font-family:Menlo,'DejaVu Sans Mono',consolas,'Courier New',monospace\">position:  (0.05643110496352567, 0.05931823811006378, 0.13074297126623932)\n",
       "</pre>\n"
      ],
      "text/plain": [
       "position:  (0.05643110496352567, 0.05931823811006378, 0.13074297126623932)\n"
      ]
     },
     "metadata": {},
     "output_type": "display_data"
    },
    {
     "data": {
      "text/html": [
       "<pre style=\"white-space:pre;overflow-x:auto;line-height:normal;font-family:Menlo,'DejaVu Sans Mono',consolas,'Courier New',monospace\">jammer pos:  [10.2299043  12.30450941  5.76251045]\n",
       "</pre>\n"
      ],
      "text/plain": [
       "jammer pos:  [10.2299043  12.30450941  5.76251045]\n"
      ]
     },
     "metadata": {},
     "output_type": "display_data"
    },
    {
     "data": {
      "text/html": [
       "<pre style=\"white-space:pre;overflow-x:auto;line-height:normal;font-family:Menlo,'DejaVu Sans Mono',consolas,'Courier New',monospace\">dist:  16.88671278059386\n",
       "</pre>\n"
      ],
      "text/plain": [
       "dist:  16.88671278059386\n"
      ]
     },
     "metadata": {},
     "output_type": "display_data"
    },
    {
     "data": {
      "text/html": [
       "<pre style=\"white-space:pre;overflow-x:auto;line-height:normal;font-family:Menlo,'DejaVu Sans Mono',consolas,'Courier New',monospace\">action:  [-0.950228    1.          0.15828638  1.        ]\n",
       "</pre>\n"
      ],
      "text/plain": [
       "action:  [-0.950228    1.          0.15828638  1.        ]\n"
      ]
     },
     "metadata": {},
     "output_type": "display_data"
    },
    {
     "data": {
      "text/html": [
       "<pre style=\"white-space:pre;overflow-x:auto;line-height:normal;font-family:Menlo,'DejaVu Sans Mono',consolas,'Courier New',monospace\">position:  (0.04659585537778803, 0.053384636275135976, 0.09480122329848245)\n",
       "</pre>\n"
      ],
      "text/plain": [
       "position:  (0.04659585537778803, 0.053384636275135976, 0.09480122329848245)\n"
      ]
     },
     "metadata": {},
     "output_type": "display_data"
    },
    {
     "data": {
      "text/html": [
       "<pre style=\"white-space:pre;overflow-x:auto;line-height:normal;font-family:Menlo,'DejaVu Sans Mono',consolas,'Courier New',monospace\">jammer pos:  [10.2299043  12.30450941  5.76251045]\n",
       "</pre>\n"
      ],
      "text/plain": [
       "jammer pos:  [10.2299043  12.30450941  5.76251045]\n"
      ]
     },
     "metadata": {},
     "output_type": "display_data"
    },
    {
     "data": {
      "text/html": [
       "<pre style=\"white-space:pre;overflow-x:auto;line-height:normal;font-family:Menlo,'DejaVu Sans Mono',consolas,'Courier New',monospace\">dist:  16.908954931981278\n",
       "</pre>\n"
      ],
      "text/plain": [
       "dist:  16.908954931981278\n"
      ]
     },
     "metadata": {},
     "output_type": "display_data"
    },
    {
     "data": {
      "text/html": [
       "<pre style=\"white-space:pre;overflow-x:auto;line-height:normal;font-family:Menlo,'DejaVu Sans Mono',consolas,'Courier New',monospace\">action:  [ 0.8329129  -0.8134891  -0.67765087  1.        ]\n",
       "</pre>\n"
      ],
      "text/plain": [
       "action:  [ 0.8329129  -0.8134891  -0.67765087  1.        ]\n"
      ]
     },
     "metadata": {},
     "output_type": "display_data"
    },
    {
     "data": {
      "text/html": [
       "<pre style=\"white-space:pre;overflow-x:auto;line-height:normal;font-family:Menlo,'DejaVu Sans Mono',consolas,'Courier New',monospace\">position:  (0.09601122796287209, 0.062216072404110374, 0.11959147105460272)\n",
       "</pre>\n"
      ],
      "text/plain": [
       "position:  (0.09601122796287209, 0.062216072404110374, 0.11959147105460272)\n"
      ]
     },
     "metadata": {},
     "output_type": "display_data"
    },
    {
     "data": {
      "text/html": [
       "<pre style=\"white-space:pre;overflow-x:auto;line-height:normal;font-family:Menlo,'DejaVu Sans Mono',consolas,'Courier New',monospace\">jammer pos:  [10.2299043  12.30450941  5.76251045]\n",
       "</pre>\n"
      ],
      "text/plain": [
       "jammer pos:  [10.2299043  12.30450941  5.76251045]\n"
      ]
     },
     "metadata": {},
     "output_type": "display_data"
    },
    {
     "data": {
      "text/html": [
       "<pre style=\"white-space:pre;overflow-x:auto;line-height:normal;font-family:Menlo,'DejaVu Sans Mono',consolas,'Courier New',monospace\">dist:  16.864521027166862\n",
       "</pre>\n"
      ],
      "text/plain": [
       "dist:  16.864521027166862\n"
      ]
     },
     "metadata": {},
     "output_type": "display_data"
    },
    {
     "name": "stdout",
     "output_type": "stream",
     "text": [
      "------------------------------------------\n",
      "| rollout/                |              |\n",
      "|    ep_len_mean          | 27           |\n",
      "|    ep_rew_mean          | -1.02e+06    |\n",
      "| time/                   |              |\n",
      "|    fps                  | 115          |\n",
      "|    iterations           | 71           |\n",
      "|    time_elapsed         | 39           |\n",
      "|    total_timesteps      | 4544         |\n",
      "| train/                  |              |\n",
      "|    approx_kl            | 9.313226e-10 |\n",
      "|    clip_fraction        | 0            |\n",
      "|    clip_range           | 0.2          |\n",
      "|    entropy_loss         | -5.68        |\n",
      "|    explained_variance   | 0            |\n",
      "|    learning_rate        | 0.0003       |\n",
      "|    loss                 | 1.31e+11     |\n",
      "|    n_updates            | 700          |\n",
      "|    policy_gradient_loss | -5.46e-06    |\n",
      "|    std                  | 1            |\n",
      "|    value_loss           | 2.62e+11     |\n",
      "------------------------------------------\n"
     ]
    },
    {
     "data": {
      "text/html": [
       "<pre style=\"white-space:pre;overflow-x:auto;line-height:normal;font-family:Menlo,'DejaVu Sans Mono',consolas,'Courier New',monospace\">action:  [0.86144793 0.5948156  0.35859457 1.        ]\n",
       "</pre>\n"
      ],
      "text/plain": [
       "action:  [0.86144793 0.5948156  0.35859457 1.        ]\n"
      ]
     },
     "metadata": {},
     "output_type": "display_data"
    },
    {
     "data": {
      "text/html": [
       "<pre style=\"white-space:pre;overflow-x:auto;line-height:normal;font-family:Menlo,'DejaVu Sans Mono',consolas,'Courier New',monospace\">position:  (0.04377532176907595, 0.03962843639690559, 0.11759205859049363)\n",
       "</pre>\n"
      ],
      "text/plain": [
       "position:  (0.04377532176907595, 0.03962843639690559, 0.11759205859049363)\n"
      ]
     },
     "metadata": {},
     "output_type": "display_data"
    },
    {
     "data": {
      "text/html": [
       "<pre style=\"white-space:pre;overflow-x:auto;line-height:normal;font-family:Menlo,'DejaVu Sans Mono',consolas,'Courier New',monospace\">jammer pos:  [10.2299043  12.30450941  5.76251045]\n",
       "</pre>\n"
      ],
      "text/plain": [
       "jammer pos:  [10.2299043  12.30450941  5.76251045]\n"
      ]
     },
     "metadata": {},
     "output_type": "display_data"
    },
    {
     "data": {
      "text/html": [
       "<pre style=\"white-space:pre;overflow-x:auto;line-height:normal;font-family:Menlo,'DejaVu Sans Mono',consolas,'Courier New',monospace\">dist:  16.913001874796123\n",
       "</pre>\n"
      ],
      "text/plain": [
       "dist:  16.913001874796123\n"
      ]
     },
     "metadata": {},
     "output_type": "display_data"
    },
    {
     "name": "stdout",
     "output_type": "stream",
     "text": [
      "---------------------------------------\n",
      "| rollout/                |           |\n",
      "|    ep_len_mean          | 27        |\n",
      "|    ep_rew_mean          | -1.02e+06 |\n",
      "| time/                   |           |\n",
      "|    fps                  | 116       |\n",
      "|    iterations           | 72        |\n",
      "|    time_elapsed         | 39        |\n",
      "|    total_timesteps      | 4608      |\n",
      "| train/                  |           |\n",
      "|    approx_kl            | 0.0       |\n",
      "|    clip_fraction        | 0         |\n",
      "|    clip_range           | 0.2       |\n",
      "|    entropy_loss         | -5.68     |\n",
      "|    explained_variance   | 5.96e-08  |\n",
      "|    learning_rate        | 0.0003    |\n",
      "|    loss                 | 1.86e+11  |\n",
      "|    n_updates            | 710       |\n",
      "|    policy_gradient_loss | 2.93e-06  |\n",
      "|    std                  | 1         |\n",
      "|    value_loss           | 3.72e+11  |\n",
      "---------------------------------------\n"
     ]
    },
    {
     "data": {
      "text/html": [
       "<pre style=\"white-space:pre;overflow-x:auto;line-height:normal;font-family:Menlo,'DejaVu Sans Mono',consolas,'Courier New',monospace\">action:  [ 1.         1.        -0.5084398  1.       ]\n",
       "</pre>\n"
      ],
      "text/plain": [
       "action:  [ 1.         1.        -0.5084398  1.       ]\n"
      ]
     },
     "metadata": {},
     "output_type": "display_data"
    },
    {
     "data": {
      "text/html": [
       "<pre style=\"white-space:pre;overflow-x:auto;line-height:normal;font-family:Menlo,'DejaVu Sans Mono',consolas,'Courier New',monospace\">position:  (0.4431553141221589, 0.42692048088135937, 0.4152096493713495)\n",
       "</pre>\n"
      ],
      "text/plain": [
       "position:  (0.4431553141221589, 0.42692048088135937, 0.4152096493713495)\n"
      ]
     },
     "metadata": {},
     "output_type": "display_data"
    },
    {
     "data": {
      "text/html": [
       "<pre style=\"white-space:pre;overflow-x:auto;line-height:normal;font-family:Menlo,'DejaVu Sans Mono',consolas,'Courier New',monospace\">jammer pos:  [10.2299043  12.30450941  5.76251045]\n",
       "</pre>\n"
      ],
      "text/plain": [
       "jammer pos:  [10.2299043  12.30450941  5.76251045]\n"
      ]
     },
     "metadata": {},
     "output_type": "display_data"
    },
    {
     "data": {
      "text/html": [
       "<pre style=\"white-space:pre;overflow-x:auto;line-height:normal;font-family:Menlo,'DejaVu Sans Mono',consolas,'Courier New',monospace\">dist:  16.292673207595683\n",
       "</pre>\n"
      ],
      "text/plain": [
       "dist:  16.292673207595683\n"
      ]
     },
     "metadata": {},
     "output_type": "display_data"
    },
    {
     "data": {
      "text/html": [
       "<pre style=\"white-space:pre;overflow-x:auto;line-height:normal;font-family:Menlo,'DejaVu Sans Mono',consolas,'Courier New',monospace\">action:  [-0.1496018 -1.         0.3174745  1.       ]\n",
       "</pre>\n"
      ],
      "text/plain": [
       "action:  [-0.1496018 -1.         0.3174745  1.       ]\n"
      ]
     },
     "metadata": {},
     "output_type": "display_data"
    },
    {
     "data": {
      "text/html": [
       "<pre style=\"white-space:pre;overflow-x:auto;line-height:normal;font-family:Menlo,'DejaVu Sans Mono',consolas,'Courier New',monospace\">position:  (0.09267837137372278, 0.13729638276072467, 0.20711576361356718)\n",
       "</pre>\n"
      ],
      "text/plain": [
       "position:  (0.09267837137372278, 0.13729638276072467, 0.20711576361356718)\n"
      ]
     },
     "metadata": {},
     "output_type": "display_data"
    },
    {
     "data": {
      "text/html": [
       "<pre style=\"white-space:pre;overflow-x:auto;line-height:normal;font-family:Menlo,'DejaVu Sans Mono',consolas,'Courier New',monospace\">jammer pos:  [10.2299043  12.30450941  5.76251045]\n",
       "</pre>\n"
      ],
      "text/plain": [
       "jammer pos:  [10.2299043  12.30450941  5.76251045]\n"
      ]
     },
     "metadata": {},
     "output_type": "display_data"
    },
    {
     "data": {
      "text/html": [
       "<pre style=\"white-space:pre;overflow-x:auto;line-height:normal;font-family:Menlo,'DejaVu Sans Mono',consolas,'Courier New',monospace\">dist:  16.782932771526227\n",
       "</pre>\n"
      ],
      "text/plain": [
       "dist:  16.782932771526227\n"
      ]
     },
     "metadata": {},
     "output_type": "display_data"
    },
    {
     "name": "stdout",
     "output_type": "stream",
     "text": [
      "------------------------------------------\n",
      "| rollout/                |              |\n",
      "|    ep_len_mean          | 27.3         |\n",
      "|    ep_rew_mean          | -1.02e+06    |\n",
      "| time/                   |              |\n",
      "|    fps                  | 116          |\n",
      "|    iterations           | 73           |\n",
      "|    time_elapsed         | 40           |\n",
      "|    total_timesteps      | 4672         |\n",
      "| train/                  |              |\n",
      "|    approx_kl            | 6.519258e-08 |\n",
      "|    clip_fraction        | 0            |\n",
      "|    clip_range           | 0.2          |\n",
      "|    entropy_loss         | -5.68        |\n",
      "|    explained_variance   | 0            |\n",
      "|    learning_rate        | 0.0003       |\n",
      "|    loss                 | 6.26e+10     |\n",
      "|    n_updates            | 720          |\n",
      "|    policy_gradient_loss | -4.86e-05    |\n",
      "|    std                  | 1            |\n",
      "|    value_loss           | 1.25e+11     |\n",
      "------------------------------------------\n"
     ]
    },
    {
     "data": {
      "text/html": [
       "<pre style=\"white-space:pre;overflow-x:auto;line-height:normal;font-family:Menlo,'DejaVu Sans Mono',consolas,'Courier New',monospace\">action:  [-0.89810437  0.66159785 -1.          1.        ]\n",
       "</pre>\n"
      ],
      "text/plain": [
       "action:  [-0.89810437  0.66159785 -1.          1.        ]\n"
      ]
     },
     "metadata": {},
     "output_type": "display_data"
    },
    {
     "data": {
      "text/html": [
       "<pre style=\"white-space:pre;overflow-x:auto;line-height:normal;font-family:Menlo,'DejaVu Sans Mono',consolas,'Courier New',monospace\">position:  (0.09870697487861825, 0.10265247672813298, 0.14393087453239742)\n",
       "</pre>\n"
      ],
      "text/plain": [
       "position:  (0.09870697487861825, 0.10265247672813298, 0.14393087453239742)\n"
      ]
     },
     "metadata": {},
     "output_type": "display_data"
    },
    {
     "data": {
      "text/html": [
       "<pre style=\"white-space:pre;overflow-x:auto;line-height:normal;font-family:Menlo,'DejaVu Sans Mono',consolas,'Courier New',monospace\">jammer pos:  [10.2299043  12.30450941  5.76251045]\n",
       "</pre>\n"
      ],
      "text/plain": [
       "jammer pos:  [10.2299043  12.30450941  5.76251045]\n"
      ]
     },
     "metadata": {},
     "output_type": "display_data"
    },
    {
     "data": {
      "text/html": [
       "<pre style=\"white-space:pre;overflow-x:auto;line-height:normal;font-family:Menlo,'DejaVu Sans Mono',consolas,'Courier New',monospace\">dist:  16.82542445884444\n",
       "</pre>\n"
      ],
      "text/plain": [
       "dist:  16.82542445884444\n"
      ]
     },
     "metadata": {},
     "output_type": "display_data"
    },
    {
     "data": {
      "text/html": [
       "<pre style=\"white-space:pre;overflow-x:auto;line-height:normal;font-family:Menlo,'DejaVu Sans Mono',consolas,'Courier New',monospace\">action:  [-0.39161402  0.02257407  0.7267902   1.        ]\n",
       "</pre>\n"
      ],
      "text/plain": [
       "action:  [-0.39161402  0.02257407  0.7267902   1.        ]\n"
      ]
     },
     "metadata": {},
     "output_type": "display_data"
    },
    {
     "data": {
      "text/html": [
       "<pre style=\"white-space:pre;overflow-x:auto;line-height:normal;font-family:Menlo,'DejaVu Sans Mono',consolas,'Courier New',monospace\">position:  (0.0923037078916054, 0.06850877011285689, 0.11417164475338114)\n",
       "</pre>\n"
      ],
      "text/plain": [
       "position:  (0.0923037078916054, 0.06850877011285689, 0.11417164475338114)\n"
      ]
     },
     "metadata": {},
     "output_type": "display_data"
    },
    {
     "data": {
      "text/html": [
       "<pre style=\"white-space:pre;overflow-x:auto;line-height:normal;font-family:Menlo,'DejaVu Sans Mono',consolas,'Courier New',monospace\">jammer pos:  [10.2299043  12.30450941  5.76251045]\n",
       "</pre>\n"
      ],
      "text/plain": [
       "jammer pos:  [10.2299043  12.30450941  5.76251045]\n"
      ]
     },
     "metadata": {},
     "output_type": "display_data"
    },
    {
     "data": {
      "text/html": [
       "<pre style=\"white-space:pre;overflow-x:auto;line-height:normal;font-family:Menlo,'DejaVu Sans Mono',consolas,'Courier New',monospace\">dist:  16.863996815611902\n",
       "</pre>\n"
      ],
      "text/plain": [
       "dist:  16.863996815611902\n"
      ]
     },
     "metadata": {},
     "output_type": "display_data"
    },
    {
     "data": {
      "text/html": [
       "<pre style=\"white-space:pre;overflow-x:auto;line-height:normal;font-family:Menlo,'DejaVu Sans Mono',consolas,'Courier New',monospace\">action:  [0.13152519 0.30049217 0.50810796 1.        ]\n",
       "</pre>\n"
      ],
      "text/plain": [
       "action:  [0.13152519 0.30049217 0.50810796 1.        ]\n"
      ]
     },
     "metadata": {},
     "output_type": "display_data"
    },
    {
     "data": {
      "text/html": [
       "<pre style=\"white-space:pre;overflow-x:auto;line-height:normal;font-family:Menlo,'DejaVu Sans Mono',consolas,'Courier New',monospace\">position:  (0.07909639944038474, 0.0723222195280408, 0.1194689862443226)\n",
       "</pre>\n"
      ],
      "text/plain": [
       "position:  (0.07909639944038474, 0.0723222195280408, 0.1194689862443226)\n"
      ]
     },
     "metadata": {},
     "output_type": "display_data"
    },
    {
     "data": {
      "text/html": [
       "<pre style=\"white-space:pre;overflow-x:auto;line-height:normal;font-family:Menlo,'DejaVu Sans Mono',consolas,'Courier New',monospace\">jammer pos:  [10.2299043  12.30450941  5.76251045]\n",
       "</pre>\n"
      ],
      "text/plain": [
       "jammer pos:  [10.2299043  12.30450941  5.76251045]\n"
      ]
     },
     "metadata": {},
     "output_type": "display_data"
    },
    {
     "data": {
      "text/html": [
       "<pre style=\"white-space:pre;overflow-x:auto;line-height:normal;font-family:Menlo,'DejaVu Sans Mono',consolas,'Courier New',monospace\">dist:  16.86740114457948\n",
       "</pre>\n"
      ],
      "text/plain": [
       "dist:  16.86740114457948\n"
      ]
     },
     "metadata": {},
     "output_type": "display_data"
    },
    {
     "name": "stdout",
     "output_type": "stream",
     "text": [
      "------------------------------------------\n",
      "| rollout/                |              |\n",
      "|    ep_len_mean          | 27.3         |\n",
      "|    ep_rew_mean          | -1.02e+06    |\n",
      "| time/                   |              |\n",
      "|    fps                  | 116          |\n",
      "|    iterations           | 74           |\n",
      "|    time_elapsed         | 40           |\n",
      "|    total_timesteps      | 4736         |\n",
      "| train/                  |              |\n",
      "|    approx_kl            | 3.632158e-08 |\n",
      "|    clip_fraction        | 0            |\n",
      "|    clip_range           | 0.2          |\n",
      "|    entropy_loss         | -5.68        |\n",
      "|    explained_variance   | -1.19e-07    |\n",
      "|    learning_rate        | 0.0003       |\n",
      "|    loss                 | 1.06e+11     |\n",
      "|    n_updates            | 730          |\n",
      "|    policy_gradient_loss | 3.93e-06     |\n",
      "|    std                  | 1            |\n",
      "|    value_loss           | 2.11e+11     |\n",
      "------------------------------------------\n"
     ]
    },
    {
     "data": {
      "text/html": [
       "<pre style=\"white-space:pre;overflow-x:auto;line-height:normal;font-family:Menlo,'DejaVu Sans Mono',consolas,'Courier New',monospace\">action:  [ 0.02440934 -1.          0.18340254  1.        ]\n",
       "</pre>\n"
      ],
      "text/plain": [
       "action:  [ 0.02440934 -1.          0.18340254  1.        ]\n"
      ]
     },
     "metadata": {},
     "output_type": "display_data"
    },
    {
     "data": {
      "text/html": [
       "<pre style=\"white-space:pre;overflow-x:auto;line-height:normal;font-family:Menlo,'DejaVu Sans Mono',consolas,'Courier New',monospace\">position:  (0.06294397903948971, 0.058483310660260385, 0.12889936547333908)\n",
       "</pre>\n"
      ],
      "text/plain": [
       "position:  (0.06294397903948971, 0.058483310660260385, 0.12889936547333908)\n"
      ]
     },
     "metadata": {},
     "output_type": "display_data"
    },
    {
     "data": {
      "text/html": [
       "<pre style=\"white-space:pre;overflow-x:auto;line-height:normal;font-family:Menlo,'DejaVu Sans Mono',consolas,'Courier New',monospace\">jammer pos:  [10.2299043  12.30450941  5.76251045]\n",
       "</pre>\n"
      ],
      "text/plain": [
       "jammer pos:  [10.2299043  12.30450941  5.76251045]\n"
      ]
     },
     "metadata": {},
     "output_type": "display_data"
    },
    {
     "data": {
      "text/html": [
       "<pre style=\"white-space:pre;overflow-x:auto;line-height:normal;font-family:Menlo,'DejaVu Sans Mono',consolas,'Courier New',monospace\">dist:  16.884010517613742\n",
       "</pre>\n"
      ],
      "text/plain": [
       "dist:  16.884010517613742\n"
      ]
     },
     "metadata": {},
     "output_type": "display_data"
    },
    {
     "data": {
      "text/html": [
       "<pre style=\"white-space:pre;overflow-x:auto;line-height:normal;font-family:Menlo,'DejaVu Sans Mono',consolas,'Courier New',monospace\">action:  [1.         1.         0.49086922 1.        ]\n",
       "</pre>\n"
      ],
      "text/plain": [
       "action:  [1.         1.         0.49086922 1.        ]\n"
      ]
     },
     "metadata": {},
     "output_type": "display_data"
    },
    {
     "data": {
      "text/html": [
       "<pre style=\"white-space:pre;overflow-x:auto;line-height:normal;font-family:Menlo,'DejaVu Sans Mono',consolas,'Courier New',monospace\">position:  (0.26744734051497454, 0.20621741244066705, 0.25806978884644494)\n",
       "</pre>\n"
      ],
      "text/plain": [
       "position:  (0.26744734051497454, 0.20621741244066705, 0.25806978884644494)\n"
      ]
     },
     "metadata": {},
     "output_type": "display_data"
    },
    {
     "data": {
      "text/html": [
       "<pre style=\"white-space:pre;overflow-x:auto;line-height:normal;font-family:Menlo,'DejaVu Sans Mono',consolas,'Courier New',monospace\">jammer pos:  [10.2299043  12.30450941  5.76251045]\n",
       "</pre>\n"
      ],
      "text/plain": [
       "jammer pos:  [10.2299043  12.30450941  5.76251045]\n"
      ]
     },
     "metadata": {},
     "output_type": "display_data"
    },
    {
     "data": {
      "text/html": [
       "<pre style=\"white-space:pre;overflow-x:auto;line-height:normal;font-family:Menlo,'DejaVu Sans Mono',consolas,'Courier New',monospace\">dist:  16.61078218610221\n",
       "</pre>\n"
      ],
      "text/plain": [
       "dist:  16.61078218610221\n"
      ]
     },
     "metadata": {},
     "output_type": "display_data"
    },
    {
     "name": "stdout",
     "output_type": "stream",
     "text": [
      "-------------------------------------------\n",
      "| rollout/                |               |\n",
      "|    ep_len_mean          | 27.2          |\n",
      "|    ep_rew_mean          | -1.02e+06     |\n",
      "| time/                   |               |\n",
      "|    fps                  | 116           |\n",
      "|    iterations           | 75            |\n",
      "|    time_elapsed         | 41            |\n",
      "|    total_timesteps      | 4800          |\n",
      "| train/                  |               |\n",
      "|    approx_kl            | 1.7695129e-08 |\n",
      "|    clip_fraction        | 0             |\n",
      "|    clip_range           | 0.2           |\n",
      "|    entropy_loss         | -5.68         |\n",
      "|    explained_variance   | -1.19e-07     |\n",
      "|    learning_rate        | 0.0003        |\n",
      "|    loss                 | 1.44e+11      |\n",
      "|    n_updates            | 740           |\n",
      "|    policy_gradient_loss | -2.64e-05     |\n",
      "|    std                  | 1             |\n",
      "|    value_loss           | 2.87e+11      |\n",
      "-------------------------------------------\n"
     ]
    },
    {
     "data": {
      "text/html": [
       "<pre style=\"white-space:pre;overflow-x:auto;line-height:normal;font-family:Menlo,'DejaVu Sans Mono',consolas,'Courier New',monospace\">action:  [-0.1199719  1.         1.         1.       ]\n",
       "</pre>\n"
      ],
      "text/plain": [
       "action:  [-0.1199719  1.         1.         1.       ]\n"
      ]
     },
     "metadata": {},
     "output_type": "display_data"
    },
    {
     "data": {
      "text/html": [
       "<pre style=\"white-space:pre;overflow-x:auto;line-height:normal;font-family:Menlo,'DejaVu Sans Mono',consolas,'Courier New',monospace\">position:  (0.16655257694588052, 0.14291359106540028, 0.18075754765539995)\n",
       "</pre>\n"
      ],
      "text/plain": [
       "position:  (0.16655257694588052, 0.14291359106540028, 0.18075754765539995)\n"
      ]
     },
     "metadata": {},
     "output_type": "display_data"
    },
    {
     "data": {
      "text/html": [
       "<pre style=\"white-space:pre;overflow-x:auto;line-height:normal;font-family:Menlo,'DejaVu Sans Mono',consolas,'Courier New',monospace\">jammer pos:  [10.2299043  12.30450941  5.76251045]\n",
       "</pre>\n"
      ],
      "text/plain": [
       "jammer pos:  [10.2299043  12.30450941  5.76251045]\n"
      ]
     },
     "metadata": {},
     "output_type": "display_data"
    },
    {
     "data": {
      "text/html": [
       "<pre style=\"white-space:pre;overflow-x:auto;line-height:normal;font-family:Menlo,'DejaVu Sans Mono',consolas,'Courier New',monospace\">dist:  16.743100852048517\n",
       "</pre>\n"
      ],
      "text/plain": [
       "dist:  16.743100852048517\n"
      ]
     },
     "metadata": {},
     "output_type": "display_data"
    },
    {
     "data": {
      "text/html": [
       "<pre style=\"white-space:pre;overflow-x:auto;line-height:normal;font-family:Menlo,'DejaVu Sans Mono',consolas,'Courier New',monospace\">action:  [-0.41025263 -0.33505303  0.5249009   1.        ]\n",
       "</pre>\n"
      ],
      "text/plain": [
       "action:  [-0.41025263 -0.33505303  0.5249009   1.        ]\n"
      ]
     },
     "metadata": {},
     "output_type": "display_data"
    },
    {
     "data": {
      "text/html": [
       "<pre style=\"white-space:pre;overflow-x:auto;line-height:normal;font-family:Menlo,'DejaVu Sans Mono',consolas,'Courier New',monospace\">position:  (0.07987777730973433, 0.08704765795083935, 0.12065912061699635)\n",
       "</pre>\n"
      ],
      "text/plain": [
       "position:  (0.07987777730973433, 0.08704765795083935, 0.12065912061699635)\n"
      ]
     },
     "metadata": {},
     "output_type": "display_data"
    },
    {
     "data": {
      "text/html": [
       "<pre style=\"white-space:pre;overflow-x:auto;line-height:normal;font-family:Menlo,'DejaVu Sans Mono',consolas,'Courier New',monospace\">jammer pos:  [10.2299043  12.30450941  5.76251045]\n",
       "</pre>\n"
      ],
      "text/plain": [
       "jammer pos:  [10.2299043  12.30450941  5.76251045]\n"
      ]
     },
     "metadata": {},
     "output_type": "display_data"
    },
    {
     "data": {
      "text/html": [
       "<pre style=\"white-space:pre;overflow-x:auto;line-height:normal;font-family:Menlo,'DejaVu Sans Mono',consolas,'Courier New',monospace\">dist:  16.85585644251825\n",
       "</pre>\n"
      ],
      "text/plain": [
       "dist:  16.85585644251825\n"
      ]
     },
     "metadata": {},
     "output_type": "display_data"
    },
    {
     "name": "stdout",
     "output_type": "stream",
     "text": [
      "------------------------------------------\n",
      "| rollout/                |              |\n",
      "|    ep_len_mean          | 27.2         |\n",
      "|    ep_rew_mean          | -1.02e+06    |\n",
      "| time/                   |              |\n",
      "|    fps                  | 116          |\n",
      "|    iterations           | 76           |\n",
      "|    time_elapsed         | 41           |\n",
      "|    total_timesteps      | 4864         |\n",
      "| train/                  |              |\n",
      "|    approx_kl            | 9.872019e-08 |\n",
      "|    clip_fraction        | 0            |\n",
      "|    clip_range           | 0.2          |\n",
      "|    entropy_loss         | -5.68        |\n",
      "|    explained_variance   | 5.96e-08     |\n",
      "|    learning_rate        | 0.0003       |\n",
      "|    loss                 | 1.06e+11     |\n",
      "|    n_updates            | 750          |\n",
      "|    policy_gradient_loss | -8.21e-05    |\n",
      "|    std                  | 1            |\n",
      "|    value_loss           | 2.13e+11     |\n",
      "------------------------------------------\n"
     ]
    },
    {
     "data": {
      "text/html": [
       "<pre style=\"white-space:pre;overflow-x:auto;line-height:normal;font-family:Menlo,'DejaVu Sans Mono',consolas,'Courier New',monospace\">action:  [ 1.         -1.          0.11047827  1.        ]\n",
       "</pre>\n"
      ],
      "text/plain": [
       "action:  [ 1.         -1.          0.11047827  1.        ]\n"
      ]
     },
     "metadata": {},
     "output_type": "display_data"
    },
    {
     "data": {
      "text/html": [
       "<pre style=\"white-space:pre;overflow-x:auto;line-height:normal;font-family:Menlo,'DejaVu Sans Mono',consolas,'Courier New',monospace\">position:  (0.09908782847415355, 0.07145954582679788, 0.11775662980144423)\n",
       "</pre>\n"
      ],
      "text/plain": [
       "position:  (0.09908782847415355, 0.07145954582679788, 0.11775662980144423)\n"
      ]
     },
     "metadata": {},
     "output_type": "display_data"
    },
    {
     "data": {
      "text/html": [
       "<pre style=\"white-space:pre;overflow-x:auto;line-height:normal;font-family:Menlo,'DejaVu Sans Mono',consolas,'Courier New',monospace\">jammer pos:  [10.2299043  12.30450941  5.76251045]\n",
       "</pre>\n"
      ],
      "text/plain": [
       "jammer pos:  [10.2299043  12.30450941  5.76251045]\n"
      ]
     },
     "metadata": {},
     "output_type": "display_data"
    },
    {
     "data": {
      "text/html": [
       "<pre style=\"white-space:pre;overflow-x:auto;line-height:normal;font-family:Menlo,'DejaVu Sans Mono',consolas,'Courier New',monospace\">dist:  16.85657726121823\n",
       "</pre>\n"
      ],
      "text/plain": [
       "dist:  16.85657726121823\n"
      ]
     },
     "metadata": {},
     "output_type": "display_data"
    },
    {
     "data": {
      "text/html": [
       "<pre style=\"white-space:pre;overflow-x:auto;line-height:normal;font-family:Menlo,'DejaVu Sans Mono',consolas,'Courier New',monospace\">action:  [ 0.89365965 -0.5336018   0.57533914  1.        ]\n",
       "</pre>\n"
      ],
      "text/plain": [
       "action:  [ 0.89365965 -0.5336018   0.57533914  1.        ]\n"
      ]
     },
     "metadata": {},
     "output_type": "display_data"
    },
    {
     "data": {
      "text/html": [
       "<pre style=\"white-space:pre;overflow-x:auto;line-height:normal;font-family:Menlo,'DejaVu Sans Mono',consolas,'Courier New',monospace\">position:  (0.07099253526003584, 0.03948993948202585, 0.10753276811370122)\n",
       "</pre>\n"
      ],
      "text/plain": [
       "position:  (0.07099253526003584, 0.03948993948202585, 0.10753276811370122)\n"
      ]
     },
     "metadata": {},
     "output_type": "display_data"
    },
    {
     "data": {
      "text/html": [
       "<pre style=\"white-space:pre;overflow-x:auto;line-height:normal;font-family:Menlo,'DejaVu Sans Mono',consolas,'Courier New',monospace\">jammer pos:  [10.2299043  12.30450941  5.76251045]\n",
       "</pre>\n"
      ],
      "text/plain": [
       "jammer pos:  [10.2299043  12.30450941  5.76251045]\n"
      ]
     },
     "metadata": {},
     "output_type": "display_data"
    },
    {
     "data": {
      "text/html": [
       "<pre style=\"white-space:pre;overflow-x:auto;line-height:normal;font-family:Menlo,'DejaVu Sans Mono',consolas,'Courier New',monospace\">dist:  16.900087672909354\n",
       "</pre>\n"
      ],
      "text/plain": [
       "dist:  16.900087672909354\n"
      ]
     },
     "metadata": {},
     "output_type": "display_data"
    },
    {
     "data": {
      "text/html": [
       "<pre style=\"white-space:pre;overflow-x:auto;line-height:normal;font-family:Menlo,'DejaVu Sans Mono',consolas,'Courier New',monospace\">action:  [-0.10723992  0.15835899 -0.10429583  1.        ]\n",
       "</pre>\n"
      ],
      "text/plain": [
       "action:  [-0.10723992  0.15835899 -0.10429583  1.        ]\n"
      ]
     },
     "metadata": {},
     "output_type": "display_data"
    },
    {
     "data": {
      "text/html": [
       "<pre style=\"white-space:pre;overflow-x:auto;line-height:normal;font-family:Menlo,'DejaVu Sans Mono',consolas,'Courier New',monospace\">position:  (0.07011033467641226, 0.08342561415723862, 0.10374726520715785)\n",
       "</pre>\n"
      ],
      "text/plain": [
       "position:  (0.07011033467641226, 0.08342561415723862, 0.10374726520715785)\n"
      ]
     },
     "metadata": {},
     "output_type": "display_data"
    },
    {
     "data": {
      "text/html": [
       "<pre style=\"white-space:pre;overflow-x:auto;line-height:normal;font-family:Menlo,'DejaVu Sans Mono',consolas,'Courier New',monospace\">jammer pos:  [10.2299043  12.30450941  5.76251045]\n",
       "</pre>\n"
      ],
      "text/plain": [
       "jammer pos:  [10.2299043  12.30450941  5.76251045]\n"
      ]
     },
     "metadata": {},
     "output_type": "display_data"
    },
    {
     "data": {
      "text/html": [
       "<pre style=\"white-space:pre;overflow-x:auto;line-height:normal;font-family:Menlo,'DejaVu Sans Mono',consolas,'Courier New',monospace\">dist:  16.870029734955754\n",
       "</pre>\n"
      ],
      "text/plain": [
       "dist:  16.870029734955754\n"
      ]
     },
     "metadata": {},
     "output_type": "display_data"
    },
    {
     "name": "stdout",
     "output_type": "stream",
     "text": [
      "-------------------------------------------\n",
      "| rollout/                |               |\n",
      "|    ep_len_mean          | 27.1          |\n",
      "|    ep_rew_mean          | -1.02e+06     |\n",
      "| time/                   |               |\n",
      "|    fps                  | 116           |\n",
      "|    iterations           | 77            |\n",
      "|    time_elapsed         | 42            |\n",
      "|    total_timesteps      | 4928          |\n",
      "| train/                  |               |\n",
      "|    approx_kl            | 1.2014061e-07 |\n",
      "|    clip_fraction        | 0             |\n",
      "|    clip_range           | 0.2           |\n",
      "|    entropy_loss         | -5.68         |\n",
      "|    explained_variance   | 0             |\n",
      "|    learning_rate        | 0.0003        |\n",
      "|    loss                 | 1.2e+11       |\n",
      "|    n_updates            | 760           |\n",
      "|    policy_gradient_loss | -6.07e-05     |\n",
      "|    std                  | 1             |\n",
      "|    value_loss           | 2.41e+11      |\n",
      "-------------------------------------------\n"
     ]
    },
    {
     "data": {
      "text/html": [
       "<pre style=\"white-space:pre;overflow-x:auto;line-height:normal;font-family:Menlo,'DejaVu Sans Mono',consolas,'Courier New',monospace\">action:  [-0.46136153  1.          1.          1.        ]\n",
       "</pre>\n"
      ],
      "text/plain": [
       "action:  [-0.46136153  1.          1.          1.        ]\n"
      ]
     },
     "metadata": {},
     "output_type": "display_data"
    },
    {
     "data": {
      "text/html": [
       "<pre style=\"white-space:pre;overflow-x:auto;line-height:normal;font-family:Menlo,'DejaVu Sans Mono',consolas,'Courier New',monospace\">position:  (0.09957143892171476, 0.13291657029701615, 0.12805322456561008)\n",
       "</pre>\n"
      ],
      "text/plain": [
       "position:  (0.09957143892171476, 0.13291657029701615, 0.12805322456561008)\n"
      ]
     },
     "metadata": {},
     "output_type": "display_data"
    },
    {
     "data": {
      "text/html": [
       "<pre style=\"white-space:pre;overflow-x:auto;line-height:normal;font-family:Menlo,'DejaVu Sans Mono',consolas,'Courier New',monospace\">jammer pos:  [10.2299043  12.30450941  5.76251045]\n",
       "</pre>\n"
      ],
      "text/plain": [
       "jammer pos:  [10.2299043  12.30450941  5.76251045]\n"
      ]
     },
     "metadata": {},
     "output_type": "display_data"
    },
    {
     "data": {
      "text/html": [
       "<pre style=\"white-space:pre;overflow-x:auto;line-height:normal;font-family:Menlo,'DejaVu Sans Mono',consolas,'Courier New',monospace\">dist:  16.808284394048993\n",
       "</pre>\n"
      ],
      "text/plain": [
       "dist:  16.808284394048993\n"
      ]
     },
     "metadata": {},
     "output_type": "display_data"
    },
    {
     "data": {
      "text/html": [
       "<pre style=\"white-space:pre;overflow-x:auto;line-height:normal;font-family:Menlo,'DejaVu Sans Mono',consolas,'Courier New',monospace\">action:  [-0.403765    1.         -0.73121834  1.        ]\n",
       "</pre>\n"
      ],
      "text/plain": [
       "action:  [-0.403765    1.         -0.73121834  1.        ]\n"
      ]
     },
     "metadata": {},
     "output_type": "display_data"
    },
    {
     "data": {
      "text/html": [
       "<pre style=\"white-space:pre;overflow-x:auto;line-height:normal;font-family:Menlo,'DejaVu Sans Mono',consolas,'Courier New',monospace\">position:  (0.06880094662706088, 0.06097659685131915, 0.10529674694434706)\n",
       "</pre>\n"
      ],
      "text/plain": [
       "position:  (0.06880094662706088, 0.06097659685131915, 0.10529674694434706)\n"
      ]
     },
     "metadata": {},
     "output_type": "display_data"
    },
    {
     "data": {
      "text/html": [
       "<pre style=\"white-space:pre;overflow-x:auto;line-height:normal;font-family:Menlo,'DejaVu Sans Mono',consolas,'Courier New',monospace\">jammer pos:  [10.2299043  12.30450941  5.76251045]\n",
       "</pre>\n"
      ],
      "text/plain": [
       "jammer pos:  [10.2299043  12.30450941  5.76251045]\n"
      ]
     },
     "metadata": {},
     "output_type": "display_data"
    },
    {
     "data": {
      "text/html": [
       "<pre style=\"white-space:pre;overflow-x:auto;line-height:normal;font-family:Menlo,'DejaVu Sans Mono',consolas,'Courier New',monospace\">dist:  16.88656815046427\n",
       "</pre>\n"
      ],
      "text/plain": [
       "dist:  16.88656815046427\n"
      ]
     },
     "metadata": {},
     "output_type": "display_data"
    },
    {
     "data": {
      "text/html": [
       "<pre style=\"white-space:pre;overflow-x:auto;line-height:normal;font-family:Menlo,'DejaVu Sans Mono',consolas,'Courier New',monospace\">action:  [-0.12573926 -0.605907    0.13589014  1.        ]\n",
       "</pre>\n"
      ],
      "text/plain": [
       "action:  [-0.12573926 -0.605907    0.13589014  1.        ]\n"
      ]
     },
     "metadata": {},
     "output_type": "display_data"
    },
    {
     "data": {
      "text/html": [
       "<pre style=\"white-space:pre;overflow-x:auto;line-height:normal;font-family:Menlo,'DejaVu Sans Mono',consolas,'Courier New',monospace\">position:  (0.042002119105999824, 0.06555947201519197, 0.12123084798628067)\n",
       "</pre>\n"
      ],
      "text/plain": [
       "position:  (0.042002119105999824, 0.06555947201519197, 0.12123084798628067)\n"
      ]
     },
     "metadata": {},
     "output_type": "display_data"
    },
    {
     "data": {
      "text/html": [
       "<pre style=\"white-space:pre;overflow-x:auto;line-height:normal;font-family:Menlo,'DejaVu Sans Mono',consolas,'Courier New',monospace\">jammer pos:  [10.2299043  12.30450941  5.76251045]\n",
       "</pre>\n"
      ],
      "text/plain": [
       "jammer pos:  [10.2299043  12.30450941  5.76251045]\n"
      ]
     },
     "metadata": {},
     "output_type": "display_data"
    },
    {
     "data": {
      "text/html": [
       "<pre style=\"white-space:pre;overflow-x:auto;line-height:normal;font-family:Menlo,'DejaVu Sans Mono',consolas,'Courier New',monospace\">dist:  16.894060550787362\n",
       "</pre>\n"
      ],
      "text/plain": [
       "dist:  16.894060550787362\n"
      ]
     },
     "metadata": {},
     "output_type": "display_data"
    },
    {
     "name": "stdout",
     "output_type": "stream",
     "text": [
      "-------------------------------------------\n",
      "| rollout/                |               |\n",
      "|    ep_len_mean          | 27            |\n",
      "|    ep_rew_mean          | -1.02e+06     |\n",
      "| time/                   |               |\n",
      "|    fps                  | 115           |\n",
      "|    iterations           | 78            |\n",
      "|    time_elapsed         | 43            |\n",
      "|    total_timesteps      | 4992          |\n",
      "| train/                  |               |\n",
      "|    approx_kl            | 4.1909516e-08 |\n",
      "|    clip_fraction        | 0             |\n",
      "|    clip_range           | 0.2           |\n",
      "|    entropy_loss         | -5.68         |\n",
      "|    explained_variance   | 0             |\n",
      "|    learning_rate        | 0.0003        |\n",
      "|    loss                 | 1.36e+11      |\n",
      "|    n_updates            | 770           |\n",
      "|    policy_gradient_loss | -2.43e-05     |\n",
      "|    std                  | 1             |\n",
      "|    value_loss           | 2.73e+11      |\n",
      "-------------------------------------------\n"
     ]
    },
    {
     "data": {
      "text/html": [
       "<pre style=\"white-space:pre;overflow-x:auto;line-height:normal;font-family:Menlo,'DejaVu Sans Mono',consolas,'Courier New',monospace\">action:  [ 1.        -0.7264927  1.         1.       ]\n",
       "</pre>\n"
      ],
      "text/plain": [
       "action:  [ 1.        -0.7264927  1.         1.       ]\n"
      ]
     },
     "metadata": {},
     "output_type": "display_data"
    },
    {
     "data": {
      "text/html": [
       "<pre style=\"white-space:pre;overflow-x:auto;line-height:normal;font-family:Menlo,'DejaVu Sans Mono',consolas,'Courier New',monospace\">position:  (0.08576280855393323, 0.07062726764240952, 0.10417064731309765)\n",
       "</pre>\n"
      ],
      "text/plain": [
       "position:  (0.08576280855393323, 0.07062726764240952, 0.10417064731309765)\n"
      ]
     },
     "metadata": {},
     "output_type": "display_data"
    },
    {
     "data": {
      "text/html": [
       "<pre style=\"white-space:pre;overflow-x:auto;line-height:normal;font-family:Menlo,'DejaVu Sans Mono',consolas,'Courier New',monospace\">jammer pos:  [10.2299043  12.30450941  5.76251045]\n",
       "</pre>\n"
      ],
      "text/plain": [
       "jammer pos:  [10.2299043  12.30450941  5.76251045]\n"
      ]
     },
     "metadata": {},
     "output_type": "display_data"
    },
    {
     "data": {
      "text/html": [
       "<pre style=\"white-space:pre;overflow-x:auto;line-height:normal;font-family:Menlo,'DejaVu Sans Mono',consolas,'Courier New',monospace\">dist:  16.8697447552713\n",
       "</pre>\n"
      ],
      "text/plain": [
       "dist:  16.8697447552713\n"
      ]
     },
     "metadata": {},
     "output_type": "display_data"
    },
    {
     "data": {
      "text/html": [
       "<pre style=\"white-space:pre;overflow-x:auto;line-height:normal;font-family:Menlo,'DejaVu Sans Mono',consolas,'Courier New',monospace\">action:  [ 0.2531765 -0.5931806 -1.         1.       ]\n",
       "</pre>\n"
      ],
      "text/plain": [
       "action:  [ 0.2531765 -0.5931806 -1.         1.       ]\n"
      ]
     },
     "metadata": {},
     "output_type": "display_data"
    },
    {
     "data": {
      "text/html": [
       "<pre style=\"white-space:pre;overflow-x:auto;line-height:normal;font-family:Menlo,'DejaVu Sans Mono',consolas,'Courier New',monospace\">position:  (0.10794690878715613, 0.12004055726040756, 0.16930357664846948)\n",
       "</pre>\n"
      ],
      "text/plain": [
       "position:  (0.10794690878715613, 0.12004055726040756, 0.16930357664846948)\n"
      ]
     },
     "metadata": {},
     "output_type": "display_data"
    },
    {
     "data": {
      "text/html": [
       "<pre style=\"white-space:pre;overflow-x:auto;line-height:normal;font-family:Menlo,'DejaVu Sans Mono',consolas,'Courier New',monospace\">jammer pos:  [10.2299043  12.30450941  5.76251045]\n",
       "</pre>\n"
      ],
      "text/plain": [
       "jammer pos:  [10.2299043  12.30450941  5.76251045]\n"
      ]
     },
     "metadata": {},
     "output_type": "display_data"
    },
    {
     "data": {
      "text/html": [
       "<pre style=\"white-space:pre;overflow-x:auto;line-height:normal;font-family:Menlo,'DejaVu Sans Mono',consolas,'Courier New',monospace\">dist:  16.79878762574473\n",
       "</pre>\n"
      ],
      "text/plain": [
       "dist:  16.79878762574473\n"
      ]
     },
     "metadata": {},
     "output_type": "display_data"
    },
    {
     "name": "stdout",
     "output_type": "stream",
     "text": [
      "-------------------------------------------\n",
      "| rollout/                |               |\n",
      "|    ep_len_mean          | 27            |\n",
      "|    ep_rew_mean          | -1.02e+06     |\n",
      "| time/                   |               |\n",
      "|    fps                  | 115           |\n",
      "|    iterations           | 79            |\n",
      "|    time_elapsed         | 43            |\n",
      "|    total_timesteps      | 5056          |\n",
      "| train/                  |               |\n",
      "|    approx_kl            | 1.1175871e-08 |\n",
      "|    clip_fraction        | 0             |\n",
      "|    clip_range           | 0.2           |\n",
      "|    entropy_loss         | -5.68         |\n",
      "|    explained_variance   | -1.19e-07     |\n",
      "|    learning_rate        | 0.0003        |\n",
      "|    loss                 | 1.76e+11      |\n",
      "|    n_updates            | 780           |\n",
      "|    policy_gradient_loss | -1.32e-05     |\n",
      "|    std                  | 1             |\n",
      "|    value_loss           | 3.53e+11      |\n",
      "-------------------------------------------\n"
     ]
    },
    {
     "data": {
      "text/html": [
       "<pre style=\"white-space:pre;overflow-x:auto;line-height:normal;font-family:Menlo,'DejaVu Sans Mono',consolas,'Courier New',monospace\">action:  [-0.8416308   0.25543708  0.26622605  1.        ]\n",
       "</pre>\n"
      ],
      "text/plain": [
       "action:  [-0.8416308   0.25543708  0.26622605  1.        ]\n"
      ]
     },
     "metadata": {},
     "output_type": "display_data"
    },
    {
     "data": {
      "text/html": [
       "<pre style=\"white-space:pre;overflow-x:auto;line-height:normal;font-family:Menlo,'DejaVu Sans Mono',consolas,'Courier New',monospace\">position:  (0.25941719601335655, 0.3494379496636137, 0.3208102158008677)\n",
       "</pre>\n"
      ],
      "text/plain": [
       "position:  (0.25941719601335655, 0.3494379496636137, 0.3208102158008677)\n"
      ]
     },
     "metadata": {},
     "output_type": "display_data"
    },
    {
     "data": {
      "text/html": [
       "<pre style=\"white-space:pre;overflow-x:auto;line-height:normal;font-family:Menlo,'DejaVu Sans Mono',consolas,'Courier New',monospace\">jammer pos:  [10.2299043  12.30450941  5.76251045]\n",
       "</pre>\n"
      ],
      "text/plain": [
       "jammer pos:  [10.2299043  12.30450941  5.76251045]\n"
      ]
     },
     "metadata": {},
     "output_type": "display_data"
    },
    {
     "data": {
      "text/html": [
       "<pre style=\"white-space:pre;overflow-x:auto;line-height:normal;font-family:Menlo,'DejaVu Sans Mono',consolas,'Courier New',monospace\">dist:  16.49079889109695\n",
       "</pre>\n"
      ],
      "text/plain": [
       "dist:  16.49079889109695\n"
      ]
     },
     "metadata": {},
     "output_type": "display_data"
    },
    {
     "data": {
      "text/html": [
       "<pre style=\"white-space:pre;overflow-x:auto;line-height:normal;font-family:Menlo,'DejaVu Sans Mono',consolas,'Courier New',monospace\">action:  [-0.23574741  0.22751775 -0.29994795  1.        ]\n",
       "</pre>\n"
      ],
      "text/plain": [
       "action:  [-0.23574741  0.22751775 -0.29994795  1.        ]\n"
      ]
     },
     "metadata": {},
     "output_type": "display_data"
    },
    {
     "data": {
      "text/html": [
       "<pre style=\"white-space:pre;overflow-x:auto;line-height:normal;font-family:Menlo,'DejaVu Sans Mono',consolas,'Courier New',monospace\">position:  (0.09824206853886396, 0.06308747786318579, 0.14684517860754356)\n",
       "</pre>\n"
      ],
      "text/plain": [
       "position:  (0.09824206853886396, 0.06308747786318579, 0.14684517860754356)\n"
      ]
     },
     "metadata": {},
     "output_type": "display_data"
    },
    {
     "data": {
      "text/html": [
       "<pre style=\"white-space:pre;overflow-x:auto;line-height:normal;font-family:Menlo,'DejaVu Sans Mono',consolas,'Courier New',monospace\">jammer pos:  [10.2299043  12.30450941  5.76251045]\n",
       "</pre>\n"
      ],
      "text/plain": [
       "jammer pos:  [10.2299043  12.30450941  5.76251045]\n"
      ]
     },
     "metadata": {},
     "output_type": "display_data"
    },
    {
     "data": {
      "text/html": [
       "<pre style=\"white-space:pre;overflow-x:auto;line-height:normal;font-family:Menlo,'DejaVu Sans Mono',consolas,'Courier New',monospace\">dist:  16.853447328269986\n",
       "</pre>\n"
      ],
      "text/plain": [
       "dist:  16.853447328269986\n"
      ]
     },
     "metadata": {},
     "output_type": "display_data"
    },
    {
     "name": "stdout",
     "output_type": "stream",
     "text": [
      "-------------------------------------------\n",
      "| rollout/                |               |\n",
      "|    ep_len_mean          | 27.2          |\n",
      "|    ep_rew_mean          | -1.02e+06     |\n",
      "| time/                   |               |\n",
      "|    fps                  | 115           |\n",
      "|    iterations           | 80            |\n",
      "|    time_elapsed         | 44            |\n",
      "|    total_timesteps      | 5120          |\n",
      "| train/                  |               |\n",
      "|    approx_kl            | 2.4214387e-08 |\n",
      "|    clip_fraction        | 0             |\n",
      "|    clip_range           | 0.2           |\n",
      "|    entropy_loss         | -5.68         |\n",
      "|    explained_variance   | 0             |\n",
      "|    learning_rate        | 0.0003        |\n",
      "|    loss                 | 1.24e+11      |\n",
      "|    n_updates            | 790           |\n",
      "|    policy_gradient_loss | -3.54e-05     |\n",
      "|    std                  | 1             |\n",
      "|    value_loss           | 2.47e+11      |\n",
      "-------------------------------------------\n"
     ]
    },
    {
     "data": {
      "text/html": [
       "<pre style=\"white-space:pre;overflow-x:auto;line-height:normal;font-family:Menlo,'DejaVu Sans Mono',consolas,'Courier New',monospace\">action:  [-1.         -0.20299481 -0.16331188  1.        ]\n",
       "</pre>\n"
      ],
      "text/plain": [
       "action:  [-1.         -0.20299481 -0.16331188  1.        ]\n"
      ]
     },
     "metadata": {},
     "output_type": "display_data"
    },
    {
     "data": {
      "text/html": [
       "<pre style=\"white-space:pre;overflow-x:auto;line-height:normal;font-family:Menlo,'DejaVu Sans Mono',consolas,'Courier New',monospace\">position:  (0.04937968459310646, 0.0715767198303366, 0.11198336154370081)\n",
       "</pre>\n"
      ],
      "text/plain": [
       "position:  (0.04937968459310646, 0.0715767198303366, 0.11198336154370081)\n"
      ]
     },
     "metadata": {},
     "output_type": "display_data"
    },
    {
     "data": {
      "text/html": [
       "<pre style=\"white-space:pre;overflow-x:auto;line-height:normal;font-family:Menlo,'DejaVu Sans Mono',consolas,'Courier New',monospace\">jammer pos:  [10.2299043  12.30450941  5.76251045]\n",
       "</pre>\n"
      ],
      "text/plain": [
       "jammer pos:  [10.2299043  12.30450941  5.76251045]\n"
      ]
     },
     "metadata": {},
     "output_type": "display_data"
    },
    {
     "data": {
      "text/html": [
       "<pre style=\"white-space:pre;overflow-x:auto;line-height:normal;font-family:Menlo,'DejaVu Sans Mono',consolas,'Courier New',monospace\">dist:  16.888344499631394\n",
       "</pre>\n"
      ],
      "text/plain": [
       "dist:  16.888344499631394\n"
      ]
     },
     "metadata": {},
     "output_type": "display_data"
    },
    {
     "data": {
      "text/html": [
       "<pre style=\"white-space:pre;overflow-x:auto;line-height:normal;font-family:Menlo,'DejaVu Sans Mono',consolas,'Courier New',monospace\">action:  [ 0.1435185 -1.        -1.         1.       ]\n",
       "</pre>\n"
      ],
      "text/plain": [
       "action:  [ 0.1435185 -1.        -1.         1.       ]\n"
      ]
     },
     "metadata": {},
     "output_type": "display_data"
    },
    {
     "data": {
      "text/html": [
       "<pre style=\"white-space:pre;overflow-x:auto;line-height:normal;font-family:Menlo,'DejaVu Sans Mono',consolas,'Courier New',monospace\">position:  (0.10522615136320647, 0.12570699598929, 0.15066151147642343)\n",
       "</pre>\n"
      ],
      "text/plain": [
       "position:  (0.10522615136320647, 0.12570699598929, 0.15066151147642343)\n"
      ]
     },
     "metadata": {},
     "output_type": "display_data"
    },
    {
     "data": {
      "text/html": [
       "<pre style=\"white-space:pre;overflow-x:auto;line-height:normal;font-family:Menlo,'DejaVu Sans Mono',consolas,'Courier New',monospace\">jammer pos:  [10.2299043  12.30450941  5.76251045]\n",
       "</pre>\n"
      ],
      "text/plain": [
       "jammer pos:  [10.2299043  12.30450941  5.76251045]\n"
      ]
     },
     "metadata": {},
     "output_type": "display_data"
    },
    {
     "data": {
      "text/html": [
       "<pre style=\"white-space:pre;overflow-x:auto;line-height:normal;font-family:Menlo,'DejaVu Sans Mono',consolas,'Courier New',monospace\">dist:  16.80253505503943\n",
       "</pre>\n"
      ],
      "text/plain": [
       "dist:  16.80253505503943\n"
      ]
     },
     "metadata": {},
     "output_type": "display_data"
    },
    {
     "name": "stdout",
     "output_type": "stream",
     "text": [
      "-------------------------------------------\n",
      "| rollout/                |               |\n",
      "|    ep_len_mean          | 27.2          |\n",
      "|    ep_rew_mean          | -1.02e+06     |\n",
      "| time/                   |               |\n",
      "|    fps                  | 115           |\n",
      "|    iterations           | 81            |\n",
      "|    time_elapsed         | 44            |\n",
      "|    total_timesteps      | 5184          |\n",
      "| train/                  |               |\n",
      "|    approx_kl            | 1.0244548e-08 |\n",
      "|    clip_fraction        | 0             |\n",
      "|    clip_range           | 0.2           |\n",
      "|    entropy_loss         | -5.68         |\n",
      "|    explained_variance   | 0             |\n",
      "|    learning_rate        | 0.0003        |\n",
      "|    loss                 | 1.3e+11       |\n",
      "|    n_updates            | 800           |\n",
      "|    policy_gradient_loss | 1.27e-06      |\n",
      "|    std                  | 1             |\n",
      "|    value_loss           | 2.59e+11      |\n",
      "-------------------------------------------\n"
     ]
    },
    {
     "data": {
      "text/html": [
       "<pre style=\"white-space:pre;overflow-x:auto;line-height:normal;font-family:Menlo,'DejaVu Sans Mono',consolas,'Courier New',monospace\">action:  [ 0.91416895 -1.          0.11893605  1.        ]\n",
       "</pre>\n"
      ],
      "text/plain": [
       "action:  [ 0.91416895 -1.          0.11893605  1.        ]\n"
      ]
     },
     "metadata": {},
     "output_type": "display_data"
    },
    {
     "data": {
      "text/html": [
       "<pre style=\"white-space:pre;overflow-x:auto;line-height:normal;font-family:Menlo,'DejaVu Sans Mono',consolas,'Courier New',monospace\">position:  (0.09319604785598529, 0.11863901455494286, 0.15681259068650338)\n",
       "</pre>\n"
      ],
      "text/plain": [
       "position:  (0.09319604785598529, 0.11863901455494286, 0.15681259068650338)\n"
      ]
     },
     "metadata": {},
     "output_type": "display_data"
    },
    {
     "data": {
      "text/html": [
       "<pre style=\"white-space:pre;overflow-x:auto;line-height:normal;font-family:Menlo,'DejaVu Sans Mono',consolas,'Courier New',monospace\">jammer pos:  [10.2299043  12.30450941  5.76251045]\n",
       "</pre>\n"
      ],
      "text/plain": [
       "jammer pos:  [10.2299043  12.30450941  5.76251045]\n"
      ]
     },
     "metadata": {},
     "output_type": "display_data"
    },
    {
     "data": {
      "text/html": [
       "<pre style=\"white-space:pre;overflow-x:auto;line-height:normal;font-family:Menlo,'DejaVu Sans Mono',consolas,'Courier New',monospace\">dist:  16.812856386929013\n",
       "</pre>\n"
      ],
      "text/plain": [
       "dist:  16.812856386929013\n"
      ]
     },
     "metadata": {},
     "output_type": "display_data"
    },
    {
     "data": {
      "text/html": [
       "<pre style=\"white-space:pre;overflow-x:auto;line-height:normal;font-family:Menlo,'DejaVu Sans Mono',consolas,'Courier New',monospace\">action:  [ 0.96310276  0.10808649 -0.6284732   1.        ]\n",
       "</pre>\n"
      ],
      "text/plain": [
       "action:  [ 0.96310276  0.10808649 -0.6284732   1.        ]\n"
      ]
     },
     "metadata": {},
     "output_type": "display_data"
    },
    {
     "data": {
      "text/html": [
       "<pre style=\"white-space:pre;overflow-x:auto;line-height:normal;font-family:Menlo,'DejaVu Sans Mono',consolas,'Courier New',monospace\">position:  (0.10797544497281557, 0.14165568801947398, 0.17079232895449625)\n",
       "</pre>\n"
      ],
      "text/plain": [
       "position:  (0.10797544497281557, 0.14165568801947398, 0.17079232895449625)\n"
      ]
     },
     "metadata": {},
     "output_type": "display_data"
    },
    {
     "data": {
      "text/html": [
       "<pre style=\"white-space:pre;overflow-x:auto;line-height:normal;font-family:Menlo,'DejaVu Sans Mono',consolas,'Courier New',monospace\">jammer pos:  [10.2299043  12.30450941  5.76251045]\n",
       "</pre>\n"
      ],
      "text/plain": [
       "jammer pos:  [10.2299043  12.30450941  5.76251045]\n"
      ]
     },
     "metadata": {},
     "output_type": "display_data"
    },
    {
     "data": {
      "text/html": [
       "<pre style=\"white-space:pre;overflow-x:auto;line-height:normal;font-family:Menlo,'DejaVu Sans Mono',consolas,'Courier New',monospace\">dist:  16.782603071866347\n",
       "</pre>\n"
      ],
      "text/plain": [
       "dist:  16.782603071866347\n"
      ]
     },
     "metadata": {},
     "output_type": "display_data"
    },
    {
     "data": {
      "text/html": [
       "<pre style=\"white-space:pre;overflow-x:auto;line-height:normal;font-family:Menlo,'DejaVu Sans Mono',consolas,'Courier New',monospace\">action:  [-1.        -1.        -0.2961502  1.       ]\n",
       "</pre>\n"
      ],
      "text/plain": [
       "action:  [-1.        -1.        -0.2961502  1.       ]\n"
      ]
     },
     "metadata": {},
     "output_type": "display_data"
    },
    {
     "data": {
      "text/html": [
       "<pre style=\"white-space:pre;overflow-x:auto;line-height:normal;font-family:Menlo,'DejaVu Sans Mono',consolas,'Courier New',monospace\">position:  (0.07849000427108108, 0.06747010344367295, 0.1286546656443456)\n",
       "</pre>\n"
      ],
      "text/plain": [
       "position:  (0.07849000427108108, 0.06747010344367295, 0.1286546656443456)\n"
      ]
     },
     "metadata": {},
     "output_type": "display_data"
    },
    {
     "data": {
      "text/html": [
       "<pre style=\"white-space:pre;overflow-x:auto;line-height:normal;font-family:Menlo,'DejaVu Sans Mono',consolas,'Courier New',monospace\">jammer pos:  [10.2299043  12.30450941  5.76251045]\n",
       "</pre>\n"
      ],
      "text/plain": [
       "jammer pos:  [10.2299043  12.30450941  5.76251045]\n"
      ]
     },
     "metadata": {},
     "output_type": "display_data"
    },
    {
     "data": {
      "text/html": [
       "<pre style=\"white-space:pre;overflow-x:auto;line-height:normal;font-family:Menlo,'DejaVu Sans Mono',consolas,'Courier New',monospace\">dist:  16.86821490574017\n",
       "</pre>\n"
      ],
      "text/plain": [
       "dist:  16.86821490574017\n"
      ]
     },
     "metadata": {},
     "output_type": "display_data"
    },
    {
     "name": "stdout",
     "output_type": "stream",
     "text": [
      "---------------------------------------\n",
      "| rollout/                |           |\n",
      "|    ep_len_mean          | 27.2      |\n",
      "|    ep_rew_mean          | -1.02e+06 |\n",
      "| time/                   |           |\n",
      "|    fps                  | 115       |\n",
      "|    iterations           | 82        |\n",
      "|    time_elapsed         | 45        |\n",
      "|    total_timesteps      | 5248      |\n",
      "| train/                  |           |\n",
      "|    approx_kl            | 0.0       |\n",
      "|    clip_fraction        | 0         |\n",
      "|    clip_range           | 0.2       |\n",
      "|    entropy_loss         | -5.68     |\n",
      "|    explained_variance   | -1.19e-07 |\n",
      "|    learning_rate        | 0.0003    |\n",
      "|    loss                 | 1.12e+11  |\n",
      "|    n_updates            | 810       |\n",
      "|    policy_gradient_loss | 9.73e-07  |\n",
      "|    std                  | 1         |\n",
      "|    value_loss           | 2.24e+11  |\n",
      "---------------------------------------\n"
     ]
    },
    {
     "data": {
      "text/html": [
       "<pre style=\"white-space:pre;overflow-x:auto;line-height:normal;font-family:Menlo,'DejaVu Sans Mono',consolas,'Courier New',monospace\">action:  [-0.7815928   0.49037609 -0.504811    1.        ]\n",
       "</pre>\n"
      ],
      "text/plain": [
       "action:  [-0.7815928   0.49037609 -0.504811    1.        ]\n"
      ]
     },
     "metadata": {},
     "output_type": "display_data"
    },
    {
     "data": {
      "text/html": [
       "<pre style=\"white-space:pre;overflow-x:auto;line-height:normal;font-family:Menlo,'DejaVu Sans Mono',consolas,'Courier New',monospace\">position:  (0.06455255539930026, 0.0745130862998516, 0.10040472725372186)\n",
       "</pre>\n"
      ],
      "text/plain": [
       "position:  (0.06455255539930026, 0.0745130862998516, 0.10040472725372186)\n"
      ]
     },
     "metadata": {},
     "output_type": "display_data"
    },
    {
     "data": {
      "text/html": [
       "<pre style=\"white-space:pre;overflow-x:auto;line-height:normal;font-family:Menlo,'DejaVu Sans Mono',consolas,'Courier New',monospace\">jammer pos:  [10.2299043  12.30450941  5.76251045]\n",
       "</pre>\n"
      ],
      "text/plain": [
       "jammer pos:  [10.2299043  12.30450941  5.76251045]\n"
      ]
     },
     "metadata": {},
     "output_type": "display_data"
    },
    {
     "data": {
      "text/html": [
       "<pre style=\"white-space:pre;overflow-x:auto;line-height:normal;font-family:Menlo,'DejaVu Sans Mono',consolas,'Courier New',monospace\">dist:  16.8809545730848\n",
       "</pre>\n"
      ],
      "text/plain": [
       "dist:  16.8809545730848\n"
      ]
     },
     "metadata": {},
     "output_type": "display_data"
    },
    {
     "data": {
      "text/html": [
       "<pre style=\"white-space:pre;overflow-x:auto;line-height:normal;font-family:Menlo,'DejaVu Sans Mono',consolas,'Courier New',monospace\">action:  [-0.8601823   1.          0.07163654  1.        ]\n",
       "</pre>\n"
      ],
      "text/plain": [
       "action:  [-0.8601823   1.          0.07163654  1.        ]\n"
      ]
     },
     "metadata": {},
     "output_type": "display_data"
    },
    {
     "data": {
      "text/html": [
       "<pre style=\"white-space:pre;overflow-x:auto;line-height:normal;font-family:Menlo,'DejaVu Sans Mono',consolas,'Courier New',monospace\">position:  (0.06313794626552233, 0.06486922512231896, 0.10942663078437742)\n",
       "</pre>\n"
      ],
      "text/plain": [
       "position:  (0.06313794626552233, 0.06486922512231896, 0.10942663078437742)\n"
      ]
     },
     "metadata": {},
     "output_type": "display_data"
    },
    {
     "data": {
      "text/html": [
       "<pre style=\"white-space:pre;overflow-x:auto;line-height:normal;font-family:Menlo,'DejaVu Sans Mono',consolas,'Courier New',monospace\">jammer pos:  [10.2299043  12.30450941  5.76251045]\n",
       "</pre>\n"
      ],
      "text/plain": [
       "jammer pos:  [10.2299043  12.30450941  5.76251045]\n"
      ]
     },
     "metadata": {},
     "output_type": "display_data"
    },
    {
     "data": {
      "text/html": [
       "<pre style=\"white-space:pre;overflow-x:auto;line-height:normal;font-family:Menlo,'DejaVu Sans Mono',consolas,'Courier New',monospace\">dist:  16.885771718445387\n",
       "</pre>\n"
      ],
      "text/plain": [
       "dist:  16.885771718445387\n"
      ]
     },
     "metadata": {},
     "output_type": "display_data"
    },
    {
     "name": "stdout",
     "output_type": "stream",
     "text": [
      "-------------------------------------------\n",
      "| rollout/                |               |\n",
      "|    ep_len_mean          | 27.1          |\n",
      "|    ep_rew_mean          | -1.02e+06     |\n",
      "| time/                   |               |\n",
      "|    fps                  | 116           |\n",
      "|    iterations           | 83            |\n",
      "|    time_elapsed         | 45            |\n",
      "|    total_timesteps      | 5312          |\n",
      "| train/                  |               |\n",
      "|    approx_kl            | 3.7252903e-09 |\n",
      "|    clip_fraction        | 0             |\n",
      "|    clip_range           | 0.2           |\n",
      "|    entropy_loss         | -5.68         |\n",
      "|    explained_variance   | -2.38e-07     |\n",
      "|    learning_rate        | 0.0003        |\n",
      "|    loss                 | 1.53e+11      |\n",
      "|    n_updates            | 820           |\n",
      "|    policy_gradient_loss | -2.35e-05     |\n",
      "|    std                  | 1             |\n",
      "|    value_loss           | 3.05e+11      |\n",
      "-------------------------------------------\n"
     ]
    },
    {
     "data": {
      "text/html": [
       "<pre style=\"white-space:pre;overflow-x:auto;line-height:normal;font-family:Menlo,'DejaVu Sans Mono',consolas,'Courier New',monospace\">action:  [-0.324016    0.34718347 -0.52668244  1.        ]\n",
       "</pre>\n"
      ],
      "text/plain": [
       "action:  [-0.324016    0.34718347 -0.52668244  1.        ]\n"
      ]
     },
     "metadata": {},
     "output_type": "display_data"
    },
    {
     "data": {
      "text/html": [
       "<pre style=\"white-space:pre;overflow-x:auto;line-height:normal;font-family:Menlo,'DejaVu Sans Mono',consolas,'Courier New',monospace\">position:  (0.09425066743342438, 0.11221803918184103, 0.11955581488107986)\n",
       "</pre>\n"
      ],
      "text/plain": [
       "position:  (0.09425066743342438, 0.11221803918184103, 0.11955581488107986)\n"
      ]
     },
     "metadata": {},
     "output_type": "display_data"
    },
    {
     "data": {
      "text/html": [
       "<pre style=\"white-space:pre;overflow-x:auto;line-height:normal;font-family:Menlo,'DejaVu Sans Mono',consolas,'Courier New',monospace\">jammer pos:  [10.2299043  12.30450941  5.76251045]\n",
       "</pre>\n"
      ],
      "text/plain": [
       "jammer pos:  [10.2299043  12.30450941  5.76251045]\n"
      ]
     },
     "metadata": {},
     "output_type": "display_data"
    },
    {
     "data": {
      "text/html": [
       "<pre style=\"white-space:pre;overflow-x:auto;line-height:normal;font-family:Menlo,'DejaVu Sans Mono',consolas,'Courier New',monospace\">dist:  16.829330953973592\n",
       "</pre>\n"
      ],
      "text/plain": [
       "dist:  16.829330953973592\n"
      ]
     },
     "metadata": {},
     "output_type": "display_data"
    },
    {
     "data": {
      "text/html": [
       "<pre style=\"white-space:pre;overflow-x:auto;line-height:normal;font-family:Menlo,'DejaVu Sans Mono',consolas,'Courier New',monospace\">action:  [0.5404089 1.        1.        1.       ]\n",
       "</pre>\n"
      ],
      "text/plain": [
       "action:  [0.5404089 1.        1.        1.       ]\n"
      ]
     },
     "metadata": {},
     "output_type": "display_data"
    },
    {
     "data": {
      "text/html": [
       "<pre style=\"white-space:pre;overflow-x:auto;line-height:normal;font-family:Menlo,'DejaVu Sans Mono',consolas,'Courier New',monospace\">position:  (0.05996977842825457, 0.0634309253671845, 0.0847535054914674)\n",
       "</pre>\n"
      ],
      "text/plain": [
       "position:  (0.05996977842825457, 0.0634309253671845, 0.0847535054914674)\n"
      ]
     },
     "metadata": {},
     "output_type": "display_data"
    },
    {
     "data": {
      "text/html": [
       "<pre style=\"white-space:pre;overflow-x:auto;line-height:normal;font-family:Menlo,'DejaVu Sans Mono',consolas,'Courier New',monospace\">jammer pos:  [10.2299043  12.30450941  5.76251045]\n",
       "</pre>\n"
      ],
      "text/plain": [
       "jammer pos:  [10.2299043  12.30450941  5.76251045]\n"
      ]
     },
     "metadata": {},
     "output_type": "display_data"
    },
    {
     "data": {
      "text/html": [
       "<pre style=\"white-space:pre;overflow-x:auto;line-height:normal;font-family:Menlo,'DejaVu Sans Mono',consolas,'Courier New',monospace\">dist:  16.89699661107609\n",
       "</pre>\n"
      ],
      "text/plain": [
       "dist:  16.89699661107609\n"
      ]
     },
     "metadata": {},
     "output_type": "display_data"
    },
    {
     "data": {
      "text/html": [
       "<pre style=\"white-space:pre;overflow-x:auto;line-height:normal;font-family:Menlo,'DejaVu Sans Mono',consolas,'Courier New',monospace\">action:  [ 0.48981097  0.48757726 -0.23871243  1.        ]\n",
       "</pre>\n"
      ],
      "text/plain": [
       "action:  [ 0.48981097  0.48757726 -0.23871243  1.        ]\n"
      ]
     },
     "metadata": {},
     "output_type": "display_data"
    },
    {
     "data": {
      "text/html": [
       "<pre style=\"white-space:pre;overflow-x:auto;line-height:normal;font-family:Menlo,'DejaVu Sans Mono',consolas,'Courier New',monospace\">position:  (0.07161304387314321, 0.05035124983083683, 0.09894492895967863)\n",
       "</pre>\n"
      ],
      "text/plain": [
       "position:  (0.07161304387314321, 0.05035124983083683, 0.09894492895967863)\n"
      ]
     },
     "metadata": {},
     "output_type": "display_data"
    },
    {
     "data": {
      "text/html": [
       "<pre style=\"white-space:pre;overflow-x:auto;line-height:normal;font-family:Menlo,'DejaVu Sans Mono',consolas,'Courier New',monospace\">jammer pos:  [10.2299043  12.30450941  5.76251045]\n",
       "</pre>\n"
      ],
      "text/plain": [
       "jammer pos:  [10.2299043  12.30450941  5.76251045]\n"
      ]
     },
     "metadata": {},
     "output_type": "display_data"
    },
    {
     "data": {
      "text/html": [
       "<pre style=\"white-space:pre;overflow-x:auto;line-height:normal;font-family:Menlo,'DejaVu Sans Mono',consolas,'Courier New',monospace\">dist:  16.894710645153175\n",
       "</pre>\n"
      ],
      "text/plain": [
       "dist:  16.894710645153175\n"
      ]
     },
     "metadata": {},
     "output_type": "display_data"
    },
    {
     "name": "stdout",
     "output_type": "stream",
     "text": [
      "------------------------------------------\n",
      "| rollout/                |              |\n",
      "|    ep_len_mean          | 26.9         |\n",
      "|    ep_rew_mean          | -1.02e+06    |\n",
      "| time/                   |              |\n",
      "|    fps                  | 115          |\n",
      "|    iterations           | 84           |\n",
      "|    time_elapsed         | 46           |\n",
      "|    total_timesteps      | 5376         |\n",
      "| train/                  |              |\n",
      "|    approx_kl            | 3.632158e-08 |\n",
      "|    clip_fraction        | 0            |\n",
      "|    clip_range           | 0.2          |\n",
      "|    entropy_loss         | -5.68        |\n",
      "|    explained_variance   | 5.96e-08     |\n",
      "|    learning_rate        | 0.0003       |\n",
      "|    loss                 | 1.25e+11     |\n",
      "|    n_updates            | 830          |\n",
      "|    policy_gradient_loss | -4.47e-05    |\n",
      "|    std                  | 1            |\n",
      "|    value_loss           | 2.5e+11      |\n",
      "------------------------------------------\n"
     ]
    },
    {
     "data": {
      "text/html": [
       "<pre style=\"white-space:pre;overflow-x:auto;line-height:normal;font-family:Menlo,'DejaVu Sans Mono',consolas,'Courier New',monospace\">action:  [-1.        -0.9322995 -1.         1.       ]\n",
       "</pre>\n"
      ],
      "text/plain": [
       "action:  [-1.        -0.9322995 -1.         1.       ]\n"
      ]
     },
     "metadata": {},
     "output_type": "display_data"
    },
    {
     "data": {
      "text/html": [
       "<pre style=\"white-space:pre;overflow-x:auto;line-height:normal;font-family:Menlo,'DejaVu Sans Mono',consolas,'Courier New',monospace\">position:  (0.058303444382001704, 0.04583847310000752, 0.12888874960539967)\n",
       "</pre>\n"
      ],
      "text/plain": [
       "position:  (0.058303444382001704, 0.04583847310000752, 0.12888874960539967)\n"
      ]
     },
     "metadata": {},
     "output_type": "display_data"
    },
    {
     "data": {
      "text/html": [
       "<pre style=\"white-space:pre;overflow-x:auto;line-height:normal;font-family:Menlo,'DejaVu Sans Mono',consolas,'Courier New',monospace\">jammer pos:  [10.2299043  12.30450941  5.76251045]\n",
       "</pre>\n"
      ],
      "text/plain": [
       "jammer pos:  [10.2299043  12.30450941  5.76251045]\n"
      ]
     },
     "metadata": {},
     "output_type": "display_data"
    },
    {
     "data": {
      "text/html": [
       "<pre style=\"white-space:pre;overflow-x:auto;line-height:normal;font-family:Menlo,'DejaVu Sans Mono',consolas,'Courier New',monospace\">dist:  16.89598089729426\n",
       "</pre>\n"
      ],
      "text/plain": [
       "dist:  16.89598089729426\n"
      ]
     },
     "metadata": {},
     "output_type": "display_data"
    },
    {
     "data": {
      "text/html": [
       "<pre style=\"white-space:pre;overflow-x:auto;line-height:normal;font-family:Menlo,'DejaVu Sans Mono',consolas,'Courier New',monospace\">action:  [-1.         -0.02386243 -0.8151517   1.        ]\n",
       "</pre>\n"
      ],
      "text/plain": [
       "action:  [-1.         -0.02386243 -0.8151517   1.        ]\n"
      ]
     },
     "metadata": {},
     "output_type": "display_data"
    },
    {
     "data": {
      "text/html": [
       "<pre style=\"white-space:pre;overflow-x:auto;line-height:normal;font-family:Menlo,'DejaVu Sans Mono',consolas,'Courier New',monospace\">position:  (0.05078346332056658, 0.0520526747758067, 0.10748763694917847)\n",
       "</pre>\n"
      ],
      "text/plain": [
       "position:  (0.05078346332056658, 0.0520526747758067, 0.10748763694917847)\n"
      ]
     },
     "metadata": {},
     "output_type": "display_data"
    },
    {
     "data": {
      "text/html": [
       "<pre style=\"white-space:pre;overflow-x:auto;line-height:normal;font-family:Menlo,'DejaVu Sans Mono',consolas,'Courier New',monospace\">jammer pos:  [10.2299043  12.30450941  5.76251045]\n",
       "</pre>\n"
      ],
      "text/plain": [
       "jammer pos:  [10.2299043  12.30450941  5.76251045]\n"
      ]
     },
     "metadata": {},
     "output_type": "display_data"
    },
    {
     "data": {
      "text/html": [
       "<pre style=\"white-space:pre;overflow-x:auto;line-height:normal;font-family:Menlo,'DejaVu Sans Mono',consolas,'Courier New',monospace\">dist:  16.903150001876753\n",
       "</pre>\n"
      ],
      "text/plain": [
       "dist:  16.903150001876753\n"
      ]
     },
     "metadata": {},
     "output_type": "display_data"
    },
    {
     "data": {
      "text/html": [
       "<pre style=\"white-space:pre;overflow-x:auto;line-height:normal;font-family:Menlo,'DejaVu Sans Mono',consolas,'Courier New',monospace\">action:  [-0.21907742 -1.         -0.66172355  1.        ]\n",
       "</pre>\n"
      ],
      "text/plain": [
       "action:  [-0.21907742 -1.         -0.66172355  1.        ]\n"
      ]
     },
     "metadata": {},
     "output_type": "display_data"
    },
    {
     "data": {
      "text/html": [
       "<pre style=\"white-space:pre;overflow-x:auto;line-height:normal;font-family:Menlo,'DejaVu Sans Mono',consolas,'Courier New',monospace\">position:  (0.07088628771074656, 0.0478246600877074, 0.13007179655112144)\n",
       "</pre>\n"
      ],
      "text/plain": [
       "position:  (0.07088628771074656, 0.0478246600877074, 0.13007179655112144)\n"
      ]
     },
     "metadata": {},
     "output_type": "display_data"
    },
    {
     "data": {
      "text/html": [
       "<pre style=\"white-space:pre;overflow-x:auto;line-height:normal;font-family:Menlo,'DejaVu Sans Mono',consolas,'Courier New',monospace\">jammer pos:  [10.2299043  12.30450941  5.76251045]\n",
       "</pre>\n"
      ],
      "text/plain": [
       "jammer pos:  [10.2299043  12.30450941  5.76251045]\n"
      ]
     },
     "metadata": {},
     "output_type": "display_data"
    },
    {
     "data": {
      "text/html": [
       "<pre style=\"white-space:pre;overflow-x:auto;line-height:normal;font-family:Menlo,'DejaVu Sans Mono',consolas,'Courier New',monospace\">dist:  16.886572569085683\n",
       "</pre>\n"
      ],
      "text/plain": [
       "dist:  16.886572569085683\n"
      ]
     },
     "metadata": {},
     "output_type": "display_data"
    },
    {
     "name": "stdout",
     "output_type": "stream",
     "text": [
      "-------------------------------------------\n",
      "| rollout/                |               |\n",
      "|    ep_len_mean          | 26.8          |\n",
      "|    ep_rew_mean          | -1.02e+06     |\n",
      "| time/                   |               |\n",
      "|    fps                  | 115           |\n",
      "|    iterations           | 85            |\n",
      "|    time_elapsed         | 46            |\n",
      "|    total_timesteps      | 5440          |\n",
      "| train/                  |               |\n",
      "|    approx_kl            | 1.6763806e-08 |\n",
      "|    clip_fraction        | 0             |\n",
      "|    clip_range           | 0.2           |\n",
      "|    entropy_loss         | -5.68         |\n",
      "|    explained_variance   | 5.96e-08      |\n",
      "|    learning_rate        | 0.0003        |\n",
      "|    loss                 | 1.43e+11      |\n",
      "|    n_updates            | 840           |\n",
      "|    policy_gradient_loss | -6.85e-07     |\n",
      "|    std                  | 1             |\n",
      "|    value_loss           | 2.86e+11      |\n",
      "-------------------------------------------\n"
     ]
    },
    {
     "data": {
      "text/html": [
       "<pre style=\"white-space:pre;overflow-x:auto;line-height:normal;font-family:Menlo,'DejaVu Sans Mono',consolas,'Courier New',monospace\">action:  [1.         0.25910488 1.         1.        ]\n",
       "</pre>\n"
      ],
      "text/plain": [
       "action:  [1.         0.25910488 1.         1.        ]\n"
      ]
     },
     "metadata": {},
     "output_type": "display_data"
    },
    {
     "data": {
      "text/html": [
       "<pre style=\"white-space:pre;overflow-x:auto;line-height:normal;font-family:Menlo,'DejaVu Sans Mono',consolas,'Courier New',monospace\">position:  (0.15118091331107758, 0.13918886114092965, 0.20643402819890103)\n",
       "</pre>\n"
      ],
      "text/plain": [
       "position:  (0.15118091331107758, 0.13918886114092965, 0.20643402819890103)\n"
      ]
     },
     "metadata": {},
     "output_type": "display_data"
    },
    {
     "data": {
      "text/html": [
       "<pre style=\"white-space:pre;overflow-x:auto;line-height:normal;font-family:Menlo,'DejaVu Sans Mono',consolas,'Courier New',monospace\">jammer pos:  [10.2299043  12.30450941  5.76251045]\n",
       "</pre>\n"
      ],
      "text/plain": [
       "jammer pos:  [10.2299043  12.30450941  5.76251045]\n"
      ]
     },
     "metadata": {},
     "output_type": "display_data"
    },
    {
     "data": {
      "text/html": [
       "<pre style=\"white-space:pre;overflow-x:auto;line-height:normal;font-family:Menlo,'DejaVu Sans Mono',consolas,'Courier New',monospace\">dist:  16.746512301986957\n",
       "</pre>\n"
      ],
      "text/plain": [
       "dist:  16.746512301986957\n"
      ]
     },
     "metadata": {},
     "output_type": "display_data"
    },
    {
     "data": {
      "text/html": [
       "<pre style=\"white-space:pre;overflow-x:auto;line-height:normal;font-family:Menlo,'DejaVu Sans Mono',consolas,'Courier New',monospace\">action:  [ 0.37989777 -0.28844947  0.7241412   1.        ]\n",
       "</pre>\n"
      ],
      "text/plain": [
       "action:  [ 0.37989777 -0.28844947  0.7241412   1.        ]\n"
      ]
     },
     "metadata": {},
     "output_type": "display_data"
    },
    {
     "data": {
      "text/html": [
       "<pre style=\"white-space:pre;overflow-x:auto;line-height:normal;font-family:Menlo,'DejaVu Sans Mono',consolas,'Courier New',monospace\">position:  (0.09359817142527926, 0.05052848452240586, 0.1308078205044815)\n",
       "</pre>\n"
      ],
      "text/plain": [
       "position:  (0.09359817142527926, 0.05052848452240586, 0.1308078205044815)\n"
      ]
     },
     "metadata": {},
     "output_type": "display_data"
    },
    {
     "data": {
      "text/html": [
       "<pre style=\"white-space:pre;overflow-x:auto;line-height:normal;font-family:Menlo,'DejaVu Sans Mono',consolas,'Courier New',monospace\">jammer pos:  [10.2299043  12.30450941  5.76251045]\n",
       "</pre>\n"
      ],
      "text/plain": [
       "jammer pos:  [10.2299043  12.30450941  5.76251045]\n"
      ]
     },
     "metadata": {},
     "output_type": "display_data"
    },
    {
     "data": {
      "text/html": [
       "<pre style=\"white-space:pre;overflow-x:auto;line-height:normal;font-family:Menlo,'DejaVu Sans Mono',consolas,'Courier New',monospace\">dist:  16.87070908037418\n",
       "</pre>\n"
      ],
      "text/plain": [
       "dist:  16.87070908037418\n"
      ]
     },
     "metadata": {},
     "output_type": "display_data"
    },
    {
     "name": "stdout",
     "output_type": "stream",
     "text": [
      "------------------------------------------\n",
      "| rollout/                |              |\n",
      "|    ep_len_mean          | 26.9         |\n",
      "|    ep_rew_mean          | -1.02e+06    |\n",
      "| time/                   |              |\n",
      "|    fps                  | 116          |\n",
      "|    iterations           | 86           |\n",
      "|    time_elapsed         | 47           |\n",
      "|    total_timesteps      | 5504         |\n",
      "| train/                  |              |\n",
      "|    approx_kl            | 9.313226e-10 |\n",
      "|    clip_fraction        | 0            |\n",
      "|    clip_range           | 0.2          |\n",
      "|    entropy_loss         | -5.68        |\n",
      "|    explained_variance   | 0            |\n",
      "|    learning_rate        | 0.0003       |\n",
      "|    loss                 | 1.6e+11      |\n",
      "|    n_updates            | 850          |\n",
      "|    policy_gradient_loss | -2.15e-06    |\n",
      "|    std                  | 1            |\n",
      "|    value_loss           | 3.19e+11     |\n",
      "------------------------------------------\n"
     ]
    },
    {
     "data": {
      "text/html": [
       "<pre style=\"white-space:pre;overflow-x:auto;line-height:normal;font-family:Menlo,'DejaVu Sans Mono',consolas,'Courier New',monospace\">action:  [0.4911754  0.8438881  0.26522836 1.        ]\n",
       "</pre>\n"
      ],
      "text/plain": [
       "action:  [0.4911754  0.8438881  0.26522836 1.        ]\n"
      ]
     },
     "metadata": {},
     "output_type": "display_data"
    },
    {
     "data": {
      "text/html": [
       "<pre style=\"white-space:pre;overflow-x:auto;line-height:normal;font-family:Menlo,'DejaVu Sans Mono',consolas,'Courier New',monospace\">position:  (0.1385302759169118, 0.1223721713536347, 0.1615976304715347)\n",
       "</pre>\n"
      ],
      "text/plain": [
       "position:  (0.1385302759169118, 0.1223721713536347, 0.1615976304715347)\n"
      ]
     },
     "metadata": {},
     "output_type": "display_data"
    },
    {
     "data": {
      "text/html": [
       "<pre style=\"white-space:pre;overflow-x:auto;line-height:normal;font-family:Menlo,'DejaVu Sans Mono',consolas,'Courier New',monospace\">jammer pos:  [10.2299043  12.30450941  5.76251045]\n",
       "</pre>\n"
      ],
      "text/plain": [
       "jammer pos:  [10.2299043  12.30450941  5.76251045]\n"
      ]
     },
     "metadata": {},
     "output_type": "display_data"
    },
    {
     "data": {
      "text/html": [
       "<pre style=\"white-space:pre;overflow-x:auto;line-height:normal;font-family:Menlo,'DejaVu Sans Mono',consolas,'Courier New',monospace\">dist:  16.78125506989976\n",
       "</pre>\n"
      ],
      "text/plain": [
       "dist:  16.78125506989976\n"
      ]
     },
     "metadata": {},
     "output_type": "display_data"
    },
    {
     "data": {
      "text/html": [
       "<pre style=\"white-space:pre;overflow-x:auto;line-height:normal;font-family:Menlo,'DejaVu Sans Mono',consolas,'Courier New',monospace\">action:  [-0.87585187 -1.         -0.80657357  1.        ]\n",
       "</pre>\n"
      ],
      "text/plain": [
       "action:  [-0.87585187 -1.         -0.80657357  1.        ]\n"
      ]
     },
     "metadata": {},
     "output_type": "display_data"
    },
    {
     "data": {
      "text/html": [
       "<pre style=\"white-space:pre;overflow-x:auto;line-height:normal;font-family:Menlo,'DejaVu Sans Mono',consolas,'Courier New',monospace\">position:  (0.13100598035408126, 0.08914687316973251, 0.16363041524182642)\n",
       "</pre>\n"
      ],
      "text/plain": [
       "position:  (0.13100598035408126, 0.08914687316973251, 0.16363041524182642)\n"
      ]
     },
     "metadata": {},
     "output_type": "display_data"
    },
    {
     "data": {
      "text/html": [
       "<pre style=\"white-space:pre;overflow-x:auto;line-height:normal;font-family:Menlo,'DejaVu Sans Mono',consolas,'Courier New',monospace\">jammer pos:  [10.2299043  12.30450941  5.76251045]\n",
       "</pre>\n"
      ],
      "text/plain": [
       "jammer pos:  [10.2299043  12.30450941  5.76251045]\n"
      ]
     },
     "metadata": {},
     "output_type": "display_data"
    },
    {
     "data": {
      "text/html": [
       "<pre style=\"white-space:pre;overflow-x:auto;line-height:normal;font-family:Menlo,'DejaVu Sans Mono',consolas,'Courier New',monospace\">dist:  16.809232187519548\n",
       "</pre>\n"
      ],
      "text/plain": [
       "dist:  16.809232187519548\n"
      ]
     },
     "metadata": {},
     "output_type": "display_data"
    },
    {
     "name": "stdout",
     "output_type": "stream",
     "text": [
      "---------------------------------------\n",
      "| rollout/                |           |\n",
      "|    ep_len_mean          | 27        |\n",
      "|    ep_rew_mean          | -1.02e+06 |\n",
      "| time/                   |           |\n",
      "|    fps                  | 115       |\n",
      "|    iterations           | 87        |\n",
      "|    time_elapsed         | 48        |\n",
      "|    total_timesteps      | 5568      |\n",
      "| train/                  |           |\n",
      "|    approx_kl            | 0.0       |\n",
      "|    clip_fraction        | 0         |\n",
      "|    clip_range           | 0.2       |\n",
      "|    entropy_loss         | -5.68     |\n",
      "|    explained_variance   | 0         |\n",
      "|    learning_rate        | 0.0003    |\n",
      "|    loss                 | 1.26e+11  |\n",
      "|    n_updates            | 860       |\n",
      "|    policy_gradient_loss | -8.05e-06 |\n",
      "|    std                  | 1         |\n",
      "|    value_loss           | 2.53e+11  |\n",
      "---------------------------------------\n"
     ]
    },
    {
     "data": {
      "text/html": [
       "<pre style=\"white-space:pre;overflow-x:auto;line-height:normal;font-family:Menlo,'DejaVu Sans Mono',consolas,'Courier New',monospace\">action:  [ 0.82214993  0.24399751 -0.36616805  1.        ]\n",
       "</pre>\n"
      ],
      "text/plain": [
       "action:  [ 0.82214993  0.24399751 -0.36616805  1.        ]\n"
      ]
     },
     "metadata": {},
     "output_type": "display_data"
    },
    {
     "data": {
      "text/html": [
       "<pre style=\"white-space:pre;overflow-x:auto;line-height:normal;font-family:Menlo,'DejaVu Sans Mono',consolas,'Courier New',monospace\">position:  (0.08487285163077608, 0.07884371592755489, 0.14708658163711902)\n",
       "</pre>\n"
      ],
      "text/plain": [
       "position:  (0.08487285163077608, 0.07884371592755489, 0.14708658163711902)\n"
      ]
     },
     "metadata": {},
     "output_type": "display_data"
    },
    {
     "data": {
      "text/html": [
       "<pre style=\"white-space:pre;overflow-x:auto;line-height:normal;font-family:Menlo,'DejaVu Sans Mono',consolas,'Courier New',monospace\">jammer pos:  [10.2299043  12.30450941  5.76251045]\n",
       "</pre>\n"
      ],
      "text/plain": [
       "jammer pos:  [10.2299043  12.30450941  5.76251045]\n"
      ]
     },
     "metadata": {},
     "output_type": "display_data"
    },
    {
     "data": {
      "text/html": [
       "<pre style=\"white-space:pre;overflow-x:auto;line-height:normal;font-family:Menlo,'DejaVu Sans Mono',consolas,'Courier New',monospace\">dist:  16.84997180670002\n",
       "</pre>\n"
      ],
      "text/plain": [
       "dist:  16.84997180670002\n"
      ]
     },
     "metadata": {},
     "output_type": "display_data"
    },
    {
     "data": {
      "text/html": [
       "<pre style=\"white-space:pre;overflow-x:auto;line-height:normal;font-family:Menlo,'DejaVu Sans Mono',consolas,'Courier New',monospace\">action:  [-0.5210291  -1.         -0.07127421  1.        ]\n",
       "</pre>\n"
      ],
      "text/plain": [
       "action:  [-0.5210291  -1.         -0.07127421  1.        ]\n"
      ]
     },
     "metadata": {},
     "output_type": "display_data"
    },
    {
     "data": {
      "text/html": [
       "<pre style=\"white-space:pre;overflow-x:auto;line-height:normal;font-family:Menlo,'DejaVu Sans Mono',consolas,'Courier New',monospace\">position:  (0.13410753188975835, 0.1522647840238333, 0.24078046242208936)\n",
       "</pre>\n"
      ],
      "text/plain": [
       "position:  (0.13410753188975835, 0.1522647840238333, 0.24078046242208936)\n"
      ]
     },
     "metadata": {},
     "output_type": "display_data"
    },
    {
     "data": {
      "text/html": [
       "<pre style=\"white-space:pre;overflow-x:auto;line-height:normal;font-family:Menlo,'DejaVu Sans Mono',consolas,'Courier New',monospace\">jammer pos:  [10.2299043  12.30450941  5.76251045]\n",
       "</pre>\n"
      ],
      "text/plain": [
       "jammer pos:  [10.2299043  12.30450941  5.76251045]\n"
      ]
     },
     "metadata": {},
     "output_type": "display_data"
    },
    {
     "data": {
      "text/html": [
       "<pre style=\"white-space:pre;overflow-x:auto;line-height:normal;font-family:Menlo,'DejaVu Sans Mono',consolas,'Courier New',monospace\">dist:  16.735939286518057\n",
       "</pre>\n"
      ],
      "text/plain": [
       "dist:  16.735939286518057\n"
      ]
     },
     "metadata": {},
     "output_type": "display_data"
    },
    {
     "name": "stdout",
     "output_type": "stream",
     "text": [
      "------------------------------------------\n",
      "| rollout/                |              |\n",
      "|    ep_len_mean          | 27.1         |\n",
      "|    ep_rew_mean          | -1.02e+06    |\n",
      "| time/                   |              |\n",
      "|    fps                  | 113          |\n",
      "|    iterations           | 88           |\n",
      "|    time_elapsed         | 49           |\n",
      "|    total_timesteps      | 5632         |\n",
      "| train/                  |              |\n",
      "|    approx_kl            | 4.656613e-09 |\n",
      "|    clip_fraction        | 0            |\n",
      "|    clip_range           | 0.2          |\n",
      "|    entropy_loss         | -5.68        |\n",
      "|    explained_variance   | -1.19e-07    |\n",
      "|    learning_rate        | 0.0003       |\n",
      "|    loss                 | 1.19e+11     |\n",
      "|    n_updates            | 870          |\n",
      "|    policy_gradient_loss | -1.28e-05    |\n",
      "|    std                  | 1            |\n",
      "|    value_loss           | 2.37e+11     |\n",
      "------------------------------------------\n"
     ]
    },
    {
     "data": {
      "text/html": [
       "<pre style=\"white-space:pre;overflow-x:auto;line-height:normal;font-family:Menlo,'DejaVu Sans Mono',consolas,'Courier New',monospace\">action:  [ 0.30011898 -0.86187536  0.08938685  1.        ]\n",
       "</pre>\n"
      ],
      "text/plain": [
       "action:  [ 0.30011898 -0.86187536  0.08938685  1.        ]\n"
      ]
     },
     "metadata": {},
     "output_type": "display_data"
    },
    {
     "data": {
      "text/html": [
       "<pre style=\"white-space:pre;overflow-x:auto;line-height:normal;font-family:Menlo,'DejaVu Sans Mono',consolas,'Courier New',monospace\">position:  (0.1279376143610791, 0.13068511285463782, 0.16826954004539876)\n",
       "</pre>\n"
      ],
      "text/plain": [
       "position:  (0.1279376143610791, 0.13068511285463782, 0.16826954004539876)\n"
      ]
     },
     "metadata": {},
     "output_type": "display_data"
    },
    {
     "data": {
      "text/html": [
       "<pre style=\"white-space:pre;overflow-x:auto;line-height:normal;font-family:Menlo,'DejaVu Sans Mono',consolas,'Courier New',monospace\">jammer pos:  [10.2299043  12.30450941  5.76251045]\n",
       "</pre>\n"
      ],
      "text/plain": [
       "jammer pos:  [10.2299043  12.30450941  5.76251045]\n"
      ]
     },
     "metadata": {},
     "output_type": "display_data"
    },
    {
     "data": {
      "text/html": [
       "<pre style=\"white-space:pre;overflow-x:auto;line-height:normal;font-family:Menlo,'DejaVu Sans Mono',consolas,'Courier New',monospace\">dist:  16.77937007780991\n",
       "</pre>\n"
      ],
      "text/plain": [
       "dist:  16.77937007780991\n"
      ]
     },
     "metadata": {},
     "output_type": "display_data"
    },
    {
     "data": {
      "text/html": [
       "<pre style=\"white-space:pre;overflow-x:auto;line-height:normal;font-family:Menlo,'DejaVu Sans Mono',consolas,'Courier New',monospace\">action:  [-0.08542877 -1.         -0.5161008   1.        ]\n",
       "</pre>\n"
      ],
      "text/plain": [
       "action:  [-0.08542877 -1.         -0.5161008   1.        ]\n"
      ]
     },
     "metadata": {},
     "output_type": "display_data"
    },
    {
     "data": {
      "text/html": [
       "<pre style=\"white-space:pre;overflow-x:auto;line-height:normal;font-family:Menlo,'DejaVu Sans Mono',consolas,'Courier New',monospace\">position:  (0.04906801092959384, 0.0675906829332992, 0.1012225611906197)\n",
       "</pre>\n"
      ],
      "text/plain": [
       "position:  (0.04906801092959384, 0.0675906829332992, 0.1012225611906197)\n"
      ]
     },
     "metadata": {},
     "output_type": "display_data"
    },
    {
     "data": {
      "text/html": [
       "<pre style=\"white-space:pre;overflow-x:auto;line-height:normal;font-family:Menlo,'DejaVu Sans Mono',consolas,'Courier New',monospace\">jammer pos:  [10.2299043  12.30450941  5.76251045]\n",
       "</pre>\n"
      ],
      "text/plain": [
       "jammer pos:  [10.2299043  12.30450941  5.76251045]\n"
      ]
     },
     "metadata": {},
     "output_type": "display_data"
    },
    {
     "data": {
      "text/html": [
       "<pre style=\"white-space:pre;overflow-x:auto;line-height:normal;font-family:Menlo,'DejaVu Sans Mono',consolas,'Courier New',monospace\">dist:  16.895022579192286\n",
       "</pre>\n"
      ],
      "text/plain": [
       "dist:  16.895022579192286\n"
      ]
     },
     "metadata": {},
     "output_type": "display_data"
    },
    {
     "data": {
      "text/html": [
       "<pre style=\"white-space:pre;overflow-x:auto;line-height:normal;font-family:Menlo,'DejaVu Sans Mono',consolas,'Courier New',monospace\">action:  [-0.21717058 -0.5298663  -0.5172296   1.        ]\n",
       "</pre>\n"
      ],
      "text/plain": [
       "action:  [-0.21717058 -0.5298663  -0.5172296   1.        ]\n"
      ]
     },
     "metadata": {},
     "output_type": "display_data"
    },
    {
     "data": {
      "text/html": [
       "<pre style=\"white-space:pre;overflow-x:auto;line-height:normal;font-family:Menlo,'DejaVu Sans Mono',consolas,'Courier New',monospace\">position:  (0.13910024091963358, 0.14956917352830548, 0.1577620471213219)\n",
       "</pre>\n"
      ],
      "text/plain": [
       "position:  (0.13910024091963358, 0.14956917352830548, 0.1577620471213219)\n"
      ]
     },
     "metadata": {},
     "output_type": "display_data"
    },
    {
     "data": {
      "text/html": [
       "<pre style=\"white-space:pre;overflow-x:auto;line-height:normal;font-family:Menlo,'DejaVu Sans Mono',consolas,'Courier New',monospace\">jammer pos:  [10.2299043  12.30450941  5.76251045]\n",
       "</pre>\n"
      ],
      "text/plain": [
       "jammer pos:  [10.2299043  12.30450941  5.76251045]\n"
      ]
     },
     "metadata": {},
     "output_type": "display_data"
    },
    {
     "data": {
      "text/html": [
       "<pre style=\"white-space:pre;overflow-x:auto;line-height:normal;font-family:Menlo,'DejaVu Sans Mono',consolas,'Courier New',monospace\">dist:  16.762461134473583\n",
       "</pre>\n"
      ],
      "text/plain": [
       "dist:  16.762461134473583\n"
      ]
     },
     "metadata": {},
     "output_type": "display_data"
    },
    {
     "name": "stdout",
     "output_type": "stream",
     "text": [
      "-------------------------------------------\n",
      "| rollout/                |               |\n",
      "|    ep_len_mean          | 27.1          |\n",
      "|    ep_rew_mean          | -1.02e+06     |\n",
      "| time/                   |               |\n",
      "|    fps                  | 113           |\n",
      "|    iterations           | 89            |\n",
      "|    time_elapsed         | 50            |\n",
      "|    total_timesteps      | 5696          |\n",
      "| train/                  |               |\n",
      "|    approx_kl            | 1.5832484e-08 |\n",
      "|    clip_fraction        | 0             |\n",
      "|    clip_range           | 0.2           |\n",
      "|    entropy_loss         | -5.68         |\n",
      "|    explained_variance   | 1.79e-07      |\n",
      "|    learning_rate        | 0.0003        |\n",
      "|    loss                 | 8.15e+10      |\n",
      "|    n_updates            | 880           |\n",
      "|    policy_gradient_loss | -1.51e-05     |\n",
      "|    std                  | 1             |\n",
      "|    value_loss           | 1.63e+11      |\n",
      "-------------------------------------------\n"
     ]
    },
    {
     "data": {
      "text/html": [
       "<pre style=\"white-space:pre;overflow-x:auto;line-height:normal;font-family:Menlo,'DejaVu Sans Mono',consolas,'Courier New',monospace\">action:  [ 0.21438535 -0.8119633   0.21315852  1.        ]\n",
       "</pre>\n"
      ],
      "text/plain": [
       "action:  [ 0.21438535 -0.8119633   0.21315852  1.        ]\n"
      ]
     },
     "metadata": {},
     "output_type": "display_data"
    },
    {
     "data": {
      "text/html": [
       "<pre style=\"white-space:pre;overflow-x:auto;line-height:normal;font-family:Menlo,'DejaVu Sans Mono',consolas,'Courier New',monospace\">position:  (0.07392457954273957, 0.06743472575487527, 0.1088568643643273)\n",
       "</pre>\n"
      ],
      "text/plain": [
       "position:  (0.07392457954273957, 0.06743472575487527, 0.1088568643643273)\n"
      ]
     },
     "metadata": {},
     "output_type": "display_data"
    },
    {
     "data": {
      "text/html": [
       "<pre style=\"white-space:pre;overflow-x:auto;line-height:normal;font-family:Menlo,'DejaVu Sans Mono',consolas,'Courier New',monospace\">jammer pos:  [10.2299043  12.30450941  5.76251045]\n",
       "</pre>\n"
      ],
      "text/plain": [
       "jammer pos:  [10.2299043  12.30450941  5.76251045]\n"
      ]
     },
     "metadata": {},
     "output_type": "display_data"
    },
    {
     "data": {
      "text/html": [
       "<pre style=\"white-space:pre;overflow-x:auto;line-height:normal;font-family:Menlo,'DejaVu Sans Mono',consolas,'Courier New',monospace\">dist:  16.87761001120134\n",
       "</pre>\n"
      ],
      "text/plain": [
       "dist:  16.87761001120134\n"
      ]
     },
     "metadata": {},
     "output_type": "display_data"
    },
    {
     "data": {
      "text/html": [
       "<pre style=\"white-space:pre;overflow-x:auto;line-height:normal;font-family:Menlo,'DejaVu Sans Mono',consolas,'Courier New',monospace\">action:  [1.         0.08853999 0.8845937  1.        ]\n",
       "</pre>\n"
      ],
      "text/plain": [
       "action:  [1.         0.08853999 0.8845937  1.        ]\n"
      ]
     },
     "metadata": {},
     "output_type": "display_data"
    },
    {
     "data": {
      "text/html": [
       "<pre style=\"white-space:pre;overflow-x:auto;line-height:normal;font-family:Menlo,'DejaVu Sans Mono',consolas,'Courier New',monospace\">position:  (0.2303382494493212, 0.20823386329596869, 0.2812794230426371)\n",
       "</pre>\n"
      ],
      "text/plain": [
       "position:  (0.2303382494493212, 0.20823386329596869, 0.2812794230426371)\n"
      ]
     },
     "metadata": {},
     "output_type": "display_data"
    },
    {
     "data": {
      "text/html": [
       "<pre style=\"white-space:pre;overflow-x:auto;line-height:normal;font-family:Menlo,'DejaVu Sans Mono',consolas,'Courier New',monospace\">jammer pos:  [10.2299043  12.30450941  5.76251045]\n",
       "</pre>\n"
      ],
      "text/plain": [
       "jammer pos:  [10.2299043  12.30450941  5.76251045]\n"
      ]
     },
     "metadata": {},
     "output_type": "display_data"
    },
    {
     "data": {
      "text/html": [
       "<pre style=\"white-space:pre;overflow-x:auto;line-height:normal;font-family:Menlo,'DejaVu Sans Mono',consolas,'Courier New',monospace\">dist:  16.623931447947268\n",
       "</pre>\n"
      ],
      "text/plain": [
       "dist:  16.623931447947268\n"
      ]
     },
     "metadata": {},
     "output_type": "display_data"
    },
    {
     "name": "stdout",
     "output_type": "stream",
     "text": [
      "-------------------------------------------\n",
      "| rollout/                |               |\n",
      "|    ep_len_mean          | 27.2          |\n",
      "|    ep_rew_mean          | -1.02e+06     |\n",
      "| time/                   |               |\n",
      "|    fps                  | 113           |\n",
      "|    iterations           | 90            |\n",
      "|    time_elapsed         | 50            |\n",
      "|    total_timesteps      | 5760          |\n",
      "| train/                  |               |\n",
      "|    approx_kl            | 4.8428774e-08 |\n",
      "|    clip_fraction        | 0             |\n",
      "|    clip_range           | 0.2           |\n",
      "|    entropy_loss         | -5.68         |\n",
      "|    explained_variance   | 0             |\n",
      "|    learning_rate        | 0.0003        |\n",
      "|    loss                 | 1.39e+11      |\n",
      "|    n_updates            | 890           |\n",
      "|    policy_gradient_loss | -3.46e-05     |\n",
      "|    std                  | 1             |\n",
      "|    value_loss           | 2.78e+11      |\n",
      "-------------------------------------------\n"
     ]
    },
    {
     "data": {
      "text/html": [
       "<pre style=\"white-space:pre;overflow-x:auto;line-height:normal;font-family:Menlo,'DejaVu Sans Mono',consolas,'Courier New',monospace\">action:  [ 0.3927582  -0.74655974 -0.42524567  1.        ]\n",
       "</pre>\n"
      ],
      "text/plain": [
       "action:  [ 0.3927582  -0.74655974 -0.42524567  1.        ]\n"
      ]
     },
     "metadata": {},
     "output_type": "display_data"
    },
    {
     "data": {
      "text/html": [
       "<pre style=\"white-space:pre;overflow-x:auto;line-height:normal;font-family:Menlo,'DejaVu Sans Mono',consolas,'Courier New',monospace\">position:  (0.07461078060482239, 0.05390755213586239, 0.113602894755536)\n",
       "</pre>\n"
      ],
      "text/plain": [
       "position:  (0.07461078060482239, 0.05390755213586239, 0.113602894755536)\n"
      ]
     },
     "metadata": {},
     "output_type": "display_data"
    },
    {
     "data": {
      "text/html": [
       "<pre style=\"white-space:pre;overflow-x:auto;line-height:normal;font-family:Menlo,'DejaVu Sans Mono',consolas,'Courier New',monospace\">jammer pos:  [10.2299043  12.30450941  5.76251045]\n",
       "</pre>\n"
      ],
      "text/plain": [
       "jammer pos:  [10.2299043  12.30450941  5.76251045]\n"
      ]
     },
     "metadata": {},
     "output_type": "display_data"
    },
    {
     "data": {
      "text/html": [
       "<pre style=\"white-space:pre;overflow-x:auto;line-height:normal;font-family:Menlo,'DejaVu Sans Mono',consolas,'Courier New',monospace\">dist:  16.885419415170333\n",
       "</pre>\n"
      ],
      "text/plain": [
       "dist:  16.885419415170333\n"
      ]
     },
     "metadata": {},
     "output_type": "display_data"
    },
    {
     "data": {
      "text/html": [
       "<pre style=\"white-space:pre;overflow-x:auto;line-height:normal;font-family:Menlo,'DejaVu Sans Mono',consolas,'Courier New',monospace\">action:  [1.         0.78789365 0.60639626 1.        ]\n",
       "</pre>\n"
      ],
      "text/plain": [
       "action:  [1.         0.78789365 0.60639626 1.        ]\n"
      ]
     },
     "metadata": {},
     "output_type": "display_data"
    },
    {
     "data": {
      "text/html": [
       "<pre style=\"white-space:pre;overflow-x:auto;line-height:normal;font-family:Menlo,'DejaVu Sans Mono',consolas,'Courier New',monospace\">position:  (0.09661118550641448, 0.14536543829678222, 0.22931531474808792)\n",
       "</pre>\n"
      ],
      "text/plain": [
       "position:  (0.09661118550641448, 0.14536543829678222, 0.22931531474808792)\n"
      ]
     },
     "metadata": {},
     "output_type": "display_data"
    },
    {
     "data": {
      "text/html": [
       "<pre style=\"white-space:pre;overflow-x:auto;line-height:normal;font-family:Menlo,'DejaVu Sans Mono',consolas,'Courier New',monospace\">jammer pos:  [10.2299043  12.30450941  5.76251045]\n",
       "</pre>\n"
      ],
      "text/plain": [
       "jammer pos:  [10.2299043  12.30450941  5.76251045]\n"
      ]
     },
     "metadata": {},
     "output_type": "display_data"
    },
    {
     "data": {
      "text/html": [
       "<pre style=\"white-space:pre;overflow-x:auto;line-height:normal;font-family:Menlo,'DejaVu Sans Mono',consolas,'Courier New',monospace\">dist:  16.76736889876814\n",
       "</pre>\n"
      ],
      "text/plain": [
       "dist:  16.76736889876814\n"
      ]
     },
     "metadata": {},
     "output_type": "display_data"
    },
    {
     "name": "stdout",
     "output_type": "stream",
     "text": [
      "-------------------------------------------\n",
      "| rollout/                |               |\n",
      "|    ep_len_mean          | 27.3          |\n",
      "|    ep_rew_mean          | -1.02e+06     |\n",
      "| time/                   |               |\n",
      "|    fps                  | 113           |\n",
      "|    iterations           | 91            |\n",
      "|    time_elapsed         | 51            |\n",
      "|    total_timesteps      | 5824          |\n",
      "| train/                  |               |\n",
      "|    approx_kl            | 2.0489097e-08 |\n",
      "|    clip_fraction        | 0             |\n",
      "|    clip_range           | 0.2           |\n",
      "|    entropy_loss         | -5.68         |\n",
      "|    explained_variance   | 0             |\n",
      "|    learning_rate        | 0.0003        |\n",
      "|    loss                 | 1.2e+11       |\n",
      "|    n_updates            | 900           |\n",
      "|    policy_gradient_loss | -1.29e-05     |\n",
      "|    std                  | 1             |\n",
      "|    value_loss           | 2.4e+11       |\n",
      "-------------------------------------------\n"
     ]
    },
    {
     "data": {
      "text/html": [
       "<pre style=\"white-space:pre;overflow-x:auto;line-height:normal;font-family:Menlo,'DejaVu Sans Mono',consolas,'Courier New',monospace\">action:  [ 0.03717001 -0.08373401 -0.48027167  1.        ]\n",
       "</pre>\n"
      ],
      "text/plain": [
       "action:  [ 0.03717001 -0.08373401 -0.48027167  1.        ]\n"
      ]
     },
     "metadata": {},
     "output_type": "display_data"
    },
    {
     "data": {
      "text/html": [
       "<pre style=\"white-space:pre;overflow-x:auto;line-height:normal;font-family:Menlo,'DejaVu Sans Mono',consolas,'Courier New',monospace\">position:  (0.07934139182537125, 0.0965277595892183, 0.14106433536220098)\n",
       "</pre>\n"
      ],
      "text/plain": [
       "position:  (0.07934139182537125, 0.0965277595892183, 0.14106433536220098)\n"
      ]
     },
     "metadata": {},
     "output_type": "display_data"
    },
    {
     "data": {
      "text/html": [
       "<pre style=\"white-space:pre;overflow-x:auto;line-height:normal;font-family:Menlo,'DejaVu Sans Mono',consolas,'Courier New',monospace\">jammer pos:  [10.2299043  12.30450941  5.76251045]\n",
       "</pre>\n"
      ],
      "text/plain": [
       "jammer pos:  [10.2299043  12.30450941  5.76251045]\n"
      ]
     },
     "metadata": {},
     "output_type": "display_data"
    },
    {
     "data": {
      "text/html": [
       "<pre style=\"white-space:pre;overflow-x:auto;line-height:normal;font-family:Menlo,'DejaVu Sans Mono',consolas,'Courier New',monospace\">dist:  16.84248792973143\n",
       "</pre>\n"
      ],
      "text/plain": [
       "dist:  16.84248792973143\n"
      ]
     },
     "metadata": {},
     "output_type": "display_data"
    },
    {
     "data": {
      "text/html": [
       "<pre style=\"white-space:pre;overflow-x:auto;line-height:normal;font-family:Menlo,'DejaVu Sans Mono',consolas,'Courier New',monospace\">action:  [-1.          0.63056266 -1.          1.        ]\n",
       "</pre>\n"
      ],
      "text/plain": [
       "action:  [-1.          0.63056266 -1.          1.        ]\n"
      ]
     },
     "metadata": {},
     "output_type": "display_data"
    },
    {
     "data": {
      "text/html": [
       "<pre style=\"white-space:pre;overflow-x:auto;line-height:normal;font-family:Menlo,'DejaVu Sans Mono',consolas,'Courier New',monospace\">position:  (0.09709007383064598, 0.08117239177379693, 0.12254827190421064)\n",
       "</pre>\n"
      ],
      "text/plain": [
       "position:  (0.09709007383064598, 0.08117239177379693, 0.12254827190421064)\n"
      ]
     },
     "metadata": {},
     "output_type": "display_data"
    },
    {
     "data": {
      "text/html": [
       "<pre style=\"white-space:pre;overflow-x:auto;line-height:normal;font-family:Menlo,'DejaVu Sans Mono',consolas,'Courier New',monospace\">jammer pos:  [10.2299043  12.30450941  5.76251045]\n",
       "</pre>\n"
      ],
      "text/plain": [
       "jammer pos:  [10.2299043  12.30450941  5.76251045]\n"
      ]
     },
     "metadata": {},
     "output_type": "display_data"
    },
    {
     "data": {
      "text/html": [
       "<pre style=\"white-space:pre;overflow-x:auto;line-height:normal;font-family:Menlo,'DejaVu Sans Mono',consolas,'Courier New',monospace\">dist:  16.849126543750074\n",
       "</pre>\n"
      ],
      "text/plain": [
       "dist:  16.849126543750074\n"
      ]
     },
     "metadata": {},
     "output_type": "display_data"
    },
    {
     "data": {
      "text/html": [
       "<pre style=\"white-space:pre;overflow-x:auto;line-height:normal;font-family:Menlo,'DejaVu Sans Mono',consolas,'Courier New',monospace\">action:  [-1.          0.02160538  0.832051    1.        ]\n",
       "</pre>\n"
      ],
      "text/plain": [
       "action:  [-1.          0.02160538  0.832051    1.        ]\n"
      ]
     },
     "metadata": {},
     "output_type": "display_data"
    },
    {
     "data": {
      "text/html": [
       "<pre style=\"white-space:pre;overflow-x:auto;line-height:normal;font-family:Menlo,'DejaVu Sans Mono',consolas,'Courier New',monospace\">position:  (0.06729317244535489, 0.08234117869396133, 0.12821023190916153)\n",
       "</pre>\n"
      ],
      "text/plain": [
       "position:  (0.06729317244535489, 0.08234117869396133, 0.12821023190916153)\n"
      ]
     },
     "metadata": {},
     "output_type": "display_data"
    },
    {
     "data": {
      "text/html": [
       "<pre style=\"white-space:pre;overflow-x:auto;line-height:normal;font-family:Menlo,'DejaVu Sans Mono',consolas,'Courier New',monospace\">jammer pos:  [10.2299043  12.30450941  5.76251045]\n",
       "</pre>\n"
      ],
      "text/plain": [
       "jammer pos:  [10.2299043  12.30450941  5.76251045]\n"
      ]
     },
     "metadata": {},
     "output_type": "display_data"
    },
    {
     "data": {
      "text/html": [
       "<pre style=\"white-space:pre;overflow-x:auto;line-height:normal;font-family:Menlo,'DejaVu Sans Mono',consolas,'Courier New',monospace\">dist:  16.86432329106494\n",
       "</pre>\n"
      ],
      "text/plain": [
       "dist:  16.86432329106494\n"
      ]
     },
     "metadata": {},
     "output_type": "display_data"
    },
    {
     "name": "stdout",
     "output_type": "stream",
     "text": [
      "-------------------------------------------\n",
      "| rollout/                |               |\n",
      "|    ep_len_mean          | 27.3          |\n",
      "|    ep_rew_mean          | -1.02e+06     |\n",
      "| time/                   |               |\n",
      "|    fps                  | 112           |\n",
      "|    iterations           | 92            |\n",
      "|    time_elapsed         | 52            |\n",
      "|    total_timesteps      | 5888          |\n",
      "| train/                  |               |\n",
      "|    approx_kl            | 3.1664968e-08 |\n",
      "|    clip_fraction        | 0             |\n",
      "|    clip_range           | 0.2           |\n",
      "|    entropy_loss         | -5.68         |\n",
      "|    explained_variance   | -1.19e-07     |\n",
      "|    learning_rate        | 0.0003        |\n",
      "|    loss                 | 1.17e+11      |\n",
      "|    n_updates            | 910           |\n",
      "|    policy_gradient_loss | -3.74e-05     |\n",
      "|    std                  | 1             |\n",
      "|    value_loss           | 2.35e+11      |\n",
      "-------------------------------------------\n"
     ]
    },
    {
     "data": {
      "text/html": [
       "<pre style=\"white-space:pre;overflow-x:auto;line-height:normal;font-family:Menlo,'DejaVu Sans Mono',consolas,'Courier New',monospace\">action:  [ 0.36319393 -0.38091317 -0.30928797  1.        ]\n",
       "</pre>\n"
      ],
      "text/plain": [
       "action:  [ 0.36319393 -0.38091317 -0.30928797  1.        ]\n"
      ]
     },
     "metadata": {},
     "output_type": "display_data"
    },
    {
     "data": {
      "text/html": [
       "<pre style=\"white-space:pre;overflow-x:auto;line-height:normal;font-family:Menlo,'DejaVu Sans Mono',consolas,'Courier New',monospace\">position:  (0.07513706593458269, 0.043269885984400694, 0.1112963129254247)\n",
       "</pre>\n"
      ],
      "text/plain": [
       "position:  (0.07513706593458269, 0.043269885984400694, 0.1112963129254247)\n"
      ]
     },
     "metadata": {},
     "output_type": "display_data"
    },
    {
     "data": {
      "text/html": [
       "<pre style=\"white-space:pre;overflow-x:auto;line-height:normal;font-family:Menlo,'DejaVu Sans Mono',consolas,'Courier New',monospace\">jammer pos:  [10.2299043  12.30450941  5.76251045]\n",
       "</pre>\n"
      ],
      "text/plain": [
       "jammer pos:  [10.2299043  12.30450941  5.76251045]\n"
      ]
     },
     "metadata": {},
     "output_type": "display_data"
    },
    {
     "data": {
      "text/html": [
       "<pre style=\"white-space:pre;overflow-x:auto;line-height:normal;font-family:Menlo,'DejaVu Sans Mono',consolas,'Courier New',monospace\">dist:  16.893593856247715\n",
       "</pre>\n"
      ],
      "text/plain": [
       "dist:  16.893593856247715\n"
      ]
     },
     "metadata": {},
     "output_type": "display_data"
    },
    {
     "data": {
      "text/html": [
       "<pre style=\"white-space:pre;overflow-x:auto;line-height:normal;font-family:Menlo,'DejaVu Sans Mono',consolas,'Courier New',monospace\">action:  [-0.08553658  1.          1.          1.        ]\n",
       "</pre>\n"
      ],
      "text/plain": [
       "action:  [-0.08553658  1.          1.          1.        ]\n"
      ]
     },
     "metadata": {},
     "output_type": "display_data"
    },
    {
     "data": {
      "text/html": [
       "<pre style=\"white-space:pre;overflow-x:auto;line-height:normal;font-family:Menlo,'DejaVu Sans Mono',consolas,'Courier New',monospace\">position:  (0.08117776897789832, 0.1320815633133196, 0.1842574464393265)\n",
       "</pre>\n"
      ],
      "text/plain": [
       "position:  (0.08117776897789832, 0.1320815633133196, 0.1842574464393265)\n"
      ]
     },
     "metadata": {},
     "output_type": "display_data"
    },
    {
     "data": {
      "text/html": [
       "<pre style=\"white-space:pre;overflow-x:auto;line-height:normal;font-family:Menlo,'DejaVu Sans Mono',consolas,'Courier New',monospace\">jammer pos:  [10.2299043  12.30450941  5.76251045]\n",
       "</pre>\n"
      ],
      "text/plain": [
       "jammer pos:  [10.2299043  12.30450941  5.76251045]\n"
      ]
     },
     "metadata": {},
     "output_type": "display_data"
    },
    {
     "data": {
      "text/html": [
       "<pre style=\"white-space:pre;overflow-x:auto;line-height:normal;font-family:Menlo,'DejaVu Sans Mono',consolas,'Courier New',monospace\">dist:  16.801236751200435\n",
       "</pre>\n"
      ],
      "text/plain": [
       "dist:  16.801236751200435\n"
      ]
     },
     "metadata": {},
     "output_type": "display_data"
    },
    {
     "name": "stdout",
     "output_type": "stream",
     "text": [
      "-------------------------------------------\n",
      "| rollout/                |               |\n",
      "|    ep_len_mean          | 27.2          |\n",
      "|    ep_rew_mean          | -1.02e+06     |\n",
      "| time/                   |               |\n",
      "|    fps                  | 112           |\n",
      "|    iterations           | 93            |\n",
      "|    time_elapsed         | 52            |\n",
      "|    total_timesteps      | 5952          |\n",
      "| train/                  |               |\n",
      "|    approx_kl            | 3.7252903e-08 |\n",
      "|    clip_fraction        | 0             |\n",
      "|    clip_range           | 0.2           |\n",
      "|    entropy_loss         | -5.68         |\n",
      "|    explained_variance   | 1.19e-07      |\n",
      "|    learning_rate        | 0.0003        |\n",
      "|    loss                 | 1.66e+11      |\n",
      "|    n_updates            | 920           |\n",
      "|    policy_gradient_loss | -2.77e-05     |\n",
      "|    std                  | 1             |\n",
      "|    value_loss           | 3.32e+11      |\n",
      "-------------------------------------------\n"
     ]
    },
    {
     "data": {
      "text/html": [
       "<pre style=\"white-space:pre;overflow-x:auto;line-height:normal;font-family:Menlo,'DejaVu Sans Mono',consolas,'Courier New',monospace\">action:  [ 0.62320244 -0.8613583  -1.          1.        ]\n",
       "</pre>\n"
      ],
      "text/plain": [
       "action:  [ 0.62320244 -0.8613583  -1.          1.        ]\n"
      ]
     },
     "metadata": {},
     "output_type": "display_data"
    },
    {
     "data": {
      "text/html": [
       "<pre style=\"white-space:pre;overflow-x:auto;line-height:normal;font-family:Menlo,'DejaVu Sans Mono',consolas,'Courier New',monospace\">position:  (0.12466087454618154, 0.127503651929457, 0.15625399630624354)\n",
       "</pre>\n"
      ],
      "text/plain": [
       "position:  (0.12466087454618154, 0.127503651929457, 0.15625399630624354)\n"
      ]
     },
     "metadata": {},
     "output_type": "display_data"
    },
    {
     "data": {
      "text/html": [
       "<pre style=\"white-space:pre;overflow-x:auto;line-height:normal;font-family:Menlo,'DejaVu Sans Mono',consolas,'Courier New',monospace\">jammer pos:  [10.2299043  12.30450941  5.76251045]\n",
       "</pre>\n"
      ],
      "text/plain": [
       "jammer pos:  [10.2299043  12.30450941  5.76251045]\n"
      ]
     },
     "metadata": {},
     "output_type": "display_data"
    },
    {
     "data": {
      "text/html": [
       "<pre style=\"white-space:pre;overflow-x:auto;line-height:normal;font-family:Menlo,'DejaVu Sans Mono',consolas,'Courier New',monospace\">dist:  16.787659910134924\n",
       "</pre>\n"
      ],
      "text/plain": [
       "dist:  16.787659910134924\n"
      ]
     },
     "metadata": {},
     "output_type": "display_data"
    },
    {
     "data": {
      "text/html": [
       "<pre style=\"white-space:pre;overflow-x:auto;line-height:normal;font-family:Menlo,'DejaVu Sans Mono',consolas,'Courier New',monospace\">action:  [-0.25900012 -0.06780354 -1.          1.        ]\n",
       "</pre>\n"
      ],
      "text/plain": [
       "action:  [-0.25900012 -0.06780354 -1.          1.        ]\n"
      ]
     },
     "metadata": {},
     "output_type": "display_data"
    },
    {
     "data": {
      "text/html": [
       "<pre style=\"white-space:pre;overflow-x:auto;line-height:normal;font-family:Menlo,'DejaVu Sans Mono',consolas,'Courier New',monospace\">position:  (0.08924166753773474, 0.09605328508915778, 0.14078137721535403)\n",
       "</pre>\n"
      ],
      "text/plain": [
       "position:  (0.08924166753773474, 0.09605328508915778, 0.14078137721535403)\n"
      ]
     },
     "metadata": {},
     "output_type": "display_data"
    },
    {
     "data": {
      "text/html": [
       "<pre style=\"white-space:pre;overflow-x:auto;line-height:normal;font-family:Menlo,'DejaVu Sans Mono',consolas,'Courier New',monospace\">jammer pos:  [10.2299043  12.30450941  5.76251045]\n",
       "</pre>\n"
      ],
      "text/plain": [
       "jammer pos:  [10.2299043  12.30450941  5.76251045]\n"
      ]
     },
     "metadata": {},
     "output_type": "display_data"
    },
    {
     "data": {
      "text/html": [
       "<pre style=\"white-space:pre;overflow-x:auto;line-height:normal;font-family:Menlo,'DejaVu Sans Mono',consolas,'Courier New',monospace\">dist:  16.836961639823073\n",
       "</pre>\n"
      ],
      "text/plain": [
       "dist:  16.836961639823073\n"
      ]
     },
     "metadata": {},
     "output_type": "display_data"
    },
    {
     "data": {
      "text/html": [
       "<pre style=\"white-space:pre;overflow-x:auto;line-height:normal;font-family:Menlo,'DejaVu Sans Mono',consolas,'Courier New',monospace\">action:  [-0.9935921 -0.4316098  1.         1.       ]\n",
       "</pre>\n"
      ],
      "text/plain": [
       "action:  [-0.9935921 -0.4316098  1.         1.       ]\n"
      ]
     },
     "metadata": {},
     "output_type": "display_data"
    },
    {
     "data": {
      "text/html": [
       "<pre style=\"white-space:pre;overflow-x:auto;line-height:normal;font-family:Menlo,'DejaVu Sans Mono',consolas,'Courier New',monospace\">position:  (0.07054075735591683, 0.07507914138211014, 0.14421456406251848)\n",
       "</pre>\n"
      ],
      "text/plain": [
       "position:  (0.07054075735591683, 0.07507914138211014, 0.14421456406251848)\n"
      ]
     },
     "metadata": {},
     "output_type": "display_data"
    },
    {
     "data": {
      "text/html": [
       "<pre style=\"white-space:pre;overflow-x:auto;line-height:normal;font-family:Menlo,'DejaVu Sans Mono',consolas,'Courier New',monospace\">jammer pos:  [10.2299043  12.30450941  5.76251045]\n",
       "</pre>\n"
      ],
      "text/plain": [
       "jammer pos:  [10.2299043  12.30450941  5.76251045]\n"
      ]
     },
     "metadata": {},
     "output_type": "display_data"
    },
    {
     "data": {
      "text/html": [
       "<pre style=\"white-space:pre;overflow-x:auto;line-height:normal;font-family:Menlo,'DejaVu Sans Mono',consolas,'Courier New',monospace\">dist:  16.8622916847652\n",
       "</pre>\n"
      ],
      "text/plain": [
       "dist:  16.8622916847652\n"
      ]
     },
     "metadata": {},
     "output_type": "display_data"
    },
    {
     "name": "stdout",
     "output_type": "stream",
     "text": [
      "-------------------------------------------\n",
      "| rollout/                |               |\n",
      "|    ep_len_mean          | 27.3          |\n",
      "|    ep_rew_mean          | -1.02e+06     |\n",
      "| time/                   |               |\n",
      "|    fps                  | 112           |\n",
      "|    iterations           | 94            |\n",
      "|    time_elapsed         | 53            |\n",
      "|    total_timesteps      | 6016          |\n",
      "| train/                  |               |\n",
      "|    approx_kl            | 1.6763806e-08 |\n",
      "|    clip_fraction        | 0             |\n",
      "|    clip_range           | 0.2           |\n",
      "|    entropy_loss         | -5.68         |\n",
      "|    explained_variance   | 0             |\n",
      "|    learning_rate        | 0.0003        |\n",
      "|    loss                 | 1.22e+11      |\n",
      "|    n_updates            | 930           |\n",
      "|    policy_gradient_loss | -2.2e-05      |\n",
      "|    std                  | 1             |\n",
      "|    value_loss           | 2.45e+11      |\n",
      "-------------------------------------------\n"
     ]
    },
    {
     "data": {
      "text/html": [
       "<pre style=\"white-space:pre;overflow-x:auto;line-height:normal;font-family:Menlo,'DejaVu Sans Mono',consolas,'Courier New',monospace\">action:  [-0.1856783  -0.30649278  0.98100305  1.        ]\n",
       "</pre>\n"
      ],
      "text/plain": [
       "action:  [-0.1856783  -0.30649278  0.98100305  1.        ]\n"
      ]
     },
     "metadata": {},
     "output_type": "display_data"
    },
    {
     "data": {
      "text/html": [
       "<pre style=\"white-space:pre;overflow-x:auto;line-height:normal;font-family:Menlo,'DejaVu Sans Mono',consolas,'Courier New',monospace\">position:  (0.06988370930212694, 0.10723599200909673, 0.10415664696549165)\n",
       "</pre>\n"
      ],
      "text/plain": [
       "position:  (0.06988370930212694, 0.10723599200909673, 0.10415664696549165)\n"
      ]
     },
     "metadata": {},
     "output_type": "display_data"
    },
    {
     "data": {
      "text/html": [
       "<pre style=\"white-space:pre;overflow-x:auto;line-height:normal;font-family:Menlo,'DejaVu Sans Mono',consolas,'Courier New',monospace\">jammer pos:  [10.2299043  12.30450941  5.76251045]\n",
       "</pre>\n"
      ],
      "text/plain": [
       "jammer pos:  [10.2299043  12.30450941  5.76251045]\n"
      ]
     },
     "metadata": {},
     "output_type": "display_data"
    },
    {
     "data": {
      "text/html": [
       "<pre style=\"white-space:pre;overflow-x:auto;line-height:normal;font-family:Menlo,'DejaVu Sans Mono',consolas,'Courier New',monospace\">dist:  16.852788045634103\n",
       "</pre>\n"
      ],
      "text/plain": [
       "dist:  16.852788045634103\n"
      ]
     },
     "metadata": {},
     "output_type": "display_data"
    },
    {
     "data": {
      "text/html": [
       "<pre style=\"white-space:pre;overflow-x:auto;line-height:normal;font-family:Menlo,'DejaVu Sans Mono',consolas,'Courier New',monospace\">action:  [-1.         0.7235616 -0.3170039  1.       ]\n",
       "</pre>\n"
      ],
      "text/plain": [
       "action:  [-1.         0.7235616 -0.3170039  1.       ]\n"
      ]
     },
     "metadata": {},
     "output_type": "display_data"
    },
    {
     "data": {
      "text/html": [
       "<pre style=\"white-space:pre;overflow-x:auto;line-height:normal;font-family:Menlo,'DejaVu Sans Mono',consolas,'Courier New',monospace\">position:  (0.09920640427096969, 0.11012952191134659, 0.12989687105843467)\n",
       "</pre>\n"
      ],
      "text/plain": [
       "position:  (0.09920640427096969, 0.11012952191134659, 0.12989687105843467)\n"
      ]
     },
     "metadata": {},
     "output_type": "display_data"
    },
    {
     "data": {
      "text/html": [
       "<pre style=\"white-space:pre;overflow-x:auto;line-height:normal;font-family:Menlo,'DejaVu Sans Mono',consolas,'Courier New',monospace\">jammer pos:  [10.2299043  12.30450941  5.76251045]\n",
       "</pre>\n"
      ],
      "text/plain": [
       "jammer pos:  [10.2299043  12.30450941  5.76251045]\n"
      ]
     },
     "metadata": {},
     "output_type": "display_data"
    },
    {
     "data": {
      "text/html": [
       "<pre style=\"white-space:pre;overflow-x:auto;line-height:normal;font-family:Menlo,'DejaVu Sans Mono',consolas,'Courier New',monospace\">dist:  16.824395274517922\n",
       "</pre>\n"
      ],
      "text/plain": [
       "dist:  16.824395274517922\n"
      ]
     },
     "metadata": {},
     "output_type": "display_data"
    },
    {
     "name": "stdout",
     "output_type": "stream",
     "text": [
      "-------------------------------------------\n",
      "| rollout/                |               |\n",
      "|    ep_len_mean          | 27.2          |\n",
      "|    ep_rew_mean          | -1.02e+06     |\n",
      "| time/                   |               |\n",
      "|    fps                  | 112           |\n",
      "|    iterations           | 95            |\n",
      "|    time_elapsed         | 53            |\n",
      "|    total_timesteps      | 6080          |\n",
      "| train/                  |               |\n",
      "|    approx_kl            | 2.7939677e-09 |\n",
      "|    clip_fraction        | 0             |\n",
      "|    clip_range           | 0.2           |\n",
      "|    entropy_loss         | -5.68         |\n",
      "|    explained_variance   | 1.19e-07      |\n",
      "|    learning_rate        | 0.0003        |\n",
      "|    loss                 | 1.74e+11      |\n",
      "|    n_updates            | 940           |\n",
      "|    policy_gradient_loss | 4.76e-06      |\n",
      "|    std                  | 1             |\n",
      "|    value_loss           | 3.48e+11      |\n",
      "-------------------------------------------\n"
     ]
    },
    {
     "data": {
      "text/html": [
       "<pre style=\"white-space:pre;overflow-x:auto;line-height:normal;font-family:Menlo,'DejaVu Sans Mono',consolas,'Courier New',monospace\">action:  [-1.3990614e-01 -2.1697657e-01 -8.5967593e-05  1.0000000e+00]\n",
       "</pre>\n"
      ],
      "text/plain": [
       "action:  [-1.3990614e-01 -2.1697657e-01 -8.5967593e-05  1.0000000e+00]\n"
      ]
     },
     "metadata": {},
     "output_type": "display_data"
    },
    {
     "data": {
      "text/html": [
       "<pre style=\"white-space:pre;overflow-x:auto;line-height:normal;font-family:Menlo,'DejaVu Sans Mono',consolas,'Courier New',monospace\">position:  (0.04078151221965456, 0.08448606935528971, 0.1200383043488847)\n",
       "</pre>\n"
      ],
      "text/plain": [
       "position:  (0.04078151221965456, 0.08448606935528971, 0.1200383043488847)\n"
      ]
     },
     "metadata": {},
     "output_type": "display_data"
    },
    {
     "data": {
      "text/html": [
       "<pre style=\"white-space:pre;overflow-x:auto;line-height:normal;font-family:Menlo,'DejaVu Sans Mono',consolas,'Courier New',monospace\">jammer pos:  [10.2299043  12.30450941  5.76251045]\n",
       "</pre>\n"
      ],
      "text/plain": [
       "jammer pos:  [10.2299043  12.30450941  5.76251045]\n"
      ]
     },
     "metadata": {},
     "output_type": "display_data"
    },
    {
     "data": {
      "text/html": [
       "<pre style=\"white-space:pre;overflow-x:auto;line-height:normal;font-family:Menlo,'DejaVu Sans Mono',consolas,'Courier New',monospace\">dist:  16.881489432470673\n",
       "</pre>\n"
      ],
      "text/plain": [
       "dist:  16.881489432470673\n"
      ]
     },
     "metadata": {},
     "output_type": "display_data"
    },
    {
     "data": {
      "text/html": [
       "<pre style=\"white-space:pre;overflow-x:auto;line-height:normal;font-family:Menlo,'DejaVu Sans Mono',consolas,'Courier New',monospace\">action:  [ 0.14291923  0.63477933 -1.          1.        ]\n",
       "</pre>\n"
      ],
      "text/plain": [
       "action:  [ 0.14291923  0.63477933 -1.          1.        ]\n"
      ]
     },
     "metadata": {},
     "output_type": "display_data"
    },
    {
     "data": {
      "text/html": [
       "<pre style=\"white-space:pre;overflow-x:auto;line-height:normal;font-family:Menlo,'DejaVu Sans Mono',consolas,'Courier New',monospace\">position:  (0.11515940846100052, 0.13112853200598332, 0.13460841661903764)\n",
       "</pre>\n"
      ],
      "text/plain": [
       "position:  (0.11515940846100052, 0.13112853200598332, 0.13460841661903764)\n"
      ]
     },
     "metadata": {},
     "output_type": "display_data"
    },
    {
     "data": {
      "text/html": [
       "<pre style=\"white-space:pre;overflow-x:auto;line-height:normal;font-family:Menlo,'DejaVu Sans Mono',consolas,'Courier New',monospace\">jammer pos:  [10.2299043  12.30450941  5.76251045]\n",
       "</pre>\n"
      ],
      "text/plain": [
       "jammer pos:  [10.2299043  12.30450941  5.76251045]\n"
      ]
     },
     "metadata": {},
     "output_type": "display_data"
    },
    {
     "data": {
      "text/html": [
       "<pre style=\"white-space:pre;overflow-x:auto;line-height:normal;font-family:Menlo,'DejaVu Sans Mono',consolas,'Courier New',monospace\">dist:  16.797992363170383\n",
       "</pre>\n"
      ],
      "text/plain": [
       "dist:  16.797992363170383\n"
      ]
     },
     "metadata": {},
     "output_type": "display_data"
    },
    {
     "data": {
      "text/html": [
       "<pre style=\"white-space:pre;overflow-x:auto;line-height:normal;font-family:Menlo,'DejaVu Sans Mono',consolas,'Courier New',monospace\">action:  [0.25977075 0.5329656  0.5629276  1.        ]\n",
       "</pre>\n"
      ],
      "text/plain": [
       "action:  [0.25977075 0.5329656  0.5629276  1.        ]\n"
      ]
     },
     "metadata": {},
     "output_type": "display_data"
    },
    {
     "data": {
      "text/html": [
       "<pre style=\"white-space:pre;overflow-x:auto;line-height:normal;font-family:Menlo,'DejaVu Sans Mono',consolas,'Courier New',monospace\">position:  (0.06523890420683638, 0.055997433484224556, 0.12755249561998502)\n",
       "</pre>\n"
      ],
      "text/plain": [
       "position:  (0.06523890420683638, 0.055997433484224556, 0.12755249561998502)\n"
      ]
     },
     "metadata": {},
     "output_type": "display_data"
    },
    {
     "data": {
      "text/html": [
       "<pre style=\"white-space:pre;overflow-x:auto;line-height:normal;font-family:Menlo,'DejaVu Sans Mono',consolas,'Courier New',monospace\">jammer pos:  [10.2299043  12.30450941  5.76251045]\n",
       "</pre>\n"
      ],
      "text/plain": [
       "jammer pos:  [10.2299043  12.30450941  5.76251045]\n"
      ]
     },
     "metadata": {},
     "output_type": "display_data"
    },
    {
     "data": {
      "text/html": [
       "<pre style=\"white-space:pre;overflow-x:auto;line-height:normal;font-family:Menlo,'DejaVu Sans Mono',consolas,'Courier New',monospace\">dist:  16.884881382716127\n",
       "</pre>\n"
      ],
      "text/plain": [
       "dist:  16.884881382716127\n"
      ]
     },
     "metadata": {},
     "output_type": "display_data"
    },
    {
     "name": "stdout",
     "output_type": "stream",
     "text": [
      "---------------------------------------\n",
      "| rollout/                |           |\n",
      "|    ep_len_mean          | 27.2      |\n",
      "|    ep_rew_mean          | -1.02e+06 |\n",
      "| time/                   |           |\n",
      "|    fps                  | 112       |\n",
      "|    iterations           | 96        |\n",
      "|    time_elapsed         | 54        |\n",
      "|    total_timesteps      | 6144      |\n",
      "| train/                  |           |\n",
      "|    approx_kl            | 0.0       |\n",
      "|    clip_fraction        | 0         |\n",
      "|    clip_range           | 0.2       |\n",
      "|    entropy_loss         | -5.68     |\n",
      "|    explained_variance   | 0         |\n",
      "|    learning_rate        | 0.0003    |\n",
      "|    loss                 | 1.31e+11  |\n",
      "|    n_updates            | 950       |\n",
      "|    policy_gradient_loss | -3.16e-06 |\n",
      "|    std                  | 1         |\n",
      "|    value_loss           | 2.61e+11  |\n",
      "---------------------------------------\n"
     ]
    },
    {
     "data": {
      "text/html": [
       "<pre style=\"white-space:pre;overflow-x:auto;line-height:normal;font-family:Menlo,'DejaVu Sans Mono',consolas,'Courier New',monospace\">action:  [ 0.14846309  0.33534354 -1.          1.        ]\n",
       "</pre>\n"
      ],
      "text/plain": [
       "action:  [ 0.14846309  0.33534354 -1.          1.        ]\n"
      ]
     },
     "metadata": {},
     "output_type": "display_data"
    },
    {
     "data": {
      "text/html": [
       "<pre style=\"white-space:pre;overflow-x:auto;line-height:normal;font-family:Menlo,'DejaVu Sans Mono',consolas,'Courier New',monospace\">position:  (0.07478253596294855, 0.06221889758682948, 0.12739506701554196)\n",
       "</pre>\n"
      ],
      "text/plain": [
       "position:  (0.07478253596294855, 0.06221889758682948, 0.12739506701554196)\n"
      ]
     },
     "metadata": {},
     "output_type": "display_data"
    },
    {
     "data": {
      "text/html": [
       "<pre style=\"white-space:pre;overflow-x:auto;line-height:normal;font-family:Menlo,'DejaVu Sans Mono',consolas,'Courier New',monospace\">jammer pos:  [10.2299043  12.30450941  5.76251045]\n",
       "</pre>\n"
      ],
      "text/plain": [
       "jammer pos:  [10.2299043  12.30450941  5.76251045]\n"
      ]
     },
     "metadata": {},
     "output_type": "display_data"
    },
    {
     "data": {
      "text/html": [
       "<pre style=\"white-space:pre;overflow-x:auto;line-height:normal;font-family:Menlo,'DejaVu Sans Mono',consolas,'Courier New',monospace\">dist:  16.874676302845867\n",
       "</pre>\n"
      ],
      "text/plain": [
       "dist:  16.874676302845867\n"
      ]
     },
     "metadata": {},
     "output_type": "display_data"
    },
    {
     "data": {
      "text/html": [
       "<pre style=\"white-space:pre;overflow-x:auto;line-height:normal;font-family:Menlo,'DejaVu Sans Mono',consolas,'Courier New',monospace\">action:  [-1.         -0.3255379   0.82809645  1.        ]\n",
       "</pre>\n"
      ],
      "text/plain": [
       "action:  [-1.         -0.3255379   0.82809645  1.        ]\n"
      ]
     },
     "metadata": {},
     "output_type": "display_data"
    },
    {
     "data": {
      "text/html": [
       "<pre style=\"white-space:pre;overflow-x:auto;line-height:normal;font-family:Menlo,'DejaVu Sans Mono',consolas,'Courier New',monospace\">position:  (0.16633272289615256, 0.2055989862103914, 0.25818924567480317)\n",
       "</pre>\n"
      ],
      "text/plain": [
       "position:  (0.16633272289615256, 0.2055989862103914, 0.25818924567480317)\n"
      ]
     },
     "metadata": {},
     "output_type": "display_data"
    },
    {
     "data": {
      "text/html": [
       "<pre style=\"white-space:pre;overflow-x:auto;line-height:normal;font-family:Menlo,'DejaVu Sans Mono',consolas,'Courier New',monospace\">jammer pos:  [10.2299043  12.30450941  5.76251045]\n",
       "</pre>\n"
      ],
      "text/plain": [
       "jammer pos:  [10.2299043  12.30450941  5.76251045]\n"
      ]
     },
     "metadata": {},
     "output_type": "display_data"
    },
    {
     "data": {
      "text/html": [
       "<pre style=\"white-space:pre;overflow-x:auto;line-height:normal;font-family:Menlo,'DejaVu Sans Mono',consolas,'Courier New',monospace\">dist:  16.67203221460811\n",
       "</pre>\n"
      ],
      "text/plain": [
       "dist:  16.67203221460811\n"
      ]
     },
     "metadata": {},
     "output_type": "display_data"
    },
    {
     "name": "stdout",
     "output_type": "stream",
     "text": [
      "---------------------------------------\n",
      "| rollout/                |           |\n",
      "|    ep_len_mean          | 27.3      |\n",
      "|    ep_rew_mean          | -1.02e+06 |\n",
      "| time/                   |           |\n",
      "|    fps                  | 112       |\n",
      "|    iterations           | 97        |\n",
      "|    time_elapsed         | 55        |\n",
      "|    total_timesteps      | 6208      |\n",
      "| train/                  |           |\n",
      "|    approx_kl            | 0.0       |\n",
      "|    clip_fraction        | 0         |\n",
      "|    clip_range           | 0.2       |\n",
      "|    entropy_loss         | -5.68     |\n",
      "|    explained_variance   | -2.38e-07 |\n",
      "|    learning_rate        | 0.0003    |\n",
      "|    loss                 | 1.77e+11  |\n",
      "|    n_updates            | 960       |\n",
      "|    policy_gradient_loss | 9.52e-07  |\n",
      "|    std                  | 1         |\n",
      "|    value_loss           | 3.54e+11  |\n",
      "---------------------------------------\n"
     ]
    },
    {
     "data": {
      "text/html": [
       "<pre style=\"white-space:pre;overflow-x:auto;line-height:normal;font-family:Menlo,'DejaVu Sans Mono',consolas,'Courier New',monospace\">action:  [ 0.3237706  1.        -1.         1.       ]\n",
       "</pre>\n"
      ],
      "text/plain": [
       "action:  [ 0.3237706  1.        -1.         1.       ]\n"
      ]
     },
     "metadata": {},
     "output_type": "display_data"
    },
    {
     "data": {
      "text/html": [
       "<pre style=\"white-space:pre;overflow-x:auto;line-height:normal;font-family:Menlo,'DejaVu Sans Mono',consolas,'Courier New',monospace\">position:  (0.13499286584221135, 0.1639957437380946, 0.18635128512807872)\n",
       "</pre>\n"
      ],
      "text/plain": [
       "position:  (0.13499286584221135, 0.1639957437380946, 0.18635128512807872)\n"
      ]
     },
     "metadata": {},
     "output_type": "display_data"
    },
    {
     "data": {
      "text/html": [
       "<pre style=\"white-space:pre;overflow-x:auto;line-height:normal;font-family:Menlo,'DejaVu Sans Mono',consolas,'Courier New',monospace\">jammer pos:  [10.2299043  12.30450941  5.76251045]\n",
       "</pre>\n"
      ],
      "text/plain": [
       "jammer pos:  [10.2299043  12.30450941  5.76251045]\n"
      ]
     },
     "metadata": {},
     "output_type": "display_data"
    },
    {
     "data": {
      "text/html": [
       "<pre style=\"white-space:pre;overflow-x:auto;line-height:normal;font-family:Menlo,'DejaVu Sans Mono',consolas,'Courier New',monospace\">dist:  16.74493535043819\n",
       "</pre>\n"
      ],
      "text/plain": [
       "dist:  16.74493535043819\n"
      ]
     },
     "metadata": {},
     "output_type": "display_data"
    },
    {
     "name": "stdout",
     "output_type": "stream",
     "text": [
      "-------------------------------------------\n",
      "| rollout/                |               |\n",
      "|    ep_len_mean          | 27.4          |\n",
      "|    ep_rew_mean          | -1.02e+06     |\n",
      "| time/                   |               |\n",
      "|    fps                  | 113           |\n",
      "|    iterations           | 98            |\n",
      "|    time_elapsed         | 55            |\n",
      "|    total_timesteps      | 6272          |\n",
      "| train/                  |               |\n",
      "|    approx_kl            | 1.8626451e-09 |\n",
      "|    clip_fraction        | 0             |\n",
      "|    clip_range           | 0.2           |\n",
      "|    entropy_loss         | -5.68         |\n",
      "|    explained_variance   | 2.38e-07      |\n",
      "|    learning_rate        | 0.0003        |\n",
      "|    loss                 | 1.31e+11      |\n",
      "|    n_updates            | 970           |\n",
      "|    policy_gradient_loss | -1.65e-05     |\n",
      "|    std                  | 1             |\n",
      "|    value_loss           | 2.63e+11      |\n",
      "-------------------------------------------\n"
     ]
    },
    {
     "data": {
      "text/html": [
       "<pre style=\"white-space:pre;overflow-x:auto;line-height:normal;font-family:Menlo,'DejaVu Sans Mono',consolas,'Courier New',monospace\">action:  [ 1.        1.       -0.879849  1.      ]\n",
       "</pre>\n"
      ],
      "text/plain": [
       "action:  [ 1.        1.       -0.879849  1.      ]\n"
      ]
     },
     "metadata": {},
     "output_type": "display_data"
    },
    {
     "data": {
      "text/html": [
       "<pre style=\"white-space:pre;overflow-x:auto;line-height:normal;font-family:Menlo,'DejaVu Sans Mono',consolas,'Courier New',monospace\">position:  (0.18671289690201298, 0.23685674770435297, 0.2803077721255307)\n",
       "</pre>\n"
      ],
      "text/plain": [
       "position:  (0.18671289690201298, 0.23685674770435297, 0.2803077721255307)\n"
      ]
     },
     "metadata": {},
     "output_type": "display_data"
    },
    {
     "data": {
      "text/html": [
       "<pre style=\"white-space:pre;overflow-x:auto;line-height:normal;font-family:Menlo,'DejaVu Sans Mono',consolas,'Courier New',monospace\">jammer pos:  [10.2299043  12.30450941  5.76251045]\n",
       "</pre>\n"
      ],
      "text/plain": [
       "jammer pos:  [10.2299043  12.30450941  5.76251045]\n"
      ]
     },
     "metadata": {},
     "output_type": "display_data"
    },
    {
     "data": {
      "text/html": [
       "<pre style=\"white-space:pre;overflow-x:auto;line-height:normal;font-family:Menlo,'DejaVu Sans Mono',consolas,'Courier New',monospace\">dist:  16.62974685473928\n",
       "</pre>\n"
      ],
      "text/plain": [
       "dist:  16.62974685473928\n"
      ]
     },
     "metadata": {},
     "output_type": "display_data"
    },
    {
     "data": {
      "text/html": [
       "<pre style=\"white-space:pre;overflow-x:auto;line-height:normal;font-family:Menlo,'DejaVu Sans Mono',consolas,'Courier New',monospace\">action:  [-0.11895921  0.98898715 -0.11426762  1.        ]\n",
       "</pre>\n"
      ],
      "text/plain": [
       "action:  [-0.11895921  0.98898715 -0.11426762  1.        ]\n"
      ]
     },
     "metadata": {},
     "output_type": "display_data"
    },
    {
     "data": {
      "text/html": [
       "<pre style=\"white-space:pre;overflow-x:auto;line-height:normal;font-family:Menlo,'DejaVu Sans Mono',consolas,'Courier New',monospace\">position:  (0.1348742826450643, 0.16810333565967053, 0.18074855151712407)\n",
       "</pre>\n"
      ],
      "text/plain": [
       "position:  (0.1348742826450643, 0.16810333565967053, 0.18074855151712407)\n"
      ]
     },
     "metadata": {},
     "output_type": "display_data"
    },
    {
     "data": {
      "text/html": [
       "<pre style=\"white-space:pre;overflow-x:auto;line-height:normal;font-family:Menlo,'DejaVu Sans Mono',consolas,'Courier New',monospace\">jammer pos:  [10.2299043  12.30450941  5.76251045]\n",
       "</pre>\n"
      ],
      "text/plain": [
       "jammer pos:  [10.2299043  12.30450941  5.76251045]\n"
      ]
     },
     "metadata": {},
     "output_type": "display_data"
    },
    {
     "data": {
      "text/html": [
       "<pre style=\"white-space:pre;overflow-x:auto;line-height:normal;font-family:Menlo,'DejaVu Sans Mono',consolas,'Courier New',monospace\">dist:  16.74389588053505\n",
       "</pre>\n"
      ],
      "text/plain": [
       "dist:  16.74389588053505\n"
      ]
     },
     "metadata": {},
     "output_type": "display_data"
    },
    {
     "name": "stdout",
     "output_type": "stream",
     "text": [
      "------------------------------------------\n",
      "| rollout/                |              |\n",
      "|    ep_len_mean          | 27.6         |\n",
      "|    ep_rew_mean          | -1.02e+06    |\n",
      "| time/                   |              |\n",
      "|    fps                  | 113          |\n",
      "|    iterations           | 99           |\n",
      "|    time_elapsed         | 55           |\n",
      "|    total_timesteps      | 6336         |\n",
      "| train/                  |              |\n",
      "|    approx_kl            | 4.656613e-08 |\n",
      "|    clip_fraction        | 0            |\n",
      "|    clip_range           | 0.2          |\n",
      "|    entropy_loss         | -5.68        |\n",
      "|    explained_variance   | 0            |\n",
      "|    learning_rate        | 0.0003       |\n",
      "|    loss                 | 6.59e+10     |\n",
      "|    n_updates            | 980          |\n",
      "|    policy_gradient_loss | -2.86e-05    |\n",
      "|    std                  | 1            |\n",
      "|    value_loss           | 1.32e+11     |\n",
      "------------------------------------------\n"
     ]
    },
    {
     "data": {
      "text/html": [
       "<pre style=\"white-space:pre;overflow-x:auto;line-height:normal;font-family:Menlo,'DejaVu Sans Mono',consolas,'Courier New',monospace\">action:  [-1.         -0.38662252 -0.92589235  1.        ]\n",
       "</pre>\n"
      ],
      "text/plain": [
       "action:  [-1.         -0.38662252 -0.92589235  1.        ]\n"
      ]
     },
     "metadata": {},
     "output_type": "display_data"
    },
    {
     "data": {
      "text/html": [
       "<pre style=\"white-space:pre;overflow-x:auto;line-height:normal;font-family:Menlo,'DejaVu Sans Mono',consolas,'Courier New',monospace\">position:  (0.15784765920495128, 0.18499492538872286, 0.21609857289536485)\n",
       "</pre>\n"
      ],
      "text/plain": [
       "position:  (0.15784765920495128, 0.18499492538872286, 0.21609857289536485)\n"
      ]
     },
     "metadata": {},
     "output_type": "display_data"
    },
    {
     "data": {
      "text/html": [
       "<pre style=\"white-space:pre;overflow-x:auto;line-height:normal;font-family:Menlo,'DejaVu Sans Mono',consolas,'Courier New',monospace\">jammer pos:  [10.2299043  12.30450941  5.76251045]\n",
       "</pre>\n"
      ],
      "text/plain": [
       "jammer pos:  [10.2299043  12.30450941  5.76251045]\n"
      ]
     },
     "metadata": {},
     "output_type": "display_data"
    },
    {
     "data": {
      "text/html": [
       "<pre style=\"white-space:pre;overflow-x:auto;line-height:normal;font-family:Menlo,'DejaVu Sans Mono',consolas,'Courier New',monospace\">dist:  16.706036063135688\n",
       "</pre>\n"
      ],
      "text/plain": [
       "dist:  16.706036063135688\n"
      ]
     },
     "metadata": {},
     "output_type": "display_data"
    },
    {
     "data": {
      "text/html": [
       "<pre style=\"white-space:pre;overflow-x:auto;line-height:normal;font-family:Menlo,'DejaVu Sans Mono',consolas,'Courier New',monospace\">action:  [-0.24685578  0.4826571   0.96039295  1.        ]\n",
       "</pre>\n"
      ],
      "text/plain": [
       "action:  [-0.24685578  0.4826571   0.96039295  1.        ]\n"
      ]
     },
     "metadata": {},
     "output_type": "display_data"
    },
    {
     "data": {
      "text/html": [
       "<pre style=\"white-space:pre;overflow-x:auto;line-height:normal;font-family:Menlo,'DejaVu Sans Mono',consolas,'Courier New',monospace\">position:  (0.10275946533190301, 0.09734110657584209, 0.13963889990064624)\n",
       "</pre>\n"
      ],
      "text/plain": [
       "position:  (0.10275946533190301, 0.09734110657584209, 0.13963889990064624)\n"
      ]
     },
     "metadata": {},
     "output_type": "display_data"
    },
    {
     "data": {
      "text/html": [
       "<pre style=\"white-space:pre;overflow-x:auto;line-height:normal;font-family:Menlo,'DejaVu Sans Mono',consolas,'Courier New',monospace\">jammer pos:  [10.2299043  12.30450941  5.76251045]\n",
       "</pre>\n"
      ],
      "text/plain": [
       "jammer pos:  [10.2299043  12.30450941  5.76251045]\n"
      ]
     },
     "metadata": {},
     "output_type": "display_data"
    },
    {
     "data": {
      "text/html": [
       "<pre style=\"white-space:pre;overflow-x:auto;line-height:normal;font-family:Menlo,'DejaVu Sans Mono',consolas,'Courier New',monospace\">dist:  16.82827100070579\n",
       "</pre>\n"
      ],
      "text/plain": [
       "dist:  16.82827100070579\n"
      ]
     },
     "metadata": {},
     "output_type": "display_data"
    },
    {
     "data": {
      "text/html": [
       "<pre style=\"white-space:pre;overflow-x:auto;line-height:normal;font-family:Menlo,'DejaVu Sans Mono',consolas,'Courier New',monospace\">action:  [-0.7357884 -1.        -1.         1.       ]\n",
       "</pre>\n"
      ],
      "text/plain": [
       "action:  [-0.7357884 -1.        -1.         1.       ]\n"
      ]
     },
     "metadata": {},
     "output_type": "display_data"
    },
    {
     "data": {
      "text/html": [
       "<pre style=\"white-space:pre;overflow-x:auto;line-height:normal;font-family:Menlo,'DejaVu Sans Mono',consolas,'Courier New',monospace\">position:  (0.07944203142541864, 0.07920098733179504, 0.08491717786950646)\n",
       "</pre>\n"
      ],
      "text/plain": [
       "position:  (0.07944203142541864, 0.07920098733179504, 0.08491717786950646)\n"
      ]
     },
     "metadata": {},
     "output_type": "display_data"
    },
    {
     "data": {
      "text/html": [
       "<pre style=\"white-space:pre;overflow-x:auto;line-height:normal;font-family:Menlo,'DejaVu Sans Mono',consolas,'Courier New',monospace\">jammer pos:  [10.2299043  12.30450941  5.76251045]\n",
       "</pre>\n"
      ],
      "text/plain": [
       "jammer pos:  [10.2299043  12.30450941  5.76251045]\n"
      ]
     },
     "metadata": {},
     "output_type": "display_data"
    },
    {
     "data": {
      "text/html": [
       "<pre style=\"white-space:pre;overflow-x:auto;line-height:normal;font-family:Menlo,'DejaVu Sans Mono',consolas,'Courier New',monospace\">dist:  16.873799677986515\n",
       "</pre>\n"
      ],
      "text/plain": [
       "dist:  16.873799677986515\n"
      ]
     },
     "metadata": {},
     "output_type": "display_data"
    },
    {
     "name": "stdout",
     "output_type": "stream",
     "text": [
      "------------------------------------------\n",
      "| rollout/                |              |\n",
      "|    ep_len_mean          | 27.6         |\n",
      "|    ep_rew_mean          | -1.02e+06    |\n",
      "| time/                   |              |\n",
      "|    fps                  | 113          |\n",
      "|    iterations           | 100          |\n",
      "|    time_elapsed         | 56           |\n",
      "|    total_timesteps      | 6400         |\n",
      "| train/                  |              |\n",
      "|    approx_kl            | 5.401671e-08 |\n",
      "|    clip_fraction        | 0            |\n",
      "|    clip_range           | 0.2          |\n",
      "|    entropy_loss         | -5.68        |\n",
      "|    explained_variance   | 0            |\n",
      "|    learning_rate        | 0.0003       |\n",
      "|    loss                 | 9.35e+10     |\n",
      "|    n_updates            | 990          |\n",
      "|    policy_gradient_loss | -2.74e-05    |\n",
      "|    std                  | 1            |\n",
      "|    value_loss           | 1.87e+11     |\n",
      "------------------------------------------\n"
     ]
    },
    {
     "data": {
      "text/html": [
       "<pre style=\"white-space:pre;overflow-x:auto;line-height:normal;font-family:Menlo,'DejaVu Sans Mono',consolas,'Courier New',monospace\">action:  [-0.26068783 -0.10564818 -0.23591132  1.        ]\n",
       "</pre>\n"
      ],
      "text/plain": [
       "action:  [-0.26068783 -0.10564818 -0.23591132  1.        ]\n"
      ]
     },
     "metadata": {},
     "output_type": "display_data"
    },
    {
     "data": {
      "text/html": [
       "<pre style=\"white-space:pre;overflow-x:auto;line-height:normal;font-family:Menlo,'DejaVu Sans Mono',consolas,'Courier New',monospace\">position:  (0.0557785599097467, 0.09498655267367606, 0.14179412652177492)\n",
       "</pre>\n"
      ],
      "text/plain": [
       "position:  (0.0557785599097467, 0.09498655267367606, 0.14179412652177492)\n"
      ]
     },
     "metadata": {},
     "output_type": "display_data"
    },
    {
     "data": {
      "text/html": [
       "<pre style=\"white-space:pre;overflow-x:auto;line-height:normal;font-family:Menlo,'DejaVu Sans Mono',consolas,'Courier New',monospace\">jammer pos:  [10.2299043  12.30450941  5.76251045]\n",
       "</pre>\n"
      ],
      "text/plain": [
       "jammer pos:  [10.2299043  12.30450941  5.76251045]\n"
      ]
     },
     "metadata": {},
     "output_type": "display_data"
    },
    {
     "data": {
      "text/html": [
       "<pre style=\"white-space:pre;overflow-x:auto;line-height:normal;font-family:Menlo,'DejaVu Sans Mono',consolas,'Courier New',monospace\">dist:  16.857572034001013\n",
       "</pre>\n"
      ],
      "text/plain": [
       "dist:  16.857572034001013\n"
      ]
     },
     "metadata": {},
     "output_type": "display_data"
    },
    {
     "data": {
      "text/html": [
       "<pre style=\"white-space:pre;overflow-x:auto;line-height:normal;font-family:Menlo,'DejaVu Sans Mono',consolas,'Courier New',monospace\">action:  [ 0.89920807  0.18608971 -0.55230844  1.        ]\n",
       "</pre>\n"
      ],
      "text/plain": [
       "action:  [ 0.89920807  0.18608971 -0.55230844  1.        ]\n"
      ]
     },
     "metadata": {},
     "output_type": "display_data"
    },
    {
     "data": {
      "text/html": [
       "<pre style=\"white-space:pre;overflow-x:auto;line-height:normal;font-family:Menlo,'DejaVu Sans Mono',consolas,'Courier New',monospace\">position:  (0.056633277549248115, 0.0444346230461507, 0.1025924136286973)\n",
       "</pre>\n"
      ],
      "text/plain": [
       "position:  (0.056633277549248115, 0.0444346230461507, 0.1025924136286973)\n"
      ]
     },
     "metadata": {},
     "output_type": "display_data"
    },
    {
     "data": {
      "text/html": [
       "<pre style=\"white-space:pre;overflow-x:auto;line-height:normal;font-family:Menlo,'DejaVu Sans Mono',consolas,'Courier New',monospace\">jammer pos:  [10.2299043  12.30450941  5.76251045]\n",
       "</pre>\n"
      ],
      "text/plain": [
       "jammer pos:  [10.2299043  12.30450941  5.76251045]\n"
      ]
     },
     "metadata": {},
     "output_type": "display_data"
    },
    {
     "data": {
      "text/html": [
       "<pre style=\"white-space:pre;overflow-x:auto;line-height:normal;font-family:Menlo,'DejaVu Sans Mono',consolas,'Courier New',monospace\">dist:  16.906790031519623\n",
       "</pre>\n"
      ],
      "text/plain": [
       "dist:  16.906790031519623\n"
      ]
     },
     "metadata": {},
     "output_type": "display_data"
    },
    {
     "data": {
      "text/html": [
       "<pre style=\"white-space:pre;overflow-x:auto;line-height:normal;font-family:Menlo,'DejaVu Sans Mono',consolas,'Courier New',monospace\">action:  [ 0.22211888  0.16198693 -0.2966265   1.        ]\n",
       "</pre>\n"
      ],
      "text/plain": [
       "action:  [ 0.22211888  0.16198693 -0.2966265   1.        ]\n"
      ]
     },
     "metadata": {},
     "output_type": "display_data"
    },
    {
     "data": {
      "text/html": [
       "<pre style=\"white-space:pre;overflow-x:auto;line-height:normal;font-family:Menlo,'DejaVu Sans Mono',consolas,'Courier New',monospace\">position:  (0.09011176943007221, 0.06635515786479038, 0.1284236634390881)\n",
       "</pre>\n"
      ],
      "text/plain": [
       "position:  (0.09011176943007221, 0.06635515786479038, 0.1284236634390881)\n"
      ]
     },
     "metadata": {},
     "output_type": "display_data"
    },
    {
     "data": {
      "text/html": [
       "<pre style=\"white-space:pre;overflow-x:auto;line-height:normal;font-family:Menlo,'DejaVu Sans Mono',consolas,'Courier New',monospace\">jammer pos:  [10.2299043  12.30450941  5.76251045]\n",
       "</pre>\n"
      ],
      "text/plain": [
       "jammer pos:  [10.2299043  12.30450941  5.76251045]\n"
      ]
     },
     "metadata": {},
     "output_type": "display_data"
    },
    {
     "data": {
      "text/html": [
       "<pre style=\"white-space:pre;overflow-x:auto;line-height:normal;font-family:Menlo,'DejaVu Sans Mono',consolas,'Courier New',monospace\">dist:  16.862109769958504\n",
       "</pre>\n"
      ],
      "text/plain": [
       "dist:  16.862109769958504\n"
      ]
     },
     "metadata": {},
     "output_type": "display_data"
    },
    {
     "name": "stdout",
     "output_type": "stream",
     "text": [
      "-------------------------------------------\n",
      "| rollout/                |               |\n",
      "|    ep_len_mean          | 27.5          |\n",
      "|    ep_rew_mean          | -1.02e+06     |\n",
      "| time/                   |               |\n",
      "|    fps                  | 113           |\n",
      "|    iterations           | 101           |\n",
      "|    time_elapsed         | 57            |\n",
      "|    total_timesteps      | 6464          |\n",
      "| train/                  |               |\n",
      "|    approx_kl            | 5.3085387e-08 |\n",
      "|    clip_fraction        | 0             |\n",
      "|    clip_range           | 0.2           |\n",
      "|    entropy_loss         | -5.68         |\n",
      "|    explained_variance   | 0             |\n",
      "|    learning_rate        | 0.0003        |\n",
      "|    loss                 | 1.75e+11      |\n",
      "|    n_updates            | 1000          |\n",
      "|    policy_gradient_loss | -3.27e-05     |\n",
      "|    std                  | 1             |\n",
      "|    value_loss           | 3.49e+11      |\n",
      "-------------------------------------------\n"
     ]
    },
    {
     "data": {
      "text/html": [
       "<pre style=\"white-space:pre;overflow-x:auto;line-height:normal;font-family:Menlo,'DejaVu Sans Mono',consolas,'Courier New',monospace\">action:  [-0.7682467  -0.23164915  0.34511766  1.        ]\n",
       "</pre>\n"
      ],
      "text/plain": [
       "action:  [-0.7682467  -0.23164915  0.34511766  1.        ]\n"
      ]
     },
     "metadata": {},
     "output_type": "display_data"
    },
    {
     "data": {
      "text/html": [
       "<pre style=\"white-space:pre;overflow-x:auto;line-height:normal;font-family:Menlo,'DejaVu Sans Mono',consolas,'Courier New',monospace\">position:  (0.08158794561004956, 0.06573573397314163, 0.1255902916793131)\n",
       "</pre>\n"
      ],
      "text/plain": [
       "position:  (0.08158794561004956, 0.06573573397314163, 0.1255902916793131)\n"
      ]
     },
     "metadata": {},
     "output_type": "display_data"
    },
    {
     "data": {
      "text/html": [
       "<pre style=\"white-space:pre;overflow-x:auto;line-height:normal;font-family:Menlo,'DejaVu Sans Mono',consolas,'Courier New',monospace\">jammer pos:  [10.2299043  12.30450941  5.76251045]\n",
       "</pre>\n"
      ],
      "text/plain": [
       "jammer pos:  [10.2299043  12.30450941  5.76251045]\n"
      ]
     },
     "metadata": {},
     "output_type": "display_data"
    },
    {
     "data": {
      "text/html": [
       "<pre style=\"white-space:pre;overflow-x:auto;line-height:normal;font-family:Menlo,'DejaVu Sans Mono',consolas,'Courier New',monospace\">dist:  16.86863286418472\n",
       "</pre>\n"
      ],
      "text/plain": [
       "dist:  16.86863286418472\n"
      ]
     },
     "metadata": {},
     "output_type": "display_data"
    },
    {
     "data": {
      "text/html": [
       "<pre style=\"white-space:pre;overflow-x:auto;line-height:normal;font-family:Menlo,'DejaVu Sans Mono',consolas,'Courier New',monospace\">action:  [ 0.26156437 -0.11777961  0.79684526  1.        ]\n",
       "</pre>\n"
      ],
      "text/plain": [
       "action:  [ 0.26156437 -0.11777961  0.79684526  1.        ]\n"
      ]
     },
     "metadata": {},
     "output_type": "display_data"
    },
    {
     "data": {
      "text/html": [
       "<pre style=\"white-space:pre;overflow-x:auto;line-height:normal;font-family:Menlo,'DejaVu Sans Mono',consolas,'Courier New',monospace\">position:  (0.1274625603672372, 0.10184950194987291, 0.1558846724165024)\n",
       "</pre>\n"
      ],
      "text/plain": [
       "position:  (0.1274625603672372, 0.10184950194987291, 0.1558846724165024)\n"
      ]
     },
     "metadata": {},
     "output_type": "display_data"
    },
    {
     "data": {
      "text/html": [
       "<pre style=\"white-space:pre;overflow-x:auto;line-height:normal;font-family:Menlo,'DejaVu Sans Mono',consolas,'Courier New',monospace\">jammer pos:  [10.2299043  12.30450941  5.76251045]\n",
       "</pre>\n"
      ],
      "text/plain": [
       "jammer pos:  [10.2299043  12.30450941  5.76251045]\n"
      ]
     },
     "metadata": {},
     "output_type": "display_data"
    },
    {
     "data": {
      "text/html": [
       "<pre style=\"white-space:pre;overflow-x:auto;line-height:normal;font-family:Menlo,'DejaVu Sans Mono',consolas,'Courier New',monospace\">dist:  16.804716315898617\n",
       "</pre>\n"
      ],
      "text/plain": [
       "dist:  16.804716315898617\n"
      ]
     },
     "metadata": {},
     "output_type": "display_data"
    },
    {
     "name": "stdout",
     "output_type": "stream",
     "text": [
      "-------------------------------------------\n",
      "| rollout/                |               |\n",
      "|    ep_len_mean          | 27.5          |\n",
      "|    ep_rew_mean          | -1.02e+06     |\n",
      "| time/                   |               |\n",
      "|    fps                  | 113           |\n",
      "|    iterations           | 102           |\n",
      "|    time_elapsed         | 57            |\n",
      "|    total_timesteps      | 6528          |\n",
      "| train/                  |               |\n",
      "|    approx_kl            | 2.4214387e-08 |\n",
      "|    clip_fraction        | 0             |\n",
      "|    clip_range           | 0.2           |\n",
      "|    entropy_loss         | -5.68         |\n",
      "|    explained_variance   | -1.19e-07     |\n",
      "|    learning_rate        | 0.0003        |\n",
      "|    loss                 | 1.87e+11      |\n",
      "|    n_updates            | 1010          |\n",
      "|    policy_gradient_loss | -2e-05        |\n",
      "|    std                  | 1             |\n",
      "|    value_loss           | 3.73e+11      |\n",
      "-------------------------------------------\n"
     ]
    },
    {
     "data": {
      "text/html": [
       "<pre style=\"white-space:pre;overflow-x:auto;line-height:normal;font-family:Menlo,'DejaVu Sans Mono',consolas,'Courier New',monospace\">action:  [ 1.         -0.11350342 -0.2859777   1.        ]\n",
       "</pre>\n"
      ],
      "text/plain": [
       "action:  [ 1.         -0.11350342 -0.2859777   1.        ]\n"
      ]
     },
     "metadata": {},
     "output_type": "display_data"
    },
    {
     "data": {
      "text/html": [
       "<pre style=\"white-space:pre;overflow-x:auto;line-height:normal;font-family:Menlo,'DejaVu Sans Mono',consolas,'Courier New',monospace\">position:  (0.10178117356728125, 0.11214400292912396, 0.1194879477291337)\n",
       "</pre>\n"
      ],
      "text/plain": [
       "position:  (0.10178117356728125, 0.11214400292912396, 0.1194879477291337)\n"
      ]
     },
     "metadata": {},
     "output_type": "display_data"
    },
    {
     "data": {
      "text/html": [
       "<pre style=\"white-space:pre;overflow-x:auto;line-height:normal;font-family:Menlo,'DejaVu Sans Mono',consolas,'Courier New',monospace\">jammer pos:  [10.2299043  12.30450941  5.76251045]\n",
       "</pre>\n"
      ],
      "text/plain": [
       "jammer pos:  [10.2299043  12.30450941  5.76251045]\n"
      ]
     },
     "metadata": {},
     "output_type": "display_data"
    },
    {
     "data": {
      "text/html": [
       "<pre style=\"white-space:pre;overflow-x:auto;line-height:normal;font-family:Menlo,'DejaVu Sans Mono',consolas,'Courier New',monospace\">dist:  16.824873109742345\n",
       "</pre>\n"
      ],
      "text/plain": [
       "dist:  16.824873109742345\n"
      ]
     },
     "metadata": {},
     "output_type": "display_data"
    },
    {
     "data": {
      "text/html": [
       "<pre style=\"white-space:pre;overflow-x:auto;line-height:normal;font-family:Menlo,'DejaVu Sans Mono',consolas,'Courier New',monospace\">action:  [1.         0.5047123  0.26530588 1.        ]\n",
       "</pre>\n"
      ],
      "text/plain": [
       "action:  [1.         0.5047123  0.26530588 1.        ]\n"
      ]
     },
     "metadata": {},
     "output_type": "display_data"
    },
    {
     "data": {
      "text/html": [
       "<pre style=\"white-space:pre;overflow-x:auto;line-height:normal;font-family:Menlo,'DejaVu Sans Mono',consolas,'Courier New',monospace\">position:  (0.1270109275692123, 0.09592525603808856, 0.13688117050485882)\n",
       "</pre>\n"
      ],
      "text/plain": [
       "position:  (0.1270109275692123, 0.09592525603808856, 0.13688117050485882)\n"
      ]
     },
     "metadata": {},
     "output_type": "display_data"
    },
    {
     "data": {
      "text/html": [
       "<pre style=\"white-space:pre;overflow-x:auto;line-height:normal;font-family:Menlo,'DejaVu Sans Mono',consolas,'Courier New',monospace\">jammer pos:  [10.2299043  12.30450941  5.76251045]\n",
       "</pre>\n"
      ],
      "text/plain": [
       "jammer pos:  [10.2299043  12.30450941  5.76251045]\n"
      ]
     },
     "metadata": {},
     "output_type": "display_data"
    },
    {
     "data": {
      "text/html": [
       "<pre style=\"white-space:pre;overflow-x:auto;line-height:normal;font-family:Menlo,'DejaVu Sans Mono',consolas,'Courier New',monospace\">dist:  16.815638145583428\n",
       "</pre>\n"
      ],
      "text/plain": [
       "dist:  16.815638145583428\n"
      ]
     },
     "metadata": {},
     "output_type": "display_data"
    },
    {
     "name": "stdout",
     "output_type": "stream",
     "text": [
      "------------------------------------------\n",
      "| rollout/                |              |\n",
      "|    ep_len_mean          | 27.6         |\n",
      "|    ep_rew_mean          | -1.02e+06    |\n",
      "| time/                   |              |\n",
      "|    fps                  | 113          |\n",
      "|    iterations           | 103          |\n",
      "|    time_elapsed         | 57           |\n",
      "|    total_timesteps      | 6592         |\n",
      "| train/                  |              |\n",
      "|    approx_kl            | 9.313226e-10 |\n",
      "|    clip_fraction        | 0            |\n",
      "|    clip_range           | 0.2          |\n",
      "|    entropy_loss         | -5.68        |\n",
      "|    explained_variance   | 0            |\n",
      "|    learning_rate        | 0.0003       |\n",
      "|    loss                 | 1.29e+11     |\n",
      "|    n_updates            | 1020         |\n",
      "|    policy_gradient_loss | -4.51e-06    |\n",
      "|    std                  | 1            |\n",
      "|    value_loss           | 2.59e+11     |\n",
      "------------------------------------------\n"
     ]
    },
    {
     "data": {
      "text/html": [
       "<pre style=\"white-space:pre;overflow-x:auto;line-height:normal;font-family:Menlo,'DejaVu Sans Mono',consolas,'Courier New',monospace\">action:  [1.         0.65126514 1.         1.        ]\n",
       "</pre>\n"
      ],
      "text/plain": [
       "action:  [1.         0.65126514 1.         1.        ]\n"
      ]
     },
     "metadata": {},
     "output_type": "display_data"
    },
    {
     "data": {
      "text/html": [
       "<pre style=\"white-space:pre;overflow-x:auto;line-height:normal;font-family:Menlo,'DejaVu Sans Mono',consolas,'Courier New',monospace\">position:  (0.3940814285070432, 0.3710513445810746, 0.3506074407997423)\n",
       "</pre>\n"
      ],
      "text/plain": [
       "position:  (0.3940814285070432, 0.3710513445810746, 0.3506074407997423)\n"
      ]
     },
     "metadata": {},
     "output_type": "display_data"
    },
    {
     "data": {
      "text/html": [
       "<pre style=\"white-space:pre;overflow-x:auto;line-height:normal;font-family:Menlo,'DejaVu Sans Mono',consolas,'Courier New',monospace\">jammer pos:  [10.2299043  12.30450941  5.76251045]\n",
       "</pre>\n"
      ],
      "text/plain": [
       "jammer pos:  [10.2299043  12.30450941  5.76251045]\n"
      ]
     },
     "metadata": {},
     "output_type": "display_data"
    },
    {
     "data": {
      "text/html": [
       "<pre style=\"white-space:pre;overflow-x:auto;line-height:normal;font-family:Menlo,'DejaVu Sans Mono',consolas,'Courier New',monospace\">dist:  16.38412423825951\n",
       "</pre>\n"
      ],
      "text/plain": [
       "dist:  16.38412423825951\n"
      ]
     },
     "metadata": {},
     "output_type": "display_data"
    },
    {
     "name": "stdout",
     "output_type": "stream",
     "text": [
      "-------------------------------------------\n",
      "| rollout/                |               |\n",
      "|    ep_len_mean          | 27.9          |\n",
      "|    ep_rew_mean          | -1.02e+06     |\n",
      "| time/                   |               |\n",
      "|    fps                  | 114           |\n",
      "|    iterations           | 104           |\n",
      "|    time_elapsed         | 58            |\n",
      "|    total_timesteps      | 6656          |\n",
      "| train/                  |               |\n",
      "|    approx_kl            | 5.5879354e-09 |\n",
      "|    clip_fraction        | 0             |\n",
      "|    clip_range           | 0.2           |\n",
      "|    entropy_loss         | -5.68         |\n",
      "|    explained_variance   | 0             |\n",
      "|    learning_rate        | 0.0003        |\n",
      "|    loss                 | 1.15e+11      |\n",
      "|    n_updates            | 1030          |\n",
      "|    policy_gradient_loss | -8.63e-06     |\n",
      "|    std                  | 1             |\n",
      "|    value_loss           | 2.3e+11       |\n",
      "-------------------------------------------\n"
     ]
    },
    {
     "data": {
      "text/html": [
       "<pre style=\"white-space:pre;overflow-x:auto;line-height:normal;font-family:Menlo,'DejaVu Sans Mono',consolas,'Courier New',monospace\">action:  [0.08664329 1.         0.12679186 1.        ]\n",
       "</pre>\n"
      ],
      "text/plain": [
       "action:  [0.08664329 1.         0.12679186 1.        ]\n"
      ]
     },
     "metadata": {},
     "output_type": "display_data"
    },
    {
     "data": {
      "text/html": [
       "<pre style=\"white-space:pre;overflow-x:auto;line-height:normal;font-family:Menlo,'DejaVu Sans Mono',consolas,'Courier New',monospace\">position:  (0.47961505625318435, 0.4150735970483831, 0.32833348411081026)\n",
       "</pre>\n"
      ],
      "text/plain": [
       "position:  (0.47961505625318435, 0.4150735970483831, 0.32833348411081026)\n"
      ]
     },
     "metadata": {},
     "output_type": "display_data"
    },
    {
     "data": {
      "text/html": [
       "<pre style=\"white-space:pre;overflow-x:auto;line-height:normal;font-family:Menlo,'DejaVu Sans Mono',consolas,'Courier New',monospace\">jammer pos:  [10.2299043  12.30450941  5.76251045]\n",
       "</pre>\n"
      ],
      "text/plain": [
       "jammer pos:  [10.2299043  12.30450941  5.76251045]\n"
      ]
     },
     "metadata": {},
     "output_type": "display_data"
    },
    {
     "data": {
      "text/html": [
       "<pre style=\"white-space:pre;overflow-x:auto;line-height:normal;font-family:Menlo,'DejaVu Sans Mono',consolas,'Courier New',monospace\">dist:  16.308191300675198\n",
       "</pre>\n"
      ],
      "text/plain": [
       "dist:  16.308191300675198\n"
      ]
     },
     "metadata": {},
     "output_type": "display_data"
    },
    {
     "data": {
      "text/html": [
       "<pre style=\"white-space:pre;overflow-x:auto;line-height:normal;font-family:Menlo,'DejaVu Sans Mono',consolas,'Courier New',monospace\">action:  [ 0.69166815 -0.6587509   0.7517836   1.        ]\n",
       "</pre>\n"
      ],
      "text/plain": [
       "action:  [ 0.69166815 -0.6587509   0.7517836   1.        ]\n"
      ]
     },
     "metadata": {},
     "output_type": "display_data"
    },
    {
     "data": {
      "text/html": [
       "<pre style=\"white-space:pre;overflow-x:auto;line-height:normal;font-family:Menlo,'DejaVu Sans Mono',consolas,'Courier New',monospace\">position:  (0.11328419248030878, 0.08056953627319682, 0.12126563410019814)\n",
       "</pre>\n"
      ],
      "text/plain": [
       "position:  (0.11328419248030878, 0.08056953627319682, 0.12126563410019814)\n"
      ]
     },
     "metadata": {},
     "output_type": "display_data"
    },
    {
     "data": {
      "text/html": [
       "<pre style=\"white-space:pre;overflow-x:auto;line-height:normal;font-family:Menlo,'DejaVu Sans Mono',consolas,'Courier New',monospace\">jammer pos:  [10.2299043  12.30450941  5.76251045]\n",
       "</pre>\n"
      ],
      "text/plain": [
       "jammer pos:  [10.2299043  12.30450941  5.76251045]\n"
      ]
     },
     "metadata": {},
     "output_type": "display_data"
    },
    {
     "data": {
      "text/html": [
       "<pre style=\"white-space:pre;overflow-x:auto;line-height:normal;font-family:Menlo,'DejaVu Sans Mono',consolas,'Courier New',monospace\">dist:  16.84025983834662\n",
       "</pre>\n"
      ],
      "text/plain": [
       "dist:  16.84025983834662\n"
      ]
     },
     "metadata": {},
     "output_type": "display_data"
    },
    {
     "data": {
      "text/html": [
       "<pre style=\"white-space:pre;overflow-x:auto;line-height:normal;font-family:Menlo,'DejaVu Sans Mono',consolas,'Courier New',monospace\">action:  [-1.         -0.12055079  1.          1.        ]\n",
       "</pre>\n"
      ],
      "text/plain": [
       "action:  [-1.         -0.12055079  1.          1.        ]\n"
      ]
     },
     "metadata": {},
     "output_type": "display_data"
    },
    {
     "data": {
      "text/html": [
       "<pre style=\"white-space:pre;overflow-x:auto;line-height:normal;font-family:Menlo,'DejaVu Sans Mono',consolas,'Courier New',monospace\">position:  (0.06905506076158227, 0.06767527439393577, 0.09155593664389367)\n",
       "</pre>\n"
      ],
      "text/plain": [
       "position:  (0.06905506076158227, 0.06767527439393577, 0.09155593664389367)\n"
      ]
     },
     "metadata": {},
     "output_type": "display_data"
    },
    {
     "data": {
      "text/html": [
       "<pre style=\"white-space:pre;overflow-x:auto;line-height:normal;font-family:Menlo,'DejaVu Sans Mono',consolas,'Courier New',monospace\">jammer pos:  [10.2299043  12.30450941  5.76251045]\n",
       "</pre>\n"
      ],
      "text/plain": [
       "jammer pos:  [10.2299043  12.30450941  5.76251045]\n"
      ]
     },
     "metadata": {},
     "output_type": "display_data"
    },
    {
     "data": {
      "text/html": [
       "<pre style=\"white-space:pre;overflow-x:auto;line-height:normal;font-family:Menlo,'DejaVu Sans Mono',consolas,'Courier New',monospace\">dist:  16.886168657550048\n",
       "</pre>\n"
      ],
      "text/plain": [
       "dist:  16.886168657550048\n"
      ]
     },
     "metadata": {},
     "output_type": "display_data"
    },
    {
     "name": "stdout",
     "output_type": "stream",
     "text": [
      "-------------------------------------------\n",
      "| rollout/                |               |\n",
      "|    ep_len_mean          | 28            |\n",
      "|    ep_rew_mean          | -1.02e+06     |\n",
      "| time/                   |               |\n",
      "|    fps                  | 114           |\n",
      "|    iterations           | 105           |\n",
      "|    time_elapsed         | 58            |\n",
      "|    total_timesteps      | 6720          |\n",
      "| train/                  |               |\n",
      "|    approx_kl            | 1.6763806e-08 |\n",
      "|    clip_fraction        | 0             |\n",
      "|    clip_range           | 0.2           |\n",
      "|    entropy_loss         | -5.68         |\n",
      "|    explained_variance   | 0             |\n",
      "|    learning_rate        | 0.0003        |\n",
      "|    loss                 | 6.54e+10      |\n",
      "|    n_updates            | 1040          |\n",
      "|    policy_gradient_loss | -1.78e-05     |\n",
      "|    std                  | 1             |\n",
      "|    value_loss           | 1.31e+11      |\n",
      "-------------------------------------------\n"
     ]
    },
    {
     "data": {
      "text/html": [
       "<pre style=\"white-space:pre;overflow-x:auto;line-height:normal;font-family:Menlo,'DejaVu Sans Mono',consolas,'Courier New',monospace\">action:  [1.         0.28547448 1.         1.        ]\n",
       "</pre>\n"
      ],
      "text/plain": [
       "action:  [1.         0.28547448 1.         1.        ]\n"
      ]
     },
     "metadata": {},
     "output_type": "display_data"
    },
    {
     "data": {
      "text/html": [
       "<pre style=\"white-space:pre;overflow-x:auto;line-height:normal;font-family:Menlo,'DejaVu Sans Mono',consolas,'Courier New',monospace\">position:  (0.05337328454307124, 0.07265694967303114, 0.10911846539872377)\n",
       "</pre>\n"
      ],
      "text/plain": [
       "position:  (0.05337328454307124, 0.07265694967303114, 0.10911846539872377)\n"
      ]
     },
     "metadata": {},
     "output_type": "display_data"
    },
    {
     "data": {
      "text/html": [
       "<pre style=\"white-space:pre;overflow-x:auto;line-height:normal;font-family:Menlo,'DejaVu Sans Mono',consolas,'Courier New',monospace\">jammer pos:  [10.2299043  12.30450941  5.76251045]\n",
       "</pre>\n"
      ],
      "text/plain": [
       "jammer pos:  [10.2299043  12.30450941  5.76251045]\n"
      ]
     },
     "metadata": {},
     "output_type": "display_data"
    },
    {
     "data": {
      "text/html": [
       "<pre style=\"white-space:pre;overflow-x:auto;line-height:normal;font-family:Menlo,'DejaVu Sans Mono',consolas,'Courier New',monospace\">dist:  16.886113791073107\n",
       "</pre>\n"
      ],
      "text/plain": [
       "dist:  16.886113791073107\n"
      ]
     },
     "metadata": {},
     "output_type": "display_data"
    },
    {
     "data": {
      "text/html": [
       "<pre style=\"white-space:pre;overflow-x:auto;line-height:normal;font-family:Menlo,'DejaVu Sans Mono',consolas,'Courier New',monospace\">action:  [ 1.          0.5094778  -0.27269337  1.        ]\n",
       "</pre>\n"
      ],
      "text/plain": [
       "action:  [ 1.          0.5094778  -0.27269337  1.        ]\n"
      ]
     },
     "metadata": {},
     "output_type": "display_data"
    },
    {
     "data": {
      "text/html": [
       "<pre style=\"white-space:pre;overflow-x:auto;line-height:normal;font-family:Menlo,'DejaVu Sans Mono',consolas,'Courier New',monospace\">position:  (0.10389842561567054, 0.11121281611718499, 0.1569396671338848)\n",
       "</pre>\n"
      ],
      "text/plain": [
       "position:  (0.10389842561567054, 0.11121281611718499, 0.1569396671338848)\n"
      ]
     },
     "metadata": {},
     "output_type": "display_data"
    },
    {
     "data": {
      "text/html": [
       "<pre style=\"white-space:pre;overflow-x:auto;line-height:normal;font-family:Menlo,'DejaVu Sans Mono',consolas,'Courier New',monospace\">jammer pos:  [10.2299043  12.30450941  5.76251045]\n",
       "</pre>\n"
      ],
      "text/plain": [
       "jammer pos:  [10.2299043  12.30450941  5.76251045]\n"
      ]
     },
     "metadata": {},
     "output_type": "display_data"
    },
    {
     "data": {
      "text/html": [
       "<pre style=\"white-space:pre;overflow-x:auto;line-height:normal;font-family:Menlo,'DejaVu Sans Mono',consolas,'Courier New',monospace\">dist:  16.811748883147967\n",
       "</pre>\n"
      ],
      "text/plain": [
       "dist:  16.811748883147967\n"
      ]
     },
     "metadata": {},
     "output_type": "display_data"
    },
    {
     "name": "stdout",
     "output_type": "stream",
     "text": [
      "------------------------------------------\n",
      "| rollout/                |              |\n",
      "|    ep_len_mean          | 28           |\n",
      "|    ep_rew_mean          | -1.02e+06    |\n",
      "| time/                   |              |\n",
      "|    fps                  | 114          |\n",
      "|    iterations           | 106          |\n",
      "|    time_elapsed         | 59           |\n",
      "|    total_timesteps      | 6784         |\n",
      "| train/                  |              |\n",
      "|    approx_kl            | 5.029142e-08 |\n",
      "|    clip_fraction        | 0            |\n",
      "|    clip_range           | 0.2          |\n",
      "|    entropy_loss         | -5.68        |\n",
      "|    explained_variance   | 0            |\n",
      "|    learning_rate        | 0.0003       |\n",
      "|    loss                 | 1.88e+11     |\n",
      "|    n_updates            | 1050         |\n",
      "|    policy_gradient_loss | -4.62e-05    |\n",
      "|    std                  | 1            |\n",
      "|    value_loss           | 3.76e+11     |\n",
      "------------------------------------------\n"
     ]
    },
    {
     "data": {
      "text/html": [
       "<pre style=\"white-space:pre;overflow-x:auto;line-height:normal;font-family:Menlo,'DejaVu Sans Mono',consolas,'Courier New',monospace\">action:  [0.58100855 0.79602176 0.26728898 1.        ]\n",
       "</pre>\n"
      ],
      "text/plain": [
       "action:  [0.58100855 0.79602176 0.26728898 1.        ]\n"
      ]
     },
     "metadata": {},
     "output_type": "display_data"
    },
    {
     "data": {
      "text/html": [
       "<pre style=\"white-space:pre;overflow-x:auto;line-height:normal;font-family:Menlo,'DejaVu Sans Mono',consolas,'Courier New',monospace\">position:  (0.06474567449813784, 0.09285332572423553, 0.11654452661877948)\n",
       "</pre>\n"
      ],
      "text/plain": [
       "position:  (0.06474567449813784, 0.09285332572423553, 0.11654452661877948)\n"
      ]
     },
     "metadata": {},
     "output_type": "display_data"
    },
    {
     "data": {
      "text/html": [
       "<pre style=\"white-space:pre;overflow-x:auto;line-height:normal;font-family:Menlo,'DejaVu Sans Mono',consolas,'Courier New',monospace\">jammer pos:  [10.2299043  12.30450941  5.76251045]\n",
       "</pre>\n"
      ],
      "text/plain": [
       "jammer pos:  [10.2299043  12.30450941  5.76251045]\n"
      ]
     },
     "metadata": {},
     "output_type": "display_data"
    },
    {
     "data": {
      "text/html": [
       "<pre style=\"white-space:pre;overflow-x:auto;line-height:normal;font-family:Menlo,'DejaVu Sans Mono',consolas,'Courier New',monospace\">dist:  16.86214474271087\n",
       "</pre>\n"
      ],
      "text/plain": [
       "dist:  16.86214474271087\n"
      ]
     },
     "metadata": {},
     "output_type": "display_data"
    },
    {
     "data": {
      "text/html": [
       "<pre style=\"white-space:pre;overflow-x:auto;line-height:normal;font-family:Menlo,'DejaVu Sans Mono',consolas,'Courier New',monospace\">action:  [0.2679822  0.55556893 0.57769316 1.        ]\n",
       "</pre>\n"
      ],
      "text/plain": [
       "action:  [0.2679822  0.55556893 0.57769316 1.        ]\n"
      ]
     },
     "metadata": {},
     "output_type": "display_data"
    },
    {
     "data": {
      "text/html": [
       "<pre style=\"white-space:pre;overflow-x:auto;line-height:normal;font-family:Menlo,'DejaVu Sans Mono',consolas,'Courier New',monospace\">position:  (0.07785425113709728, 0.06820932241378574, 0.11824781350987056)\n",
       "</pre>\n"
      ],
      "text/plain": [
       "position:  (0.07785425113709728, 0.06820932241378574, 0.11824781350987056)\n"
      ]
     },
     "metadata": {},
     "output_type": "display_data"
    },
    {
     "data": {
      "text/html": [
       "<pre style=\"white-space:pre;overflow-x:auto;line-height:normal;font-family:Menlo,'DejaVu Sans Mono',consolas,'Courier New',monospace\">jammer pos:  [10.2299043  12.30450941  5.76251045]\n",
       "</pre>\n"
      ],
      "text/plain": [
       "jammer pos:  [10.2299043  12.30450941  5.76251045]\n"
      ]
     },
     "metadata": {},
     "output_type": "display_data"
    },
    {
     "data": {
      "text/html": [
       "<pre style=\"white-space:pre;overflow-x:auto;line-height:normal;font-family:Menlo,'DejaVu Sans Mono',consolas,'Courier New',monospace\">dist:  16.87153996087525\n",
       "</pre>\n"
      ],
      "text/plain": [
       "dist:  16.87153996087525\n"
      ]
     },
     "metadata": {},
     "output_type": "display_data"
    },
    {
     "data": {
      "text/html": [
       "<pre style=\"white-space:pre;overflow-x:auto;line-height:normal;font-family:Menlo,'DejaVu Sans Mono',consolas,'Courier New',monospace\">action:  [-0.63832766  1.         -1.          1.        ]\n",
       "</pre>\n"
      ],
      "text/plain": [
       "action:  [-0.63832766  1.         -1.          1.        ]\n"
      ]
     },
     "metadata": {},
     "output_type": "display_data"
    },
    {
     "data": {
      "text/html": [
       "<pre style=\"white-space:pre;overflow-x:auto;line-height:normal;font-family:Menlo,'DejaVu Sans Mono',consolas,'Courier New',monospace\">position:  (0.06133297529436424, 0.06286806296918912, 0.11323682153950518)\n",
       "</pre>\n"
      ],
      "text/plain": [
       "position:  (0.06133297529436424, 0.06286806296918912, 0.11323682153950518)\n"
      ]
     },
     "metadata": {},
     "output_type": "display_data"
    },
    {
     "data": {
      "text/html": [
       "<pre style=\"white-space:pre;overflow-x:auto;line-height:normal;font-family:Menlo,'DejaVu Sans Mono',consolas,'Courier New',monospace\">jammer pos:  [10.2299043  12.30450941  5.76251045]\n",
       "</pre>\n"
      ],
      "text/plain": [
       "jammer pos:  [10.2299043  12.30450941  5.76251045]\n"
      ]
     },
     "metadata": {},
     "output_type": "display_data"
    },
    {
     "data": {
      "text/html": [
       "<pre style=\"white-space:pre;overflow-x:auto;line-height:normal;font-family:Menlo,'DejaVu Sans Mono',consolas,'Courier New',monospace\">dist:  16.887034023113994\n",
       "</pre>\n"
      ],
      "text/plain": [
       "dist:  16.887034023113994\n"
      ]
     },
     "metadata": {},
     "output_type": "display_data"
    },
    {
     "name": "stdout",
     "output_type": "stream",
     "text": [
      "------------------------------------------\n",
      "| rollout/                |              |\n",
      "|    ep_len_mean          | 27.8         |\n",
      "|    ep_rew_mean          | -1.02e+06    |\n",
      "| time/                   |              |\n",
      "|    fps                  | 114          |\n",
      "|    iterations           | 107          |\n",
      "|    time_elapsed         | 60           |\n",
      "|    total_timesteps      | 6848         |\n",
      "| train/                  |              |\n",
      "|    approx_kl            | 9.313226e-09 |\n",
      "|    clip_fraction        | 0            |\n",
      "|    clip_range           | 0.2          |\n",
      "|    entropy_loss         | -5.68        |\n",
      "|    explained_variance   | -2.38e-07    |\n",
      "|    learning_rate        | 0.0003       |\n",
      "|    loss                 | 1.31e+11     |\n",
      "|    n_updates            | 1060         |\n",
      "|    policy_gradient_loss | 2.49e-06     |\n",
      "|    std                  | 1            |\n",
      "|    value_loss           | 2.61e+11     |\n",
      "------------------------------------------\n"
     ]
    },
    {
     "data": {
      "text/html": [
       "<pre style=\"white-space:pre;overflow-x:auto;line-height:normal;font-family:Menlo,'DejaVu Sans Mono',consolas,'Courier New',monospace\">action:  [-0.05626591  1.          0.5264245   1.        ]\n",
       "</pre>\n"
      ],
      "text/plain": [
       "action:  [-0.05626591  1.          0.5264245   1.        ]\n"
      ]
     },
     "metadata": {},
     "output_type": "display_data"
    },
    {
     "data": {
      "text/html": [
       "<pre style=\"white-space:pre;overflow-x:auto;line-height:normal;font-family:Menlo,'DejaVu Sans Mono',consolas,'Courier New',monospace\">position:  (0.06265361429089703, 0.07689306151832986, 0.11378755355361225)\n",
       "</pre>\n"
      ],
      "text/plain": [
       "position:  (0.06265361429089703, 0.07689306151832986, 0.11378755355361225)\n"
      ]
     },
     "metadata": {},
     "output_type": "display_data"
    },
    {
     "data": {
      "text/html": [
       "<pre style=\"white-space:pre;overflow-x:auto;line-height:normal;font-family:Menlo,'DejaVu Sans Mono',consolas,'Courier New',monospace\">jammer pos:  [10.2299043  12.30450941  5.76251045]\n",
       "</pre>\n"
      ],
      "text/plain": [
       "jammer pos:  [10.2299043  12.30450941  5.76251045]\n"
      ]
     },
     "metadata": {},
     "output_type": "display_data"
    },
    {
     "data": {
      "text/html": [
       "<pre style=\"white-space:pre;overflow-x:auto;line-height:normal;font-family:Menlo,'DejaVu Sans Mono',consolas,'Courier New',monospace\">dist:  16.875889853465836\n",
       "</pre>\n"
      ],
      "text/plain": [
       "dist:  16.875889853465836\n"
      ]
     },
     "metadata": {},
     "output_type": "display_data"
    },
    {
     "data": {
      "text/html": [
       "<pre style=\"white-space:pre;overflow-x:auto;line-height:normal;font-family:Menlo,'DejaVu Sans Mono',consolas,'Courier New',monospace\">action:  [ 0.15346606 -0.18690677  1.          1.        ]\n",
       "</pre>\n"
      ],
      "text/plain": [
       "action:  [ 0.15346606 -0.18690677  1.          1.        ]\n"
      ]
     },
     "metadata": {},
     "output_type": "display_data"
    },
    {
     "data": {
      "text/html": [
       "<pre style=\"white-space:pre;overflow-x:auto;line-height:normal;font-family:Menlo,'DejaVu Sans Mono',consolas,'Courier New',monospace\">position:  (0.09187392595205533, 0.09633229326305248, 0.1338156536830109)\n",
       "</pre>\n"
      ],
      "text/plain": [
       "position:  (0.09187392595205533, 0.09633229326305248, 0.1338156536830109)\n"
      ]
     },
     "metadata": {},
     "output_type": "display_data"
    },
    {
     "data": {
      "text/html": [
       "<pre style=\"white-space:pre;overflow-x:auto;line-height:normal;font-family:Menlo,'DejaVu Sans Mono',consolas,'Courier New',monospace\">jammer pos:  [10.2299043  12.30450941  5.76251045]\n",
       "</pre>\n"
      ],
      "text/plain": [
       "jammer pos:  [10.2299043  12.30450941  5.76251045]\n"
      ]
     },
     "metadata": {},
     "output_type": "display_data"
    },
    {
     "data": {
      "text/html": [
       "<pre style=\"white-space:pre;overflow-x:auto;line-height:normal;font-family:Menlo,'DejaVu Sans Mono',consolas,'Courier New',monospace\">dist:  16.837501400227413\n",
       "</pre>\n"
      ],
      "text/plain": [
       "dist:  16.837501400227413\n"
      ]
     },
     "metadata": {},
     "output_type": "display_data"
    },
    {
     "name": "stdout",
     "output_type": "stream",
     "text": [
      "-------------------------------------------\n",
      "| rollout/                |               |\n",
      "|    ep_len_mean          | 27.8          |\n",
      "|    ep_rew_mean          | -1.02e+06     |\n",
      "| time/                   |               |\n",
      "|    fps                  | 114           |\n",
      "|    iterations           | 108           |\n",
      "|    time_elapsed         | 60            |\n",
      "|    total_timesteps      | 6912          |\n",
      "| train/                  |               |\n",
      "|    approx_kl            | 1.8626451e-09 |\n",
      "|    clip_fraction        | 0             |\n",
      "|    clip_range           | 0.2           |\n",
      "|    entropy_loss         | -5.68         |\n",
      "|    explained_variance   | 0             |\n",
      "|    learning_rate        | 0.0003        |\n",
      "|    loss                 | 1.82e+11      |\n",
      "|    n_updates            | 1070          |\n",
      "|    policy_gradient_loss | -1.17e-05     |\n",
      "|    std                  | 1             |\n",
      "|    value_loss           | 3.64e+11      |\n",
      "-------------------------------------------\n"
     ]
    },
    {
     "data": {
      "text/html": [
       "<pre style=\"white-space:pre;overflow-x:auto;line-height:normal;font-family:Menlo,'DejaVu Sans Mono',consolas,'Courier New',monospace\">action:  [-0.53435206 -0.5501185  -0.37329325  1.        ]\n",
       "</pre>\n"
      ],
      "text/plain": [
       "action:  [-0.53435206 -0.5501185  -0.37329325  1.        ]\n"
      ]
     },
     "metadata": {},
     "output_type": "display_data"
    },
    {
     "data": {
      "text/html": [
       "<pre style=\"white-space:pre;overflow-x:auto;line-height:normal;font-family:Menlo,'DejaVu Sans Mono',consolas,'Courier New',monospace\">position:  (0.09720255733283577, 0.0925649648714053, 0.11562246093962983)\n",
       "</pre>\n"
      ],
      "text/plain": [
       "position:  (0.09720255733283577, 0.0925649648714053, 0.11562246093962983)\n"
      ]
     },
     "metadata": {},
     "output_type": "display_data"
    },
    {
     "data": {
      "text/html": [
       "<pre style=\"white-space:pre;overflow-x:auto;line-height:normal;font-family:Menlo,'DejaVu Sans Mono',consolas,'Courier New',monospace\">jammer pos:  [10.2299043  12.30450941  5.76251045]\n",
       "</pre>\n"
      ],
      "text/plain": [
       "jammer pos:  [10.2299043  12.30450941  5.76251045]\n"
      ]
     },
     "metadata": {},
     "output_type": "display_data"
    },
    {
     "data": {
      "text/html": [
       "<pre style=\"white-space:pre;overflow-x:auto;line-height:normal;font-family:Menlo,'DejaVu Sans Mono',consolas,'Courier New',monospace\">dist:  16.843116564687723\n",
       "</pre>\n"
      ],
      "text/plain": [
       "dist:  16.843116564687723\n"
      ]
     },
     "metadata": {},
     "output_type": "display_data"
    },
    {
     "data": {
      "text/html": [
       "<pre style=\"white-space:pre;overflow-x:auto;line-height:normal;font-family:Menlo,'DejaVu Sans Mono',consolas,'Courier New',monospace\">action:  [-0.88317    0.8954697  0.5345828  1.       ]\n",
       "</pre>\n"
      ],
      "text/plain": [
       "action:  [-0.88317    0.8954697  0.5345828  1.       ]\n"
      ]
     },
     "metadata": {},
     "output_type": "display_data"
    },
    {
     "data": {
      "text/html": [
       "<pre style=\"white-space:pre;overflow-x:auto;line-height:normal;font-family:Menlo,'DejaVu Sans Mono',consolas,'Courier New',monospace\">position:  (0.052940749093325544, 0.04322476418454421, 0.1167649153356076)\n",
       "</pre>\n"
      ],
      "text/plain": [
       "position:  (0.052940749093325544, 0.04322476418454421, 0.1167649153356076)\n"
      ]
     },
     "metadata": {},
     "output_type": "display_data"
    },
    {
     "data": {
      "text/html": [
       "<pre style=\"white-space:pre;overflow-x:auto;line-height:normal;font-family:Menlo,'DejaVu Sans Mono',consolas,'Courier New',monospace\">jammer pos:  [10.2299043  12.30450941  5.76251045]\n",
       "</pre>\n"
      ],
      "text/plain": [
       "jammer pos:  [10.2299043  12.30450941  5.76251045]\n"
      ]
     },
     "metadata": {},
     "output_type": "display_data"
    },
    {
     "data": {
      "text/html": [
       "<pre style=\"white-space:pre;overflow-x:auto;line-height:normal;font-family:Menlo,'DejaVu Sans Mono',consolas,'Courier New',monospace\">dist:  16.90515101493602\n",
       "</pre>\n"
      ],
      "text/plain": [
       "dist:  16.90515101493602\n"
      ]
     },
     "metadata": {},
     "output_type": "display_data"
    },
    {
     "data": {
      "text/html": [
       "<pre style=\"white-space:pre;overflow-x:auto;line-height:normal;font-family:Menlo,'DejaVu Sans Mono',consolas,'Courier New',monospace\">action:  [-1.         -1.         -0.16895704  1.        ]\n",
       "</pre>\n"
      ],
      "text/plain": [
       "action:  [-1.         -1.         -0.16895704  1.        ]\n"
      ]
     },
     "metadata": {},
     "output_type": "display_data"
    },
    {
     "data": {
      "text/html": [
       "<pre style=\"white-space:pre;overflow-x:auto;line-height:normal;font-family:Menlo,'DejaVu Sans Mono',consolas,'Courier New',monospace\">position:  (0.10892993608748014, 0.07599559095589731, 0.1281248129454782)\n",
       "</pre>\n"
      ],
      "text/plain": [
       "position:  (0.10892993608748014, 0.07599559095589731, 0.1281248129454782)\n"
      ]
     },
     "metadata": {},
     "output_type": "display_data"
    },
    {
     "data": {
      "text/html": [
       "<pre style=\"white-space:pre;overflow-x:auto;line-height:normal;font-family:Menlo,'DejaVu Sans Mono',consolas,'Courier New',monospace\">jammer pos:  [10.2299043  12.30450941  5.76251045]\n",
       "</pre>\n"
      ],
      "text/plain": [
       "jammer pos:  [10.2299043  12.30450941  5.76251045]\n"
      ]
     },
     "metadata": {},
     "output_type": "display_data"
    },
    {
     "data": {
      "text/html": [
       "<pre style=\"white-space:pre;overflow-x:auto;line-height:normal;font-family:Menlo,'DejaVu Sans Mono',consolas,'Courier New',monospace\">dist:  16.84390019319284\n",
       "</pre>\n"
      ],
      "text/plain": [
       "dist:  16.84390019319284\n"
      ]
     },
     "metadata": {},
     "output_type": "display_data"
    },
    {
     "name": "stdout",
     "output_type": "stream",
     "text": [
      "-------------------------------------------\n",
      "| rollout/                |               |\n",
      "|    ep_len_mean          | 27.6          |\n",
      "|    ep_rew_mean          | -1.02e+06     |\n",
      "| time/                   |               |\n",
      "|    fps                  | 114           |\n",
      "|    iterations           | 109           |\n",
      "|    time_elapsed         | 61            |\n",
      "|    total_timesteps      | 6976          |\n",
      "| train/                  |               |\n",
      "|    approx_kl            | 2.7939677e-09 |\n",
      "|    clip_fraction        | 0             |\n",
      "|    clip_range           | 0.2           |\n",
      "|    entropy_loss         | -5.68         |\n",
      "|    explained_variance   | 0             |\n",
      "|    learning_rate        | 0.0003        |\n",
      "|    loss                 | 1.26e+11      |\n",
      "|    n_updates            | 1080          |\n",
      "|    policy_gradient_loss | -4.73e-06     |\n",
      "|    std                  | 1             |\n",
      "|    value_loss           | 2.53e+11      |\n",
      "-------------------------------------------\n"
     ]
    },
    {
     "data": {
      "text/html": [
       "<pre style=\"white-space:pre;overflow-x:auto;line-height:normal;font-family:Menlo,'DejaVu Sans Mono',consolas,'Courier New',monospace\">action:  [ 0.9280462   0.40528682 -0.21482612  1.        ]\n",
       "</pre>\n"
      ],
      "text/plain": [
       "action:  [ 0.9280462   0.40528682 -0.21482612  1.        ]\n"
      ]
     },
     "metadata": {},
     "output_type": "display_data"
    },
    {
     "data": {
      "text/html": [
       "<pre style=\"white-space:pre;overflow-x:auto;line-height:normal;font-family:Menlo,'DejaVu Sans Mono',consolas,'Courier New',monospace\">position:  (0.1332760706673422, 0.1863669555988414, 0.2523356005321133)\n",
       "</pre>\n"
      ],
      "text/plain": [
       "position:  (0.1332760706673422, 0.1863669555988414, 0.2523356005321133)\n"
      ]
     },
     "metadata": {},
     "output_type": "display_data"
    },
    {
     "data": {
      "text/html": [
       "<pre style=\"white-space:pre;overflow-x:auto;line-height:normal;font-family:Menlo,'DejaVu Sans Mono',consolas,'Courier New',monospace\">jammer pos:  [10.2299043  12.30450941  5.76251045]\n",
       "</pre>\n"
      ],
      "text/plain": [
       "jammer pos:  [10.2299043  12.30450941  5.76251045]\n"
      ]
     },
     "metadata": {},
     "output_type": "display_data"
    },
    {
     "data": {
      "text/html": [
       "<pre style=\"white-space:pre;overflow-x:auto;line-height:normal;font-family:Menlo,'DejaVu Sans Mono',consolas,'Courier New',monospace\">dist:  16.70788152137314\n",
       "</pre>\n"
      ],
      "text/plain": [
       "dist:  16.70788152137314\n"
      ]
     },
     "metadata": {},
     "output_type": "display_data"
    },
    {
     "data": {
      "text/html": [
       "<pre style=\"white-space:pre;overflow-x:auto;line-height:normal;font-family:Menlo,'DejaVu Sans Mono',consolas,'Courier New',monospace\">action:  [ 0.26992255 -0.18133147  0.9624833   1.        ]\n",
       "</pre>\n"
      ],
      "text/plain": [
       "action:  [ 0.26992255 -0.18133147  0.9624833   1.        ]\n"
      ]
     },
     "metadata": {},
     "output_type": "display_data"
    },
    {
     "data": {
      "text/html": [
       "<pre style=\"white-space:pre;overflow-x:auto;line-height:normal;font-family:Menlo,'DejaVu Sans Mono',consolas,'Courier New',monospace\">position:  (0.048229852655472916, 0.056682019735879795, 0.10421975016731096)\n",
       "</pre>\n"
      ],
      "text/plain": [
       "position:  (0.048229852655472916, 0.056682019735879795, 0.10421975016731096)\n"
      ]
     },
     "metadata": {},
     "output_type": "display_data"
    },
    {
     "data": {
      "text/html": [
       "<pre style=\"white-space:pre;overflow-x:auto;line-height:normal;font-family:Menlo,'DejaVu Sans Mono',consolas,'Courier New',monospace\">jammer pos:  [10.2299043  12.30450941  5.76251045]\n",
       "</pre>\n"
      ],
      "text/plain": [
       "jammer pos:  [10.2299043  12.30450941  5.76251045]\n"
      ]
     },
     "metadata": {},
     "output_type": "display_data"
    },
    {
     "data": {
      "text/html": [
       "<pre style=\"white-space:pre;overflow-x:auto;line-height:normal;font-family:Menlo,'DejaVu Sans Mono',consolas,'Courier New',monospace\">dist:  16.90242656812475\n",
       "</pre>\n"
      ],
      "text/plain": [
       "dist:  16.90242656812475\n"
      ]
     },
     "metadata": {},
     "output_type": "display_data"
    },
    {
     "name": "stdout",
     "output_type": "stream",
     "text": [
      "-------------------------------------------\n",
      "| rollout/                |               |\n",
      "|    ep_len_mean          | 27.5          |\n",
      "|    ep_rew_mean          | -1.02e+06     |\n",
      "| time/                   |               |\n",
      "|    fps                  | 113           |\n",
      "|    iterations           | 110           |\n",
      "|    time_elapsed         | 61            |\n",
      "|    total_timesteps      | 7040          |\n",
      "| train/                  |               |\n",
      "|    approx_kl            | 2.2351742e-08 |\n",
      "|    clip_fraction        | 0             |\n",
      "|    clip_range           | 0.2           |\n",
      "|    entropy_loss         | -5.68         |\n",
      "|    explained_variance   | 5.96e-08      |\n",
      "|    learning_rate        | 0.0003        |\n",
      "|    loss                 | 1.55e+11      |\n",
      "|    n_updates            | 1090          |\n",
      "|    policy_gradient_loss | -4.34e-05     |\n",
      "|    std                  | 1             |\n",
      "|    value_loss           | 3.11e+11      |\n",
      "-------------------------------------------\n"
     ]
    },
    {
     "data": {
      "text/html": [
       "<pre style=\"white-space:pre;overflow-x:auto;line-height:normal;font-family:Menlo,'DejaVu Sans Mono',consolas,'Courier New',monospace\">action:  [ 0.95254093  0.08772749 -0.26903343  1.        ]\n",
       "</pre>\n"
      ],
      "text/plain": [
       "action:  [ 0.95254093  0.08772749 -0.26903343  1.        ]\n"
      ]
     },
     "metadata": {},
     "output_type": "display_data"
    },
    {
     "data": {
      "text/html": [
       "<pre style=\"white-space:pre;overflow-x:auto;line-height:normal;font-family:Menlo,'DejaVu Sans Mono',consolas,'Courier New',monospace\">position:  (0.10583793160849708, 0.12436572950220656, 0.12442594853289071)\n",
       "</pre>\n"
      ],
      "text/plain": [
       "position:  (0.10583793160849708, 0.12436572950220656, 0.12442594853289071)\n"
      ]
     },
     "metadata": {},
     "output_type": "display_data"
    },
    {
     "data": {
      "text/html": [
       "<pre style=\"white-space:pre;overflow-x:auto;line-height:normal;font-family:Menlo,'DejaVu Sans Mono',consolas,'Courier New',monospace\">jammer pos:  [10.2299043  12.30450941  5.76251045]\n",
       "</pre>\n"
      ],
      "text/plain": [
       "jammer pos:  [10.2299043  12.30450941  5.76251045]\n"
      ]
     },
     "metadata": {},
     "output_type": "display_data"
    },
    {
     "data": {
      "text/html": [
       "<pre style=\"white-space:pre;overflow-x:auto;line-height:normal;font-family:Menlo,'DejaVu Sans Mono',consolas,'Courier New',monospace\">dist:  16.811918887176933\n",
       "</pre>\n"
      ],
      "text/plain": [
       "dist:  16.811918887176933\n"
      ]
     },
     "metadata": {},
     "output_type": "display_data"
    },
    {
     "data": {
      "text/html": [
       "<pre style=\"white-space:pre;overflow-x:auto;line-height:normal;font-family:Menlo,'DejaVu Sans Mono',consolas,'Courier New',monospace\">action:  [-0.5519509  -0.49603775  0.70092946  1.        ]\n",
       "</pre>\n"
      ],
      "text/plain": [
       "action:  [-0.5519509  -0.49603775  0.70092946  1.        ]\n"
      ]
     },
     "metadata": {},
     "output_type": "display_data"
    },
    {
     "data": {
      "text/html": [
       "<pre style=\"white-space:pre;overflow-x:auto;line-height:normal;font-family:Menlo,'DejaVu Sans Mono',consolas,'Courier New',monospace\">position:  (0.06528068238809931, 0.08118087106269858, 0.12253882658305838)\n",
       "</pre>\n"
      ],
      "text/plain": [
       "position:  (0.06528068238809931, 0.08118087106269858, 0.12253882658305838)\n"
      ]
     },
     "metadata": {},
     "output_type": "display_data"
    },
    {
     "data": {
      "text/html": [
       "<pre style=\"white-space:pre;overflow-x:auto;line-height:normal;font-family:Menlo,'DejaVu Sans Mono',consolas,'Courier New',monospace\">jammer pos:  [10.2299043  12.30450941  5.76251045]\n",
       "</pre>\n"
      ],
      "text/plain": [
       "jammer pos:  [10.2299043  12.30450941  5.76251045]\n"
      ]
     },
     "metadata": {},
     "output_type": "display_data"
    },
    {
     "data": {
      "text/html": [
       "<pre style=\"white-space:pre;overflow-x:auto;line-height:normal;font-family:Menlo,'DejaVu Sans Mono',consolas,'Courier New',monospace\">dist:  16.868272397765466\n",
       "</pre>\n"
      ],
      "text/plain": [
       "dist:  16.868272397765466\n"
      ]
     },
     "metadata": {},
     "output_type": "display_data"
    },
    {
     "data": {
      "text/html": [
       "<pre style=\"white-space:pre;overflow-x:auto;line-height:normal;font-family:Menlo,'DejaVu Sans Mono',consolas,'Courier New',monospace\">action:  [1.        0.7930484 1.        1.       ]\n",
       "</pre>\n"
      ],
      "text/plain": [
       "action:  [1.        0.7930484 1.        1.       ]\n"
      ]
     },
     "metadata": {},
     "output_type": "display_data"
    },
    {
     "data": {
      "text/html": [
       "<pre style=\"white-space:pre;overflow-x:auto;line-height:normal;font-family:Menlo,'DejaVu Sans Mono',consolas,'Courier New',monospace\">position:  (0.0727502243785756, 0.07401606570348342, 0.13720849426445747)\n",
       "</pre>\n"
      ],
      "text/plain": [
       "position:  (0.0727502243785756, 0.07401606570348342, 0.13720849426445747)\n"
      ]
     },
     "metadata": {},
     "output_type": "display_data"
    },
    {
     "data": {
      "text/html": [
       "<pre style=\"white-space:pre;overflow-x:auto;line-height:normal;font-family:Menlo,'DejaVu Sans Mono',consolas,'Courier New',monospace\">jammer pos:  [10.2299043  12.30450941  5.76251045]\n",
       "</pre>\n"
      ],
      "text/plain": [
       "jammer pos:  [10.2299043  12.30450941  5.76251045]\n"
      ]
     },
     "metadata": {},
     "output_type": "display_data"
    },
    {
     "data": {
      "text/html": [
       "<pre style=\"white-space:pre;overflow-x:auto;line-height:normal;font-family:Menlo,'DejaVu Sans Mono',consolas,'Courier New',monospace\">dist:  16.86406737319303\n",
       "</pre>\n"
      ],
      "text/plain": [
       "dist:  16.86406737319303\n"
      ]
     },
     "metadata": {},
     "output_type": "display_data"
    },
    {
     "name": "stdout",
     "output_type": "stream",
     "text": [
      "------------------------------------------\n",
      "| rollout/                |              |\n",
      "|    ep_len_mean          | 27.4         |\n",
      "|    ep_rew_mean          | -1.02e+06    |\n",
      "| time/                   |              |\n",
      "|    fps                  | 113          |\n",
      "|    iterations           | 111          |\n",
      "|    time_elapsed         | 62           |\n",
      "|    total_timesteps      | 7104         |\n",
      "| train/                  |              |\n",
      "|    approx_kl            | 6.984919e-08 |\n",
      "|    clip_fraction        | 0            |\n",
      "|    clip_range           | 0.2          |\n",
      "|    entropy_loss         | -5.68        |\n",
      "|    explained_variance   | -1.19e-07    |\n",
      "|    learning_rate        | 0.0003       |\n",
      "|    loss                 | 1.26e+11     |\n",
      "|    n_updates            | 1100         |\n",
      "|    policy_gradient_loss | -3.61e-05    |\n",
      "|    std                  | 1            |\n",
      "|    value_loss           | 2.52e+11     |\n",
      "------------------------------------------\n"
     ]
    },
    {
     "data": {
      "text/html": [
       "<pre style=\"white-space:pre;overflow-x:auto;line-height:normal;font-family:Menlo,'DejaVu Sans Mono',consolas,'Courier New',monospace\">action:  [-0.86189646  1.          0.5603591   1.        ]\n",
       "</pre>\n"
      ],
      "text/plain": [
       "action:  [-0.86189646  1.          0.5603591   1.        ]\n"
      ]
     },
     "metadata": {},
     "output_type": "display_data"
    },
    {
     "data": {
      "text/html": [
       "<pre style=\"white-space:pre;overflow-x:auto;line-height:normal;font-family:Menlo,'DejaVu Sans Mono',consolas,'Courier New',monospace\">position:  (0.09932897082621371, 0.09931728949049502, 0.16275652848662964)\n",
       "</pre>\n"
      ],
      "text/plain": [
       "position:  (0.09932897082621371, 0.09931728949049502, 0.16275652848662964)\n"
      ]
     },
     "metadata": {},
     "output_type": "display_data"
    },
    {
     "data": {
      "text/html": [
       "<pre style=\"white-space:pre;overflow-x:auto;line-height:normal;font-family:Menlo,'DejaVu Sans Mono',consolas,'Courier New',monospace\">jammer pos:  [10.2299043  12.30450941  5.76251045]\n",
       "</pre>\n"
      ],
      "text/plain": [
       "jammer pos:  [10.2299043  12.30450941  5.76251045]\n"
      ]
     },
     "metadata": {},
     "output_type": "display_data"
    },
    {
     "data": {
      "text/html": [
       "<pre style=\"white-space:pre;overflow-x:auto;line-height:normal;font-family:Menlo,'DejaVu Sans Mono',consolas,'Courier New',monospace\">dist:  16.821192439711563\n",
       "</pre>\n"
      ],
      "text/plain": [
       "dist:  16.821192439711563\n"
      ]
     },
     "metadata": {},
     "output_type": "display_data"
    },
    {
     "data": {
      "text/html": [
       "<pre style=\"white-space:pre;overflow-x:auto;line-height:normal;font-family:Menlo,'DejaVu Sans Mono',consolas,'Courier New',monospace\">action:  [-1.          0.8229104   0.17456207  1.        ]\n",
       "</pre>\n"
      ],
      "text/plain": [
       "action:  [-1.          0.8229104   0.17456207  1.        ]\n"
      ]
     },
     "metadata": {},
     "output_type": "display_data"
    },
    {
     "data": {
      "text/html": [
       "<pre style=\"white-space:pre;overflow-x:auto;line-height:normal;font-family:Menlo,'DejaVu Sans Mono',consolas,'Courier New',monospace\">position:  (0.0677744971025872, 0.05780385055891253, 0.12232763958939846)\n",
       "</pre>\n"
      ],
      "text/plain": [
       "position:  (0.0677744971025872, 0.05780385055891253, 0.12232763958939846)\n"
      ]
     },
     "metadata": {},
     "output_type": "display_data"
    },
    {
     "data": {
      "text/html": [
       "<pre style=\"white-space:pre;overflow-x:auto;line-height:normal;font-family:Menlo,'DejaVu Sans Mono',consolas,'Courier New',monospace\">jammer pos:  [10.2299043  12.30450941  5.76251045]\n",
       "</pre>\n"
      ],
      "text/plain": [
       "jammer pos:  [10.2299043  12.30450941  5.76251045]\n"
      ]
     },
     "metadata": {},
     "output_type": "display_data"
    },
    {
     "data": {
      "text/html": [
       "<pre style=\"white-space:pre;overflow-x:auto;line-height:normal;font-family:Menlo,'DejaVu Sans Mono',consolas,'Courier New',monospace\">dist:  16.88378930332165\n",
       "</pre>\n"
      ],
      "text/plain": [
       "dist:  16.88378930332165\n"
      ]
     },
     "metadata": {},
     "output_type": "display_data"
    },
    {
     "name": "stdout",
     "output_type": "stream",
     "text": [
      "-------------------------------------------\n",
      "| rollout/                |               |\n",
      "|    ep_len_mean          | 27.3          |\n",
      "|    ep_rew_mean          | -1.02e+06     |\n",
      "| time/                   |               |\n",
      "|    fps                  | 113           |\n",
      "|    iterations           | 112           |\n",
      "|    time_elapsed         | 63            |\n",
      "|    total_timesteps      | 7168          |\n",
      "| train/                  |               |\n",
      "|    approx_kl            | 1.4901161e-08 |\n",
      "|    clip_fraction        | 0             |\n",
      "|    clip_range           | 0.2           |\n",
      "|    entropy_loss         | -5.68         |\n",
      "|    explained_variance   | -1.19e-07     |\n",
      "|    learning_rate        | 0.0003        |\n",
      "|    loss                 | 1.6e+11       |\n",
      "|    n_updates            | 1110          |\n",
      "|    policy_gradient_loss | 7.58e-06      |\n",
      "|    std                  | 1             |\n",
      "|    value_loss           | 3.2e+11       |\n",
      "-------------------------------------------\n"
     ]
    },
    {
     "data": {
      "text/html": [
       "<pre style=\"white-space:pre;overflow-x:auto;line-height:normal;font-family:Menlo,'DejaVu Sans Mono',consolas,'Courier New',monospace\">action:  [-1.        -0.8117839  1.         1.       ]\n",
       "</pre>\n"
      ],
      "text/plain": [
       "action:  [-1.        -0.8117839  1.         1.       ]\n"
      ]
     },
     "metadata": {},
     "output_type": "display_data"
    },
    {
     "data": {
      "text/html": [
       "<pre style=\"white-space:pre;overflow-x:auto;line-height:normal;font-family:Menlo,'DejaVu Sans Mono',consolas,'Courier New',monospace\">position:  (0.07826150572502993, 0.09604248127597463, 0.10845184633150032)\n",
       "</pre>\n"
      ],
      "text/plain": [
       "position:  (0.07826150572502993, 0.09604248127597463, 0.10845184633150032)\n"
      ]
     },
     "metadata": {},
     "output_type": "display_data"
    },
    {
     "data": {
      "text/html": [
       "<pre style=\"white-space:pre;overflow-x:auto;line-height:normal;font-family:Menlo,'DejaVu Sans Mono',consolas,'Courier New',monospace\">jammer pos:  [10.2299043  12.30450941  5.76251045]\n",
       "</pre>\n"
      ],
      "text/plain": [
       "jammer pos:  [10.2299043  12.30450941  5.76251045]\n"
      ]
     },
     "metadata": {},
     "output_type": "display_data"
    },
    {
     "data": {
      "text/html": [
       "<pre style=\"white-space:pre;overflow-x:auto;line-height:normal;font-family:Menlo,'DejaVu Sans Mono',consolas,'Courier New',monospace\">dist:  16.854402830714744\n",
       "</pre>\n"
      ],
      "text/plain": [
       "dist:  16.854402830714744\n"
      ]
     },
     "metadata": {},
     "output_type": "display_data"
    },
    {
     "data": {
      "text/html": [
       "<pre style=\"white-space:pre;overflow-x:auto;line-height:normal;font-family:Menlo,'DejaVu Sans Mono',consolas,'Courier New',monospace\">action:  [ 0.5865016  -0.17410913  1.          1.        ]\n",
       "</pre>\n"
      ],
      "text/plain": [
       "action:  [ 0.5865016  -0.17410913  1.          1.        ]\n"
      ]
     },
     "metadata": {},
     "output_type": "display_data"
    },
    {
     "data": {
      "text/html": [
       "<pre style=\"white-space:pre;overflow-x:auto;line-height:normal;font-family:Menlo,'DejaVu Sans Mono',consolas,'Courier New',monospace\">position:  (0.07245393421512317, 0.0529247753174239, 0.1088688589721696)\n",
       "</pre>\n"
      ],
      "text/plain": [
       "position:  (0.07245393421512317, 0.0529247753174239, 0.1088688589721696)\n"
      ]
     },
     "metadata": {},
     "output_type": "display_data"
    },
    {
     "data": {
      "text/html": [
       "<pre style=\"white-space:pre;overflow-x:auto;line-height:normal;font-family:Menlo,'DejaVu Sans Mono',consolas,'Courier New',monospace\">jammer pos:  [10.2299043  12.30450941  5.76251045]\n",
       "</pre>\n"
      ],
      "text/plain": [
       "jammer pos:  [10.2299043  12.30450941  5.76251045]\n"
      ]
     },
     "metadata": {},
     "output_type": "display_data"
    },
    {
     "data": {
      "text/html": [
       "<pre style=\"white-space:pre;overflow-x:auto;line-height:normal;font-family:Menlo,'DejaVu Sans Mono',consolas,'Courier New',monospace\">dist:  16.889013800323895\n",
       "</pre>\n"
      ],
      "text/plain": [
       "dist:  16.889013800323895\n"
      ]
     },
     "metadata": {},
     "output_type": "display_data"
    },
    {
     "data": {
      "text/html": [
       "<pre style=\"white-space:pre;overflow-x:auto;line-height:normal;font-family:Menlo,'DejaVu Sans Mono',consolas,'Courier New',monospace\">action:  [-1.        -0.7076219  0.7312654  1.       ]\n",
       "</pre>\n"
      ],
      "text/plain": [
       "action:  [-1.        -0.7076219  0.7312654  1.       ]\n"
      ]
     },
     "metadata": {},
     "output_type": "display_data"
    },
    {
     "data": {
      "text/html": [
       "<pre style=\"white-space:pre;overflow-x:auto;line-height:normal;font-family:Menlo,'DejaVu Sans Mono',consolas,'Courier New',monospace\">position:  (0.0805036706690082, 0.08428770953617612, 0.106568829754707)\n",
       "</pre>\n"
      ],
      "text/plain": [
       "position:  (0.0805036706690082, 0.08428770953617612, 0.106568829754707)\n"
      ]
     },
     "metadata": {},
     "output_type": "display_data"
    },
    {
     "data": {
      "text/html": [
       "<pre style=\"white-space:pre;overflow-x:auto;line-height:normal;font-family:Menlo,'DejaVu Sans Mono',consolas,'Courier New',monospace\">jammer pos:  [10.2299043  12.30450941  5.76251045]\n",
       "</pre>\n"
      ],
      "text/plain": [
       "jammer pos:  [10.2299043  12.30450941  5.76251045]\n"
      ]
     },
     "metadata": {},
     "output_type": "display_data"
    },
    {
     "data": {
      "text/html": [
       "<pre style=\"white-space:pre;overflow-x:auto;line-height:normal;font-family:Menlo,'DejaVu Sans Mono',consolas,'Courier New',monospace\">dist:  16.862201133560642\n",
       "</pre>\n"
      ],
      "text/plain": [
       "dist:  16.862201133560642\n"
      ]
     },
     "metadata": {},
     "output_type": "display_data"
    },
    {
     "name": "stdout",
     "output_type": "stream",
     "text": [
      "----------------------------------------\n",
      "| rollout/                |            |\n",
      "|    ep_len_mean          | 27.2       |\n",
      "|    ep_rew_mean          | -1.02e+06  |\n",
      "| time/                   |            |\n",
      "|    fps                  | 112        |\n",
      "|    iterations           | 113        |\n",
      "|    time_elapsed         | 64         |\n",
      "|    total_timesteps      | 7232       |\n",
      "| train/                  |            |\n",
      "|    approx_kl            | 8.6613e-08 |\n",
      "|    clip_fraction        | 0          |\n",
      "|    clip_range           | 0.2        |\n",
      "|    entropy_loss         | -5.68      |\n",
      "|    explained_variance   | -1.19e-07  |\n",
      "|    learning_rate        | 0.0003     |\n",
      "|    loss                 | 1.24e+11   |\n",
      "|    n_updates            | 1120       |\n",
      "|    policy_gradient_loss | -6.41e-05  |\n",
      "|    std                  | 1          |\n",
      "|    value_loss           | 2.49e+11   |\n",
      "----------------------------------------\n"
     ]
    },
    {
     "data": {
      "text/html": [
       "<pre style=\"white-space:pre;overflow-x:auto;line-height:normal;font-family:Menlo,'DejaVu Sans Mono',consolas,'Courier New',monospace\">action:  [-1.          0.99163705 -1.          1.        ]\n",
       "</pre>\n"
      ],
      "text/plain": [
       "action:  [-1.          0.99163705 -1.          1.        ]\n"
      ]
     },
     "metadata": {},
     "output_type": "display_data"
    },
    {
     "data": {
      "text/html": [
       "<pre style=\"white-space:pre;overflow-x:auto;line-height:normal;font-family:Menlo,'DejaVu Sans Mono',consolas,'Courier New',monospace\">position:  (0.12688996086704382, 0.09463647297008435, 0.15436033678162947)\n",
       "</pre>\n"
      ],
      "text/plain": [
       "position:  (0.12688996086704382, 0.09463647297008435, 0.15436033678162947)\n"
      ]
     },
     "metadata": {},
     "output_type": "display_data"
    },
    {
     "data": {
      "text/html": [
       "<pre style=\"white-space:pre;overflow-x:auto;line-height:normal;font-family:Menlo,'DejaVu Sans Mono',consolas,'Courier New',monospace\">jammer pos:  [10.2299043  12.30450941  5.76251045]\n",
       "</pre>\n"
      ],
      "text/plain": [
       "jammer pos:  [10.2299043  12.30450941  5.76251045]\n"
      ]
     },
     "metadata": {},
     "output_type": "display_data"
    },
    {
     "data": {
      "text/html": [
       "<pre style=\"white-space:pre;overflow-x:auto;line-height:normal;font-family:Menlo,'DejaVu Sans Mono',consolas,'Courier New',monospace\">dist:  16.81080734174383\n",
       "</pre>\n"
      ],
      "text/plain": [
       "dist:  16.81080734174383\n"
      ]
     },
     "metadata": {},
     "output_type": "display_data"
    },
    {
     "data": {
      "text/html": [
       "<pre style=\"white-space:pre;overflow-x:auto;line-height:normal;font-family:Menlo,'DejaVu Sans Mono',consolas,'Courier New',monospace\">action:  [-0.23347124 -0.46890268 -1.          1.        ]\n",
       "</pre>\n"
      ],
      "text/plain": [
       "action:  [-0.23347124 -0.46890268 -1.          1.        ]\n"
      ]
     },
     "metadata": {},
     "output_type": "display_data"
    },
    {
     "data": {
      "text/html": [
       "<pre style=\"white-space:pre;overflow-x:auto;line-height:normal;font-family:Menlo,'DejaVu Sans Mono',consolas,'Courier New',monospace\">position:  (0.18890945192400585, 0.19266361056436532, 0.22939340513784506)\n",
       "</pre>\n"
      ],
      "text/plain": [
       "position:  (0.18890945192400585, 0.19266361056436532, 0.22939340513784506)\n"
      ]
     },
     "metadata": {},
     "output_type": "display_data"
    },
    {
     "data": {
      "text/html": [
       "<pre style=\"white-space:pre;overflow-x:auto;line-height:normal;font-family:Menlo,'DejaVu Sans Mono',consolas,'Courier New',monospace\">jammer pos:  [10.2299043  12.30450941  5.76251045]\n",
       "</pre>\n"
      ],
      "text/plain": [
       "jammer pos:  [10.2299043  12.30450941  5.76251045]\n"
      ]
     },
     "metadata": {},
     "output_type": "display_data"
    },
    {
     "data": {
      "text/html": [
       "<pre style=\"white-space:pre;overflow-x:auto;line-height:normal;font-family:Menlo,'DejaVu Sans Mono',consolas,'Courier New',monospace\">dist:  16.6773430244374\n",
       "</pre>\n"
      ],
      "text/plain": [
       "dist:  16.6773430244374\n"
      ]
     },
     "metadata": {},
     "output_type": "display_data"
    },
    {
     "name": "stdout",
     "output_type": "stream",
     "text": [
      "-------------------------------------------\n",
      "| rollout/                |               |\n",
      "|    ep_len_mean          | 27.4          |\n",
      "|    ep_rew_mean          | -1.02e+06     |\n",
      "| time/                   |               |\n",
      "|    fps                  | 112           |\n",
      "|    iterations           | 114           |\n",
      "|    time_elapsed         | 64            |\n",
      "|    total_timesteps      | 7296          |\n",
      "| train/                  |               |\n",
      "|    approx_kl            | 1.0244548e-07 |\n",
      "|    clip_fraction        | 0             |\n",
      "|    clip_range           | 0.2           |\n",
      "|    entropy_loss         | -5.68         |\n",
      "|    explained_variance   | 5.96e-08      |\n",
      "|    learning_rate        | 0.0003        |\n",
      "|    loss                 | 1.38e+11      |\n",
      "|    n_updates            | 1130          |\n",
      "|    policy_gradient_loss | -4e-05        |\n",
      "|    std                  | 1             |\n",
      "|    value_loss           | 2.75e+11      |\n",
      "-------------------------------------------\n"
     ]
    },
    {
     "data": {
      "text/html": [
       "<pre style=\"white-space:pre;overflow-x:auto;line-height:normal;font-family:Menlo,'DejaVu Sans Mono',consolas,'Courier New',monospace\">action:  [-0.18991031 -0.82555777 -0.5120164   1.        ]\n",
       "</pre>\n"
      ],
      "text/plain": [
       "action:  [-0.18991031 -0.82555777 -0.5120164   1.        ]\n"
      ]
     },
     "metadata": {},
     "output_type": "display_data"
    },
    {
     "data": {
      "text/html": [
       "<pre style=\"white-space:pre;overflow-x:auto;line-height:normal;font-family:Menlo,'DejaVu Sans Mono',consolas,'Courier New',monospace\">position:  (0.07318866775737304, 0.07287782314490862, 0.12150979976534883)\n",
       "</pre>\n"
      ],
      "text/plain": [
       "position:  (0.07318866775737304, 0.07287782314490862, 0.12150979976534883)\n"
      ]
     },
     "metadata": {},
     "output_type": "display_data"
    },
    {
     "data": {
      "text/html": [
       "<pre style=\"white-space:pre;overflow-x:auto;line-height:normal;font-family:Menlo,'DejaVu Sans Mono',consolas,'Courier New',monospace\">jammer pos:  [10.2299043  12.30450941  5.76251045]\n",
       "</pre>\n"
      ],
      "text/plain": [
       "jammer pos:  [10.2299043  12.30450941  5.76251045]\n"
      ]
     },
     "metadata": {},
     "output_type": "display_data"
    },
    {
     "data": {
      "text/html": [
       "<pre style=\"white-space:pre;overflow-x:auto;line-height:normal;font-family:Menlo,'DejaVu Sans Mono',consolas,'Courier New',monospace\">dist:  16.86987172329475\n",
       "</pre>\n"
      ],
      "text/plain": [
       "dist:  16.86987172329475\n"
      ]
     },
     "metadata": {},
     "output_type": "display_data"
    },
    {
     "data": {
      "text/html": [
       "<pre style=\"white-space:pre;overflow-x:auto;line-height:normal;font-family:Menlo,'DejaVu Sans Mono',consolas,'Courier New',monospace\">action:  [-1. -1. -1.  1.]\n",
       "</pre>\n"
      ],
      "text/plain": [
       "action:  [-1. -1. -1.  1.]\n"
      ]
     },
     "metadata": {},
     "output_type": "display_data"
    },
    {
     "data": {
      "text/html": [
       "<pre style=\"white-space:pre;overflow-x:auto;line-height:normal;font-family:Menlo,'DejaVu Sans Mono',consolas,'Courier New',monospace\">position:  (0.08365523982268097, 0.13272225123125522, 0.12077507249262673)\n",
       "</pre>\n"
      ],
      "text/plain": [
       "position:  (0.08365523982268097, 0.13272225123125522, 0.12077507249262673)\n"
      ]
     },
     "metadata": {},
     "output_type": "display_data"
    },
    {
     "data": {
      "text/html": [
       "<pre style=\"white-space:pre;overflow-x:auto;line-height:normal;font-family:Menlo,'DejaVu Sans Mono',consolas,'Courier New',monospace\">jammer pos:  [10.2299043  12.30450941  5.76251045]\n",
       "</pre>\n"
      ],
      "text/plain": [
       "jammer pos:  [10.2299043  12.30450941  5.76251045]\n"
      ]
     },
     "metadata": {},
     "output_type": "display_data"
    },
    {
     "data": {
      "text/html": [
       "<pre style=\"white-space:pre;overflow-x:auto;line-height:normal;font-family:Menlo,'DejaVu Sans Mono',consolas,'Courier New',monospace\">dist:  16.820462259212942\n",
       "</pre>\n"
      ],
      "text/plain": [
       "dist:  16.820462259212942\n"
      ]
     },
     "metadata": {},
     "output_type": "display_data"
    },
    {
     "name": "stdout",
     "output_type": "stream",
     "text": [
      "-------------------------------------------\n",
      "| rollout/                |               |\n",
      "|    ep_len_mean          | 27.2          |\n",
      "|    ep_rew_mean          | -1.02e+06     |\n",
      "| time/                   |               |\n",
      "|    fps                  | 112           |\n",
      "|    iterations           | 115           |\n",
      "|    time_elapsed         | 65            |\n",
      "|    total_timesteps      | 7360          |\n",
      "| train/                  |               |\n",
      "|    approx_kl            | 3.7252903e-09 |\n",
      "|    clip_fraction        | 0             |\n",
      "|    clip_range           | 0.2           |\n",
      "|    entropy_loss         | -5.68         |\n",
      "|    explained_variance   | 0             |\n",
      "|    learning_rate        | 0.0003        |\n",
      "|    loss                 | 1.19e+11      |\n",
      "|    n_updates            | 1140          |\n",
      "|    policy_gradient_loss | 4.83e-06      |\n",
      "|    std                  | 1             |\n",
      "|    value_loss           | 2.39e+11      |\n",
      "-------------------------------------------\n"
     ]
    },
    {
     "data": {
      "text/html": [
       "<pre style=\"white-space:pre;overflow-x:auto;line-height:normal;font-family:Menlo,'DejaVu Sans Mono',consolas,'Courier New',monospace\">action:  [ 0.87517494  0.4756532  -0.58746433  1.        ]\n",
       "</pre>\n"
      ],
      "text/plain": [
       "action:  [ 0.87517494  0.4756532  -0.58746433  1.        ]\n"
      ]
     },
     "metadata": {},
     "output_type": "display_data"
    },
    {
     "data": {
      "text/html": [
       "<pre style=\"white-space:pre;overflow-x:auto;line-height:normal;font-family:Menlo,'DejaVu Sans Mono',consolas,'Courier New',monospace\">position:  (0.13322155434778302, 0.1589004795194633, 0.17683360662151262)\n",
       "</pre>\n"
      ],
      "text/plain": [
       "position:  (0.13322155434778302, 0.1589004795194633, 0.17683360662151262)\n"
      ]
     },
     "metadata": {},
     "output_type": "display_data"
    },
    {
     "data": {
      "text/html": [
       "<pre style=\"white-space:pre;overflow-x:auto;line-height:normal;font-family:Menlo,'DejaVu Sans Mono',consolas,'Courier New',monospace\">jammer pos:  [10.2299043  12.30450941  5.76251045]\n",
       "</pre>\n"
      ],
      "text/plain": [
       "jammer pos:  [10.2299043  12.30450941  5.76251045]\n"
      ]
     },
     "metadata": {},
     "output_type": "display_data"
    },
    {
     "data": {
      "text/html": [
       "<pre style=\"white-space:pre;overflow-x:auto;line-height:normal;font-family:Menlo,'DejaVu Sans Mono',consolas,'Courier New',monospace\">dist:  16.75286854456181\n",
       "</pre>\n"
      ],
      "text/plain": [
       "dist:  16.75286854456181\n"
      ]
     },
     "metadata": {},
     "output_type": "display_data"
    },
    {
     "data": {
      "text/html": [
       "<pre style=\"white-space:pre;overflow-x:auto;line-height:normal;font-family:Menlo,'DejaVu Sans Mono',consolas,'Courier New',monospace\">action:  [-1.         0.1415868 -1.         1.       ]\n",
       "</pre>\n"
      ],
      "text/plain": [
       "action:  [-1.         0.1415868 -1.         1.       ]\n"
      ]
     },
     "metadata": {},
     "output_type": "display_data"
    },
    {
     "data": {
      "text/html": [
       "<pre style=\"white-space:pre;overflow-x:auto;line-height:normal;font-family:Menlo,'DejaVu Sans Mono',consolas,'Courier New',monospace\">position:  (0.14459076974891996, 0.12680424570890592, 0.21559635269642338)\n",
       "</pre>\n"
      ],
      "text/plain": [
       "position:  (0.14459076974891996, 0.12680424570890592, 0.21559635269642338)\n"
      ]
     },
     "metadata": {},
     "output_type": "display_data"
    },
    {
     "data": {
      "text/html": [
       "<pre style=\"white-space:pre;overflow-x:auto;line-height:normal;font-family:Menlo,'DejaVu Sans Mono',consolas,'Courier New',monospace\">jammer pos:  [10.2299043  12.30450941  5.76251045]\n",
       "</pre>\n"
      ],
      "text/plain": [
       "jammer pos:  [10.2299043  12.30450941  5.76251045]\n"
      ]
     },
     "metadata": {},
     "output_type": "display_data"
    },
    {
     "data": {
      "text/html": [
       "<pre style=\"white-space:pre;overflow-x:auto;line-height:normal;font-family:Menlo,'DejaVu Sans Mono',consolas,'Courier New',monospace\">dist:  16.75644079118177\n",
       "</pre>\n"
      ],
      "text/plain": [
       "dist:  16.75644079118177\n"
      ]
     },
     "metadata": {},
     "output_type": "display_data"
    },
    {
     "data": {
      "text/html": [
       "<pre style=\"white-space:pre;overflow-x:auto;line-height:normal;font-family:Menlo,'DejaVu Sans Mono',consolas,'Courier New',monospace\">action:  [ 0.0774009 -0.3078863  1.         1.       ]\n",
       "</pre>\n"
      ],
      "text/plain": [
       "action:  [ 0.0774009 -0.3078863  1.         1.       ]\n"
      ]
     },
     "metadata": {},
     "output_type": "display_data"
    },
    {
     "data": {
      "text/html": [
       "<pre style=\"white-space:pre;overflow-x:auto;line-height:normal;font-family:Menlo,'DejaVu Sans Mono',consolas,'Courier New',monospace\">position:  (0.05079471262592942, 0.07230114518990172, 0.11476174603480838)\n",
       "</pre>\n"
      ],
      "text/plain": [
       "position:  (0.05079471262592942, 0.07230114518990172, 0.11476174603480838)\n"
      ]
     },
     "metadata": {},
     "output_type": "display_data"
    },
    {
     "data": {
      "text/html": [
       "<pre style=\"white-space:pre;overflow-x:auto;line-height:normal;font-family:Menlo,'DejaVu Sans Mono',consolas,'Courier New',monospace\">jammer pos:  [10.2299043  12.30450941  5.76251045]\n",
       "</pre>\n"
      ],
      "text/plain": [
       "jammer pos:  [10.2299043  12.30450941  5.76251045]\n"
      ]
     },
     "metadata": {},
     "output_type": "display_data"
    },
    {
     "data": {
      "text/html": [
       "<pre style=\"white-space:pre;overflow-x:auto;line-height:normal;font-family:Menlo,'DejaVu Sans Mono',consolas,'Courier New',monospace\">dist:  16.886037319700396\n",
       "</pre>\n"
      ],
      "text/plain": [
       "dist:  16.886037319700396\n"
      ]
     },
     "metadata": {},
     "output_type": "display_data"
    },
    {
     "name": "stdout",
     "output_type": "stream",
     "text": [
      "------------------------------------------\n",
      "| rollout/                |              |\n",
      "|    ep_len_mean          | 27.2         |\n",
      "|    ep_rew_mean          | -1.02e+06    |\n",
      "| time/                   |              |\n",
      "|    fps                  | 110          |\n",
      "|    iterations           | 116          |\n",
      "|    time_elapsed         | 67           |\n",
      "|    total_timesteps      | 7424         |\n",
      "| train/                  |              |\n",
      "|    approx_kl            | 2.514571e-08 |\n",
      "|    clip_fraction        | 0            |\n",
      "|    clip_range           | 0.2          |\n",
      "|    entropy_loss         | -5.68        |\n",
      "|    explained_variance   | 0            |\n",
      "|    learning_rate        | 0.0003       |\n",
      "|    loss                 | 1.11e+11     |\n",
      "|    n_updates            | 1150         |\n",
      "|    policy_gradient_loss | -3.5e-05     |\n",
      "|    std                  | 1            |\n",
      "|    value_loss           | 2.23e+11     |\n",
      "------------------------------------------\n"
     ]
    },
    {
     "data": {
      "text/html": [
       "<pre style=\"white-space:pre;overflow-x:auto;line-height:normal;font-family:Menlo,'DejaVu Sans Mono',consolas,'Courier New',monospace\">action:  [-0.43418682  0.19578384 -0.82058835  1.        ]\n",
       "</pre>\n"
      ],
      "text/plain": [
       "action:  [-0.43418682  0.19578384 -0.82058835  1.        ]\n"
      ]
     },
     "metadata": {},
     "output_type": "display_data"
    },
    {
     "data": {
      "text/html": [
       "<pre style=\"white-space:pre;overflow-x:auto;line-height:normal;font-family:Menlo,'DejaVu Sans Mono',consolas,'Courier New',monospace\">position:  (0.062478033230158554, 0.07754021229902949, 0.14274203041998476)\n",
       "</pre>\n"
      ],
      "text/plain": [
       "position:  (0.062478033230158554, 0.07754021229902949, 0.14274203041998476)\n"
      ]
     },
     "metadata": {},
     "output_type": "display_data"
    },
    {
     "data": {
      "text/html": [
       "<pre style=\"white-space:pre;overflow-x:auto;line-height:normal;font-family:Menlo,'DejaVu Sans Mono',consolas,'Courier New',monospace\">jammer pos:  [10.2299043  12.30450941  5.76251045]\n",
       "</pre>\n"
      ],
      "text/plain": [
       "jammer pos:  [10.2299043  12.30450941  5.76251045]\n"
      ]
     },
     "metadata": {},
     "output_type": "display_data"
    },
    {
     "data": {
      "text/html": [
       "<pre style=\"white-space:pre;overflow-x:auto;line-height:normal;font-family:Menlo,'DejaVu Sans Mono',consolas,'Courier New',monospace\">dist:  16.86585692027056\n",
       "</pre>\n"
      ],
      "text/plain": [
       "dist:  16.86585692027056\n"
      ]
     },
     "metadata": {},
     "output_type": "display_data"
    },
    {
     "data": {
      "text/html": [
       "<pre style=\"white-space:pre;overflow-x:auto;line-height:normal;font-family:Menlo,'DejaVu Sans Mono',consolas,'Courier New',monospace\">action:  [1.        0.8138401 1.        1.       ]\n",
       "</pre>\n"
      ],
      "text/plain": [
       "action:  [1.        0.8138401 1.        1.       ]\n"
      ]
     },
     "metadata": {},
     "output_type": "display_data"
    },
    {
     "data": {
      "text/html": [
       "<pre style=\"white-space:pre;overflow-x:auto;line-height:normal;font-family:Menlo,'DejaVu Sans Mono',consolas,'Courier New',monospace\">position:  (0.09310761361985752, 0.06729432768539809, 0.13721471850151712)\n",
       "</pre>\n"
      ],
      "text/plain": [
       "position:  (0.09310761361985752, 0.06729432768539809, 0.13721471850151712)\n"
      ]
     },
     "metadata": {},
     "output_type": "display_data"
    },
    {
     "data": {
      "text/html": [
       "<pre style=\"white-space:pre;overflow-x:auto;line-height:normal;font-family:Menlo,'DejaVu Sans Mono',consolas,'Courier New',monospace\">jammer pos:  [10.2299043  12.30450941  5.76251045]\n",
       "</pre>\n"
      ],
      "text/plain": [
       "jammer pos:  [10.2299043  12.30450941  5.76251045]\n"
      ]
     },
     "metadata": {},
     "output_type": "display_data"
    },
    {
     "data": {
      "text/html": [
       "<pre style=\"white-space:pre;overflow-x:auto;line-height:normal;font-family:Menlo,'DejaVu Sans Mono',consolas,'Courier New',monospace\">dist:  16.856691016097447\n",
       "</pre>\n"
      ],
      "text/plain": [
       "dist:  16.856691016097447\n"
      ]
     },
     "metadata": {},
     "output_type": "display_data"
    },
    {
     "name": "stdout",
     "output_type": "stream",
     "text": [
      "------------------------------------------\n",
      "| rollout/                |              |\n",
      "|    ep_len_mean          | 27.3         |\n",
      "|    ep_rew_mean          | -1.02e+06    |\n",
      "| time/                   |              |\n",
      "|    fps                  | 110          |\n",
      "|    iterations           | 117          |\n",
      "|    time_elapsed         | 67           |\n",
      "|    total_timesteps      | 7488         |\n",
      "| train/                  |              |\n",
      "|    approx_kl            | 4.656613e-08 |\n",
      "|    clip_fraction        | 0            |\n",
      "|    clip_range           | 0.2          |\n",
      "|    entropy_loss         | -5.68        |\n",
      "|    explained_variance   | 0            |\n",
      "|    learning_rate        | 0.0003       |\n",
      "|    loss                 | 1.57e+11     |\n",
      "|    n_updates            | 1160         |\n",
      "|    policy_gradient_loss | -4.97e-05    |\n",
      "|    std                  | 1            |\n",
      "|    value_loss           | 3.14e+11     |\n",
      "------------------------------------------\n"
     ]
    },
    {
     "data": {
      "text/html": [
       "<pre style=\"white-space:pre;overflow-x:auto;line-height:normal;font-family:Menlo,'DejaVu Sans Mono',consolas,'Courier New',monospace\">action:  [-0.48260888  0.5454073   0.1658007   1.        ]\n",
       "</pre>\n"
      ],
      "text/plain": [
       "action:  [-0.48260888  0.5454073   0.1658007   1.        ]\n"
      ]
     },
     "metadata": {},
     "output_type": "display_data"
    },
    {
     "data": {
      "text/html": [
       "<pre style=\"white-space:pre;overflow-x:auto;line-height:normal;font-family:Menlo,'DejaVu Sans Mono',consolas,'Courier New',monospace\">position:  (0.24094795779500636, 0.19913584462010006, 0.15902265039857688)\n",
       "</pre>\n"
      ],
      "text/plain": [
       "position:  (0.24094795779500636, 0.19913584462010006, 0.15902265039857688)\n"
      ]
     },
     "metadata": {},
     "output_type": "display_data"
    },
    {
     "data": {
      "text/html": [
       "<pre style=\"white-space:pre;overflow-x:auto;line-height:normal;font-family:Menlo,'DejaVu Sans Mono',consolas,'Courier New',monospace\">jammer pos:  [10.2299043  12.30450941  5.76251045]\n",
       "</pre>\n"
      ],
      "text/plain": [
       "jammer pos:  [10.2299043  12.30450941  5.76251045]\n"
      ]
     },
     "metadata": {},
     "output_type": "display_data"
    },
    {
     "data": {
      "text/html": [
       "<pre style=\"white-space:pre;overflow-x:auto;line-height:normal;font-family:Menlo,'DejaVu Sans Mono',consolas,'Courier New',monospace\">dist:  16.664885040072946\n",
       "</pre>\n"
      ],
      "text/plain": [
       "dist:  16.664885040072946\n"
      ]
     },
     "metadata": {},
     "output_type": "display_data"
    },
    {
     "data": {
      "text/html": [
       "<pre style=\"white-space:pre;overflow-x:auto;line-height:normal;font-family:Menlo,'DejaVu Sans Mono',consolas,'Courier New',monospace\">action:  [0.12302468 0.74713224 1.         1.        ]\n",
       "</pre>\n"
      ],
      "text/plain": [
       "action:  [0.12302468 0.74713224 1.         1.        ]\n"
      ]
     },
     "metadata": {},
     "output_type": "display_data"
    },
    {
     "data": {
      "text/html": [
       "<pre style=\"white-space:pre;overflow-x:auto;line-height:normal;font-family:Menlo,'DejaVu Sans Mono',consolas,'Courier New',monospace\">position:  (0.07220846732253972, 0.06882036539631378, 0.10394052681482184)\n",
       "</pre>\n"
      ],
      "text/plain": [
       "position:  (0.07220846732253972, 0.06882036539631378, 0.10394052681482184)\n"
      ]
     },
     "metadata": {},
     "output_type": "display_data"
    },
    {
     "data": {
      "text/html": [
       "<pre style=\"white-space:pre;overflow-x:auto;line-height:normal;font-family:Menlo,'DejaVu Sans Mono',consolas,'Courier New',monospace\">jammer pos:  [10.2299043  12.30450941  5.76251045]\n",
       "</pre>\n"
      ],
      "text/plain": [
       "jammer pos:  [10.2299043  12.30450941  5.76251045]\n"
      ]
     },
     "metadata": {},
     "output_type": "display_data"
    },
    {
     "data": {
      "text/html": [
       "<pre style=\"white-space:pre;overflow-x:auto;line-height:normal;font-family:Menlo,'DejaVu Sans Mono',consolas,'Courier New',monospace\">dist:  16.879285663639532\n",
       "</pre>\n"
      ],
      "text/plain": [
       "dist:  16.879285663639532\n"
      ]
     },
     "metadata": {},
     "output_type": "display_data"
    },
    {
     "name": "stdout",
     "output_type": "stream",
     "text": [
      "------------------------------------------\n",
      "| rollout/                |              |\n",
      "|    ep_len_mean          | 27.2         |\n",
      "|    ep_rew_mean          | -1.02e+06    |\n",
      "| time/                   |              |\n",
      "|    fps                  | 110          |\n",
      "|    iterations           | 118          |\n",
      "|    time_elapsed         | 68           |\n",
      "|    total_timesteps      | 7552         |\n",
      "| train/                  |              |\n",
      "|    approx_kl            | 6.519258e-08 |\n",
      "|    clip_fraction        | 0            |\n",
      "|    clip_range           | 0.2          |\n",
      "|    entropy_loss         | -5.68        |\n",
      "|    explained_variance   | 0            |\n",
      "|    learning_rate        | 0.0003       |\n",
      "|    loss                 | 1.29e+11     |\n",
      "|    n_updates            | 1170         |\n",
      "|    policy_gradient_loss | -4.89e-05    |\n",
      "|    std                  | 1            |\n",
      "|    value_loss           | 2.57e+11     |\n",
      "------------------------------------------\n"
     ]
    },
    {
     "data": {
      "text/html": [
       "<pre style=\"white-space:pre;overflow-x:auto;line-height:normal;font-family:Menlo,'DejaVu Sans Mono',consolas,'Courier New',monospace\">action:  [ 0.48664358  0.0960341  -0.42290244  1.        ]\n",
       "</pre>\n"
      ],
      "text/plain": [
       "action:  [ 0.48664358  0.0960341  -0.42290244  1.        ]\n"
      ]
     },
     "metadata": {},
     "output_type": "display_data"
    },
    {
     "data": {
      "text/html": [
       "<pre style=\"white-space:pre;overflow-x:auto;line-height:normal;font-family:Menlo,'DejaVu Sans Mono',consolas,'Courier New',monospace\">position:  (0.07013946995605785, 0.06614723778696115, 0.10800130378172698)\n",
       "</pre>\n"
      ],
      "text/plain": [
       "position:  (0.07013946995605785, 0.06614723778696115, 0.10800130378172698)\n"
      ]
     },
     "metadata": {},
     "output_type": "display_data"
    },
    {
     "data": {
      "text/html": [
       "<pre style=\"white-space:pre;overflow-x:auto;line-height:normal;font-family:Menlo,'DejaVu Sans Mono',consolas,'Courier New',monospace\">jammer pos:  [10.2299043  12.30450941  5.76251045]\n",
       "</pre>\n"
      ],
      "text/plain": [
       "jammer pos:  [10.2299043  12.30450941  5.76251045]\n"
      ]
     },
     "metadata": {},
     "output_type": "display_data"
    },
    {
     "data": {
      "text/html": [
       "<pre style=\"white-space:pre;overflow-x:auto;line-height:normal;font-family:Menlo,'DejaVu Sans Mono',consolas,'Courier New',monospace\">dist:  16.881107891913143\n",
       "</pre>\n"
      ],
      "text/plain": [
       "dist:  16.881107891913143\n"
      ]
     },
     "metadata": {},
     "output_type": "display_data"
    },
    {
     "data": {
      "text/html": [
       "<pre style=\"white-space:pre;overflow-x:auto;line-height:normal;font-family:Menlo,'DejaVu Sans Mono',consolas,'Courier New',monospace\">action:  [0.06012031 1.         0.7985635  1.        ]\n",
       "</pre>\n"
      ],
      "text/plain": [
       "action:  [0.06012031 1.         0.7985635  1.        ]\n"
      ]
     },
     "metadata": {},
     "output_type": "display_data"
    },
    {
     "data": {
      "text/html": [
       "<pre style=\"white-space:pre;overflow-x:auto;line-height:normal;font-family:Menlo,'DejaVu Sans Mono',consolas,'Courier New',monospace\">position:  (0.09248965117870793, 0.0558580223453368, 0.14875459944318953)\n",
       "</pre>\n"
      ],
      "text/plain": [
       "position:  (0.09248965117870793, 0.0558580223453368, 0.14875459944318953)\n"
      ]
     },
     "metadata": {},
     "output_type": "display_data"
    },
    {
     "data": {
      "text/html": [
       "<pre style=\"white-space:pre;overflow-x:auto;line-height:normal;font-family:Menlo,'DejaVu Sans Mono',consolas,'Courier New',monospace\">jammer pos:  [10.2299043  12.30450941  5.76251045]\n",
       "</pre>\n"
      ],
      "text/plain": [
       "jammer pos:  [10.2299043  12.30450941  5.76251045]\n"
      ]
     },
     "metadata": {},
     "output_type": "display_data"
    },
    {
     "data": {
      "text/html": [
       "<pre style=\"white-space:pre;overflow-x:auto;line-height:normal;font-family:Menlo,'DejaVu Sans Mono',consolas,'Courier New',monospace\">dist:  16.861521023959874\n",
       "</pre>\n"
      ],
      "text/plain": [
       "dist:  16.861521023959874\n"
      ]
     },
     "metadata": {},
     "output_type": "display_data"
    },
    {
     "data": {
      "text/html": [
       "<pre style=\"white-space:pre;overflow-x:auto;line-height:normal;font-family:Menlo,'DejaVu Sans Mono',consolas,'Courier New',monospace\">action:  [ 0.5766811   0.01671885 -0.97781056  1.        ]\n",
       "</pre>\n"
      ],
      "text/plain": [
       "action:  [ 0.5766811   0.01671885 -0.97781056  1.        ]\n"
      ]
     },
     "metadata": {},
     "output_type": "display_data"
    },
    {
     "data": {
      "text/html": [
       "<pre style=\"white-space:pre;overflow-x:auto;line-height:normal;font-family:Menlo,'DejaVu Sans Mono',consolas,'Courier New',monospace\">position:  (0.06826065716979664, 0.07401984662352244, 0.11121898598909641)\n",
       "</pre>\n"
      ],
      "text/plain": [
       "position:  (0.06826065716979664, 0.07401984662352244, 0.11121898598909641)\n"
      ]
     },
     "metadata": {},
     "output_type": "display_data"
    },
    {
     "data": {
      "text/html": [
       "<pre style=\"white-space:pre;overflow-x:auto;line-height:normal;font-family:Menlo,'DejaVu Sans Mono',consolas,'Courier New',monospace\">jammer pos:  [10.2299043  12.30450941  5.76251045]\n",
       "</pre>\n"
      ],
      "text/plain": [
       "jammer pos:  [10.2299043  12.30450941  5.76251045]\n"
      ]
     },
     "metadata": {},
     "output_type": "display_data"
    },
    {
     "data": {
      "text/html": [
       "<pre style=\"white-space:pre;overflow-x:auto;line-height:normal;font-family:Menlo,'DejaVu Sans Mono',consolas,'Courier New',monospace\">dist:  16.875454708205247\n",
       "</pre>\n"
      ],
      "text/plain": [
       "dist:  16.875454708205247\n"
      ]
     },
     "metadata": {},
     "output_type": "display_data"
    },
    {
     "name": "stdout",
     "output_type": "stream",
     "text": [
      "-------------------------------------------\n",
      "| rollout/                |               |\n",
      "|    ep_len_mean          | 27.1          |\n",
      "|    ep_rew_mean          | -1.02e+06     |\n",
      "| time/                   |               |\n",
      "|    fps                  | 110           |\n",
      "|    iterations           | 119           |\n",
      "|    time_elapsed         | 68            |\n",
      "|    total_timesteps      | 7616          |\n",
      "| train/                  |               |\n",
      "|    approx_kl            | 4.8428774e-08 |\n",
      "|    clip_fraction        | 0             |\n",
      "|    clip_range           | 0.2           |\n",
      "|    entropy_loss         | -5.68         |\n",
      "|    explained_variance   | 5.96e-08      |\n",
      "|    learning_rate        | 0.0003        |\n",
      "|    loss                 | 1.27e+11      |\n",
      "|    n_updates            | 1180          |\n",
      "|    policy_gradient_loss | -3.19e-05     |\n",
      "|    std                  | 1             |\n",
      "|    value_loss           | 2.54e+11      |\n",
      "-------------------------------------------\n"
     ]
    },
    {
     "data": {
      "text/html": [
       "<pre style=\"white-space:pre;overflow-x:auto;line-height:normal;font-family:Menlo,'DejaVu Sans Mono',consolas,'Courier New',monospace\">action:  [1.         0.18965602 1.         1.        ]\n",
       "</pre>\n"
      ],
      "text/plain": [
       "action:  [1.         0.18965602 1.         1.        ]\n"
      ]
     },
     "metadata": {},
     "output_type": "display_data"
    },
    {
     "data": {
      "text/html": [
       "<pre style=\"white-space:pre;overflow-x:auto;line-height:normal;font-family:Menlo,'DejaVu Sans Mono',consolas,'Courier New',monospace\">position:  (0.07410874394321884, 0.07819441283864137, 0.08498774858241886)\n",
       "</pre>\n"
      ],
      "text/plain": [
       "position:  (0.07410874394321884, 0.07819441283864137, 0.08498774858241886)\n"
      ]
     },
     "metadata": {},
     "output_type": "display_data"
    },
    {
     "data": {
      "text/html": [
       "<pre style=\"white-space:pre;overflow-x:auto;line-height:normal;font-family:Menlo,'DejaVu Sans Mono',consolas,'Courier New',monospace\">jammer pos:  [10.2299043  12.30450941  5.76251045]\n",
       "</pre>\n"
      ],
      "text/plain": [
       "jammer pos:  [10.2299043  12.30450941  5.76251045]\n"
      ]
     },
     "metadata": {},
     "output_type": "display_data"
    },
    {
     "data": {
      "text/html": [
       "<pre style=\"white-space:pre;overflow-x:auto;line-height:normal;font-family:Menlo,'DejaVu Sans Mono',consolas,'Courier New',monospace\">dist:  16.877713877338227\n",
       "</pre>\n"
      ],
      "text/plain": [
       "dist:  16.877713877338227\n"
      ]
     },
     "metadata": {},
     "output_type": "display_data"
    },
    {
     "data": {
      "text/html": [
       "<pre style=\"white-space:pre;overflow-x:auto;line-height:normal;font-family:Menlo,'DejaVu Sans Mono',consolas,'Courier New',monospace\">action:  [-1.        -1.         0.6765863  1.       ]\n",
       "</pre>\n"
      ],
      "text/plain": [
       "action:  [-1.        -1.         0.6765863  1.       ]\n"
      ]
     },
     "metadata": {},
     "output_type": "display_data"
    },
    {
     "data": {
      "text/html": [
       "<pre style=\"white-space:pre;overflow-x:auto;line-height:normal;font-family:Menlo,'DejaVu Sans Mono',consolas,'Courier New',monospace\">position:  (0.10309787352351778, 0.11497189123482991, 0.14938160602274372)\n",
       "</pre>\n"
      ],
      "text/plain": [
       "position:  (0.10309787352351778, 0.11497189123482991, 0.14938160602274372)\n"
      ]
     },
     "metadata": {},
     "output_type": "display_data"
    },
    {
     "data": {
      "text/html": [
       "<pre style=\"white-space:pre;overflow-x:auto;line-height:normal;font-family:Menlo,'DejaVu Sans Mono',consolas,'Courier New',monospace\">jammer pos:  [10.2299043  12.30450941  5.76251045]\n",
       "</pre>\n"
      ],
      "text/plain": [
       "jammer pos:  [10.2299043  12.30450941  5.76251045]\n"
      ]
     },
     "metadata": {},
     "output_type": "display_data"
    },
    {
     "data": {
      "text/html": [
       "<pre style=\"white-space:pre;overflow-x:auto;line-height:normal;font-family:Menlo,'DejaVu Sans Mono',consolas,'Courier New',monospace\">dist:  16.812026904978616\n",
       "</pre>\n"
      ],
      "text/plain": [
       "dist:  16.812026904978616\n"
      ]
     },
     "metadata": {},
     "output_type": "display_data"
    },
    {
     "data": {
      "text/html": [
       "<pre style=\"white-space:pre;overflow-x:auto;line-height:normal;font-family:Menlo,'DejaVu Sans Mono',consolas,'Courier New',monospace\">action:  [ 0.34956193 -0.7007816  -0.6023465   1.        ]\n",
       "</pre>\n"
      ],
      "text/plain": [
       "action:  [ 0.34956193 -0.7007816  -0.6023465   1.        ]\n"
      ]
     },
     "metadata": {},
     "output_type": "display_data"
    },
    {
     "data": {
      "text/html": [
       "<pre style=\"white-space:pre;overflow-x:auto;line-height:normal;font-family:Menlo,'DejaVu Sans Mono',consolas,'Courier New',monospace\">position:  (0.07480198093931688, 0.10871517378400058, 0.16249945847724642)\n",
       "</pre>\n"
      ],
      "text/plain": [
       "position:  (0.07480198093931688, 0.10871517378400058, 0.16249945847724642)\n"
      ]
     },
     "metadata": {},
     "output_type": "display_data"
    },
    {
     "data": {
      "text/html": [
       "<pre style=\"white-space:pre;overflow-x:auto;line-height:normal;font-family:Menlo,'DejaVu Sans Mono',consolas,'Courier New',monospace\">jammer pos:  [10.2299043  12.30450941  5.76251045]\n",
       "</pre>\n"
      ],
      "text/plain": [
       "jammer pos:  [10.2299043  12.30450941  5.76251045]\n"
      ]
     },
     "metadata": {},
     "output_type": "display_data"
    },
    {
     "data": {
      "text/html": [
       "<pre style=\"white-space:pre;overflow-x:auto;line-height:normal;font-family:Menlo,'DejaVu Sans Mono',consolas,'Courier New',monospace\">dist:  16.829249037959933\n",
       "</pre>\n"
      ],
      "text/plain": [
       "dist:  16.829249037959933\n"
      ]
     },
     "metadata": {},
     "output_type": "display_data"
    },
    {
     "name": "stdout",
     "output_type": "stream",
     "text": [
      "-------------------------------------------\n",
      "| rollout/                |               |\n",
      "|    ep_len_mean          | 27.2          |\n",
      "|    ep_rew_mean          | -1.02e+06     |\n",
      "| time/                   |               |\n",
      "|    fps                  | 110           |\n",
      "|    iterations           | 120           |\n",
      "|    time_elapsed         | 69            |\n",
      "|    total_timesteps      | 7680          |\n",
      "| train/                  |               |\n",
      "|    approx_kl            | 5.5879354e-09 |\n",
      "|    clip_fraction        | 0             |\n",
      "|    clip_range           | 0.2           |\n",
      "|    entropy_loss         | -5.68         |\n",
      "|    explained_variance   | 5.96e-08      |\n",
      "|    learning_rate        | 0.0003        |\n",
      "|    loss                 | 1.45e+11      |\n",
      "|    n_updates            | 1190          |\n",
      "|    policy_gradient_loss | 2.65e-06      |\n",
      "|    std                  | 1             |\n",
      "|    value_loss           | 2.9e+11       |\n",
      "-------------------------------------------\n"
     ]
    },
    {
     "data": {
      "text/html": [
       "<pre style=\"white-space:pre;overflow-x:auto;line-height:normal;font-family:Menlo,'DejaVu Sans Mono',consolas,'Courier New',monospace\">action:  [-1.          1.          0.05746809  1.        ]\n",
       "</pre>\n"
      ],
      "text/plain": [
       "action:  [-1.          1.          0.05746809  1.        ]\n"
      ]
     },
     "metadata": {},
     "output_type": "display_data"
    },
    {
     "data": {
      "text/html": [
       "<pre style=\"white-space:pre;overflow-x:auto;line-height:normal;font-family:Menlo,'DejaVu Sans Mono',consolas,'Courier New',monospace\">position:  (0.04892895526042712, 0.07727112657434233, 0.10693563449672314)\n",
       "</pre>\n"
      ],
      "text/plain": [
       "position:  (0.04892895526042712, 0.07727112657434233, 0.10693563449672314)\n"
      ]
     },
     "metadata": {},
     "output_type": "display_data"
    },
    {
     "data": {
      "text/html": [
       "<pre style=\"white-space:pre;overflow-x:auto;line-height:normal;font-family:Menlo,'DejaVu Sans Mono',consolas,'Courier New',monospace\">jammer pos:  [10.2299043  12.30450941  5.76251045]\n",
       "</pre>\n"
      ],
      "text/plain": [
       "jammer pos:  [10.2299043  12.30450941  5.76251045]\n"
      ]
     },
     "metadata": {},
     "output_type": "display_data"
    },
    {
     "data": {
      "text/html": [
       "<pre style=\"white-space:pre;overflow-x:auto;line-height:normal;font-family:Menlo,'DejaVu Sans Mono',consolas,'Courier New',monospace\">dist:  16.88618196684586\n",
       "</pre>\n"
      ],
      "text/plain": [
       "dist:  16.88618196684586\n"
      ]
     },
     "metadata": {},
     "output_type": "display_data"
    },
    {
     "data": {
      "text/html": [
       "<pre style=\"white-space:pre;overflow-x:auto;line-height:normal;font-family:Menlo,'DejaVu Sans Mono',consolas,'Courier New',monospace\">action:  [1.         0.55815405 1.         1.        ]\n",
       "</pre>\n"
      ],
      "text/plain": [
       "action:  [1.         0.55815405 1.         1.        ]\n"
      ]
     },
     "metadata": {},
     "output_type": "display_data"
    },
    {
     "data": {
      "text/html": [
       "<pre style=\"white-space:pre;overflow-x:auto;line-height:normal;font-family:Menlo,'DejaVu Sans Mono',consolas,'Courier New',monospace\">position:  (0.07205076054962516, 0.09862132237273562, 0.12202977059272037)\n",
       "</pre>\n"
      ],
      "text/plain": [
       "position:  (0.07205076054962516, 0.09862132237273562, 0.12202977059272037)\n"
      ]
     },
     "metadata": {},
     "output_type": "display_data"
    },
    {
     "data": {
      "text/html": [
       "<pre style=\"white-space:pre;overflow-x:auto;line-height:normal;font-family:Menlo,'DejaVu Sans Mono',consolas,'Courier New',monospace\">jammer pos:  [10.2299043  12.30450941  5.76251045]\n",
       "</pre>\n"
      ],
      "text/plain": [
       "jammer pos:  [10.2299043  12.30450941  5.76251045]\n"
      ]
     },
     "metadata": {},
     "output_type": "display_data"
    },
    {
     "data": {
      "text/html": [
       "<pre style=\"white-space:pre;overflow-x:auto;line-height:normal;font-family:Menlo,'DejaVu Sans Mono',consolas,'Courier New',monospace\">dist:  16.851727351974986\n",
       "</pre>\n"
      ],
      "text/plain": [
       "dist:  16.851727351974986\n"
      ]
     },
     "metadata": {},
     "output_type": "display_data"
    },
    {
     "data": {
      "text/html": [
       "<pre style=\"white-space:pre;overflow-x:auto;line-height:normal;font-family:Menlo,'DejaVu Sans Mono',consolas,'Courier New',monospace\">action:  [-0.7874945  0.7526665  1.         1.       ]\n",
       "</pre>\n"
      ],
      "text/plain": [
       "action:  [-0.7874945  0.7526665  1.         1.       ]\n"
      ]
     },
     "metadata": {},
     "output_type": "display_data"
    },
    {
     "data": {
      "text/html": [
       "<pre style=\"white-space:pre;overflow-x:auto;line-height:normal;font-family:Menlo,'DejaVu Sans Mono',consolas,'Courier New',monospace\">position:  (0.06825914111399116, 0.08844193826193536, 0.1261173904129725)\n",
       "</pre>\n"
      ],
      "text/plain": [
       "position:  (0.06825914111399116, 0.08844193826193536, 0.1261173904129725)\n"
      ]
     },
     "metadata": {},
     "output_type": "display_data"
    },
    {
     "data": {
      "text/html": [
       "<pre style=\"white-space:pre;overflow-x:auto;line-height:normal;font-family:Menlo,'DejaVu Sans Mono',consolas,'Courier New',monospace\">jammer pos:  [10.2299043  12.30450941  5.76251045]\n",
       "</pre>\n"
      ],
      "text/plain": [
       "jammer pos:  [10.2299043  12.30450941  5.76251045]\n"
      ]
     },
     "metadata": {},
     "output_type": "display_data"
    },
    {
     "data": {
      "text/html": [
       "<pre style=\"white-space:pre;overflow-x:auto;line-height:normal;font-family:Menlo,'DejaVu Sans Mono',consolas,'Courier New',monospace\">dist:  16.86001967511113\n",
       "</pre>\n"
      ],
      "text/plain": [
       "dist:  16.86001967511113\n"
      ]
     },
     "metadata": {},
     "output_type": "display_data"
    },
    {
     "data": {
      "text/html": [
       "<pre style=\"white-space:pre;overflow-x:auto;line-height:normal;font-family:Menlo,'DejaVu Sans Mono',consolas,'Courier New',monospace\">action:  [ 1.         -0.24195491  0.21493796  1.        ]\n",
       "</pre>\n"
      ],
      "text/plain": [
       "action:  [ 1.         -0.24195491  0.21493796  1.        ]\n"
      ]
     },
     "metadata": {},
     "output_type": "display_data"
    },
    {
     "data": {
      "text/html": [
       "<pre style=\"white-space:pre;overflow-x:auto;line-height:normal;font-family:Menlo,'DejaVu Sans Mono',consolas,'Courier New',monospace\">position:  (0.04872016750749665, 0.036856755249706406, 0.11038067237469776)\n",
       "</pre>\n"
      ],
      "text/plain": [
       "position:  (0.04872016750749665, 0.036856755249706406, 0.11038067237469776)\n"
      ]
     },
     "metadata": {},
     "output_type": "display_data"
    },
    {
     "data": {
      "text/html": [
       "<pre style=\"white-space:pre;overflow-x:auto;line-height:normal;font-family:Menlo,'DejaVu Sans Mono',consolas,'Courier New',monospace\">jammer pos:  [10.2299043  12.30450941  5.76251045]\n",
       "</pre>\n"
      ],
      "text/plain": [
       "jammer pos:  [10.2299043  12.30450941  5.76251045]\n"
      ]
     },
     "metadata": {},
     "output_type": "display_data"
    },
    {
     "data": {
      "text/html": [
       "<pre style=\"white-space:pre;overflow-x:auto;line-height:normal;font-family:Menlo,'DejaVu Sans Mono',consolas,'Courier New',monospace\">dist:  16.914443027597148\n",
       "</pre>\n"
      ],
      "text/plain": [
       "dist:  16.914443027597148\n"
      ]
     },
     "metadata": {},
     "output_type": "display_data"
    },
    {
     "data": {
      "text/html": [
       "<pre style=\"white-space:pre;overflow-x:auto;line-height:normal;font-family:Menlo,'DejaVu Sans Mono',consolas,'Courier New',monospace\">action:  [ 0.49448344 -0.9191218   0.2868826   1.        ]\n",
       "</pre>\n"
      ],
      "text/plain": [
       "action:  [ 0.49448344 -0.9191218   0.2868826   1.        ]\n"
      ]
     },
     "metadata": {},
     "output_type": "display_data"
    },
    {
     "data": {
      "text/html": [
       "<pre style=\"white-space:pre;overflow-x:auto;line-height:normal;font-family:Menlo,'DejaVu Sans Mono',consolas,'Courier New',monospace\">position:  (0.09444645772113967, 0.07064628130725378, 0.1307891805168805)\n",
       "</pre>\n"
      ],
      "text/plain": [
       "position:  (0.09444645772113967, 0.07064628130725378, 0.1307891805168805)\n"
      ]
     },
     "metadata": {},
     "output_type": "display_data"
    },
    {
     "data": {
      "text/html": [
       "<pre style=\"white-space:pre;overflow-x:auto;line-height:normal;font-family:Menlo,'DejaVu Sans Mono',consolas,'Courier New',monospace\">jammer pos:  [10.2299043  12.30450941  5.76251045]\n",
       "</pre>\n"
      ],
      "text/plain": [
       "jammer pos:  [10.2299043  12.30450941  5.76251045]\n"
      ]
     },
     "metadata": {},
     "output_type": "display_data"
    },
    {
     "data": {
      "text/html": [
       "<pre style=\"white-space:pre;overflow-x:auto;line-height:normal;font-family:Menlo,'DejaVu Sans Mono',consolas,'Courier New',monospace\">dist:  16.85559839029601\n",
       "</pre>\n"
      ],
      "text/plain": [
       "dist:  16.85559839029601\n"
      ]
     },
     "metadata": {},
     "output_type": "display_data"
    },
    {
     "name": "stdout",
     "output_type": "stream",
     "text": [
      "------------------------------------------\n",
      "| rollout/                |              |\n",
      "|    ep_len_mean          | 26.9         |\n",
      "|    ep_rew_mean          | -1.02e+06    |\n",
      "| time/                   |              |\n",
      "|    fps                  | 110          |\n",
      "|    iterations           | 122          |\n",
      "|    time_elapsed         | 70           |\n",
      "|    total_timesteps      | 7808         |\n",
      "| train/                  |              |\n",
      "|    approx_kl            | 9.313226e-09 |\n",
      "|    clip_fraction        | 0            |\n",
      "|    clip_range           | 0.2          |\n",
      "|    entropy_loss         | -5.68        |\n",
      "|    explained_variance   | 0            |\n",
      "|    learning_rate        | 0.0003       |\n",
      "|    loss                 | 1.31e+11     |\n",
      "|    n_updates            | 1210         |\n",
      "|    policy_gradient_loss | -9.78e-06    |\n",
      "|    std                  | 1            |\n",
      "|    value_loss           | 2.62e+11     |\n",
      "------------------------------------------\n"
     ]
    },
    {
     "data": {
      "text/html": [
       "<pre style=\"white-space:pre;overflow-x:auto;line-height:normal;font-family:Menlo,'DejaVu Sans Mono',consolas,'Courier New',monospace\">action:  [ 1.          0.50399804 -1.          1.        ]\n",
       "</pre>\n"
      ],
      "text/plain": [
       "action:  [ 1.          0.50399804 -1.          1.        ]\n"
      ]
     },
     "metadata": {},
     "output_type": "display_data"
    },
    {
     "data": {
      "text/html": [
       "<pre style=\"white-space:pre;overflow-x:auto;line-height:normal;font-family:Menlo,'DejaVu Sans Mono',consolas,'Courier New',monospace\">position:  (0.12505893016328767, 0.12776288521347595, 0.18597532043350826)\n",
       "</pre>\n"
      ],
      "text/plain": [
       "position:  (0.12505893016328767, 0.12776288521347595, 0.18597532043350826)\n"
      ]
     },
     "metadata": {},
     "output_type": "display_data"
    },
    {
     "data": {
      "text/html": [
       "<pre style=\"white-space:pre;overflow-x:auto;line-height:normal;font-family:Menlo,'DejaVu Sans Mono',consolas,'Courier New',monospace\">jammer pos:  [10.2299043  12.30450941  5.76251045]\n",
       "</pre>\n"
      ],
      "text/plain": [
       "jammer pos:  [10.2299043  12.30450941  5.76251045]\n"
      ]
     },
     "metadata": {},
     "output_type": "display_data"
    },
    {
     "data": {
      "text/html": [
       "<pre style=\"white-space:pre;overflow-x:auto;line-height:normal;font-family:Menlo,'DejaVu Sans Mono',consolas,'Courier New',monospace\">dist:  16.777329937815917\n",
       "</pre>\n"
      ],
      "text/plain": [
       "dist:  16.777329937815917\n"
      ]
     },
     "metadata": {},
     "output_type": "display_data"
    },
    {
     "data": {
      "text/html": [
       "<pre style=\"white-space:pre;overflow-x:auto;line-height:normal;font-family:Menlo,'DejaVu Sans Mono',consolas,'Courier New',monospace\">action:  [ 1.         -0.62011224 -0.00583873  1.        ]\n",
       "</pre>\n"
      ],
      "text/plain": [
       "action:  [ 1.         -0.62011224 -0.00583873  1.        ]\n"
      ]
     },
     "metadata": {},
     "output_type": "display_data"
    },
    {
     "data": {
      "text/html": [
       "<pre style=\"white-space:pre;overflow-x:auto;line-height:normal;font-family:Menlo,'DejaVu Sans Mono',consolas,'Courier New',monospace\">position:  (0.12039053217323392, 0.14976873651312209, 0.15917610747284758)\n",
       "</pre>\n"
      ],
      "text/plain": [
       "position:  (0.12039053217323392, 0.14976873651312209, 0.15917610747284758)\n"
      ]
     },
     "metadata": {},
     "output_type": "display_data"
    },
    {
     "data": {
      "text/html": [
       "<pre style=\"white-space:pre;overflow-x:auto;line-height:normal;font-family:Menlo,'DejaVu Sans Mono',consolas,'Courier New',monospace\">jammer pos:  [10.2299043  12.30450941  5.76251045]\n",
       "</pre>\n"
      ],
      "text/plain": [
       "jammer pos:  [10.2299043  12.30450941  5.76251045]\n"
      ]
     },
     "metadata": {},
     "output_type": "display_data"
    },
    {
     "data": {
      "text/html": [
       "<pre style=\"white-space:pre;overflow-x:auto;line-height:normal;font-family:Menlo,'DejaVu Sans Mono',consolas,'Courier New',monospace\">dist:  16.773113757735892\n",
       "</pre>\n"
      ],
      "text/plain": [
       "dist:  16.773113757735892\n"
      ]
     },
     "metadata": {},
     "output_type": "display_data"
    },
    {
     "name": "stdout",
     "output_type": "stream",
     "text": [
      "---------------------------------------\n",
      "| rollout/                |           |\n",
      "|    ep_len_mean          | 27        |\n",
      "|    ep_rew_mean          | -1.02e+06 |\n",
      "| time/                   |           |\n",
      "|    fps                  | 111       |\n",
      "|    iterations           | 123       |\n",
      "|    time_elapsed         | 70        |\n",
      "|    total_timesteps      | 7872      |\n",
      "| train/                  |           |\n",
      "|    approx_kl            | 0.0       |\n",
      "|    clip_fraction        | 0         |\n",
      "|    clip_range           | 0.2       |\n",
      "|    entropy_loss         | -5.68     |\n",
      "|    explained_variance   | 0         |\n",
      "|    learning_rate        | 0.0003    |\n",
      "|    loss                 | 1.77e+11  |\n",
      "|    n_updates            | 1220      |\n",
      "|    policy_gradient_loss | -1.61e-06 |\n",
      "|    std                  | 1         |\n",
      "|    value_loss           | 3.54e+11  |\n",
      "---------------------------------------\n"
     ]
    },
    {
     "data": {
      "text/html": [
       "<pre style=\"white-space:pre;overflow-x:auto;line-height:normal;font-family:Menlo,'DejaVu Sans Mono',consolas,'Courier New',monospace\">action:  [-0.98152816 -0.48063108  1.          1.        ]\n",
       "</pre>\n"
      ],
      "text/plain": [
       "action:  [-0.98152816 -0.48063108  1.          1.        ]\n"
      ]
     },
     "metadata": {},
     "output_type": "display_data"
    },
    {
     "data": {
      "text/html": [
       "<pre style=\"white-space:pre;overflow-x:auto;line-height:normal;font-family:Menlo,'DejaVu Sans Mono',consolas,'Courier New',monospace\">position:  (0.09706021186175273, 0.09598404847805525, 0.1924057535108385)\n",
       "</pre>\n"
      ],
      "text/plain": [
       "position:  (0.09706021186175273, 0.09598404847805525, 0.1924057535108385)\n"
      ]
     },
     "metadata": {},
     "output_type": "display_data"
    },
    {
     "data": {
      "text/html": [
       "<pre style=\"white-space:pre;overflow-x:auto;line-height:normal;font-family:Menlo,'DejaVu Sans Mono',consolas,'Courier New',monospace\">jammer pos:  [10.2299043  12.30450941  5.76251045]\n",
       "</pre>\n"
      ],
      "text/plain": [
       "jammer pos:  [10.2299043  12.30450941  5.76251045]\n"
      ]
     },
     "metadata": {},
     "output_type": "display_data"
    },
    {
     "data": {
      "text/html": [
       "<pre style=\"white-space:pre;overflow-x:auto;line-height:normal;font-family:Menlo,'DejaVu Sans Mono',consolas,'Courier New',monospace\">dist:  16.815132680439312\n",
       "</pre>\n"
      ],
      "text/plain": [
       "dist:  16.815132680439312\n"
      ]
     },
     "metadata": {},
     "output_type": "display_data"
    },
    {
     "data": {
      "text/html": [
       "<pre style=\"white-space:pre;overflow-x:auto;line-height:normal;font-family:Menlo,'DejaVu Sans Mono',consolas,'Courier New',monospace\">action:  [-0.7862305  1.         0.874708   1.       ]\n",
       "</pre>\n"
      ],
      "text/plain": [
       "action:  [-0.7862305  1.         0.874708   1.       ]\n"
      ]
     },
     "metadata": {},
     "output_type": "display_data"
    },
    {
     "data": {
      "text/html": [
       "<pre style=\"white-space:pre;overflow-x:auto;line-height:normal;font-family:Menlo,'DejaVu Sans Mono',consolas,'Courier New',monospace\">position:  (0.05145461225363172, 0.08450364254802112, 0.10428622344214428)\n",
       "</pre>\n"
      ],
      "text/plain": [
       "position:  (0.05145461225363172, 0.08450364254802112, 0.10428622344214428)\n"
      ]
     },
     "metadata": {},
     "output_type": "display_data"
    },
    {
     "data": {
      "text/html": [
       "<pre style=\"white-space:pre;overflow-x:auto;line-height:normal;font-family:Menlo,'DejaVu Sans Mono',consolas,'Courier New',monospace\">jammer pos:  [10.2299043  12.30450941  5.76251045]\n",
       "</pre>\n"
      ],
      "text/plain": [
       "jammer pos:  [10.2299043  12.30450941  5.76251045]\n"
      ]
     },
     "metadata": {},
     "output_type": "display_data"
    },
    {
     "data": {
      "text/html": [
       "<pre style=\"white-space:pre;overflow-x:auto;line-height:normal;font-family:Menlo,'DejaVu Sans Mono',consolas,'Courier New',monospace\">dist:  16.880310432999952\n",
       "</pre>\n"
      ],
      "text/plain": [
       "dist:  16.880310432999952\n"
      ]
     },
     "metadata": {},
     "output_type": "display_data"
    },
    {
     "name": "stdout",
     "output_type": "stream",
     "text": [
      "------------------------------------------\n",
      "| rollout/                |              |\n",
      "|    ep_len_mean          | 26.9         |\n",
      "|    ep_rew_mean          | -1.02e+06    |\n",
      "| time/                   |              |\n",
      "|    fps                  | 111          |\n",
      "|    iterations           | 124          |\n",
      "|    time_elapsed         | 71           |\n",
      "|    total_timesteps      | 7936         |\n",
      "| train/                  |              |\n",
      "|    approx_kl            | 2.142042e-08 |\n",
      "|    clip_fraction        | 0            |\n",
      "|    clip_range           | 0.2          |\n",
      "|    entropy_loss         | -5.68        |\n",
      "|    explained_variance   | -2.38e-07    |\n",
      "|    learning_rate        | 0.0003       |\n",
      "|    loss                 | 1.3e+11      |\n",
      "|    n_updates            | 1230         |\n",
      "|    policy_gradient_loss | -2.73e-05    |\n",
      "|    std                  | 1            |\n",
      "|    value_loss           | 2.61e+11     |\n",
      "------------------------------------------\n"
     ]
    },
    {
     "data": {
      "text/html": [
       "<pre style=\"white-space:pre;overflow-x:auto;line-height:normal;font-family:Menlo,'DejaVu Sans Mono',consolas,'Courier New',monospace\">action:  [ 0.46586844  1.         -1.          1.        ]\n",
       "</pre>\n"
      ],
      "text/plain": [
       "action:  [ 0.46586844  1.         -1.          1.        ]\n"
      ]
     },
     "metadata": {},
     "output_type": "display_data"
    },
    {
     "data": {
      "text/html": [
       "<pre style=\"white-space:pre;overflow-x:auto;line-height:normal;font-family:Menlo,'DejaVu Sans Mono',consolas,'Courier New',monospace\">position:  (0.06831371057778549, 0.09606452183665812, 0.13116262523587816)\n",
       "</pre>\n"
      ],
      "text/plain": [
       "position:  (0.06831371057778549, 0.09606452183665812, 0.13116262523587816)\n"
      ]
     },
     "metadata": {},
     "output_type": "display_data"
    },
    {
     "data": {
      "text/html": [
       "<pre style=\"white-space:pre;overflow-x:auto;line-height:normal;font-family:Menlo,'DejaVu Sans Mono',consolas,'Courier New',monospace\">jammer pos:  [10.2299043  12.30450941  5.76251045]\n",
       "</pre>\n"
      ],
      "text/plain": [
       "jammer pos:  [10.2299043  12.30450941  5.76251045]\n"
      ]
     },
     "metadata": {},
     "output_type": "display_data"
    },
    {
     "data": {
      "text/html": [
       "<pre style=\"white-space:pre;overflow-x:auto;line-height:normal;font-family:Menlo,'DejaVu Sans Mono',consolas,'Courier New',monospace\">dist:  16.85277805383082\n",
       "</pre>\n"
      ],
      "text/plain": [
       "dist:  16.85277805383082\n"
      ]
     },
     "metadata": {},
     "output_type": "display_data"
    },
    {
     "data": {
      "text/html": [
       "<pre style=\"white-space:pre;overflow-x:auto;line-height:normal;font-family:Menlo,'DejaVu Sans Mono',consolas,'Courier New',monospace\">action:  [-0.00810345 -0.86032236  0.68782145  1.        ]\n",
       "</pre>\n"
      ],
      "text/plain": [
       "action:  [-0.00810345 -0.86032236  0.68782145  1.        ]\n"
      ]
     },
     "metadata": {},
     "output_type": "display_data"
    },
    {
     "data": {
      "text/html": [
       "<pre style=\"white-space:pre;overflow-x:auto;line-height:normal;font-family:Menlo,'DejaVu Sans Mono',consolas,'Courier New',monospace\">position:  (0.27138311630874623, 0.21264060367034215, 0.29971520955690895)\n",
       "</pre>\n"
      ],
      "text/plain": [
       "position:  (0.27138311630874623, 0.21264060367034215, 0.29971520955690895)\n"
      ]
     },
     "metadata": {},
     "output_type": "display_data"
    },
    {
     "data": {
      "text/html": [
       "<pre style=\"white-space:pre;overflow-x:auto;line-height:normal;font-family:Menlo,'DejaVu Sans Mono',consolas,'Courier New',monospace\">jammer pos:  [10.2299043  12.30450941  5.76251045]\n",
       "</pre>\n"
      ],
      "text/plain": [
       "jammer pos:  [10.2299043  12.30450941  5.76251045]\n"
      ]
     },
     "metadata": {},
     "output_type": "display_data"
    },
    {
     "data": {
      "text/html": [
       "<pre style=\"white-space:pre;overflow-x:auto;line-height:normal;font-family:Menlo,'DejaVu Sans Mono',consolas,'Courier New',monospace\">dist:  16.589983940574186\n",
       "</pre>\n"
      ],
      "text/plain": [
       "dist:  16.589983940574186\n"
      ]
     },
     "metadata": {},
     "output_type": "display_data"
    },
    {
     "name": "stdout",
     "output_type": "stream",
     "text": [
      "-------------------------------------------\n",
      "| rollout/                |               |\n",
      "|    ep_len_mean          | 27.2          |\n",
      "|    ep_rew_mean          | -1.02e+06     |\n",
      "| time/                   |               |\n",
      "|    fps                  | 111           |\n",
      "|    iterations           | 125           |\n",
      "|    time_elapsed         | 71            |\n",
      "|    total_timesteps      | 8000          |\n",
      "| train/                  |               |\n",
      "|    approx_kl            | 1.0244548e-08 |\n",
      "|    clip_fraction        | 0             |\n",
      "|    clip_range           | 0.2           |\n",
      "|    entropy_loss         | -5.68         |\n",
      "|    explained_variance   | 5.96e-08      |\n",
      "|    learning_rate        | 0.0003        |\n",
      "|    loss                 | 1.24e+11      |\n",
      "|    n_updates            | 1240          |\n",
      "|    policy_gradient_loss | -4.49e-06     |\n",
      "|    std                  | 1             |\n",
      "|    value_loss           | 2.48e+11      |\n",
      "-------------------------------------------\n"
     ]
    },
    {
     "data": {
      "text/html": [
       "<pre style=\"white-space:pre;overflow-x:auto;line-height:normal;font-family:Menlo,'DejaVu Sans Mono',consolas,'Courier New',monospace\">action:  [-0.8515567  -0.63650244 -1.          1.        ]\n",
       "</pre>\n"
      ],
      "text/plain": [
       "action:  [-0.8515567  -0.63650244 -1.          1.        ]\n"
      ]
     },
     "metadata": {},
     "output_type": "display_data"
    },
    {
     "data": {
      "text/html": [
       "<pre style=\"white-space:pre;overflow-x:auto;line-height:normal;font-family:Menlo,'DejaVu Sans Mono',consolas,'Courier New',monospace\">position:  (0.16774278307469548, 0.17613176176138623, 0.22512247786993597)\n",
       "</pre>\n"
      ],
      "text/plain": [
       "position:  (0.16774278307469548, 0.17613176176138623, 0.22512247786993597)\n"
      ]
     },
     "metadata": {},
     "output_type": "display_data"
    },
    {
     "data": {
      "text/html": [
       "<pre style=\"white-space:pre;overflow-x:auto;line-height:normal;font-family:Menlo,'DejaVu Sans Mono',consolas,'Courier New',monospace\">jammer pos:  [10.2299043  12.30450941  5.76251045]\n",
       "</pre>\n"
      ],
      "text/plain": [
       "jammer pos:  [10.2299043  12.30450941  5.76251045]\n"
      ]
     },
     "metadata": {},
     "output_type": "display_data"
    },
    {
     "data": {
      "text/html": [
       "<pre style=\"white-space:pre;overflow-x:auto;line-height:normal;font-family:Menlo,'DejaVu Sans Mono',consolas,'Courier New',monospace\">dist:  16.703511733732896\n",
       "</pre>\n"
      ],
      "text/plain": [
       "dist:  16.703511733732896\n"
      ]
     },
     "metadata": {},
     "output_type": "display_data"
    },
    {
     "data": {
      "text/html": [
       "<pre style=\"white-space:pre;overflow-x:auto;line-height:normal;font-family:Menlo,'DejaVu Sans Mono',consolas,'Courier New',monospace\">action:  [ 0.4254127  -0.2681952  -0.13893162  1.        ]\n",
       "</pre>\n"
      ],
      "text/plain": [
       "action:  [ 0.4254127  -0.2681952  -0.13893162  1.        ]\n"
      ]
     },
     "metadata": {},
     "output_type": "display_data"
    },
    {
     "data": {
      "text/html": [
       "<pre style=\"white-space:pre;overflow-x:auto;line-height:normal;font-family:Menlo,'DejaVu Sans Mono',consolas,'Courier New',monospace\">position:  (0.05072024944648063, 0.05193368496708418, 0.09736298468778692)\n",
       "</pre>\n"
      ],
      "text/plain": [
       "position:  (0.05072024944648063, 0.05193368496708418, 0.09736298468778692)\n"
      ]
     },
     "metadata": {},
     "output_type": "display_data"
    },
    {
     "data": {
      "text/html": [
       "<pre style=\"white-space:pre;overflow-x:auto;line-height:normal;font-family:Menlo,'DejaVu Sans Mono',consolas,'Courier New',monospace\">jammer pos:  [10.2299043  12.30450941  5.76251045]\n",
       "</pre>\n"
      ],
      "text/plain": [
       "jammer pos:  [10.2299043  12.30450941  5.76251045]\n"
      ]
     },
     "metadata": {},
     "output_type": "display_data"
    },
    {
     "data": {
      "text/html": [
       "<pre style=\"white-space:pre;overflow-x:auto;line-height:normal;font-family:Menlo,'DejaVu Sans Mono',consolas,'Courier New',monospace\">dist:  16.90666423485307\n",
       "</pre>\n"
      ],
      "text/plain": [
       "dist:  16.90666423485307\n"
      ]
     },
     "metadata": {},
     "output_type": "display_data"
    },
    {
     "data": {
      "text/html": [
       "<pre style=\"white-space:pre;overflow-x:auto;line-height:normal;font-family:Menlo,'DejaVu Sans Mono',consolas,'Courier New',monospace\">action:  [-1.        -1.        -0.9925533  1.       ]\n",
       "</pre>\n"
      ],
      "text/plain": [
       "action:  [-1.        -1.        -0.9925533  1.       ]\n"
      ]
     },
     "metadata": {},
     "output_type": "display_data"
    },
    {
     "data": {
      "text/html": [
       "<pre style=\"white-space:pre;overflow-x:auto;line-height:normal;font-family:Menlo,'DejaVu Sans Mono',consolas,'Courier New',monospace\">position:  (0.07943675190182242, 0.05498225378576702, 0.13216345257811202)\n",
       "</pre>\n"
      ],
      "text/plain": [
       "position:  (0.07943675190182242, 0.05498225378576702, 0.13216345257811202)\n"
      ]
     },
     "metadata": {},
     "output_type": "display_data"
    },
    {
     "data": {
      "text/html": [
       "<pre style=\"white-space:pre;overflow-x:auto;line-height:normal;font-family:Menlo,'DejaVu Sans Mono',consolas,'Courier New',monospace\">jammer pos:  [10.2299043  12.30450941  5.76251045]\n",
       "</pre>\n"
      ],
      "text/plain": [
       "jammer pos:  [10.2299043  12.30450941  5.76251045]\n"
      ]
     },
     "metadata": {},
     "output_type": "display_data"
    },
    {
     "data": {
      "text/html": [
       "<pre style=\"white-space:pre;overflow-x:auto;line-height:normal;font-family:Menlo,'DejaVu Sans Mono',consolas,'Courier New',monospace\">dist:  16.87553596839642\n",
       "</pre>\n"
      ],
      "text/plain": [
       "dist:  16.87553596839642\n"
      ]
     },
     "metadata": {},
     "output_type": "display_data"
    },
    {
     "name": "stdout",
     "output_type": "stream",
     "text": [
      "-------------------------------------------\n",
      "| rollout/                |               |\n",
      "|    ep_len_mean          | 27.2          |\n",
      "|    ep_rew_mean          | -1.02e+06     |\n",
      "| time/                   |               |\n",
      "|    fps                  | 111           |\n",
      "|    iterations           | 126           |\n",
      "|    time_elapsed         | 72            |\n",
      "|    total_timesteps      | 8064          |\n",
      "| train/                  |               |\n",
      "|    approx_kl            | 1.8626451e-09 |\n",
      "|    clip_fraction        | 0             |\n",
      "|    clip_range           | 0.2           |\n",
      "|    entropy_loss         | -5.68         |\n",
      "|    explained_variance   | 1.19e-07      |\n",
      "|    learning_rate        | 0.0003        |\n",
      "|    loss                 | 8.84e+10      |\n",
      "|    n_updates            | 1250          |\n",
      "|    policy_gradient_loss | -7.02e-07     |\n",
      "|    std                  | 1             |\n",
      "|    value_loss           | 1.77e+11      |\n",
      "-------------------------------------------\n"
     ]
    },
    {
     "data": {
      "text/html": [
       "<pre style=\"white-space:pre;overflow-x:auto;line-height:normal;font-family:Menlo,'DejaVu Sans Mono',consolas,'Courier New',monospace\">action:  [ 0.4850714  1.        -0.9908806  1.       ]\n",
       "</pre>\n"
      ],
      "text/plain": [
       "action:  [ 0.4850714  1.        -0.9908806  1.       ]\n"
      ]
     },
     "metadata": {},
     "output_type": "display_data"
    },
    {
     "data": {
      "text/html": [
       "<pre style=\"white-space:pre;overflow-x:auto;line-height:normal;font-family:Menlo,'DejaVu Sans Mono',consolas,'Courier New',monospace\">position:  (0.10608579327741145, 0.08939828168575384, 0.13447997062854045)\n",
       "</pre>\n"
      ],
      "text/plain": [
       "position:  (0.10608579327741145, 0.08939828168575384, 0.13447997062854045)\n"
      ]
     },
     "metadata": {},
     "output_type": "display_data"
    },
    {
     "data": {
      "text/html": [
       "<pre style=\"white-space:pre;overflow-x:auto;line-height:normal;font-family:Menlo,'DejaVu Sans Mono',consolas,'Courier New',monospace\">jammer pos:  [10.2299043  12.30450941  5.76251045]\n",
       "</pre>\n"
      ],
      "text/plain": [
       "jammer pos:  [10.2299043  12.30450941  5.76251045]\n"
      ]
     },
     "metadata": {},
     "output_type": "display_data"
    },
    {
     "data": {
      "text/html": [
       "<pre style=\"white-space:pre;overflow-x:auto;line-height:normal;font-family:Menlo,'DejaVu Sans Mono',consolas,'Courier New',monospace\">dist:  16.83375680068541\n",
       "</pre>\n"
      ],
      "text/plain": [
       "dist:  16.83375680068541\n"
      ]
     },
     "metadata": {},
     "output_type": "display_data"
    },
    {
     "data": {
      "text/html": [
       "<pre style=\"white-space:pre;overflow-x:auto;line-height:normal;font-family:Menlo,'DejaVu Sans Mono',consolas,'Courier New',monospace\">action:  [ 0.86507016 -1.          0.74266     1.        ]\n",
       "</pre>\n"
      ],
      "text/plain": [
       "action:  [ 0.86507016 -1.          0.74266     1.        ]\n"
      ]
     },
     "metadata": {},
     "output_type": "display_data"
    },
    {
     "data": {
      "text/html": [
       "<pre style=\"white-space:pre;overflow-x:auto;line-height:normal;font-family:Menlo,'DejaVu Sans Mono',consolas,'Courier New',monospace\">position:  (0.07823411958216447, 0.10521542929597154, 0.12547625724300435)\n",
       "</pre>\n"
      ],
      "text/plain": [
       "position:  (0.07823411958216447, 0.10521542929597154, 0.12547625724300435)\n"
      ]
     },
     "metadata": {},
     "output_type": "display_data"
    },
    {
     "data": {
      "text/html": [
       "<pre style=\"white-space:pre;overflow-x:auto;line-height:normal;font-family:Menlo,'DejaVu Sans Mono',consolas,'Courier New',monospace\">jammer pos:  [10.2299043  12.30450941  5.76251045]\n",
       "</pre>\n"
      ],
      "text/plain": [
       "jammer pos:  [10.2299043  12.30450941  5.76251045]\n"
      ]
     },
     "metadata": {},
     "output_type": "display_data"
    },
    {
     "data": {
      "text/html": [
       "<pre style=\"white-space:pre;overflow-x:auto;line-height:normal;font-family:Menlo,'DejaVu Sans Mono',consolas,'Courier New',monospace\">dist:  16.842070403721486\n",
       "</pre>\n"
      ],
      "text/plain": [
       "dist:  16.842070403721486\n"
      ]
     },
     "metadata": {},
     "output_type": "display_data"
    },
    {
     "name": "stdout",
     "output_type": "stream",
     "text": [
      "---------------------------------------\n",
      "| rollout/                |           |\n",
      "|    ep_len_mean          | 27.3      |\n",
      "|    ep_rew_mean          | -1.02e+06 |\n",
      "| time/                   |           |\n",
      "|    fps                  | 111       |\n",
      "|    iterations           | 127       |\n",
      "|    time_elapsed         | 73        |\n",
      "|    total_timesteps      | 8128      |\n",
      "| train/                  |           |\n",
      "|    approx_kl            | 0.0       |\n",
      "|    clip_fraction        | 0         |\n",
      "|    clip_range           | 0.2       |\n",
      "|    entropy_loss         | -5.68     |\n",
      "|    explained_variance   | 0         |\n",
      "|    learning_rate        | 0.0003    |\n",
      "|    loss                 | 1.85e+11  |\n",
      "|    n_updates            | 1260      |\n",
      "|    policy_gradient_loss | -2.89e-06 |\n",
      "|    std                  | 1         |\n",
      "|    value_loss           | 3.71e+11  |\n",
      "---------------------------------------\n"
     ]
    },
    {
     "data": {
      "text/html": [
       "<pre style=\"white-space:pre;overflow-x:auto;line-height:normal;font-family:Menlo,'DejaVu Sans Mono',consolas,'Courier New',monospace\">action:  [-1.  1.  1.  1.]\n",
       "</pre>\n"
      ],
      "text/plain": [
       "action:  [-1.  1.  1.  1.]\n"
      ]
     },
     "metadata": {},
     "output_type": "display_data"
    },
    {
     "data": {
      "text/html": [
       "<pre style=\"white-space:pre;overflow-x:auto;line-height:normal;font-family:Menlo,'DejaVu Sans Mono',consolas,'Courier New',monospace\">position:  (0.07149339149148859, 0.07634116226199052, 0.11042816903889462)\n",
       "</pre>\n"
      ],
      "text/plain": [
       "position:  (0.07149339149148859, 0.07634116226199052, 0.11042816903889462)\n"
      ]
     },
     "metadata": {},
     "output_type": "display_data"
    },
    {
     "data": {
      "text/html": [
       "<pre style=\"white-space:pre;overflow-x:auto;line-height:normal;font-family:Menlo,'DejaVu Sans Mono',consolas,'Courier New',monospace\">jammer pos:  [10.2299043  12.30450941  5.76251045]\n",
       "</pre>\n"
      ],
      "text/plain": [
       "jammer pos:  [10.2299043  12.30450941  5.76251045]\n"
      ]
     },
     "metadata": {},
     "output_type": "display_data"
    },
    {
     "data": {
      "text/html": [
       "<pre style=\"white-space:pre;overflow-x:auto;line-height:normal;font-family:Menlo,'DejaVu Sans Mono',consolas,'Courier New',monospace\">dist:  16.872090709382352\n",
       "</pre>\n"
      ],
      "text/plain": [
       "dist:  16.872090709382352\n"
      ]
     },
     "metadata": {},
     "output_type": "display_data"
    },
    {
     "data": {
      "text/html": [
       "<pre style=\"white-space:pre;overflow-x:auto;line-height:normal;font-family:Menlo,'DejaVu Sans Mono',consolas,'Courier New',monospace\">action:  [0.45650163 0.4333541  0.10127323 1.        ]\n",
       "</pre>\n"
      ],
      "text/plain": [
       "action:  [0.45650163 0.4333541  0.10127323 1.        ]\n"
      ]
     },
     "metadata": {},
     "output_type": "display_data"
    },
    {
     "data": {
      "text/html": [
       "<pre style=\"white-space:pre;overflow-x:auto;line-height:normal;font-family:Menlo,'DejaVu Sans Mono',consolas,'Courier New',monospace\">position:  (0.1241496317256359, 0.1359212198757335, 0.20658404726563367)\n",
       "</pre>\n"
      ],
      "text/plain": [
       "position:  (0.1241496317256359, 0.1359212198757335, 0.20658404726563367)\n"
      ]
     },
     "metadata": {},
     "output_type": "display_data"
    },
    {
     "data": {
      "text/html": [
       "<pre style=\"white-space:pre;overflow-x:auto;line-height:normal;font-family:Menlo,'DejaVu Sans Mono',consolas,'Courier New',monospace\">jammer pos:  [10.2299043  12.30450941  5.76251045]\n",
       "</pre>\n"
      ],
      "text/plain": [
       "jammer pos:  [10.2299043  12.30450941  5.76251045]\n"
      ]
     },
     "metadata": {},
     "output_type": "display_data"
    },
    {
     "data": {
      "text/html": [
       "<pre style=\"white-space:pre;overflow-x:auto;line-height:normal;font-family:Menlo,'DejaVu Sans Mono',consolas,'Courier New',monospace\">dist:  16.765116583626067\n",
       "</pre>\n"
      ],
      "text/plain": [
       "dist:  16.765116583626067\n"
      ]
     },
     "metadata": {},
     "output_type": "display_data"
    },
    {
     "name": "stdout",
     "output_type": "stream",
     "text": [
      "-------------------------------------------\n",
      "| rollout/                |               |\n",
      "|    ep_len_mean          | 27.4          |\n",
      "|    ep_rew_mean          | -1.02e+06     |\n",
      "| time/                   |               |\n",
      "|    fps                  | 111           |\n",
      "|    iterations           | 128           |\n",
      "|    time_elapsed         | 73            |\n",
      "|    total_timesteps      | 8192          |\n",
      "| train/                  |               |\n",
      "|    approx_kl            | 2.7939677e-09 |\n",
      "|    clip_fraction        | 0             |\n",
      "|    clip_range           | 0.2           |\n",
      "|    entropy_loss         | -5.68         |\n",
      "|    explained_variance   | 0             |\n",
      "|    learning_rate        | 0.0003        |\n",
      "|    loss                 | 1.31e+11      |\n",
      "|    n_updates            | 1270          |\n",
      "|    policy_gradient_loss | -1.29e-05     |\n",
      "|    std                  | 1             |\n",
      "|    value_loss           | 2.61e+11      |\n",
      "-------------------------------------------\n"
     ]
    },
    {
     "data": {
      "text/html": [
       "<pre style=\"white-space:pre;overflow-x:auto;line-height:normal;font-family:Menlo,'DejaVu Sans Mono',consolas,'Courier New',monospace\">action:  [ 0.3881807 -0.3957908  1.         1.       ]\n",
       "</pre>\n"
      ],
      "text/plain": [
       "action:  [ 0.3881807 -0.3957908  1.         1.       ]\n"
      ]
     },
     "metadata": {},
     "output_type": "display_data"
    },
    {
     "data": {
      "text/html": [
       "<pre style=\"white-space:pre;overflow-x:auto;line-height:normal;font-family:Menlo,'DejaVu Sans Mono',consolas,'Courier New',monospace\">position:  (0.07300964664094681, 0.09697316311316041, 0.1245585096203584)\n",
       "</pre>\n"
      ],
      "text/plain": [
       "position:  (0.07300964664094681, 0.09697316311316041, 0.1245585096203584)\n"
      ]
     },
     "metadata": {},
     "output_type": "display_data"
    },
    {
     "data": {
      "text/html": [
       "<pre style=\"white-space:pre;overflow-x:auto;line-height:normal;font-family:Menlo,'DejaVu Sans Mono',consolas,'Courier New',monospace\">jammer pos:  [10.2299043  12.30450941  5.76251045]\n",
       "</pre>\n"
      ],
      "text/plain": [
       "jammer pos:  [10.2299043  12.30450941  5.76251045]\n"
      ]
     },
     "metadata": {},
     "output_type": "display_data"
    },
    {
     "data": {
      "text/html": [
       "<pre style=\"white-space:pre;overflow-x:auto;line-height:normal;font-family:Menlo,'DejaVu Sans Mono',consolas,'Courier New',monospace\">dist:  16.851497031849085\n",
       "</pre>\n"
      ],
      "text/plain": [
       "dist:  16.851497031849085\n"
      ]
     },
     "metadata": {},
     "output_type": "display_data"
    },
    {
     "data": {
      "text/html": [
       "<pre style=\"white-space:pre;overflow-x:auto;line-height:normal;font-family:Menlo,'DejaVu Sans Mono',consolas,'Courier New',monospace\">action:  [ 1.         -0.06628177  0.61385596  1.        ]\n",
       "</pre>\n"
      ],
      "text/plain": [
       "action:  [ 1.         -0.06628177  0.61385596  1.        ]\n"
      ]
     },
     "metadata": {},
     "output_type": "display_data"
    },
    {
     "data": {
      "text/html": [
       "<pre style=\"white-space:pre;overflow-x:auto;line-height:normal;font-family:Menlo,'DejaVu Sans Mono',consolas,'Courier New',monospace\">position:  (0.07244685737886981, 0.06174691637131718, 0.0988562933610598)\n",
       "</pre>\n"
      ],
      "text/plain": [
       "position:  (0.07244685737886981, 0.06174691637131718, 0.0988562933610598)\n"
      ]
     },
     "metadata": {},
     "output_type": "display_data"
    },
    {
     "data": {
      "text/html": [
       "<pre style=\"white-space:pre;overflow-x:auto;line-height:normal;font-family:Menlo,'DejaVu Sans Mono',consolas,'Courier New',monospace\">jammer pos:  [10.2299043  12.30450941  5.76251045]\n",
       "</pre>\n"
      ],
      "text/plain": [
       "jammer pos:  [10.2299043  12.30450941  5.76251045]\n"
      ]
     },
     "metadata": {},
     "output_type": "display_data"
    },
    {
     "data": {
      "text/html": [
       "<pre style=\"white-space:pre;overflow-x:auto;line-height:normal;font-family:Menlo,'DejaVu Sans Mono',consolas,'Courier New',monospace\">dist:  16.88597505309593\n",
       "</pre>\n"
      ],
      "text/plain": [
       "dist:  16.88597505309593\n"
      ]
     },
     "metadata": {},
     "output_type": "display_data"
    },
    {
     "data": {
      "text/html": [
       "<pre style=\"white-space:pre;overflow-x:auto;line-height:normal;font-family:Menlo,'DejaVu Sans Mono',consolas,'Courier New',monospace\">action:  [ 0.40132427  1.         -0.6989407   1.        ]\n",
       "</pre>\n"
      ],
      "text/plain": [
       "action:  [ 0.40132427  1.         -0.6989407   1.        ]\n"
      ]
     },
     "metadata": {},
     "output_type": "display_data"
    },
    {
     "data": {
      "text/html": [
       "<pre style=\"white-space:pre;overflow-x:auto;line-height:normal;font-family:Menlo,'DejaVu Sans Mono',consolas,'Courier New',monospace\">position:  (0.06543827275073874, 0.07555085060262327, 0.10192528606974703)\n",
       "</pre>\n"
      ],
      "text/plain": [
       "position:  (0.06543827275073874, 0.07555085060262327, 0.10192528606974703)\n"
      ]
     },
     "metadata": {},
     "output_type": "display_data"
    },
    {
     "data": {
      "text/html": [
       "<pre style=\"white-space:pre;overflow-x:auto;line-height:normal;font-family:Menlo,'DejaVu Sans Mono',consolas,'Courier New',monospace\">jammer pos:  [10.2299043  12.30450941  5.76251045]\n",
       "</pre>\n"
      ],
      "text/plain": [
       "jammer pos:  [10.2299043  12.30450941  5.76251045]\n"
      ]
     },
     "metadata": {},
     "output_type": "display_data"
    },
    {
     "data": {
      "text/html": [
       "<pre style=\"white-space:pre;overflow-x:auto;line-height:normal;font-family:Menlo,'DejaVu Sans Mono',consolas,'Courier New',monospace\">dist:  16.87915938009035\n",
       "</pre>\n"
      ],
      "text/plain": [
       "dist:  16.87915938009035\n"
      ]
     },
     "metadata": {},
     "output_type": "display_data"
    },
    {
     "name": "stdout",
     "output_type": "stream",
     "text": [
      "-------------------------------------------\n",
      "| rollout/                |               |\n",
      "|    ep_len_mean          | 27.2          |\n",
      "|    ep_rew_mean          | -1.02e+06     |\n",
      "| time/                   |               |\n",
      "|    fps                  | 111           |\n",
      "|    iterations           | 129           |\n",
      "|    time_elapsed         | 74            |\n",
      "|    total_timesteps      | 8256          |\n",
      "| train/                  |               |\n",
      "|    approx_kl            | 2.7939677e-09 |\n",
      "|    clip_fraction        | 0             |\n",
      "|    clip_range           | 0.2           |\n",
      "|    entropy_loss         | -5.68         |\n",
      "|    explained_variance   | 0             |\n",
      "|    learning_rate        | 0.0003        |\n",
      "|    loss                 | 1.19e+11      |\n",
      "|    n_updates            | 1280          |\n",
      "|    policy_gradient_loss | -6.76e-06     |\n",
      "|    std                  | 1             |\n",
      "|    value_loss           | 2.38e+11      |\n",
      "-------------------------------------------\n"
     ]
    },
    {
     "data": {
      "text/html": [
       "<pre style=\"white-space:pre;overflow-x:auto;line-height:normal;font-family:Menlo,'DejaVu Sans Mono',consolas,'Courier New',monospace\">action:  [-1.         -1.         -0.33066544  1.        ]\n",
       "</pre>\n"
      ],
      "text/plain": [
       "action:  [-1.         -1.         -0.33066544  1.        ]\n"
      ]
     },
     "metadata": {},
     "output_type": "display_data"
    },
    {
     "data": {
      "text/html": [
       "<pre style=\"white-space:pre;overflow-x:auto;line-height:normal;font-family:Menlo,'DejaVu Sans Mono',consolas,'Courier New',monospace\">position:  (0.0930236769712638, 0.08452071875589832, 0.13259955652693026)\n",
       "</pre>\n"
      ],
      "text/plain": [
       "position:  (0.0930236769712638, 0.08452071875589832, 0.13259955652693026)\n"
      ]
     },
     "metadata": {},
     "output_type": "display_data"
    },
    {
     "data": {
      "text/html": [
       "<pre style=\"white-space:pre;overflow-x:auto;line-height:normal;font-family:Menlo,'DejaVu Sans Mono',consolas,'Courier New',monospace\">jammer pos:  [10.2299043  12.30450941  5.76251045]\n",
       "</pre>\n"
      ],
      "text/plain": [
       "jammer pos:  [10.2299043  12.30450941  5.76251045]\n"
      ]
     },
     "metadata": {},
     "output_type": "display_data"
    },
    {
     "data": {
      "text/html": [
       "<pre style=\"white-space:pre;overflow-x:auto;line-height:normal;font-family:Menlo,'DejaVu Sans Mono',consolas,'Courier New',monospace\">dist:  16.845781933820785\n",
       "</pre>\n"
      ],
      "text/plain": [
       "dist:  16.845781933820785\n"
      ]
     },
     "metadata": {},
     "output_type": "display_data"
    },
    {
     "data": {
      "text/html": [
       "<pre style=\"white-space:pre;overflow-x:auto;line-height:normal;font-family:Menlo,'DejaVu Sans Mono',consolas,'Courier New',monospace\">action:  [-0.9454771   0.5537013   0.98501706  1.        ]\n",
       "</pre>\n"
      ],
      "text/plain": [
       "action:  [-0.9454771   0.5537013   0.98501706  1.        ]\n"
      ]
     },
     "metadata": {},
     "output_type": "display_data"
    },
    {
     "data": {
      "text/html": [
       "<pre style=\"white-space:pre;overflow-x:auto;line-height:normal;font-family:Menlo,'DejaVu Sans Mono',consolas,'Courier New',monospace\">position:  (0.06513952423956153, 0.054249471783044255, 0.11037531541857362)\n",
       "</pre>\n"
      ],
      "text/plain": [
       "position:  (0.06513952423956153, 0.054249471783044255, 0.11037531541857362)\n"
      ]
     },
     "metadata": {},
     "output_type": "display_data"
    },
    {
     "data": {
      "text/html": [
       "<pre style=\"white-space:pre;overflow-x:auto;line-height:normal;font-family:Menlo,'DejaVu Sans Mono',consolas,'Courier New',monospace\">jammer pos:  [10.2299043  12.30450941  5.76251045]\n",
       "</pre>\n"
      ],
      "text/plain": [
       "jammer pos:  [10.2299043  12.30450941  5.76251045]\n"
      ]
     },
     "metadata": {},
     "output_type": "display_data"
    },
    {
     "data": {
      "text/html": [
       "<pre style=\"white-space:pre;overflow-x:auto;line-height:normal;font-family:Menlo,'DejaVu Sans Mono',consolas,'Courier New',monospace\">dist:  16.891949058458458\n",
       "</pre>\n"
      ],
      "text/plain": [
       "dist:  16.891949058458458\n"
      ]
     },
     "metadata": {},
     "output_type": "display_data"
    },
    {
     "name": "stdout",
     "output_type": "stream",
     "text": [
      "-------------------------------------------\n",
      "| rollout/                |               |\n",
      "|    ep_len_mean          | 27.2          |\n",
      "|    ep_rew_mean          | -1.02e+06     |\n",
      "| time/                   |               |\n",
      "|    fps                  | 110           |\n",
      "|    iterations           | 130           |\n",
      "|    time_elapsed         | 75            |\n",
      "|    total_timesteps      | 8320          |\n",
      "| train/                  |               |\n",
      "|    approx_kl            | 2.7939677e-09 |\n",
      "|    clip_fraction        | 0             |\n",
      "|    clip_range           | 0.2           |\n",
      "|    entropy_loss         | -5.68         |\n",
      "|    explained_variance   | -1.19e-07     |\n",
      "|    learning_rate        | 0.0003        |\n",
      "|    loss                 | 1.5e+11       |\n",
      "|    n_updates            | 1290          |\n",
      "|    policy_gradient_loss | 1.64e-06      |\n",
      "|    std                  | 1             |\n",
      "|    value_loss           | 2.99e+11      |\n",
      "-------------------------------------------\n"
     ]
    },
    {
     "data": {
      "text/html": [
       "<pre style=\"white-space:pre;overflow-x:auto;line-height:normal;font-family:Menlo,'DejaVu Sans Mono',consolas,'Courier New',monospace\">action:  [0.9379201  1.         0.19616686 1.        ]\n",
       "</pre>\n"
      ],
      "text/plain": [
       "action:  [0.9379201  1.         0.19616686 1.        ]\n"
      ]
     },
     "metadata": {},
     "output_type": "display_data"
    },
    {
     "data": {
      "text/html": [
       "<pre style=\"white-space:pre;overflow-x:auto;line-height:normal;font-family:Menlo,'DejaVu Sans Mono',consolas,'Courier New',monospace\">position:  (0.19066877488061565, 0.16011203532297247, 0.2011701192917594)\n",
       "</pre>\n"
      ],
      "text/plain": [
       "position:  (0.19066877488061565, 0.16011203532297247, 0.2011701192917594)\n"
      ]
     },
     "metadata": {},
     "output_type": "display_data"
    },
    {
     "data": {
      "text/html": [
       "<pre style=\"white-space:pre;overflow-x:auto;line-height:normal;font-family:Menlo,'DejaVu Sans Mono',consolas,'Courier New',monospace\">jammer pos:  [10.2299043  12.30450941  5.76251045]\n",
       "</pre>\n"
      ],
      "text/plain": [
       "jammer pos:  [10.2299043  12.30450941  5.76251045]\n"
      ]
     },
     "metadata": {},
     "output_type": "display_data"
    },
    {
     "data": {
      "text/html": [
       "<pre style=\"white-space:pre;overflow-x:auto;line-height:normal;font-family:Menlo,'DejaVu Sans Mono',consolas,'Courier New',monospace\">dist:  16.709313083155205\n",
       "</pre>\n"
      ],
      "text/plain": [
       "dist:  16.709313083155205\n"
      ]
     },
     "metadata": {},
     "output_type": "display_data"
    },
    {
     "data": {
      "text/html": [
       "<pre style=\"white-space:pre;overflow-x:auto;line-height:normal;font-family:Menlo,'DejaVu Sans Mono',consolas,'Courier New',monospace\">action:  [-1.          1.          0.68496853  1.        ]\n",
       "</pre>\n"
      ],
      "text/plain": [
       "action:  [-1.          1.          0.68496853  1.        ]\n"
      ]
     },
     "metadata": {},
     "output_type": "display_data"
    },
    {
     "data": {
      "text/html": [
       "<pre style=\"white-space:pre;overflow-x:auto;line-height:normal;font-family:Menlo,'DejaVu Sans Mono',consolas,'Courier New',monospace\">position:  (0.04400932616520161, 0.07269119850919653, 0.09574209061036734)\n",
       "</pre>\n"
      ],
      "text/plain": [
       "position:  (0.04400932616520161, 0.07269119850919653, 0.09574209061036734)\n"
      ]
     },
     "metadata": {},
     "output_type": "display_data"
    },
    {
     "data": {
      "text/html": [
       "<pre style=\"white-space:pre;overflow-x:auto;line-height:normal;font-family:Menlo,'DejaVu Sans Mono',consolas,'Courier New',monospace\">jammer pos:  [10.2299043  12.30450941  5.76251045]\n",
       "</pre>\n"
      ],
      "text/plain": [
       "jammer pos:  [10.2299043  12.30450941  5.76251045]\n"
      ]
     },
     "metadata": {},
     "output_type": "display_data"
    },
    {
     "data": {
      "text/html": [
       "<pre style=\"white-space:pre;overflow-x:auto;line-height:normal;font-family:Menlo,'DejaVu Sans Mono',consolas,'Courier New',monospace\">dist:  16.89621545582804\n",
       "</pre>\n"
      ],
      "text/plain": [
       "dist:  16.89621545582804\n"
      ]
     },
     "metadata": {},
     "output_type": "display_data"
    },
    {
     "data": {
      "text/html": [
       "<pre style=\"white-space:pre;overflow-x:auto;line-height:normal;font-family:Menlo,'DejaVu Sans Mono',consolas,'Courier New',monospace\">action:  [ 0.88194644 -0.3464461  -0.6724227   1.        ]\n",
       "</pre>\n"
      ],
      "text/plain": [
       "action:  [ 0.88194644 -0.3464461  -0.6724227   1.        ]\n"
      ]
     },
     "metadata": {},
     "output_type": "display_data"
    },
    {
     "data": {
      "text/html": [
       "<pre style=\"white-space:pre;overflow-x:auto;line-height:normal;font-family:Menlo,'DejaVu Sans Mono',consolas,'Courier New',monospace\">position:  (0.04777944410213792, 0.05190525091569709, 0.11130434148612571)\n",
       "</pre>\n"
      ],
      "text/plain": [
       "position:  (0.04777944410213792, 0.05190525091569709, 0.11130434148612571)\n"
      ]
     },
     "metadata": {},
     "output_type": "display_data"
    },
    {
     "data": {
      "text/html": [
       "<pre style=\"white-space:pre;overflow-x:auto;line-height:normal;font-family:Menlo,'DejaVu Sans Mono',consolas,'Courier New',monospace\">jammer pos:  [10.2299043  12.30450941  5.76251045]\n",
       "</pre>\n"
      ],
      "text/plain": [
       "jammer pos:  [10.2299043  12.30450941  5.76251045]\n"
      ]
     },
     "metadata": {},
     "output_type": "display_data"
    },
    {
     "data": {
      "text/html": [
       "<pre style=\"white-space:pre;overflow-x:auto;line-height:normal;font-family:Menlo,'DejaVu Sans Mono',consolas,'Courier New',monospace\">dist:  16.903789683226133\n",
       "</pre>\n"
      ],
      "text/plain": [
       "dist:  16.903789683226133\n"
      ]
     },
     "metadata": {},
     "output_type": "display_data"
    },
    {
     "name": "stdout",
     "output_type": "stream",
     "text": [
      "-------------------------------------------\n",
      "| rollout/                |               |\n",
      "|    ep_len_mean          | 27.1          |\n",
      "|    ep_rew_mean          | -1.02e+06     |\n",
      "| time/                   |               |\n",
      "|    fps                  | 109           |\n",
      "|    iterations           | 131           |\n",
      "|    time_elapsed         | 76            |\n",
      "|    total_timesteps      | 8384          |\n",
      "| train/                  |               |\n",
      "|    approx_kl            | 1.6763806e-08 |\n",
      "|    clip_fraction        | 0             |\n",
      "|    clip_range           | 0.2           |\n",
      "|    entropy_loss         | -5.68         |\n",
      "|    explained_variance   | 0             |\n",
      "|    learning_rate        | 0.0003        |\n",
      "|    loss                 | 1.07e+11      |\n",
      "|    n_updates            | 1300          |\n",
      "|    policy_gradient_loss | -3.01e-05     |\n",
      "|    std                  | 1             |\n",
      "|    value_loss           | 2.14e+11      |\n",
      "-------------------------------------------\n"
     ]
    },
    {
     "data": {
      "text/html": [
       "<pre style=\"white-space:pre;overflow-x:auto;line-height:normal;font-family:Menlo,'DejaVu Sans Mono',consolas,'Courier New',monospace\">action:  [1.         1.         0.56515473 1.        ]\n",
       "</pre>\n"
      ],
      "text/plain": [
       "action:  [1.         1.         0.56515473 1.        ]\n"
      ]
     },
     "metadata": {},
     "output_type": "display_data"
    },
    {
     "data": {
      "text/html": [
       "<pre style=\"white-space:pre;overflow-x:auto;line-height:normal;font-family:Menlo,'DejaVu Sans Mono',consolas,'Courier New',monospace\">position:  (0.11379697896493145, 0.08212502354839812, 0.1502379548193149)\n",
       "</pre>\n"
      ],
      "text/plain": [
       "position:  (0.11379697896493145, 0.08212502354839812, 0.1502379548193149)\n"
      ]
     },
     "metadata": {},
     "output_type": "display_data"
    },
    {
     "data": {
      "text/html": [
       "<pre style=\"white-space:pre;overflow-x:auto;line-height:normal;font-family:Menlo,'DejaVu Sans Mono',consolas,'Courier New',monospace\">jammer pos:  [10.2299043  12.30450941  5.76251045]\n",
       "</pre>\n"
      ],
      "text/plain": [
       "jammer pos:  [10.2299043  12.30450941  5.76251045]\n"
      ]
     },
     "metadata": {},
     "output_type": "display_data"
    },
    {
     "data": {
      "text/html": [
       "<pre style=\"white-space:pre;overflow-x:auto;line-height:normal;font-family:Menlo,'DejaVu Sans Mono',consolas,'Courier New',monospace\">dist:  16.829138715175954\n",
       "</pre>\n"
      ],
      "text/plain": [
       "dist:  16.829138715175954\n"
      ]
     },
     "metadata": {},
     "output_type": "display_data"
    },
    {
     "data": {
      "text/html": [
       "<pre style=\"white-space:pre;overflow-x:auto;line-height:normal;font-family:Menlo,'DejaVu Sans Mono',consolas,'Courier New',monospace\">action:  [1.         0.34295774 1.         1.        ]\n",
       "</pre>\n"
      ],
      "text/plain": [
       "action:  [1.         0.34295774 1.         1.        ]\n"
      ]
     },
     "metadata": {},
     "output_type": "display_data"
    },
    {
     "data": {
      "text/html": [
       "<pre style=\"white-space:pre;overflow-x:auto;line-height:normal;font-family:Menlo,'DejaVu Sans Mono',consolas,'Courier New',monospace\">position:  (0.09904977638425125, 0.11549179356752497, 0.14930124149579133)\n",
       "</pre>\n"
      ],
      "text/plain": [
       "position:  (0.09904977638425125, 0.11549179356752497, 0.14930124149579133)\n"
      ]
     },
     "metadata": {},
     "output_type": "display_data"
    },
    {
     "data": {
      "text/html": [
       "<pre style=\"white-space:pre;overflow-x:auto;line-height:normal;font-family:Menlo,'DejaVu Sans Mono',consolas,'Courier New',monospace\">jammer pos:  [10.2299043  12.30450941  5.76251045]\n",
       "</pre>\n"
      ],
      "text/plain": [
       "jammer pos:  [10.2299043  12.30450941  5.76251045]\n"
      ]
     },
     "metadata": {},
     "output_type": "display_data"
    },
    {
     "data": {
      "text/html": [
       "<pre style=\"white-space:pre;overflow-x:auto;line-height:normal;font-family:Menlo,'DejaVu Sans Mono',consolas,'Courier New',monospace\">dist:  16.814115539175276\n",
       "</pre>\n"
      ],
      "text/plain": [
       "dist:  16.814115539175276\n"
      ]
     },
     "metadata": {},
     "output_type": "display_data"
    },
    {
     "name": "stdout",
     "output_type": "stream",
     "text": [
      "-------------------------------------------\n",
      "| rollout/                |               |\n",
      "|    ep_len_mean          | 27.1          |\n",
      "|    ep_rew_mean          | -1.02e+06     |\n",
      "| time/                   |               |\n",
      "|    fps                  | 109           |\n",
      "|    iterations           | 132           |\n",
      "|    time_elapsed         | 76            |\n",
      "|    total_timesteps      | 8448          |\n",
      "| train/                  |               |\n",
      "|    approx_kl            | 2.9802322e-08 |\n",
      "|    clip_fraction        | 0             |\n",
      "|    clip_range           | 0.2           |\n",
      "|    entropy_loss         | -5.68         |\n",
      "|    explained_variance   | 0             |\n",
      "|    learning_rate        | 0.0003        |\n",
      "|    loss                 | 1.49e+11      |\n",
      "|    n_updates            | 1310          |\n",
      "|    policy_gradient_loss | -2.81e-05     |\n",
      "|    std                  | 1             |\n",
      "|    value_loss           | 2.98e+11      |\n",
      "-------------------------------------------\n"
     ]
    },
    {
     "data": {
      "text/html": [
       "<pre style=\"white-space:pre;overflow-x:auto;line-height:normal;font-family:Menlo,'DejaVu Sans Mono',consolas,'Courier New',monospace\">action:  [-1. -1. -1.  1.]\n",
       "</pre>\n"
      ],
      "text/plain": [
       "action:  [-1. -1. -1.  1.]\n"
      ]
     },
     "metadata": {},
     "output_type": "display_data"
    },
    {
     "data": {
      "text/html": [
       "<pre style=\"white-space:pre;overflow-x:auto;line-height:normal;font-family:Menlo,'DejaVu Sans Mono',consolas,'Courier New',monospace\">position:  (0.2149739425247325, 0.23266562968245502, 0.21547654135945965)\n",
       "</pre>\n"
      ],
      "text/plain": [
       "position:  (0.2149739425247325, 0.23266562968245502, 0.21547654135945965)\n"
      ]
     },
     "metadata": {},
     "output_type": "display_data"
    },
    {
     "data": {
      "text/html": [
       "<pre style=\"white-space:pre;overflow-x:auto;line-height:normal;font-family:Menlo,'DejaVu Sans Mono',consolas,'Courier New',monospace\">jammer pos:  [10.2299043  12.30450941  5.76251045]\n",
       "</pre>\n"
      ],
      "text/plain": [
       "jammer pos:  [10.2299043  12.30450941  5.76251045]\n"
      ]
     },
     "metadata": {},
     "output_type": "display_data"
    },
    {
     "data": {
      "text/html": [
       "<pre style=\"white-space:pre;overflow-x:auto;line-height:normal;font-family:Menlo,'DejaVu Sans Mono',consolas,'Courier New',monospace\">dist:  16.637242181917202\n",
       "</pre>\n"
      ],
      "text/plain": [
       "dist:  16.637242181917202\n"
      ]
     },
     "metadata": {},
     "output_type": "display_data"
    },
    {
     "data": {
      "text/html": [
       "<pre style=\"white-space:pre;overflow-x:auto;line-height:normal;font-family:Menlo,'DejaVu Sans Mono',consolas,'Courier New',monospace\">action:  [ 0.21469134 -1.         -0.9600047   1.        ]\n",
       "</pre>\n"
      ],
      "text/plain": [
       "action:  [ 0.21469134 -1.         -0.9600047   1.        ]\n"
      ]
     },
     "metadata": {},
     "output_type": "display_data"
    },
    {
     "data": {
      "text/html": [
       "<pre style=\"white-space:pre;overflow-x:auto;line-height:normal;font-family:Menlo,'DejaVu Sans Mono',consolas,'Courier New',monospace\">position:  (0.09688487480626749, 0.13675776616618218, 0.12281333410735343)\n",
       "</pre>\n"
      ],
      "text/plain": [
       "position:  (0.09688487480626749, 0.13675776616618218, 0.12281333410735343)\n"
      ]
     },
     "metadata": {},
     "output_type": "display_data"
    },
    {
     "data": {
      "text/html": [
       "<pre style=\"white-space:pre;overflow-x:auto;line-height:normal;font-family:Menlo,'DejaVu Sans Mono',consolas,'Courier New',monospace\">jammer pos:  [10.2299043  12.30450941  5.76251045]\n",
       "</pre>\n"
      ],
      "text/plain": [
       "jammer pos:  [10.2299043  12.30450941  5.76251045]\n"
      ]
     },
     "metadata": {},
     "output_type": "display_data"
    },
    {
     "data": {
      "text/html": [
       "<pre style=\"white-space:pre;overflow-x:auto;line-height:normal;font-family:Menlo,'DejaVu Sans Mono',consolas,'Courier New',monospace\">dist:  16.808879980851806\n",
       "</pre>\n"
      ],
      "text/plain": [
       "dist:  16.808879980851806\n"
      ]
     },
     "metadata": {},
     "output_type": "display_data"
    },
    {
     "name": "stdout",
     "output_type": "stream",
     "text": [
      "-------------------------------------------\n",
      "| rollout/                |               |\n",
      "|    ep_len_mean          | 27.1          |\n",
      "|    ep_rew_mean          | -1.02e+06     |\n",
      "| time/                   |               |\n",
      "|    fps                  | 110           |\n",
      "|    iterations           | 133           |\n",
      "|    time_elapsed         | 77            |\n",
      "|    total_timesteps      | 8512          |\n",
      "| train/                  |               |\n",
      "|    approx_kl            | 4.4703484e-08 |\n",
      "|    clip_fraction        | 0             |\n",
      "|    clip_range           | 0.2           |\n",
      "|    entropy_loss         | -5.68         |\n",
      "|    explained_variance   | 0             |\n",
      "|    learning_rate        | 0.0003        |\n",
      "|    loss                 | 1.12e+11      |\n",
      "|    n_updates            | 1320          |\n",
      "|    policy_gradient_loss | -3.15e-05     |\n",
      "|    std                  | 1             |\n",
      "|    value_loss           | 2.23e+11      |\n",
      "-------------------------------------------\n"
     ]
    },
    {
     "data": {
      "text/html": [
       "<pre style=\"white-space:pre;overflow-x:auto;line-height:normal;font-family:Menlo,'DejaVu Sans Mono',consolas,'Courier New',monospace\">action:  [-0.9286639   1.         -0.62118334  1.        ]\n",
       "</pre>\n"
      ],
      "text/plain": [
       "action:  [-0.9286639   1.         -0.62118334  1.        ]\n"
      ]
     },
     "metadata": {},
     "output_type": "display_data"
    },
    {
     "data": {
      "text/html": [
       "<pre style=\"white-space:pre;overflow-x:auto;line-height:normal;font-family:Menlo,'DejaVu Sans Mono',consolas,'Courier New',monospace\">position:  (0.22222223085693288, 0.2122563626479813, 0.20290865637758418)\n",
       "</pre>\n"
      ],
      "text/plain": [
       "position:  (0.22222223085693288, 0.2122563626479813, 0.20290865637758418)\n"
      ]
     },
     "metadata": {},
     "output_type": "display_data"
    },
    {
     "data": {
      "text/html": [
       "<pre style=\"white-space:pre;overflow-x:auto;line-height:normal;font-family:Menlo,'DejaVu Sans Mono',consolas,'Courier New',monospace\">jammer pos:  [10.2299043  12.30450941  5.76251045]\n",
       "</pre>\n"
      ],
      "text/plain": [
       "jammer pos:  [10.2299043  12.30450941  5.76251045]\n"
      ]
     },
     "metadata": {},
     "output_type": "display_data"
    },
    {
     "data": {
      "text/html": [
       "<pre style=\"white-space:pre;overflow-x:auto;line-height:normal;font-family:Menlo,'DejaVu Sans Mono',consolas,'Courier New',monospace\">dist:  16.65189046854593\n",
       "</pre>\n"
      ],
      "text/plain": [
       "dist:  16.65189046854593\n"
      ]
     },
     "metadata": {},
     "output_type": "display_data"
    },
    {
     "data": {
      "text/html": [
       "<pre style=\"white-space:pre;overflow-x:auto;line-height:normal;font-family:Menlo,'DejaVu Sans Mono',consolas,'Courier New',monospace\">action:  [-0.9030191 -0.7231547  1.         1.       ]\n",
       "</pre>\n"
      ],
      "text/plain": [
       "action:  [-0.9030191 -0.7231547  1.         1.       ]\n"
      ]
     },
     "metadata": {},
     "output_type": "display_data"
    },
    {
     "data": {
      "text/html": [
       "<pre style=\"white-space:pre;overflow-x:auto;line-height:normal;font-family:Menlo,'DejaVu Sans Mono',consolas,'Courier New',monospace\">position:  (0.13013762740067816, 0.10529641500973433, 0.16230902988051465)\n",
       "</pre>\n"
      ],
      "text/plain": [
       "position:  (0.13013762740067816, 0.10529641500973433, 0.16230902988051465)\n"
      ]
     },
     "metadata": {},
     "output_type": "display_data"
    },
    {
     "data": {
      "text/html": [
       "<pre style=\"white-space:pre;overflow-x:auto;line-height:normal;font-family:Menlo,'DejaVu Sans Mono',consolas,'Courier New',monospace\">jammer pos:  [10.2299043  12.30450941  5.76251045]\n",
       "</pre>\n"
      ],
      "text/plain": [
       "jammer pos:  [10.2299043  12.30450941  5.76251045]\n"
      ]
     },
     "metadata": {},
     "output_type": "display_data"
    },
    {
     "data": {
      "text/html": [
       "<pre style=\"white-space:pre;overflow-x:auto;line-height:normal;font-family:Menlo,'DejaVu Sans Mono',consolas,'Courier New',monospace\">dist:  16.798462441478044\n",
       "</pre>\n"
      ],
      "text/plain": [
       "dist:  16.798462441478044\n"
      ]
     },
     "metadata": {},
     "output_type": "display_data"
    },
    {
     "name": "stdout",
     "output_type": "stream",
     "text": [
      "-------------------------------------------\n",
      "| rollout/                |               |\n",
      "|    ep_len_mean          | 27.2          |\n",
      "|    ep_rew_mean          | -1.02e+06     |\n",
      "| time/                   |               |\n",
      "|    fps                  | 110           |\n",
      "|    iterations           | 134           |\n",
      "|    time_elapsed         | 77            |\n",
      "|    total_timesteps      | 8576          |\n",
      "| train/                  |               |\n",
      "|    approx_kl            | 5.3085387e-08 |\n",
      "|    clip_fraction        | 0             |\n",
      "|    clip_range           | 0.2           |\n",
      "|    entropy_loss         | -5.68         |\n",
      "|    explained_variance   | -1.19e-07     |\n",
      "|    learning_rate        | 0.0003        |\n",
      "|    loss                 | 1.14e+11      |\n",
      "|    n_updates            | 1330          |\n",
      "|    policy_gradient_loss | -3.82e-05     |\n",
      "|    std                  | 1             |\n",
      "|    value_loss           | 2.28e+11      |\n",
      "-------------------------------------------\n"
     ]
    },
    {
     "data": {
      "text/html": [
       "<pre style=\"white-space:pre;overflow-x:auto;line-height:normal;font-family:Menlo,'DejaVu Sans Mono',consolas,'Courier New',monospace\">action:  [-0.6875214   0.03017118  0.62665534  1.        ]\n",
       "</pre>\n"
      ],
      "text/plain": [
       "action:  [-0.6875214   0.03017118  0.62665534  1.        ]\n"
      ]
     },
     "metadata": {},
     "output_type": "display_data"
    },
    {
     "data": {
      "text/html": [
       "<pre style=\"white-space:pre;overflow-x:auto;line-height:normal;font-family:Menlo,'DejaVu Sans Mono',consolas,'Courier New',monospace\">position:  (0.14183695009875621, 0.1310931544846568, 0.19848969967749897)\n",
       "</pre>\n"
      ],
      "text/plain": [
       "position:  (0.14183695009875621, 0.1310931544846568, 0.19848969967749897)\n"
      ]
     },
     "metadata": {},
     "output_type": "display_data"
    },
    {
     "data": {
      "text/html": [
       "<pre style=\"white-space:pre;overflow-x:auto;line-height:normal;font-family:Menlo,'DejaVu Sans Mono',consolas,'Courier New',monospace\">jammer pos:  [10.2299043  12.30450941  5.76251045]\n",
       "</pre>\n"
      ],
      "text/plain": [
       "jammer pos:  [10.2299043  12.30450941  5.76251045]\n"
      ]
     },
     "metadata": {},
     "output_type": "display_data"
    },
    {
     "data": {
      "text/html": [
       "<pre style=\"white-space:pre;overflow-x:auto;line-height:normal;font-family:Menlo,'DejaVu Sans Mono',consolas,'Courier New',monospace\">dist:  16.76065312003084\n",
       "</pre>\n"
      ],
      "text/plain": [
       "dist:  16.76065312003084\n"
      ]
     },
     "metadata": {},
     "output_type": "display_data"
    },
    {
     "data": {
      "text/html": [
       "<pre style=\"white-space:pre;overflow-x:auto;line-height:normal;font-family:Menlo,'DejaVu Sans Mono',consolas,'Courier New',monospace\">action:  [ 1. -1.  1.  1.]\n",
       "</pre>\n"
      ],
      "text/plain": [
       "action:  [ 1. -1.  1.  1.]\n"
      ]
     },
     "metadata": {},
     "output_type": "display_data"
    },
    {
     "data": {
      "text/html": [
       "<pre style=\"white-space:pre;overflow-x:auto;line-height:normal;font-family:Menlo,'DejaVu Sans Mono',consolas,'Courier New',monospace\">position:  (0.1064260509591178, 0.13267305912491265, 0.21587449624227947)\n",
       "</pre>\n"
      ],
      "text/plain": [
       "position:  (0.1064260509591178, 0.13267305912491265, 0.21587449624227947)\n"
      ]
     },
     "metadata": {},
     "output_type": "display_data"
    },
    {
     "data": {
      "text/html": [
       "<pre style=\"white-space:pre;overflow-x:auto;line-height:normal;font-family:Menlo,'DejaVu Sans Mono',consolas,'Courier New',monospace\">jammer pos:  [10.2299043  12.30450941  5.76251045]\n",
       "</pre>\n"
      ],
      "text/plain": [
       "jammer pos:  [10.2299043  12.30450941  5.76251045]\n"
      ]
     },
     "metadata": {},
     "output_type": "display_data"
    },
    {
     "data": {
      "text/html": [
       "<pre style=\"white-space:pre;overflow-x:auto;line-height:normal;font-family:Menlo,'DejaVu Sans Mono',consolas,'Courier New',monospace\">dist:  16.775088146668914\n",
       "</pre>\n"
      ],
      "text/plain": [
       "dist:  16.775088146668914\n"
      ]
     },
     "metadata": {},
     "output_type": "display_data"
    },
    {
     "data": {
      "text/html": [
       "<pre style=\"white-space:pre;overflow-x:auto;line-height:normal;font-family:Menlo,'DejaVu Sans Mono',consolas,'Courier New',monospace\">action:  [ 0.5292707  -0.5795692   0.90715706  1.        ]\n",
       "</pre>\n"
      ],
      "text/plain": [
       "action:  [ 0.5292707  -0.5795692   0.90715706  1.        ]\n"
      ]
     },
     "metadata": {},
     "output_type": "display_data"
    },
    {
     "data": {
      "text/html": [
       "<pre style=\"white-space:pre;overflow-x:auto;line-height:normal;font-family:Menlo,'DejaVu Sans Mono',consolas,'Courier New',monospace\">position:  (0.04846861602470069, 0.059143075235145906, 0.10940564730190531)\n",
       "</pre>\n"
      ],
      "text/plain": [
       "position:  (0.04846861602470069, 0.059143075235145906, 0.10940564730190531)\n"
      ]
     },
     "metadata": {},
     "output_type": "display_data"
    },
    {
     "data": {
      "text/html": [
       "<pre style=\"white-space:pre;overflow-x:auto;line-height:normal;font-family:Menlo,'DejaVu Sans Mono',consolas,'Courier New',monospace\">jammer pos:  [10.2299043  12.30450941  5.76251045]\n",
       "</pre>\n"
      ],
      "text/plain": [
       "jammer pos:  [10.2299043  12.30450941  5.76251045]\n"
      ]
     },
     "metadata": {},
     "output_type": "display_data"
    },
    {
     "data": {
      "text/html": [
       "<pre style=\"white-space:pre;overflow-x:auto;line-height:normal;font-family:Menlo,'DejaVu Sans Mono',consolas,'Courier New',monospace\">dist:  16.898763951349324\n",
       "</pre>\n"
      ],
      "text/plain": [
       "dist:  16.898763951349324\n"
      ]
     },
     "metadata": {},
     "output_type": "display_data"
    },
    {
     "name": "stdout",
     "output_type": "stream",
     "text": [
      "------------------------------------------\n",
      "| rollout/                |              |\n",
      "|    ep_len_mean          | 27.3         |\n",
      "|    ep_rew_mean          | -1.02e+06    |\n",
      "| time/                   |              |\n",
      "|    fps                  | 110          |\n",
      "|    iterations           | 135          |\n",
      "|    time_elapsed         | 78           |\n",
      "|    total_timesteps      | 8640         |\n",
      "| train/                  |              |\n",
      "|    approx_kl            | 4.004687e-08 |\n",
      "|    clip_fraction        | 0            |\n",
      "|    clip_range           | 0.2          |\n",
      "|    entropy_loss         | -5.68        |\n",
      "|    explained_variance   | 0            |\n",
      "|    learning_rate        | 0.0003       |\n",
      "|    loss                 | 1.19e+11     |\n",
      "|    n_updates            | 1340         |\n",
      "|    policy_gradient_loss | -3.06e-05    |\n",
      "|    std                  | 1            |\n",
      "|    value_loss           | 2.39e+11     |\n",
      "------------------------------------------\n"
     ]
    },
    {
     "data": {
      "text/html": [
       "<pre style=\"white-space:pre;overflow-x:auto;line-height:normal;font-family:Menlo,'DejaVu Sans Mono',consolas,'Courier New',monospace\">action:  [ 1.         -0.9193711   0.44040582  1.        ]\n",
       "</pre>\n"
      ],
      "text/plain": [
       "action:  [ 1.         -0.9193711   0.44040582  1.        ]\n"
      ]
     },
     "metadata": {},
     "output_type": "display_data"
    },
    {
     "data": {
      "text/html": [
       "<pre style=\"white-space:pre;overflow-x:auto;line-height:normal;font-family:Menlo,'DejaVu Sans Mono',consolas,'Courier New',monospace\">position:  (0.03993975657153538, 0.067657365255708, 0.10599994122669432)\n",
       "</pre>\n"
      ],
      "text/plain": [
       "position:  (0.03993975657153538, 0.067657365255708, 0.10599994122669432)\n"
      ]
     },
     "metadata": {},
     "output_type": "display_data"
    },
    {
     "data": {
      "text/html": [
       "<pre style=\"white-space:pre;overflow-x:auto;line-height:normal;font-family:Menlo,'DejaVu Sans Mono',consolas,'Courier New',monospace\">jammer pos:  [10.2299043  12.30450941  5.76251045]\n",
       "</pre>\n"
      ],
      "text/plain": [
       "jammer pos:  [10.2299043  12.30450941  5.76251045]\n"
      ]
     },
     "metadata": {},
     "output_type": "display_data"
    },
    {
     "data": {
      "text/html": [
       "<pre style=\"white-space:pre;overflow-x:auto;line-height:normal;font-family:Menlo,'DejaVu Sans Mono',consolas,'Courier New',monospace\">dist:  16.898876779563675\n",
       "</pre>\n"
      ],
      "text/plain": [
       "dist:  16.898876779563675\n"
      ]
     },
     "metadata": {},
     "output_type": "display_data"
    },
    {
     "data": {
      "text/html": [
       "<pre style=\"white-space:pre;overflow-x:auto;line-height:normal;font-family:Menlo,'DejaVu Sans Mono',consolas,'Courier New',monospace\">action:  [ 0.3553645 -1.        -1.         1.       ]\n",
       "</pre>\n"
      ],
      "text/plain": [
       "action:  [ 0.3553645 -1.        -1.         1.       ]\n"
      ]
     },
     "metadata": {},
     "output_type": "display_data"
    },
    {
     "data": {
      "text/html": [
       "<pre style=\"white-space:pre;overflow-x:auto;line-height:normal;font-family:Menlo,'DejaVu Sans Mono',consolas,'Courier New',monospace\">position:  (0.07073634311594762, 0.08397215523423458, 0.1312570196658065)\n",
       "</pre>\n"
      ],
      "text/plain": [
       "position:  (0.07073634311594762, 0.08397215523423458, 0.1312570196658065)\n"
      ]
     },
     "metadata": {},
     "output_type": "display_data"
    },
    {
     "data": {
      "text/html": [
       "<pre style=\"white-space:pre;overflow-x:auto;line-height:normal;font-family:Menlo,'DejaVu Sans Mono',consolas,'Courier New',monospace\">jammer pos:  [10.2299043  12.30450941  5.76251045]\n",
       "</pre>\n"
      ],
      "text/plain": [
       "jammer pos:  [10.2299043  12.30450941  5.76251045]\n"
      ]
     },
     "metadata": {},
     "output_type": "display_data"
    },
    {
     "data": {
      "text/html": [
       "<pre style=\"white-space:pre;overflow-x:auto;line-height:normal;font-family:Menlo,'DejaVu Sans Mono',consolas,'Courier New',monospace\">dist:  16.860048620383004\n",
       "</pre>\n"
      ],
      "text/plain": [
       "dist:  16.860048620383004\n"
      ]
     },
     "metadata": {},
     "output_type": "display_data"
    },
    {
     "data": {
      "text/html": [
       "<pre style=\"white-space:pre;overflow-x:auto;line-height:normal;font-family:Menlo,'DejaVu Sans Mono',consolas,'Courier New',monospace\">action:  [-1.         1.         0.6825468  1.       ]\n",
       "</pre>\n"
      ],
      "text/plain": [
       "action:  [-1.         1.         0.6825468  1.       ]\n"
      ]
     },
     "metadata": {},
     "output_type": "display_data"
    },
    {
     "data": {
      "text/html": [
       "<pre style=\"white-space:pre;overflow-x:auto;line-height:normal;font-family:Menlo,'DejaVu Sans Mono',consolas,'Courier New',monospace\">position:  (0.05089124816073213, 0.06577443491956857, 0.1288223092532653)\n",
       "</pre>\n"
      ],
      "text/plain": [
       "position:  (0.05089124816073213, 0.06577443491956857, 0.1288223092532653)\n"
      ]
     },
     "metadata": {},
     "output_type": "display_data"
    },
    {
     "data": {
      "text/html": [
       "<pre style=\"white-space:pre;overflow-x:auto;line-height:normal;font-family:Menlo,'DejaVu Sans Mono',consolas,'Courier New',monospace\">jammer pos:  [10.2299043  12.30450941  5.76251045]\n",
       "</pre>\n"
      ],
      "text/plain": [
       "jammer pos:  [10.2299043  12.30450941  5.76251045]\n"
      ]
     },
     "metadata": {},
     "output_type": "display_data"
    },
    {
     "data": {
      "text/html": [
       "<pre style=\"white-space:pre;overflow-x:auto;line-height:normal;font-family:Menlo,'DejaVu Sans Mono',consolas,'Courier New',monospace\">dist:  16.886011443811377\n",
       "</pre>\n"
      ],
      "text/plain": [
       "dist:  16.886011443811377\n"
      ]
     },
     "metadata": {},
     "output_type": "display_data"
    },
    {
     "name": "stdout",
     "output_type": "stream",
     "text": [
      "-------------------------------------------\n",
      "| rollout/                |               |\n",
      "|    ep_len_mean          | 27.2          |\n",
      "|    ep_rew_mean          | -1.02e+06     |\n",
      "| time/                   |               |\n",
      "|    fps                  | 110           |\n",
      "|    iterations           | 136           |\n",
      "|    time_elapsed         | 79            |\n",
      "|    total_timesteps      | 8704          |\n",
      "| train/                  |               |\n",
      "|    approx_kl            | 1.1175871e-08 |\n",
      "|    clip_fraction        | 0             |\n",
      "|    clip_range           | 0.2           |\n",
      "|    entropy_loss         | -5.68         |\n",
      "|    explained_variance   | -1.19e-07     |\n",
      "|    learning_rate        | 0.0003        |\n",
      "|    loss                 | 1.66e+11      |\n",
      "|    n_updates            | 1350          |\n",
      "|    policy_gradient_loss | 4.81e-08      |\n",
      "|    std                  | 1             |\n",
      "|    value_loss           | 3.32e+11      |\n",
      "-------------------------------------------\n"
     ]
    },
    {
     "data": {
      "text/html": [
       "<pre style=\"white-space:pre;overflow-x:auto;line-height:normal;font-family:Menlo,'DejaVu Sans Mono',consolas,'Courier New',monospace\">action:  [-0.17942579  0.29143992 -0.15044513  1.        ]\n",
       "</pre>\n"
      ],
      "text/plain": [
       "action:  [-0.17942579  0.29143992 -0.15044513  1.        ]\n"
      ]
     },
     "metadata": {},
     "output_type": "display_data"
    },
    {
     "data": {
      "text/html": [
       "<pre style=\"white-space:pre;overflow-x:auto;line-height:normal;font-family:Menlo,'DejaVu Sans Mono',consolas,'Courier New',monospace\">position:  (0.11405166422291832, 0.11882246404433752, 0.1517244613907075)\n",
       "</pre>\n"
      ],
      "text/plain": [
       "position:  (0.11405166422291832, 0.11882246404433752, 0.1517244613907075)\n"
      ]
     },
     "metadata": {},
     "output_type": "display_data"
    },
    {
     "data": {
      "text/html": [
       "<pre style=\"white-space:pre;overflow-x:auto;line-height:normal;font-family:Menlo,'DejaVu Sans Mono',consolas,'Courier New',monospace\">jammer pos:  [10.2299043  12.30450941  5.76251045]\n",
       "</pre>\n"
      ],
      "text/plain": [
       "jammer pos:  [10.2299043  12.30450941  5.76251045]\n"
      ]
     },
     "metadata": {},
     "output_type": "display_data"
    },
    {
     "data": {
      "text/html": [
       "<pre style=\"white-space:pre;overflow-x:auto;line-height:normal;font-family:Menlo,'DejaVu Sans Mono',consolas,'Courier New',monospace\">dist:  16.80185585634862\n",
       "</pre>\n"
      ],
      "text/plain": [
       "dist:  16.80185585634862\n"
      ]
     },
     "metadata": {},
     "output_type": "display_data"
    },
    {
     "name": "stdout",
     "output_type": "stream",
     "text": [
      "------------------------------------------\n",
      "| rollout/                |              |\n",
      "|    ep_len_mean          | 27.2         |\n",
      "|    ep_rew_mean          | -1.02e+06    |\n",
      "| time/                   |              |\n",
      "|    fps                  | 110          |\n",
      "|    iterations           | 137          |\n",
      "|    time_elapsed         | 79           |\n",
      "|    total_timesteps      | 8768         |\n",
      "| train/                  |              |\n",
      "|    approx_kl            | 3.259629e-08 |\n",
      "|    clip_fraction        | 0            |\n",
      "|    clip_range           | 0.2          |\n",
      "|    entropy_loss         | -5.68        |\n",
      "|    explained_variance   | 1.79e-07     |\n",
      "|    learning_rate        | 0.0003       |\n",
      "|    loss                 | 1.89e+11     |\n",
      "|    n_updates            | 1360         |\n",
      "|    policy_gradient_loss | -3.11e-05    |\n",
      "|    std                  | 1            |\n",
      "|    value_loss           | 3.78e+11     |\n",
      "------------------------------------------\n"
     ]
    },
    {
     "data": {
      "text/html": [
       "<pre style=\"white-space:pre;overflow-x:auto;line-height:normal;font-family:Menlo,'DejaVu Sans Mono',consolas,'Courier New',monospace\">action:  [ 0.7991126  -0.50544846 -1.          1.        ]\n",
       "</pre>\n"
      ],
      "text/plain": [
       "action:  [ 0.7991126  -0.50544846 -1.          1.        ]\n"
      ]
     },
     "metadata": {},
     "output_type": "display_data"
    },
    {
     "data": {
      "text/html": [
       "<pre style=\"white-space:pre;overflow-x:auto;line-height:normal;font-family:Menlo,'DejaVu Sans Mono',consolas,'Courier New',monospace\">position:  (0.468372517036299, 0.36391238069916176, 0.38170271435019876)\n",
       "</pre>\n"
      ],
      "text/plain": [
       "position:  (0.468372517036299, 0.36391238069916176, 0.38170271435019876)\n"
      ]
     },
     "metadata": {},
     "output_type": "display_data"
    },
    {
     "data": {
      "text/html": [
       "<pre style=\"white-space:pre;overflow-x:auto;line-height:normal;font-family:Menlo,'DejaVu Sans Mono',consolas,'Courier New',monospace\">jammer pos:  [10.2299043  12.30450941  5.76251045]\n",
       "</pre>\n"
      ],
      "text/plain": [
       "jammer pos:  [10.2299043  12.30450941  5.76251045]\n"
      ]
     },
     "metadata": {},
     "output_type": "display_data"
    },
    {
     "data": {
      "text/html": [
       "<pre style=\"white-space:pre;overflow-x:auto;line-height:normal;font-family:Menlo,'DejaVu Sans Mono',consolas,'Courier New',monospace\">dist:  16.33457841417905\n",
       "</pre>\n"
      ],
      "text/plain": [
       "dist:  16.33457841417905\n"
      ]
     },
     "metadata": {},
     "output_type": "display_data"
    },
    {
     "data": {
      "text/html": [
       "<pre style=\"white-space:pre;overflow-x:auto;line-height:normal;font-family:Menlo,'DejaVu Sans Mono',consolas,'Courier New',monospace\">action:  [-0.74404484 -0.8817656   1.          1.        ]\n",
       "</pre>\n"
      ],
      "text/plain": [
       "action:  [-0.74404484 -0.8817656   1.          1.        ]\n"
      ]
     },
     "metadata": {},
     "output_type": "display_data"
    },
    {
     "data": {
      "text/html": [
       "<pre style=\"white-space:pre;overflow-x:auto;line-height:normal;font-family:Menlo,'DejaVu Sans Mono',consolas,'Courier New',monospace\">position:  (0.10706871765241112, 0.07558010818841757, 0.1434580998128477)\n",
       "</pre>\n"
      ],
      "text/plain": [
       "position:  (0.10706871765241112, 0.07558010818841757, 0.1434580998128477)\n"
      ]
     },
     "metadata": {},
     "output_type": "display_data"
    },
    {
     "data": {
      "text/html": [
       "<pre style=\"white-space:pre;overflow-x:auto;line-height:normal;font-family:Menlo,'DejaVu Sans Mono',consolas,'Courier New',monospace\">jammer pos:  [10.2299043  12.30450941  5.76251045]\n",
       "</pre>\n"
      ],
      "text/plain": [
       "jammer pos:  [10.2299043  12.30450941  5.76251045]\n"
      ]
     },
     "metadata": {},
     "output_type": "display_data"
    },
    {
     "data": {
      "text/html": [
       "<pre style=\"white-space:pre;overflow-x:auto;line-height:normal;font-family:Menlo,'DejaVu Sans Mono',consolas,'Courier New',monospace\">dist:  16.840197781607724\n",
       "</pre>\n"
      ],
      "text/plain": [
       "dist:  16.840197781607724\n"
      ]
     },
     "metadata": {},
     "output_type": "display_data"
    },
    {
     "name": "stdout",
     "output_type": "stream",
     "text": [
      "-------------------------------------------\n",
      "| rollout/                |               |\n",
      "|    ep_len_mean          | 27.4          |\n",
      "|    ep_rew_mean          | -1.02e+06     |\n",
      "| time/                   |               |\n",
      "|    fps                  | 110           |\n",
      "|    iterations           | 138           |\n",
      "|    time_elapsed         | 79            |\n",
      "|    total_timesteps      | 8832          |\n",
      "| train/                  |               |\n",
      "|    approx_kl            | 5.8673322e-08 |\n",
      "|    clip_fraction        | 0             |\n",
      "|    clip_range           | 0.2           |\n",
      "|    entropy_loss         | -5.68         |\n",
      "|    explained_variance   | 1.19e-07      |\n",
      "|    learning_rate        | 0.0003        |\n",
      "|    loss                 | 6.55e+10      |\n",
      "|    n_updates            | 1370          |\n",
      "|    policy_gradient_loss | -4.2e-05      |\n",
      "|    std                  | 1             |\n",
      "|    value_loss           | 1.31e+11      |\n",
      "-------------------------------------------\n"
     ]
    },
    {
     "data": {
      "text/html": [
       "<pre style=\"white-space:pre;overflow-x:auto;line-height:normal;font-family:Menlo,'DejaVu Sans Mono',consolas,'Courier New',monospace\">action:  [ 0.25974444 -0.3261683  -1.          1.        ]\n",
       "</pre>\n"
      ],
      "text/plain": [
       "action:  [ 0.25974444 -0.3261683  -1.          1.        ]\n"
      ]
     },
     "metadata": {},
     "output_type": "display_data"
    },
    {
     "data": {
      "text/html": [
       "<pre style=\"white-space:pre;overflow-x:auto;line-height:normal;font-family:Menlo,'DejaVu Sans Mono',consolas,'Courier New',monospace\">position:  (0.2887402931804309, 0.3269156531901538, 0.3072921598342192)\n",
       "</pre>\n"
      ],
      "text/plain": [
       "position:  (0.2887402931804309, 0.3269156531901538, 0.3072921598342192)\n"
      ]
     },
     "metadata": {},
     "output_type": "display_data"
    },
    {
     "data": {
      "text/html": [
       "<pre style=\"white-space:pre;overflow-x:auto;line-height:normal;font-family:Menlo,'DejaVu Sans Mono',consolas,'Courier New',monospace\">jammer pos:  [10.2299043  12.30450941  5.76251045]\n",
       "</pre>\n"
      ],
      "text/plain": [
       "jammer pos:  [10.2299043  12.30450941  5.76251045]\n"
      ]
     },
     "metadata": {},
     "output_type": "display_data"
    },
    {
     "data": {
      "text/html": [
       "<pre style=\"white-space:pre;overflow-x:auto;line-height:normal;font-family:Menlo,'DejaVu Sans Mono',consolas,'Courier New',monospace\">dist:  16.493904950680392\n",
       "</pre>\n"
      ],
      "text/plain": [
       "dist:  16.493904950680392\n"
      ]
     },
     "metadata": {},
     "output_type": "display_data"
    },
    {
     "name": "stdout",
     "output_type": "stream",
     "text": [
      "-------------------------------------------\n",
      "| rollout/                |               |\n",
      "|    ep_len_mean          | 27.6          |\n",
      "|    ep_rew_mean          | -1.02e+06     |\n",
      "| time/                   |               |\n",
      "|    fps                  | 111           |\n",
      "|    iterations           | 139           |\n",
      "|    time_elapsed         | 80            |\n",
      "|    total_timesteps      | 8896          |\n",
      "| train/                  |               |\n",
      "|    approx_kl            | 5.3085387e-08 |\n",
      "|    clip_fraction        | 0             |\n",
      "|    clip_range           | 0.2           |\n",
      "|    entropy_loss         | -5.68         |\n",
      "|    explained_variance   | 0             |\n",
      "|    learning_rate        | 0.0003        |\n",
      "|    loss                 | 1.19e+11      |\n",
      "|    n_updates            | 1380          |\n",
      "|    policy_gradient_loss | -1.32e-05     |\n",
      "|    std                  | 1             |\n",
      "|    value_loss           | 2.38e+11      |\n",
      "-------------------------------------------\n"
     ]
    },
    {
     "data": {
      "text/html": [
       "<pre style=\"white-space:pre;overflow-x:auto;line-height:normal;font-family:Menlo,'DejaVu Sans Mono',consolas,'Courier New',monospace\">action:  [-0.2511026 -1.         1.         1.       ]\n",
       "</pre>\n"
      ],
      "text/plain": [
       "action:  [-0.2511026 -1.         1.         1.       ]\n"
      ]
     },
     "metadata": {},
     "output_type": "display_data"
    },
    {
     "data": {
      "text/html": [
       "<pre style=\"white-space:pre;overflow-x:auto;line-height:normal;font-family:Menlo,'DejaVu Sans Mono',consolas,'Courier New',monospace\">position:  (0.38549922328454095, 0.4584169192850224, 0.458558968565004)\n",
       "</pre>\n"
      ],
      "text/plain": [
       "position:  (0.38549922328454095, 0.4584169192850224, 0.458558968565004)\n"
      ]
     },
     "metadata": {},
     "output_type": "display_data"
    },
    {
     "data": {
      "text/html": [
       "<pre style=\"white-space:pre;overflow-x:auto;line-height:normal;font-family:Menlo,'DejaVu Sans Mono',consolas,'Courier New',monospace\">jammer pos:  [10.2299043  12.30450941  5.76251045]\n",
       "</pre>\n"
      ],
      "text/plain": [
       "jammer pos:  [10.2299043  12.30450941  5.76251045]\n"
      ]
     },
     "metadata": {},
     "output_type": "display_data"
    },
    {
     "data": {
      "text/html": [
       "<pre style=\"white-space:pre;overflow-x:auto;line-height:normal;font-family:Menlo,'DejaVu Sans Mono',consolas,'Courier New',monospace\">dist:  16.29030754301181\n",
       "</pre>\n"
      ],
      "text/plain": [
       "dist:  16.29030754301181\n"
      ]
     },
     "metadata": {},
     "output_type": "display_data"
    },
    {
     "data": {
      "text/html": [
       "<pre style=\"white-space:pre;overflow-x:auto;line-height:normal;font-family:Menlo,'DejaVu Sans Mono',consolas,'Courier New',monospace\">action:  [ 0.22297615 -0.07822856  0.6439398   1.        ]\n",
       "</pre>\n"
      ],
      "text/plain": [
       "action:  [ 0.22297615 -0.07822856  0.6439398   1.        ]\n"
      ]
     },
     "metadata": {},
     "output_type": "display_data"
    },
    {
     "data": {
      "text/html": [
       "<pre style=\"white-space:pre;overflow-x:auto;line-height:normal;font-family:Menlo,'DejaVu Sans Mono',consolas,'Courier New',monospace\">position:  (0.08175114923824983, 0.053051619725567246, 0.11533362331964803)\n",
       "</pre>\n"
      ],
      "text/plain": [
       "position:  (0.08175114923824983, 0.053051619725567246, 0.11533362331964803)\n"
      ]
     },
     "metadata": {},
     "output_type": "display_data"
    },
    {
     "data": {
      "text/html": [
       "<pre style=\"white-space:pre;overflow-x:auto;line-height:normal;font-family:Menlo,'DejaVu Sans Mono',consolas,'Courier New',monospace\">jammer pos:  [10.2299043  12.30450941  5.76251045]\n",
       "</pre>\n"
      ],
      "text/plain": [
       "jammer pos:  [10.2299043  12.30450941  5.76251045]\n"
      ]
     },
     "metadata": {},
     "output_type": "display_data"
    },
    {
     "data": {
      "text/html": [
       "<pre style=\"white-space:pre;overflow-x:auto;line-height:normal;font-family:Menlo,'DejaVu Sans Mono',consolas,'Courier New',monospace\">dist:  16.88116809890558\n",
       "</pre>\n"
      ],
      "text/plain": [
       "dist:  16.88116809890558\n"
      ]
     },
     "metadata": {},
     "output_type": "display_data"
    },
    {
     "data": {
      "text/html": [
       "<pre style=\"white-space:pre;overflow-x:auto;line-height:normal;font-family:Menlo,'DejaVu Sans Mono',consolas,'Courier New',monospace\">action:  [-1.         -0.29635158  0.47781613  1.        ]\n",
       "</pre>\n"
      ],
      "text/plain": [
       "action:  [-1.         -0.29635158  0.47781613  1.        ]\n"
      ]
     },
     "metadata": {},
     "output_type": "display_data"
    },
    {
     "data": {
      "text/html": [
       "<pre style=\"white-space:pre;overflow-x:auto;line-height:normal;font-family:Menlo,'DejaVu Sans Mono',consolas,'Courier New',monospace\">position:  (0.06340876748608719, 0.08382892071864427, 0.119711904624766)\n",
       "</pre>\n"
      ],
      "text/plain": [
       "position:  (0.06340876748608719, 0.08382892071864427, 0.119711904624766)\n"
      ]
     },
     "metadata": {},
     "output_type": "display_data"
    },
    {
     "data": {
      "text/html": [
       "<pre style=\"white-space:pre;overflow-x:auto;line-height:normal;font-family:Menlo,'DejaVu Sans Mono',consolas,'Courier New',monospace\">jammer pos:  [10.2299043  12.30450941  5.76251045]\n",
       "</pre>\n"
      ],
      "text/plain": [
       "jammer pos:  [10.2299043  12.30450941  5.76251045]\n"
      ]
     },
     "metadata": {},
     "output_type": "display_data"
    },
    {
     "data": {
      "text/html": [
       "<pre style=\"white-space:pre;overflow-x:auto;line-height:normal;font-family:Menlo,'DejaVu Sans Mono',consolas,'Courier New',monospace\">dist:  16.86842726430696\n",
       "</pre>\n"
      ],
      "text/plain": [
       "dist:  16.86842726430696\n"
      ]
     },
     "metadata": {},
     "output_type": "display_data"
    },
    {
     "name": "stdout",
     "output_type": "stream",
     "text": [
      "-------------------------------------------\n",
      "| rollout/                |               |\n",
      "|    ep_len_mean          | 27.8          |\n",
      "|    ep_rew_mean          | -1.02e+06     |\n",
      "| time/                   |               |\n",
      "|    fps                  | 111           |\n",
      "|    iterations           | 140           |\n",
      "|    time_elapsed         | 80            |\n",
      "|    total_timesteps      | 8960          |\n",
      "| train/                  |               |\n",
      "|    approx_kl            | 1.2852252e-07 |\n",
      "|    clip_fraction        | 0             |\n",
      "|    clip_range           | 0.2           |\n",
      "|    entropy_loss         | -5.68         |\n",
      "|    explained_variance   | -2.38e-07     |\n",
      "|    learning_rate        | 0.0003        |\n",
      "|    loss                 | 5.92e+10      |\n",
      "|    n_updates            | 1390          |\n",
      "|    policy_gradient_loss | -8.59e-05     |\n",
      "|    std                  | 1             |\n",
      "|    value_loss           | 1.18e+11      |\n",
      "-------------------------------------------\n"
     ]
    },
    {
     "data": {
      "text/html": [
       "<pre style=\"white-space:pre;overflow-x:auto;line-height:normal;font-family:Menlo,'DejaVu Sans Mono',consolas,'Courier New',monospace\">action:  [-0.23661606  0.47930112  1.          1.        ]\n",
       "</pre>\n"
      ],
      "text/plain": [
       "action:  [-0.23661606  0.47930112  1.          1.        ]\n"
      ]
     },
     "metadata": {},
     "output_type": "display_data"
    },
    {
     "data": {
      "text/html": [
       "<pre style=\"white-space:pre;overflow-x:auto;line-height:normal;font-family:Menlo,'DejaVu Sans Mono',consolas,'Courier New',monospace\">position:  (0.14476515362663658, 0.14245396490686182, 0.1355161880301094)\n",
       "</pre>\n"
      ],
      "text/plain": [
       "position:  (0.14476515362663658, 0.14245396490686182, 0.1355161880301094)\n"
      ]
     },
     "metadata": {},
     "output_type": "display_data"
    },
    {
     "data": {
      "text/html": [
       "<pre style=\"white-space:pre;overflow-x:auto;line-height:normal;font-family:Menlo,'DejaVu Sans Mono',consolas,'Courier New',monospace\">jammer pos:  [10.2299043  12.30450941  5.76251045]\n",
       "</pre>\n"
      ],
      "text/plain": [
       "jammer pos:  [10.2299043  12.30450941  5.76251045]\n"
      ]
     },
     "metadata": {},
     "output_type": "display_data"
    },
    {
     "data": {
      "text/html": [
       "<pre style=\"white-space:pre;overflow-x:auto;line-height:normal;font-family:Menlo,'DejaVu Sans Mono',consolas,'Courier New',monospace\">dist:  16.771663262471932\n",
       "</pre>\n"
      ],
      "text/plain": [
       "dist:  16.771663262471932\n"
      ]
     },
     "metadata": {},
     "output_type": "display_data"
    },
    {
     "data": {
      "text/html": [
       "<pre style=\"white-space:pre;overflow-x:auto;line-height:normal;font-family:Menlo,'DejaVu Sans Mono',consolas,'Courier New',monospace\">action:  [ 0.67516243 -0.043315    1.          1.        ]\n",
       "</pre>\n"
      ],
      "text/plain": [
       "action:  [ 0.67516243 -0.043315    1.          1.        ]\n"
      ]
     },
     "metadata": {},
     "output_type": "display_data"
    },
    {
     "data": {
      "text/html": [
       "<pre style=\"white-space:pre;overflow-x:auto;line-height:normal;font-family:Menlo,'DejaVu Sans Mono',consolas,'Courier New',monospace\">position:  (0.08058982211953164, 0.06978618828813855, 0.11209194586102185)\n",
       "</pre>\n"
      ],
      "text/plain": [
       "position:  (0.08058982211953164, 0.06978618828813855, 0.11209194586102185)\n"
      ]
     },
     "metadata": {},
     "output_type": "display_data"
    },
    {
     "data": {
      "text/html": [
       "<pre style=\"white-space:pre;overflow-x:auto;line-height:normal;font-family:Menlo,'DejaVu Sans Mono',consolas,'Courier New',monospace\">jammer pos:  [10.2299043  12.30450941  5.76251045]\n",
       "</pre>\n"
      ],
      "text/plain": [
       "jammer pos:  [10.2299043  12.30450941  5.76251045]\n"
      ]
     },
     "metadata": {},
     "output_type": "display_data"
    },
    {
     "data": {
      "text/html": [
       "<pre style=\"white-space:pre;overflow-x:auto;line-height:normal;font-family:Menlo,'DejaVu Sans Mono',consolas,'Courier New',monospace\">dist:  16.870811061369572\n",
       "</pre>\n"
      ],
      "text/plain": [
       "dist:  16.870811061369572\n"
      ]
     },
     "metadata": {},
     "output_type": "display_data"
    },
    {
     "name": "stdout",
     "output_type": "stream",
     "text": [
      "-------------------------------------------\n",
      "| rollout/                |               |\n",
      "|    ep_len_mean          | 27.7          |\n",
      "|    ep_rew_mean          | -1.02e+06     |\n",
      "| time/                   |               |\n",
      "|    fps                  | 110           |\n",
      "|    iterations           | 141           |\n",
      "|    time_elapsed         | 81            |\n",
      "|    total_timesteps      | 9024          |\n",
      "| train/                  |               |\n",
      "|    approx_kl            | 8.1025064e-08 |\n",
      "|    clip_fraction        | 0             |\n",
      "|    clip_range           | 0.2           |\n",
      "|    entropy_loss         | -5.68         |\n",
      "|    explained_variance   | -1.19e-07     |\n",
      "|    learning_rate        | 0.0003        |\n",
      "|    loss                 | 1.65e+11      |\n",
      "|    n_updates            | 1400          |\n",
      "|    policy_gradient_loss | 4.41e-06      |\n",
      "|    std                  | 1             |\n",
      "|    value_loss           | 3.3e+11       |\n",
      "-------------------------------------------\n"
     ]
    },
    {
     "data": {
      "text/html": [
       "<pre style=\"white-space:pre;overflow-x:auto;line-height:normal;font-family:Menlo,'DejaVu Sans Mono',consolas,'Courier New',monospace\">action:  [ 1.          1.         -0.05893562  1.        ]\n",
       "</pre>\n"
      ],
      "text/plain": [
       "action:  [ 1.          1.         -0.05893562  1.        ]\n"
      ]
     },
     "metadata": {},
     "output_type": "display_data"
    },
    {
     "data": {
      "text/html": [
       "<pre style=\"white-space:pre;overflow-x:auto;line-height:normal;font-family:Menlo,'DejaVu Sans Mono',consolas,'Courier New',monospace\">position:  (0.05465084221829074, 0.0577009070757667, 0.11887609583470625)\n",
       "</pre>\n"
      ],
      "text/plain": [
       "position:  (0.05465084221829074, 0.0577009070757667, 0.11887609583470625)\n"
      ]
     },
     "metadata": {},
     "output_type": "display_data"
    },
    {
     "data": {
      "text/html": [
       "<pre style=\"white-space:pre;overflow-x:auto;line-height:normal;font-family:Menlo,'DejaVu Sans Mono',consolas,'Courier New',monospace\">jammer pos:  [10.2299043  12.30450941  5.76251045]\n",
       "</pre>\n"
      ],
      "text/plain": [
       "jammer pos:  [10.2299043  12.30450941  5.76251045]\n"
      ]
     },
     "metadata": {},
     "output_type": "display_data"
    },
    {
     "data": {
      "text/html": [
       "<pre style=\"white-space:pre;overflow-x:auto;line-height:normal;font-family:Menlo,'DejaVu Sans Mono',consolas,'Courier New',monospace\">dist:  16.892918932927405\n",
       "</pre>\n"
      ],
      "text/plain": [
       "dist:  16.892918932927405\n"
      ]
     },
     "metadata": {},
     "output_type": "display_data"
    },
    {
     "data": {
      "text/html": [
       "<pre style=\"white-space:pre;overflow-x:auto;line-height:normal;font-family:Menlo,'DejaVu Sans Mono',consolas,'Courier New',monospace\">action:  [-0.24763033  0.37732002  1.          1.        ]\n",
       "</pre>\n"
      ],
      "text/plain": [
       "action:  [-0.24763033  0.37732002  1.          1.        ]\n"
      ]
     },
     "metadata": {},
     "output_type": "display_data"
    },
    {
     "data": {
      "text/html": [
       "<pre style=\"white-space:pre;overflow-x:auto;line-height:normal;font-family:Menlo,'DejaVu Sans Mono',consolas,'Courier New',monospace\">position:  (0.06431091908258108, 0.08113375457142163, 0.12324329729638307)\n",
       "</pre>\n"
      ],
      "text/plain": [
       "position:  (0.06431091908258108, 0.08113375457142163, 0.12324329729638307)\n"
      ]
     },
     "metadata": {},
     "output_type": "display_data"
    },
    {
     "data": {
      "text/html": [
       "<pre style=\"white-space:pre;overflow-x:auto;line-height:normal;font-family:Menlo,'DejaVu Sans Mono',consolas,'Courier New',monospace\">jammer pos:  [10.2299043  12.30450941  5.76251045]\n",
       "</pre>\n"
      ],
      "text/plain": [
       "jammer pos:  [10.2299043  12.30450941  5.76251045]\n"
      ]
     },
     "metadata": {},
     "output_type": "display_data"
    },
    {
     "data": {
      "text/html": [
       "<pre style=\"white-space:pre;overflow-x:auto;line-height:normal;font-family:Menlo,'DejaVu Sans Mono',consolas,'Courier New',monospace\">dist:  16.868655403830758\n",
       "</pre>\n"
      ],
      "text/plain": [
       "dist:  16.868655403830758\n"
      ]
     },
     "metadata": {},
     "output_type": "display_data"
    },
    {
     "data": {
      "text/html": [
       "<pre style=\"white-space:pre;overflow-x:auto;line-height:normal;font-family:Menlo,'DejaVu Sans Mono',consolas,'Courier New',monospace\">action:  [-1.  1.  1.  1.]\n",
       "</pre>\n"
      ],
      "text/plain": [
       "action:  [-1.  1.  1.  1.]\n"
      ]
     },
     "metadata": {},
     "output_type": "display_data"
    },
    {
     "data": {
      "text/html": [
       "<pre style=\"white-space:pre;overflow-x:auto;line-height:normal;font-family:Menlo,'DejaVu Sans Mono',consolas,'Courier New',monospace\">position:  (0.1414873912609976, 0.14095995078364593, 0.1662768772291446)\n",
       "</pre>\n"
      ],
      "text/plain": [
       "position:  (0.1414873912609976, 0.14095995078364593, 0.1662768772291446)\n"
      ]
     },
     "metadata": {},
     "output_type": "display_data"
    },
    {
     "data": {
      "text/html": [
       "<pre style=\"white-space:pre;overflow-x:auto;line-height:normal;font-family:Menlo,'DejaVu Sans Mono',consolas,'Courier New',monospace\">jammer pos:  [10.2299043  12.30450941  5.76251045]\n",
       "</pre>\n"
      ],
      "text/plain": [
       "jammer pos:  [10.2299043  12.30450941  5.76251045]\n"
      ]
     },
     "metadata": {},
     "output_type": "display_data"
    },
    {
     "data": {
      "text/html": [
       "<pre style=\"white-space:pre;overflow-x:auto;line-height:normal;font-family:Menlo,'DejaVu Sans Mono',consolas,'Courier New',monospace\">dist:  16.764424275423856\n",
       "</pre>\n"
      ],
      "text/plain": [
       "dist:  16.764424275423856\n"
      ]
     },
     "metadata": {},
     "output_type": "display_data"
    },
    {
     "name": "stdout",
     "output_type": "stream",
     "text": [
      "-------------------------------------------\n",
      "| rollout/                |               |\n",
      "|    ep_len_mean          | 27.3          |\n",
      "|    ep_rew_mean          | -1.02e+06     |\n",
      "| time/                   |               |\n",
      "|    fps                  | 110           |\n",
      "|    iterations           | 142           |\n",
      "|    time_elapsed         | 82            |\n",
      "|    total_timesteps      | 9088          |\n",
      "| train/                  |               |\n",
      "|    approx_kl            | 4.4703484e-08 |\n",
      "|    clip_fraction        | 0             |\n",
      "|    clip_range           | 0.2           |\n",
      "|    entropy_loss         | -5.68         |\n",
      "|    explained_variance   | 0             |\n",
      "|    learning_rate        | 0.0003        |\n",
      "|    loss                 | 1.26e+11      |\n",
      "|    n_updates            | 1410          |\n",
      "|    policy_gradient_loss | -3.11e-05     |\n",
      "|    std                  | 1             |\n",
      "|    value_loss           | 2.53e+11      |\n",
      "-------------------------------------------\n"
     ]
    },
    {
     "data": {
      "text/html": [
       "<pre style=\"white-space:pre;overflow-x:auto;line-height:normal;font-family:Menlo,'DejaVu Sans Mono',consolas,'Courier New',monospace\">action:  [ 0.59784776  1.         -1.          1.        ]\n",
       "</pre>\n"
      ],
      "text/plain": [
       "action:  [ 0.59784776  1.         -1.          1.        ]\n"
      ]
     },
     "metadata": {},
     "output_type": "display_data"
    },
    {
     "data": {
      "text/html": [
       "<pre style=\"white-space:pre;overflow-x:auto;line-height:normal;font-family:Menlo,'DejaVu Sans Mono',consolas,'Courier New',monospace\">position:  (0.0792227796729104, 0.10989001156377633, 0.12648416107051577)\n",
       "</pre>\n"
      ],
      "text/plain": [
       "position:  (0.0792227796729104, 0.10989001156377633, 0.12648416107051577)\n"
      ]
     },
     "metadata": {},
     "output_type": "display_data"
    },
    {
     "data": {
      "text/html": [
       "<pre style=\"white-space:pre;overflow-x:auto;line-height:normal;font-family:Menlo,'DejaVu Sans Mono',consolas,'Courier New',monospace\">jammer pos:  [10.2299043  12.30450941  5.76251045]\n",
       "</pre>\n"
      ],
      "text/plain": [
       "jammer pos:  [10.2299043  12.30450941  5.76251045]\n"
      ]
     },
     "metadata": {},
     "output_type": "display_data"
    },
    {
     "data": {
      "text/html": [
       "<pre style=\"white-space:pre;overflow-x:auto;line-height:normal;font-family:Menlo,'DejaVu Sans Mono',consolas,'Courier New',monospace\">dist:  16.837751329775145\n",
       "</pre>\n"
      ],
      "text/plain": [
       "dist:  16.837751329775145\n"
      ]
     },
     "metadata": {},
     "output_type": "display_data"
    },
    {
     "data": {
      "text/html": [
       "<pre style=\"white-space:pre;overflow-x:auto;line-height:normal;font-family:Menlo,'DejaVu Sans Mono',consolas,'Courier New',monospace\">action:  [-1.          0.25567904 -1.          1.        ]\n",
       "</pre>\n"
      ],
      "text/plain": [
       "action:  [-1.          0.25567904 -1.          1.        ]\n"
      ]
     },
     "metadata": {},
     "output_type": "display_data"
    },
    {
     "data": {
      "text/html": [
       "<pre style=\"white-space:pre;overflow-x:auto;line-height:normal;font-family:Menlo,'DejaVu Sans Mono',consolas,'Courier New',monospace\">position:  (0.0780902563487674, 0.04913154947202336, 0.112907285301784)\n",
       "</pre>\n"
      ],
      "text/plain": [
       "position:  (0.0780902563487674, 0.04913154947202336, 0.112907285301784)\n"
      ]
     },
     "metadata": {},
     "output_type": "display_data"
    },
    {
     "data": {
      "text/html": [
       "<pre style=\"white-space:pre;overflow-x:auto;line-height:normal;font-family:Menlo,'DejaVu Sans Mono',consolas,'Courier New',monospace\">jammer pos:  [10.2299043  12.30450941  5.76251045]\n",
       "</pre>\n"
      ],
      "text/plain": [
       "jammer pos:  [10.2299043  12.30450941  5.76251045]\n"
      ]
     },
     "metadata": {},
     "output_type": "display_data"
    },
    {
     "data": {
      "text/html": [
       "<pre style=\"white-space:pre;overflow-x:auto;line-height:normal;font-family:Menlo,'DejaVu Sans Mono',consolas,'Courier New',monospace\">dist:  16.887025514082044\n",
       "</pre>\n"
      ],
      "text/plain": [
       "dist:  16.887025514082044\n"
      ]
     },
     "metadata": {},
     "output_type": "display_data"
    },
    {
     "data": {
      "text/html": [
       "<pre style=\"white-space:pre;overflow-x:auto;line-height:normal;font-family:Menlo,'DejaVu Sans Mono',consolas,'Courier New',monospace\">action:  [0.47390452 0.06704263 1.         1.        ]\n",
       "</pre>\n"
      ],
      "text/plain": [
       "action:  [0.47390452 0.06704263 1.         1.        ]\n"
      ]
     },
     "metadata": {},
     "output_type": "display_data"
    },
    {
     "data": {
      "text/html": [
       "<pre style=\"white-space:pre;overflow-x:auto;line-height:normal;font-family:Menlo,'DejaVu Sans Mono',consolas,'Courier New',monospace\">position:  (0.07359614689490435, 0.057136403037657275, 0.11816795500880191)\n",
       "</pre>\n"
      ],
      "text/plain": [
       "position:  (0.07359614689490435, 0.057136403037657275, 0.11816795500880191)\n"
      ]
     },
     "metadata": {},
     "output_type": "display_data"
    },
    {
     "data": {
      "text/html": [
       "<pre style=\"white-space:pre;overflow-x:auto;line-height:normal;font-family:Menlo,'DejaVu Sans Mono',consolas,'Courier New',monospace\">jammer pos:  [10.2299043  12.30450941  5.76251045]\n",
       "</pre>\n"
      ],
      "text/plain": [
       "jammer pos:  [10.2299043  12.30450941  5.76251045]\n"
      ]
     },
     "metadata": {},
     "output_type": "display_data"
    },
    {
     "data": {
      "text/html": [
       "<pre style=\"white-space:pre;overflow-x:auto;line-height:normal;font-family:Menlo,'DejaVu Sans Mono',consolas,'Courier New',monospace\">dist:  16.88216049523302\n",
       "</pre>\n"
      ],
      "text/plain": [
       "dist:  16.88216049523302\n"
      ]
     },
     "metadata": {},
     "output_type": "display_data"
    },
    {
     "name": "stdout",
     "output_type": "stream",
     "text": [
      "-------------------------------------------\n",
      "| rollout/                |               |\n",
      "|    ep_len_mean          | 27.3          |\n",
      "|    ep_rew_mean          | -1.02e+06     |\n",
      "| time/                   |               |\n",
      "|    fps                  | 110           |\n",
      "|    iterations           | 143           |\n",
      "|    time_elapsed         | 82            |\n",
      "|    total_timesteps      | 9152          |\n",
      "| train/                  |               |\n",
      "|    approx_kl            | 3.7252903e-08 |\n",
      "|    clip_fraction        | 0             |\n",
      "|    clip_range           | 0.2           |\n",
      "|    entropy_loss         | -5.68         |\n",
      "|    explained_variance   | 0             |\n",
      "|    learning_rate        | 0.0003        |\n",
      "|    loss                 | 1.39e+11      |\n",
      "|    n_updates            | 1420          |\n",
      "|    policy_gradient_loss | -1.85e-05     |\n",
      "|    std                  | 1             |\n",
      "|    value_loss           | 2.79e+11      |\n",
      "-------------------------------------------\n"
     ]
    },
    {
     "data": {
      "text/html": [
       "<pre style=\"white-space:pre;overflow-x:auto;line-height:normal;font-family:Menlo,'DejaVu Sans Mono',consolas,'Courier New',monospace\">action:  [ 0.34860346  0.36277747 -0.6790825   1.        ]\n",
       "</pre>\n"
      ],
      "text/plain": [
       "action:  [ 0.34860346  0.36277747 -0.6790825   1.        ]\n"
      ]
     },
     "metadata": {},
     "output_type": "display_data"
    },
    {
     "data": {
      "text/html": [
       "<pre style=\"white-space:pre;overflow-x:auto;line-height:normal;font-family:Menlo,'DejaVu Sans Mono',consolas,'Courier New',monospace\">position:  (0.06559193523202865, 0.05437143632432645, 0.10856801033631316)\n",
       "</pre>\n"
      ],
      "text/plain": [
       "position:  (0.06559193523202865, 0.05437143632432645, 0.10856801033631316)\n"
      ]
     },
     "metadata": {},
     "output_type": "display_data"
    },
    {
     "data": {
      "text/html": [
       "<pre style=\"white-space:pre;overflow-x:auto;line-height:normal;font-family:Menlo,'DejaVu Sans Mono',consolas,'Courier New',monospace\">jammer pos:  [10.2299043  12.30450941  5.76251045]\n",
       "</pre>\n"
      ],
      "text/plain": [
       "jammer pos:  [10.2299043  12.30450941  5.76251045]\n"
      ]
     },
     "metadata": {},
     "output_type": "display_data"
    },
    {
     "data": {
      "text/html": [
       "<pre style=\"white-space:pre;overflow-x:auto;line-height:normal;font-family:Menlo,'DejaVu Sans Mono',consolas,'Courier New',monospace\">dist:  16.892193204177786\n",
       "</pre>\n"
      ],
      "text/plain": [
       "dist:  16.892193204177786\n"
      ]
     },
     "metadata": {},
     "output_type": "display_data"
    },
    {
     "data": {
      "text/html": [
       "<pre style=\"white-space:pre;overflow-x:auto;line-height:normal;font-family:Menlo,'DejaVu Sans Mono',consolas,'Courier New',monospace\">action:  [ 1. -1. -1.  1.]\n",
       "</pre>\n"
      ],
      "text/plain": [
       "action:  [ 1. -1. -1.  1.]\n"
      ]
     },
     "metadata": {},
     "output_type": "display_data"
    },
    {
     "data": {
      "text/html": [
       "<pre style=\"white-space:pre;overflow-x:auto;line-height:normal;font-family:Menlo,'DejaVu Sans Mono',consolas,'Courier New',monospace\">position:  (0.06245503790763772, 0.051677947369956526, 0.09940851255510304)\n",
       "</pre>\n"
      ],
      "text/plain": [
       "position:  (0.06245503790763772, 0.051677947369956526, 0.09940851255510304)\n"
      ]
     },
     "metadata": {},
     "output_type": "display_data"
    },
    {
     "data": {
      "text/html": [
       "<pre style=\"white-space:pre;overflow-x:auto;line-height:normal;font-family:Menlo,'DejaVu Sans Mono',consolas,'Courier New',monospace\">jammer pos:  [10.2299043  12.30450941  5.76251045]\n",
       "</pre>\n"
      ],
      "text/plain": [
       "jammer pos:  [10.2299043  12.30450941  5.76251045]\n"
      ]
     },
     "metadata": {},
     "output_type": "display_data"
    },
    {
     "data": {
      "text/html": [
       "<pre style=\"white-space:pre;overflow-x:auto;line-height:normal;font-family:Menlo,'DejaVu Sans Mono',consolas,'Courier New',monospace\">dist:  16.899101361206565\n",
       "</pre>\n"
      ],
      "text/plain": [
       "dist:  16.899101361206565\n"
      ]
     },
     "metadata": {},
     "output_type": "display_data"
    },
    {
     "name": "stdout",
     "output_type": "stream",
     "text": [
      "-------------------------------------------\n",
      "| rollout/                |               |\n",
      "|    ep_len_mean          | 27.3          |\n",
      "|    ep_rew_mean          | -1.02e+06     |\n",
      "| time/                   |               |\n",
      "|    fps                  | 110           |\n",
      "|    iterations           | 144           |\n",
      "|    time_elapsed         | 83            |\n",
      "|    total_timesteps      | 9216          |\n",
      "| train/                  |               |\n",
      "|    approx_kl            | 1.1175871e-08 |\n",
      "|    clip_fraction        | 0             |\n",
      "|    clip_range           | 0.2           |\n",
      "|    entropy_loss         | -5.68         |\n",
      "|    explained_variance   | 0             |\n",
      "|    learning_rate        | 0.0003        |\n",
      "|    loss                 | 1.87e+11      |\n",
      "|    n_updates            | 1430          |\n",
      "|    policy_gradient_loss | -8.98e-06     |\n",
      "|    std                  | 1             |\n",
      "|    value_loss           | 3.74e+11      |\n",
      "-------------------------------------------\n"
     ]
    },
    {
     "data": {
      "text/html": [
       "<pre style=\"white-space:pre;overflow-x:auto;line-height:normal;font-family:Menlo,'DejaVu Sans Mono',consolas,'Courier New',monospace\">action:  [ 0.42510453 -0.67096025  0.7184732   1.        ]\n",
       "</pre>\n"
      ],
      "text/plain": [
       "action:  [ 0.42510453 -0.67096025  0.7184732   1.        ]\n"
      ]
     },
     "metadata": {},
     "output_type": "display_data"
    },
    {
     "data": {
      "text/html": [
       "<pre style=\"white-space:pre;overflow-x:auto;line-height:normal;font-family:Menlo,'DejaVu Sans Mono',consolas,'Courier New',monospace\">position:  (0.11840857053204074, 0.10757181775772363, 0.15873858720003026)\n",
       "</pre>\n"
      ],
      "text/plain": [
       "position:  (0.11840857053204074, 0.10757181775772363, 0.15873858720003026)\n"
      ]
     },
     "metadata": {},
     "output_type": "display_data"
    },
    {
     "data": {
      "text/html": [
       "<pre style=\"white-space:pre;overflow-x:auto;line-height:normal;font-family:Menlo,'DejaVu Sans Mono',consolas,'Courier New',monospace\">jammer pos:  [10.2299043  12.30450941  5.76251045]\n",
       "</pre>\n"
      ],
      "text/plain": [
       "jammer pos:  [10.2299043  12.30450941  5.76251045]\n"
      ]
     },
     "metadata": {},
     "output_type": "display_data"
    },
    {
     "data": {
      "text/html": [
       "<pre style=\"white-space:pre;overflow-x:auto;line-height:normal;font-family:Menlo,'DejaVu Sans Mono',consolas,'Courier New',monospace\">dist:  16.805055534576713\n",
       "</pre>\n"
      ],
      "text/plain": [
       "dist:  16.805055534576713\n"
      ]
     },
     "metadata": {},
     "output_type": "display_data"
    },
    {
     "data": {
      "text/html": [
       "<pre style=\"white-space:pre;overflow-x:auto;line-height:normal;font-family:Menlo,'DejaVu Sans Mono',consolas,'Courier New',monospace\">action:  [0.6246143 0.9014979 1.        1.       ]\n",
       "</pre>\n"
      ],
      "text/plain": [
       "action:  [0.6246143 0.9014979 1.        1.       ]\n"
      ]
     },
     "metadata": {},
     "output_type": "display_data"
    },
    {
     "data": {
      "text/html": [
       "<pre style=\"white-space:pre;overflow-x:auto;line-height:normal;font-family:Menlo,'DejaVu Sans Mono',consolas,'Courier New',monospace\">position:  (0.13379021896398677, 0.14335522207809182, 0.18395419354815462)\n",
       "</pre>\n"
      ],
      "text/plain": [
       "position:  (0.13379021896398677, 0.14335522207809182, 0.18395419354815462)\n"
      ]
     },
     "metadata": {},
     "output_type": "display_data"
    },
    {
     "data": {
      "text/html": [
       "<pre style=\"white-space:pre;overflow-x:auto;line-height:normal;font-family:Menlo,'DejaVu Sans Mono',consolas,'Courier New',monospace\">jammer pos:  [10.2299043  12.30450941  5.76251045]\n",
       "</pre>\n"
      ],
      "text/plain": [
       "jammer pos:  [10.2299043  12.30450941  5.76251045]\n"
      ]
     },
     "metadata": {},
     "output_type": "display_data"
    },
    {
     "data": {
      "text/html": [
       "<pre style=\"white-space:pre;overflow-x:auto;line-height:normal;font-family:Menlo,'DejaVu Sans Mono',consolas,'Courier New',monospace\">dist:  16.761428356202256\n",
       "</pre>\n"
      ],
      "text/plain": [
       "dist:  16.761428356202256\n"
      ]
     },
     "metadata": {},
     "output_type": "display_data"
    },
    {
     "data": {
      "text/html": [
       "<pre style=\"white-space:pre;overflow-x:auto;line-height:normal;font-family:Menlo,'DejaVu Sans Mono',consolas,'Courier New',monospace\">action:  [-0.6022897   0.49337262  1.          1.        ]\n",
       "</pre>\n"
      ],
      "text/plain": [
       "action:  [-0.6022897   0.49337262  1.          1.        ]\n"
      ]
     },
     "metadata": {},
     "output_type": "display_data"
    },
    {
     "data": {
      "text/html": [
       "<pre style=\"white-space:pre;overflow-x:auto;line-height:normal;font-family:Menlo,'DejaVu Sans Mono',consolas,'Courier New',monospace\">position:  (0.04301948771447332, 0.057274420388267695, 0.10706164615679785)\n",
       "</pre>\n"
      ],
      "text/plain": [
       "position:  (0.04301948771447332, 0.057274420388267695, 0.10706164615679785)\n"
      ]
     },
     "metadata": {},
     "output_type": "display_data"
    },
    {
     "data": {
      "text/html": [
       "<pre style=\"white-space:pre;overflow-x:auto;line-height:normal;font-family:Menlo,'DejaVu Sans Mono',consolas,'Courier New',monospace\">jammer pos:  [10.2299043  12.30450941  5.76251045]\n",
       "</pre>\n"
      ],
      "text/plain": [
       "jammer pos:  [10.2299043  12.30450941  5.76251045]\n"
      ]
     },
     "metadata": {},
     "output_type": "display_data"
    },
    {
     "data": {
      "text/html": [
       "<pre style=\"white-space:pre;overflow-x:auto;line-height:normal;font-family:Menlo,'DejaVu Sans Mono',consolas,'Courier New',monospace\">dist:  16.9041855218182\n",
       "</pre>\n"
      ],
      "text/plain": [
       "dist:  16.9041855218182\n"
      ]
     },
     "metadata": {},
     "output_type": "display_data"
    },
    {
     "name": "stdout",
     "output_type": "stream",
     "text": [
      "-------------------------------------------\n",
      "| rollout/                |               |\n",
      "|    ep_len_mean          | 27.4          |\n",
      "|    ep_rew_mean          | -1.02e+06     |\n",
      "| time/                   |               |\n",
      "|    fps                  | 110           |\n",
      "|    iterations           | 145           |\n",
      "|    time_elapsed         | 83            |\n",
      "|    total_timesteps      | 9280          |\n",
      "| train/                  |               |\n",
      "|    approx_kl            | 3.7252903e-09 |\n",
      "|    clip_fraction        | 0             |\n",
      "|    clip_range           | 0.2           |\n",
      "|    entropy_loss         | -5.68         |\n",
      "|    explained_variance   | 5.96e-08      |\n",
      "|    learning_rate        | 0.0003        |\n",
      "|    loss                 | 1.26e+11      |\n",
      "|    n_updates            | 1440          |\n",
      "|    policy_gradient_loss | -7.75e-06     |\n",
      "|    std                  | 1             |\n",
      "|    value_loss           | 2.52e+11      |\n",
      "-------------------------------------------\n"
     ]
    },
    {
     "data": {
      "text/html": [
       "<pre style=\"white-space:pre;overflow-x:auto;line-height:normal;font-family:Menlo,'DejaVu Sans Mono',consolas,'Courier New',monospace\">action:  [ 1.          0.13865328 -0.06536241  1.        ]\n",
       "</pre>\n"
      ],
      "text/plain": [
       "action:  [ 1.          0.13865328 -0.06536241  1.        ]\n"
      ]
     },
     "metadata": {},
     "output_type": "display_data"
    },
    {
     "data": {
      "text/html": [
       "<pre style=\"white-space:pre;overflow-x:auto;line-height:normal;font-family:Menlo,'DejaVu Sans Mono',consolas,'Courier New',monospace\">position:  (0.06314055760313314, 0.0692428353302448, 0.11201422437238553)\n",
       "</pre>\n"
      ],
      "text/plain": [
       "position:  (0.06314055760313314, 0.0692428353302448, 0.11201422437238553)\n"
      ]
     },
     "metadata": {},
     "output_type": "display_data"
    },
    {
     "data": {
      "text/html": [
       "<pre style=\"white-space:pre;overflow-x:auto;line-height:normal;font-family:Menlo,'DejaVu Sans Mono',consolas,'Courier New',monospace\">jammer pos:  [10.2299043  12.30450941  5.76251045]\n",
       "</pre>\n"
      ],
      "text/plain": [
       "jammer pos:  [10.2299043  12.30450941  5.76251045]\n"
      ]
     },
     "metadata": {},
     "output_type": "display_data"
    },
    {
     "data": {
      "text/html": [
       "<pre style=\"white-space:pre;overflow-x:auto;line-height:normal;font-family:Menlo,'DejaVu Sans Mono',consolas,'Courier New',monospace\">dist:  16.881733935128782\n",
       "</pre>\n"
      ],
      "text/plain": [
       "dist:  16.881733935128782\n"
      ]
     },
     "metadata": {},
     "output_type": "display_data"
    },
    {
     "data": {
      "text/html": [
       "<pre style=\"white-space:pre;overflow-x:auto;line-height:normal;font-family:Menlo,'DejaVu Sans Mono',consolas,'Courier New',monospace\">action:  [-0.2779563   0.04545228 -0.29850042  1.        ]\n",
       "</pre>\n"
      ],
      "text/plain": [
       "action:  [-0.2779563   0.04545228 -0.29850042  1.        ]\n"
      ]
     },
     "metadata": {},
     "output_type": "display_data"
    },
    {
     "data": {
      "text/html": [
       "<pre style=\"white-space:pre;overflow-x:auto;line-height:normal;font-family:Menlo,'DejaVu Sans Mono',consolas,'Courier New',monospace\">position:  (0.1827697182345046, 0.10555509385588832, 0.19302318526113652)\n",
       "</pre>\n"
      ],
      "text/plain": [
       "position:  (0.1827697182345046, 0.10555509385588832, 0.19302318526113652)\n"
      ]
     },
     "metadata": {},
     "output_type": "display_data"
    },
    {
     "data": {
      "text/html": [
       "<pre style=\"white-space:pre;overflow-x:auto;line-height:normal;font-family:Menlo,'DejaVu Sans Mono',consolas,'Courier New',monospace\">jammer pos:  [10.2299043  12.30450941  5.76251045]\n",
       "</pre>\n"
      ],
      "text/plain": [
       "jammer pos:  [10.2299043  12.30450941  5.76251045]\n"
      ]
     },
     "metadata": {},
     "output_type": "display_data"
    },
    {
     "data": {
      "text/html": [
       "<pre style=\"white-space:pre;overflow-x:auto;line-height:normal;font-family:Menlo,'DejaVu Sans Mono',consolas,'Courier New',monospace\">dist:  16.756449147034036\n",
       "</pre>\n"
      ],
      "text/plain": [
       "dist:  16.756449147034036\n"
      ]
     },
     "metadata": {},
     "output_type": "display_data"
    },
    {
     "name": "stdout",
     "output_type": "stream",
     "text": [
      "------------------------------------------\n",
      "| rollout/                |              |\n",
      "|    ep_len_mean          | 27.1         |\n",
      "|    ep_rew_mean          | -1.02e+06    |\n",
      "| time/                   |              |\n",
      "|    fps                  | 110          |\n",
      "|    iterations           | 146          |\n",
      "|    time_elapsed         | 84           |\n",
      "|    total_timesteps      | 9344         |\n",
      "| train/                  |              |\n",
      "|    approx_kl            | 9.313226e-10 |\n",
      "|    clip_fraction        | 0            |\n",
      "|    clip_range           | 0.2          |\n",
      "|    entropy_loss         | -5.68        |\n",
      "|    explained_variance   | 0            |\n",
      "|    learning_rate        | 0.0003       |\n",
      "|    loss                 | 1.7e+11      |\n",
      "|    n_updates            | 1450         |\n",
      "|    policy_gradient_loss | -2.16e-06    |\n",
      "|    std                  | 1            |\n",
      "|    value_loss           | 3.4e+11      |\n",
      "------------------------------------------\n"
     ]
    },
    {
     "data": {
      "text/html": [
       "<pre style=\"white-space:pre;overflow-x:auto;line-height:normal;font-family:Menlo,'DejaVu Sans Mono',consolas,'Courier New',monospace\">action:  [ 1.         -0.28593987  0.8060658   1.        ]\n",
       "</pre>\n"
      ],
      "text/plain": [
       "action:  [ 1.         -0.28593987  0.8060658   1.        ]\n"
      ]
     },
     "metadata": {},
     "output_type": "display_data"
    },
    {
     "data": {
      "text/html": [
       "<pre style=\"white-space:pre;overflow-x:auto;line-height:normal;font-family:Menlo,'DejaVu Sans Mono',consolas,'Courier New',monospace\">position:  (0.16884584346034257, 0.08583198165788802, 0.1715421696045335)\n",
       "</pre>\n"
      ],
      "text/plain": [
       "position:  (0.16884584346034257, 0.08583198165788802, 0.1715421696045335)\n"
      ]
     },
     "metadata": {},
     "output_type": "display_data"
    },
    {
     "data": {
      "text/html": [
       "<pre style=\"white-space:pre;overflow-x:auto;line-height:normal;font-family:Menlo,'DejaVu Sans Mono',consolas,'Courier New',monospace\">jammer pos:  [10.2299043  12.30450941  5.76251045]\n",
       "</pre>\n"
      ],
      "text/plain": [
       "jammer pos:  [10.2299043  12.30450941  5.76251045]\n"
      ]
     },
     "metadata": {},
     "output_type": "display_data"
    },
    {
     "data": {
      "text/html": [
       "<pre style=\"white-space:pre;overflow-x:auto;line-height:normal;font-family:Menlo,'DejaVu Sans Mono',consolas,'Courier New',monospace\">dist:  16.78630100974237\n",
       "</pre>\n"
      ],
      "text/plain": [
       "dist:  16.78630100974237\n"
      ]
     },
     "metadata": {},
     "output_type": "display_data"
    },
    {
     "data": {
      "text/html": [
       "<pre style=\"white-space:pre;overflow-x:auto;line-height:normal;font-family:Menlo,'DejaVu Sans Mono',consolas,'Courier New',monospace\">action:  [ 0.23481138 -0.18270363  1.          1.        ]\n",
       "</pre>\n"
      ],
      "text/plain": [
       "action:  [ 0.23481138 -0.18270363  1.          1.        ]\n"
      ]
     },
     "metadata": {},
     "output_type": "display_data"
    },
    {
     "data": {
      "text/html": [
       "<pre style=\"white-space:pre;overflow-x:auto;line-height:normal;font-family:Menlo,'DejaVu Sans Mono',consolas,'Courier New',monospace\">position:  (0.1055321540240752, 0.11141388575049697, 0.1516965281624278)\n",
       "</pre>\n"
      ],
      "text/plain": [
       "position:  (0.1055321540240752, 0.11141388575049697, 0.1516965281624278)\n"
      ]
     },
     "metadata": {},
     "output_type": "display_data"
    },
    {
     "data": {
      "text/html": [
       "<pre style=\"white-space:pre;overflow-x:auto;line-height:normal;font-family:Menlo,'DejaVu Sans Mono',consolas,'Courier New',monospace\">jammer pos:  [10.2299043  12.30450941  5.76251045]\n",
       "</pre>\n"
      ],
      "text/plain": [
       "jammer pos:  [10.2299043  12.30450941  5.76251045]\n"
      ]
     },
     "metadata": {},
     "output_type": "display_data"
    },
    {
     "data": {
      "text/html": [
       "<pre style=\"white-space:pre;overflow-x:auto;line-height:normal;font-family:Menlo,'DejaVu Sans Mono',consolas,'Courier New',monospace\">dist:  16.81236814351417\n",
       "</pre>\n"
      ],
      "text/plain": [
       "dist:  16.81236814351417\n"
      ]
     },
     "metadata": {},
     "output_type": "display_data"
    },
    {
     "name": "stdout",
     "output_type": "stream",
     "text": [
      "-------------------------------------------\n",
      "| rollout/                |               |\n",
      "|    ep_len_mean          | 26.9          |\n",
      "|    ep_rew_mean          | -1.02e+06     |\n",
      "| time/                   |               |\n",
      "|    fps                  | 110           |\n",
      "|    iterations           | 147           |\n",
      "|    time_elapsed         | 85            |\n",
      "|    total_timesteps      | 9408          |\n",
      "| train/                  |               |\n",
      "|    approx_kl            | 3.7252903e-09 |\n",
      "|    clip_fraction        | 0             |\n",
      "|    clip_range           | 0.2           |\n",
      "|    entropy_loss         | -5.68         |\n",
      "|    explained_variance   | 0             |\n",
      "|    learning_rate        | 0.0003        |\n",
      "|    loss                 | 1.29e+11      |\n",
      "|    n_updates            | 1460          |\n",
      "|    policy_gradient_loss | -1.58e-05     |\n",
      "|    std                  | 1             |\n",
      "|    value_loss           | 2.57e+11      |\n",
      "-------------------------------------------\n"
     ]
    },
    {
     "data": {
      "text/html": [
       "<pre style=\"white-space:pre;overflow-x:auto;line-height:normal;font-family:Menlo,'DejaVu Sans Mono',consolas,'Courier New',monospace\">action:  [-0.77091384 -0.7424812   1.          1.        ]\n",
       "</pre>\n"
      ],
      "text/plain": [
       "action:  [-0.77091384 -0.7424812   1.          1.        ]\n"
      ]
     },
     "metadata": {},
     "output_type": "display_data"
    },
    {
     "data": {
      "text/html": [
       "<pre style=\"white-space:pre;overflow-x:auto;line-height:normal;font-family:Menlo,'DejaVu Sans Mono',consolas,'Courier New',monospace\">position:  (0.11139000964841439, 0.09091401046009778, 0.16214995757256243)\n",
       "</pre>\n"
      ],
      "text/plain": [
       "position:  (0.11139000964841439, 0.09091401046009778, 0.16214995757256243)\n"
      ]
     },
     "metadata": {},
     "output_type": "display_data"
    },
    {
     "data": {
      "text/html": [
       "<pre style=\"white-space:pre;overflow-x:auto;line-height:normal;font-family:Menlo,'DejaVu Sans Mono',consolas,'Courier New',monospace\">jammer pos:  [10.2299043  12.30450941  5.76251045]\n",
       "</pre>\n"
      ],
      "text/plain": [
       "jammer pos:  [10.2299043  12.30450941  5.76251045]\n"
      ]
     },
     "metadata": {},
     "output_type": "display_data"
    },
    {
     "data": {
      "text/html": [
       "<pre style=\"white-space:pre;overflow-x:auto;line-height:normal;font-family:Menlo,'DejaVu Sans Mono',consolas,'Courier New',monospace\">dist:  16.82023429047488\n",
       "</pre>\n"
      ],
      "text/plain": [
       "dist:  16.82023429047488\n"
      ]
     },
     "metadata": {},
     "output_type": "display_data"
    },
    {
     "data": {
      "text/html": [
       "<pre style=\"white-space:pre;overflow-x:auto;line-height:normal;font-family:Menlo,'DejaVu Sans Mono',consolas,'Courier New',monospace\">action:  [-0.4759465  -0.24376507 -1.          1.        ]\n",
       "</pre>\n"
      ],
      "text/plain": [
       "action:  [-0.4759465  -0.24376507 -1.          1.        ]\n"
      ]
     },
     "metadata": {},
     "output_type": "display_data"
    },
    {
     "data": {
      "text/html": [
       "<pre style=\"white-space:pre;overflow-x:auto;line-height:normal;font-family:Menlo,'DejaVu Sans Mono',consolas,'Courier New',monospace\">position:  (0.11598332692654247, 0.11145703518996469, 0.13558278662937479)\n",
       "</pre>\n"
      ],
      "text/plain": [
       "position:  (0.11598332692654247, 0.11145703518996469, 0.13558278662937479)\n"
      ]
     },
     "metadata": {},
     "output_type": "display_data"
    },
    {
     "data": {
      "text/html": [
       "<pre style=\"white-space:pre;overflow-x:auto;line-height:normal;font-family:Menlo,'DejaVu Sans Mono',consolas,'Courier New',monospace\">jammer pos:  [10.2299043  12.30450941  5.76251045]\n",
       "</pre>\n"
      ],
      "text/plain": [
       "jammer pos:  [10.2299043  12.30450941  5.76251045]\n"
      ]
     },
     "metadata": {},
     "output_type": "display_data"
    },
    {
     "data": {
      "text/html": [
       "<pre style=\"white-space:pre;overflow-x:auto;line-height:normal;font-family:Menlo,'DejaVu Sans Mono',consolas,'Courier New',monospace\">dist:  16.81143178040509\n",
       "</pre>\n"
      ],
      "text/plain": [
       "dist:  16.81143178040509\n"
      ]
     },
     "metadata": {},
     "output_type": "display_data"
    },
    {
     "data": {
      "text/html": [
       "<pre style=\"white-space:pre;overflow-x:auto;line-height:normal;font-family:Menlo,'DejaVu Sans Mono',consolas,'Courier New',monospace\">action:  [ 0.39956218  0.79458815 -1.          1.        ]\n",
       "</pre>\n"
      ],
      "text/plain": [
       "action:  [ 0.39956218  0.79458815 -1.          1.        ]\n"
      ]
     },
     "metadata": {},
     "output_type": "display_data"
    },
    {
     "data": {
      "text/html": [
       "<pre style=\"white-space:pre;overflow-x:auto;line-height:normal;font-family:Menlo,'DejaVu Sans Mono',consolas,'Courier New',monospace\">position:  (0.05609796931077985, 0.06218448449542194, 0.10485129488948655)\n",
       "</pre>\n"
      ],
      "text/plain": [
       "position:  (0.05609796931077985, 0.06218448449542194, 0.10485129488948655)\n"
      ]
     },
     "metadata": {},
     "output_type": "display_data"
    },
    {
     "data": {
      "text/html": [
       "<pre style=\"white-space:pre;overflow-x:auto;line-height:normal;font-family:Menlo,'DejaVu Sans Mono',consolas,'Courier New',monospace\">jammer pos:  [10.2299043  12.30450941  5.76251045]\n",
       "</pre>\n"
      ],
      "text/plain": [
       "jammer pos:  [10.2299043  12.30450941  5.76251045]\n"
      ]
     },
     "metadata": {},
     "output_type": "display_data"
    },
    {
     "data": {
      "text/html": [
       "<pre style=\"white-space:pre;overflow-x:auto;line-height:normal;font-family:Menlo,'DejaVu Sans Mono',consolas,'Courier New',monospace\">dist:  16.893488741674474\n",
       "</pre>\n"
      ],
      "text/plain": [
       "dist:  16.893488741674474\n"
      ]
     },
     "metadata": {},
     "output_type": "display_data"
    },
    {
     "name": "stdout",
     "output_type": "stream",
     "text": [
      "-------------------------------------------\n",
      "| rollout/                |               |\n",
      "|    ep_len_mean          | 26.9          |\n",
      "|    ep_rew_mean          | -1.02e+06     |\n",
      "| time/                   |               |\n",
      "|    fps                  | 110           |\n",
      "|    iterations           | 148           |\n",
      "|    time_elapsed         | 85            |\n",
      "|    total_timesteps      | 9472          |\n",
      "| train/                  |               |\n",
      "|    approx_kl            | 1.3038516e-08 |\n",
      "|    clip_fraction        | 0             |\n",
      "|    clip_range           | 0.2           |\n",
      "|    entropy_loss         | -5.68         |\n",
      "|    explained_variance   | -1.19e-07     |\n",
      "|    learning_rate        | 0.0003        |\n",
      "|    loss                 | 1.25e+11      |\n",
      "|    n_updates            | 1470          |\n",
      "|    policy_gradient_loss | -1.16e-05     |\n",
      "|    std                  | 1             |\n",
      "|    value_loss           | 2.51e+11      |\n",
      "-------------------------------------------\n"
     ]
    },
    {
     "data": {
      "text/html": [
       "<pre style=\"white-space:pre;overflow-x:auto;line-height:normal;font-family:Menlo,'DejaVu Sans Mono',consolas,'Courier New',monospace\">action:  [-0.9229528 -0.3847879 -0.7305673  1.       ]\n",
       "</pre>\n"
      ],
      "text/plain": [
       "action:  [-0.9229528 -0.3847879 -0.7305673  1.       ]\n"
      ]
     },
     "metadata": {},
     "output_type": "display_data"
    },
    {
     "data": {
      "text/html": [
       "<pre style=\"white-space:pre;overflow-x:auto;line-height:normal;font-family:Menlo,'DejaVu Sans Mono',consolas,'Courier New',monospace\">position:  (0.08461026568385321, 0.052888888654953024, 0.10135776088653464)\n",
       "</pre>\n"
      ],
      "text/plain": [
       "position:  (0.08461026568385321, 0.052888888654953024, 0.10135776088653464)\n"
      ]
     },
     "metadata": {},
     "output_type": "display_data"
    },
    {
     "data": {
      "text/html": [
       "<pre style=\"white-space:pre;overflow-x:auto;line-height:normal;font-family:Menlo,'DejaVu Sans Mono',consolas,'Courier New',monospace\">jammer pos:  [10.2299043  12.30450941  5.76251045]\n",
       "</pre>\n"
      ],
      "text/plain": [
       "jammer pos:  [10.2299043  12.30450941  5.76251045]\n"
      ]
     },
     "metadata": {},
     "output_type": "display_data"
    },
    {
     "data": {
      "text/html": [
       "<pre style=\"white-space:pre;overflow-x:auto;line-height:normal;font-family:Menlo,'DejaVu Sans Mono',consolas,'Courier New',monospace\">dist:  16.884248461949134\n",
       "</pre>\n"
      ],
      "text/plain": [
       "dist:  16.884248461949134\n"
      ]
     },
     "metadata": {},
     "output_type": "display_data"
    },
    {
     "data": {
      "text/html": [
       "<pre style=\"white-space:pre;overflow-x:auto;line-height:normal;font-family:Menlo,'DejaVu Sans Mono',consolas,'Courier New',monospace\">action:  [ 0.77717733 -0.20144773  0.42873797  1.        ]\n",
       "</pre>\n"
      ],
      "text/plain": [
       "action:  [ 0.77717733 -0.20144773  0.42873797  1.        ]\n"
      ]
     },
     "metadata": {},
     "output_type": "display_data"
    },
    {
     "data": {
      "text/html": [
       "<pre style=\"white-space:pre;overflow-x:auto;line-height:normal;font-family:Menlo,'DejaVu Sans Mono',consolas,'Courier New',monospace\">position:  (0.07235904393450021, 0.08070075207605983, 0.1334850689425437)\n",
       "</pre>\n"
      ],
      "text/plain": [
       "position:  (0.07235904393450021, 0.08070075207605983, 0.1334850689425437)\n"
      ]
     },
     "metadata": {},
     "output_type": "display_data"
    },
    {
     "data": {
      "text/html": [
       "<pre style=\"white-space:pre;overflow-x:auto;line-height:normal;font-family:Menlo,'DejaVu Sans Mono',consolas,'Courier New',monospace\">jammer pos:  [10.2299043  12.30450941  5.76251045]\n",
       "</pre>\n"
      ],
      "text/plain": [
       "jammer pos:  [10.2299043  12.30450941  5.76251045]\n"
      ]
     },
     "metadata": {},
     "output_type": "display_data"
    },
    {
     "data": {
      "text/html": [
       "<pre style=\"white-space:pre;overflow-x:auto;line-height:normal;font-family:Menlo,'DejaVu Sans Mono',consolas,'Courier New',monospace\">dist:  16.860698395642725\n",
       "</pre>\n"
      ],
      "text/plain": [
       "dist:  16.860698395642725\n"
      ]
     },
     "metadata": {},
     "output_type": "display_data"
    },
    {
     "data": {
      "text/html": [
       "<pre style=\"white-space:pre;overflow-x:auto;line-height:normal;font-family:Menlo,'DejaVu Sans Mono',consolas,'Courier New',monospace\">action:  [ 0.65489346  0.6763646  -0.27678725  1.        ]\n",
       "</pre>\n"
      ],
      "text/plain": [
       "action:  [ 0.65489346  0.6763646  -0.27678725  1.        ]\n"
      ]
     },
     "metadata": {},
     "output_type": "display_data"
    },
    {
     "data": {
      "text/html": [
       "<pre style=\"white-space:pre;overflow-x:auto;line-height:normal;font-family:Menlo,'DejaVu Sans Mono',consolas,'Courier New',monospace\">position:  (0.05380966922089003, 0.08118100309427237, 0.11539794098022087)\n",
       "</pre>\n"
      ],
      "text/plain": [
       "position:  (0.05380966922089003, 0.08118100309427237, 0.11539794098022087)\n"
      ]
     },
     "metadata": {},
     "output_type": "display_data"
    },
    {
     "data": {
      "text/html": [
       "<pre style=\"white-space:pre;overflow-x:auto;line-height:normal;font-family:Menlo,'DejaVu Sans Mono',consolas,'Courier New',monospace\">jammer pos:  [10.2299043  12.30450941  5.76251045]\n",
       "</pre>\n"
      ],
      "text/plain": [
       "jammer pos:  [10.2299043  12.30450941  5.76251045]\n"
      ]
     },
     "metadata": {},
     "output_type": "display_data"
    },
    {
     "data": {
      "text/html": [
       "<pre style=\"white-space:pre;overflow-x:auto;line-height:normal;font-family:Menlo,'DejaVu Sans Mono',consolas,'Courier New',monospace\">dist:  16.877575029635207\n",
       "</pre>\n"
      ],
      "text/plain": [
       "dist:  16.877575029635207\n"
      ]
     },
     "metadata": {},
     "output_type": "display_data"
    },
    {
     "name": "stdout",
     "output_type": "stream",
     "text": [
      "-------------------------------------------\n",
      "| rollout/                |               |\n",
      "|    ep_len_mean          | 26.9          |\n",
      "|    ep_rew_mean          | -1.02e+06     |\n",
      "| time/                   |               |\n",
      "|    fps                  | 110           |\n",
      "|    iterations           | 149           |\n",
      "|    time_elapsed         | 86            |\n",
      "|    total_timesteps      | 9536          |\n",
      "| train/                  |               |\n",
      "|    approx_kl            | 4.0978193e-08 |\n",
      "|    clip_fraction        | 0             |\n",
      "|    clip_range           | 0.2           |\n",
      "|    entropy_loss         | -5.68         |\n",
      "|    explained_variance   | 1.19e-07      |\n",
      "|    learning_rate        | 0.0003        |\n",
      "|    loss                 | 1.72e+11      |\n",
      "|    n_updates            | 1480          |\n",
      "|    policy_gradient_loss | -5.22e-05     |\n",
      "|    std                  | 1             |\n",
      "|    value_loss           | 3.44e+11      |\n",
      "-------------------------------------------\n"
     ]
    },
    {
     "data": {
      "text/html": [
       "<pre style=\"white-space:pre;overflow-x:auto;line-height:normal;font-family:Menlo,'DejaVu Sans Mono',consolas,'Courier New',monospace\">action:  [ 0.13741076  0.06964382 -0.19005032  1.        ]\n",
       "</pre>\n"
      ],
      "text/plain": [
       "action:  [ 0.13741076  0.06964382 -0.19005032  1.        ]\n"
      ]
     },
     "metadata": {},
     "output_type": "display_data"
    },
    {
     "data": {
      "text/html": [
       "<pre style=\"white-space:pre;overflow-x:auto;line-height:normal;font-family:Menlo,'DejaVu Sans Mono',consolas,'Courier New',monospace\">position:  (0.06482703848581609, 0.10082772182041688, 0.1441830119217652)\n",
       "</pre>\n"
      ],
      "text/plain": [
       "position:  (0.06482703848581609, 0.10082772182041688, 0.1441830119217652)\n"
      ]
     },
     "metadata": {},
     "output_type": "display_data"
    },
    {
     "data": {
      "text/html": [
       "<pre style=\"white-space:pre;overflow-x:auto;line-height:normal;font-family:Menlo,'DejaVu Sans Mono',consolas,'Courier New',monospace\">jammer pos:  [10.2299043  12.30450941  5.76251045]\n",
       "</pre>\n"
      ],
      "text/plain": [
       "jammer pos:  [10.2299043  12.30450941  5.76251045]\n"
      ]
     },
     "metadata": {},
     "output_type": "display_data"
    },
    {
     "data": {
      "text/html": [
       "<pre style=\"white-space:pre;overflow-x:auto;line-height:normal;font-family:Menlo,'DejaVu Sans Mono',consolas,'Courier New',monospace\">dist:  16.847084186714486\n",
       "</pre>\n"
      ],
      "text/plain": [
       "dist:  16.847084186714486\n"
      ]
     },
     "metadata": {},
     "output_type": "display_data"
    },
    {
     "data": {
      "text/html": [
       "<pre style=\"white-space:pre;overflow-x:auto;line-height:normal;font-family:Menlo,'DejaVu Sans Mono',consolas,'Courier New',monospace\">action:  [ 0.90389484  1.         -1.          1.        ]\n",
       "</pre>\n"
      ],
      "text/plain": [
       "action:  [ 0.90389484  1.         -1.          1.        ]\n"
      ]
     },
     "metadata": {},
     "output_type": "display_data"
    },
    {
     "data": {
      "text/html": [
       "<pre style=\"white-space:pre;overflow-x:auto;line-height:normal;font-family:Menlo,'DejaVu Sans Mono',consolas,'Courier New',monospace\">position:  (0.10421502252292472, 0.09387226963360458, 0.11337505997517533)\n",
       "</pre>\n"
      ],
      "text/plain": [
       "position:  (0.10421502252292472, 0.09387226963360458, 0.11337505997517533)\n"
      ]
     },
     "metadata": {},
     "output_type": "display_data"
    },
    {
     "data": {
      "text/html": [
       "<pre style=\"white-space:pre;overflow-x:auto;line-height:normal;font-family:Menlo,'DejaVu Sans Mono',consolas,'Courier New',monospace\">jammer pos:  [10.2299043  12.30450941  5.76251045]\n",
       "</pre>\n"
      ],
      "text/plain": [
       "jammer pos:  [10.2299043  12.30450941  5.76251045]\n"
      ]
     },
     "metadata": {},
     "output_type": "display_data"
    },
    {
     "data": {
      "text/html": [
       "<pre style=\"white-space:pre;overflow-x:auto;line-height:normal;font-family:Menlo,'DejaVu Sans Mono',consolas,'Courier New',monospace\">dist:  16.83870462020379\n",
       "</pre>\n"
      ],
      "text/plain": [
       "dist:  16.83870462020379\n"
      ]
     },
     "metadata": {},
     "output_type": "display_data"
    },
    {
     "name": "stdout",
     "output_type": "stream",
     "text": [
      "-------------------------------------------\n",
      "| rollout/                |               |\n",
      "|    ep_len_mean          | 26.9          |\n",
      "|    ep_rew_mean          | -1.02e+06     |\n",
      "| time/                   |               |\n",
      "|    fps                  | 110           |\n",
      "|    iterations           | 150           |\n",
      "|    time_elapsed         | 87            |\n",
      "|    total_timesteps      | 9600          |\n",
      "| train/                  |               |\n",
      "|    approx_kl            | 1.3969839e-08 |\n",
      "|    clip_fraction        | 0             |\n",
      "|    clip_range           | 0.2           |\n",
      "|    entropy_loss         | -5.68         |\n",
      "|    explained_variance   | 1.19e-07      |\n",
      "|    learning_rate        | 0.0003        |\n",
      "|    loss                 | 1.86e+11      |\n",
      "|    n_updates            | 1490          |\n",
      "|    policy_gradient_loss | -6.09e-07     |\n",
      "|    std                  | 1             |\n",
      "|    value_loss           | 3.71e+11      |\n",
      "-------------------------------------------\n"
     ]
    },
    {
     "data": {
      "text/html": [
       "<pre style=\"white-space:pre;overflow-x:auto;line-height:normal;font-family:Menlo,'DejaVu Sans Mono',consolas,'Courier New',monospace\">action:  [-0.00614258 -0.7317593   0.32155937  1.        ]\n",
       "</pre>\n"
      ],
      "text/plain": [
       "action:  [-0.00614258 -0.7317593   0.32155937  1.        ]\n"
      ]
     },
     "metadata": {},
     "output_type": "display_data"
    },
    {
     "data": {
      "text/html": [
       "<pre style=\"white-space:pre;overflow-x:auto;line-height:normal;font-family:Menlo,'DejaVu Sans Mono',consolas,'Courier New',monospace\">position:  (0.16837629949257457, 0.14760994284965426, 0.17387869100801953)\n",
       "</pre>\n"
      ],
      "text/plain": [
       "position:  (0.16837629949257457, 0.14760994284965426, 0.17387869100801953)\n"
      ]
     },
     "metadata": {},
     "output_type": "display_data"
    },
    {
     "data": {
      "text/html": [
       "<pre style=\"white-space:pre;overflow-x:auto;line-height:normal;font-family:Menlo,'DejaVu Sans Mono',consolas,'Courier New',monospace\">jammer pos:  [10.2299043  12.30450941  5.76251045]\n",
       "</pre>\n"
      ],
      "text/plain": [
       "jammer pos:  [10.2299043  12.30450941  5.76251045]\n"
      ]
     },
     "metadata": {},
     "output_type": "display_data"
    },
    {
     "data": {
      "text/html": [
       "<pre style=\"white-space:pre;overflow-x:auto;line-height:normal;font-family:Menlo,'DejaVu Sans Mono',consolas,'Courier New',monospace\">dist:  16.74088872226046\n",
       "</pre>\n"
      ],
      "text/plain": [
       "dist:  16.74088872226046\n"
      ]
     },
     "metadata": {},
     "output_type": "display_data"
    },
    {
     "data": {
      "text/html": [
       "<pre style=\"white-space:pre;overflow-x:auto;line-height:normal;font-family:Menlo,'DejaVu Sans Mono',consolas,'Courier New',monospace\">action:  [ 0.93800634 -1.         -1.          1.        ]\n",
       "</pre>\n"
      ],
      "text/plain": [
       "action:  [ 0.93800634 -1.         -1.          1.        ]\n"
      ]
     },
     "metadata": {},
     "output_type": "display_data"
    },
    {
     "data": {
      "text/html": [
       "<pre style=\"white-space:pre;overflow-x:auto;line-height:normal;font-family:Menlo,'DejaVu Sans Mono',consolas,'Courier New',monospace\">position:  (0.0956556319022976, 0.09687146646853347, 0.16653679782905648)\n",
       "</pre>\n"
      ],
      "text/plain": [
       "position:  (0.0956556319022976, 0.09687146646853347, 0.16653679782905648)\n"
      ]
     },
     "metadata": {},
     "output_type": "display_data"
    },
    {
     "data": {
      "text/html": [
       "<pre style=\"white-space:pre;overflow-x:auto;line-height:normal;font-family:Menlo,'DejaVu Sans Mono',consolas,'Courier New',monospace\">jammer pos:  [10.2299043  12.30450941  5.76251045]\n",
       "</pre>\n"
      ],
      "text/plain": [
       "jammer pos:  [10.2299043  12.30450941  5.76251045]\n"
      ]
     },
     "metadata": {},
     "output_type": "display_data"
    },
    {
     "data": {
      "text/html": [
       "<pre style=\"white-space:pre;overflow-x:auto;line-height:normal;font-family:Menlo,'DejaVu Sans Mono',consolas,'Courier New',monospace\">dist:  16.823921696698054\n",
       "</pre>\n"
      ],
      "text/plain": [
       "dist:  16.823921696698054\n"
      ]
     },
     "metadata": {},
     "output_type": "display_data"
    },
    {
     "name": "stdout",
     "output_type": "stream",
     "text": [
      "---------------------------------------\n",
      "| rollout/                |           |\n",
      "|    ep_len_mean          | 27.1      |\n",
      "|    ep_rew_mean          | -1.02e+06 |\n",
      "| time/                   |           |\n",
      "|    fps                  | 110       |\n",
      "|    iterations           | 151       |\n",
      "|    time_elapsed         | 87        |\n",
      "|    total_timesteps      | 9664      |\n",
      "| train/                  |           |\n",
      "|    approx_kl            | 0.0       |\n",
      "|    clip_fraction        | 0         |\n",
      "|    clip_range           | 0.2       |\n",
      "|    entropy_loss         | -5.68     |\n",
      "|    explained_variance   | 0         |\n",
      "|    learning_rate        | 0.0003    |\n",
      "|    loss                 | 1.29e+11  |\n",
      "|    n_updates            | 1500      |\n",
      "|    policy_gradient_loss | -2.34e-06 |\n",
      "|    std                  | 1         |\n",
      "|    value_loss           | 2.58e+11  |\n",
      "---------------------------------------\n"
     ]
    },
    {
     "data": {
      "text/html": [
       "<pre style=\"white-space:pre;overflow-x:auto;line-height:normal;font-family:Menlo,'DejaVu Sans Mono',consolas,'Courier New',monospace\">action:  [-1.        -0.9693741 -1.         1.       ]\n",
       "</pre>\n"
      ],
      "text/plain": [
       "action:  [-1.        -0.9693741 -1.         1.       ]\n"
      ]
     },
     "metadata": {},
     "output_type": "display_data"
    },
    {
     "data": {
      "text/html": [
       "<pre style=\"white-space:pre;overflow-x:auto;line-height:normal;font-family:Menlo,'DejaVu Sans Mono',consolas,'Courier New',monospace\">position:  (0.06785643385216053, 0.07389769047373022, 0.08890937142961973)\n",
       "</pre>\n"
      ],
      "text/plain": [
       "position:  (0.06785643385216053, 0.07389769047373022, 0.08890937142961973)\n"
      ]
     },
     "metadata": {},
     "output_type": "display_data"
    },
    {
     "data": {
      "text/html": [
       "<pre style=\"white-space:pre;overflow-x:auto;line-height:normal;font-family:Menlo,'DejaVu Sans Mono',consolas,'Courier New',monospace\">jammer pos:  [10.2299043  12.30450941  5.76251045]\n",
       "</pre>\n"
      ],
      "text/plain": [
       "jammer pos:  [10.2299043  12.30450941  5.76251045]\n"
      ]
     },
     "metadata": {},
     "output_type": "display_data"
    },
    {
     "data": {
      "text/html": [
       "<pre style=\"white-space:pre;overflow-x:auto;line-height:normal;font-family:Menlo,'DejaVu Sans Mono',consolas,'Courier New',monospace\">dist:  16.883270683736935\n",
       "</pre>\n"
      ],
      "text/plain": [
       "dist:  16.883270683736935\n"
      ]
     },
     "metadata": {},
     "output_type": "display_data"
    },
    {
     "data": {
      "text/html": [
       "<pre style=\"white-space:pre;overflow-x:auto;line-height:normal;font-family:Menlo,'DejaVu Sans Mono',consolas,'Courier New',monospace\">action:  [-0.00898506 -0.13159557  0.41242126  1.        ]\n",
       "</pre>\n"
      ],
      "text/plain": [
       "action:  [-0.00898506 -0.13159557  0.41242126  1.        ]\n"
      ]
     },
     "metadata": {},
     "output_type": "display_data"
    },
    {
     "data": {
      "text/html": [
       "<pre style=\"white-space:pre;overflow-x:auto;line-height:normal;font-family:Menlo,'DejaVu Sans Mono',consolas,'Courier New',monospace\">position:  (0.06973665803471324, 0.09561506592476142, 0.10833094629140572)\n",
       "</pre>\n"
      ],
      "text/plain": [
       "position:  (0.06973665803471324, 0.09561506592476142, 0.10833094629140572)\n"
      ]
     },
     "metadata": {},
     "output_type": "display_data"
    },
    {
     "data": {
      "text/html": [
       "<pre style=\"white-space:pre;overflow-x:auto;line-height:normal;font-family:Menlo,'DejaVu Sans Mono',consolas,'Courier New',monospace\">jammer pos:  [10.2299043  12.30450941  5.76251045]\n",
       "</pre>\n"
      ],
      "text/plain": [
       "jammer pos:  [10.2299043  12.30450941  5.76251045]\n"
      ]
     },
     "metadata": {},
     "output_type": "display_data"
    },
    {
     "data": {
      "text/html": [
       "<pre style=\"white-space:pre;overflow-x:auto;line-height:normal;font-family:Menlo,'DejaVu Sans Mono',consolas,'Courier New',monospace\">dist:  16.859888890255785\n",
       "</pre>\n"
      ],
      "text/plain": [
       "dist:  16.859888890255785\n"
      ]
     },
     "metadata": {},
     "output_type": "display_data"
    },
    {
     "data": {
      "text/html": [
       "<pre style=\"white-space:pre;overflow-x:auto;line-height:normal;font-family:Menlo,'DejaVu Sans Mono',consolas,'Courier New',monospace\">action:  [ 0.67621714 -1.          0.64792323  1.        ]\n",
       "</pre>\n"
      ],
      "text/plain": [
       "action:  [ 0.67621714 -1.          0.64792323  1.        ]\n"
      ]
     },
     "metadata": {},
     "output_type": "display_data"
    },
    {
     "data": {
      "text/html": [
       "<pre style=\"white-space:pre;overflow-x:auto;line-height:normal;font-family:Menlo,'DejaVu Sans Mono',consolas,'Courier New',monospace\">position:  (0.09900271721138225, 0.11638824394885315, 0.12850139913958333)\n",
       "</pre>\n"
      ],
      "text/plain": [
       "position:  (0.09900271721138225, 0.11638824394885315, 0.12850139913958333)\n"
      ]
     },
     "metadata": {},
     "output_type": "display_data"
    },
    {
     "data": {
      "text/html": [
       "<pre style=\"white-space:pre;overflow-x:auto;line-height:normal;font-family:Menlo,'DejaVu Sans Mono',consolas,'Courier New',monospace\">jammer pos:  [10.2299043  12.30450941  5.76251045]\n",
       "</pre>\n"
      ],
      "text/plain": [
       "jammer pos:  [10.2299043  12.30450941  5.76251045]\n"
      ]
     },
     "metadata": {},
     "output_type": "display_data"
    },
    {
     "data": {
      "text/html": [
       "<pre style=\"white-space:pre;overflow-x:auto;line-height:normal;font-family:Menlo,'DejaVu Sans Mono',consolas,'Courier New',monospace\">dist:  16.8204495284084\n",
       "</pre>\n"
      ],
      "text/plain": [
       "dist:  16.8204495284084\n"
      ]
     },
     "metadata": {},
     "output_type": "display_data"
    },
    {
     "name": "stdout",
     "output_type": "stream",
     "text": [
      "-------------------------------------------\n",
      "| rollout/                |               |\n",
      "|    ep_len_mean          | 27            |\n",
      "|    ep_rew_mean          | -1.02e+06     |\n",
      "| time/                   |               |\n",
      "|    fps                  | 110           |\n",
      "|    iterations           | 152           |\n",
      "|    time_elapsed         | 88            |\n",
      "|    total_timesteps      | 9728          |\n",
      "| train/                  |               |\n",
      "|    approx_kl            | 2.7939677e-09 |\n",
      "|    clip_fraction        | 0             |\n",
      "|    clip_range           | 0.2           |\n",
      "|    entropy_loss         | -5.68         |\n",
      "|    explained_variance   | 0             |\n",
      "|    learning_rate        | 0.0003        |\n",
      "|    loss                 | 1.24e+11      |\n",
      "|    n_updates            | 1510          |\n",
      "|    policy_gradient_loss | -7.88e-06     |\n",
      "|    std                  | 1             |\n",
      "|    value_loss           | 2.49e+11      |\n",
      "-------------------------------------------\n"
     ]
    },
    {
     "data": {
      "text/html": [
       "<pre style=\"white-space:pre;overflow-x:auto;line-height:normal;font-family:Menlo,'DejaVu Sans Mono',consolas,'Courier New',monospace\">action:  [-0.9994268   0.32449964  0.6919513   1.        ]\n",
       "</pre>\n"
      ],
      "text/plain": [
       "action:  [-0.9994268   0.32449964  0.6919513   1.        ]\n"
      ]
     },
     "metadata": {},
     "output_type": "display_data"
    },
    {
     "data": {
      "text/html": [
       "<pre style=\"white-space:pre;overflow-x:auto;line-height:normal;font-family:Menlo,'DejaVu Sans Mono',consolas,'Courier New',monospace\">position:  (0.06961160839851459, 0.05007391672895729, 0.10333355777580813)\n",
       "</pre>\n"
      ],
      "text/plain": [
       "position:  (0.06961160839851459, 0.05007391672895729, 0.10333355777580813)\n"
      ]
     },
     "metadata": {},
     "output_type": "display_data"
    },
    {
     "data": {
      "text/html": [
       "<pre style=\"white-space:pre;overflow-x:auto;line-height:normal;font-family:Menlo,'DejaVu Sans Mono',consolas,'Courier New',monospace\">jammer pos:  [10.2299043  12.30450941  5.76251045]\n",
       "</pre>\n"
      ],
      "text/plain": [
       "jammer pos:  [10.2299043  12.30450941  5.76251045]\n"
      ]
     },
     "metadata": {},
     "output_type": "display_data"
    },
    {
     "data": {
      "text/html": [
       "<pre style=\"white-space:pre;overflow-x:auto;line-height:normal;font-family:Menlo,'DejaVu Sans Mono',consolas,'Courier New',monospace\">dist:  16.8946447091615\n",
       "</pre>\n"
      ],
      "text/plain": [
       "dist:  16.8946447091615\n"
      ]
     },
     "metadata": {},
     "output_type": "display_data"
    },
    {
     "data": {
      "text/html": [
       "<pre style=\"white-space:pre;overflow-x:auto;line-height:normal;font-family:Menlo,'DejaVu Sans Mono',consolas,'Courier New',monospace\">action:  [ 1.         -0.06038492 -0.78558695  1.        ]\n",
       "</pre>\n"
      ],
      "text/plain": [
       "action:  [ 1.         -0.06038492 -0.78558695  1.        ]\n"
      ]
     },
     "metadata": {},
     "output_type": "display_data"
    },
    {
     "data": {
      "text/html": [
       "<pre style=\"white-space:pre;overflow-x:auto;line-height:normal;font-family:Menlo,'DejaVu Sans Mono',consolas,'Courier New',monospace\">position:  (0.07961236286727234, 0.08246892322747677, 0.12104750790127591)\n",
       "</pre>\n"
      ],
      "text/plain": [
       "position:  (0.07961236286727234, 0.08246892322747677, 0.12104750790127591)\n"
      ]
     },
     "metadata": {},
     "output_type": "display_data"
    },
    {
     "data": {
      "text/html": [
       "<pre style=\"white-space:pre;overflow-x:auto;line-height:normal;font-family:Menlo,'DejaVu Sans Mono',consolas,'Courier New',monospace\">jammer pos:  [10.2299043  12.30450941  5.76251045]\n",
       "</pre>\n"
      ],
      "text/plain": [
       "jammer pos:  [10.2299043  12.30450941  5.76251045]\n"
      ]
     },
     "metadata": {},
     "output_type": "display_data"
    },
    {
     "data": {
      "text/html": [
       "<pre style=\"white-space:pre;overflow-x:auto;line-height:normal;font-family:Menlo,'DejaVu Sans Mono',consolas,'Courier New',monospace\">dist:  16.859205322617594\n",
       "</pre>\n"
      ],
      "text/plain": [
       "dist:  16.859205322617594\n"
      ]
     },
     "metadata": {},
     "output_type": "display_data"
    },
    {
     "data": {
      "text/html": [
       "<pre style=\"white-space:pre;overflow-x:auto;line-height:normal;font-family:Menlo,'DejaVu Sans Mono',consolas,'Courier New',monospace\">action:  [-0.15165038  0.5150215   0.13393557  1.        ]\n",
       "</pre>\n"
      ],
      "text/plain": [
       "action:  [-0.15165038  0.5150215   0.13393557  1.        ]\n"
      ]
     },
     "metadata": {},
     "output_type": "display_data"
    },
    {
     "data": {
      "text/html": [
       "<pre style=\"white-space:pre;overflow-x:auto;line-height:normal;font-family:Menlo,'DejaVu Sans Mono',consolas,'Courier New',monospace\">position:  (0.0754441402724813, 0.06781082416403712, 0.11187455099354948)\n",
       "</pre>\n"
      ],
      "text/plain": [
       "position:  (0.0754441402724813, 0.06781082416403712, 0.11187455099354948)\n"
      ]
     },
     "metadata": {},
     "output_type": "display_data"
    },
    {
     "data": {
      "text/html": [
       "<pre style=\"white-space:pre;overflow-x:auto;line-height:normal;font-family:Menlo,'DejaVu Sans Mono',consolas,'Courier New',monospace\">jammer pos:  [10.2299043  12.30450941  5.76251045]\n",
       "</pre>\n"
      ],
      "text/plain": [
       "jammer pos:  [10.2299043  12.30450941  5.76251045]\n"
      ]
     },
     "metadata": {},
     "output_type": "display_data"
    },
    {
     "data": {
      "text/html": [
       "<pre style=\"white-space:pre;overflow-x:auto;line-height:normal;font-family:Menlo,'DejaVu Sans Mono',consolas,'Courier New',monospace\">dist:  16.875412273272616\n",
       "</pre>\n"
      ],
      "text/plain": [
       "dist:  16.875412273272616\n"
      ]
     },
     "metadata": {},
     "output_type": "display_data"
    },
    {
     "name": "stdout",
     "output_type": "stream",
     "text": [
      "-------------------------------------------\n",
      "| rollout/                |               |\n",
      "|    ep_len_mean          | 26.9          |\n",
      "|    ep_rew_mean          | -1.02e+06     |\n",
      "| time/                   |               |\n",
      "|    fps                  | 110           |\n",
      "|    iterations           | 153           |\n",
      "|    time_elapsed         | 88            |\n",
      "|    total_timesteps      | 9792          |\n",
      "| train/                  |               |\n",
      "|    approx_kl            | 2.7939677e-09 |\n",
      "|    clip_fraction        | 0             |\n",
      "|    clip_range           | 0.2           |\n",
      "|    entropy_loss         | -5.68         |\n",
      "|    explained_variance   | 0             |\n",
      "|    learning_rate        | 0.0003        |\n",
      "|    loss                 | 1.45e+11      |\n",
      "|    n_updates            | 1520          |\n",
      "|    policy_gradient_loss | -5.26e-06     |\n",
      "|    std                  | 1             |\n",
      "|    value_loss           | 2.91e+11      |\n",
      "-------------------------------------------\n"
     ]
    },
    {
     "data": {
      "text/html": [
       "<pre style=\"white-space:pre;overflow-x:auto;line-height:normal;font-family:Menlo,'DejaVu Sans Mono',consolas,'Courier New',monospace\">action:  [ 0.2774527  0.7130251 -0.2305189  1.       ]\n",
       "</pre>\n"
      ],
      "text/plain": [
       "action:  [ 0.2774527  0.7130251 -0.2305189  1.       ]\n"
      ]
     },
     "metadata": {},
     "output_type": "display_data"
    },
    {
     "data": {
      "text/html": [
       "<pre style=\"white-space:pre;overflow-x:auto;line-height:normal;font-family:Menlo,'DejaVu Sans Mono',consolas,'Courier New',monospace\">position:  (0.0554106689637793, 0.052344240275177055, 0.11802154600621122)\n",
       "</pre>\n"
      ],
      "text/plain": [
       "position:  (0.0554106689637793, 0.052344240275177055, 0.11802154600621122)\n"
      ]
     },
     "metadata": {},
     "output_type": "display_data"
    },
    {
     "data": {
      "text/html": [
       "<pre style=\"white-space:pre;overflow-x:auto;line-height:normal;font-family:Menlo,'DejaVu Sans Mono',consolas,'Courier New',monospace\">jammer pos:  [10.2299043  12.30450941  5.76251045]\n",
       "</pre>\n"
      ],
      "text/plain": [
       "jammer pos:  [10.2299043  12.30450941  5.76251045]\n"
      ]
     },
     "metadata": {},
     "output_type": "display_data"
    },
    {
     "data": {
      "text/html": [
       "<pre style=\"white-space:pre;overflow-x:auto;line-height:normal;font-family:Menlo,'DejaVu Sans Mono',consolas,'Courier New',monospace\">dist:  16.89663063734964\n",
       "</pre>\n"
      ],
      "text/plain": [
       "dist:  16.89663063734964\n"
      ]
     },
     "metadata": {},
     "output_type": "display_data"
    },
    {
     "data": {
      "text/html": [
       "<pre style=\"white-space:pre;overflow-x:auto;line-height:normal;font-family:Menlo,'DejaVu Sans Mono',consolas,'Courier New',monospace\">action:  [ 0.58590186 -1.         -0.14045496  1.        ]\n",
       "</pre>\n"
      ],
      "text/plain": [
       "action:  [ 0.58590186 -1.         -0.14045496  1.        ]\n"
      ]
     },
     "metadata": {},
     "output_type": "display_data"
    },
    {
     "data": {
      "text/html": [
       "<pre style=\"white-space:pre;overflow-x:auto;line-height:normal;font-family:Menlo,'DejaVu Sans Mono',consolas,'Courier New',monospace\">position:  (0.060265051380581205, 0.06193308994893648, 0.08849083895700585)\n",
       "</pre>\n"
      ],
      "text/plain": [
       "position:  (0.060265051380581205, 0.06193308994893648, 0.08849083895700585)\n"
      ]
     },
     "metadata": {},
     "output_type": "display_data"
    },
    {
     "data": {
      "text/html": [
       "<pre style=\"white-space:pre;overflow-x:auto;line-height:normal;font-family:Menlo,'DejaVu Sans Mono',consolas,'Courier New',monospace\">jammer pos:  [10.2299043  12.30450941  5.76251045]\n",
       "</pre>\n"
      ],
      "text/plain": [
       "jammer pos:  [10.2299043  12.30450941  5.76251045]\n"
      ]
     },
     "metadata": {},
     "output_type": "display_data"
    },
    {
     "data": {
      "text/html": [
       "<pre style=\"white-space:pre;overflow-x:auto;line-height:normal;font-family:Menlo,'DejaVu Sans Mono',consolas,'Courier New',monospace\">dist:  16.896648657636344\n",
       "</pre>\n"
      ],
      "text/plain": [
       "dist:  16.896648657636344\n"
      ]
     },
     "metadata": {},
     "output_type": "display_data"
    },
    {
     "data": {
      "text/html": [
       "<pre style=\"white-space:pre;overflow-x:auto;line-height:normal;font-family:Menlo,'DejaVu Sans Mono',consolas,'Courier New',monospace\">action:  [-0.4073378   0.10392043 -0.4200152   1.        ]\n",
       "</pre>\n"
      ],
      "text/plain": [
       "action:  [-0.4073378   0.10392043 -0.4200152   1.        ]\n"
      ]
     },
     "metadata": {},
     "output_type": "display_data"
    },
    {
     "data": {
      "text/html": [
       "<pre style=\"white-space:pre;overflow-x:auto;line-height:normal;font-family:Menlo,'DejaVu Sans Mono',consolas,'Courier New',monospace\">position:  (0.05708723068212219, 0.062131021671725274, 0.12057787478004033)\n",
       "</pre>\n"
      ],
      "text/plain": [
       "position:  (0.05708723068212219, 0.062131021671725274, 0.12057787478004033)\n"
      ]
     },
     "metadata": {},
     "output_type": "display_data"
    },
    {
     "data": {
      "text/html": [
       "<pre style=\"white-space:pre;overflow-x:auto;line-height:normal;font-family:Menlo,'DejaVu Sans Mono',consolas,'Courier New',monospace\">jammer pos:  [10.2299043  12.30450941  5.76251045]\n",
       "</pre>\n"
      ],
      "text/plain": [
       "jammer pos:  [10.2299043  12.30450941  5.76251045]\n"
      ]
     },
     "metadata": {},
     "output_type": "display_data"
    },
    {
     "data": {
      "text/html": [
       "<pre style=\"white-space:pre;overflow-x:auto;line-height:normal;font-family:Menlo,'DejaVu Sans Mono',consolas,'Courier New',monospace\">dist:  16.887671207887735\n",
       "</pre>\n"
      ],
      "text/plain": [
       "dist:  16.887671207887735\n"
      ]
     },
     "metadata": {},
     "output_type": "display_data"
    },
    {
     "name": "stdout",
     "output_type": "stream",
     "text": [
      "---------------------------------------\n",
      "| rollout/                |           |\n",
      "|    ep_len_mean          | 26.8      |\n",
      "|    ep_rew_mean          | -1.02e+06 |\n",
      "| time/                   |           |\n",
      "|    fps                  | 109       |\n",
      "|    iterations           | 154       |\n",
      "|    time_elapsed         | 89        |\n",
      "|    total_timesteps      | 9856      |\n",
      "| train/                  |           |\n",
      "|    approx_kl            | 0.0       |\n",
      "|    clip_fraction        | 0         |\n",
      "|    clip_range           | 0.2       |\n",
      "|    entropy_loss         | -5.68     |\n",
      "|    explained_variance   | -1.19e-07 |\n",
      "|    learning_rate        | 0.0003    |\n",
      "|    loss                 | 1.77e+11  |\n",
      "|    n_updates            | 1530      |\n",
      "|    policy_gradient_loss | -2.34e-06 |\n",
      "|    std                  | 1         |\n",
      "|    value_loss           | 3.54e+11  |\n",
      "---------------------------------------\n"
     ]
    },
    {
     "data": {
      "text/html": [
       "<pre style=\"white-space:pre;overflow-x:auto;line-height:normal;font-family:Menlo,'DejaVu Sans Mono',consolas,'Courier New',monospace\">action:  [-0.5966726  -0.1492553  -0.23201412  1.        ]\n",
       "</pre>\n"
      ],
      "text/plain": [
       "action:  [-0.5966726  -0.1492553  -0.23201412  1.        ]\n"
      ]
     },
     "metadata": {},
     "output_type": "display_data"
    },
    {
     "data": {
      "text/html": [
       "<pre style=\"white-space:pre;overflow-x:auto;line-height:normal;font-family:Menlo,'DejaVu Sans Mono',consolas,'Courier New',monospace\">position:  (0.09483519768310594, 0.0565678090290188, 0.11784119938440943)\n",
       "</pre>\n"
      ],
      "text/plain": [
       "position:  (0.09483519768310594, 0.0565678090290188, 0.11784119938440943)\n"
      ]
     },
     "metadata": {},
     "output_type": "display_data"
    },
    {
     "data": {
      "text/html": [
       "<pre style=\"white-space:pre;overflow-x:auto;line-height:normal;font-family:Menlo,'DejaVu Sans Mono',consolas,'Courier New',monospace\">jammer pos:  [10.2299043  12.30450941  5.76251045]\n",
       "</pre>\n"
      ],
      "text/plain": [
       "jammer pos:  [10.2299043  12.30450941  5.76251045]\n"
      ]
     },
     "metadata": {},
     "output_type": "display_data"
    },
    {
     "data": {
      "text/html": [
       "<pre style=\"white-space:pre;overflow-x:auto;line-height:normal;font-family:Menlo,'DejaVu Sans Mono',consolas,'Courier New',monospace\">dist:  16.869913752948428\n",
       "</pre>\n"
      ],
      "text/plain": [
       "dist:  16.869913752948428\n"
      ]
     },
     "metadata": {},
     "output_type": "display_data"
    },
    {
     "data": {
      "text/html": [
       "<pre style=\"white-space:pre;overflow-x:auto;line-height:normal;font-family:Menlo,'DejaVu Sans Mono',consolas,'Courier New',monospace\">action:  [-0.5773354 -1.        -0.5581632  1.       ]\n",
       "</pre>\n"
      ],
      "text/plain": [
       "action:  [-0.5773354 -1.        -0.5581632  1.       ]\n"
      ]
     },
     "metadata": {},
     "output_type": "display_data"
    },
    {
     "data": {
      "text/html": [
       "<pre style=\"white-space:pre;overflow-x:auto;line-height:normal;font-family:Menlo,'DejaVu Sans Mono',consolas,'Courier New',monospace\">position:  (0.0868450964189462, 0.06622351989082863, 0.12133070563196749)\n",
       "</pre>\n"
      ],
      "text/plain": [
       "position:  (0.0868450964189462, 0.06622351989082863, 0.12133070563196749)\n"
      ]
     },
     "metadata": {},
     "output_type": "display_data"
    },
    {
     "data": {
      "text/html": [
       "<pre style=\"white-space:pre;overflow-x:auto;line-height:normal;font-family:Menlo,'DejaVu Sans Mono',consolas,'Courier New',monospace\">jammer pos:  [10.2299043  12.30450941  5.76251045]\n",
       "</pre>\n"
      ],
      "text/plain": [
       "jammer pos:  [10.2299043  12.30450941  5.76251045]\n"
      ]
     },
     "metadata": {},
     "output_type": "display_data"
    },
    {
     "data": {
      "text/html": [
       "<pre style=\"white-space:pre;overflow-x:auto;line-height:normal;font-family:Menlo,'DejaVu Sans Mono',consolas,'Courier New',monospace\">dist:  16.86654085333675\n",
       "</pre>\n"
      ],
      "text/plain": [
       "dist:  16.86654085333675\n"
      ]
     },
     "metadata": {},
     "output_type": "display_data"
    },
    {
     "name": "stdout",
     "output_type": "stream",
     "text": [
      "-------------------------------------------\n",
      "| rollout/                |               |\n",
      "|    ep_len_mean          | 26.8          |\n",
      "|    ep_rew_mean          | -1.02e+06     |\n",
      "| time/                   |               |\n",
      "|    fps                  | 110           |\n",
      "|    iterations           | 155           |\n",
      "|    time_elapsed         | 90            |\n",
      "|    total_timesteps      | 9920          |\n",
      "| train/                  |               |\n",
      "|    approx_kl            | 1.8626451e-09 |\n",
      "|    clip_fraction        | 0             |\n",
      "|    clip_range           | 0.2           |\n",
      "|    entropy_loss         | -5.68         |\n",
      "|    explained_variance   | -1.19e-07     |\n",
      "|    learning_rate        | 0.0003        |\n",
      "|    loss                 | 1.86e+11      |\n",
      "|    n_updates            | 1540          |\n",
      "|    policy_gradient_loss | -1.39e-05     |\n",
      "|    std                  | 1             |\n",
      "|    value_loss           | 3.72e+11      |\n",
      "-------------------------------------------\n"
     ]
    },
    {
     "data": {
      "text/html": [
       "<pre style=\"white-space:pre;overflow-x:auto;line-height:normal;font-family:Menlo,'DejaVu Sans Mono',consolas,'Courier New',monospace\">action:  [1.         0.1322892  0.23115765 1.        ]\n",
       "</pre>\n"
      ],
      "text/plain": [
       "action:  [1.         0.1322892  0.23115765 1.        ]\n"
      ]
     },
     "metadata": {},
     "output_type": "display_data"
    },
    {
     "data": {
      "text/html": [
       "<pre style=\"white-space:pre;overflow-x:auto;line-height:normal;font-family:Menlo,'DejaVu Sans Mono',consolas,'Courier New',monospace\">position:  (0.07286368109357946, 0.05259691541903357, 0.12816652536035142)\n",
       "</pre>\n"
      ],
      "text/plain": [
       "position:  (0.07286368109357946, 0.05259691541903357, 0.12816652536035142)\n"
      ]
     },
     "metadata": {},
     "output_type": "display_data"
    },
    {
     "data": {
      "text/html": [
       "<pre style=\"white-space:pre;overflow-x:auto;line-height:normal;font-family:Menlo,'DejaVu Sans Mono',consolas,'Courier New',monospace\">jammer pos:  [10.2299043  12.30450941  5.76251045]\n",
       "</pre>\n"
      ],
      "text/plain": [
       "jammer pos:  [10.2299043  12.30450941  5.76251045]\n"
      ]
     },
     "metadata": {},
     "output_type": "display_data"
    },
    {
     "data": {
      "text/html": [
       "<pre style=\"white-space:pre;overflow-x:auto;line-height:normal;font-family:Menlo,'DejaVu Sans Mono',consolas,'Courier New',monospace\">dist:  16.882555057915493\n",
       "</pre>\n"
      ],
      "text/plain": [
       "dist:  16.882555057915493\n"
      ]
     },
     "metadata": {},
     "output_type": "display_data"
    },
    {
     "data": {
      "text/html": [
       "<pre style=\"white-space:pre;overflow-x:auto;line-height:normal;font-family:Menlo,'DejaVu Sans Mono',consolas,'Courier New',monospace\">action:  [-1.          0.7621816  -0.13540561  1.        ]\n",
       "</pre>\n"
      ],
      "text/plain": [
       "action:  [-1.          0.7621816  -0.13540561  1.        ]\n"
      ]
     },
     "metadata": {},
     "output_type": "display_data"
    },
    {
     "data": {
      "text/html": [
       "<pre style=\"white-space:pre;overflow-x:auto;line-height:normal;font-family:Menlo,'DejaVu Sans Mono',consolas,'Courier New',monospace\">position:  (0.07017575049071684, 0.08889109762910141, 0.08860638858682678)\n",
       "</pre>\n"
      ],
      "text/plain": [
       "position:  (0.07017575049071684, 0.08889109762910141, 0.08860638858682678)\n"
      ]
     },
     "metadata": {},
     "output_type": "display_data"
    },
    {
     "data": {
      "text/html": [
       "<pre style=\"white-space:pre;overflow-x:auto;line-height:normal;font-family:Menlo,'DejaVu Sans Mono',consolas,'Courier New',monospace\">jammer pos:  [10.2299043  12.30450941  5.76251045]\n",
       "</pre>\n"
      ],
      "text/plain": [
       "jammer pos:  [10.2299043  12.30450941  5.76251045]\n"
      ]
     },
     "metadata": {},
     "output_type": "display_data"
    },
    {
     "data": {
      "text/html": [
       "<pre style=\"white-space:pre;overflow-x:auto;line-height:normal;font-family:Menlo,'DejaVu Sans Mono',consolas,'Courier New',monospace\">dist:  16.871117395282333\n",
       "</pre>\n"
      ],
      "text/plain": [
       "dist:  16.871117395282333\n"
      ]
     },
     "metadata": {},
     "output_type": "display_data"
    },
    {
     "data": {
      "text/html": [
       "<pre style=\"white-space:pre;overflow-x:auto;line-height:normal;font-family:Menlo,'DejaVu Sans Mono',consolas,'Courier New',monospace\">action:  [-0.18296672  0.37336642  1.          1.        ]\n",
       "</pre>\n"
      ],
      "text/plain": [
       "action:  [-0.18296672  0.37336642  1.          1.        ]\n"
      ]
     },
     "metadata": {},
     "output_type": "display_data"
    },
    {
     "data": {
      "text/html": [
       "<pre style=\"white-space:pre;overflow-x:auto;line-height:normal;font-family:Menlo,'DejaVu Sans Mono',consolas,'Courier New',monospace\">position:  (0.09511885945145113, 0.08058267916924278, 0.12444137043530934)\n",
       "</pre>\n"
      ],
      "text/plain": [
       "position:  (0.09511885945145113, 0.08058267916924278, 0.12444137043530934)\n"
      ]
     },
     "metadata": {},
     "output_type": "display_data"
    },
    {
     "data": {
      "text/html": [
       "<pre style=\"white-space:pre;overflow-x:auto;line-height:normal;font-family:Menlo,'DejaVu Sans Mono',consolas,'Courier New',monospace\">jammer pos:  [10.2299043  12.30450941  5.76251045]\n",
       "</pre>\n"
      ],
      "text/plain": [
       "jammer pos:  [10.2299043  12.30450941  5.76251045]\n"
      ]
     },
     "metadata": {},
     "output_type": "display_data"
    },
    {
     "data": {
      "text/html": [
       "<pre style=\"white-space:pre;overflow-x:auto;line-height:normal;font-family:Menlo,'DejaVu Sans Mono',consolas,'Courier New',monospace\">dist:  16.850106335164572\n",
       "</pre>\n"
      ],
      "text/plain": [
       "dist:  16.850106335164572\n"
      ]
     },
     "metadata": {},
     "output_type": "display_data"
    },
    {
     "name": "stdout",
     "output_type": "stream",
     "text": [
      "-------------------------------------------\n",
      "| rollout/                |               |\n",
      "|    ep_len_mean          | 26.7          |\n",
      "|    ep_rew_mean          | -1.02e+06     |\n",
      "| time/                   |               |\n",
      "|    fps                  | 110           |\n",
      "|    iterations           | 156           |\n",
      "|    time_elapsed         | 90            |\n",
      "|    total_timesteps      | 9984          |\n",
      "| train/                  |               |\n",
      "|    approx_kl            | 2.0489097e-08 |\n",
      "|    clip_fraction        | 0             |\n",
      "|    clip_range           | 0.2           |\n",
      "|    entropy_loss         | -5.68         |\n",
      "|    explained_variance   | 0             |\n",
      "|    learning_rate        | 0.0003        |\n",
      "|    loss                 | 1.28e+11      |\n",
      "|    n_updates            | 1550          |\n",
      "|    policy_gradient_loss | -1.98e-05     |\n",
      "|    std                  | 1             |\n",
      "|    value_loss           | 2.55e+11      |\n",
      "-------------------------------------------\n"
     ]
    },
    {
     "data": {
      "text/html": [
       "<pre style=\"white-space:pre;overflow-x:auto;line-height:normal;font-family:Menlo,'DejaVu Sans Mono',consolas,'Courier New',monospace\">action:  [-1.        -0.3130532 -1.         1.       ]\n",
       "</pre>\n"
      ],
      "text/plain": [
       "action:  [-1.        -0.3130532 -1.         1.       ]\n"
      ]
     },
     "metadata": {},
     "output_type": "display_data"
    },
    {
     "data": {
      "text/html": [
       "<pre style=\"white-space:pre;overflow-x:auto;line-height:normal;font-family:Menlo,'DejaVu Sans Mono',consolas,'Courier New',monospace\">position:  (0.05230529989485616, 0.0767394332875832, 0.10859310364577479)\n",
       "</pre>\n"
      ],
      "text/plain": [
       "position:  (0.05230529989485616, 0.0767394332875832, 0.10859310364577479)\n"
      ]
     },
     "metadata": {},
     "output_type": "display_data"
    },
    {
     "data": {
      "text/html": [
       "<pre style=\"white-space:pre;overflow-x:auto;line-height:normal;font-family:Menlo,'DejaVu Sans Mono',consolas,'Courier New',monospace\">jammer pos:  [10.2299043  12.30450941  5.76251045]\n",
       "</pre>\n"
      ],
      "text/plain": [
       "jammer pos:  [10.2299043  12.30450941  5.76251045]\n"
      ]
     },
     "metadata": {},
     "output_type": "display_data"
    },
    {
     "data": {
      "text/html": [
       "<pre style=\"white-space:pre;overflow-x:auto;line-height:normal;font-family:Menlo,'DejaVu Sans Mono',consolas,'Courier New',monospace\">dist:  16.883976465380748\n",
       "</pre>\n"
      ],
      "text/plain": [
       "dist:  16.883976465380748\n"
      ]
     },
     "metadata": {},
     "output_type": "display_data"
    },
    {
     "data": {
      "text/html": [
       "<pre style=\"white-space:pre;overflow-x:auto;line-height:normal;font-family:Menlo,'DejaVu Sans Mono',consolas,'Courier New',monospace\">action:  [ 0.3753635  -0.98118925  0.1424305   1.        ]\n",
       "</pre>\n"
      ],
      "text/plain": [
       "action:  [ 0.3753635  -0.98118925  0.1424305   1.        ]\n"
      ]
     },
     "metadata": {},
     "output_type": "display_data"
    },
    {
     "data": {
      "text/html": [
       "<pre style=\"white-space:pre;overflow-x:auto;line-height:normal;font-family:Menlo,'DejaVu Sans Mono',consolas,'Courier New',monospace\">position:  (0.14070753709350528, 0.12745996297759157, 0.2070865741429683)\n",
       "</pre>\n"
      ],
      "text/plain": [
       "position:  (0.14070753709350528, 0.12745996297759157, 0.2070865741429683)\n"
      ]
     },
     "metadata": {},
     "output_type": "display_data"
    },
    {
     "data": {
      "text/html": [
       "<pre style=\"white-space:pre;overflow-x:auto;line-height:normal;font-family:Menlo,'DejaVu Sans Mono',consolas,'Courier New',monospace\">jammer pos:  [10.2299043  12.30450941  5.76251045]\n",
       "</pre>\n"
      ],
      "text/plain": [
       "jammer pos:  [10.2299043  12.30450941  5.76251045]\n"
      ]
     },
     "metadata": {},
     "output_type": "display_data"
    },
    {
     "data": {
      "text/html": [
       "<pre style=\"white-space:pre;overflow-x:auto;line-height:normal;font-family:Menlo,'DejaVu Sans Mono',consolas,'Courier New',monospace\">dist:  16.761120455089475\n",
       "</pre>\n"
      ],
      "text/plain": [
       "dist:  16.761120455089475\n"
      ]
     },
     "metadata": {},
     "output_type": "display_data"
    },
    {
     "name": "stdout",
     "output_type": "stream",
     "text": [
      "-------------------------------------------\n",
      "| rollout/                |               |\n",
      "|    ep_len_mean          | 26.6          |\n",
      "|    ep_rew_mean          | -1.02e+06     |\n",
      "| time/                   |               |\n",
      "|    fps                  | 110           |\n",
      "|    iterations           | 157           |\n",
      "|    time_elapsed         | 91            |\n",
      "|    total_timesteps      | 10048         |\n",
      "| train/                  |               |\n",
      "|    approx_kl            | 4.9360096e-08 |\n",
      "|    clip_fraction        | 0             |\n",
      "|    clip_range           | 0.2           |\n",
      "|    entropy_loss         | -5.68         |\n",
      "|    explained_variance   | 0             |\n",
      "|    learning_rate        | 0.0003        |\n",
      "|    loss                 | 1.45e+11      |\n",
      "|    n_updates            | 1560          |\n",
      "|    policy_gradient_loss | -3.45e-05     |\n",
      "|    std                  | 1             |\n",
      "|    value_loss           | 2.91e+11      |\n",
      "-------------------------------------------\n"
     ]
    },
    {
     "data": {
      "text/html": [
       "<pre style=\"white-space:pre;overflow-x:auto;line-height:normal;font-family:Menlo,'DejaVu Sans Mono',consolas,'Courier New',monospace\"></pre>\n"
      ],
      "text/plain": []
     },
     "metadata": {},
     "output_type": "display_data"
    },
    {
     "data": {
      "text/html": [
       "<pre style=\"white-space:pre;overflow-x:auto;line-height:normal;font-family:Menlo,'DejaVu Sans Mono',consolas,'Courier New',monospace\">\n",
       "</pre>\n"
      ],
      "text/plain": [
       "\n"
      ]
     },
     "metadata": {},
     "output_type": "display_data"
    },
    {
     "name": "stdout",
     "output_type": "stream",
     "text": [
      "Episode 1: Reward = 156856.97184505058, Length = 1001\n"
     ]
    }
   ],
   "source": [
    "from stable_baselines3 import PPO\n",
    "from DroneJamEnvFull import DroneJammingEnv\n",
    "import numpy as np\n",
    "import tqdm\n",
    "\n",
    "# Create the environment\n",
    "env = DroneJammingEnv()\n",
    "\n",
    "# Initialize the PPO agent\n",
    "model = PPO(\"MlpPolicy\", env, verbose=1, n_steps=64)\n",
    "\n",
    "# Train the model\n",
    "total_timesteps = 10000\n",
    "model.learn(total_timesteps=total_timesteps, progress_bar=True)\n",
    "\n",
    "# Save the model\n",
    "model.save(\"ppo_drone\")\n",
    "\n",
    "# Load the model\n",
    "model = PPO.load(\"ppo_drone\")\n",
    "\n",
    "# Evaluate the model\n",
    "num_episodes = 10\n",
    "for episode in range(num_episodes):\n",
    "    obs = env.reset()\n",
    "    done = False\n",
    "    ep_reward = 0\n",
    "    ep_length = 0\n",
    "    while not done:\n",
    "        action, _ = model.predict(obs, deterministic=True)\n",
    "        obs, reward, done, info = env.step(action)\n",
    "        ep_reward += reward\n",
    "        ep_length += 1\n",
    "        env.render()\n",
    "    \n",
    "    print(f\"Episode {episode + 1}: Reward = {ep_reward}, Length = {ep_length}\")\n",
    "\n",
    "env.close()"
   ]
  }
 ],
 "metadata": {
  "kernelspec": {
   "display_name": "Python 3 (ipykernel)",
   "language": "python",
   "name": "python3"
  },
  "language_info": {
   "codemirror_mode": {
    "name": "ipython",
    "version": 3
   },
   "file_extension": ".py",
   "mimetype": "text/x-python",
   "name": "python",
   "nbconvert_exporter": "python",
   "pygments_lexer": "ipython3",
   "version": "3.10.8"
  }
 },
 "nbformat": 4,
 "nbformat_minor": 5
}
