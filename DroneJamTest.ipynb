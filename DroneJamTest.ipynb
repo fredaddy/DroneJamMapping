{
 "cells": [
  {
   "cell_type": "code",
   "execution_count": null,
   "metadata": {},
   "outputs": [
    {
     "name": "stdout",
     "output_type": "stream",
     "text": [
      "Using cpu device\n",
      "Wrapping the env with a `Monitor` wrapper\n",
      "Wrapping the env in a DummyVecEnv.\n"
     ]
    },
    {
     "name": "stderr",
     "output_type": "stream",
     "text": [
      "C:\\Users\\Samuel Chian\\AppData\\Local\\Programs\\Python\\Python310\\lib\\site-packages\\stable_baselines3\\common\\vec_env\\patch_gym.py:49: UserWarning: You provided an OpenAI Gym environment. We strongly recommend transitioning to Gymnasium environments. Stable-Baselines3 is automatically wrapping your environments in a compatibility layer, which could potentially cause issues.\n",
      "  warnings.warn(\n"
     ]
    },
    {
     "name": "stdout",
     "output_type": "stream",
     "text": [
      "---------------------------------\n",
      "| rollout/           |          |\n",
      "|    ep_len_mean     | 212      |\n",
      "|    ep_rew_mean     | 1.1e+05  |\n",
      "| time/              |          |\n",
      "|    fps             | 559      |\n",
      "|    iterations      | 1        |\n",
      "|    time_elapsed    | 3        |\n",
      "|    total_timesteps | 2048     |\n",
      "---------------------------------\n",
      "Episode 1: Reward = 113497.77485225958, Length = 218\n"
     ]
    }
   ],
   "source": [
    "from stable_baselines3 import PPO\n",
    "from DroneJammingEnv import DroneJammingEnv\n",
    "import numpy as np\n",
    "\n",
    "# Create the environment\n",
    "env = DroneJammingEnv()\n",
    "\n",
    "# Initialize the PPO agent\n",
    "model = PPO(\"MlpPolicy\", env, verbose=1)\n",
    "\n",
    "# Train the model\n",
    "total_timesteps = 1000\n",
    "model.learn(total_timesteps=total_timesteps)\n",
    "\n",
    "# Save the model\n",
    "model.save(\"ppo_drone\")\n",
    "\n",
    "# Load the model\n",
    "model = PPO.load(\"ppo_drone\")\n",
    "\n",
    "# Evaluate the model\n",
    "num_episodes = 10\n",
    "for episode in range(num_episodes):\n",
    "    obs = env.reset()\n",
    "    done = False\n",
    "    ep_reward = 0\n",
    "    ep_length = 0\n",
    "    while not done:\n",
    "        action, _ = model.predict(obs, deterministic=True)\n",
    "        obs, reward, done, info = env.step(action)\n",
    "        ep_reward += reward\n",
    "        ep_length += 1\n",
    "        env.render()\n",
    "    \n",
    "    print(f\"Episode {episode + 1}: Reward = {ep_reward}, Length = {ep_length}\")\n",
    "\n",
    "env.close()\n",
    "\n",
    "# # Train the agent\n",
    "# for t in range(1, total_timesteps + 1):\n",
    "#     # Perform one step of the environment\n",
    "#     obs = env.reset()\n",
    "#     done = False\n",
    "#     ep_reward = 0\n",
    "#     ep_length = 0\n",
    "#     while not done:\n",
    "#         action, _ = model.predict(obs, deterministic=True)\n",
    "#         obs, reward, done, info = env.step(action)\n",
    "#         ep_reward += reward\n",
    "#         ep_length += 1\n",
    "\n",
    "#     # Store episode metrics\n",
    "#     mean_rewards.append(ep_reward)\n",
    "#     ep_lengths.append(ep_length)\n",
    "\n",
    "#     # Train the agent on a batch of experiences\n",
    "#     model.learn(total_timesteps=log_interval, reset_num_timesteps=False)\n",
    "\n",
    "#     # Log progress\n",
    "#     if t % log_interval == 0:\n",
    "#         mean_reward = np.mean(mean_rewards[-log_interval:])\n",
    "#         mean_ep_length = np.mean(ep_lengths[-log_interval:])\n",
    "#         print(f\"Step: {t}, Mean Reward: {mean_reward}, Mean Episode Length: {mean_ep_length}\")\n",
    "\n",
    "# # Save the final model\n",
    "# model.save(\"ppo_drone_search\")\n",
    "\n",
    "# # Plot progress\n",
    "# plt.figure(figsize=(10, 5))\n",
    "# plt.subplot(1, 2, 1)\n",
    "# plt.plot(mean_rewards)\n",
    "# plt.xlabel(\"Steps\")\n",
    "# plt.ylabel(\"Mean Reward\")\n",
    "# plt.title(\"Mean Reward vs. Steps\")\n",
    "\n",
    "# plt.subplot(1, 2, 2)\n",
    "# plt.plot(ep_lengths)\n",
    "# plt.xlabel(\"Steps\")\n",
    "# plt.ylabel(\"Episode Length\")\n",
    "# plt.title(\"Episode Length vs. Steps\")\n",
    "\n",
    "# plt.tight_layout()\n",
    "# plt.show()\n",
    "\n",
    "# # Close the environment\n",
    "# env.close()"
   ]
  },
  {
   "cell_type": "code",
   "execution_count": null,
   "metadata": {},
   "outputs": [],
   "source": []
  }
 ],
 "metadata": {
  "kernelspec": {
   "display_name": "Python 3 (ipykernel)",
   "language": "python",
   "name": "python3"
  },
  "language_info": {
   "codemirror_mode": {
    "name": "ipython",
    "version": 3
   },
   "file_extension": ".py",
   "mimetype": "text/x-python",
   "name": "python",
   "nbconvert_exporter": "python",
   "pygments_lexer": "ipython3",
   "version": "3.10.8"
  }
 },
 "nbformat": 4,
 "nbformat_minor": 4
}
