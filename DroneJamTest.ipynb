{
 "cells": [
  {
   "cell_type": "code",
   "execution_count": 1,
   "metadata": {},
   "outputs": [
    {
     "name": "stdout",
     "output_type": "stream",
     "text": [
      "Using cpu device\n",
      "Wrapping the env with a `Monitor` wrapper\n",
      "Wrapping the env in a DummyVecEnv.\n"
     ]
    },
    {
     "name": "stderr",
     "output_type": "stream",
     "text": [
      "C:\\Users\\Samuel Chian\\AppData\\Local\\Programs\\Python\\Python310\\lib\\site-packages\\stable_baselines3\\common\\vec_env\\patch_gym.py:49: UserWarning: You provided an OpenAI Gym environment. We strongly recommend transitioning to Gymnasium environments. Stable-Baselines3 is automatically wrapping your environments in a compatibility layer, which could potentially cause issues.\n",
      "  warnings.warn(\n"
     ]
    },
    {
     "name": "stdout",
     "output_type": "stream",
     "text": [
      "now (0.0, 0.0, 1.0)\n",
      "prev [0 0 1]\n",
      "now (3.474526935153537e-05, 3.476735204458237e-05, 0.9998644066552321)\n",
      "prev (0.0, 0.0, 1.0)\n"
     ]
    },
    {
     "ename": "TypeError",
     "evalue": "unsupported operand type(s) for -: 'tuple' and 'tuple'",
     "output_type": "error",
     "traceback": [
      "\u001b[1;31m---------------------------------------------------------------------------\u001b[0m",
      "\u001b[1;31mTypeError\u001b[0m                                 Traceback (most recent call last)",
      "Cell \u001b[1;32mIn[1], line 28\u001b[0m\n\u001b[0;32m     26\u001b[0m \u001b[38;5;28;01mwhile\u001b[39;00m \u001b[38;5;129;01mnot\u001b[39;00m done:\n\u001b[0;32m     27\u001b[0m     action, _ \u001b[38;5;241m=\u001b[39m model\u001b[38;5;241m.\u001b[39mpredict(obs, deterministic\u001b[38;5;241m=\u001b[39m\u001b[38;5;28;01mTrue\u001b[39;00m)\n\u001b[1;32m---> 28\u001b[0m     obs, reward, done, info \u001b[38;5;241m=\u001b[39m \u001b[43menv\u001b[49m\u001b[38;5;241;43m.\u001b[39;49m\u001b[43mstep\u001b[49m\u001b[43m(\u001b[49m\u001b[43maction\u001b[49m\u001b[43m)\u001b[49m\n\u001b[0;32m     29\u001b[0m     ep_reward \u001b[38;5;241m+\u001b[39m\u001b[38;5;241m=\u001b[39m reward\n\u001b[0;32m     30\u001b[0m     ep_length \u001b[38;5;241m+\u001b[39m\u001b[38;5;241m=\u001b[39m \u001b[38;5;241m1\u001b[39m\n",
      "File \u001b[1;32m~\\DroneJamMapping\\DroneJammingEnv.py:76\u001b[0m, in \u001b[0;36mDroneJammingEnv.step\u001b[1;34m(self, action)\u001b[0m\n\u001b[0;32m     74\u001b[0m \u001b[38;5;28mprint\u001b[39m(\u001b[38;5;124m\"\u001b[39m\u001b[38;5;124mnow\u001b[39m\u001b[38;5;124m\"\u001b[39m,\u001b[38;5;28mself\u001b[39m\u001b[38;5;241m.\u001b[39mdrone_position)\n\u001b[0;32m     75\u001b[0m \u001b[38;5;28mprint\u001b[39m(\u001b[38;5;124m\"\u001b[39m\u001b[38;5;124mprev\u001b[39m\u001b[38;5;124m\"\u001b[39m, \u001b[38;5;28mself\u001b[39m\u001b[38;5;241m.\u001b[39mprev_drone_position)\n\u001b[1;32m---> 76\u001b[0m movement_penalty \u001b[38;5;241m=\u001b[39m np\u001b[38;5;241m.\u001b[39mlinalg\u001b[38;5;241m.\u001b[39mnorm(\u001b[38;5;28;43mself\u001b[39;49m\u001b[38;5;241;43m.\u001b[39;49m\u001b[43mdrone_position\u001b[49m\u001b[43m \u001b[49m\u001b[38;5;241;43m-\u001b[39;49m\u001b[43m \u001b[49m\u001b[38;5;28;43mself\u001b[39;49m\u001b[38;5;241;43m.\u001b[39;49m\u001b[43mprev_drone_position\u001b[49m)\n\u001b[0;32m     78\u001b[0m \u001b[38;5;66;03m# Calculate Rewards\u001b[39;00m\n\u001b[0;32m     79\u001b[0m reward_signal_strength \u001b[38;5;241m=\u001b[39m signal_strength\n",
      "\u001b[1;31mTypeError\u001b[0m: unsupported operand type(s) for -: 'tuple' and 'tuple'"
     ]
    }
   ],
   "source": [
    "from stable_baselines3 import PPO\n",
    "from DroneJammingEnv import DroneJammingEnv\n",
    "import numpy as np\n",
    "\n",
    "# Create the environment\n",
    "env = DroneJammingEnv()\n",
    "\n",
    "# Initialize the PPO agent\n",
    "model = PPO(\"MlpPolicy\", env, verbose=1)\n",
    "\n",
    "# Training parameters\n",
    "total_timesteps = 100\n",
    "log_interval = 5\n",
    "\n",
    "# Lists to store progress\n",
    "mean_rewards = []\n",
    "ep_lengths = []\n",
    "\n",
    "# Train the agent\n",
    "for t in range(1, total_timesteps + 1):\n",
    "    # Perform one step of the environment\n",
    "    obs = env.reset()\n",
    "    done = False\n",
    "    ep_reward = 0\n",
    "    ep_length = 0\n",
    "    while not done:\n",
    "        action, _ = model.predict(obs, deterministic=True)\n",
    "        obs, reward, done, info = env.step(action)\n",
    "        ep_reward += reward\n",
    "        ep_length += 1\n",
    "\n",
    "    # Store episode metrics\n",
    "    mean_rewards.append(ep_reward)\n",
    "    ep_lengths.append(ep_length)\n",
    "\n",
    "    # Train the agent on a batch of experiences\n",
    "    model.learn(total_timesteps=log_interval, reset_num_timesteps=False)\n",
    "\n",
    "    # Log progress\n",
    "    if t % log_interval == 0:\n",
    "        mean_reward = np.mean(mean_rewards[-log_interval:])\n",
    "        mean_ep_length = np.mean(ep_lengths[-log_interval:])\n",
    "        print(f\"Step: {t}, Mean Reward: {mean_reward}, Mean Episode Length: {mean_ep_length}\")\n",
    "\n",
    "# Save the final model\n",
    "model.save(\"ppo_drone_search\")\n",
    "\n",
    "# Plot progress\n",
    "plt.figure(figsize=(10, 5))\n",
    "plt.subplot(1, 2, 1)\n",
    "plt.plot(mean_rewards)\n",
    "plt.xlabel(\"Steps\")\n",
    "plt.ylabel(\"Mean Reward\")\n",
    "plt.title(\"Mean Reward vs. Steps\")\n",
    "\n",
    "plt.subplot(1, 2, 2)\n",
    "plt.plot(ep_lengths)\n",
    "plt.xlabel(\"Steps\")\n",
    "plt.ylabel(\"Episode Length\")\n",
    "plt.title(\"Episode Length vs. Steps\")\n",
    "\n",
    "plt.tight_layout()\n",
    "plt.show()\n",
    "\n",
    "# Close the environment\n",
    "env.close()"
   ]
  },
  {
   "cell_type": "code",
   "execution_count": null,
   "metadata": {},
   "outputs": [],
   "source": [
    "np.linalg.norm(np.array([0, 0, 1]) - np.array([0, 0, 1]))"
   ]
  },
  {
   "cell_type": "code",
   "execution_count": null,
   "metadata": {},
   "outputs": [],
   "source": []
  }
 ],
 "metadata": {
  "kernelspec": {
   "display_name": "Python 3 (ipykernel)",
   "language": "python",
   "name": "python3"
  },
  "language_info": {
   "codemirror_mode": {
    "name": "ipython",
    "version": 3
   },
   "file_extension": ".py",
   "mimetype": "text/x-python",
   "name": "python",
   "nbconvert_exporter": "python",
   "pygments_lexer": "ipython3",
   "version": "3.10.8"
  }
 },
 "nbformat": 4,
 "nbformat_minor": 4
}
